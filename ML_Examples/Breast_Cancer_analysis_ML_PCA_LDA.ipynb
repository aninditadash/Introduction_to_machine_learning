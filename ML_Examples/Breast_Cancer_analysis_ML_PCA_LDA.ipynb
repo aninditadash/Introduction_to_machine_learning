{
 "cells": [
  {
   "cell_type": "markdown",
   "id": "c1227c52-4f2a-44dc-89fd-bd9a39d4e05b",
   "metadata": {},
   "source": [
    "## __Breast Cancer dataset: ML analysis along with using dimensionality reduction techniques__"
   ]
  },
  {
   "cell_type": "markdown",
   "id": "4b81952d-e25c-480b-81de-a7b4b51e0218",
   "metadata": {},
   "source": [
    "https://www.kaggle.com/datasets/reihanenamdari/breast-cancer/data"
   ]
  },
  {
   "cell_type": "markdown",
   "id": "6f3f6acd-74fc-4a65-b5a3-ead0c574d6c8",
   "metadata": {},
   "source": [
    "https://www.kaggle.com/code/bhatnagardaksh/pca-and-lda-implementation/notebook"
   ]
  },
  {
   "cell_type": "code",
   "execution_count": null,
   "id": "59ff39c1-7ca7-4a2b-94bd-2d2cb2dfd35c",
   "metadata": {},
   "outputs": [],
   "source": []
  }
 ],
 "metadata": {
  "kernelspec": {
   "display_name": "Python [conda env:base] *",
   "language": "python",
   "name": "conda-base-py"
  },
  "language_info": {
   "codemirror_mode": {
    "name": "ipython",
    "version": 3
   },
   "file_extension": ".py",
   "mimetype": "text/x-python",
   "name": "python",
   "nbconvert_exporter": "python",
   "pygments_lexer": "ipython3",
   "version": "3.12.7"
  }
 },
 "nbformat": 4,
 "nbformat_minor": 5
}
