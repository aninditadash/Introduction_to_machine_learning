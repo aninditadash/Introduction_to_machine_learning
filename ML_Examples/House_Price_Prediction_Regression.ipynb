{
 "cells": [
  {
   "cell_type": "markdown",
   "id": "859777dd-c226-480c-af57-87b5f134a30e",
   "metadata": {},
   "source": [
    "## __House Sales dataset: Regression analysis__"
   ]
  },
  {
   "cell_type": "markdown",
   "id": "af5915ef-c7d2-4caa-bf5f-408c7d180a26",
   "metadata": {},
   "source": [
    "https://www.kaggle.com/datasets/harlfoxem/housesalesprediction/data  , https://www.kaggle.com/code/kotaaaaaaa/02-price-prediction"
   ]
  },
  {
   "cell_type": "code",
   "execution_count": null,
   "id": "880839e7-87b0-4bed-85b4-865a11c7c8fc",
   "metadata": {},
   "outputs": [],
   "source": []
  }
 ],
 "metadata": {
  "kernelspec": {
   "display_name": "Python [conda env:base] *",
   "language": "python",
   "name": "conda-base-py"
  },
  "language_info": {
   "codemirror_mode": {
    "name": "ipython",
    "version": 3
   },
   "file_extension": ".py",
   "mimetype": "text/x-python",
   "name": "python",
   "nbconvert_exporter": "python",
   "pygments_lexer": "ipython3",
   "version": "3.12.7"
  }
 },
 "nbformat": 4,
 "nbformat_minor": 5
}
