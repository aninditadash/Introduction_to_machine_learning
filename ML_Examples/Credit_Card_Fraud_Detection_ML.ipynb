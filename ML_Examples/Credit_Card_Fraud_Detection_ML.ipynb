{
 "cells": [
  {
   "cell_type": "markdown",
   "id": "7d1efaec-7337-4a45-a122-e74762d0467e",
   "metadata": {},
   "source": [
    "## __Credit Card Fraud Detection Dataset: ML analysis__"
   ]
  },
  {
   "cell_type": "markdown",
   "id": "9708c6be-e5f8-4fa9-8c7c-09317f50ce36",
   "metadata": {},
   "source": [
    "https://www.kaggle.com/datasets/mlg-ulb/creditcardfraud"
   ]
  },
  {
   "cell_type": "code",
   "execution_count": null,
   "id": "c97abd97-4ff5-44c7-9424-b95a5bf9dc30",
   "metadata": {},
   "outputs": [],
   "source": []
  }
 ],
 "metadata": {
  "kernelspec": {
   "display_name": "Python [conda env:base] *",
   "language": "python",
   "name": "conda-base-py"
  },
  "language_info": {
   "codemirror_mode": {
    "name": "ipython",
    "version": 3
   },
   "file_extension": ".py",
   "mimetype": "text/x-python",
   "name": "python",
   "nbconvert_exporter": "python",
   "pygments_lexer": "ipython3",
   "version": "3.12.7"
  }
 },
 "nbformat": 4,
 "nbformat_minor": 5
}
