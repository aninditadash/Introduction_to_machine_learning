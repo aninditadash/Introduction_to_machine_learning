{
 "cells": [
  {
   "cell_type": "markdown",
   "id": "afe0282e-73e5-46bd-8e91-9af6c887a6ef",
   "metadata": {},
   "source": [
    "## __Census Income dataset: ML analysis__"
   ]
  },
  {
   "cell_type": "markdown",
   "id": "b20acee0-6cb9-4a39-82fe-3e03323cd8e6",
   "metadata": {},
   "source": [
    "https://www.kaggle.com/datasets/tawfikelmetwally/census-income-dataset/data"
   ]
  },
  {
   "cell_type": "code",
   "execution_count": null,
   "id": "14e5dfe3-0d44-4100-a53d-c95ccfadcf8e",
   "metadata": {},
   "outputs": [],
   "source": []
  }
 ],
 "metadata": {
  "kernelspec": {
   "display_name": "Python [conda env:base] *",
   "language": "python",
   "name": "conda-base-py"
  },
  "language_info": {
   "codemirror_mode": {
    "name": "ipython",
    "version": 3
   },
   "file_extension": ".py",
   "mimetype": "text/x-python",
   "name": "python",
   "nbconvert_exporter": "python",
   "pygments_lexer": "ipython3",
   "version": "3.12.7"
  }
 },
 "nbformat": 4,
 "nbformat_minor": 5
}
