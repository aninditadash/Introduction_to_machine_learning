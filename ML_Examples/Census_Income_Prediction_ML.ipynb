{
 "cells": [
  {
   "cell_type": "markdown",
   "id": "afe0282e-73e5-46bd-8e91-9af6c887a6ef",
   "metadata": {},
   "source": [
    "## __Census Income dataset: ML analysis__"
   ]
  },
  {
   "cell_type": "markdown",
   "id": "b20acee0-6cb9-4a39-82fe-3e03323cd8e6",
   "metadata": {},
   "source": [
    "https://www.kaggle.com/datasets/tawfikelmetwally/census-income-dataset/data"
   ]
  },
  {
   "cell_type": "markdown",
   "id": "154c4a2f-e86f-4ea7-904b-82be3030d334",
   "metadata": {},
   "source": [
    "### __Dataset Description__"
   ]
  },
  {
   "cell_type": "markdown",
   "id": "553c1c33-8374-44b4-b710-6a2fffa90710",
   "metadata": {},
   "source": [
    "This intermediate level data set was extracted from the census bureau database. There are 48842 instances of data set, mix of continuous and discrete (train=32561, test=16281). The data set has 15 attribute which include age, sex, education level and other relevant details of a person.The Following description gives more details on this data set:\n",
    "\n",
    "- age: the age of an individual.\n",
    "- workclass: The type of work or employment of an individual. It can have the following categories:\n",
    "    - Private: Working in the private sector.\n",
    "    - Self-emp-not-inc: Self-employed individuals who are not incorporated.\n",
    "    - Self-emp-inc: Self-employed individuals who are incorporated.\n",
    "    - Federal-gov: Working for the federal government.\n",
    "    - Local-gov: Working for the local government.\n",
    "    - State-gov: Working for the state government.\n",
    "    - Without-pay: Not working and without pay.\n",
    "    - Never-worked: Never worked before.\n",
    "- Final Weight: The weights on the CPS files are controlled to independent estimates of the civilian noninstitutional population of the US. These are prepared monthly for us by Population Division here at the Census Bureau. We use 3 sets of controls.\n",
    "These are:\n",
    "    - A single cell estimate of the population 16+ for each state.\n",
    "    - Controls for Hispanic Origin by age and sex.\n",
    "    - Controls by Race, age and sex.\n",
    "- education: The highest level of education completed.\n",
    "- education-num: The number of years of education completed.\n",
    "- marital-status: The marital status.\n",
    "- occupation: Type of work performed by an individual.\n",
    "- relationship: The relationship status.\n",
    "- race: The race of an individual.\n",
    "- sex: The gender of an individual.\n",
    "- capital-gain: The amount of capital gain (financial profit).\n",
    "- capital-loss: The amount of capital loss an individual has incurred.\n",
    "- hours-per-week: The number of hours works per week.\n",
    "- native-country: The country of origin or the native country.\n",
    "- income: The income level of an individual and serves as the target variable. It indicates whether the income is greater than `$50,000` or less than or equal to `$50,000`, denoted as (>50K, <=50K).\n",
    "\n"
   ]
  },
  {
   "cell_type": "markdown",
   "id": "9e1cfbe2-1584-4098-9caa-8397c504eb36",
   "metadata": {},
   "source": []
  },
  {
   "cell_type": "markdown",
   "id": "72b276de-c032-4922-bf0c-73c951226a6f",
   "metadata": {},
   "source": []
  },
  {
   "cell_type": "markdown",
   "id": "b5b63383-9f6e-414b-9873-a8d08c2998e1",
   "metadata": {},
   "source": []
  },
  {
   "cell_type": "markdown",
   "id": "96cc3202-03bf-41fd-805d-3db917524e85",
   "metadata": {},
   "source": []
  }
 ],
 "metadata": {
  "kernelspec": {
   "display_name": "Python [conda env:base] *",
   "language": "python",
   "name": "conda-base-py"
  },
  "language_info": {
   "codemirror_mode": {
    "name": "ipython",
    "version": 3
   },
   "file_extension": ".py",
   "mimetype": "text/x-python",
   "name": "python",
   "nbconvert_exporter": "python",
   "pygments_lexer": "ipython3",
   "version": "3.12.7"
  }
 },
 "nbformat": 4,
 "nbformat_minor": 5
}
