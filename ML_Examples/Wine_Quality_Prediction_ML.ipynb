{
 "cells": [
  {
   "cell_type": "markdown",
   "id": "a30fcf2d-5cd4-43ae-80ef-710dbbf64ed3",
   "metadata": {},
   "source": [
    "## __Wine Quality Dataset: ML analysis__"
   ]
  },
  {
   "cell_type": "markdown",
   "id": "025cd88e-e408-4adf-932d-61fac054a491",
   "metadata": {},
   "source": [
    "https://www.kaggle.com/datasets/yasserh/wine-quality-dataset"
   ]
  },
  {
   "cell_type": "code",
   "execution_count": null,
   "id": "603e49a6-0dac-4c83-9bec-bce5413cabb7",
   "metadata": {},
   "outputs": [],
   "source": []
  }
 ],
 "metadata": {
  "kernelspec": {
   "display_name": "Python [conda env:base] *",
   "language": "python",
   "name": "conda-base-py"
  },
  "language_info": {
   "codemirror_mode": {
    "name": "ipython",
    "version": 3
   },
   "file_extension": ".py",
   "mimetype": "text/x-python",
   "name": "python",
   "nbconvert_exporter": "python",
   "pygments_lexer": "ipython3",
   "version": "3.12.7"
  }
 },
 "nbformat": 4,
 "nbformat_minor": 5
}
