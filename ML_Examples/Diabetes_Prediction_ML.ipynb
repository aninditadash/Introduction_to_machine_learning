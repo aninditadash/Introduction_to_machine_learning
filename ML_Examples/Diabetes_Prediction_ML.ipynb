{
 "cells": [
  {
   "cell_type": "markdown",
   "id": "951dcc81-ef31-474b-8d5b-de6f08631620",
   "metadata": {},
   "source": [
    "## __Diabetes Dataset: ML analysis__"
   ]
  },
  {
   "cell_type": "markdown",
   "id": "220090f2-8fe3-41ee-997a-6abb97d2ffef",
   "metadata": {},
   "source": [
    "https://www.kaggle.com/datasets/akshaydattatraykhare/diabetes-dataset"
   ]
  },
  {
   "cell_type": "code",
   "execution_count": null,
   "id": "5841fdad-f8c7-4e94-90e3-98ae5f65141d",
   "metadata": {},
   "outputs": [],
   "source": []
  }
 ],
 "metadata": {
  "kernelspec": {
   "display_name": "Python [conda env:base] *",
   "language": "python",
   "name": "conda-base-py"
  },
  "language_info": {
   "codemirror_mode": {
    "name": "ipython",
    "version": 3
   },
   "file_extension": ".py",
   "mimetype": "text/x-python",
   "name": "python",
   "nbconvert_exporter": "python",
   "pygments_lexer": "ipython3",
   "version": "3.12.7"
  }
 },
 "nbformat": 4,
 "nbformat_minor": 5
}
