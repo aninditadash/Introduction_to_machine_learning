{
 "cells": [
  {
   "cell_type": "markdown",
   "id": "5a7befb2-845a-425f-bede-16278c9a56e7",
   "metadata": {},
   "source": [
    "## __Dropout and Success: Student Data Analysis__\n",
    "\n",
    "Exploring the Impact of Dropout Rates on Student Success.\n",
    "\n",
    "https://www.kaggle.com/datasets/marouandaghmoumi/dropout-and-success-student-data-analysis"
   ]
  },
  {
   "cell_type": "markdown",
   "id": "7196b2ac-bfa3-4715-84a2-13fd7a62e715",
   "metadata": {},
   "source": [
    "### __Dataset Description__"
   ]
  },
  {
   "cell_type": "markdown",
   "id": "1d4261f6-ab37-4a4b-8cbe-9244a4075188",
   "metadata": {},
   "source": [
    "This dataset was created from a higher education institution (acquired from several disjoint databases) related to students enrolled in different undergraduate degrees, such as agronomy, design, education, nursing, journalism, management, social service, and technologies. The dataset includes information known at the time of student enrollment (academic path, demographics, and social-economic factors) and the students' academic performance at the end of the first and second semesters. The data is used to build classification models to predict students' dropout and academic sucess. The problem is formulated as a three category classification task, in which there is a strong imbalance towards one of the classes.\n",
    "\n",
    "The dataset includes information known at the time of student enrollment – academic path, demographics, and social-economic factors:\n",
    "\n",
    "- Marital status: Categorical variable indicating the marital status of the individual.\n",
    "- Application mode: Categorical variable indicating the mode of application.\n",
    "- Application order: Numeric variable indicating the order of application.\n",
    "- Course: Categorical variable indicating the chosen course.\n",
    "- evening attendance: Binary variable indicating whether the individual attends classes during the daytime or evening.\n",
    "- Previous qualification: Numeric variable indicating the level of the previous qualification.\n",
    "- Nationality: Categorical variable indicating the nationality of the individual.\n",
    "- Mother's qualification: Numeric variable indicating the level of the mother's qualification.\n",
    "- Father's qualification: Numeric variable indicating the level of the father's qualification.\n",
    "- Mother's occupation: Categorical variable indicating the mother's occupation.\n",
    "- Father's occupation: Categorical variable indicating the father's occupation.\n",
    "- Displaced: Binary variable indicating whether the individual has been displaced (1 – yes 0 – no).\n",
    "- Educational special needs: Binary variable indicating whether the individual has educational special needs (1 for yes, 0 for no).\n",
    "- Debtor: Binary variable indicating whether the individual is a debtor (1 for yes, 0 for no).\n",
    "- Tuition fees up to date: Binary variable indicating whether the tuition fees are up to date (1 for yes, 0 for no).\n",
    "- Gender: Binary variable indicating the gender of the individual (1 for male, 0 for female).\n",
    "- Scholarship holder: Binary variable indicating whether the individual holds a scholarship (1 for yes, 0 for no).\n",
    "- Age at enrollment: Numeric variable indicating the age of the individual at the time of enrollment.\n",
    "- International: Binary variable indicating whether the individual is international (1 for yes, 0 for no).\n",
    "- Curricular units 1st sem (credited): Numeric variable indicating the number of credited curricular units in the 1st semester.\n",
    "- Curricular units 1st sem (enrolled): Numeric variable indicating the number of enrolled curricular units in the 1st semester.\n",
    "- Curricular units 1st sem (evaluations): Numeric variable indicating the number of evaluations for curricular units in the 1st semester.\n",
    "- Curricular units 1st sem (approved): Numeric variable indicating the number of approved curricular units in the 1st semester.\n",
    "- Curricular units 1st sem (grade): Numeric variable indicating the average grade for curricular units in the 1st semester.\n",
    "- Curricular units 1st sem (without evaluations): Numeric variable indicating the number of curricular units in the 1st semester without evaluations.\n",
    "- Curricular units 2nd sem (credited): Numeric variable indicating the number of credited curricular units in the 2nd semester.\n",
    "- Curricular units 2nd sem (enrolled): Numeric variable indicating the number of enrolled curricular units in the 2nd semester.\n",
    "- Curricular units 2nd sem (evaluations): Numeric variable indicating the number of evaluations for curricular units in the 2nd semester.\n",
    "- Curricular units 2nd sem (approved): Numeric variable indicating the number of approved curricular units in the 2nd semester.\n",
    "- Curricular units 2nd sem (grade): Numeric variable indicating the average grade for curricular units in the 2nd semester.\n",
    "- Curricular units 2nd sem (without evaluations): Numeric variable indicating the number of curricular units in the 2nd semester without evaluations.\n",
    "- Unemployment rate: variable indicating the unemployment rate(Unemployment rate (%)).\n",
    "- Inflation rate: Numeric variable indicating the inflation rate(Inflation rate (%)).\n",
    "- GDP: Numeric variable indicating the Gross Domestic Product.\n",
    "- output: Categorical variable indicating the target variable (e.g., Dropout, Graduate, Enrolled)."
   ]
  },
  {
   "cell_type": "markdown",
   "id": "dcfd8393-1817-4062-a84d-03fc22582180",
   "metadata": {},
   "source": []
  },
  {
   "cell_type": "markdown",
   "id": "24f47360-9bc5-451e-9abc-ac2ab1595014",
   "metadata": {},
   "source": []
  }
 ],
 "metadata": {
  "kernelspec": {
   "display_name": "Python [conda env:base] *",
   "language": "python",
   "name": "conda-base-py"
  },
  "language_info": {
   "codemirror_mode": {
    "name": "ipython",
    "version": 3
   },
   "file_extension": ".py",
   "mimetype": "text/x-python",
   "name": "python",
   "nbconvert_exporter": "python",
   "pygments_lexer": "ipython3",
   "version": "3.12.7"
  }
 },
 "nbformat": 4,
 "nbformat_minor": 5
}
