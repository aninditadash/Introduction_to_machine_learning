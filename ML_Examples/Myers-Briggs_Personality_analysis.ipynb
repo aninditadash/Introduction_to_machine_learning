{
 "cells": [
  {
   "cell_type": "markdown",
   "id": "8e09df2e-4b94-4c17-8bcf-d59db388a749",
   "metadata": {},
   "source": [
    "## __(MBTI) Myers-Briggs Personality Type Dataset: ML analysis__"
   ]
  },
  {
   "cell_type": "markdown",
   "id": "9591821b-e671-42fd-9025-d2a9276248f1",
   "metadata": {},
   "source": [
    "https://www.kaggle.com/datasets/datasnaek/mbti-type/data"
   ]
  },
  {
   "cell_type": "code",
   "execution_count": null,
   "id": "036983c3-89b6-4499-89e2-997280d974ed",
   "metadata": {},
   "outputs": [],
   "source": []
  }
 ],
 "metadata": {
  "kernelspec": {
   "display_name": "Python [conda env:base] *",
   "language": "python",
   "name": "conda-base-py"
  },
  "language_info": {
   "codemirror_mode": {
    "name": "ipython",
    "version": 3
   },
   "file_extension": ".py",
   "mimetype": "text/x-python",
   "name": "python",
   "nbconvert_exporter": "python",
   "pygments_lexer": "ipython3",
   "version": "3.12.7"
  }
 },
 "nbformat": 4,
 "nbformat_minor": 5
}
