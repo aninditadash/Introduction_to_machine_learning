{
 "cells": [
  {
   "cell_type": "markdown",
   "metadata": {},
   "source": [
    "https://learn.365datascience.com/courses/linear-algebra-and-feature-selection/solving-quadratic-equations/\n",
    "\n",
    "https://learn.365datascience.com/courses/linear-algebra-and-feature-selection/why-quadratic-equations-are-more-than-just-a-formula/"
   ]
  },
  {
   "cell_type": "code",
   "execution_count": null,
   "metadata": {},
   "outputs": [],
   "source": []
  },
  {
   "cell_type": "code",
   "execution_count": null,
   "metadata": {},
   "outputs": [],
   "source": []
  },
  {
   "cell_type": "code",
   "execution_count": null,
   "metadata": {},
   "outputs": [],
   "source": []
  },
  {
   "cell_type": "code",
   "execution_count": null,
   "metadata": {},
   "outputs": [],
   "source": []
  },
  {
   "cell_type": "code",
   "execution_count": null,
   "metadata": {},
   "outputs": [],
   "source": []
  },
  {
   "cell_type": "markdown",
   "metadata": {
    "id": "NBD_J_4Ro-5e",
    "tags": []
   },
   "source": [
    "# __Linear Algebra__"
   ]
  },
  {
   "cell_type": "markdown",
   "metadata": {},
   "source": [
    "Linear Independence of vectors, Linear Span and Basis vectors\n",
    "\n",
    "Linear combination of vectors\n",
    "\n",
    "A set of vectors is linearly independent if none of the vectors can be written as a linear combination of the others. If one vector can be written as a linear combination of the others, the set is linearly dependent.\n",
    "\n",
    "Linear Independence of vectors - A set consists of linearly independent vectors when none of them are in the linear span of the rest of the vectors.\n",
    "\n",
    "The Linear span of $e_2$ is the set of all vectors multiplied by $e_2$.\n",
    "\n",
    "A set of vectors is linearly dependent if there is a linear combination of them with non-zero coefficients that equals zero.\n",
    "\n",
    "https://learn.365datascience.com/courses/linear-algebra-and-feature-selection/smart-features-smarter-models-how-linear-independence-fuels-ai/\n",
    "\n"
   ]
  },
  {
   "cell_type": "markdown",
   "metadata": {
    "id": "407z4EJno-5i"
   },
   "source": [
    "## __1. Introduction to Linear Algebra__\n",
    "It is a branch of mathematics essential for understanding data science. Despite its vastness, the basic concepts of linear algebra are invaluable to data scientists and machine learning practitioners. Linear algebra is the study of vectors.\n",
    "- An arrow with the same direction often represents it as the quantity and a length proportional to the magnitude of the quantity.\n",
    "- Vectors are ordered lists of finite numbers.\n",
    "- Vectors are the most fundamental mathematical objects in data science."
   ]
  },
  {
   "cell_type": "markdown",
   "metadata": {},
   "source": [
    "In linear algebra, data is often represented using linear equations. Matrices and vectors represent these. They simplify the process of representing large amounts of information.\n",
    "\n",
    "- A matrix consists of rows and columns of numbers, variables, or expressions.\n",
    "- Reducing data dimensions or choosing the right hyperparameters is crucial when building machine learning models.\n",
    "- In cases where complex operations are involved in data science tasks, such as reducing data dimensions or selecting optimal hyperparameters for machine learning models, the use of mathematical notation and formalized concepts from linear algebra can be especially helpful."
   ]
  },
  {
   "cell_type": "markdown",
   "metadata": {
    "id": "LS2DrCYlo-5j"
   },
   "source": [
    "## __2. Scalars and Vectors__\n",
    "\n",
    "__Scalars:__ Measurable quantities, such as length, area, and volume, can be fully determined by specifying only their magnitude.(0-D)\n",
    "\n",
    "__Vectors:__ A vector quantity is a physical quantity that has direction and magnitude. For example, velocity, force, and acceleration require a magnitude and a direction for their description. Geometrically, arrows or directed line segments typically represent vectors. There can be row vectors or column vectors. (1-D) (`m x 1` or `1 x m`)\n",
    "\n",
    "__Matrix__: In linear algebra, a matrix is a collection of vectors, containing `m` rows and `n` columns. `(m x n)`."
   ]
  },
  {
   "cell_type": "markdown",
   "metadata": {},
   "source": [
    "## __3. Tensors__\n",
    "- Scalar has lowest dimensionality which is (1 x 1).\n",
    "- Vector has (m x 1) or (1 x m) dimensionality which each element is a scalar.\n",
    "- Matrices has (m x n) dimensionality which are a collection of vectors.\n",
    "- Scalars, Vectors and Matrices are all tensors of Rank 0, 1 and 2 respectively.\n",
    "- Tensor of Rank 3 has dimensions (k x m x n) which can be seen as a collection of matrices."
   ]
  },
  {
   "cell_type": "markdown",
   "metadata": {},
   "source": [
    "__Vectors when transformed - do not change the direction but only gets scaled are called Eigen vectors and the factor by which they get scaled up are called Eigen values.__"
   ]
  },
  {
   "cell_type": "markdown",
   "metadata": {},
   "source": [
    "## __3. Basis of a Vector Space__\n",
    "\n",
    "Vector Space is a set of vectors than can be added and subtracted together, as well as multiplied by numbers called scalars. \n",
    "\n",
    "Basis of a Vector Space is a set of vectors whose number equals the dimension of that space. The notion of a spaces dimension is determined by its basis. So, basis of a Vector Space is a set of vectors that are linearly independent of each other. Their linear span is the entirety of the vector space. \n",
    "- A basis is a set of vectors that form the vector space.\n",
    "- Any vector in the vector space is in the span of the basis.\n",
    "- This means that in order to obtain any vector from a certain vector space, it is sufficient to know its basis vectors from which we can make a linear combination of them to achieve that. In short, the basis is the smallest set of vectors that generates the vector space.\n",
    "-  For 2-D vectors, $e_1$ and $e_2$ form the basis of a vector space, i.e. they span the whole 2-dimensional space."
   ]
  },
  {
   "cell_type": "markdown",
   "metadata": {},
   "source": [
    "## __4. Vector Operations__\n",
    "Vectors should have the same length to be added or subtracted. Multiplication of vectors is also called __Scaling__.\n",
    "\n",
    "<span><img src=https://labcontent.simplicdn.net/data-content/content-assets/Data_and_AI/ADSP_Images/Lesson_06_Maths_and_Stats/Linear_Algebra/Image_3.png  width=400/>\n",
    "<img src=https://labcontent.simplicdn.net/data-content/content-assets/Data_and_AI/ADSP_Images/Lesson_06_Maths_and_Stats/Linear_Algebra/Image_4.png  width=400/></span>\n",
    "<img src=https://labcontent.simplicdn.net/data-content/content-assets/Data_and_AI/ADSP_Images/Lesson_06_Maths_and_Stats/Linear_Algebra/Image_5.png  width=800/>"
   ]
  },
  {
   "cell_type": "markdown",
   "metadata": {
    "id": "ixp8w_Hdo-5k"
   },
   "source": [
    "- Dot product between 2 vectors always produces a scalar."
   ]
  },
  {
   "cell_type": "markdown",
   "metadata": {
    "id": "6hJvBojwo-5l"
   },
   "source": [
    "### __Example of the Dot and Cross Product of Two Vectors__"
   ]
  },
  {
   "cell_type": "markdown",
   "metadata": {
    "id": "iU689bl5mR30"
   },
   "source": [
    "![link text](https://labcontent.simplicdn.net/data-content/content-assets/Data_and_AI/ADSP_Images/Lesson_05_Data_Visualization/vectora.png)"
   ]
  },
  {
   "cell_type": "markdown",
   "metadata": {
    "id": "Nqhib4XAo-5l"
   },
   "source": [
    "![link text](https://labcontent.simplicdn.net/data-content/content-assets/Data_and_AI/ADSP_Images/Lesson_06_Maths_and_Stats/Linear_Algebra/Image_6.png)"
   ]
  },
  {
   "cell_type": "code",
   "execution_count": 19,
   "metadata": {},
   "outputs": [],
   "source": [
    "import numpy as np"
   ]
  },
  {
   "cell_type": "markdown",
   "metadata": {
    "id": "FofLq4KZo-5l"
   },
   "source": [
    "### __Python Code Snippet for Dot and Cross Product__\n",
    "- The dot product works in any number of dimensions, but the cross product only works in 3D.\n",
    "- The dot product produces a scalar quantity, while the cross product produces a vector quantity.\n",
    "- The dot product measures how much two vectors point in the same direction, while the cross product measures how much two vectors point in different directions.\n",
    "- The cross product is also known as the vector product, and the dot product is also known as the scalar product."
   ]
  },
  {
   "cell_type": "markdown",
   "metadata": {
    "id": "80PYIKE-o-5l"
   },
   "source": [
    "Let's see the code for the dot product."
   ]
  },
  {
   "cell_type": "code",
   "execution_count": 146,
   "metadata": {
    "executionInfo": {
     "elapsed": 6,
     "status": "ok",
     "timestamp": 1716225904915,
     "user": {
      "displayName": "Ashish Jangid",
      "userId": "15170006874299393728"
     },
     "user_tz": -330
    },
    "id": "VdEHyy8Qo-5l"
   },
   "outputs": [],
   "source": [
    "# Define a function to calculate dot product of two matrices\n",
    "\n",
    "def dot_product(x,y):\n",
    "\n",
    "    # Ensure that both the vectors have same length\n",
    "    return sum(i*j for i,j in zip(x,y))"
   ]
  },
  {
   "cell_type": "code",
   "execution_count": 148,
   "metadata": {
    "colab": {
     "base_uri": "https://localhost:8080/"
    },
    "executionInfo": {
     "elapsed": 6,
     "status": "ok",
     "timestamp": 1716225909782,
     "user": {
      "displayName": "Ashish Jangid",
      "userId": "15170006874299393728"
     },
     "user_tz": -330
    },
    "id": "fC9NEoE8o-5m",
    "outputId": "4652b582-c344-4d3b-bb2c-8fcc9e8ab50c"
   },
   "outputs": [
    {
     "data": {
      "text/plain": [
       "5"
      ]
     },
     "execution_count": 148,
     "metadata": {},
     "output_type": "execute_result"
    }
   ],
   "source": [
    "# Dot product of 1-D arrays\n",
    "\n",
    "dot_product([3,2,6],[1,7,-2])"
   ]
  },
  {
   "cell_type": "markdown",
   "metadata": {
    "id": "oglIv2PHo-5n"
   },
   "source": [
    "<b>Note: </b>In the above code, the zip function ensures both vectors have the same length.\n",
    "\n",
    "\n",
    "When dot_product([3,2,6],[1,7,-2]) is called, the output will be 5."
   ]
  },
  {
   "cell_type": "markdown",
   "metadata": {},
   "source": [
    "#### __Using Numpy to find the Dot Product__"
   ]
  },
  {
   "cell_type": "code",
   "execution_count": 301,
   "metadata": {},
   "outputs": [],
   "source": [
    "# Dot product of 1-D arrays\n",
    "\n",
    "A = [3,2,6]\n",
    "B = [1,7,-2]"
   ]
  },
  {
   "cell_type": "code",
   "execution_count": 303,
   "metadata": {},
   "outputs": [
    {
     "data": {
      "text/plain": [
       "5"
      ]
     },
     "execution_count": 303,
     "metadata": {},
     "output_type": "execute_result"
    }
   ],
   "source": [
    "dot_product = np.dot(A,B)\n",
    "dot_product"
   ]
  },
  {
   "cell_type": "code",
   "execution_count": 170,
   "metadata": {},
   "outputs": [],
   "source": [
    "# Dot product of 2-D arrays or matrices\n",
    "\n",
    "A = np.array([[2,6,-1],[2,8,0],[9,8,7]])\n",
    "B = np.array([[1,2,3],[4,5,6],[7,8,9]])"
   ]
  },
  {
   "cell_type": "code",
   "execution_count": 289,
   "metadata": {},
   "outputs": [
    {
     "data": {
      "text/plain": [
       "array([[ 2,  6, -1],\n",
       "       [ 2,  8,  0],\n",
       "       [ 9,  8,  7]])"
      ]
     },
     "execution_count": 289,
     "metadata": {},
     "output_type": "execute_result"
    }
   ],
   "source": [
    "A"
   ]
  },
  {
   "cell_type": "code",
   "execution_count": 172,
   "metadata": {},
   "outputs": [
    {
     "data": {
      "text/plain": [
       "array([[ 19,  26,  33],\n",
       "       [ 34,  44,  54],\n",
       "       [ 90, 114, 138]])"
      ]
     },
     "execution_count": 172,
     "metadata": {},
     "output_type": "execute_result"
    }
   ],
   "source": [
    "matrix_dot = np.dot(A,B)\n",
    "matrix_dot"
   ]
  },
  {
   "cell_type": "code",
   "execution_count": 120,
   "metadata": {
    "colab": {
     "base_uri": "https://localhost:8080/"
    },
    "executionInfo": {
     "elapsed": 5,
     "status": "ok",
     "timestamp": 1716225915499,
     "user": {
      "displayName": "Ashish Jangid",
      "userId": "15170006874299393728"
     },
     "user_tz": -330
    },
    "id": "mJpzORe2o-5o",
    "outputId": "0c8dbfb4-a1a4-4f2b-c2ee-e2b97f02bb6b"
   },
   "outputs": [],
   "source": [
    "# Define a function to calculate cross product of two vectors\n",
    "\n",
    "def cross_product(u, v):\n",
    "    q0 = u[1]*v[2] - u[2]*v[1]\n",
    "    q1 = u[2]*v[0] - u[0]*v[2]\n",
    "    q2 = u[0]*v[1] - u[1]*v[0]\n",
    "    return [q0, q1, q2]"
   ]
  },
  {
   "cell_type": "code",
   "execution_count": 122,
   "metadata": {},
   "outputs": [],
   "source": [
    "# Define vectors of same length\n",
    "\n",
    "u = [1, 4, 5]\n",
    "v = [2, -3, 6]"
   ]
  },
  {
   "cell_type": "code",
   "execution_count": 124,
   "metadata": {},
   "outputs": [
    {
     "data": {
      "text/plain": [
       "[39, 4, -11]"
      ]
     },
     "execution_count": 124,
     "metadata": {},
     "output_type": "execute_result"
    }
   ],
   "source": [
    "# Calculate the cross product\n",
    "cross_product_result = cross_product(u, v)\n",
    "cross_product_result"
   ]
  },
  {
   "cell_type": "markdown",
   "metadata": {},
   "source": [
    "#### __Using Numpy to find the Cross Product__"
   ]
  },
  {
   "cell_type": "code",
   "execution_count": 159,
   "metadata": {},
   "outputs": [
    {
     "name": "stdout",
     "output_type": "stream",
     "text": [
      "[ 39   4 -11]\n",
      "(3,)\n"
     ]
    }
   ],
   "source": [
    "# Cross product of 1-D arrays\n",
    "\n",
    "cross_product = np.cross(u, v)\n",
    "print(cross_product)\n",
    "print(cross_product.shape)"
   ]
  },
  {
   "cell_type": "code",
   "execution_count": 184,
   "metadata": {},
   "outputs": [
    {
     "data": {
      "text/plain": [
       "array([-46,  12,  19])"
      ]
     },
     "execution_count": 184,
     "metadata": {},
     "output_type": "execute_result"
    }
   ],
   "source": [
    "A = [3,2,6]\n",
    "B = [1,7,-2]\n",
    "\n",
    "cross_product = np.cross(A, B)\n",
    "cross_product"
   ]
  },
  {
   "cell_type": "code",
   "execution_count": 176,
   "metadata": {},
   "outputs": [],
   "source": [
    "# Cross product of 2-D arrays or matrices\n",
    "\n",
    "A = np.array([[2,6,-1],[2,8,0],[9,8,7]])\n",
    "B = np.array([[1,2,3],[4,5,6],[7,8,9]])"
   ]
  },
  {
   "cell_type": "code",
   "execution_count": 178,
   "metadata": {},
   "outputs": [
    {
     "data": {
      "text/plain": [
       "array([[ 20,  -7,  -2],\n",
       "       [ 48, -12, -22],\n",
       "       [ 16, -32,  16]])"
      ]
     },
     "execution_count": 178,
     "metadata": {},
     "output_type": "execute_result"
    }
   ],
   "source": [
    "cross_product = np.cross(A, B)\n",
    "cross_product"
   ]
  },
  {
   "cell_type": "markdown",
   "metadata": {
    "id": "XYcn2ajro-5o"
   },
   "source": [
    "## __4. Norm of a Vector__"
   ]
  },
  {
   "cell_type": "markdown",
   "metadata": {
    "id": "2d1PUxsUo-5o"
   },
   "source": [
    "The norm of a vector, often referred to as the vector's magnitude or length, is a measure of its length from the origin in Euclidean space.\n",
    "\n",
    "The most commonly used norm is the Euclidean norm, which is defined as:\n",
    "\n",
    "![link text](https://labcontent.simplicdn.net/data-content/content-assets/Data_and_AI/ADSP_Images/Lesson_06_Maths_and_Stats/Linear_Algebra/Image_7.png)\n",
    "\n",
    "\n",
    "This is essentially the distance of the point defined by the vector from the origin (0, 0, ..., 0) in\n",
    "n-dimensional space."
   ]
  },
  {
   "cell_type": "markdown",
   "metadata": {
    "id": "34NuW0aUo-5o"
   },
   "source": [
    "**Example:** <br>\n",
    "A numerical example of the norm of a vector:\n",
    "\n",
    "\n",
    "![link text](https://labcontent.simplicdn.net/data-content/content-assets/Data_and_AI/ADSP_Images/Lesson_06_Maths_and_Stats/Linear_Algebra/Image_8.png)"
   ]
  },
  {
   "cell_type": "markdown",
   "metadata": {
    "id": "pMfcleCeo-5o"
   },
   "source": [
    "### __Python Code to Find the Norm of a Vector__"
   ]
  },
  {
   "cell_type": "markdown",
   "metadata": {
    "id": "92sv9Q1ko-5o"
   },
   "source": [
    " The Python code for finding the norm of a vector is as follows:"
   ]
  },
  {
   "cell_type": "code",
   "execution_count": 31,
   "metadata": {
    "executionInfo": {
     "elapsed": 681,
     "status": "ok",
     "timestamp": 1716225922771,
     "user": {
      "displayName": "Ashish Jangid",
      "userId": "15170006874299393728"
     },
     "user_tz": -330
    },
    "id": "wtLTFaL7o-5p"
   },
   "outputs": [],
   "source": [
    "# Define vector\n",
    "v = [-1, -2, 3, 4, 5]"
   ]
  },
  {
   "cell_type": "code",
   "execution_count": 32,
   "metadata": {
    "executionInfo": {
     "elapsed": 4,
     "status": "ok",
     "timestamp": 1716225925169,
     "user": {
      "displayName": "Ashish Jangid",
      "userId": "15170006874299393728"
     },
     "user_tz": -330
    },
    "id": "bRio34Tfo-5p"
   },
   "outputs": [],
   "source": [
    "# Define function to calculate norm of a vector\n",
    "import math\n",
    "def norm_vector(v):\n",
    "    dot_product = sum(i*i for i in v)\n",
    "    return math.sqrt(dot_product)"
   ]
  },
  {
   "cell_type": "code",
   "execution_count": 33,
   "metadata": {
    "colab": {
     "base_uri": "https://localhost:8080/"
    },
    "executionInfo": {
     "elapsed": 3,
     "status": "ok",
     "timestamp": 1716225926974,
     "user": {
      "displayName": "Ashish Jangid",
      "userId": "15170006874299393728"
     },
     "user_tz": -330
    },
    "id": "EoMT81V5o-5p",
    "outputId": "6f31355d-61c2-4403-8119-b2082a4e6a20"
   },
   "outputs": [
    {
     "data": {
      "text/plain": [
       "7.416198487095663"
      ]
     },
     "execution_count": 33,
     "metadata": {},
     "output_type": "execute_result"
    }
   ],
   "source": [
    "# Call the function\n",
    "norm_vector(v)"
   ]
  },
  {
   "cell_type": "markdown",
   "metadata": {},
   "source": [
    "#### __Using Numpy to find Norm of a Vector__"
   ]
  },
  {
   "cell_type": "code",
   "execution_count": 35,
   "metadata": {},
   "outputs": [
    {
     "data": {
      "text/plain": [
       "7.416198487095663"
      ]
     },
     "execution_count": 35,
     "metadata": {},
     "output_type": "execute_result"
    }
   ],
   "source": [
    "np.linalg.norm(v)"
   ]
  },
  {
   "cell_type": "code",
   "execution_count": 36,
   "metadata": {},
   "outputs": [
    {
     "data": {
      "text/plain": [
       "[-1, -2, 3, 4, 5]"
      ]
     },
     "execution_count": 36,
     "metadata": {},
     "output_type": "execute_result"
    }
   ],
   "source": [
    "v1 = np.array([ 8,1])\n",
    "v"
   ]
  },
  {
   "cell_type": "code",
   "execution_count": 37,
   "metadata": {},
   "outputs": [
    {
     "data": {
      "text/plain": [
       "8.06225774829855"
      ]
     },
     "execution_count": 37,
     "metadata": {},
     "output_type": "execute_result"
    }
   ],
   "source": [
    "np.linalg.norm(v1)"
   ]
  },
  {
   "cell_type": "markdown",
   "metadata": {
    "id": "5dhFeTwqo-5p"
   },
   "source": [
    "## __6. Matrix and Matrix Operations__\n"
   ]
  },
  {
   "cell_type": "markdown",
   "metadata": {
    "id": "olrSsxuEo-5p"
   },
   "source": [
    "A matrix is a rectangular array of numbers or expressions, arranged in columns and rows. It is used to represent\n",
    "a mathematical object or a property of the object.\n",
    "\n",
    "![matrixex.PNG](https://s3.us-east-1.amazonaws.com/static2.simplilearn.com/lms/testpaper_images/ADSP/Advanced_Statistics/LinearRegression/matrixex.PNG)\n"
   ]
  },
  {
   "cell_type": "markdown",
   "metadata": {
    "id": "itL3Gguoo-5p"
   },
   "source": [
    "If X[aij] and Y[bij] are $ m\\times n $ matrices, their sum X+Y is an $ m\\times n $ matrix obtained by adding the corresponding elements.\n",
    "\n",
    "![additionordwr.PNG](https://s3.us-east-1.amazonaws.com/static2.simplilearn.com/lms/testpaper_images/ADSP/Advanced_Statistics/LinearRegression/additionordwr.PNG)\n"
   ]
  },
  {
   "cell_type": "markdown",
   "metadata": {
    "id": "xQwPcnx7o-5q"
   },
   "source": [
    "#### __Example: Matrix Addition of 3 x 3 Matrices__\n",
    "\n"
   ]
  },
  {
   "cell_type": "markdown",
   "metadata": {
    "id": "XvZFieWVo-5q"
   },
   "source": [
    "![matrixexampleadd.PNG](https://s3.us-east-1.amazonaws.com/static2.simplilearn.com/lms/testpaper_images/ADSP/Advanced_Statistics/LinearRegression/matrixexampleadd.PNG)"
   ]
  },
  {
   "cell_type": "markdown",
   "metadata": {
    "id": "GBUV5hGio-5q"
   },
   "source": [
    "### __Python Implementation for the Addition of Two Matrices with Same Order__"
   ]
  },
  {
   "cell_type": "code",
   "execution_count": 44,
   "metadata": {
    "executionInfo": {
     "elapsed": 496,
     "status": "ok",
     "timestamp": 1716225933872,
     "user": {
      "displayName": "Ashish Jangid",
      "userId": "15170006874299393728"
     },
     "user_tz": -330
    },
    "id": "kZpub-JBo-5q"
   },
   "outputs": [],
   "source": [
    "# Define a function to add matrices\n",
    "\n",
    "def matrix_addition(x,y):\n",
    "    xrows = len(x)\n",
    "    xcols = len(x[0])\n",
    "    yrows = len(y)\n",
    "    ycols= len(y[0])\n",
    "    if xrows!=yrows or xcols!=ycols:\n",
    "        print(\"Sum is not defined as the matrices have different orders\")\n",
    "    else:\n",
    "        result=[[0 for i in range(xcols)] for i in range(xrows)]\n",
    "        for i in range(xrows):\n",
    "            for j in range(xcols):\n",
    "                result[i][j] = matrix_X[i][j]+matrix_Y[i][j]\n",
    "        return result"
   ]
  },
  {
   "cell_type": "code",
   "execution_count": 63,
   "metadata": {
    "colab": {
     "base_uri": "https://localhost:8080/"
    },
    "executionInfo": {
     "elapsed": 27388,
     "status": "ok",
     "timestamp": 1716226087647,
     "user": {
      "displayName": "Ashish Jangid",
      "userId": "15170006874299393728"
     },
     "user_tz": -330
    },
    "id": "rSXS8M5Qo-5q",
    "outputId": "39d8aeef-98f4-4f69-df22-bb3d3eefd182"
   },
   "outputs": [
    {
     "name": "stdout",
     "output_type": "stream",
     "text": [
      "Enter the rows and columns of first matrix\n"
     ]
    },
    {
     "name": "stdin",
     "output_type": "stream",
     "text": [
      "Enter the number of rows :  2\n",
      "Enter the number of columns:  2\n"
     ]
    }
   ],
   "source": [
    "# Take input from the user for first matrix\n",
    "\n",
    "print(\"Enter the rows and columns of first matrix\")\n",
    "rows1 = int(input(\"Enter the number of rows : \" ))\n",
    "column1 = int(input(\"Enter the number of columns: \"))"
   ]
  },
  {
   "cell_type": "code",
   "execution_count": 67,
   "metadata": {},
   "outputs": [
    {
     "name": "stdout",
     "output_type": "stream",
     "text": [
      "Enter the elements of first Matrix:\n"
     ]
    },
    {
     "name": "stdin",
     "output_type": "stream",
     "text": [
      " 1\n",
      " 2\n",
      " 3\n",
      " 4\n"
     ]
    },
    {
     "name": "stdout",
     "output_type": "stream",
     "text": [
      "First matrix is: \n",
      "[1, 2]\n",
      "[3, 4]\n",
      "Enter the rows and columns of second matrix\n"
     ]
    },
    {
     "name": "stdin",
     "output_type": "stream",
     "text": [
      "Enter the number of rows :  2\n",
      "Enter the number of columns:  2\n"
     ]
    }
   ],
   "source": [
    "print(\"Enter the elements of first Matrix:\")\n",
    "matrix_X= [[int(input()) for i in range(column1)] for i in range(rows1)]\n",
    "print(\"First matrix is: \")\n",
    "for n in matrix_X:\n",
    "    print(n)\n"
   ]
  },
  {
   "cell_type": "code",
   "execution_count": null,
   "metadata": {},
   "outputs": [],
   "source": [
    "# Take input from the user for second matrix\n",
    "\n",
    "print(\"Enter the rows and columns of second matrix\")\n",
    "rows2 = int(input(\"Enter the number of rows : \" ))\n",
    "column2 = int(input(\"Enter the number of columns: \"))"
   ]
  },
  {
   "cell_type": "code",
   "execution_count": 69,
   "metadata": {},
   "outputs": [
    {
     "name": "stdout",
     "output_type": "stream",
     "text": [
      "Enter the elements of second matrix:\n"
     ]
    },
    {
     "name": "stdin",
     "output_type": "stream",
     "text": [
      " 5\n",
      " 6\n",
      " 7\n",
      " 8\n"
     ]
    },
    {
     "name": "stdout",
     "output_type": "stream",
     "text": [
      "[5, 6]\n",
      "[7, 8]\n"
     ]
    }
   ],
   "source": [
    "print(\"Enter the elements of second matrix:\")\n",
    "matrix_Y= [[int(input()) for i in range(column2)] for i in range(rows2)]\n",
    "for n in matrix_Y:\n",
    "    print(n)"
   ]
  },
  {
   "cell_type": "code",
   "execution_count": 71,
   "metadata": {
    "colab": {
     "base_uri": "https://localhost:8080/"
    },
    "executionInfo": {
     "elapsed": 393,
     "status": "ok",
     "timestamp": 1716226095293,
     "user": {
      "displayName": "Ashish Jangid",
      "userId": "15170006874299393728"
     },
     "user_tz": -330
    },
    "id": "dLJQOz0io-5r",
    "outputId": "3a83709b-63b5-4826-813c-a9ae991c59fa"
   },
   "outputs": [
    {
     "data": {
      "text/plain": [
       "[[6, 8], [10, 12]]"
      ]
     },
     "execution_count": 71,
     "metadata": {},
     "output_type": "execute_result"
    }
   ],
   "source": [
    "# Return the value of function\n",
    "matrix_addition(matrix_X,matrix_Y)"
   ]
  },
  {
   "cell_type": "markdown",
   "metadata": {
    "id": "xhMjszswo-5r"
   },
   "source": [
    "The code takes two matrices of the same order and adds them. If the matrices are of a different order, it prints an error code, indicating the same."
   ]
  },
  {
   "cell_type": "markdown",
   "metadata": {
    "id": "shJZZp-1o-5s",
    "jp-MarkdownHeadingCollapsed": true
   },
   "source": [
    "## __7. Scalar Multiplication__"
   ]
  },
  {
   "cell_type": "markdown",
   "metadata": {
    "id": "vDxZqY1Xo-5s"
   },
   "source": [
    "Scalar multiplication of a matrix refers to each element of the matrix being multiplied by the given scalar.\n",
    "\n",
    "If X is an $ m\\times n $ matrix and C is a scalar, then CX is the $ m\\times n $ matrix obtained by multiplying every element of X with C.\n",
    "\n",
    "![link text](https://labcontent.simplicdn.net/data-content/content-assets/Data_and_AI/ADSP_Images/Lesson_06_Maths_and_Stats/Linear_Algebra/Image_9.png)\n"
   ]
  },
  {
   "cell_type": "markdown",
   "metadata": {
    "id": "DUJvrsZZo-5s"
   },
   "source": [
    "![link text](https://labcontent.simplicdn.net/data-content/content-assets/Data_and_AI/ADSP_Images/Lesson_06_Maths_and_Stats/Linear_Algebra/Image_10.png)"
   ]
  },
  {
   "cell_type": "markdown",
   "metadata": {
    "id": "409M9Bllo-5t"
   },
   "source": [
    "### __Python Code Snippet for Scalar Multiplication__\n",
    "\n",
    "This snippet takes a scalar value and a matrix as input and gives a resultant matrix, the elements of which are the products of the original matrix and the scalar value.\n"
   ]
  },
  {
   "cell_type": "code",
   "execution_count": 11,
   "metadata": {
    "executionInfo": {
     "elapsed": 425,
     "status": "ok",
     "timestamp": 1716226104841,
     "user": {
      "displayName": "Ashish Jangid",
      "userId": "15170006874299393728"
     },
     "user_tz": -330
    },
    "id": "QgDs2ZiBo-5t"
   },
   "outputs": [],
   "source": [
    "# Define function for scalar multiplication\n",
    "def scalar_multiplication(c,X):\n",
    "    cX = X\n",
    "    for i in range(len(X)):\n",
    "        for j in range(len(X[0])):\n",
    "            cX[i][j] = c*cX[i][j]\n",
    "    return cX"
   ]
  },
  {
   "cell_type": "code",
   "execution_count": 12,
   "metadata": {
    "colab": {
     "base_uri": "https://localhost:8080/"
    },
    "executionInfo": {
     "elapsed": 3,
     "status": "ok",
     "timestamp": 1716226108132,
     "user": {
      "displayName": "Ashish Jangid",
      "userId": "15170006874299393728"
     },
     "user_tz": -330
    },
    "id": "aGeblwvNo-5u",
    "outputId": "5f5e43f1-2a06-4a69-b1bb-68e03332b1d2"
   },
   "outputs": [
    {
     "data": {
      "text/plain": [
       "[[-6, -18, 3], [-6, -24, 0], [-27, -24, -21]]"
      ]
     },
     "execution_count": 12,
     "metadata": {},
     "output_type": "execute_result"
    }
   ],
   "source": [
    "scalar_multiplication(-3,[[2,6,-1],[2,8,0],[9,8,7]])"
   ]
  },
  {
   "cell_type": "markdown",
   "metadata": {},
   "source": [
    "#### __Using Numpy to perform scalar multiplication__"
   ]
  },
  {
   "cell_type": "code",
   "execution_count": 10,
   "metadata": {},
   "outputs": [],
   "source": [
    "A = np.array([[2,6,-1],[2,8,0],[9,8,7]])"
   ]
  },
  {
   "cell_type": "code",
   "execution_count": 11,
   "metadata": {},
   "outputs": [],
   "source": [
    "B = np.array([[1,2,3],[4,5,6],[7,8,9]])"
   ]
  },
  {
   "cell_type": "code",
   "execution_count": 15,
   "metadata": {},
   "outputs": [
    {
     "data": {
      "text/plain": [
       "array([[ 3,  8,  2],\n",
       "       [ 6, 13,  6],\n",
       "       [16, 16, 16]])"
      ]
     },
     "execution_count": 15,
     "metadata": {},
     "output_type": "execute_result"
    }
   ],
   "source": [
    "Matrix_add = A + B\n",
    "\n",
    "Matrix_add"
   ]
  },
  {
   "cell_type": "code",
   "execution_count": 20,
   "metadata": {},
   "outputs": [],
   "source": [
    "C = np.array([[1,2],[3,4]])"
   ]
  },
  {
   "cell_type": "code",
   "execution_count": 21,
   "metadata": {},
   "outputs": [],
   "source": [
    "D = np.array([[5,6],[7,8]])"
   ]
  },
  {
   "cell_type": "code",
   "execution_count": 22,
   "metadata": {},
   "outputs": [
    {
     "data": {
      "text/plain": [
       "array([[19, 22],\n",
       "       [43, 50]])"
      ]
     },
     "execution_count": 22,
     "metadata": {},
     "output_type": "execute_result"
    }
   ],
   "source": [
    "matrix_dot = np.dot(C,D)\n",
    "matrix_dot"
   ]
  },
  {
   "cell_type": "code",
   "execution_count": 23,
   "metadata": {},
   "outputs": [
    {
     "data": {
      "text/plain": [
       "array([[ 2, 12, -3],\n",
       "       [ 8, 40,  0],\n",
       "       [63, 64, 63]])"
      ]
     },
     "execution_count": 23,
     "metadata": {},
     "output_type": "execute_result"
    }
   ],
   "source": [
    "Element_multi = A * B\n",
    "Element_multi"
   ]
  },
  {
   "cell_type": "code",
   "execution_count": 24,
   "metadata": {},
   "outputs": [],
   "source": [
    "C = np.array([1,2,3,4])"
   ]
  },
  {
   "cell_type": "code",
   "execution_count": 26,
   "metadata": {},
   "outputs": [
    {
     "data": {
      "text/plain": [
       "array([1, 2, 3, 4])"
      ]
     },
     "execution_count": 26,
     "metadata": {},
     "output_type": "execute_result"
    }
   ],
   "source": [
    "C"
   ]
  },
  {
   "cell_type": "code",
   "execution_count": 27,
   "metadata": {},
   "outputs": [],
   "source": [
    "transpose_C = C.T"
   ]
  },
  {
   "cell_type": "code",
   "execution_count": 28,
   "metadata": {},
   "outputs": [
    {
     "data": {
      "text/plain": [
       "array([1, 2, 3, 4])"
      ]
     },
     "execution_count": 28,
     "metadata": {},
     "output_type": "execute_result"
    }
   ],
   "source": [
    "transpose_C"
   ]
  },
  {
   "cell_type": "code",
   "execution_count": 29,
   "metadata": {},
   "outputs": [],
   "source": [
    "transpose_A = A.T"
   ]
  },
  {
   "cell_type": "code",
   "execution_count": 30,
   "metadata": {},
   "outputs": [
    {
     "data": {
      "text/plain": [
       "array([[ 2,  2,  9],\n",
       "       [ 6,  8,  8],\n",
       "       [-1,  0,  7]])"
      ]
     },
     "execution_count": 30,
     "metadata": {},
     "output_type": "execute_result"
    }
   ],
   "source": [
    "transpose_A"
   ]
  },
  {
   "cell_type": "code",
   "execution_count": 31,
   "metadata": {},
   "outputs": [
    {
     "data": {
      "text/plain": [
       "array([[ 2,  6, -1],\n",
       "       [ 2,  8,  0],\n",
       "       [ 9,  8,  7]])"
      ]
     },
     "execution_count": 31,
     "metadata": {},
     "output_type": "execute_result"
    }
   ],
   "source": [
    "A"
   ]
  },
  {
   "cell_type": "code",
   "execution_count": null,
   "metadata": {},
   "outputs": [],
   "source": []
  },
  {
   "cell_type": "markdown",
   "metadata": {
    "id": "61gNKtnbo-5u",
    "jp-MarkdownHeadingCollapsed": true
   },
   "source": [
    "## __8. Matrix Operations__\n"
   ]
  },
  {
   "cell_type": "markdown",
   "metadata": {
    "id": "4vdC_j8mo-5u"
   },
   "source": [
    "### __8.1 Matrix Subtraction__\n",
    "The subtraction of matrices involves element-wise subtraction. If X[$a_{ij} $ ]and Y[$b_{ij} $ ]are $ m\\times n $ matrices, their difference X-Y is the  $ m\\times n $  matrix obtained by subtracting the corresponding elements of Y from those of X.\n",
    "\n",
    "So, X-Y = [$a_{ij} $ - $b_{ij} $]\n",
    "\n"
   ]
  },
  {
   "cell_type": "markdown",
   "metadata": {
    "id": "oBcTg4IMo-5u"
   },
   "source": [
    "![suboperation.PNG](https://s3.us-east-1.amazonaws.com/static2.simplilearn.com/lms/testpaper_images/ADSP/Advanced_Statistics/LinearRegression/suboperation.PNG)"
   ]
  },
  {
   "cell_type": "markdown",
   "metadata": {
    "id": "uDJqXlGno-5u"
   },
   "source": [
    "\n",
    "If X and Y are of different orders, then subtraction is not possible."
   ]
  },
  {
   "cell_type": "markdown",
   "metadata": {
    "id": "Xh6DAhjvo-5v"
   },
   "source": [
    "#### __Example__"
   ]
  },
  {
   "cell_type": "markdown",
   "metadata": {
    "id": "R_p5YSPRo-5v"
   },
   "source": [
    "\n",
    "\n",
    "\n",
    "\n",
    "![examsub.PNG](https://s3.us-east-1.amazonaws.com/static2.simplilearn.com/lms/testpaper_images/ADSP/Advanced_Statistics/LinearRegression/examsub.PNG)"
   ]
  },
  {
   "cell_type": "markdown",
   "metadata": {
    "id": "adLJCauBo-5v"
   },
   "source": [
    "#### __Python Code Snippet to Perform Matrix Subtraction__\n",
    "\n",
    "In the code, matrix_subtraction will take two matrices, and it will first check the order of the matrices. If it is the same, then perform a subtraction operation; otherwise, it prints an error message.\n"
   ]
  },
  {
   "cell_type": "code",
   "execution_count": 188,
   "metadata": {
    "executionInfo": {
     "elapsed": 538,
     "status": "ok",
     "timestamp": 1716226118474,
     "user": {
      "displayName": "Ashish Jangid",
      "userId": "15170006874299393728"
     },
     "user_tz": -330
    },
    "id": "Qkmrn9ZJo-5v"
   },
   "outputs": [],
   "source": [
    "# Define function for subtraction of matrices\n",
    "\n",
    "def matrix_subtraction(x,y):\n",
    "    xrows = len(x)\n",
    "    xcols = len(x[0])\n",
    "    yrows = len(y)\n",
    "    ycols= len(y[0])\n",
    "    if xrows!=yrows or xcols!=ycols:\n",
    "        print(\"Subtraction is not defined as the matrices have different orders\")\n",
    "    else:\n",
    "        result=[[0 for i in range(xcols)] for i in range(xrows)]\n",
    "        for i in range(xrows):\n",
    "            for j in range(xcols):\n",
    "                result[i][j] = matrix_X[i][j]-matrix_Y[i][j]\n",
    "        return result"
   ]
  },
  {
   "cell_type": "code",
   "execution_count": 190,
   "metadata": {
    "id": "D8VfAs2Lo-5w",
    "outputId": "7e5929c3-b0c6-4faf-c10e-9f453db718f9"
   },
   "outputs": [
    {
     "name": "stdout",
     "output_type": "stream",
     "text": [
      "Enter the rows and columns of first matrix\n"
     ]
    },
    {
     "name": "stdin",
     "output_type": "stream",
     "text": [
      "Enter the number of rows :  2\n",
      "Enter the number of columns:  2\n"
     ]
    }
   ],
   "source": [
    "# Take input from the user for the first matrix\n",
    "\n",
    "print(\"Enter the rows and columns of first matrix\")\n",
    "rows1 = int(input(\"Enter the number of rows : \" ))\n",
    "column1 = int(input(\"Enter the number of columns: \"))"
   ]
  },
  {
   "cell_type": "code",
   "execution_count": 192,
   "metadata": {},
   "outputs": [
    {
     "name": "stdout",
     "output_type": "stream",
     "text": [
      "Enter the elements of first matrix:\n"
     ]
    },
    {
     "name": "stdin",
     "output_type": "stream",
     "text": [
      " 1\n",
      " 2\n",
      " 3\n",
      " 4\n"
     ]
    },
    {
     "name": "stdout",
     "output_type": "stream",
     "text": [
      "First matrix is: \n",
      "[1, 2]\n",
      "[3, 4]\n"
     ]
    }
   ],
   "source": [
    "print(\"Enter the elements of first matrix:\")\n",
    "matrix_X= [[int(input()) for i in range(column1)] for i in range(rows1)]\n",
    "print(\"First matrix is: \")\n",
    "for n in matrix_X:\n",
    "    print(n)"
   ]
  },
  {
   "cell_type": "code",
   "execution_count": 194,
   "metadata": {},
   "outputs": [
    {
     "name": "stdout",
     "output_type": "stream",
     "text": [
      "Enter the rows and columns of second matrix\n"
     ]
    },
    {
     "name": "stdin",
     "output_type": "stream",
     "text": [
      "Enter the number of rows :  2\n",
      "Enter the number of columns:  2\n"
     ]
    }
   ],
   "source": [
    "# Take input from the user for the second matrix\n",
    "\n",
    "print(\"Enter the rows and columns of second matrix\")\n",
    "rows2 = int(input(\"Enter the number of rows : \" ))\n",
    "column2 = int(input(\"Enter the number of columns: \"))"
   ]
  },
  {
   "cell_type": "code",
   "execution_count": 196,
   "metadata": {},
   "outputs": [
    {
     "name": "stdout",
     "output_type": "stream",
     "text": [
      "Enter the elements of second matrix:\n"
     ]
    },
    {
     "name": "stdin",
     "output_type": "stream",
     "text": [
      " 5\n",
      " 6\n",
      " 7\n",
      " 8\n"
     ]
    },
    {
     "name": "stdout",
     "output_type": "stream",
     "text": [
      "[5, 6]\n",
      "[7, 8]\n"
     ]
    }
   ],
   "source": [
    "print(\"Enter the elements of second matrix:\")\n",
    "matrix_Y= [[int(input()) for i in range(column2)] for i in range(rows2)]\n",
    "for n in matrix_Y:\n",
    "    print(n)"
   ]
  },
  {
   "cell_type": "code",
   "execution_count": 200,
   "metadata": {
    "id": "LU0jNIQdo-5w",
    "outputId": "99c933de-5356-4cef-9c50-d61035bd870c"
   },
   "outputs": [
    {
     "data": {
      "text/plain": [
       "[[-4, -4], [-4, -4]]"
      ]
     },
     "execution_count": 200,
     "metadata": {},
     "output_type": "execute_result"
    }
   ],
   "source": [
    "matrix_subtraction(matrix_X, matrix_Y)"
   ]
  },
  {
   "cell_type": "markdown",
   "metadata": {},
   "source": [
    "#### __Using Numpy for matrix subtraction__ ####"
   ]
  },
  {
   "cell_type": "code",
   "execution_count": 205,
   "metadata": {},
   "outputs": [],
   "source": [
    "A = np.array([[2,6,-1],[2,8,0],[9,8,7]])"
   ]
  },
  {
   "cell_type": "code",
   "execution_count": 207,
   "metadata": {},
   "outputs": [],
   "source": [
    "B = np.array([[1,2,3],[4,5,6],[7,8,9]])"
   ]
  },
  {
   "cell_type": "code",
   "execution_count": 209,
   "metadata": {},
   "outputs": [
    {
     "data": {
      "text/plain": [
       "array([[ 1,  4, -4],\n",
       "       [-2,  3, -6],\n",
       "       [ 2,  0, -2]])"
      ]
     },
     "execution_count": 209,
     "metadata": {},
     "output_type": "execute_result"
    }
   ],
   "source": [
    "Matrix_sub = A - B\n",
    "Matrix_sub"
   ]
  },
  {
   "cell_type": "markdown",
   "metadata": {
    "id": "EtLK-0cCo-5w"
   },
   "source": [
    "### __8.2 Matrix Multiplication__\n",
    "The product of two matrices is obtained by multiplying the elements of the rows of the first matrix with the corresponding elements of the columns of the second matrix.\n",
    "\n",
    "![matrizmulti1.PNG](https://s3.us-east-1.amazonaws.com/static2.simplilearn.com/lms/testpaper_images/ADSP/Advanced_Statistics/LinearRegression/matrizmulti1.PNG)\n",
    "\n",
    "\n"
   ]
  },
  {
   "cell_type": "markdown",
   "metadata": {
    "id": "C9ytt-fto-5x"
   },
   "source": [
    "![multi2.PNG](https://s3.us-east-1.amazonaws.com/static2.simplilearn.com/lms/testpaper_images/ADSP/Advanced_Statistics/LinearRegression/multi2.PNG)\n",
    "\n",
    "If X is an $ m\\times n $ matrix and Y is an $ n\\times r $, then their product Z =\n",
    "$ X\\times Y $ is an $ m\\times r $ matrix, whose elements are given by the following expression:\n",
    "\n",
    "\n",
    "$Z_{ij} $ = X $_{i1} $Y $_{1j} $ + X $_{i2} $Y $_{2j} $ +.... X $_{in} $ Y $_{nj} $"
   ]
  },
  {
   "cell_type": "markdown",
   "metadata": {
    "id": "d4Rui11No-5x"
   },
   "source": [
    "![multi3.PNG](https://s3.us-east-1.amazonaws.com/static2.simplilearn.com/lms/testpaper_images/ADSP/Advanced_Statistics/LinearRegression/multi3.PNG)"
   ]
  },
  {
   "cell_type": "markdown",
   "metadata": {
    "id": "oKPUp0s8o-5x"
   },
   "source": [
    "#### __Example__"
   ]
  },
  {
   "cell_type": "markdown",
   "metadata": {
    "id": "of_wcbJzo-5x"
   },
   "source": [
    "\n",
    "\n",
    "Consider two matrices X and Y, where the order of X is 2X3 and the order of Y is 3X2.\n",
    "\n",
    "![multi4.PNG](https://s3.us-east-1.amazonaws.com/static2.simplilearn.com/lms/testpaper_images/ADSP/Advanced_Statistics/LinearRegression/multi4.PNG)\n"
   ]
  },
  {
   "cell_type": "markdown",
   "metadata": {
    "id": "WLJ0DGF6o-5y"
   },
   "source": [
    "### __Python Code Snippet for the Matrix Multiplication__"
   ]
  },
  {
   "cell_type": "code",
   "execution_count": null,
   "metadata": {
    "id": "eOhirSWvo-5y"
   },
   "outputs": [],
   "source": [
    "# Define function to perform matrix multiplication\n",
    "def matrix_multiplication(x,y):\n",
    "    xrows = len(x)\n",
    "    xcols = len(x[0])\n",
    "    yrows = len(y)\n",
    "    ycols= len(y[0])\n",
    "    if xcols!=yrows:\n",
    "        print (\"Product is not defined as the no. of rows in the first matrix is not equal to the number of columns in the second matrix\")\n",
    "    else:\n",
    "        z = [ [ 0 for i in range(ycols) ] for j in range(xrows) ]\n",
    "        for i in range(xrows):\n",
    "            for j in range(ycols):\n",
    "                total = 0\n",
    "                for ii in range(xcols):\n",
    "                    total += x[i][ii] * y[ii][j]\n",
    "                    z[i][j] = total\n",
    "        return z\n"
   ]
  },
  {
   "cell_type": "code",
   "execution_count": null,
   "metadata": {
    "id": "hdEcATZWo-5y",
    "outputId": "52ab1d18-510d-4756-b33b-1a5f2d17147c"
   },
   "outputs": [
    {
     "name": "stdout",
     "output_type": "stream",
     "text": [
      "Enter the rows and columns of first matrix\n"
     ]
    },
    {
     "name": "stdin",
     "output_type": "stream",
     "text": [
      "Enter the number of rows :  2\n",
      "Enter the number of columns:  2\n"
     ]
    },
    {
     "name": "stdout",
     "output_type": "stream",
     "text": [
      "Enter the elements of first matrix:\n"
     ]
    },
    {
     "name": "stdin",
     "output_type": "stream",
     "text": [
      " 3\n",
      " 4\n",
      " 5\n",
      " 6\n"
     ]
    },
    {
     "name": "stdout",
     "output_type": "stream",
     "text": [
      "First matrix is: \n",
      "[3, 4]\n",
      "[5, 6]\n",
      "Enter the rows and columns of second matrix\n"
     ]
    },
    {
     "name": "stdin",
     "output_type": "stream",
     "text": [
      "Enter the number of rows :  2\n",
      "Enter the number of columns:  2\n"
     ]
    },
    {
     "name": "stdout",
     "output_type": "stream",
     "text": [
      "Enter the elements of second matrix:\n"
     ]
    },
    {
     "name": "stdin",
     "output_type": "stream",
     "text": [
      " 5\n",
      " 6\n",
      " 7\n",
      " 8\n"
     ]
    },
    {
     "name": "stdout",
     "output_type": "stream",
     "text": [
      "[5, 6]\n",
      "[7, 8]\n"
     ]
    }
   ],
   "source": [
    "# Take input from user\n",
    "print(\"Enter the rows and columns of first matrix\")\n",
    "rows1 = int(input(\"Enter the number of rows : \" ))\n",
    "column1 = int(input(\"Enter the number of columns: \"))\n",
    "\n",
    "print(\"Enter the elements of first matrix:\")\n",
    "matrix_X= [[int(input()) for i in range(column1)] for i in range(rows1)]\n",
    "print(\"First matrix is: \")\n",
    "for n in matrix_X:\n",
    "    print(n)\n",
    "print(\"Enter the rows and columns of second matrix\")\n",
    "rows2 = int(input(\"Enter the number of rows : \" ))\n",
    "column2 = int(input(\"Enter the number of columns: \"))\n",
    "\n",
    "print(\"Enter the elements of second matrix:\")\n",
    "matrix_Y= [[int(input()) for i in range(column2)] for i in range(rows2)]\n",
    "for n in matrix_Y:\n",
    "    print(n)"
   ]
  },
  {
   "cell_type": "code",
   "execution_count": null,
   "metadata": {
    "id": "7Fg0bRQRo-5y",
    "outputId": "84859006-3769-43b1-e14b-ea17760e3840"
   },
   "outputs": [
    {
     "data": {
      "text/plain": [
       "[[43, 50], [67, 78]]"
      ]
     },
     "execution_count": 32,
     "metadata": {},
     "output_type": "execute_result"
    }
   ],
   "source": [
    "matrix_multiplication(matrix_X,matrix_Y)"
   ]
  },
  {
   "cell_type": "markdown",
   "metadata": {
    "id": "cyOL6GKvo-5z"
   },
   "source": [
    "When two matrices of order 2X3 and 3X2 are multiplied, the output will be in 2X2 matrix."
   ]
  },
  {
   "cell_type": "markdown",
   "metadata": {
    "id": "_y1dfdiZo-5z",
    "jp-MarkdownHeadingCollapsed": true
   },
   "source": [
    "### __8.3 Transpose of a Matrix__\n",
    "The transpose of a matrix is obtained by swapping its rows and columns. It is basically the same matrix with flipped axes.\n",
    "- The transpose of matrix X of size $ m\\times n $ results in an $ n\\times m $ matrix, denoted as $ X^T $.\n",
    "- This is achieved by interchanging the rows and columns of X.\n",
    "\n",
    "![trans1.PNG](https://s3.us-east-1.amazonaws.com/static2.simplilearn.com/lms/testpaper_images/ADSP/Advanced_Statistics/LinearRegression/trans1.PNG)\n"
   ]
  },
  {
   "cell_type": "markdown",
   "metadata": {
    "id": "mmQbXCfSo-5z"
   },
   "source": [
    "#### __Example__"
   ]
  },
  {
   "cell_type": "markdown",
   "metadata": {
    "id": "Y6_mWmDMo-5z"
   },
   "source": [
    "X is a 2X3 matrix. The transpose $ X^T $  of X will be 3X2 matrix.\n",
    "\n",
    "![transnew.PNG](https://s3.us-east-1.amazonaws.com/static2.simplilearn.com/lms/testpaper_images/ADSP/Advanced_Statistics/LinearRegression/transnew.PNG)"
   ]
  },
  {
   "cell_type": "markdown",
   "metadata": {
    "id": "1FgpRAmeo-50"
   },
   "source": [
    "#### __Python Implementation for Finding the Transpose of a Matrix__"
   ]
  },
  {
   "cell_type": "code",
   "execution_count": 234,
   "metadata": {
    "executionInfo": {
     "elapsed": 1271,
     "status": "ok",
     "timestamp": 1716226165445,
     "user": {
      "displayName": "Ashish Jangid",
      "userId": "15170006874299393728"
     },
     "user_tz": -330
    },
    "id": "qu14yf33o-50"
   },
   "outputs": [],
   "source": [
    "# Define function to perform transpose of matrix\n",
    "\n",
    "def matrix_transpose(x):\n",
    "    xrows = len(x)\n",
    "    xcols = len(x[0])\n",
    "    z = [ [ 0 for i in range(xrows) ] for j in range(xcols) ]\n",
    "    for i in range(xcols):\n",
    "        for j in range(xrows):\n",
    "            z[i][j] = x[j][i]\n",
    "    return z"
   ]
  },
  {
   "cell_type": "code",
   "execution_count": 217,
   "metadata": {},
   "outputs": [
    {
     "data": {
      "text/plain": [
       "[[1, 9, -6], [5, 3, -7]]"
      ]
     },
     "execution_count": 217,
     "metadata": {},
     "output_type": "execute_result"
    }
   ],
   "source": [
    "matrix = [[1,9,-6],[5,3,-7]]\n",
    "matrix"
   ]
  },
  {
   "cell_type": "code",
   "execution_count": 219,
   "metadata": {
    "colab": {
     "base_uri": "https://localhost:8080/"
    },
    "executionInfo": {
     "elapsed": 6,
     "status": "ok",
     "timestamp": 1716226168228,
     "user": {
      "displayName": "Ashish Jangid",
      "userId": "15170006874299393728"
     },
     "user_tz": -330
    },
    "id": "sS6og-lgo-50",
    "outputId": "dab675a6-b0ad-4210-9a44-d56de504b7fe"
   },
   "outputs": [
    {
     "data": {
      "text/plain": [
       "[[1, 5], [9, 3], [-6, -7]]"
      ]
     },
     "execution_count": 219,
     "metadata": {},
     "output_type": "execute_result"
    }
   ],
   "source": [
    "matrix_transpose(matrix)"
   ]
  },
  {
   "cell_type": "markdown",
   "metadata": {},
   "source": [
    "#### __Using Numpy to find the transpose of a matrix__ ####"
   ]
  },
  {
   "cell_type": "code",
   "execution_count": 222,
   "metadata": {},
   "outputs": [
    {
     "data": {
      "text/plain": [
       "array([1, 2, 3, 4])"
      ]
     },
     "execution_count": 222,
     "metadata": {},
     "output_type": "execute_result"
    }
   ],
   "source": [
    "C = np.array([1,2,3,4])\n",
    "C"
   ]
  },
  {
   "cell_type": "code",
   "execution_count": 224,
   "metadata": {},
   "outputs": [
    {
     "data": {
      "text/plain": [
       "array([1, 2, 3, 4])"
      ]
     },
     "execution_count": 224,
     "metadata": {},
     "output_type": "execute_result"
    }
   ],
   "source": [
    "transpose_C = C.T\n",
    "transpose_C"
   ]
  },
  {
   "cell_type": "code",
   "execution_count": 226,
   "metadata": {},
   "outputs": [
    {
     "data": {
      "text/plain": [
       "array([[ 2,  6, -1],\n",
       "       [ 2,  8,  0],\n",
       "       [ 9,  8,  7]])"
      ]
     },
     "execution_count": 226,
     "metadata": {},
     "output_type": "execute_result"
    }
   ],
   "source": [
    "A"
   ]
  },
  {
   "cell_type": "code",
   "execution_count": 228,
   "metadata": {},
   "outputs": [
    {
     "data": {
      "text/plain": [
       "array([[ 2,  2,  9],\n",
       "       [ 6,  8,  8],\n",
       "       [-1,  0,  7]])"
      ]
     },
     "execution_count": 228,
     "metadata": {},
     "output_type": "execute_result"
    }
   ],
   "source": [
    "transpose_A = A.T\n",
    "transpose_A"
   ]
  },
  {
   "cell_type": "code",
   "execution_count": 238,
   "metadata": {},
   "outputs": [
    {
     "data": {
      "text/plain": [
       "array([[1, 2, 3],\n",
       "       [4, 5, 6],\n",
       "       [7, 8, 9]])"
      ]
     },
     "execution_count": 238,
     "metadata": {},
     "output_type": "execute_result"
    }
   ],
   "source": [
    "B"
   ]
  },
  {
   "cell_type": "code",
   "execution_count": 240,
   "metadata": {},
   "outputs": [
    {
     "data": {
      "text/plain": [
       "array([[1, 4, 7],\n",
       "       [2, 5, 8],\n",
       "       [3, 6, 9]])"
      ]
     },
     "execution_count": 240,
     "metadata": {},
     "output_type": "execute_result"
    }
   ],
   "source": [
    "transpose_B = B.T\n",
    "transpose_B"
   ]
  },
  {
   "cell_type": "markdown",
   "metadata": {
    "id": "KAxrHx3Ro-50"
   },
   "source": [
    "## __9. Rank of a Matrix__"
   ]
  },
  {
   "cell_type": "markdown",
   "metadata": {
    "id": "rD505XHRo-51"
   },
   "source": [
    "The rank of a matrix is defined as the maximum number of linearly independent columns or rows in the matrix.\n",
    "![trans3.PNG](https://s3.us-east-1.amazonaws.com/static2.simplilearn.com/lms/testpaper_images/ADSP/Advanced_Statistics/LinearRegression/trans3.PNG)             "
   ]
  },
  {
   "cell_type": "markdown",
   "metadata": {
    "id": "DkHHQUW8o-51"
   },
   "source": [
    "**Note:** To find the rank of a matrix, first convert it into the row echelon form.\n",
    "\n",
    "For a matrix to be in its echelon form, it must follow these three rules:\n",
    "\n",
    "![link text](https://labcontent.simplicdn.net/data-content/content-assets/Data_and_AI/ADSP_Images/Lesson_06_Maths_and_Stats/Linear_Algebra/Image_11.png)"
   ]
  },
  {
   "cell_type": "markdown",
   "metadata": {
    "id": "CSbkFuFqo-52"
   },
   "source": [
    "#### __Example__\n",
    "\n",
    "![link text](https://labcontent.simplicdn.net/data-content/content-assets/Data_and_AI/ADSP_Images/Lesson_06_Maths_and_Stats/Linear_Algebra/Image_12.png)\n",
    "\n",
    "The output, after using elementary transformations, is shown below:\n",
    "\n",
    "**R2 → R2 – 2R1**\n",
    "\n",
    "**R3 → R3 – 3R1**\n",
    "\n",
    "![link text](https://labcontent.simplicdn.net/data-content/content-assets/Data_and_AI/ADSP_Images/Lesson_06_Maths_and_Stats/Linear_Algebra/Image_13.png)\n",
    "\n",
    "**R3 → R3 – 2R2**\n",
    "\n",
    "![link text](https://labcontent.simplicdn.net/data-content/content-assets/Data_and_AI/ADSP_Images/Lesson_06_Maths_and_Stats/Linear_Algebra/Image_14.png)\n",
    "\n",
    "The above matrix is in row-echelon form.\n",
    "\n",
    "Since the number of non-zero rows is 2, **the rank of the matrix is 2.**"
   ]
  },
  {
   "cell_type": "code",
   "execution_count": 32,
   "metadata": {},
   "outputs": [
    {
     "data": {
      "text/plain": [
       "array([[ 2,  6, -1],\n",
       "       [ 2,  8,  0],\n",
       "       [ 9,  8,  7]])"
      ]
     },
     "execution_count": 32,
     "metadata": {},
     "output_type": "execute_result"
    }
   ],
   "source": [
    "A"
   ]
  },
  {
   "cell_type": "code",
   "execution_count": 33,
   "metadata": {},
   "outputs": [
    {
     "data": {
      "text/plain": [
       "84.00000000000006"
      ]
     },
     "execution_count": 33,
     "metadata": {},
     "output_type": "execute_result"
    }
   ],
   "source": [
    "np.linalg.det(A)"
   ]
  },
  {
   "cell_type": "markdown",
   "metadata": {
    "id": "Zt364u80o-53"
   },
   "source": [
    "## __9. Determinant of a Matrix and Identity Matrix__"
   ]
  },
  {
   "cell_type": "markdown",
   "metadata": {
    "id": "MazIDkEJo-53"
   },
   "source": [
    "The determinant of a matrix is a scalar quantity that is a function of the elements of the matrix.\n",
    "\n",
    "- It is a number obtained from any square matrix.\n",
    "- Determinants are defined only for square matrices.\n",
    "- It identifies whether the matrix is invertible or not.\n",
    "- A matrix is __Invertible__ if it is classified as a square matrix and its determinant $\\neq$ 0.\n",
    "- On the other hand, a matrix is __Non-Invertible__ if it is classified as a non-square matrix and its determinant = 0.\n",
    "- These are useful in determining the solution of a system of linear equations.\n",
    "\n",
    "                               Let X = [aij] be an nxn matrix, where n ≥2\n",
    "\n",
    "<img src=\"https://labcontent.simplicdn.net/data-content/content-assets/Data_and_AI/ADSP_Images/Lesson_06_Maths_and_Stats/Linear_Algebra/Image_15.png\" width=500 height=500 />\n",
    "\n",
    "\n",
    "**Note:** The determinant of a non-square matrix is not defined. The determinant of a matrix X is denoted by det X or |X|.\n",
    "\n",
    "https://learn.365datascience.com/courses/linear-algebra-and-feature-selection/basis-determinant-and-inverse-the-backbone-of-machine-learning-math/"
   ]
  },
  {
   "cell_type": "markdown",
   "metadata": {
    "id": "u-Z2TnS1o-54"
   },
   "source": [
    "**Consider the matrices 2X2 and 3X3:**\n",
    "\n",
    "![link text](https://labcontent.simplicdn.net/data-content/content-assets/Data_and_AI/ADSP_Images/Lesson_06_Maths_and_Stats/Linear_Algebra/Image_16.png)\n",
    "\n",
    "   \n",
    "Substitute the expressions for the determinant of a $ 2\\times 2 $ matrix in the above equation. So, the output will be shown as below:\n",
    "\n",
    "![det2.PNG](https://s3.us-east-1.amazonaws.com/static2.simplilearn.com/lms/testpaper_images/ADSP/Advanced_Statistics/LinearRegression/det2.PNG)"
   ]
  },
  {
   "cell_type": "markdown",
   "metadata": {
    "id": "qVS_GZm4o-54",
    "jp-MarkdownHeadingCollapsed": true
   },
   "source": [
    "#### __Python Implementation for Finding the Determinant of a Matrix__"
   ]
  },
  {
   "cell_type": "code",
   "execution_count": 16,
   "metadata": {
    "colab": {
     "base_uri": "https://localhost:8080/"
    },
    "executionInfo": {
     "elapsed": 440,
     "status": "ok",
     "timestamp": 1716226185611,
     "user": {
      "displayName": "Ashish Jangid",
      "userId": "15170006874299393728"
     },
     "user_tz": -330
    },
    "id": "lxv7JU_Qo-54",
    "outputId": "7f976a86-2ce7-4808-f732-3cadec608ffc"
   },
   "outputs": [
    {
     "name": "stdout",
     "output_type": "stream",
     "text": [
      "Determinant: 6\n"
     ]
    }
   ],
   "source": [
    "def determinant_3x3(matrix):\n",
    "    if len(matrix) == 3 and all(len(row) == 3 for row in matrix):\n",
    "        a, b, c = matrix[0]\n",
    "        d, e, f = matrix[1]\n",
    "        g, h, i = matrix[2]\n",
    "        return a * (e * i - f * h) - b * (d * i - f * g) + c * (d * h - e * g)\n",
    "    else:\n",
    "        return \"Matrix must be 3x3\"\n",
    "\n",
    "# Insert values in the matrix\n",
    "matrix = [[5, 5, 3],\n",
    "          [4, 5, 6],\n",
    "          [7, 8, 9]]\n",
    "\n",
    "det = determinant_3x3(matrix)\n",
    "print(\"Determinant:\", det)"
   ]
  },
  {
   "cell_type": "markdown",
   "metadata": {
    "id": "YkrREzk5o-54"
   },
   "source": [
    "## __10. Identity Matrix or Operator__\n",
    "An identity matrix (I) is a square matrix that, when multiplied with a matrix X, gives the same result as X.\n",
    "\n",
    "![det3.PNG](https://s3.us-east-1.amazonaws.com/static2.simplilearn.com/lms/testpaper_images/ADSP/Advanced_Statistics/LinearRegression/det3.PNG)\n",
    "\n",
    "**Hint**: This is equivalent to the number 1 in the number system.\n",
    "\n",
    "\n",
    "\n",
    "\n"
   ]
  },
  {
   "cell_type": "markdown",
   "metadata": {},
   "source": [
    "## __11. Inverse of a Matrix__"
   ]
  },
  {
   "cell_type": "markdown",
   "metadata": {},
   "source": [
    "The inverse of a matrix (often denoted as X−1 for a matrix X) is a matrix that yields the identity matrix when multiplied with the original matrix.\n",
    "- If X is a square matrix, then its inverse $ X^{-1} $ satisfies the following condition:\n",
    "\n",
    "\n",
    "![link text](https://labcontent.simplicdn.net/data-content/content-assets/Data_and_AI/ADSP_Images/Lesson_06_Maths_and_Stats/Linear_Algebra/Image_17.png)\n",
    "\n",
    "\n",
    "I is the $ n\\times n $ identity matrix. If an $ X^{-1} $ exists for X, then X is described as invertible."
   ]
  },
  {
   "cell_type": "markdown",
   "metadata": {},
   "source": [
    "#### __Example__\n",
    "\n",
    "X is a 2x2 matrix.\n",
    "\n",
    "![link text](https://labcontent.simplicdn.net/data-content/content-assets/Data_and_AI/ADSP_Images/Lesson_06_Maths_and_Stats/Linear_Algebra/Image_18.png)"
   ]
  },
  {
   "cell_type": "markdown",
   "metadata": {},
   "source": []
  },
  {
   "cell_type": "markdown",
   "metadata": {
    "id": "rD_nZS1Yo-55"
   },
   "source": [
    "The diagonal elements of I are all 1, and all its non-diagonal elements are 0.\n",
    "\n",
    "#### Example:\n",
    "![det4.PNG](https://s3.us-east-1.amazonaws.com/static2.simplilearn.com/lms/testpaper_images/ADSP/Advanced_Statistics/LinearRegression/det4.PNG)"
   ]
  },
  {
   "cell_type": "markdown",
   "metadata": {
    "id": "289uvpu7o-55"
   },
   "source": [
    "## __11. Inverse of a Matrix, Eigenvalues, and Eigenvectors__"
   ]
  },
  {
   "cell_type": "markdown",
   "metadata": {
    "id": "4CZwzp7zo-55"
   },
   "source": [
    "### __11.1 Inverse of a matrix__\n",
    "\n"
   ]
  },
  {
   "cell_type": "markdown",
   "metadata": {
    "id": "-pOk7cvTo-56"
   },
   "source": []
  },
  {
   "cell_type": "markdown",
   "metadata": {
    "id": "bB1YMw5jo-56"
   },
   "source": []
  },
  {
   "cell_type": "markdown",
   "metadata": {
    "id": "64cv6oHgo-56"
   },
   "source": []
  },
  {
   "cell_type": "markdown",
   "metadata": {
    "id": "9vod_2PXtkyH"
   },
   "source": [
    "### __11.2 Minor__"
   ]
  },
  {
   "cell_type": "markdown",
   "metadata": {
    "id": "Ys9nREauvSUw"
   },
   "source": [
    "The minor of an element in a matrix is the determinant of the square matrix formed by deleting the row and column containing that element.\n",
    "\n",
    "For example,\n",
    "consider the matrix D:\n",
    "\n",
    "![link text](https://labcontent.simplicdn.net/data-content/content-assets/Data_and_AI/ADSP_Images/Lesson_05_Data_Visualization/cofactor_p1.png)\n"
   ]
  },
  {
   "cell_type": "markdown",
   "metadata": {
    "id": "oBc4ud_DvvAV"
   },
   "source": [
    "Then, the minor of a12 would be:\n",
    "\n",
    "![link text](https://labcontent.simplicdn.net/data-content/content-assets/Data_and_AI/ADSP_Images/Lesson_05_Data_Visualization/stasminor_picture1.png)"
   ]
  },
  {
   "cell_type": "markdown",
   "metadata": {
    "id": "XxPc992qwAQi"
   },
   "source": [
    "### __11.3 Cofactor__\n",
    "\n",
    "The cofactor of an element of a matrix is the determinant of the matrix obtained by eliminating the row and column in the matrix that contains the element and then multiplying by +1 or -1 according to the position of the element."
   ]
  },
  {
   "cell_type": "markdown",
   "metadata": {
    "id": "WLYa9Aj1xan3"
   },
   "source": [
    "For example,\n",
    "consider the matrix:\n",
    "\n",
    "![link text](https://labcontent.simplicdn.net/data-content/content-assets/Data_and_AI/ADSP_Images/Lesson_05_Data_Visualization/cofactor_p1.png)"
   ]
  },
  {
   "cell_type": "markdown",
   "metadata": {
    "id": "X68C_6NuxwXD"
   },
   "source": [
    "The cofactor of 2 would be:\n",
    "\n",
    "![link text](https://labcontent.simplicdn.net/data-content/content-assets/Data_and_AI/ADSP_Images/Lesson_05_Data_Visualization/cofactor_p2.png)"
   ]
  },
  {
   "cell_type": "markdown",
   "metadata": {
    "id": "bmabdom1x9Ka"
   },
   "source": [
    "To find the determinant:\n",
    "\n",
    "![link text](https://labcontent.simplicdn.net/data-content/content-assets/Data_and_AI/ADSP_Images/Lesson_05_Data_Visualization/cofactor_p3.png)\n",
    "\n",
    "By subtracting them, you get:\n",
    "\n",
    "![link text](https://labcontent.simplicdn.net/data-content/content-assets/Data_and_AI/ADSP_Images/Lesson_05_Data_Visualization/cofactor_p4.png)"
   ]
  },
  {
   "cell_type": "markdown",
   "metadata": {
    "id": "YwIjT58By0wX"
   },
   "source": [
    "### __11.4 Adjoint Matrix__"
   ]
  },
  {
   "cell_type": "markdown",
   "metadata": {
    "id": "vsXftO0Vy6IL"
   },
   "source": [
    "The transpose of a cofactor matrix is an adjoint matrix."
   ]
  },
  {
   "cell_type": "markdown",
   "metadata": {
    "id": "LiAWEtXIo-57"
   },
   "source": [
    "### __Python Code for Finding the Inverse of a 2X2 Matrix__"
   ]
  },
  {
   "cell_type": "code",
   "execution_count": 17,
   "metadata": {
    "colab": {
     "base_uri": "https://localhost:8080/"
    },
    "executionInfo": {
     "elapsed": 523,
     "status": "ok",
     "timestamp": 1716226194681,
     "user": {
      "displayName": "Ashish Jangid",
      "userId": "15170006874299393728"
     },
     "user_tz": -330
    },
    "id": "vVofvhZ1o-57",
    "outputId": "6d70a453-df96-4a69-9f59-c8476f906bf9"
   },
   "outputs": [
    {
     "name": "stdout",
     "output_type": "stream",
     "text": [
      "Inverse of the matrix: [[0.6, -0.7], [-0.2, 0.4]]\n"
     ]
    }
   ],
   "source": [
    "def inverse_matrix_2x2(matrix):\n",
    "    a, b, c, d = matrix[0][0], matrix[0][1], matrix[1][0], matrix[1][1]\n",
    "\n",
    "    # Calculate the determinant\n",
    "    determinant = a * d - b * c\n",
    "\n",
    "    # Check if the matrix has an inverse\n",
    "    if determinant == 0:\n",
    "        return \"This matrix does not have an inverse.\"\n",
    "\n",
    "    # Calculate the inverse\n",
    "    inverse = [[d / determinant, -b / determinant],\n",
    "               [-c / determinant, a / determinant]]\n",
    "\n",
    "    return inverse\n",
    "\n",
    "# Example matrix\n",
    "matrix = [[4, 7], [2, 6]]\n",
    "\n",
    "# Calculate its inverse\n",
    "inverse = inverse_matrix_2x2(matrix)\n",
    "print(\"Inverse of the matrix:\", inverse)"
   ]
  },
  {
   "cell_type": "markdown",
   "metadata": {},
   "source": [
    "## __12. Eigenvalues and Eigenvectors__"
   ]
  },
  {
   "cell_type": "markdown",
   "metadata": {
    "id": "-Nyl60Rco-57"
   },
   "source": [
    "__Eigenvalues__ are a special set of scalar values associated with the linear equations in matrix operations. Imagine you have a big box. You're asked to stretch or shrink everything inside the box, but only in certain directions. Eigenvalues tell you how much everything stretches or shrinks along those special directions.\n",
    "\n",
    "__Eigenvectors__ represent directions in which the linear transformation has a stretching or compressing effect. Imagine you have arrows inside the box. These arrows represent different directions. Eigenvectors are the special arrows that don't change their direction when you apply force. They might get longer or shorter, but they still point in the same direction.\n",
    "\n",
    "- A single eigenvalue can have many eigenvectors, but not the other way around.\n",
    "- Eigenvalues and Eigenvectors are the scalar and vector quantities associated with matrices used for linear transformations.\n",
    "- Eigenvectors are the directions that remain unchanged during a transformation, even if they get longer or shorter.\n",
    "- Eigenvalues are the numbers that indicate how much something stretches or shrinks during that transformation.\n",
    "- The vector that only changes by a scalar factor after applying a transformation is called an eigenvector, and the scalar value attached to the eigenvector is called the eigenvalue.\n",
    "- The eigenvector v is a vector that, when transformed by the matrix A, remains in the same direction (or, in the case of a negative eigenvalue, in the opposite direction).\n",
    "- The eigenvalue λ represents the scaling factor applied to the eigenvector during the transformation. \n",
    "\n",
    "\n",
    "An eigenvector v of a matrix A is a non-zero vector such that \n",
    "\n",
    "$$ \\text{Av = λv} $$\n",
    "\n",
    "where λ is a scalar called the eigenvalue. \n"
   ]
  },
  {
   "cell_type": "markdown",
   "metadata": {
    "id": "yCbzZtwD4uIy"
   },
   "source": [
    "Suppose X is an $ n\\times n $ matrix. When you multiply X with a new vector v, it does two things to the vector v:\n",
    "\n",
    "1.\tIt scales the vector.\n",
    "2.\tIt rotates the vector.\n",
    "\n",
    "\n",
    "When X acts on a certain set of vectors, it results in scaling the vector and not changing the direction of the vector.\n",
    "   *  These specific vectors, which you do not rotate but may stretch or compress, are called eigenvectors.\n",
    "   * The amount by which these vectors stretch or compress is called the corresponding eigenvalue."
   ]
  },
  {
   "cell_type": "markdown",
   "metadata": {
    "id": "HgdJEfpK4t6M"
   },
   "source": [
    "### __Finding Eigenvalues and Eigenvectors:__"
   ]
  },
  {
   "cell_type": "markdown",
   "metadata": {},
   "source": [
    "__Eigenvalues__ are found by solving the characteristic equation:\n",
    "\n",
    "   $$ \\text{det(A - λI)} = 0 $$\n",
    "\n",
    "where \n",
    "* A is the matrix,\n",
    "* λ is the eigenvalue, and\n",
    "* I is the identity matrix.\n",
    "* det is the determinant of the expression\n",
    "\n",
    "\n",
    "__Eigenvectors:__ Once the eigenvalues are found, the corresponding eigenvectors are determined by solving the equation\n",
    "  \n",
    "  $$ \\text{(A - λI) v} = 0 $$\n",
    "\n",
    "where \n",
    "- λ is the eigenvalue and\n",
    "- v is the eigenvector. "
   ]
  },
  {
   "cell_type": "markdown",
   "metadata": {},
   "source": [
    "### __Applications:__"
   ]
  },
  {
   "cell_type": "markdown",
   "metadata": {},
   "source": [
    "Eigenvalues and eigenvectors are used in the following areas:\n",
    "\n",
    "- __Linear transformations:__ Eigenvalues and eigenvectors understand and analyze the behavior of linear transformations. They provide insights into how the transformation affects different directions in the vector space.\n",
    "- __Differential equations:__ Eigenvalues and eigenvectors solve systems of ordinary and partial differential equations. They help find solutions that have exponential growth or decay behavior.\n",
    "- __Structural analysis:__ In structural engineering, eigenvalues and eigenvectors analyze the stability and modes of vibration of structures."
   ]
  },
  {
   "cell_type": "markdown",
   "metadata": {
    "id": "gzP5s1QMo-57"
   },
   "source": [
    "### __Python Code for Finding the Eigenvalues and Eigenvectors of a 2X2 Matrix__"
   ]
  },
  {
   "cell_type": "code",
   "execution_count": 18,
   "metadata": {
    "colab": {
     "base_uri": "https://localhost:8080/"
    },
    "executionInfo": {
     "elapsed": 785,
     "status": "ok",
     "timestamp": 1716226201976,
     "user": {
      "displayName": "Ashish Jangid",
      "userId": "15170006874299393728"
     },
     "user_tz": -330
    },
    "id": "93pe73AZo-57",
    "outputId": "3b83581e-b8ab-461a-c3bc-694e30931291"
   },
   "outputs": [
    {
     "name": "stdout",
     "output_type": "stream",
     "text": [
      "Eigenvalues: (5.0, 2.0)\n",
      "Eigenvectors: [[2.0, 1], [-1.0, 1]]\n"
     ]
    }
   ],
   "source": [
    "def find_eigenvalues(matrix):\n",
    "    # Extract matrix elements\n",
    "    a, b, c, d = matrix[0][0], matrix[0][1], matrix[1][0], matrix[1][1]\n",
    "\n",
    "    # Calculate the trace and determinant of the matrix\n",
    "    trace = a + d\n",
    "    determinant = a * d - b * c\n",
    "\n",
    "    # Use the quadratic formula to find eigenvalues\n",
    "    eigenvalue1 = (trace + (trace**2 - 4 * determinant)**0.5) / 2\n",
    "    eigenvalue2 = (trace - (trace**2 - 4 * determinant)**0.5) / 2\n",
    "\n",
    "    return eigenvalue1, eigenvalue2\n",
    "\n",
    "def find_eigenvectors(matrix, eigenvalues):\n",
    "    eigenvectors = []\n",
    "    for lambd in eigenvalues:\n",
    "        # Solve for the eigenvector corresponding to each eigenvalue\n",
    "        a, b, c, d = matrix[0][0], matrix[0][1], matrix[1][0], matrix[1][1]\n",
    "        # Form the system (A -  lambda*I)*v = 0\n",
    "        # where A is the matrix, lambda is the eigenvalue, and v is the eigenvector\n",
    "        vec_matrix = [[a - lambd, b], [c, d - lambd]]\n",
    "        # Assume the second component of the eigenvector is 1 (for simplicity)\n",
    "        # The solution for the first component of the eigenvector\n",
    "        if vec_matrix[0][0] != 0:  # Avoid division by zero\n",
    "            eigenvector_first_component = -vec_matrix[0][1] / vec_matrix[0][0]\n",
    "        else:\n",
    "            eigenvector_first_component = 1\n",
    "        eigenvectors.append([eigenvector_first_component, 1])\n",
    "    return eigenvectors\n",
    "\n",
    "# Define a 2x2 matrix\n",
    "matrix = [[4, 2], [1, 3]]\n",
    "\n",
    "# Find eigenvalues\n",
    "eigenvalues = find_eigenvalues(matrix)\n",
    "print(\"Eigenvalues:\", eigenvalues)\n",
    "\n",
    "# Find eigenvectors\n",
    "eigenvectors = find_eigenvectors(matrix, eigenvalues)\n",
    "print(\"Eigenvectors:\", eigenvectors)"
   ]
  },
  {
   "cell_type": "markdown",
   "metadata": {
    "id": "j34IErqUo-58"
   },
   "source": [
    "## __13. Calculus in Linear Algebra__\n",
    "\n",
    "Calculus is the branch of mathematics that studies continuous changes in quantities. It commonly measures quantities such as the slopes of curves or objects.\n",
    "\n",
    "Calculus can be broadly divided into two types:\n",
    "\n",
    "![differeninte.PNG](https://s3.us-east-1.amazonaws.com/static2.simplilearn.com/lms/testpaper_images/ADSP/Advanced_Statistics/LinearRegression/differeninte.PNG)\n",
    "\n",
    "While the former concerns instantaneous rates of change and the slopes of curves, the latter explores the accumulation of quantities and areas under or between curves.\n",
    "\n",
    "It is necessary for developing an intuition for machine learning algorithms.\n"
   ]
  },
  {
   "cell_type": "markdown",
   "metadata": {
    "id": "cUzk-o0Qo-58"
   },
   "source": [
    "### __13.1 Differential Calculus__"
   ]
  },
  {
   "cell_type": "markdown",
   "metadata": {
    "id": "3A-9g_I7o-58"
   },
   "source": [
    "Differential calculus is applied in important machine learning algorithms like Gradient Descent. Gradient Descent is vital in the backpropagation of Neural Networks. It measures how the output of a function changes when the input changes in small amounts.\n",
    "\n",
    "\n",
    "\n",
    "\n",
    "\n"
   ]
  },
  {
   "cell_type": "markdown",
   "metadata": {
    "id": "xlaa74Fmo-58"
   },
   "source": [
    "#### __Applications of Differential Calculus in Machine Learning Algorithms__"
   ]
  },
  {
   "cell_type": "markdown",
   "metadata": {
    "id": "a6tShdHJo-58"
   },
   "source": [
    "\n",
    "\n",
    "![link text](https://labcontent.simplicdn.net/data-content/content-assets/Data_and_AI/ADSP_Images/Lesson_06_Maths_and_Stats/Linear_Algebra/Image_20.png)\n",
    "\n"
   ]
  },
  {
   "cell_type": "markdown",
   "metadata": {
    "id": "n-Jo0D_ho-59"
   },
   "source": [
    "### __13.2 Integral Calculus__"
   ]
  },
  {
   "cell_type": "markdown",
   "metadata": {
    "id": "X2QGMYGfo-59"
   },
   "source": [
    "Integral calculus is commonly used to determine the probability of events. For example, it helps you find the posterior in a Bayesian model or bound the error in a sequential decision per the Neyman-Pearson Lemma."
   ]
  },
  {
   "cell_type": "markdown",
   "metadata": {
    "id": "DFuZ7VTEo-59"
   },
   "source": [
    "## **Important**\n",
    "\n",
    "You have been performing matrix operations by defining individual functions for each one. Now, it's time to streamline your approach using the powerful NumPy library, which includes the `numpy.linalg` module. This change simplifies your code and enhances computational efficiency. NumPy allows you to perform complex matrix operations with concise and optimized functions. This eliminates the need for manually written, function-specific code. Embrace this shift to fully utilize Python's capabilities for handling linear algebra operations."
   ]
  },
  {
   "cell_type": "markdown",
   "metadata": {
    "id": "9pRVZVEno-59"
   },
   "source": [
    "Below are the NumPy functions that you can explore:\n",
    "    \n",
    "- numpy.add(matrix1, matrix2)\n",
    "\n",
    "- numpy.subtract(matrix1, matrix2)\n",
    "\n",
    "- numpy.multiply(matrix1, matrix2)\n",
    "\n",
    "- numpy.divide(matrix1, matrix2)\n",
    "\n",
    "- numpy.dot(matrix1, matrix2)\n",
    "\n",
    "- numpy.transpose(matrix)\n",
    "\n",
    "- numpy.linalg.inv(matrix)\n",
    "\n",
    "- numpy.linalg.det(matrix)\n",
    "\n",
    "- numpy.linalg.eig(matrix)\n",
    "\n",
    "- numpy.linalg.matrix_rank(matrix)"
   ]
  },
  {
   "cell_type": "markdown",
   "metadata": {
    "id": "1FzjcemIo-59"
   },
   "source": [
    "## __Assisted Practice__"
   ]
  },
  {
   "cell_type": "markdown",
   "metadata": {
    "id": "033yZqQfo-5-"
   },
   "source": [
    "### **Problem Statement:**\n",
    "\n",
    "You are given two matrices, A and B. Use the NumPy library to perform various matrix operations. This exercise will help you grasp the fundamental concepts of linear algebra and their application in Python. Here are the two matrices:"
   ]
  },
  {
   "cell_type": "markdown",
   "metadata": {
    "id": "aENj-EB_o-5-"
   },
   "source": [
    "Matrix A:\n",
    "\n",
    "\\begin{equation}\n",
    "  \\begin{bmatrix}\n",
    "    4 & 7 \\\\\n",
    "    2 & 6\n",
    "  \\end{bmatrix}\n",
    "  \\label{eq:aeqn}\n",
    "\\end{equation}"
   ]
  },
  {
   "cell_type": "markdown",
   "metadata": {
    "id": "kbJEE7byo-5-"
   },
   "source": [
    "Matrix B:\n",
    "\n",
    "\\begin{equation}\n",
    "  \\begin{bmatrix}\n",
    "    5 & 8 \\\\\n",
    "    3 & 4\n",
    "  \\end{bmatrix}\n",
    "  \\label{eq:aeqn}\n",
    "\\end{equation}"
   ]
  },
  {
   "cell_type": "markdown",
   "metadata": {
    "id": "D3oe3ka4o-5-"
   },
   "source": [
    "**Steps to perform:**\n",
    "- Add Matrix A and Matrix B\n",
    "- Multiply Matrix A and Matrix B\n",
    "- Transpose Matrix A\n",
    "- Find the determinant of Matrix B\n",
    "- Find the inverse of Matrix A (if it exists)\n",
    "\n",
    "**Note:** Compute the above operation using the NumPy library"
   ]
  },
  {
   "cell_type": "code",
   "execution_count": null,
   "metadata": {
    "id": "8lFNxqf11ld4"
   },
   "outputs": [],
   "source": []
  }
 ],
 "metadata": {
  "colab": {
   "provenance": []
  },
  "kernelspec": {
   "display_name": "Python [conda env:base] *",
   "language": "python",
   "name": "conda-base-py"
  },
  "language_info": {
   "codemirror_mode": {
    "name": "ipython",
    "version": 3
   },
   "file_extension": ".py",
   "mimetype": "text/x-python",
   "name": "python",
   "nbconvert_exporter": "python",
   "pygments_lexer": "ipython3",
   "version": "3.12.7"
  }
 },
 "nbformat": 4,
 "nbformat_minor": 4
}
