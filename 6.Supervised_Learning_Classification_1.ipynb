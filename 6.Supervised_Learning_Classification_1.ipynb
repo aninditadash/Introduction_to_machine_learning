{
 "cells": [
  {
   "cell_type": "markdown",
   "metadata": {
    "id": "SLU58L6lN1Iz"
   },
   "source": [
    "# __Supervised Learning: Classification__"
   ]
  },
  {
   "cell_type": "markdown",
   "metadata": {
    "id": "ZNqIaKrqN96V"
   },
   "source": [
    "- Classification\n",
    "- Applications of Classification\n",
    "- Types of Classification\n",
    "- Binary Classification\n",
    "  * Logistic Regression\n",
    "    * Mathematical Concept of Logistic Regression\n",
    "    * Example with Breast Cancer Dataset\n",
    "  * Performance Metrics Used in Classification\n",
    "    * Significance of the Confusion Matrix\n",
    "  * Naive Bayes Classifier\n",
    "    * Mathematical Concept of Naive Bayes\n",
    "    * Applying Naive Bayes Algorithm on Breast Cancer Dataset\n",
    "  * K-Nearest Neighbors (KNN)\n",
    "    * Applying K-Nearest Neighbors on Breast Cancer Dataset\n",
    "    * Hyperparameter Tuning in KNN\n",
    "  * Decision Tree\n",
    "    * How Decision Trees Work\n",
    "    * Metrics for Splitting\n",
    "    * Pruning\n",
    "    * Applying Decision Tree on Breast Cancer Dataset\n",
    "    * Hyperparameter Tuning in Decision Tree\n",
    "  * Support Vector Machine (SVM)\n",
    "    * Applying SVM on Breast Cancer Dataset\n",
    "    * Hyperparameter Tuning\n",
    "\n",
    "\n",
    "\n",
    "\n",
    "\n",
    "\n",
    "\n",
    "\n",
    "\n",
    "\n"
   ]
  },
  {
   "cell_type": "markdown",
   "metadata": {
    "id": "rrN7D3tkrroK"
   },
   "source": [
    "## __Classification__ ##"
   ]
  },
  {
   "cell_type": "markdown",
   "metadata": {
    "id": "9lnu0TqyN-GC"
   },
   "source": [
    "Classification is a supervised machine learning technique where the model is trained to predict the class label of a given input data. It looks for the decision boundary, which divides the dataset into different classes.\n"
   ]
  },
  {
   "cell_type": "markdown",
   "metadata": {
    "id": "hTps1qOL5WqY"
   },
   "source": [
    "Classification algorithms categorize data into distinct classes or categories, as illustrated by the separation of Class A and Class B in the graph.\n",
    "\n",
    "<img src=\"https://labcontent.simplicdn.net/data-content/content-assets/Data_and_AI/ML/updated/Lesson_05/Classification.png\" width = 400 height = 400 />"
   ]
  },
  {
   "cell_type": "markdown",
   "metadata": {
    "id": "s5T_Jv96N-QP"
   },
   "source": [
    "### __Applications of Classification__\n",
    "\n",
    "**1.Healthcare:** Classification models diagnose diseases, assess patient risk, and identify medical conditions from diagnostic tests or imaging data. These tasks involve categorizing patients or medical conditions into predefined classes.\n",
    "\n",
    "**2.Finance:** Banks and financial institutions use classification algorithms for credit scoring and fraud detection. These applications involve classifying individuals into categories such as \"high risk\" or \"low risk\" for credit scoring, and \"fraudulent\" or \"non-fraudulent\" for fraud detection.\n",
    "\n",
    "**3.Marketing:** Classification aids in customer segmentation and target marketing. It helps businesses identify potential customers and tailor marketing strategies by categorizing customers based on their behavior, preferences, and demographics.\n",
    "\n",
    "**4.Retail:** In retail, classification algorithms are crucial for managing inventory, forecasting demand, and personalizing product recommendations. By classifying products and customer preferences, these algorithms optimize stock levels and provide custom recommendations to the customers.\n",
    "\n",
    "**5.Manufacturing:** Classification is essential for quality control and fault detection in manufacturing. It identifies product defects, classifies items as faulty or non-faulty, and optimizes production processes to minimize downtime."
   ]
  },
  {
   "cell_type": "markdown",
   "metadata": {
    "id": "xHtr3R1AwPKe"
   },
   "source": [
    "### __Types of Classification__\n",
    "\n",
    "<img src=\"https://labcontent.simplicdn.net/data-content/content-assets/Data_and_AI/ML/Classification_Part_1/image_1.jpg\" width = 600 height = 600 />"
   ]
  },
  {
   "cell_type": "markdown",
   "metadata": {
    "id": "tHGga-Hx7C1A"
   },
   "source": [
    "## __Binary Classification__"
   ]
  },
  {
   "cell_type": "markdown",
   "metadata": {
    "id": "gL2qxA8b7C3u"
   },
   "source": [
    "Binary classification is the most simple type of classification, where the model predicts one of two possible outcomes. For example, yes or no, true or false, spam or not spam.\n",
    "\n",
    "Some popular algorithms used for binary classification are:\n",
    "\n",
    "- Logistic Regression\n",
    "- Naïve Bayes\n",
    "- K-Nearest Neighbors (KNN)\n",
    "- Decision Trees\n",
    "- Support Vector Machines (SVM)\n",
    "\n",
    "While these methods excel in binary settings, they are equally capable of handling multi-class classification tasks. This versatility allows them to be used in a wider range of applications, such as recognizing multiple categories of objects in images or predicting several types of customer behavior."
   ]
  },
  {
   "cell_type": "markdown",
   "metadata": {
    "id": "9f5KY1MQ0-Iz"
   },
   "source": [
    "### __Logistic Regression:__\n",
    "\n",
    "**Logistic regression** is a supervised machine learning technique primarily used for binary classification. In this method, we apply the sigmoid function to the linear combination of independent variables/predictors (features). This produces a probability value between 0 and 1. This probability represents the likelihood of a datapoint belonging to a specific class (e.g., positive or negative outcome).\n",
    "\n",
    "\n",
    "If the estimated probability is\n",
    "greater than 0.5, then the model predicts that the instance belongs to a positive class labeled “1” or else it predicts that it does not (i.e., it\n",
    "belongs to the negative class, labeled “0”). This makes it a binary classifier."
   ]
  },
  {
   "cell_type": "markdown",
   "metadata": {
    "id": "RdJPea1Z7N8z"
   },
   "source": [
    "#### **Mathematical Concept of Logistic Regression:**\n",
    "\n",
    "**1. Logistic Function (Sigmoid Function):**\n",
    "The core of logistic regression is the logistic function, also known as the sigmoid function (denoted by $\\sigma(z)$), which maps any real-valued number into the range (0, 1).\n",
    "\n",
    "$$\n",
    "\\sigma(z) = \\frac{1}{1 + e^{-z}}\n",
    "$$\n",
    "\n",
    "\n",
    "Where,\n",
    " `z` is a linear combination of the input features. This function outputs the probability of the input belonging to the positive class (class 1).\n",
    "\n",
    "**2. Linear Combination of Inputs:**\n",
    "The input features 𝑋 are combined linearly using weights 𝑤 and a bias term 𝑏:\n",
    "\n",
    "$$\n",
    "z = w \\cdot X + b\n",
    "$$\n",
    "\n",
    "**3. Prediction:**\n",
    "The logistic regression model predicts the probability of the class being positive or negative (class 1 or class 0) as:\n",
    "\n",
    "$$\n",
    "\\sigma(z) = P(y=1 \\mid X) = \\sigma(z) = \\frac{1}{1 + e^{-(w \\cdot X + b)}}\n",
    "$$\n",
    "\n",
    "\n",
    "To make a final binary decision, a threshold (usually 0.5) is applied to this probability. If 𝜎(𝑧)≥0.5, the prediction is class 1; otherwise, it's class 0.\n",
    "\n",
    "**4. Cost Function:**\n",
    "The cost function used in logistic regression is the __binary cross-entropy (log loss)__, which measures the discrepancy between the predicted probabilities and the actual class labels:\n",
    "\n",
    "$$\n",
    "J(w, b) = -\\frac{1}{m} \\sum_{i=1}^m \\left[ y_{(i)} \\log(\\hat{y}_{(i)}) + (1 - y_{(i)}) \\log(1 - \\hat{y}_{(i)}) \\right]\n",
    "$$\n",
    "\n",
    "\n",
    "Where\n",
    "𝑚 is the number of training examples, $y_{(i)}$ is the true label, and $\\hat{y}_{(i)}$ is the predicted probability for the 𝑖-th example.\n",
    "\n",
    "**5. Optimization:**\n",
    "The goal is to find the weights 𝑤 and bias 𝑏 that minimize the cost function. This is typically done using gradient descent."
   ]
  },
  {
   "cell_type": "markdown",
   "metadata": {
    "id": "0mZSzhm-QfrU"
   },
   "source": [
    "#### **Example with Breast Cancer Dataset**\n",
    "\n",
    "#### **Dataset Description:**\n",
    " The Breast Cancer Wisconsin (Diagnostic) dataset is a widely used dataset in the field of machine learning, particularly in classification problems related to medical diagnosis.This dataset consists of breast cancer cases derived from a group of patients who underwent surgery and had their breast mass tissue sampled.\n",
    "\n",
    "**Number of Instances:** It contains 569 instances, each representing an individual sample of breast tissue.\n",
    "\n",
    "**Number of Attributes:** There are 30 numeric attributes computed from digitized images of the tissue samples. These attributes are measurements of the cell nuclei present in the images.\n",
    "\n",
    "**The attributes include:**\n",
    "\n",
    "- Radius (mean of distances from center to points on the perimeter)\n",
    "- Texture (standard deviation of gray-scale values)\n",
    "- Perimeter\n",
    "- Area\n",
    "- Smoothness (local variation in radius lengths)\n",
    "- Compactness (perimeter^2 / area - 1.0)\n",
    "- Concavity (severity of concave portions of the contour)\n",
    "- Concave points (number of concave portions of the contour)\n",
    "- Symmetry\n",
    "- Fractal dimension (\"coastline approximation\" - 1)\n",
    "- The target variable, `diagnosis`, indicates the cancer type, which can be \"M\" (Malignant) or \"B\" (Benign). The objective is to predict whether the tissue sample is benign or malignant\n",
    "\n",
    "\n",
    "**Note:** We will use this dataset to explore and compare various binary classification algorithms, examining how their performance varies depending on the type and implementation of each algorithm, accompanied by their mathematical explanations.\n",
    "\n",
    "\n"
   ]
  },
  {
   "cell_type": "markdown",
   "metadata": {
    "id": "xya_Z1r31u55"
   },
   "source": [
    "Let's first start with the implementation of **logistic regression**, but make sure to conduct proper data preprocessing to make it suitable for modeling. This step may include \n",
    "- handling missing values\n",
    "- scaling features, and\n",
    "- encoding categorical variables"
   ]
  },
  {
   "cell_type": "code",
   "execution_count": 453,
   "metadata": {
    "executionInfo": {
     "elapsed": 4558,
     "status": "ok",
     "timestamp": 1718714528752,
     "user": {
      "displayName": "Vikas Singh",
      "userId": "04375885343580620832"
     },
     "user_tz": -330
    },
    "id": "r47qULhOPOWM"
   },
   "outputs": [],
   "source": [
    "# Import the necessary libraries\n",
    "import pandas as pd\n",
    "import numpy as np\n",
    "import seaborn as sns\n",
    "import matplotlib.pyplot as plt\n",
    "from sklearn.model_selection import train_test_split\n",
    "from sklearn.preprocessing import StandardScaler\n",
    "from sklearn.pipeline import Pipeline\n",
    "from sklearn.linear_model import LogisticRegression\n",
    "from sklearn.metrics import accuracy_score"
   ]
  },
  {
   "cell_type": "code",
   "execution_count": 455,
   "metadata": {
    "colab": {
     "base_uri": "https://localhost:8080/",
     "height": 273
    },
    "executionInfo": {
     "elapsed": 19,
     "status": "ok",
     "timestamp": 1718714528754,
     "user": {
      "displayName": "Vikas Singh",
      "userId": "04375885343580620832"
     },
     "user_tz": -330
    },
    "id": "WzxPNTSeXkcS",
    "outputId": "bd0ddd7e-f00c-4d0c-94b0-8c39fee28dbb"
   },
   "outputs": [
    {
     "data": {
      "text/html": [
       "<div>\n",
       "<style scoped>\n",
       "    .dataframe tbody tr th:only-of-type {\n",
       "        vertical-align: middle;\n",
       "    }\n",
       "\n",
       "    .dataframe tbody tr th {\n",
       "        vertical-align: top;\n",
       "    }\n",
       "\n",
       "    .dataframe thead th {\n",
       "        text-align: right;\n",
       "    }\n",
       "</style>\n",
       "<table border=\"1\" class=\"dataframe\">\n",
       "  <thead>\n",
       "    <tr style=\"text-align: right;\">\n",
       "      <th></th>\n",
       "      <th>id</th>\n",
       "      <th>diagnosis</th>\n",
       "      <th>radius_mean</th>\n",
       "      <th>texture_mean</th>\n",
       "      <th>perimeter_mean</th>\n",
       "      <th>area_mean</th>\n",
       "      <th>smoothness_mean</th>\n",
       "      <th>compactness_mean</th>\n",
       "      <th>concavity_mean</th>\n",
       "      <th>concave points_mean</th>\n",
       "      <th>...</th>\n",
       "      <th>texture_worst</th>\n",
       "      <th>perimeter_worst</th>\n",
       "      <th>area_worst</th>\n",
       "      <th>smoothness_worst</th>\n",
       "      <th>compactness_worst</th>\n",
       "      <th>concavity_worst</th>\n",
       "      <th>concave points_worst</th>\n",
       "      <th>symmetry_worst</th>\n",
       "      <th>fractal_dimension_worst</th>\n",
       "      <th>Unnamed: 32</th>\n",
       "    </tr>\n",
       "  </thead>\n",
       "  <tbody>\n",
       "    <tr>\n",
       "      <th>0</th>\n",
       "      <td>842302</td>\n",
       "      <td>M</td>\n",
       "      <td>17.99</td>\n",
       "      <td>10.38</td>\n",
       "      <td>122.80</td>\n",
       "      <td>1001.0</td>\n",
       "      <td>0.11840</td>\n",
       "      <td>0.27760</td>\n",
       "      <td>0.3001</td>\n",
       "      <td>0.14710</td>\n",
       "      <td>...</td>\n",
       "      <td>17.33</td>\n",
       "      <td>184.60</td>\n",
       "      <td>2019.0</td>\n",
       "      <td>0.1622</td>\n",
       "      <td>0.6656</td>\n",
       "      <td>0.7119</td>\n",
       "      <td>0.2654</td>\n",
       "      <td>0.4601</td>\n",
       "      <td>0.11890</td>\n",
       "      <td>NaN</td>\n",
       "    </tr>\n",
       "    <tr>\n",
       "      <th>1</th>\n",
       "      <td>842517</td>\n",
       "      <td>M</td>\n",
       "      <td>20.57</td>\n",
       "      <td>17.77</td>\n",
       "      <td>132.90</td>\n",
       "      <td>1326.0</td>\n",
       "      <td>0.08474</td>\n",
       "      <td>0.07864</td>\n",
       "      <td>0.0869</td>\n",
       "      <td>0.07017</td>\n",
       "      <td>...</td>\n",
       "      <td>23.41</td>\n",
       "      <td>158.80</td>\n",
       "      <td>1956.0</td>\n",
       "      <td>0.1238</td>\n",
       "      <td>0.1866</td>\n",
       "      <td>0.2416</td>\n",
       "      <td>0.1860</td>\n",
       "      <td>0.2750</td>\n",
       "      <td>0.08902</td>\n",
       "      <td>NaN</td>\n",
       "    </tr>\n",
       "    <tr>\n",
       "      <th>2</th>\n",
       "      <td>84300903</td>\n",
       "      <td>M</td>\n",
       "      <td>19.69</td>\n",
       "      <td>21.25</td>\n",
       "      <td>130.00</td>\n",
       "      <td>1203.0</td>\n",
       "      <td>0.10960</td>\n",
       "      <td>0.15990</td>\n",
       "      <td>0.1974</td>\n",
       "      <td>0.12790</td>\n",
       "      <td>...</td>\n",
       "      <td>25.53</td>\n",
       "      <td>152.50</td>\n",
       "      <td>1709.0</td>\n",
       "      <td>0.1444</td>\n",
       "      <td>0.4245</td>\n",
       "      <td>0.4504</td>\n",
       "      <td>0.2430</td>\n",
       "      <td>0.3613</td>\n",
       "      <td>0.08758</td>\n",
       "      <td>NaN</td>\n",
       "    </tr>\n",
       "    <tr>\n",
       "      <th>3</th>\n",
       "      <td>84348301</td>\n",
       "      <td>M</td>\n",
       "      <td>11.42</td>\n",
       "      <td>20.38</td>\n",
       "      <td>77.58</td>\n",
       "      <td>386.1</td>\n",
       "      <td>0.14250</td>\n",
       "      <td>0.28390</td>\n",
       "      <td>0.2414</td>\n",
       "      <td>0.10520</td>\n",
       "      <td>...</td>\n",
       "      <td>26.50</td>\n",
       "      <td>98.87</td>\n",
       "      <td>567.7</td>\n",
       "      <td>0.2098</td>\n",
       "      <td>0.8663</td>\n",
       "      <td>0.6869</td>\n",
       "      <td>0.2575</td>\n",
       "      <td>0.6638</td>\n",
       "      <td>0.17300</td>\n",
       "      <td>NaN</td>\n",
       "    </tr>\n",
       "    <tr>\n",
       "      <th>4</th>\n",
       "      <td>84358402</td>\n",
       "      <td>M</td>\n",
       "      <td>20.29</td>\n",
       "      <td>14.34</td>\n",
       "      <td>135.10</td>\n",
       "      <td>1297.0</td>\n",
       "      <td>0.10030</td>\n",
       "      <td>0.13280</td>\n",
       "      <td>0.1980</td>\n",
       "      <td>0.10430</td>\n",
       "      <td>...</td>\n",
       "      <td>16.67</td>\n",
       "      <td>152.20</td>\n",
       "      <td>1575.0</td>\n",
       "      <td>0.1374</td>\n",
       "      <td>0.2050</td>\n",
       "      <td>0.4000</td>\n",
       "      <td>0.1625</td>\n",
       "      <td>0.2364</td>\n",
       "      <td>0.07678</td>\n",
       "      <td>NaN</td>\n",
       "    </tr>\n",
       "  </tbody>\n",
       "</table>\n",
       "<p>5 rows × 33 columns</p>\n",
       "</div>"
      ],
      "text/plain": [
       "         id diagnosis  radius_mean  texture_mean  perimeter_mean  area_mean  \\\n",
       "0    842302         M        17.99         10.38          122.80     1001.0   \n",
       "1    842517         M        20.57         17.77          132.90     1326.0   \n",
       "2  84300903         M        19.69         21.25          130.00     1203.0   \n",
       "3  84348301         M        11.42         20.38           77.58      386.1   \n",
       "4  84358402         M        20.29         14.34          135.10     1297.0   \n",
       "\n",
       "   smoothness_mean  compactness_mean  concavity_mean  concave points_mean  \\\n",
       "0          0.11840           0.27760          0.3001              0.14710   \n",
       "1          0.08474           0.07864          0.0869              0.07017   \n",
       "2          0.10960           0.15990          0.1974              0.12790   \n",
       "3          0.14250           0.28390          0.2414              0.10520   \n",
       "4          0.10030           0.13280          0.1980              0.10430   \n",
       "\n",
       "   ...  texture_worst  perimeter_worst  area_worst  smoothness_worst  \\\n",
       "0  ...          17.33           184.60      2019.0            0.1622   \n",
       "1  ...          23.41           158.80      1956.0            0.1238   \n",
       "2  ...          25.53           152.50      1709.0            0.1444   \n",
       "3  ...          26.50            98.87       567.7            0.2098   \n",
       "4  ...          16.67           152.20      1575.0            0.1374   \n",
       "\n",
       "   compactness_worst  concavity_worst  concave points_worst  symmetry_worst  \\\n",
       "0             0.6656           0.7119                0.2654          0.4601   \n",
       "1             0.1866           0.2416                0.1860          0.2750   \n",
       "2             0.4245           0.4504                0.2430          0.3613   \n",
       "3             0.8663           0.6869                0.2575          0.6638   \n",
       "4             0.2050           0.4000                0.1625          0.2364   \n",
       "\n",
       "   fractal_dimension_worst  Unnamed: 32  \n",
       "0                  0.11890          NaN  \n",
       "1                  0.08902          NaN  \n",
       "2                  0.08758          NaN  \n",
       "3                  0.17300          NaN  \n",
       "4                  0.07678          NaN  \n",
       "\n",
       "[5 rows x 33 columns]"
      ]
     },
     "execution_count": 455,
     "metadata": {},
     "output_type": "execute_result"
    }
   ],
   "source": [
    "breast_cancer_data = pd.read_csv('datasets/Breast_cancer_dataset.csv')\n",
    "breast_cancer_data.head()"
   ]
  },
  {
   "cell_type": "code",
   "execution_count": 457,
   "metadata": {},
   "outputs": [
    {
     "data": {
      "text/html": [
       "<div>\n",
       "<style scoped>\n",
       "    .dataframe tbody tr th:only-of-type {\n",
       "        vertical-align: middle;\n",
       "    }\n",
       "\n",
       "    .dataframe tbody tr th {\n",
       "        vertical-align: top;\n",
       "    }\n",
       "\n",
       "    .dataframe thead th {\n",
       "        text-align: right;\n",
       "    }\n",
       "</style>\n",
       "<table border=\"1\" class=\"dataframe\">\n",
       "  <thead>\n",
       "    <tr style=\"text-align: right;\">\n",
       "      <th></th>\n",
       "      <th>id</th>\n",
       "      <th>diagnosis</th>\n",
       "      <th>radius_mean</th>\n",
       "      <th>texture_mean</th>\n",
       "      <th>perimeter_mean</th>\n",
       "      <th>area_mean</th>\n",
       "      <th>smoothness_mean</th>\n",
       "      <th>compactness_mean</th>\n",
       "      <th>concavity_mean</th>\n",
       "      <th>concave points_mean</th>\n",
       "      <th>...</th>\n",
       "      <th>texture_worst</th>\n",
       "      <th>perimeter_worst</th>\n",
       "      <th>area_worst</th>\n",
       "      <th>smoothness_worst</th>\n",
       "      <th>compactness_worst</th>\n",
       "      <th>concavity_worst</th>\n",
       "      <th>concave points_worst</th>\n",
       "      <th>symmetry_worst</th>\n",
       "      <th>fractal_dimension_worst</th>\n",
       "      <th>Unnamed: 32</th>\n",
       "    </tr>\n",
       "  </thead>\n",
       "  <tbody>\n",
       "    <tr>\n",
       "      <th>564</th>\n",
       "      <td>926424</td>\n",
       "      <td>M</td>\n",
       "      <td>21.56</td>\n",
       "      <td>22.39</td>\n",
       "      <td>142.00</td>\n",
       "      <td>1479.0</td>\n",
       "      <td>0.11100</td>\n",
       "      <td>0.11590</td>\n",
       "      <td>0.24390</td>\n",
       "      <td>0.13890</td>\n",
       "      <td>...</td>\n",
       "      <td>26.40</td>\n",
       "      <td>166.10</td>\n",
       "      <td>2027.0</td>\n",
       "      <td>0.14100</td>\n",
       "      <td>0.21130</td>\n",
       "      <td>0.4107</td>\n",
       "      <td>0.2216</td>\n",
       "      <td>0.2060</td>\n",
       "      <td>0.07115</td>\n",
       "      <td>NaN</td>\n",
       "    </tr>\n",
       "    <tr>\n",
       "      <th>565</th>\n",
       "      <td>926682</td>\n",
       "      <td>M</td>\n",
       "      <td>20.13</td>\n",
       "      <td>28.25</td>\n",
       "      <td>131.20</td>\n",
       "      <td>1261.0</td>\n",
       "      <td>0.09780</td>\n",
       "      <td>0.10340</td>\n",
       "      <td>0.14400</td>\n",
       "      <td>0.09791</td>\n",
       "      <td>...</td>\n",
       "      <td>38.25</td>\n",
       "      <td>155.00</td>\n",
       "      <td>1731.0</td>\n",
       "      <td>0.11660</td>\n",
       "      <td>0.19220</td>\n",
       "      <td>0.3215</td>\n",
       "      <td>0.1628</td>\n",
       "      <td>0.2572</td>\n",
       "      <td>0.06637</td>\n",
       "      <td>NaN</td>\n",
       "    </tr>\n",
       "    <tr>\n",
       "      <th>566</th>\n",
       "      <td>926954</td>\n",
       "      <td>M</td>\n",
       "      <td>16.60</td>\n",
       "      <td>28.08</td>\n",
       "      <td>108.30</td>\n",
       "      <td>858.1</td>\n",
       "      <td>0.08455</td>\n",
       "      <td>0.10230</td>\n",
       "      <td>0.09251</td>\n",
       "      <td>0.05302</td>\n",
       "      <td>...</td>\n",
       "      <td>34.12</td>\n",
       "      <td>126.70</td>\n",
       "      <td>1124.0</td>\n",
       "      <td>0.11390</td>\n",
       "      <td>0.30940</td>\n",
       "      <td>0.3403</td>\n",
       "      <td>0.1418</td>\n",
       "      <td>0.2218</td>\n",
       "      <td>0.07820</td>\n",
       "      <td>NaN</td>\n",
       "    </tr>\n",
       "    <tr>\n",
       "      <th>567</th>\n",
       "      <td>927241</td>\n",
       "      <td>M</td>\n",
       "      <td>20.60</td>\n",
       "      <td>29.33</td>\n",
       "      <td>140.10</td>\n",
       "      <td>1265.0</td>\n",
       "      <td>0.11780</td>\n",
       "      <td>0.27700</td>\n",
       "      <td>0.35140</td>\n",
       "      <td>0.15200</td>\n",
       "      <td>...</td>\n",
       "      <td>39.42</td>\n",
       "      <td>184.60</td>\n",
       "      <td>1821.0</td>\n",
       "      <td>0.16500</td>\n",
       "      <td>0.86810</td>\n",
       "      <td>0.9387</td>\n",
       "      <td>0.2650</td>\n",
       "      <td>0.4087</td>\n",
       "      <td>0.12400</td>\n",
       "      <td>NaN</td>\n",
       "    </tr>\n",
       "    <tr>\n",
       "      <th>568</th>\n",
       "      <td>92751</td>\n",
       "      <td>B</td>\n",
       "      <td>7.76</td>\n",
       "      <td>24.54</td>\n",
       "      <td>47.92</td>\n",
       "      <td>181.0</td>\n",
       "      <td>0.05263</td>\n",
       "      <td>0.04362</td>\n",
       "      <td>0.00000</td>\n",
       "      <td>0.00000</td>\n",
       "      <td>...</td>\n",
       "      <td>30.37</td>\n",
       "      <td>59.16</td>\n",
       "      <td>268.6</td>\n",
       "      <td>0.08996</td>\n",
       "      <td>0.06444</td>\n",
       "      <td>0.0000</td>\n",
       "      <td>0.0000</td>\n",
       "      <td>0.2871</td>\n",
       "      <td>0.07039</td>\n",
       "      <td>NaN</td>\n",
       "    </tr>\n",
       "  </tbody>\n",
       "</table>\n",
       "<p>5 rows × 33 columns</p>\n",
       "</div>"
      ],
      "text/plain": [
       "         id diagnosis  radius_mean  texture_mean  perimeter_mean  area_mean  \\\n",
       "564  926424         M        21.56         22.39          142.00     1479.0   \n",
       "565  926682         M        20.13         28.25          131.20     1261.0   \n",
       "566  926954         M        16.60         28.08          108.30      858.1   \n",
       "567  927241         M        20.60         29.33          140.10     1265.0   \n",
       "568   92751         B         7.76         24.54           47.92      181.0   \n",
       "\n",
       "     smoothness_mean  compactness_mean  concavity_mean  concave points_mean  \\\n",
       "564          0.11100           0.11590         0.24390              0.13890   \n",
       "565          0.09780           0.10340         0.14400              0.09791   \n",
       "566          0.08455           0.10230         0.09251              0.05302   \n",
       "567          0.11780           0.27700         0.35140              0.15200   \n",
       "568          0.05263           0.04362         0.00000              0.00000   \n",
       "\n",
       "     ...  texture_worst  perimeter_worst  area_worst  smoothness_worst  \\\n",
       "564  ...          26.40           166.10      2027.0           0.14100   \n",
       "565  ...          38.25           155.00      1731.0           0.11660   \n",
       "566  ...          34.12           126.70      1124.0           0.11390   \n",
       "567  ...          39.42           184.60      1821.0           0.16500   \n",
       "568  ...          30.37            59.16       268.6           0.08996   \n",
       "\n",
       "     compactness_worst  concavity_worst  concave points_worst  symmetry_worst  \\\n",
       "564            0.21130           0.4107                0.2216          0.2060   \n",
       "565            0.19220           0.3215                0.1628          0.2572   \n",
       "566            0.30940           0.3403                0.1418          0.2218   \n",
       "567            0.86810           0.9387                0.2650          0.4087   \n",
       "568            0.06444           0.0000                0.0000          0.2871   \n",
       "\n",
       "     fractal_dimension_worst  Unnamed: 32  \n",
       "564                  0.07115          NaN  \n",
       "565                  0.06637          NaN  \n",
       "566                  0.07820          NaN  \n",
       "567                  0.12400          NaN  \n",
       "568                  0.07039          NaN  \n",
       "\n",
       "[5 rows x 33 columns]"
      ]
     },
     "execution_count": 457,
     "metadata": {},
     "output_type": "execute_result"
    }
   ],
   "source": [
    "breast_cancer_data.tail()"
   ]
  },
  {
   "cell_type": "code",
   "execution_count": 459,
   "metadata": {
    "colab": {
     "base_uri": "https://localhost:8080/"
    },
    "executionInfo": {
     "elapsed": 12,
     "status": "ok",
     "timestamp": 1718714528754,
     "user": {
      "displayName": "Vikas Singh",
      "userId": "04375885343580620832"
     },
     "user_tz": -330
    },
    "id": "Ux0uEPGHe7EY",
    "outputId": "35eca5c3-44e3-42f4-e876-5330deda6ebf"
   },
   "outputs": [
    {
     "name": "stdout",
     "output_type": "stream",
     "text": [
      "<class 'pandas.core.frame.DataFrame'>\n",
      "RangeIndex: 569 entries, 0 to 568\n",
      "Data columns (total 33 columns):\n",
      " #   Column                   Non-Null Count  Dtype  \n",
      "---  ------                   --------------  -----  \n",
      " 0   id                       569 non-null    int64  \n",
      " 1   diagnosis                569 non-null    object \n",
      " 2   radius_mean              569 non-null    float64\n",
      " 3   texture_mean             569 non-null    float64\n",
      " 4   perimeter_mean           569 non-null    float64\n",
      " 5   area_mean                569 non-null    float64\n",
      " 6   smoothness_mean          569 non-null    float64\n",
      " 7   compactness_mean         569 non-null    float64\n",
      " 8   concavity_mean           569 non-null    float64\n",
      " 9   concave points_mean      569 non-null    float64\n",
      " 10  symmetry_mean            569 non-null    float64\n",
      " 11  fractal_dimension_mean   569 non-null    float64\n",
      " 12  radius_se                569 non-null    float64\n",
      " 13  texture_se               569 non-null    float64\n",
      " 14  perimeter_se             569 non-null    float64\n",
      " 15  area_se                  569 non-null    float64\n",
      " 16  smoothness_se            569 non-null    float64\n",
      " 17  compactness_se           569 non-null    float64\n",
      " 18  concavity_se             569 non-null    float64\n",
      " 19  concave points_se        569 non-null    float64\n",
      " 20  symmetry_se              569 non-null    float64\n",
      " 21  fractal_dimension_se     569 non-null    float64\n",
      " 22  radius_worst             569 non-null    float64\n",
      " 23  texture_worst            569 non-null    float64\n",
      " 24  perimeter_worst          569 non-null    float64\n",
      " 25  area_worst               569 non-null    float64\n",
      " 26  smoothness_worst         569 non-null    float64\n",
      " 27  compactness_worst        569 non-null    float64\n",
      " 28  concavity_worst          569 non-null    float64\n",
      " 29  concave points_worst     569 non-null    float64\n",
      " 30  symmetry_worst           569 non-null    float64\n",
      " 31  fractal_dimension_worst  569 non-null    float64\n",
      " 32  Unnamed: 32              0 non-null      float64\n",
      "dtypes: float64(31), int64(1), object(1)\n",
      "memory usage: 146.8+ KB\n"
     ]
    }
   ],
   "source": [
    "breast_cancer_data.info()"
   ]
  },
  {
   "cell_type": "code",
   "execution_count": 461,
   "metadata": {
    "colab": {
     "base_uri": "https://localhost:8080/",
     "height": 367
    },
    "executionInfo": {
     "elapsed": 712,
     "status": "ok",
     "timestamp": 1718714529459,
     "user": {
      "displayName": "Vikas Singh",
      "userId": "04375885343580620832"
     },
     "user_tz": -330
    },
    "id": "XOwhNq41QTaz",
    "outputId": "07f30036-d6e2-4d82-e7f0-9ffc7cdf2213"
   },
   "outputs": [
    {
     "data": {
      "text/html": [
       "<div>\n",
       "<style scoped>\n",
       "    .dataframe tbody tr th:only-of-type {\n",
       "        vertical-align: middle;\n",
       "    }\n",
       "\n",
       "    .dataframe tbody tr th {\n",
       "        vertical-align: top;\n",
       "    }\n",
       "\n",
       "    .dataframe thead th {\n",
       "        text-align: right;\n",
       "    }\n",
       "</style>\n",
       "<table border=\"1\" class=\"dataframe\">\n",
       "  <thead>\n",
       "    <tr style=\"text-align: right;\">\n",
       "      <th></th>\n",
       "      <th>id</th>\n",
       "      <th>radius_mean</th>\n",
       "      <th>texture_mean</th>\n",
       "      <th>perimeter_mean</th>\n",
       "      <th>area_mean</th>\n",
       "      <th>smoothness_mean</th>\n",
       "      <th>compactness_mean</th>\n",
       "      <th>concavity_mean</th>\n",
       "      <th>concave points_mean</th>\n",
       "      <th>symmetry_mean</th>\n",
       "      <th>...</th>\n",
       "      <th>texture_worst</th>\n",
       "      <th>perimeter_worst</th>\n",
       "      <th>area_worst</th>\n",
       "      <th>smoothness_worst</th>\n",
       "      <th>compactness_worst</th>\n",
       "      <th>concavity_worst</th>\n",
       "      <th>concave points_worst</th>\n",
       "      <th>symmetry_worst</th>\n",
       "      <th>fractal_dimension_worst</th>\n",
       "      <th>Unnamed: 32</th>\n",
       "    </tr>\n",
       "  </thead>\n",
       "  <tbody>\n",
       "    <tr>\n",
       "      <th>count</th>\n",
       "      <td>5.690000e+02</td>\n",
       "      <td>569.000000</td>\n",
       "      <td>569.000000</td>\n",
       "      <td>569.000000</td>\n",
       "      <td>569.000000</td>\n",
       "      <td>569.000000</td>\n",
       "      <td>569.000000</td>\n",
       "      <td>569.000000</td>\n",
       "      <td>569.000000</td>\n",
       "      <td>569.000000</td>\n",
       "      <td>...</td>\n",
       "      <td>569.000000</td>\n",
       "      <td>569.000000</td>\n",
       "      <td>569.000000</td>\n",
       "      <td>569.000000</td>\n",
       "      <td>569.000000</td>\n",
       "      <td>569.000000</td>\n",
       "      <td>569.000000</td>\n",
       "      <td>569.000000</td>\n",
       "      <td>569.000000</td>\n",
       "      <td>0.0</td>\n",
       "    </tr>\n",
       "    <tr>\n",
       "      <th>mean</th>\n",
       "      <td>3.037183e+07</td>\n",
       "      <td>14.127292</td>\n",
       "      <td>19.289649</td>\n",
       "      <td>91.969033</td>\n",
       "      <td>654.889104</td>\n",
       "      <td>0.096360</td>\n",
       "      <td>0.104341</td>\n",
       "      <td>0.088799</td>\n",
       "      <td>0.048919</td>\n",
       "      <td>0.181162</td>\n",
       "      <td>...</td>\n",
       "      <td>25.677223</td>\n",
       "      <td>107.261213</td>\n",
       "      <td>880.583128</td>\n",
       "      <td>0.132369</td>\n",
       "      <td>0.254265</td>\n",
       "      <td>0.272188</td>\n",
       "      <td>0.114606</td>\n",
       "      <td>0.290076</td>\n",
       "      <td>0.083946</td>\n",
       "      <td>NaN</td>\n",
       "    </tr>\n",
       "    <tr>\n",
       "      <th>std</th>\n",
       "      <td>1.250206e+08</td>\n",
       "      <td>3.524049</td>\n",
       "      <td>4.301036</td>\n",
       "      <td>24.298981</td>\n",
       "      <td>351.914129</td>\n",
       "      <td>0.014064</td>\n",
       "      <td>0.052813</td>\n",
       "      <td>0.079720</td>\n",
       "      <td>0.038803</td>\n",
       "      <td>0.027414</td>\n",
       "      <td>...</td>\n",
       "      <td>6.146258</td>\n",
       "      <td>33.602542</td>\n",
       "      <td>569.356993</td>\n",
       "      <td>0.022832</td>\n",
       "      <td>0.157336</td>\n",
       "      <td>0.208624</td>\n",
       "      <td>0.065732</td>\n",
       "      <td>0.061867</td>\n",
       "      <td>0.018061</td>\n",
       "      <td>NaN</td>\n",
       "    </tr>\n",
       "    <tr>\n",
       "      <th>min</th>\n",
       "      <td>8.670000e+03</td>\n",
       "      <td>6.981000</td>\n",
       "      <td>9.710000</td>\n",
       "      <td>43.790000</td>\n",
       "      <td>143.500000</td>\n",
       "      <td>0.052630</td>\n",
       "      <td>0.019380</td>\n",
       "      <td>0.000000</td>\n",
       "      <td>0.000000</td>\n",
       "      <td>0.106000</td>\n",
       "      <td>...</td>\n",
       "      <td>12.020000</td>\n",
       "      <td>50.410000</td>\n",
       "      <td>185.200000</td>\n",
       "      <td>0.071170</td>\n",
       "      <td>0.027290</td>\n",
       "      <td>0.000000</td>\n",
       "      <td>0.000000</td>\n",
       "      <td>0.156500</td>\n",
       "      <td>0.055040</td>\n",
       "      <td>NaN</td>\n",
       "    </tr>\n",
       "    <tr>\n",
       "      <th>25%</th>\n",
       "      <td>8.692180e+05</td>\n",
       "      <td>11.700000</td>\n",
       "      <td>16.170000</td>\n",
       "      <td>75.170000</td>\n",
       "      <td>420.300000</td>\n",
       "      <td>0.086370</td>\n",
       "      <td>0.064920</td>\n",
       "      <td>0.029560</td>\n",
       "      <td>0.020310</td>\n",
       "      <td>0.161900</td>\n",
       "      <td>...</td>\n",
       "      <td>21.080000</td>\n",
       "      <td>84.110000</td>\n",
       "      <td>515.300000</td>\n",
       "      <td>0.116600</td>\n",
       "      <td>0.147200</td>\n",
       "      <td>0.114500</td>\n",
       "      <td>0.064930</td>\n",
       "      <td>0.250400</td>\n",
       "      <td>0.071460</td>\n",
       "      <td>NaN</td>\n",
       "    </tr>\n",
       "    <tr>\n",
       "      <th>50%</th>\n",
       "      <td>9.060240e+05</td>\n",
       "      <td>13.370000</td>\n",
       "      <td>18.840000</td>\n",
       "      <td>86.240000</td>\n",
       "      <td>551.100000</td>\n",
       "      <td>0.095870</td>\n",
       "      <td>0.092630</td>\n",
       "      <td>0.061540</td>\n",
       "      <td>0.033500</td>\n",
       "      <td>0.179200</td>\n",
       "      <td>...</td>\n",
       "      <td>25.410000</td>\n",
       "      <td>97.660000</td>\n",
       "      <td>686.500000</td>\n",
       "      <td>0.131300</td>\n",
       "      <td>0.211900</td>\n",
       "      <td>0.226700</td>\n",
       "      <td>0.099930</td>\n",
       "      <td>0.282200</td>\n",
       "      <td>0.080040</td>\n",
       "      <td>NaN</td>\n",
       "    </tr>\n",
       "    <tr>\n",
       "      <th>75%</th>\n",
       "      <td>8.813129e+06</td>\n",
       "      <td>15.780000</td>\n",
       "      <td>21.800000</td>\n",
       "      <td>104.100000</td>\n",
       "      <td>782.700000</td>\n",
       "      <td>0.105300</td>\n",
       "      <td>0.130400</td>\n",
       "      <td>0.130700</td>\n",
       "      <td>0.074000</td>\n",
       "      <td>0.195700</td>\n",
       "      <td>...</td>\n",
       "      <td>29.720000</td>\n",
       "      <td>125.400000</td>\n",
       "      <td>1084.000000</td>\n",
       "      <td>0.146000</td>\n",
       "      <td>0.339100</td>\n",
       "      <td>0.382900</td>\n",
       "      <td>0.161400</td>\n",
       "      <td>0.317900</td>\n",
       "      <td>0.092080</td>\n",
       "      <td>NaN</td>\n",
       "    </tr>\n",
       "    <tr>\n",
       "      <th>max</th>\n",
       "      <td>9.113205e+08</td>\n",
       "      <td>28.110000</td>\n",
       "      <td>39.280000</td>\n",
       "      <td>188.500000</td>\n",
       "      <td>2501.000000</td>\n",
       "      <td>0.163400</td>\n",
       "      <td>0.345400</td>\n",
       "      <td>0.426800</td>\n",
       "      <td>0.201200</td>\n",
       "      <td>0.304000</td>\n",
       "      <td>...</td>\n",
       "      <td>49.540000</td>\n",
       "      <td>251.200000</td>\n",
       "      <td>4254.000000</td>\n",
       "      <td>0.222600</td>\n",
       "      <td>1.058000</td>\n",
       "      <td>1.252000</td>\n",
       "      <td>0.291000</td>\n",
       "      <td>0.663800</td>\n",
       "      <td>0.207500</td>\n",
       "      <td>NaN</td>\n",
       "    </tr>\n",
       "  </tbody>\n",
       "</table>\n",
       "<p>8 rows × 32 columns</p>\n",
       "</div>"
      ],
      "text/plain": [
       "                 id  radius_mean  texture_mean  perimeter_mean    area_mean  \\\n",
       "count  5.690000e+02   569.000000    569.000000      569.000000   569.000000   \n",
       "mean   3.037183e+07    14.127292     19.289649       91.969033   654.889104   \n",
       "std    1.250206e+08     3.524049      4.301036       24.298981   351.914129   \n",
       "min    8.670000e+03     6.981000      9.710000       43.790000   143.500000   \n",
       "25%    8.692180e+05    11.700000     16.170000       75.170000   420.300000   \n",
       "50%    9.060240e+05    13.370000     18.840000       86.240000   551.100000   \n",
       "75%    8.813129e+06    15.780000     21.800000      104.100000   782.700000   \n",
       "max    9.113205e+08    28.110000     39.280000      188.500000  2501.000000   \n",
       "\n",
       "       smoothness_mean  compactness_mean  concavity_mean  concave points_mean  \\\n",
       "count       569.000000        569.000000      569.000000           569.000000   \n",
       "mean          0.096360          0.104341        0.088799             0.048919   \n",
       "std           0.014064          0.052813        0.079720             0.038803   \n",
       "min           0.052630          0.019380        0.000000             0.000000   \n",
       "25%           0.086370          0.064920        0.029560             0.020310   \n",
       "50%           0.095870          0.092630        0.061540             0.033500   \n",
       "75%           0.105300          0.130400        0.130700             0.074000   \n",
       "max           0.163400          0.345400        0.426800             0.201200   \n",
       "\n",
       "       symmetry_mean  ...  texture_worst  perimeter_worst   area_worst  \\\n",
       "count     569.000000  ...     569.000000       569.000000   569.000000   \n",
       "mean        0.181162  ...      25.677223       107.261213   880.583128   \n",
       "std         0.027414  ...       6.146258        33.602542   569.356993   \n",
       "min         0.106000  ...      12.020000        50.410000   185.200000   \n",
       "25%         0.161900  ...      21.080000        84.110000   515.300000   \n",
       "50%         0.179200  ...      25.410000        97.660000   686.500000   \n",
       "75%         0.195700  ...      29.720000       125.400000  1084.000000   \n",
       "max         0.304000  ...      49.540000       251.200000  4254.000000   \n",
       "\n",
       "       smoothness_worst  compactness_worst  concavity_worst  \\\n",
       "count        569.000000         569.000000       569.000000   \n",
       "mean           0.132369           0.254265         0.272188   \n",
       "std            0.022832           0.157336         0.208624   \n",
       "min            0.071170           0.027290         0.000000   \n",
       "25%            0.116600           0.147200         0.114500   \n",
       "50%            0.131300           0.211900         0.226700   \n",
       "75%            0.146000           0.339100         0.382900   \n",
       "max            0.222600           1.058000         1.252000   \n",
       "\n",
       "       concave points_worst  symmetry_worst  fractal_dimension_worst  \\\n",
       "count            569.000000      569.000000               569.000000   \n",
       "mean               0.114606        0.290076                 0.083946   \n",
       "std                0.065732        0.061867                 0.018061   \n",
       "min                0.000000        0.156500                 0.055040   \n",
       "25%                0.064930        0.250400                 0.071460   \n",
       "50%                0.099930        0.282200                 0.080040   \n",
       "75%                0.161400        0.317900                 0.092080   \n",
       "max                0.291000        0.663800                 0.207500   \n",
       "\n",
       "       Unnamed: 32  \n",
       "count          0.0  \n",
       "mean           NaN  \n",
       "std            NaN  \n",
       "min            NaN  \n",
       "25%            NaN  \n",
       "50%            NaN  \n",
       "75%            NaN  \n",
       "max            NaN  \n",
       "\n",
       "[8 rows x 32 columns]"
      ]
     },
     "execution_count": 461,
     "metadata": {},
     "output_type": "execute_result"
    }
   ],
   "source": [
    "# Summary statistics\n",
    "breast_cancer_data.describe()"
   ]
  },
  {
   "cell_type": "code",
   "execution_count": 463,
   "metadata": {
    "colab": {
     "base_uri": "https://localhost:8080/"
    },
    "executionInfo": {
     "elapsed": 9,
     "status": "ok",
     "timestamp": 1718714529459,
     "user": {
      "displayName": "Vikas Singh",
      "userId": "04375885343580620832"
     },
     "user_tz": -330
    },
    "id": "pydz7YCWQTXp",
    "outputId": "688bf456-ece0-40c1-9418-a64829f6173d"
   },
   "outputs": [
    {
     "data": {
      "text/plain": [
       "id                           0\n",
       "diagnosis                    0\n",
       "radius_mean                  0\n",
       "texture_mean                 0\n",
       "perimeter_mean               0\n",
       "area_mean                    0\n",
       "smoothness_mean              0\n",
       "compactness_mean             0\n",
       "concavity_mean               0\n",
       "concave points_mean          0\n",
       "symmetry_mean                0\n",
       "fractal_dimension_mean       0\n",
       "radius_se                    0\n",
       "texture_se                   0\n",
       "perimeter_se                 0\n",
       "area_se                      0\n",
       "smoothness_se                0\n",
       "compactness_se               0\n",
       "concavity_se                 0\n",
       "concave points_se            0\n",
       "symmetry_se                  0\n",
       "fractal_dimension_se         0\n",
       "radius_worst                 0\n",
       "texture_worst                0\n",
       "perimeter_worst              0\n",
       "area_worst                   0\n",
       "smoothness_worst             0\n",
       "compactness_worst            0\n",
       "concavity_worst              0\n",
       "concave points_worst         0\n",
       "symmetry_worst               0\n",
       "fractal_dimension_worst      0\n",
       "Unnamed: 32                569\n",
       "dtype: int64"
      ]
     },
     "execution_count": 463,
     "metadata": {},
     "output_type": "execute_result"
    }
   ],
   "source": [
    "# Check for missing values\n",
    "breast_cancer_data.isnull().sum()"
   ]
  },
  {
   "cell_type": "markdown",
   "metadata": {
    "id": "ri5rJr4ZqQOq"
   },
   "source": [
    "##### __Observation:__\n",
    "\n",
    "- There are no null/missing values in the dataset"
   ]
  },
  {
   "cell_type": "code",
   "execution_count": 482,
   "metadata": {
    "colab": {
     "base_uri": "https://localhost:8080/",
     "height": 485
    },
    "executionInfo": {
     "elapsed": 723,
     "status": "ok",
     "timestamp": 1718714530178,
     "user": {
      "displayName": "Vikas Singh",
      "userId": "04375885343580620832"
     },
     "user_tz": -330
    },
    "id": "borGbql3QTUx",
    "outputId": "892dad2b-f157-4edb-aebf-f2ff859c9ebf"
   },
   "outputs": [
    {
     "data": {
      "image/png": "[encoded data removed]",
      "text/plain": [
       "<Figure size 640x480 with 1 Axes>"
      ]
     },
     "metadata": {},
     "output_type": "display_data"
    }
   ],
   "source": [
    "# Distribution of the target variable\n",
    "\n",
    "sns.countplot(x=\"diagnosis\",data = breast_cancer_data)\n",
    "plt.title(\"Distribution of diagnosis\", fontsize=16, c=\"k\")\n",
    "plt.xlabel(\"Diagnosis\", fontsize=12)\n",
    "plt.ylabel(\"Count of diagnosis\", fontsize=12)\n",
    "plt.xticks([0, 1], ['Benign', 'Malignant'], fontsize=12)\n",
    "plt.show()"
   ]
  },
  {
   "cell_type": "markdown",
   "metadata": {
    "id": "A1A7VXrBiazy"
   },
   "source": [
    "##### __Observation:__\n",
    "- The plot shows the distribution of the target variable `diagnosis`, highlighting the count of benign and malignant cases."
   ]
  },
  {
   "cell_type": "code",
   "execution_count": 485,
   "metadata": {
    "colab": {
     "base_uri": "https://localhost:8080/"
    },
    "executionInfo": {
     "elapsed": 15,
     "status": "ok",
     "timestamp": 1718714530178,
     "user": {
      "displayName": "Vikas Singh",
      "userId": "04375885343580620832"
     },
     "user_tz": -330
    },
    "id": "aPikHR1uHBwX",
    "outputId": "46642ebd-b4df-447b-d95b-f99f12a5f261"
   },
   "outputs": [
    {
     "data": {
      "text/plain": [
       "diagnosis\n",
       "B    357\n",
       "M    212\n",
       "Name: count, dtype: int64"
      ]
     },
     "execution_count": 485,
     "metadata": {},
     "output_type": "execute_result"
    }
   ],
   "source": [
    "breast_cancer_data[\"diagnosis\"].value_counts()"
   ]
  },
  {
   "cell_type": "markdown",
   "metadata": {
    "id": "gv55BZCf9_qV"
   },
   "source": [
    "#### __Next Steps:__\n",
    "\n",
    "- Remove unwanted columns like `Unnamed: 32` and `id`"
   ]
  },
  {
   "cell_type": "code",
   "execution_count": 662,
   "metadata": {
    "colab": {
     "base_uri": "https://localhost:8080/",
     "height": 461
    },
    "executionInfo": {
     "elapsed": 13,
     "status": "ok",
     "timestamp": 1718714530179,
     "user": {
      "displayName": "Vikas Singh",
      "userId": "04375885343580620832"
     },
     "user_tz": -330
    },
    "id": "NYBJfpWSjAOp",
    "outputId": "8165a86c-9fcc-4193-dc95-8583c2e950ca"
   },
   "outputs": [
    {
     "ename": "KeyError",
     "evalue": "\"['Unnamed: 32', 'id'] not found in axis\"",
     "output_type": "error",
     "traceback": [
      "\u001b[0;31m---------------------------------------------------------------------------\u001b[0m",
      "\u001b[0;31mKeyError\u001b[0m                                  Traceback (most recent call last)",
      "Cell \u001b[0;32mIn[662], line 3\u001b[0m\n\u001b[1;32m      1\u001b[0m \u001b[38;5;66;03m# Remove unwanted columns from the dataset\u001b[39;00m\n\u001b[0;32m----> 3\u001b[0m breast_cancer_data \u001b[38;5;241m=\u001b[39m breast_cancer_data\u001b[38;5;241m.\u001b[39mdrop([\u001b[38;5;124m\"\u001b[39m\u001b[38;5;124mUnnamed: 32\u001b[39m\u001b[38;5;124m\"\u001b[39m, \u001b[38;5;124m\"\u001b[39m\u001b[38;5;124mid\u001b[39m\u001b[38;5;124m\"\u001b[39m],axis\u001b[38;5;241m=\u001b[39m\u001b[38;5;241m1\u001b[39m)\n\u001b[1;32m      4\u001b[0m breast_cancer_data\n",
      "File \u001b[0;32m/opt/anaconda3/lib/python3.12/site-packages/pandas/core/frame.py:5581\u001b[0m, in \u001b[0;36mDataFrame.drop\u001b[0;34m(self, labels, axis, index, columns, level, inplace, errors)\u001b[0m\n\u001b[1;32m   5433\u001b[0m \u001b[38;5;28;01mdef\u001b[39;00m \u001b[38;5;21mdrop\u001b[39m(\n\u001b[1;32m   5434\u001b[0m     \u001b[38;5;28mself\u001b[39m,\n\u001b[1;32m   5435\u001b[0m     labels: IndexLabel \u001b[38;5;241m|\u001b[39m \u001b[38;5;28;01mNone\u001b[39;00m \u001b[38;5;241m=\u001b[39m \u001b[38;5;28;01mNone\u001b[39;00m,\n\u001b[0;32m   (...)\u001b[0m\n\u001b[1;32m   5442\u001b[0m     errors: IgnoreRaise \u001b[38;5;241m=\u001b[39m \u001b[38;5;124m\"\u001b[39m\u001b[38;5;124mraise\u001b[39m\u001b[38;5;124m\"\u001b[39m,\n\u001b[1;32m   5443\u001b[0m ) \u001b[38;5;241m-\u001b[39m\u001b[38;5;241m>\u001b[39m DataFrame \u001b[38;5;241m|\u001b[39m \u001b[38;5;28;01mNone\u001b[39;00m:\n\u001b[1;32m   5444\u001b[0m \u001b[38;5;250m    \u001b[39m\u001b[38;5;124;03m\"\"\"\u001b[39;00m\n\u001b[1;32m   5445\u001b[0m \u001b[38;5;124;03m    Drop specified labels from rows or columns.\u001b[39;00m\n\u001b[1;32m   5446\u001b[0m \n\u001b[0;32m   (...)\u001b[0m\n\u001b[1;32m   5579\u001b[0m \u001b[38;5;124;03m            weight  1.0     0.8\u001b[39;00m\n\u001b[1;32m   5580\u001b[0m \u001b[38;5;124;03m    \"\"\"\u001b[39;00m\n\u001b[0;32m-> 5581\u001b[0m     \u001b[38;5;28;01mreturn\u001b[39;00m \u001b[38;5;28msuper\u001b[39m()\u001b[38;5;241m.\u001b[39mdrop(\n\u001b[1;32m   5582\u001b[0m         labels\u001b[38;5;241m=\u001b[39mlabels,\n\u001b[1;32m   5583\u001b[0m         axis\u001b[38;5;241m=\u001b[39maxis,\n\u001b[1;32m   5584\u001b[0m         index\u001b[38;5;241m=\u001b[39mindex,\n\u001b[1;32m   5585\u001b[0m         columns\u001b[38;5;241m=\u001b[39mcolumns,\n\u001b[1;32m   5586\u001b[0m         level\u001b[38;5;241m=\u001b[39mlevel,\n\u001b[1;32m   5587\u001b[0m         inplace\u001b[38;5;241m=\u001b[39minplace,\n\u001b[1;32m   5588\u001b[0m         errors\u001b[38;5;241m=\u001b[39merrors,\n\u001b[1;32m   5589\u001b[0m     )\n",
      "File \u001b[0;32m/opt/anaconda3/lib/python3.12/site-packages/pandas/core/generic.py:4788\u001b[0m, in \u001b[0;36mNDFrame.drop\u001b[0;34m(self, labels, axis, index, columns, level, inplace, errors)\u001b[0m\n\u001b[1;32m   4786\u001b[0m \u001b[38;5;28;01mfor\u001b[39;00m axis, labels \u001b[38;5;129;01min\u001b[39;00m axes\u001b[38;5;241m.\u001b[39mitems():\n\u001b[1;32m   4787\u001b[0m     \u001b[38;5;28;01mif\u001b[39;00m labels \u001b[38;5;129;01mis\u001b[39;00m \u001b[38;5;129;01mnot\u001b[39;00m \u001b[38;5;28;01mNone\u001b[39;00m:\n\u001b[0;32m-> 4788\u001b[0m         obj \u001b[38;5;241m=\u001b[39m obj\u001b[38;5;241m.\u001b[39m_drop_axis(labels, axis, level\u001b[38;5;241m=\u001b[39mlevel, errors\u001b[38;5;241m=\u001b[39merrors)\n\u001b[1;32m   4790\u001b[0m \u001b[38;5;28;01mif\u001b[39;00m inplace:\n\u001b[1;32m   4791\u001b[0m     \u001b[38;5;28mself\u001b[39m\u001b[38;5;241m.\u001b[39m_update_inplace(obj)\n",
      "File \u001b[0;32m/opt/anaconda3/lib/python3.12/site-packages/pandas/core/generic.py:4830\u001b[0m, in \u001b[0;36mNDFrame._drop_axis\u001b[0;34m(self, labels, axis, level, errors, only_slice)\u001b[0m\n\u001b[1;32m   4828\u001b[0m         new_axis \u001b[38;5;241m=\u001b[39m axis\u001b[38;5;241m.\u001b[39mdrop(labels, level\u001b[38;5;241m=\u001b[39mlevel, errors\u001b[38;5;241m=\u001b[39merrors)\n\u001b[1;32m   4829\u001b[0m     \u001b[38;5;28;01melse\u001b[39;00m:\n\u001b[0;32m-> 4830\u001b[0m         new_axis \u001b[38;5;241m=\u001b[39m axis\u001b[38;5;241m.\u001b[39mdrop(labels, errors\u001b[38;5;241m=\u001b[39merrors)\n\u001b[1;32m   4831\u001b[0m     indexer \u001b[38;5;241m=\u001b[39m axis\u001b[38;5;241m.\u001b[39mget_indexer(new_axis)\n\u001b[1;32m   4833\u001b[0m \u001b[38;5;66;03m# Case for non-unique axis\u001b[39;00m\n\u001b[1;32m   4834\u001b[0m \u001b[38;5;28;01melse\u001b[39;00m:\n",
      "File \u001b[0;32m/opt/anaconda3/lib/python3.12/site-packages/pandas/core/indexes/base.py:7070\u001b[0m, in \u001b[0;36mIndex.drop\u001b[0;34m(self, labels, errors)\u001b[0m\n\u001b[1;32m   7068\u001b[0m \u001b[38;5;28;01mif\u001b[39;00m mask\u001b[38;5;241m.\u001b[39many():\n\u001b[1;32m   7069\u001b[0m     \u001b[38;5;28;01mif\u001b[39;00m errors \u001b[38;5;241m!=\u001b[39m \u001b[38;5;124m\"\u001b[39m\u001b[38;5;124mignore\u001b[39m\u001b[38;5;124m\"\u001b[39m:\n\u001b[0;32m-> 7070\u001b[0m         \u001b[38;5;28;01mraise\u001b[39;00m \u001b[38;5;167;01mKeyError\u001b[39;00m(\u001b[38;5;124mf\u001b[39m\u001b[38;5;124m\"\u001b[39m\u001b[38;5;132;01m{\u001b[39;00mlabels[mask]\u001b[38;5;241m.\u001b[39mtolist()\u001b[38;5;132;01m}\u001b[39;00m\u001b[38;5;124m not found in axis\u001b[39m\u001b[38;5;124m\"\u001b[39m)\n\u001b[1;32m   7071\u001b[0m     indexer \u001b[38;5;241m=\u001b[39m indexer[\u001b[38;5;241m~\u001b[39mmask]\n\u001b[1;32m   7072\u001b[0m \u001b[38;5;28;01mreturn\u001b[39;00m \u001b[38;5;28mself\u001b[39m\u001b[38;5;241m.\u001b[39mdelete(indexer)\n",
      "\u001b[0;31mKeyError\u001b[0m: \"['Unnamed: 32', 'id'] not found in axis\""
     ]
    }
   ],
   "source": [
    "# Remove unwanted columns from the dataset\n",
    "\n",
    "breast_cancer_data = breast_cancer_data.drop([\"Unnamed: 32\", \"id\"],axis=1)\n",
    "breast_cancer_data"
   ]
  },
  {
   "cell_type": "code",
   "execution_count": null,
   "metadata": {},
   "outputs": [],
   "source": [
    "breast_cancer_data.isnull().sum()"
   ]
  },
  {
   "cell_type": "markdown",
   "metadata": {
    "id": "LPSxvhLCBn1w"
   },
   "source": [
    "#### __Next Steps:__\n",
    " \n",
    "Plot a correlation heatmap to understand the relationship between features\n",
    "\n",
    " - The heatmap visualizes the correlation between different features in the dataset, helping identify highly correlated pairs."
   ]
  },
  {
   "cell_type": "code",
   "execution_count": null,
   "metadata": {
    "colab": {
     "base_uri": "https://localhost:8080/",
     "height": 860
    },
    "executionInfo": {
     "elapsed": 6595,
     "status": "ok",
     "timestamp": 1718714536763,
     "user": {
      "displayName": "Vikas Singh",
      "userId": "04375885343580620832"
     },
     "user_tz": -330
    },
    "id": "b7rvc67CQTRe",
    "outputId": "ec6f70ab-c0d1-4418-e25c-7c74575abdb5"
   },
   "outputs": [],
   "source": [
    "# Correlation heatmap\n",
    "\n",
    "plt.figure(figsize=(12,8))\n",
    "c = breast_cancer_data.corr(numeric_only=True)\n",
    "sns.heatmap(c, annot=True,fmt=\".1f\")\n",
    "plt.title(\"Correlation between dataset\", fontsize=17, c=\"k\")\n",
    "plt.show()"
   ]
  },
  {
   "cell_type": "markdown",
   "metadata": {
    "id": "SGkNhv1WjrKi"
   },
   "source": [
    "##### __Observation:__\n",
    "\n",
    "- High Correlations: Several pairs of features exhibit strong positive correlations.\n",
    "For example, `radius_mean`, `perimeter_mean`, and `area_mean` are highly correlated with each other. This is expected as these are all measures of size and dimensions of the detected tumors.\n",
    "\n",
    "- Feature Groups: Features related to the \"worst\" (largest value of these features for each image), \"mean\", and \"error\" (standard error) calculations are grouped together, indicating that similar types of measurements are highly correlated. For example, `radius_worst`, `perimeter_worst`, and `area_worst` also show very high positive correlations.\n",
    "\n",
    "- Clinical Relevance: High correlations between features like `concavity_mean` and `concave points_mean` suggest that more concave portions of the tumor outline correspond to more frequent concave points, which are relevant characteristics for diagnosing malignancy of the sample."
   ]
  },
  {
   "cell_type": "markdown",
   "metadata": {
    "id": "qjqynNyq-Wdo"
   },
   "source": [
    "#### __Next Steps:__\n",
    "\n",
    "- Convert Categorical variable `diagnosis` into one-hot encoded numerical variable with benign instances assigned 0 and malignant 1."
   ]
  },
  {
   "cell_type": "code",
   "execution_count": null,
   "metadata": {
    "colab": {
     "base_uri": "https://localhost:8080/"
    },
    "executionInfo": {
     "elapsed": 30,
     "status": "ok",
     "timestamp": 1718714536764,
     "user": {
      "displayName": "Vikas Singh",
      "userId": "04375885343580620832"
     },
     "user_tz": -330
    },
    "id": "Rh6pmbbxQTJF",
    "outputId": "df472858-ae41-46fe-a7df-845fe64ba6f1"
   },
   "outputs": [],
   "source": [
    "# Transform diagnosis column into numeric\n",
    "\n",
    "from sklearn.preprocessing import LabelEncoder"
   ]
  },
  {
   "cell_type": "code",
   "execution_count": 493,
   "metadata": {},
   "outputs": [
    {
     "data": {
      "text/plain": [
       "0      1\n",
       "1      1\n",
       "2      1\n",
       "3      1\n",
       "4      1\n",
       "      ..\n",
       "564    1\n",
       "565    1\n",
       "566    1\n",
       "567    1\n",
       "568    0\n",
       "Name: diagnosis, Length: 569, dtype: int64"
      ]
     },
     "execution_count": 493,
     "metadata": {},
     "output_type": "execute_result"
    }
   ],
   "source": [
    "Encoder = LabelEncoder()\n",
    "breast_cancer_data[\"diagnosis\"] = Encoder.fit_transform(breast_cancer_data[\"diagnosis\"])\n",
    "breast_cancer_data[\"diagnosis\"]"
   ]
  },
  {
   "cell_type": "code",
   "execution_count": 495,
   "metadata": {
    "colab": {
     "base_uri": "https://localhost:8080/",
     "height": 273
    },
    "executionInfo": {
     "elapsed": 25,
     "status": "ok",
     "timestamp": 1718714536764,
     "user": {
      "displayName": "Vikas Singh",
      "userId": "04375885343580620832"
     },
     "user_tz": -330
    },
    "id": "JNeS4gCROBi9",
    "outputId": "8f18d588-dd2a-4b16-ad83-cb32ec068c72"
   },
   "outputs": [
    {
     "data": {
      "text/html": [
       "<div>\n",
       "<style scoped>\n",
       "    .dataframe tbody tr th:only-of-type {\n",
       "        vertical-align: middle;\n",
       "    }\n",
       "\n",
       "    .dataframe tbody tr th {\n",
       "        vertical-align: top;\n",
       "    }\n",
       "\n",
       "    .dataframe thead th {\n",
       "        text-align: right;\n",
       "    }\n",
       "</style>\n",
       "<table border=\"1\" class=\"dataframe\">\n",
       "  <thead>\n",
       "    <tr style=\"text-align: right;\">\n",
       "      <th></th>\n",
       "      <th>diagnosis</th>\n",
       "      <th>radius_mean</th>\n",
       "      <th>texture_mean</th>\n",
       "      <th>perimeter_mean</th>\n",
       "      <th>area_mean</th>\n",
       "      <th>smoothness_mean</th>\n",
       "      <th>compactness_mean</th>\n",
       "      <th>concavity_mean</th>\n",
       "      <th>concave points_mean</th>\n",
       "      <th>symmetry_mean</th>\n",
       "      <th>...</th>\n",
       "      <th>radius_worst</th>\n",
       "      <th>texture_worst</th>\n",
       "      <th>perimeter_worst</th>\n",
       "      <th>area_worst</th>\n",
       "      <th>smoothness_worst</th>\n",
       "      <th>compactness_worst</th>\n",
       "      <th>concavity_worst</th>\n",
       "      <th>concave points_worst</th>\n",
       "      <th>symmetry_worst</th>\n",
       "      <th>fractal_dimension_worst</th>\n",
       "    </tr>\n",
       "  </thead>\n",
       "  <tbody>\n",
       "    <tr>\n",
       "      <th>0</th>\n",
       "      <td>1</td>\n",
       "      <td>17.99</td>\n",
       "      <td>10.38</td>\n",
       "      <td>122.80</td>\n",
       "      <td>1001.0</td>\n",
       "      <td>0.11840</td>\n",
       "      <td>0.27760</td>\n",
       "      <td>0.3001</td>\n",
       "      <td>0.14710</td>\n",
       "      <td>0.2419</td>\n",
       "      <td>...</td>\n",
       "      <td>25.38</td>\n",
       "      <td>17.33</td>\n",
       "      <td>184.60</td>\n",
       "      <td>2019.0</td>\n",
       "      <td>0.1622</td>\n",
       "      <td>0.6656</td>\n",
       "      <td>0.7119</td>\n",
       "      <td>0.2654</td>\n",
       "      <td>0.4601</td>\n",
       "      <td>0.11890</td>\n",
       "    </tr>\n",
       "    <tr>\n",
       "      <th>1</th>\n",
       "      <td>1</td>\n",
       "      <td>20.57</td>\n",
       "      <td>17.77</td>\n",
       "      <td>132.90</td>\n",
       "      <td>1326.0</td>\n",
       "      <td>0.08474</td>\n",
       "      <td>0.07864</td>\n",
       "      <td>0.0869</td>\n",
       "      <td>0.07017</td>\n",
       "      <td>0.1812</td>\n",
       "      <td>...</td>\n",
       "      <td>24.99</td>\n",
       "      <td>23.41</td>\n",
       "      <td>158.80</td>\n",
       "      <td>1956.0</td>\n",
       "      <td>0.1238</td>\n",
       "      <td>0.1866</td>\n",
       "      <td>0.2416</td>\n",
       "      <td>0.1860</td>\n",
       "      <td>0.2750</td>\n",
       "      <td>0.08902</td>\n",
       "    </tr>\n",
       "    <tr>\n",
       "      <th>2</th>\n",
       "      <td>1</td>\n",
       "      <td>19.69</td>\n",
       "      <td>21.25</td>\n",
       "      <td>130.00</td>\n",
       "      <td>1203.0</td>\n",
       "      <td>0.10960</td>\n",
       "      <td>0.15990</td>\n",
       "      <td>0.1974</td>\n",
       "      <td>0.12790</td>\n",
       "      <td>0.2069</td>\n",
       "      <td>...</td>\n",
       "      <td>23.57</td>\n",
       "      <td>25.53</td>\n",
       "      <td>152.50</td>\n",
       "      <td>1709.0</td>\n",
       "      <td>0.1444</td>\n",
       "      <td>0.4245</td>\n",
       "      <td>0.4504</td>\n",
       "      <td>0.2430</td>\n",
       "      <td>0.3613</td>\n",
       "      <td>0.08758</td>\n",
       "    </tr>\n",
       "    <tr>\n",
       "      <th>3</th>\n",
       "      <td>1</td>\n",
       "      <td>11.42</td>\n",
       "      <td>20.38</td>\n",
       "      <td>77.58</td>\n",
       "      <td>386.1</td>\n",
       "      <td>0.14250</td>\n",
       "      <td>0.28390</td>\n",
       "      <td>0.2414</td>\n",
       "      <td>0.10520</td>\n",
       "      <td>0.2597</td>\n",
       "      <td>...</td>\n",
       "      <td>14.91</td>\n",
       "      <td>26.50</td>\n",
       "      <td>98.87</td>\n",
       "      <td>567.7</td>\n",
       "      <td>0.2098</td>\n",
       "      <td>0.8663</td>\n",
       "      <td>0.6869</td>\n",
       "      <td>0.2575</td>\n",
       "      <td>0.6638</td>\n",
       "      <td>0.17300</td>\n",
       "    </tr>\n",
       "    <tr>\n",
       "      <th>4</th>\n",
       "      <td>1</td>\n",
       "      <td>20.29</td>\n",
       "      <td>14.34</td>\n",
       "      <td>135.10</td>\n",
       "      <td>1297.0</td>\n",
       "      <td>0.10030</td>\n",
       "      <td>0.13280</td>\n",
       "      <td>0.1980</td>\n",
       "      <td>0.10430</td>\n",
       "      <td>0.1809</td>\n",
       "      <td>...</td>\n",
       "      <td>22.54</td>\n",
       "      <td>16.67</td>\n",
       "      <td>152.20</td>\n",
       "      <td>1575.0</td>\n",
       "      <td>0.1374</td>\n",
       "      <td>0.2050</td>\n",
       "      <td>0.4000</td>\n",
       "      <td>0.1625</td>\n",
       "      <td>0.2364</td>\n",
       "      <td>0.07678</td>\n",
       "    </tr>\n",
       "  </tbody>\n",
       "</table>\n",
       "<p>5 rows × 31 columns</p>\n",
       "</div>"
      ],
      "text/plain": [
       "   diagnosis  radius_mean  texture_mean  perimeter_mean  area_mean  \\\n",
       "0          1        17.99         10.38          122.80     1001.0   \n",
       "1          1        20.57         17.77          132.90     1326.0   \n",
       "2          1        19.69         21.25          130.00     1203.0   \n",
       "3          1        11.42         20.38           77.58      386.1   \n",
       "4          1        20.29         14.34          135.10     1297.0   \n",
       "\n",
       "   smoothness_mean  compactness_mean  concavity_mean  concave points_mean  \\\n",
       "0          0.11840           0.27760          0.3001              0.14710   \n",
       "1          0.08474           0.07864          0.0869              0.07017   \n",
       "2          0.10960           0.15990          0.1974              0.12790   \n",
       "3          0.14250           0.28390          0.2414              0.10520   \n",
       "4          0.10030           0.13280          0.1980              0.10430   \n",
       "\n",
       "   symmetry_mean  ...  radius_worst  texture_worst  perimeter_worst  \\\n",
       "0         0.2419  ...         25.38          17.33           184.60   \n",
       "1         0.1812  ...         24.99          23.41           158.80   \n",
       "2         0.2069  ...         23.57          25.53           152.50   \n",
       "3         0.2597  ...         14.91          26.50            98.87   \n",
       "4         0.1809  ...         22.54          16.67           152.20   \n",
       "\n",
       "   area_worst  smoothness_worst  compactness_worst  concavity_worst  \\\n",
       "0      2019.0            0.1622             0.6656           0.7119   \n",
       "1      1956.0            0.1238             0.1866           0.2416   \n",
       "2      1709.0            0.1444             0.4245           0.4504   \n",
       "3       567.7            0.2098             0.8663           0.6869   \n",
       "4      1575.0            0.1374             0.2050           0.4000   \n",
       "\n",
       "   concave points_worst  symmetry_worst  fractal_dimension_worst  \n",
       "0                0.2654          0.4601                  0.11890  \n",
       "1                0.1860          0.2750                  0.08902  \n",
       "2                0.2430          0.3613                  0.08758  \n",
       "3                0.2575          0.6638                  0.17300  \n",
       "4                0.1625          0.2364                  0.07678  \n",
       "\n",
       "[5 rows x 31 columns]"
      ]
     },
     "execution_count": 495,
     "metadata": {},
     "output_type": "execute_result"
    }
   ],
   "source": [
    "breast_cancer_data.head()"
   ]
  },
  {
   "cell_type": "markdown",
   "metadata": {
    "id": "ADlZVMAPPFbY"
   },
   "source": [
    "#### __Next Steps:__\n",
    "\n",
    "- Build a Logistic regression model.\n",
    "- The data is split into training and testing sets with an 80-20 split."
   ]
  },
  {
   "cell_type": "code",
   "execution_count": 498,
   "metadata": {
    "executionInfo": {
     "elapsed": 23,
     "status": "ok",
     "timestamp": 1718714536764,
     "user": {
      "displayName": "Vikas Singh",
      "userId": "04375885343580620832"
     },
     "user_tz": -330
    },
    "id": "ecK-JI6LYANU"
   },
   "outputs": [],
   "source": [
    "# Split data into feature(X) and target(y)\n",
    "\n",
    "X = breast_cancer_data.drop(columns = \"diagnosis\")\n",
    "y = breast_cancer_data[\"diagnosis\"]\n",
    "\n",
    "# Split the dataset into training and testing sets\n",
    "\n",
    "x_train, x_test, y_train, y_test = train_test_split(X, y, test_size=0.2, random_state=42)"
   ]
  },
  {
   "cell_type": "code",
   "execution_count": 500,
   "metadata": {},
   "outputs": [
    {
     "name": "stdout",
     "output_type": "stream",
     "text": [
      "455\n",
      "114\n"
     ]
    }
   ],
   "source": [
    "print(len(y_train))\n",
    "print(len(y_test))"
   ]
  },
  {
   "cell_type": "markdown",
   "metadata": {
    "id": "QTI9STzDDNqT"
   },
   "source": [
    "#### __Next Steps:__\n",
    "\n",
    "Use `sklearn.pipeline` to streamline the preprocessing and training process\n",
    "\n",
    "- The features in the training and testing sets are standardized to have a mean of 0 and standard deviation of 1.\n",
    "- A logistic regression model is trained using the standardized training data."
   ]
  },
  {
   "cell_type": "code",
   "execution_count": 503,
   "metadata": {
    "colab": {
     "base_uri": "https://localhost:8080/",
     "height": 127
    },
    "executionInfo": {
     "elapsed": 23,
     "status": "ok",
     "timestamp": 1718714536764,
     "user": {
      "displayName": "Vikas Singh",
      "userId": "04375885343580620832"
     },
     "user_tz": -330
    },
    "id": "7eGQjcNTHqTT",
    "outputId": "ee232ef4-6cc9-42eb-ebd2-452a4cdc96c0"
   },
   "outputs": [
    {
     "data": {
      "text/html": [
       "<style>#sk-container-id-8 {\n",
       "  /* Definition of color scheme common for light and dark mode */\n",
       "  --sklearn-color-text: black;\n",
       "  --sklearn-color-line: gray;\n",
       "  /* Definition of color scheme for unfitted estimators */\n",
       "  --sklearn-color-unfitted-level-0: #fff5e6;\n",
       "  --sklearn-color-unfitted-level-1: #f6e4d2;\n",
       "  --sklearn-color-unfitted-level-2: #ffe0b3;\n",
       "  --sklearn-color-unfitted-level-3: chocolate;\n",
       "  /* Definition of color scheme for fitted estimators */\n",
       "  --sklearn-color-fitted-level-0: #f0f8ff;\n",
       "  --sklearn-color-fitted-level-1: #d4ebff;\n",
       "  --sklearn-color-fitted-level-2: #b3dbfd;\n",
       "  --sklearn-color-fitted-level-3: cornflowerblue;\n",
       "\n",
       "  /* Specific color for light theme */\n",
       "  --sklearn-color-text-on-default-background: var(--sg-text-color, var(--theme-code-foreground, var(--jp-content-font-color1, black)));\n",
       "  --sklearn-color-background: var(--sg-background-color, var(--theme-background, var(--jp-layout-color0, white)));\n",
       "  --sklearn-color-border-box: var(--sg-text-color, var(--theme-code-foreground, var(--jp-content-font-color1, black)));\n",
       "  --sklearn-color-icon: #696969;\n",
       "\n",
       "  @media (prefers-color-scheme: dark) {\n",
       "    /* Redefinition of color scheme for dark theme */\n",
       "    --sklearn-color-text-on-default-background: var(--sg-text-color, var(--theme-code-foreground, var(--jp-content-font-color1, white)));\n",
       "    --sklearn-color-background: var(--sg-background-color, var(--theme-background, var(--jp-layout-color0, #111)));\n",
       "    --sklearn-color-border-box: var(--sg-text-color, var(--theme-code-foreground, var(--jp-content-font-color1, white)));\n",
       "    --sklearn-color-icon: #878787;\n",
       "  }\n",
       "}\n",
       "\n",
       "#sk-container-id-8 {\n",
       "  color: var(--sklearn-color-text);\n",
       "}\n",
       "\n",
       "#sk-container-id-8 pre {\n",
       "  padding: 0;\n",
       "}\n",
       "\n",
       "#sk-container-id-8 input.sk-hidden--visually {\n",
       "  border: 0;\n",
       "  clip: rect(1px 1px 1px 1px);\n",
       "  clip: rect(1px, 1px, 1px, 1px);\n",
       "  height: 1px;\n",
       "  margin: -1px;\n",
       "  overflow: hidden;\n",
       "  padding: 0;\n",
       "  position: absolute;\n",
       "  width: 1px;\n",
       "}\n",
       "\n",
       "#sk-container-id-8 div.sk-dashed-wrapped {\n",
       "  border: 1px dashed var(--sklearn-color-line);\n",
       "  margin: 0 0.4em 0.5em 0.4em;\n",
       "  box-sizing: border-box;\n",
       "  padding-bottom: 0.4em;\n",
       "  background-color: var(--sklearn-color-background);\n",
       "}\n",
       "\n",
       "#sk-container-id-8 div.sk-container {\n",
       "  /* jupyter's `normalize.less` sets `[hidden] { display: none; }`\n",
       "     but bootstrap.min.css set `[hidden] { display: none !important; }`\n",
       "     so we also need the `!important` here to be able to override the\n",
       "     default hidden behavior on the sphinx rendered scikit-learn.org.\n",
       "     See: https://github.com/scikit-learn/scikit-learn/issues/21755 */\n",
       "  display: inline-block !important;\n",
       "  position: relative;\n",
       "}\n",
       "\n",
       "#sk-container-id-8 div.sk-text-repr-fallback {\n",
       "  display: none;\n",
       "}\n",
       "\n",
       "div.sk-parallel-item,\n",
       "div.sk-serial,\n",
       "div.sk-item {\n",
       "  /* draw centered vertical line to link estimators */\n",
       "  background-image: linear-gradient(var(--sklearn-color-text-on-default-background), var(--sklearn-color-text-on-default-background));\n",
       "  background-size: 2px 100%;\n",
       "  background-repeat: no-repeat;\n",
       "  background-position: center center;\n",
       "}\n",
       "\n",
       "/* Parallel-specific style estimator block */\n",
       "\n",
       "#sk-container-id-8 div.sk-parallel-item::after {\n",
       "  content: \"\";\n",
       "  width: 100%;\n",
       "  border-bottom: 2px solid var(--sklearn-color-text-on-default-background);\n",
       "  flex-grow: 1;\n",
       "}\n",
       "\n",
       "#sk-container-id-8 div.sk-parallel {\n",
       "  display: flex;\n",
       "  align-items: stretch;\n",
       "  justify-content: center;\n",
       "  background-color: var(--sklearn-color-background);\n",
       "  position: relative;\n",
       "}\n",
       "\n",
       "#sk-container-id-8 div.sk-parallel-item {\n",
       "  display: flex;\n",
       "  flex-direction: column;\n",
       "}\n",
       "\n",
       "#sk-container-id-8 div.sk-parallel-item:first-child::after {\n",
       "  align-self: flex-end;\n",
       "  width: 50%;\n",
       "}\n",
       "\n",
       "#sk-container-id-8 div.sk-parallel-item:last-child::after {\n",
       "  align-self: flex-start;\n",
       "  width: 50%;\n",
       "}\n",
       "\n",
       "#sk-container-id-8 div.sk-parallel-item:only-child::after {\n",
       "  width: 0;\n",
       "}\n",
       "\n",
       "/* Serial-specific style estimator block */\n",
       "\n",
       "#sk-container-id-8 div.sk-serial {\n",
       "  display: flex;\n",
       "  flex-direction: column;\n",
       "  align-items: center;\n",
       "  background-color: var(--sklearn-color-background);\n",
       "  padding-right: 1em;\n",
       "  padding-left: 1em;\n",
       "}\n",
       "\n",
       "\n",
       "/* Toggleable style: style used for estimator/Pipeline/ColumnTransformer box that is\n",
       "clickable and can be expanded/collapsed.\n",
       "- Pipeline and ColumnTransformer use this feature and define the default style\n",
       "- Estimators will overwrite some part of the style using the `sk-estimator` class\n",
       "*/\n",
       "\n",
       "/* Pipeline and ColumnTransformer style (default) */\n",
       "\n",
       "#sk-container-id-8 div.sk-toggleable {\n",
       "  /* Default theme specific background. It is overwritten whether we have a\n",
       "  specific estimator or a Pipeline/ColumnTransformer */\n",
       "  background-color: var(--sklearn-color-background);\n",
       "}\n",
       "\n",
       "/* Toggleable label */\n",
       "#sk-container-id-8 label.sk-toggleable__label {\n",
       "  cursor: pointer;\n",
       "  display: block;\n",
       "  width: 100%;\n",
       "  margin-bottom: 0;\n",
       "  padding: 0.5em;\n",
       "  box-sizing: border-box;\n",
       "  text-align: center;\n",
       "}\n",
       "\n",
       "#sk-container-id-8 label.sk-toggleable__label-arrow:before {\n",
       "  /* Arrow on the left of the label */\n",
       "  content: \"▸\";\n",
       "  float: left;\n",
       "  margin-right: 0.25em;\n",
       "  color: var(--sklearn-color-icon);\n",
       "}\n",
       "\n",
       "#sk-container-id-8 label.sk-toggleable__label-arrow:hover:before {\n",
       "  color: var(--sklearn-color-text);\n",
       "}\n",
       "\n",
       "/* Toggleable content - dropdown */\n",
       "\n",
       "#sk-container-id-8 div.sk-toggleable__content {\n",
       "  max-height: 0;\n",
       "  max-width: 0;\n",
       "  overflow: hidden;\n",
       "  text-align: left;\n",
       "  /* unfitted */\n",
       "  background-color: var(--sklearn-color-unfitted-level-0);\n",
       "}\n",
       "\n",
       "#sk-container-id-8 div.sk-toggleable__content.fitted {\n",
       "  /* fitted */\n",
       "  background-color: var(--sklearn-color-fitted-level-0);\n",
       "}\n",
       "\n",
       "#sk-container-id-8 div.sk-toggleable__content pre {\n",
       "  margin: 0.2em;\n",
       "  border-radius: 0.25em;\n",
       "  color: var(--sklearn-color-text);\n",
       "  /* unfitted */\n",
       "  background-color: var(--sklearn-color-unfitted-level-0);\n",
       "}\n",
       "\n",
       "#sk-container-id-8 div.sk-toggleable__content.fitted pre {\n",
       "  /* unfitted */\n",
       "  background-color: var(--sklearn-color-fitted-level-0);\n",
       "}\n",
       "\n",
       "#sk-container-id-8 input.sk-toggleable__control:checked~div.sk-toggleable__content {\n",
       "  /* Expand drop-down */\n",
       "  max-height: 200px;\n",
       "  max-width: 100%;\n",
       "  overflow: auto;\n",
       "}\n",
       "\n",
       "#sk-container-id-8 input.sk-toggleable__control:checked~label.sk-toggleable__label-arrow:before {\n",
       "  content: \"▾\";\n",
       "}\n",
       "\n",
       "/* Pipeline/ColumnTransformer-specific style */\n",
       "\n",
       "#sk-container-id-8 div.sk-label input.sk-toggleable__control:checked~label.sk-toggleable__label {\n",
       "  color: var(--sklearn-color-text);\n",
       "  background-color: var(--sklearn-color-unfitted-level-2);\n",
       "}\n",
       "\n",
       "#sk-container-id-8 div.sk-label.fitted input.sk-toggleable__control:checked~label.sk-toggleable__label {\n",
       "  background-color: var(--sklearn-color-fitted-level-2);\n",
       "}\n",
       "\n",
       "/* Estimator-specific style */\n",
       "\n",
       "/* Colorize estimator box */\n",
       "#sk-container-id-8 div.sk-estimator input.sk-toggleable__control:checked~label.sk-toggleable__label {\n",
       "  /* unfitted */\n",
       "  background-color: var(--sklearn-color-unfitted-level-2);\n",
       "}\n",
       "\n",
       "#sk-container-id-8 div.sk-estimator.fitted input.sk-toggleable__control:checked~label.sk-toggleable__label {\n",
       "  /* fitted */\n",
       "  background-color: var(--sklearn-color-fitted-level-2);\n",
       "}\n",
       "\n",
       "#sk-container-id-8 div.sk-label label.sk-toggleable__label,\n",
       "#sk-container-id-8 div.sk-label label {\n",
       "  /* The background is the default theme color */\n",
       "  color: var(--sklearn-color-text-on-default-background);\n",
       "}\n",
       "\n",
       "/* On hover, darken the color of the background */\n",
       "#sk-container-id-8 div.sk-label:hover label.sk-toggleable__label {\n",
       "  color: var(--sklearn-color-text);\n",
       "  background-color: var(--sklearn-color-unfitted-level-2);\n",
       "}\n",
       "\n",
       "/* Label box, darken color on hover, fitted */\n",
       "#sk-container-id-8 div.sk-label.fitted:hover label.sk-toggleable__label.fitted {\n",
       "  color: var(--sklearn-color-text);\n",
       "  background-color: var(--sklearn-color-fitted-level-2);\n",
       "}\n",
       "\n",
       "/* Estimator label */\n",
       "\n",
       "#sk-container-id-8 div.sk-label label {\n",
       "  font-family: monospace;\n",
       "  font-weight: bold;\n",
       "  display: inline-block;\n",
       "  line-height: 1.2em;\n",
       "}\n",
       "\n",
       "#sk-container-id-8 div.sk-label-container {\n",
       "  text-align: center;\n",
       "}\n",
       "\n",
       "/* Estimator-specific */\n",
       "#sk-container-id-8 div.sk-estimator {\n",
       "  font-family: monospace;\n",
       "  border: 1px dotted var(--sklearn-color-border-box);\n",
       "  border-radius: 0.25em;\n",
       "  box-sizing: border-box;\n",
       "  margin-bottom: 0.5em;\n",
       "  /* unfitted */\n",
       "  background-color: var(--sklearn-color-unfitted-level-0);\n",
       "}\n",
       "\n",
       "#sk-container-id-8 div.sk-estimator.fitted {\n",
       "  /* fitted */\n",
       "  background-color: var(--sklearn-color-fitted-level-0);\n",
       "}\n",
       "\n",
       "/* on hover */\n",
       "#sk-container-id-8 div.sk-estimator:hover {\n",
       "  /* unfitted */\n",
       "  background-color: var(--sklearn-color-unfitted-level-2);\n",
       "}\n",
       "\n",
       "#sk-container-id-8 div.sk-estimator.fitted:hover {\n",
       "  /* fitted */\n",
       "  background-color: var(--sklearn-color-fitted-level-2);\n",
       "}\n",
       "\n",
       "/* Specification for estimator info (e.g. \"i\" and \"?\") */\n",
       "\n",
       "/* Common style for \"i\" and \"?\" */\n",
       "\n",
       ".sk-estimator-doc-link,\n",
       "a:link.sk-estimator-doc-link,\n",
       "a:visited.sk-estimator-doc-link {\n",
       "  float: right;\n",
       "  font-size: smaller;\n",
       "  line-height: 1em;\n",
       "  font-family: monospace;\n",
       "  background-color: var(--sklearn-color-background);\n",
       "  border-radius: 1em;\n",
       "  height: 1em;\n",
       "  width: 1em;\n",
       "  text-decoration: none !important;\n",
       "  margin-left: 1ex;\n",
       "  /* unfitted */\n",
       "  border: var(--sklearn-color-unfitted-level-1) 1pt solid;\n",
       "  color: var(--sklearn-color-unfitted-level-1);\n",
       "}\n",
       "\n",
       ".sk-estimator-doc-link.fitted,\n",
       "a:link.sk-estimator-doc-link.fitted,\n",
       "a:visited.sk-estimator-doc-link.fitted {\n",
       "  /* fitted */\n",
       "  border: var(--sklearn-color-fitted-level-1) 1pt solid;\n",
       "  color: var(--sklearn-color-fitted-level-1);\n",
       "}\n",
       "\n",
       "/* On hover */\n",
       "div.sk-estimator:hover .sk-estimator-doc-link:hover,\n",
       ".sk-estimator-doc-link:hover,\n",
       "div.sk-label-container:hover .sk-estimator-doc-link:hover,\n",
       ".sk-estimator-doc-link:hover {\n",
       "  /* unfitted */\n",
       "  background-color: var(--sklearn-color-unfitted-level-3);\n",
       "  color: var(--sklearn-color-background);\n",
       "  text-decoration: none;\n",
       "}\n",
       "\n",
       "div.sk-estimator.fitted:hover .sk-estimator-doc-link.fitted:hover,\n",
       ".sk-estimator-doc-link.fitted:hover,\n",
       "div.sk-label-container:hover .sk-estimator-doc-link.fitted:hover,\n",
       ".sk-estimator-doc-link.fitted:hover {\n",
       "  /* fitted */\n",
       "  background-color: var(--sklearn-color-fitted-level-3);\n",
       "  color: var(--sklearn-color-background);\n",
       "  text-decoration: none;\n",
       "}\n",
       "\n",
       "/* Span, style for the box shown on hovering the info icon */\n",
       ".sk-estimator-doc-link span {\n",
       "  display: none;\n",
       "  z-index: 9999;\n",
       "  position: relative;\n",
       "  font-weight: normal;\n",
       "  right: .2ex;\n",
       "  padding: .5ex;\n",
       "  margin: .5ex;\n",
       "  width: min-content;\n",
       "  min-width: 20ex;\n",
       "  max-width: 50ex;\n",
       "  color: var(--sklearn-color-text);\n",
       "  box-shadow: 2pt 2pt 4pt #999;\n",
       "  /* unfitted */\n",
       "  background: var(--sklearn-color-unfitted-level-0);\n",
       "  border: .5pt solid var(--sklearn-color-unfitted-level-3);\n",
       "}\n",
       "\n",
       ".sk-estimator-doc-link.fitted span {\n",
       "  /* fitted */\n",
       "  background: var(--sklearn-color-fitted-level-0);\n",
       "  border: var(--sklearn-color-fitted-level-3);\n",
       "}\n",
       "\n",
       ".sk-estimator-doc-link:hover span {\n",
       "  display: block;\n",
       "}\n",
       "\n",
       "/* \"?\"-specific style due to the `<a>` HTML tag */\n",
       "\n",
       "#sk-container-id-8 a.estimator_doc_link {\n",
       "  float: right;\n",
       "  font-size: 1rem;\n",
       "  line-height: 1em;\n",
       "  font-family: monospace;\n",
       "  background-color: var(--sklearn-color-background);\n",
       "  border-radius: 1rem;\n",
       "  height: 1rem;\n",
       "  width: 1rem;\n",
       "  text-decoration: none;\n",
       "  /* unfitted */\n",
       "  color: var(--sklearn-color-unfitted-level-1);\n",
       "  border: var(--sklearn-color-unfitted-level-1) 1pt solid;\n",
       "}\n",
       "\n",
       "#sk-container-id-8 a.estimator_doc_link.fitted {\n",
       "  /* fitted */\n",
       "  border: var(--sklearn-color-fitted-level-1) 1pt solid;\n",
       "  color: var(--sklearn-color-fitted-level-1);\n",
       "}\n",
       "\n",
       "/* On hover */\n",
       "#sk-container-id-8 a.estimator_doc_link:hover {\n",
       "  /* unfitted */\n",
       "  background-color: var(--sklearn-color-unfitted-level-3);\n",
       "  color: var(--sklearn-color-background);\n",
       "  text-decoration: none;\n",
       "}\n",
       "\n",
       "#sk-container-id-8 a.estimator_doc_link.fitted:hover {\n",
       "  /* fitted */\n",
       "  background-color: var(--sklearn-color-fitted-level-3);\n",
       "}\n",
       "</style><div id=\"sk-container-id-8\" class=\"sk-top-container\"><div class=\"sk-text-repr-fallback\"><pre>Pipeline(steps=[(&#x27;scaler&#x27;, StandardScaler()),\n",
       "                (&#x27;log_reg&#x27;,\n",
       "                 LogisticRegression(max_iter=10000, random_state=42))])</pre><b>In a Jupyter environment, please rerun this cell to show the HTML representation or trust the notebook. <br />On GitHub, the HTML representation is unable to render, please try loading this page with nbviewer.org.</b></div><div class=\"sk-container\" hidden><div class=\"sk-item sk-dashed-wrapped\"><div class=\"sk-label-container\"><div class=\"sk-label fitted sk-toggleable\"><input class=\"sk-toggleable__control sk-hidden--visually\" id=\"sk-estimator-id-22\" type=\"checkbox\" ><label for=\"sk-estimator-id-22\" class=\"sk-toggleable__label fitted sk-toggleable__label-arrow fitted\">&nbsp;&nbsp;Pipeline<a class=\"sk-estimator-doc-link fitted\" rel=\"noreferrer\" target=\"_blank\" href=\"https://scikit-learn.org/1.5/modules/generated/sklearn.pipeline.Pipeline.html\">?<span>Documentation for Pipeline</span></a><span class=\"sk-estimator-doc-link fitted\">i<span>Fitted</span></span></label><div class=\"sk-toggleable__content fitted\"><pre>Pipeline(steps=[(&#x27;scaler&#x27;, StandardScaler()),\n",
       "                (&#x27;log_reg&#x27;,\n",
       "                 LogisticRegression(max_iter=10000, random_state=42))])</pre></div> </div></div><div class=\"sk-serial\"><div class=\"sk-item\"><div class=\"sk-estimator fitted sk-toggleable\"><input class=\"sk-toggleable__control sk-hidden--visually\" id=\"sk-estimator-id-23\" type=\"checkbox\" ><label for=\"sk-estimator-id-23\" class=\"sk-toggleable__label fitted sk-toggleable__label-arrow fitted\">&nbsp;StandardScaler<a class=\"sk-estimator-doc-link fitted\" rel=\"noreferrer\" target=\"_blank\" href=\"https://scikit-learn.org/1.5/modules/generated/sklearn.preprocessing.StandardScaler.html\">?<span>Documentation for StandardScaler</span></a></label><div class=\"sk-toggleable__content fitted\"><pre>StandardScaler()</pre></div> </div></div><div class=\"sk-item\"><div class=\"sk-estimator fitted sk-toggleable\"><input class=\"sk-toggleable__control sk-hidden--visually\" id=\"sk-estimator-id-24\" type=\"checkbox\" ><label for=\"sk-estimator-id-24\" class=\"sk-toggleable__label fitted sk-toggleable__label-arrow fitted\">&nbsp;LogisticRegression<a class=\"sk-estimator-doc-link fitted\" rel=\"noreferrer\" target=\"_blank\" href=\"https://scikit-learn.org/1.5/modules/generated/sklearn.linear_model.LogisticRegression.html\">?<span>Documentation for LogisticRegression</span></a></label><div class=\"sk-toggleable__content fitted\"><pre>LogisticRegression(max_iter=10000, random_state=42)</pre></div> </div></div></div></div></div></div>"
      ],
      "text/plain": [
       "Pipeline(steps=[('scaler', StandardScaler()),\n",
       "                ('log_reg',\n",
       "                 LogisticRegression(max_iter=10000, random_state=42))])"
      ]
     },
     "execution_count": 503,
     "metadata": {},
     "output_type": "execute_result"
    }
   ],
   "source": [
    "# Define the pipeline\n",
    "pipeline = Pipeline([\n",
    "    ('scaler', StandardScaler()),\n",
    "    ('log_reg', LogisticRegression(max_iter=10000, random_state=42))\n",
    "])\n",
    "\n",
    "# Fit the pipeline on the training data\n",
    "pipeline.fit(x_train, y_train)"
   ]
  },
  {
   "cell_type": "code",
   "execution_count": 505,
   "metadata": {
    "executionInfo": {
     "elapsed": 23,
     "status": "ok",
     "timestamp": 1718714536765,
     "user": {
      "displayName": "Vikas Singh",
      "userId": "04375885343580620832"
     },
     "user_tz": -330
    },
    "id": "bu4ExTK8C6kU"
   },
   "outputs": [],
   "source": [
    "# Predict on the training and testing set\n",
    "y_pred_train_log_reg = pipeline.predict(x_train)\n",
    "y_pred_test_log_reg = pipeline.predict(x_test)\n",
    "\n",
    "# Predict probabilities on the testing set\n",
    "y_pred_test_prob_log_reg = pipeline.predict_proba(x_test)[:, 1]"
   ]
  },
  {
   "cell_type": "markdown",
   "metadata": {
    "id": "HacPrd7RKg_E"
   },
   "source": [
    "#### __Next Steps:__\n",
    "\n",
    "Create a DataFrame with actual labels, predicted scores, and predicted probabilities, for test data\n",
    "\n",
    "- The probabilities of the positive class (malignant) for the testing set are obtained, useful for further evaluation metrics like ROC-AUC.\n"
   ]
  },
  {
   "cell_type": "code",
   "execution_count": 508,
   "metadata": {
    "colab": {
     "base_uri": "https://localhost:8080/",
     "height": 206
    },
    "executionInfo": {
     "elapsed": 1096,
     "status": "ok",
     "timestamp": 1718714537838,
     "user": {
      "displayName": "Vikas Singh",
      "userId": "04375885343580620832"
     },
     "user_tz": -330
    },
    "id": "yWUqXixTC6QF",
    "outputId": "de9a8a79-c7e7-449a-adf7-cc475692cca3"
   },
   "outputs": [
    {
     "data": {
      "text/html": [
       "<div>\n",
       "<style scoped>\n",
       "    .dataframe tbody tr th:only-of-type {\n",
       "        vertical-align: middle;\n",
       "    }\n",
       "\n",
       "    .dataframe tbody tr th {\n",
       "        vertical-align: top;\n",
       "    }\n",
       "\n",
       "    .dataframe thead th {\n",
       "        text-align: right;\n",
       "    }\n",
       "</style>\n",
       "<table border=\"1\" class=\"dataframe\">\n",
       "  <thead>\n",
       "    <tr style=\"text-align: right;\">\n",
       "      <th></th>\n",
       "      <th>Actual Label</th>\n",
       "      <th>Predicted Probability</th>\n",
       "      <th>Predicted Label</th>\n",
       "    </tr>\n",
       "  </thead>\n",
       "  <tbody>\n",
       "    <tr>\n",
       "      <th>204</th>\n",
       "      <td>0</td>\n",
       "      <td>0.113590</td>\n",
       "      <td>0</td>\n",
       "    </tr>\n",
       "    <tr>\n",
       "      <th>70</th>\n",
       "      <td>1</td>\n",
       "      <td>0.999991</td>\n",
       "      <td>1</td>\n",
       "    </tr>\n",
       "    <tr>\n",
       "      <th>131</th>\n",
       "      <td>1</td>\n",
       "      <td>0.996921</td>\n",
       "      <td>1</td>\n",
       "    </tr>\n",
       "    <tr>\n",
       "      <th>431</th>\n",
       "      <td>0</td>\n",
       "      <td>0.000510</td>\n",
       "      <td>0</td>\n",
       "    </tr>\n",
       "    <tr>\n",
       "      <th>540</th>\n",
       "      <td>0</td>\n",
       "      <td>0.000061</td>\n",
       "      <td>0</td>\n",
       "    </tr>\n",
       "  </tbody>\n",
       "</table>\n",
       "</div>"
      ],
      "text/plain": [
       "     Actual Label  Predicted Probability  Predicted Label\n",
       "204             0               0.113590                0\n",
       "70              1               0.999991                1\n",
       "131             1               0.996921                1\n",
       "431             0               0.000510                0\n",
       "540             0               0.000061                0"
      ]
     },
     "execution_count": 508,
     "metadata": {},
     "output_type": "execute_result"
    }
   ],
   "source": [
    "results_df = pd.DataFrame({\n",
    "    'Actual Label': y_test,\n",
    "    'Predicted Probability': y_pred_test_prob_log_reg,\n",
    "    'Predicted Label': y_pred_test_log_reg,\n",
    "})\n",
    "\n",
    "# Display the first 5 instances in the result dataframe\n",
    "results_df.head()"
   ]
  },
  {
   "cell_type": "code",
   "execution_count": 510,
   "metadata": {
    "colab": {
     "base_uri": "https://localhost:8080/"
    },
    "executionInfo": {
     "elapsed": 31,
     "status": "ok",
     "timestamp": 1718714537840,
     "user": {
      "displayName": "Vikas Singh",
      "userId": "04375885343580620832"
     },
     "user_tz": -330
    },
    "id": "qrf4eI4fMFca",
    "outputId": "9e6f24f6-ef21-4b0f-b763-7c6d14d460d5"
   },
   "outputs": [
    {
     "name": "stdout",
     "output_type": "stream",
     "text": [
      "Logistic Regression\n",
      "Training Accuracy: 0.9868131868131869\n",
      "Testing Accuracy: 0.9736842105263158\n"
     ]
    }
   ],
   "source": [
    "# Calculate the training and testing accuracy\n",
    "training_accuracy = accuracy_score(y_train, y_pred_train_log_reg)\n",
    "testing_accuracy = accuracy_score(y_test, y_pred_test_log_reg)\n",
    "\n",
    "print(\"Logistic Regression\")\n",
    "print(f\"Training Accuracy: {training_accuracy}\")\n",
    "print(f\"Testing Accuracy: {testing_accuracy}\")"
   ]
  },
  {
   "cell_type": "markdown",
   "metadata": {
    "id": "avzsDdKiNKcA"
   },
   "source": [
    "##### __Observations:__\n",
    "\n",
    "- **Training Accuracy (98.68%):**\n",
    "  Indicates that the logistic regression model correctly classifies 98.68% of the training instances.\n",
    "  A high training accuracy suggests that the model has learned the patterns present in the training data well.\n",
    "\n",
    "- **Testing Accuracy (97.37%):** This indicates that the model correctly classifies 97.37% of the instances in the test set, which was not seen during training.\n",
    "  High testing accuracy suggests that the model generalizes well to new, unseen data.\n",
    "\n",
    "- **Model Performance:** Both training and testing accuracies are high, indicating good overall performance of the logistic regression model.\n",
    "  The slight drop from training to testing accuracy (from 98.68% to 97.37%) is expected and acceptable, showing that the model generalizes well without overfitting.\n",
    "\n",
    "- **Check for Overfitting:** If the training accuracy were significantly higher than the testing accuracy, it would suggest overfitting. However, in this case, the difference is small, indicating that the model is not overfitting."
   ]
  },
  {
   "cell_type": "markdown",
   "metadata": {},
   "source": [
    "#### __Logistic Regression with custom threshold value__\n",
    "\n",
    "Default threshold value - `0.5`."
   ]
  },
  {
   "cell_type": "code",
   "execution_count": 520,
   "metadata": {},
   "outputs": [
    {
     "data": {
      "text/html": [
       "<style>#sk-container-id-10 {\n",
       "  /* Definition of color scheme common for light and dark mode */\n",
       "  --sklearn-color-text: black;\n",
       "  --sklearn-color-line: gray;\n",
       "  /* Definition of color scheme for unfitted estimators */\n",
       "  --sklearn-color-unfitted-level-0: #fff5e6;\n",
       "  --sklearn-color-unfitted-level-1: #f6e4d2;\n",
       "  --sklearn-color-unfitted-level-2: #ffe0b3;\n",
       "  --sklearn-color-unfitted-level-3: chocolate;\n",
       "  /* Definition of color scheme for fitted estimators */\n",
       "  --sklearn-color-fitted-level-0: #f0f8ff;\n",
       "  --sklearn-color-fitted-level-1: #d4ebff;\n",
       "  --sklearn-color-fitted-level-2: #b3dbfd;\n",
       "  --sklearn-color-fitted-level-3: cornflowerblue;\n",
       "\n",
       "  /* Specific color for light theme */\n",
       "  --sklearn-color-text-on-default-background: var(--sg-text-color, var(--theme-code-foreground, var(--jp-content-font-color1, black)));\n",
       "  --sklearn-color-background: var(--sg-background-color, var(--theme-background, var(--jp-layout-color0, white)));\n",
       "  --sklearn-color-border-box: var(--sg-text-color, var(--theme-code-foreground, var(--jp-content-font-color1, black)));\n",
       "  --sklearn-color-icon: #696969;\n",
       "\n",
       "  @media (prefers-color-scheme: dark) {\n",
       "    /* Redefinition of color scheme for dark theme */\n",
       "    --sklearn-color-text-on-default-background: var(--sg-text-color, var(--theme-code-foreground, var(--jp-content-font-color1, white)));\n",
       "    --sklearn-color-background: var(--sg-background-color, var(--theme-background, var(--jp-layout-color0, #111)));\n",
       "    --sklearn-color-border-box: var(--sg-text-color, var(--theme-code-foreground, var(--jp-content-font-color1, white)));\n",
       "    --sklearn-color-icon: #878787;\n",
       "  }\n",
       "}\n",
       "\n",
       "#sk-container-id-10 {\n",
       "  color: var(--sklearn-color-text);\n",
       "}\n",
       "\n",
       "#sk-container-id-10 pre {\n",
       "  padding: 0;\n",
       "}\n",
       "\n",
       "#sk-container-id-10 input.sk-hidden--visually {\n",
       "  border: 0;\n",
       "  clip: rect(1px 1px 1px 1px);\n",
       "  clip: rect(1px, 1px, 1px, 1px);\n",
       "  height: 1px;\n",
       "  margin: -1px;\n",
       "  overflow: hidden;\n",
       "  padding: 0;\n",
       "  position: absolute;\n",
       "  width: 1px;\n",
       "}\n",
       "\n",
       "#sk-container-id-10 div.sk-dashed-wrapped {\n",
       "  border: 1px dashed var(--sklearn-color-line);\n",
       "  margin: 0 0.4em 0.5em 0.4em;\n",
       "  box-sizing: border-box;\n",
       "  padding-bottom: 0.4em;\n",
       "  background-color: var(--sklearn-color-background);\n",
       "}\n",
       "\n",
       "#sk-container-id-10 div.sk-container {\n",
       "  /* jupyter's `normalize.less` sets `[hidden] { display: none; }`\n",
       "     but bootstrap.min.css set `[hidden] { display: none !important; }`\n",
       "     so we also need the `!important` here to be able to override the\n",
       "     default hidden behavior on the sphinx rendered scikit-learn.org.\n",
       "     See: https://github.com/scikit-learn/scikit-learn/issues/21755 */\n",
       "  display: inline-block !important;\n",
       "  position: relative;\n",
       "}\n",
       "\n",
       "#sk-container-id-10 div.sk-text-repr-fallback {\n",
       "  display: none;\n",
       "}\n",
       "\n",
       "div.sk-parallel-item,\n",
       "div.sk-serial,\n",
       "div.sk-item {\n",
       "  /* draw centered vertical line to link estimators */\n",
       "  background-image: linear-gradient(var(--sklearn-color-text-on-default-background), var(--sklearn-color-text-on-default-background));\n",
       "  background-size: 2px 100%;\n",
       "  background-repeat: no-repeat;\n",
       "  background-position: center center;\n",
       "}\n",
       "\n",
       "/* Parallel-specific style estimator block */\n",
       "\n",
       "#sk-container-id-10 div.sk-parallel-item::after {\n",
       "  content: \"\";\n",
       "  width: 100%;\n",
       "  border-bottom: 2px solid var(--sklearn-color-text-on-default-background);\n",
       "  flex-grow: 1;\n",
       "}\n",
       "\n",
       "#sk-container-id-10 div.sk-parallel {\n",
       "  display: flex;\n",
       "  align-items: stretch;\n",
       "  justify-content: center;\n",
       "  background-color: var(--sklearn-color-background);\n",
       "  position: relative;\n",
       "}\n",
       "\n",
       "#sk-container-id-10 div.sk-parallel-item {\n",
       "  display: flex;\n",
       "  flex-direction: column;\n",
       "}\n",
       "\n",
       "#sk-container-id-10 div.sk-parallel-item:first-child::after {\n",
       "  align-self: flex-end;\n",
       "  width: 50%;\n",
       "}\n",
       "\n",
       "#sk-container-id-10 div.sk-parallel-item:last-child::after {\n",
       "  align-self: flex-start;\n",
       "  width: 50%;\n",
       "}\n",
       "\n",
       "#sk-container-id-10 div.sk-parallel-item:only-child::after {\n",
       "  width: 0;\n",
       "}\n",
       "\n",
       "/* Serial-specific style estimator block */\n",
       "\n",
       "#sk-container-id-10 div.sk-serial {\n",
       "  display: flex;\n",
       "  flex-direction: column;\n",
       "  align-items: center;\n",
       "  background-color: var(--sklearn-color-background);\n",
       "  padding-right: 1em;\n",
       "  padding-left: 1em;\n",
       "}\n",
       "\n",
       "\n",
       "/* Toggleable style: style used for estimator/Pipeline/ColumnTransformer box that is\n",
       "clickable and can be expanded/collapsed.\n",
       "- Pipeline and ColumnTransformer use this feature and define the default style\n",
       "- Estimators will overwrite some part of the style using the `sk-estimator` class\n",
       "*/\n",
       "\n",
       "/* Pipeline and ColumnTransformer style (default) */\n",
       "\n",
       "#sk-container-id-10 div.sk-toggleable {\n",
       "  /* Default theme specific background. It is overwritten whether we have a\n",
       "  specific estimator or a Pipeline/ColumnTransformer */\n",
       "  background-color: var(--sklearn-color-background);\n",
       "}\n",
       "\n",
       "/* Toggleable label */\n",
       "#sk-container-id-10 label.sk-toggleable__label {\n",
       "  cursor: pointer;\n",
       "  display: block;\n",
       "  width: 100%;\n",
       "  margin-bottom: 0;\n",
       "  padding: 0.5em;\n",
       "  box-sizing: border-box;\n",
       "  text-align: center;\n",
       "}\n",
       "\n",
       "#sk-container-id-10 label.sk-toggleable__label-arrow:before {\n",
       "  /* Arrow on the left of the label */\n",
       "  content: \"▸\";\n",
       "  float: left;\n",
       "  margin-right: 0.25em;\n",
       "  color: var(--sklearn-color-icon);\n",
       "}\n",
       "\n",
       "#sk-container-id-10 label.sk-toggleable__label-arrow:hover:before {\n",
       "  color: var(--sklearn-color-text);\n",
       "}\n",
       "\n",
       "/* Toggleable content - dropdown */\n",
       "\n",
       "#sk-container-id-10 div.sk-toggleable__content {\n",
       "  max-height: 0;\n",
       "  max-width: 0;\n",
       "  overflow: hidden;\n",
       "  text-align: left;\n",
       "  /* unfitted */\n",
       "  background-color: var(--sklearn-color-unfitted-level-0);\n",
       "}\n",
       "\n",
       "#sk-container-id-10 div.sk-toggleable__content.fitted {\n",
       "  /* fitted */\n",
       "  background-color: var(--sklearn-color-fitted-level-0);\n",
       "}\n",
       "\n",
       "#sk-container-id-10 div.sk-toggleable__content pre {\n",
       "  margin: 0.2em;\n",
       "  border-radius: 0.25em;\n",
       "  color: var(--sklearn-color-text);\n",
       "  /* unfitted */\n",
       "  background-color: var(--sklearn-color-unfitted-level-0);\n",
       "}\n",
       "\n",
       "#sk-container-id-10 div.sk-toggleable__content.fitted pre {\n",
       "  /* unfitted */\n",
       "  background-color: var(--sklearn-color-fitted-level-0);\n",
       "}\n",
       "\n",
       "#sk-container-id-10 input.sk-toggleable__control:checked~div.sk-toggleable__content {\n",
       "  /* Expand drop-down */\n",
       "  max-height: 200px;\n",
       "  max-width: 100%;\n",
       "  overflow: auto;\n",
       "}\n",
       "\n",
       "#sk-container-id-10 input.sk-toggleable__control:checked~label.sk-toggleable__label-arrow:before {\n",
       "  content: \"▾\";\n",
       "}\n",
       "\n",
       "/* Pipeline/ColumnTransformer-specific style */\n",
       "\n",
       "#sk-container-id-10 div.sk-label input.sk-toggleable__control:checked~label.sk-toggleable__label {\n",
       "  color: var(--sklearn-color-text);\n",
       "  background-color: var(--sklearn-color-unfitted-level-2);\n",
       "}\n",
       "\n",
       "#sk-container-id-10 div.sk-label.fitted input.sk-toggleable__control:checked~label.sk-toggleable__label {\n",
       "  background-color: var(--sklearn-color-fitted-level-2);\n",
       "}\n",
       "\n",
       "/* Estimator-specific style */\n",
       "\n",
       "/* Colorize estimator box */\n",
       "#sk-container-id-10 div.sk-estimator input.sk-toggleable__control:checked~label.sk-toggleable__label {\n",
       "  /* unfitted */\n",
       "  background-color: var(--sklearn-color-unfitted-level-2);\n",
       "}\n",
       "\n",
       "#sk-container-id-10 div.sk-estimator.fitted input.sk-toggleable__control:checked~label.sk-toggleable__label {\n",
       "  /* fitted */\n",
       "  background-color: var(--sklearn-color-fitted-level-2);\n",
       "}\n",
       "\n",
       "#sk-container-id-10 div.sk-label label.sk-toggleable__label,\n",
       "#sk-container-id-10 div.sk-label label {\n",
       "  /* The background is the default theme color */\n",
       "  color: var(--sklearn-color-text-on-default-background);\n",
       "}\n",
       "\n",
       "/* On hover, darken the color of the background */\n",
       "#sk-container-id-10 div.sk-label:hover label.sk-toggleable__label {\n",
       "  color: var(--sklearn-color-text);\n",
       "  background-color: var(--sklearn-color-unfitted-level-2);\n",
       "}\n",
       "\n",
       "/* Label box, darken color on hover, fitted */\n",
       "#sk-container-id-10 div.sk-label.fitted:hover label.sk-toggleable__label.fitted {\n",
       "  color: var(--sklearn-color-text);\n",
       "  background-color: var(--sklearn-color-fitted-level-2);\n",
       "}\n",
       "\n",
       "/* Estimator label */\n",
       "\n",
       "#sk-container-id-10 div.sk-label label {\n",
       "  font-family: monospace;\n",
       "  font-weight: bold;\n",
       "  display: inline-block;\n",
       "  line-height: 1.2em;\n",
       "}\n",
       "\n",
       "#sk-container-id-10 div.sk-label-container {\n",
       "  text-align: center;\n",
       "}\n",
       "\n",
       "/* Estimator-specific */\n",
       "#sk-container-id-10 div.sk-estimator {\n",
       "  font-family: monospace;\n",
       "  border: 1px dotted var(--sklearn-color-border-box);\n",
       "  border-radius: 0.25em;\n",
       "  box-sizing: border-box;\n",
       "  margin-bottom: 0.5em;\n",
       "  /* unfitted */\n",
       "  background-color: var(--sklearn-color-unfitted-level-0);\n",
       "}\n",
       "\n",
       "#sk-container-id-10 div.sk-estimator.fitted {\n",
       "  /* fitted */\n",
       "  background-color: var(--sklearn-color-fitted-level-0);\n",
       "}\n",
       "\n",
       "/* on hover */\n",
       "#sk-container-id-10 div.sk-estimator:hover {\n",
       "  /* unfitted */\n",
       "  background-color: var(--sklearn-color-unfitted-level-2);\n",
       "}\n",
       "\n",
       "#sk-container-id-10 div.sk-estimator.fitted:hover {\n",
       "  /* fitted */\n",
       "  background-color: var(--sklearn-color-fitted-level-2);\n",
       "}\n",
       "\n",
       "/* Specification for estimator info (e.g. \"i\" and \"?\") */\n",
       "\n",
       "/* Common style for \"i\" and \"?\" */\n",
       "\n",
       ".sk-estimator-doc-link,\n",
       "a:link.sk-estimator-doc-link,\n",
       "a:visited.sk-estimator-doc-link {\n",
       "  float: right;\n",
       "  font-size: smaller;\n",
       "  line-height: 1em;\n",
       "  font-family: monospace;\n",
       "  background-color: var(--sklearn-color-background);\n",
       "  border-radius: 1em;\n",
       "  height: 1em;\n",
       "  width: 1em;\n",
       "  text-decoration: none !important;\n",
       "  margin-left: 1ex;\n",
       "  /* unfitted */\n",
       "  border: var(--sklearn-color-unfitted-level-1) 1pt solid;\n",
       "  color: var(--sklearn-color-unfitted-level-1);\n",
       "}\n",
       "\n",
       ".sk-estimator-doc-link.fitted,\n",
       "a:link.sk-estimator-doc-link.fitted,\n",
       "a:visited.sk-estimator-doc-link.fitted {\n",
       "  /* fitted */\n",
       "  border: var(--sklearn-color-fitted-level-1) 1pt solid;\n",
       "  color: var(--sklearn-color-fitted-level-1);\n",
       "}\n",
       "\n",
       "/* On hover */\n",
       "div.sk-estimator:hover .sk-estimator-doc-link:hover,\n",
       ".sk-estimator-doc-link:hover,\n",
       "div.sk-label-container:hover .sk-estimator-doc-link:hover,\n",
       ".sk-estimator-doc-link:hover {\n",
       "  /* unfitted */\n",
       "  background-color: var(--sklearn-color-unfitted-level-3);\n",
       "  color: var(--sklearn-color-background);\n",
       "  text-decoration: none;\n",
       "}\n",
       "\n",
       "div.sk-estimator.fitted:hover .sk-estimator-doc-link.fitted:hover,\n",
       ".sk-estimator-doc-link.fitted:hover,\n",
       "div.sk-label-container:hover .sk-estimator-doc-link.fitted:hover,\n",
       ".sk-estimator-doc-link.fitted:hover {\n",
       "  /* fitted */\n",
       "  background-color: var(--sklearn-color-fitted-level-3);\n",
       "  color: var(--sklearn-color-background);\n",
       "  text-decoration: none;\n",
       "}\n",
       "\n",
       "/* Span, style for the box shown on hovering the info icon */\n",
       ".sk-estimator-doc-link span {\n",
       "  display: none;\n",
       "  z-index: 9999;\n",
       "  position: relative;\n",
       "  font-weight: normal;\n",
       "  right: .2ex;\n",
       "  padding: .5ex;\n",
       "  margin: .5ex;\n",
       "  width: min-content;\n",
       "  min-width: 20ex;\n",
       "  max-width: 50ex;\n",
       "  color: var(--sklearn-color-text);\n",
       "  box-shadow: 2pt 2pt 4pt #999;\n",
       "  /* unfitted */\n",
       "  background: var(--sklearn-color-unfitted-level-0);\n",
       "  border: .5pt solid var(--sklearn-color-unfitted-level-3);\n",
       "}\n",
       "\n",
       ".sk-estimator-doc-link.fitted span {\n",
       "  /* fitted */\n",
       "  background: var(--sklearn-color-fitted-level-0);\n",
       "  border: var(--sklearn-color-fitted-level-3);\n",
       "}\n",
       "\n",
       ".sk-estimator-doc-link:hover span {\n",
       "  display: block;\n",
       "}\n",
       "\n",
       "/* \"?\"-specific style due to the `<a>` HTML tag */\n",
       "\n",
       "#sk-container-id-10 a.estimator_doc_link {\n",
       "  float: right;\n",
       "  font-size: 1rem;\n",
       "  line-height: 1em;\n",
       "  font-family: monospace;\n",
       "  background-color: var(--sklearn-color-background);\n",
       "  border-radius: 1rem;\n",
       "  height: 1rem;\n",
       "  width: 1rem;\n",
       "  text-decoration: none;\n",
       "  /* unfitted */\n",
       "  color: var(--sklearn-color-unfitted-level-1);\n",
       "  border: var(--sklearn-color-unfitted-level-1) 1pt solid;\n",
       "}\n",
       "\n",
       "#sk-container-id-10 a.estimator_doc_link.fitted {\n",
       "  /* fitted */\n",
       "  border: var(--sklearn-color-fitted-level-1) 1pt solid;\n",
       "  color: var(--sklearn-color-fitted-level-1);\n",
       "}\n",
       "\n",
       "/* On hover */\n",
       "#sk-container-id-10 a.estimator_doc_link:hover {\n",
       "  /* unfitted */\n",
       "  background-color: var(--sklearn-color-unfitted-level-3);\n",
       "  color: var(--sklearn-color-background);\n",
       "  text-decoration: none;\n",
       "}\n",
       "\n",
       "#sk-container-id-10 a.estimator_doc_link.fitted:hover {\n",
       "  /* fitted */\n",
       "  background-color: var(--sklearn-color-fitted-level-3);\n",
       "}\n",
       "</style><div id=\"sk-container-id-10\" class=\"sk-top-container\"><div class=\"sk-text-repr-fallback\"><pre>Pipeline(steps=[(&#x27;scaler&#x27;, StandardScaler()),\n",
       "                (&#x27;log_reg&#x27;,\n",
       "                 LogisticRegression(max_iter=10000, random_state=42))])</pre><b>In a Jupyter environment, please rerun this cell to show the HTML representation or trust the notebook. <br />On GitHub, the HTML representation is unable to render, please try loading this page with nbviewer.org.</b></div><div class=\"sk-container\" hidden><div class=\"sk-item sk-dashed-wrapped\"><div class=\"sk-label-container\"><div class=\"sk-label fitted sk-toggleable\"><input class=\"sk-toggleable__control sk-hidden--visually\" id=\"sk-estimator-id-28\" type=\"checkbox\" ><label for=\"sk-estimator-id-28\" class=\"sk-toggleable__label fitted sk-toggleable__label-arrow fitted\">&nbsp;&nbsp;Pipeline<a class=\"sk-estimator-doc-link fitted\" rel=\"noreferrer\" target=\"_blank\" href=\"https://scikit-learn.org/1.5/modules/generated/sklearn.pipeline.Pipeline.html\">?<span>Documentation for Pipeline</span></a><span class=\"sk-estimator-doc-link fitted\">i<span>Fitted</span></span></label><div class=\"sk-toggleable__content fitted\"><pre>Pipeline(steps=[(&#x27;scaler&#x27;, StandardScaler()),\n",
       "                (&#x27;log_reg&#x27;,\n",
       "                 LogisticRegression(max_iter=10000, random_state=42))])</pre></div> </div></div><div class=\"sk-serial\"><div class=\"sk-item\"><div class=\"sk-estimator fitted sk-toggleable\"><input class=\"sk-toggleable__control sk-hidden--visually\" id=\"sk-estimator-id-29\" type=\"checkbox\" ><label for=\"sk-estimator-id-29\" class=\"sk-toggleable__label fitted sk-toggleable__label-arrow fitted\">&nbsp;StandardScaler<a class=\"sk-estimator-doc-link fitted\" rel=\"noreferrer\" target=\"_blank\" href=\"https://scikit-learn.org/1.5/modules/generated/sklearn.preprocessing.StandardScaler.html\">?<span>Documentation for StandardScaler</span></a></label><div class=\"sk-toggleable__content fitted\"><pre>StandardScaler()</pre></div> </div></div><div class=\"sk-item\"><div class=\"sk-estimator fitted sk-toggleable\"><input class=\"sk-toggleable__control sk-hidden--visually\" id=\"sk-estimator-id-30\" type=\"checkbox\" ><label for=\"sk-estimator-id-30\" class=\"sk-toggleable__label fitted sk-toggleable__label-arrow fitted\">&nbsp;LogisticRegression<a class=\"sk-estimator-doc-link fitted\" rel=\"noreferrer\" target=\"_blank\" href=\"https://scikit-learn.org/1.5/modules/generated/sklearn.linear_model.LogisticRegression.html\">?<span>Documentation for LogisticRegression</span></a></label><div class=\"sk-toggleable__content fitted\"><pre>LogisticRegression(max_iter=10000, random_state=42)</pre></div> </div></div></div></div></div></div>"
      ],
      "text/plain": [
       "Pipeline(steps=[('scaler', StandardScaler()),\n",
       "                ('log_reg',\n",
       "                 LogisticRegression(max_iter=10000, random_state=42))])"
      ]
     },
     "execution_count": 520,
     "metadata": {},
     "output_type": "execute_result"
    }
   ],
   "source": [
    "# Define the pipeline\n",
    "pipeline = Pipeline([\n",
    "    ('scaler', StandardScaler()),\n",
    "    ('log_reg', LogisticRegression(max_iter=10000, random_state=42))\n",
    "])\n",
    "\n",
    "# Fit the pipeline on the training data\n",
    "pipeline.fit(x_train, y_train)"
   ]
  },
  {
   "cell_type": "code",
   "execution_count": 522,
   "metadata": {},
   "outputs": [],
   "source": [
    "# Predict probabilities on the testing set\n",
    "y_pred_test_prob_log_reg = pipeline.predict_proba(x_test)[:, 1]"
   ]
  },
  {
   "cell_type": "code",
   "execution_count": 524,
   "metadata": {},
   "outputs": [],
   "source": [
    "threshold = 0.3\n",
    "\n",
    "y_pred_custom = (y_pred_test_prob_log_reg >= threshold).astype(np.int32)"
   ]
  },
  {
   "cell_type": "code",
   "execution_count": 526,
   "metadata": {},
   "outputs": [],
   "source": [
    "from sklearn.metrics import classification_report"
   ]
  },
  {
   "cell_type": "code",
   "execution_count": 528,
   "metadata": {},
   "outputs": [
    {
     "name": "stdout",
     "output_type": "stream",
     "text": [
      "Classification report with new threshold: 0.3\n",
      "              precision    recall  f1-score   support\n",
      "\n",
      "           0       0.99      0.94      0.96        71\n",
      "           1       0.91      0.98      0.94        43\n",
      "\n",
      "    accuracy                           0.96       114\n",
      "   macro avg       0.95      0.96      0.95       114\n",
      "weighted avg       0.96      0.96      0.96       114\n",
      "\n"
     ]
    }
   ],
   "source": [
    "print(f\"Classification report with new threshold: {threshold}\")\n",
    "print(classification_report(y_test, y_pred_custom))"
   ]
  },
  {
   "cell_type": "code",
   "execution_count": 530,
   "metadata": {},
   "outputs": [],
   "source": [
    "threshold_default = 0.5\n",
    "\n",
    "y_pred_custom_default = (y_pred_test_prob_log_reg >= threshold_default).astype(np.int32)"
   ]
  },
  {
   "cell_type": "code",
   "execution_count": 532,
   "metadata": {},
   "outputs": [
    {
     "name": "stdout",
     "output_type": "stream",
     "text": [
      "Classification report with new threshold: 0.5\n",
      "              precision    recall  f1-score   support\n",
      "\n",
      "           0       0.97      0.99      0.98        71\n",
      "           1       0.98      0.95      0.96        43\n",
      "\n",
      "    accuracy                           0.97       114\n",
      "   macro avg       0.97      0.97      0.97       114\n",
      "weighted avg       0.97      0.97      0.97       114\n",
      "\n"
     ]
    }
   ],
   "source": [
    "print(f\"Classification report with new threshold: {threshold_default}\")\n",
    "print(classification_report(y_test, y_pred_custom_default))"
   ]
  },
  {
   "cell_type": "markdown",
   "metadata": {},
   "source": [
    "## __Performance Metrics Used in Classification__ ##"
   ]
  },
  {
   "cell_type": "markdown",
   "metadata": {
    "id": "su3Xx9FHcU1i"
   },
   "source": [
    "A performance evaluation matrix, often referred to as a confusion matrix in the context of classification problems, is a tool used to assess the performance of a predictive model by comparing the actual outcomes with the predicted outcomes.\n",
    "\n",
    "- It is a tabular representation that allows you to visualize the accuracy and errors of the model in detail.\n",
    "\n",
    "A __confusion matrix__ is typically a 2x2 matrix as shown below:\n",
    "\n",
    "<img src=\"https://cdn.analyticsvidhya.com/wp-content/uploads/2024/08/Basic-Confusion-matrix.webp\" width=300 height=300 />\n",
    "\n",
    "The matrix includes the following components:\n",
    "- **True Positive (TP):** The number of instances where the model correctly predicted the positive class.\n",
    "- **True Negative (TN):** The number of instances where the model correctly predicted the negative class.\n",
    "- **False Positive (FP):** The number of instances where the model incorrectly predicted the positive class (Type I error).\n",
    "- **False Negative (FN):** The number of instances where the model incorrectly predicted the negative class (Type II error)"
   ]
  },
  {
   "cell_type": "markdown",
   "metadata": {},
   "source": [
    "### __Significance of the Confusion Matrix__"
   ]
  },
  {
   "cell_type": "markdown",
   "metadata": {
    "id": "GZpxB98Lg1AN"
   },
   "source": [
    "The confusion matrix provides the foundation for various evaluation metrics, which are crucial for understanding different aspects of model performance. These metrics include:\n",
    "\n",
    "- Accuracy\n",
    "- Precision\n",
    "- Recall(Sensitivity or True Positive Rate)\n",
    "- F1 Score\n",
    "- Specificity(True Negative Rate)"
   ]
  },
  {
   "cell_type": "markdown",
   "metadata": {
    "id": "7NtO-q42iToC"
   },
   "source": [
    "#### __Accuracy__\n",
    "\n",
    "The ratio of correctly predicted instances (both positive and negative) to the total instances.\n",
    "\n",
    "  \n",
    "  $$\n",
    "   \\text{Accuracy} = \\frac{TP + TN}{TP + TN + FP + FN}\n",
    "  $$\n",
    "\n",
    "\n",
    "Where:\n",
    "   - \\(TP\\) = True Positives\n",
    "   - \\(TN\\) = True Negatives\n",
    "   - \\(FP\\) = False Positives\n",
    "   - \\(FN\\) = False Negatives"
   ]
  },
  {
   "cell_type": "markdown",
   "metadata": {
    "id": "-hKwERttjqBe"
   },
   "source": [
    "#### __Precision__\n",
    "\n",
    "The ratio of correctly predicted positive instances to the total predicted positive instances.\n",
    "- It indicates the quality of positive predictions.\n",
    "- It is a performance metric used for pattern recognition and classification in machine learning.\n",
    "- It is a good metric when the cost of a false positive is high.\n",
    "\n",
    "   $$\n",
    "   \\text{Precision} = \\frac{TP}{TP + FP}\n",
    "   $$"
   ]
  },
  {
   "cell_type": "markdown",
   "metadata": {
    "id": "AP0-8OIRjqPT"
   },
   "source": [
    "#### __Recall (Sensitivity or True Positive Rate)__\n",
    "\n",
    "The ratio of correctly predicted positive instances to all actual positive instances.\n",
    "\n",
    "- It measures the model's ability to detect positive samples. The higher the recall, the more positive samples it detects.\n",
    "- It is a very useful metric when the cost of a false negative is high.\n",
    "- Out of all actual positive values, how many the model classified as positive. Here, FN are actual positive valus which have been incorrectly classifed as negative by the model.\n",
    "- This is from Class 1's perspective.\n",
    "\n",
    "$$ \\text{Recall} = \\frac{\\text{Model Predicted postives}}{\\text{All Actual Positives}} $$\n",
    "\n",
    "Formulae:\n",
    "\n",
    "   $$\n",
    "   \\text{Recall} = \\frac{TP}{TP + FN}\n",
    "   $$"
   ]
  },
  {
   "cell_type": "markdown",
   "metadata": {
    "id": "SdN7-DtVkzhH"
   },
   "source": [
    "#### __Specificity (True Negative Rate)__\n",
    "\n",
    "The ratio of correctly predicted negative instances to all actual negative instances.\n",
    "- It indicates how well the model can identify negative instances.\n",
    "- Out of all negative values, how much the model classified as negative. Here, FP are actual negative values which have been incorrectly classified as positive by the model.\n",
    "- This is from Class 0's perspective.\n",
    "\n",
    "$$ \\text{Specificity} = \\frac{\\text{Model Predicted negatives}}{\\text{All Actual Negatives}} $$\n",
    "\n",
    "Formulae:\n",
    "\n",
    "   $$\n",
    "   \\text{Specificity} = \\frac{TN}{TN + FP}\n",
    "   $$"
   ]
  },
  {
   "cell_type": "markdown",
   "metadata": {
    "id": "Mk20rH7bxGr7"
   },
   "source": [
    "#### __F1 Score__\n",
    "\n",
    "The harmonic mean of precision and recall. It provides a single metric that balances the trade-off between precision and recall.\n",
    "\n",
    "$$\n",
    "\\text{F1 Score} = 2 \\times \\frac{\\text{Precision} \\times \\text{Recall}}{\\text{Precision} + \\text{Recall}}\n",
    "$$"
   ]
  },
  {
   "cell_type": "code",
   "execution_count": null,
   "metadata": {},
   "outputs": [],
   "source": []
  },
  {
   "cell_type": "code",
   "execution_count": null,
   "metadata": {},
   "outputs": [],
   "source": []
  },
  {
   "cell_type": "code",
   "execution_count": null,
   "metadata": {},
   "outputs": [],
   "source": []
  },
  {
   "cell_type": "code",
   "execution_count": null,
   "metadata": {},
   "outputs": [],
   "source": []
  },
  {
   "cell_type": "code",
   "execution_count": null,
   "metadata": {},
   "outputs": [],
   "source": []
  },
  {
   "cell_type": "markdown",
   "metadata": {
    "id": "C6dVYKiL_ecs"
   },
   "source": [
    "#### __ROC (Receiver Operating Characteristics) Curve__\n",
    "\n",
    "An ROC curve is a graphical representation of a classification model’s performance across different classification thresholds. It plots the True Positive Rate (Recall) against the False Positive Rate (FPR) at various threshold settings.\n",
    "\n",
    "True Positive Rate (TPR) or Recall:\n",
    "$$ \\text{TPR} = \\frac{TP}{TP + FN} $$\n",
    "\n",
    "False Positive Rate (FPR):\n",
    "$$\\text{FPR} = \\frac{\\text{FP}}{\\text{FP} + \\text{TN}}$$\n",
    "\n",
    "- TPR will lead to benefits.\n",
    "- FPR will lead to costs.\n",
    "\n",
    "\n",
    "#### __AUC-ROC curve__\n",
    "\n",
    "The AUC-ROC curve is an essential tool used for evaluating the performance of binary classification models. It plots the True Positive Rate (TPR) against the False Positive Rate (FPR) at different thresholds showing how well a model can distinguish between two classes such as positive and negative outcomes.\n",
    "\n",
    "It provides a graphical representation of the model’s ability to distinguish between two classes like positive class for presence of a disease and negative class for absence of a disease.\n",
    "\n",
    "https://developers.google.com/machine-learning/crash-course/classification/roc-and-auc\n",
    "\n",
    "------\n",
    "\n",
    "**Finding the Optimal Threshold:**\n",
    "\n",
    "The default threshold for many classification algorithms is 0.5, meaning if the predicted probability is greater than 0.5, the instance is classified as positive. However, this threshold may not always be optimal, especially in cases with skewed class distributions or when the costs of false positives and false negatives are unequal.\n",
    "\n",
    "$$ \\text{J} = \\text{Sensitivity} + \\text{Specificity} - 1 $$\n",
    "\n",
    "- __J = 1__: Best Case.\n",
    "- __J = 0__: Random guess\n",
    "- __J < 0__: Worst Case \n",
    "\n",
    "**Methods to Find the Optimal Threshold:**\n",
    "\n",
    "1. *Maximizing Youden’s J Statistic*:\n",
    "\n",
    "  Youden's J statistic is defined as\n",
    "  $J=TPR−FPR$. The optimal threshold is where this statistic is maximized. This method balances the TPR and FPR, aiming to maximize the true positives while minimizing the false positives.\n",
    "\n",
    "2. *Closest Point to (0, 1)*:\n",
    "\n",
    "  Another method is to find the point on the ROC curve that is closest to the top-left corner (0, 1), representing the ideal classifier with TPR = 1 and FPR = 0."
   ]
  },
  {
   "cell_type": "markdown",
   "metadata": {
    "id": "7b-MDMU6CfYH"
   },
   "source": [
    "#### __AUC (Area Under the ROC Curve)__\n",
    "\n",
    "The AUC is a single scalar value that summarizes the overall performance of a classifier.\n",
    "\n",
    "AUC Value:\n",
    "- An AUC of 0.5 suggests no discrimination, meaning the model performs no better than random chance.\n",
    "- An AUC of 1.0 indicates perfect discrimination, meaning the model perfectly distinguishes between positive and negative classes."
   ]
  },
  {
   "cell_type": "markdown",
   "metadata": {
    "id": "oG_PdhxND1iQ"
   },
   "source": [
    "#### __Lets derive the confusion matrix and ROC-AUC for the Logistic regression and understand more about the performance of the model:__"
   ]
  },
  {
   "cell_type": "code",
   "execution_count": 552,
   "metadata": {
    "colab": {
     "base_uri": "https://localhost:8080/",
     "height": 510
    },
    "executionInfo": {
     "elapsed": 27,
     "status": "ok",
     "timestamp": 1718714537841,
     "user": {
      "displayName": "Vikas Singh",
      "userId": "04375885343580620832"
     },
     "user_tz": -330
    },
    "id": "T65_a7dFEf7I",
    "outputId": "631355ac-c4d2-4d86-a01a-7eff7aa37308"
   },
   "outputs": [],
   "source": [
    "# Print confusion matrix\n",
    "from sklearn.metrics import classification_report, confusion_matrix, roc_curve, auc\n",
    "from sklearn.metrics import ConfusionMatrixDisplay"
   ]
  },
  {
   "cell_type": "code",
   "execution_count": 554,
   "metadata": {},
   "outputs": [
    {
     "name": "stdout",
     "output_type": "stream",
     "text": [
      "Confusion Matrix:\n",
      "[[70  1]\n",
      " [ 2 41]]\n"
     ]
    }
   ],
   "source": [
    "conf_matrix = confusion_matrix(y_test, y_pred_test_log_reg)\n",
    "print(\"Confusion Matrix:\")\n",
    "print(conf_matrix)"
   ]
  },
  {
   "cell_type": "code",
   "execution_count": 556,
   "metadata": {},
   "outputs": [
    {
     "data": {
      "image/png": "[encoded data removed]",
      "text/plain": [
       "<Figure size 640x480 with 2 Axes>"
      ]
     },
     "metadata": {},
     "output_type": "display_data"
    }
   ],
   "source": [
    "# Heatmap visualization for confusion matrix\n",
    "cm_display = ConfusionMatrixDisplay(confusion_matrix = conf_matrix, display_labels = [\"benign\", \"malignant\"])\n",
    "\n",
    "# display matrix\n",
    "cm_display.plot()\n",
    "plt.show()"
   ]
  },
  {
   "cell_type": "markdown",
   "metadata": {
    "id": "G0sd1LgBaV-l"
   },
   "source": [
    "- __True Positives (TP):__ The model correctly predicted 41 instances as \"malignant\" when they were indeed malignant. This indicates that there were 41 true positive predictions.\n",
    "\n",
    "- __True Negatives (TN):__ The model correctly predicted 70 instances as \"benign\" when they were indeed benign. This shows 70 true negative predictions.\n",
    "\n",
    "- __False Positives (FP):__ The model incorrectly predicted 1 instance as \"malignant\" when it was actually benign. This is a false positive, also known as a Type I error.\n",
    "\n",
    "- __False Negatives (FN):__ The model incorrectly predicted 2 instances as \"benign\" when they were actually malignant. This is a false negative, also known as a Type II error."
   ]
  },
  {
   "cell_type": "markdown",
   "metadata": {
    "id": "QNke5vZzZysE"
   },
   "source": [
    "#### __The classification report provides detailed metrics such as `precision`, `recall`, `F1-score`, and `support` for each class.__"
   ]
  },
  {
   "cell_type": "code",
   "execution_count": 560,
   "metadata": {
    "colab": {
     "base_uri": "https://localhost:8080/"
    },
    "executionInfo": {
     "elapsed": 22,
     "status": "ok",
     "timestamp": 1718714537841,
     "user": {
      "displayName": "Vikas Singh",
      "userId": "04375885343580620832"
     },
     "user_tz": -330
    },
    "id": "-p0MP0wtYoqo",
    "outputId": "4903d148-831d-47c2-a383-5712e390cd2a"
   },
   "outputs": [
    {
     "name": "stdout",
     "output_type": "stream",
     "text": [
      "\t\tLogistic Regression Classification Report:\n",
      "\t\t-----------------------------------------\n",
      "              precision    recall  f1-score   support\n",
      "\n",
      "           0       0.97      0.99      0.98        71\n",
      "           1       0.98      0.95      0.96        43\n",
      "\n",
      "    accuracy                           0.97       114\n",
      "   macro avg       0.97      0.97      0.97       114\n",
      "weighted avg       0.97      0.97      0.97       114\n",
      "\n"
     ]
    }
   ],
   "source": [
    "# Print classification report\n",
    "\n",
    "print(\"\\t\\tLogistic Regression Classification Report:\")\n",
    "print(\"\\t\\t-----------------------------------------\")\n",
    "print(classification_report(y_test, y_pred_test_log_reg))"
   ]
  },
  {
   "cell_type": "markdown",
   "metadata": {},
   "source": [
    "#### __Logistic Regression Classification Report:__"
   ]
  },
  {
   "cell_type": "markdown",
   "metadata": {
    "id": "iGFg2l-tiBP1"
   },
   "source": [
    "1. __Class 0 (Negative Class)__\n",
    "\n",
    "    - __Precision: 0.97__: 97% of the instances predicted as class 0 are actually class 0.\n",
    "    - __Recall: 0.99__: 99% of the actual class 0 instances are correctly predicted as class 0.\n",
    "    - __F1-Score: 0.98__: The F1-score is the harmonic mean of precision and recall, providing a balance between the two metrics. Here, the F1-score is 0.98, indicating excellent performance.\n",
    "    - __Support: 71__: There are 71 actual instances of class 0 in the test set.\n",
    "\n",
    "2. __Class 1 (Positive Class)__\n",
    "\n",
    "    - __Precision: 0.98__: 98% of the instances predicted as class 1 are actually class 1.\n",
    "    - __Recall: 0.95__: 95% of the actual class 1 instances are correctly predicted as class 1.\n",
    "    - __F1-Score: 0.96__: The F1-score for class 1 is 0.96, indicating very good performance.\n",
    "    - __Support: 43__: There are 43 actual instances of class 1 in the test set.\n",
    "\n",
    "3. __Overall Metrics__\n",
    "\n",
    "    - __Accuracy: 0.97__: The overall accuracy of the model, indicating that 97% of the total instances are correctly classified.\n",
    "    - __Macro Average__: Macro average calculates the metric independently for each class and then takes the average, treating all classes equally. It is useful when you have imbalanced classes.\n",
    "    - __Weighted Average__: Weighted average takes into account the support (the number of true instances for each class) to calculate the average. It is more representative of the performance on imbalanced datasets."
   ]
  },
  {
   "cell_type": "markdown",
   "metadata": {
    "id": "yo7x-cmEd0CL"
   },
   "source": [
    "#### __Plot the ROC curve__\n",
    "\n",
    "- The ROC curve shows the trade-off between true positive rate and false positive rate at various threshold settings. The AUC value indicates the model's ability to discriminate between positive and negative classes.\n",
    "\n",
    "**Parameters used in plotting the ROC curve:**\n",
    "\n",
    "`plt.figure(figsize=(8, 6))`: Creates a new figure of size 8x6 inches.\n",
    "\n",
    "`plt.plot(fpr, tpr, ...)`: Plots the ROC curve with FPR on the x-axis and TPR on the y-axis. The curve is blue with a line width of 2.\n",
    "\n",
    "`plt.plot([0, 1], [0, 1], ...)`: Plots a grey dashed diagonal line as a reference, representing a random classifier with no discrimination capability (AUC = 0.5).\n",
    "\n",
    "`plt.xlim([0.0, 1.0])` and `plt.ylim([0.0, 1.05])`: Sets the limits for the x and y axes.\n",
    "\n",
    "`plt.xlabel('False Positive Rate')` and `plt.ylabel('True Positive Rate')`: Labels the axes.\n",
    "\n",
    "`plt.title('Receiver Operating Characteristic (ROC) Curve')`: Sets the plot title.\n",
    "\n",
    "`plt.legend(loc='lower right')`: Adds a legend to the plot at the lower right corner, displaying the AUC value.\n",
    "\n",
    "`plt.show()`: Displays the plot."
   ]
  },
  {
   "cell_type": "code",
   "execution_count": 565,
   "metadata": {},
   "outputs": [],
   "source": [
    "# Compute the false positive rate (fpr), true positive rate (tpr), and thresholds for different thresholds\n",
    "fpr, tpr, thresholds = roc_curve(y_test, y_pred_test_prob_log_reg)"
   ]
  },
  {
   "cell_type": "code",
   "execution_count": 567,
   "metadata": {},
   "outputs": [
    {
     "data": {
      "text/plain": [
       "0.99737962659679"
      ]
     },
     "execution_count": 567,
     "metadata": {},
     "output_type": "execute_result"
    }
   ],
   "source": [
    "# Compute the Area Under the Curve (AUC) for the ROC curve\n",
    "roc_auc = auc(fpr, tpr)\n",
    "roc_auc"
   ]
  },
  {
   "cell_type": "code",
   "execution_count": 569,
   "metadata": {},
   "outputs": [
    {
     "name": "stdout",
     "output_type": "stream",
     "text": [
      "Optimal Threshold: 0.4848\n"
     ]
    }
   ],
   "source": [
    "# Compute Youden's J statistic for each threshold\n",
    "youden_j = tpr - fpr\n",
    "optimal_threshold_index = np.argmax(youden_j)\n",
    "optimal_threshold = thresholds[optimal_threshold_index]\n",
    "\n",
    "print(f\"Optimal Threshold: {optimal_threshold:.4f}\")"
   ]
  },
  {
   "cell_type": "code",
   "execution_count": 571,
   "metadata": {},
   "outputs": [
    {
     "data": {
      "text/plain": [
       "array([0.        , 0.02325581, 0.95348837, 0.93940387, 0.96265968,\n",
       "       0.87815264, 0.90140845, 0.        ])"
      ]
     },
     "execution_count": 571,
     "metadata": {},
     "output_type": "execute_result"
    }
   ],
   "source": [
    "youden_j"
   ]
  },
  {
   "cell_type": "code",
   "execution_count": 573,
   "metadata": {},
   "outputs": [
    {
     "data": {
      "text/plain": [
       "4"
      ]
     },
     "execution_count": 573,
     "metadata": {},
     "output_type": "execute_result"
    }
   ],
   "source": [
    "optimal_threshold_index"
   ]
  },
  {
   "cell_type": "code",
   "execution_count": 575,
   "metadata": {},
   "outputs": [
    {
     "data": {
      "image/png": "[encoded data removed]",
      "text/plain": [
       "<Figure size 800x600 with 1 Axes>"
      ]
     },
     "metadata": {},
     "output_type": "display_data"
    }
   ],
   "source": [
    "# Plot the ROC curve with the optimal threshold marked\n",
    "\n",
    "plt.figure(figsize=(8, 6))\n",
    "plt.plot(fpr, tpr, color='blue', lw=2, label=f'ROC curve (area = {roc_auc:.2f})')\n",
    "plt.scatter(fpr[optimal_threshold_index], tpr[optimal_threshold_index], color='red', marker='o', label=f'Optimal Threshold = {optimal_threshold:.4f}')\n",
    "plt.plot([0, 1], [0, 1], color='grey', lw=2, linestyle='--')\n",
    "plt.xlim([0.0, 1.0])\n",
    "plt.ylim([0.0, 1.05])\n",
    "plt.xlabel('False Positive Rate')\n",
    "plt.ylabel('True Positive Rate')\n",
    "plt.title('Receiver Operating Characteristic (ROC) Curve')\n",
    "plt.legend(loc='lower right')\n",
    "plt.show()"
   ]
  },
  {
   "cell_type": "markdown",
   "metadata": {
    "id": "4kQKY0Chm7a9"
   },
   "source": [
    "##### __Observation:__\n",
    "\n",
    "- The ROC curve in the image reaches the top-left corner (TPR = 1, FPR = 0), which indicates a perfect classification performance. The model perfectly distinguishes between the positive and negative classes at various threshold settings.\n",
    "\n",
    "- The ROC curve for the logistic regression model has AUC of 1.00. This indicates that the model has perfect discriminatory power. An AUC of 1 means the model correctly classifies all positive and negative instances without error.\n",
    "\n",
    "- The Optimal threshold of 0.4867 defines the decision boundary for the classifier. Probabilities above this value indicate a stronger belief that an instance belongs to the positive class, whereas probabilities below this value indicate a stronger belief that an instance belongs to the negative class."
   ]
  },
  {
   "cell_type": "markdown",
   "metadata": {
    "id": "j40wMUaPFcRe"
   },
   "source": [
    "## __Naive Bayes Classifier__"
   ]
  },
  {
   "cell_type": "markdown",
   "metadata": {
    "id": "qLQfGuLvFcRm"
   },
   "source": [
    "- Naive Bayes is a probabilistic classifier based on Bayes' Theorem. Naive Bayes is called naive because it assumes that the input variables are independent of each other. This is a strong assumption and unrealistic for real data.\n",
    "\n",
    "- It is particularly suited for large datasets and is widely used for binary and multi-class classification tasks.\n",
    "\n",
    "- It is widely used for text classification, sentiment analysis, etc."
   ]
  },
  {
   "cell_type": "markdown",
   "metadata": {
    "id": "H7BoicyzFcRn"
   },
   "source": [
    "### **Mathematical Concept of Naive Bayes:**"
   ]
  },
  {
   "cell_type": "markdown",
   "metadata": {
    "id": "ei8r-zQnFcRn"
   },
   "source": [
    "**Bayes' Theorem:**\n",
    "Naive Bayes relies on Bayes' Theorem, which states\n",
    "\n",
    "$$ P(A|B) = \\frac{P(B|A) \\times P(A)}{P(B)} $$\n",
    "\n",
    "P(A), P(B) are the independent probabilities of A and B\n",
    "\n",
    "P(B|A) is the probability of B given A\n",
    "\n",
    "P(A|B) is the probability of A given B\n",
    "\n",
    "**Bayes' theorem:** It calculates the probability of an event occurring, given that another event has already taken place."
   ]
  },
  {
   "cell_type": "markdown",
   "metadata": {
    "id": "GbAvC_L-FcRo"
   },
   "source": [
    "### __Applying Naive Bayes Algorithm on Breast Cancer Dataset__"
   ]
  },
  {
   "cell_type": "markdown",
   "metadata": {
    "id": "C7RmF1gp1p2k"
   },
   "source": [
    "`x_train`, `y_train`, `x_test` and `y_test` are taken from the previous data split done on Breast cancer dataset"
   ]
  },
  {
   "cell_type": "markdown",
   "metadata": {
    "id": "0K5fUqi24lYX"
   },
   "source": [
    "Use `sklearn.pipeline` to perform preprocessing and training on the data"
   ]
  },
  {
   "cell_type": "code",
   "execution_count": 585,
   "metadata": {
    "colab": {
     "base_uri": "https://localhost:8080/",
     "height": 127
    },
    "executionInfo": {
     "elapsed": 21,
     "status": "ok",
     "timestamp": 1718714539021,
     "user": {
      "displayName": "Vikas Singh",
      "userId": "04375885343580620832"
     },
     "user_tz": -330
    },
    "id": "JENJiLrS28k_",
    "outputId": "a6f70775-e389-4a64-e522-0379aae1e7c0"
   },
   "outputs": [],
   "source": [
    "# Import Required Libraries and apply Naive Bayes algorithm\n",
    "from sklearn.naive_bayes import GaussianNB"
   ]
  },
  {
   "cell_type": "code",
   "execution_count": 587,
   "metadata": {},
   "outputs": [
    {
     "data": {
      "text/html": [
       "<style>#sk-container-id-11 {\n",
       "  /* Definition of color scheme common for light and dark mode */\n",
       "  --sklearn-color-text: black;\n",
       "  --sklearn-color-line: gray;\n",
       "  /* Definition of color scheme for unfitted estimators */\n",
       "  --sklearn-color-unfitted-level-0: #fff5e6;\n",
       "  --sklearn-color-unfitted-level-1: #f6e4d2;\n",
       "  --sklearn-color-unfitted-level-2: #ffe0b3;\n",
       "  --sklearn-color-unfitted-level-3: chocolate;\n",
       "  /* Definition of color scheme for fitted estimators */\n",
       "  --sklearn-color-fitted-level-0: #f0f8ff;\n",
       "  --sklearn-color-fitted-level-1: #d4ebff;\n",
       "  --sklearn-color-fitted-level-2: #b3dbfd;\n",
       "  --sklearn-color-fitted-level-3: cornflowerblue;\n",
       "\n",
       "  /* Specific color for light theme */\n",
       "  --sklearn-color-text-on-default-background: var(--sg-text-color, var(--theme-code-foreground, var(--jp-content-font-color1, black)));\n",
       "  --sklearn-color-background: var(--sg-background-color, var(--theme-background, var(--jp-layout-color0, white)));\n",
       "  --sklearn-color-border-box: var(--sg-text-color, var(--theme-code-foreground, var(--jp-content-font-color1, black)));\n",
       "  --sklearn-color-icon: #696969;\n",
       "\n",
       "  @media (prefers-color-scheme: dark) {\n",
       "    /* Redefinition of color scheme for dark theme */\n",
       "    --sklearn-color-text-on-default-background: var(--sg-text-color, var(--theme-code-foreground, var(--jp-content-font-color1, white)));\n",
       "    --sklearn-color-background: var(--sg-background-color, var(--theme-background, var(--jp-layout-color0, #111)));\n",
       "    --sklearn-color-border-box: var(--sg-text-color, var(--theme-code-foreground, var(--jp-content-font-color1, white)));\n",
       "    --sklearn-color-icon: #878787;\n",
       "  }\n",
       "}\n",
       "\n",
       "#sk-container-id-11 {\n",
       "  color: var(--sklearn-color-text);\n",
       "}\n",
       "\n",
       "#sk-container-id-11 pre {\n",
       "  padding: 0;\n",
       "}\n",
       "\n",
       "#sk-container-id-11 input.sk-hidden--visually {\n",
       "  border: 0;\n",
       "  clip: rect(1px 1px 1px 1px);\n",
       "  clip: rect(1px, 1px, 1px, 1px);\n",
       "  height: 1px;\n",
       "  margin: -1px;\n",
       "  overflow: hidden;\n",
       "  padding: 0;\n",
       "  position: absolute;\n",
       "  width: 1px;\n",
       "}\n",
       "\n",
       "#sk-container-id-11 div.sk-dashed-wrapped {\n",
       "  border: 1px dashed var(--sklearn-color-line);\n",
       "  margin: 0 0.4em 0.5em 0.4em;\n",
       "  box-sizing: border-box;\n",
       "  padding-bottom: 0.4em;\n",
       "  background-color: var(--sklearn-color-background);\n",
       "}\n",
       "\n",
       "#sk-container-id-11 div.sk-container {\n",
       "  /* jupyter's `normalize.less` sets `[hidden] { display: none; }`\n",
       "     but bootstrap.min.css set `[hidden] { display: none !important; }`\n",
       "     so we also need the `!important` here to be able to override the\n",
       "     default hidden behavior on the sphinx rendered scikit-learn.org.\n",
       "     See: https://github.com/scikit-learn/scikit-learn/issues/21755 */\n",
       "  display: inline-block !important;\n",
       "  position: relative;\n",
       "}\n",
       "\n",
       "#sk-container-id-11 div.sk-text-repr-fallback {\n",
       "  display: none;\n",
       "}\n",
       "\n",
       "div.sk-parallel-item,\n",
       "div.sk-serial,\n",
       "div.sk-item {\n",
       "  /* draw centered vertical line to link estimators */\n",
       "  background-image: linear-gradient(var(--sklearn-color-text-on-default-background), var(--sklearn-color-text-on-default-background));\n",
       "  background-size: 2px 100%;\n",
       "  background-repeat: no-repeat;\n",
       "  background-position: center center;\n",
       "}\n",
       "\n",
       "/* Parallel-specific style estimator block */\n",
       "\n",
       "#sk-container-id-11 div.sk-parallel-item::after {\n",
       "  content: \"\";\n",
       "  width: 100%;\n",
       "  border-bottom: 2px solid var(--sklearn-color-text-on-default-background);\n",
       "  flex-grow: 1;\n",
       "}\n",
       "\n",
       "#sk-container-id-11 div.sk-parallel {\n",
       "  display: flex;\n",
       "  align-items: stretch;\n",
       "  justify-content: center;\n",
       "  background-color: var(--sklearn-color-background);\n",
       "  position: relative;\n",
       "}\n",
       "\n",
       "#sk-container-id-11 div.sk-parallel-item {\n",
       "  display: flex;\n",
       "  flex-direction: column;\n",
       "}\n",
       "\n",
       "#sk-container-id-11 div.sk-parallel-item:first-child::after {\n",
       "  align-self: flex-end;\n",
       "  width: 50%;\n",
       "}\n",
       "\n",
       "#sk-container-id-11 div.sk-parallel-item:last-child::after {\n",
       "  align-self: flex-start;\n",
       "  width: 50%;\n",
       "}\n",
       "\n",
       "#sk-container-id-11 div.sk-parallel-item:only-child::after {\n",
       "  width: 0;\n",
       "}\n",
       "\n",
       "/* Serial-specific style estimator block */\n",
       "\n",
       "#sk-container-id-11 div.sk-serial {\n",
       "  display: flex;\n",
       "  flex-direction: column;\n",
       "  align-items: center;\n",
       "  background-color: var(--sklearn-color-background);\n",
       "  padding-right: 1em;\n",
       "  padding-left: 1em;\n",
       "}\n",
       "\n",
       "\n",
       "/* Toggleable style: style used for estimator/Pipeline/ColumnTransformer box that is\n",
       "clickable and can be expanded/collapsed.\n",
       "- Pipeline and ColumnTransformer use this feature and define the default style\n",
       "- Estimators will overwrite some part of the style using the `sk-estimator` class\n",
       "*/\n",
       "\n",
       "/* Pipeline and ColumnTransformer style (default) */\n",
       "\n",
       "#sk-container-id-11 div.sk-toggleable {\n",
       "  /* Default theme specific background. It is overwritten whether we have a\n",
       "  specific estimator or a Pipeline/ColumnTransformer */\n",
       "  background-color: var(--sklearn-color-background);\n",
       "}\n",
       "\n",
       "/* Toggleable label */\n",
       "#sk-container-id-11 label.sk-toggleable__label {\n",
       "  cursor: pointer;\n",
       "  display: block;\n",
       "  width: 100%;\n",
       "  margin-bottom: 0;\n",
       "  padding: 0.5em;\n",
       "  box-sizing: border-box;\n",
       "  text-align: center;\n",
       "}\n",
       "\n",
       "#sk-container-id-11 label.sk-toggleable__label-arrow:before {\n",
       "  /* Arrow on the left of the label */\n",
       "  content: \"▸\";\n",
       "  float: left;\n",
       "  margin-right: 0.25em;\n",
       "  color: var(--sklearn-color-icon);\n",
       "}\n",
       "\n",
       "#sk-container-id-11 label.sk-toggleable__label-arrow:hover:before {\n",
       "  color: var(--sklearn-color-text);\n",
       "}\n",
       "\n",
       "/* Toggleable content - dropdown */\n",
       "\n",
       "#sk-container-id-11 div.sk-toggleable__content {\n",
       "  max-height: 0;\n",
       "  max-width: 0;\n",
       "  overflow: hidden;\n",
       "  text-align: left;\n",
       "  /* unfitted */\n",
       "  background-color: var(--sklearn-color-unfitted-level-0);\n",
       "}\n",
       "\n",
       "#sk-container-id-11 div.sk-toggleable__content.fitted {\n",
       "  /* fitted */\n",
       "  background-color: var(--sklearn-color-fitted-level-0);\n",
       "}\n",
       "\n",
       "#sk-container-id-11 div.sk-toggleable__content pre {\n",
       "  margin: 0.2em;\n",
       "  border-radius: 0.25em;\n",
       "  color: var(--sklearn-color-text);\n",
       "  /* unfitted */\n",
       "  background-color: var(--sklearn-color-unfitted-level-0);\n",
       "}\n",
       "\n",
       "#sk-container-id-11 div.sk-toggleable__content.fitted pre {\n",
       "  /* unfitted */\n",
       "  background-color: var(--sklearn-color-fitted-level-0);\n",
       "}\n",
       "\n",
       "#sk-container-id-11 input.sk-toggleable__control:checked~div.sk-toggleable__content {\n",
       "  /* Expand drop-down */\n",
       "  max-height: 200px;\n",
       "  max-width: 100%;\n",
       "  overflow: auto;\n",
       "}\n",
       "\n",
       "#sk-container-id-11 input.sk-toggleable__control:checked~label.sk-toggleable__label-arrow:before {\n",
       "  content: \"▾\";\n",
       "}\n",
       "\n",
       "/* Pipeline/ColumnTransformer-specific style */\n",
       "\n",
       "#sk-container-id-11 div.sk-label input.sk-toggleable__control:checked~label.sk-toggleable__label {\n",
       "  color: var(--sklearn-color-text);\n",
       "  background-color: var(--sklearn-color-unfitted-level-2);\n",
       "}\n",
       "\n",
       "#sk-container-id-11 div.sk-label.fitted input.sk-toggleable__control:checked~label.sk-toggleable__label {\n",
       "  background-color: var(--sklearn-color-fitted-level-2);\n",
       "}\n",
       "\n",
       "/* Estimator-specific style */\n",
       "\n",
       "/* Colorize estimator box */\n",
       "#sk-container-id-11 div.sk-estimator input.sk-toggleable__control:checked~label.sk-toggleable__label {\n",
       "  /* unfitted */\n",
       "  background-color: var(--sklearn-color-unfitted-level-2);\n",
       "}\n",
       "\n",
       "#sk-container-id-11 div.sk-estimator.fitted input.sk-toggleable__control:checked~label.sk-toggleable__label {\n",
       "  /* fitted */\n",
       "  background-color: var(--sklearn-color-fitted-level-2);\n",
       "}\n",
       "\n",
       "#sk-container-id-11 div.sk-label label.sk-toggleable__label,\n",
       "#sk-container-id-11 div.sk-label label {\n",
       "  /* The background is the default theme color */\n",
       "  color: var(--sklearn-color-text-on-default-background);\n",
       "}\n",
       "\n",
       "/* On hover, darken the color of the background */\n",
       "#sk-container-id-11 div.sk-label:hover label.sk-toggleable__label {\n",
       "  color: var(--sklearn-color-text);\n",
       "  background-color: var(--sklearn-color-unfitted-level-2);\n",
       "}\n",
       "\n",
       "/* Label box, darken color on hover, fitted */\n",
       "#sk-container-id-11 div.sk-label.fitted:hover label.sk-toggleable__label.fitted {\n",
       "  color: var(--sklearn-color-text);\n",
       "  background-color: var(--sklearn-color-fitted-level-2);\n",
       "}\n",
       "\n",
       "/* Estimator label */\n",
       "\n",
       "#sk-container-id-11 div.sk-label label {\n",
       "  font-family: monospace;\n",
       "  font-weight: bold;\n",
       "  display: inline-block;\n",
       "  line-height: 1.2em;\n",
       "}\n",
       "\n",
       "#sk-container-id-11 div.sk-label-container {\n",
       "  text-align: center;\n",
       "}\n",
       "\n",
       "/* Estimator-specific */\n",
       "#sk-container-id-11 div.sk-estimator {\n",
       "  font-family: monospace;\n",
       "  border: 1px dotted var(--sklearn-color-border-box);\n",
       "  border-radius: 0.25em;\n",
       "  box-sizing: border-box;\n",
       "  margin-bottom: 0.5em;\n",
       "  /* unfitted */\n",
       "  background-color: var(--sklearn-color-unfitted-level-0);\n",
       "}\n",
       "\n",
       "#sk-container-id-11 div.sk-estimator.fitted {\n",
       "  /* fitted */\n",
       "  background-color: var(--sklearn-color-fitted-level-0);\n",
       "}\n",
       "\n",
       "/* on hover */\n",
       "#sk-container-id-11 div.sk-estimator:hover {\n",
       "  /* unfitted */\n",
       "  background-color: var(--sklearn-color-unfitted-level-2);\n",
       "}\n",
       "\n",
       "#sk-container-id-11 div.sk-estimator.fitted:hover {\n",
       "  /* fitted */\n",
       "  background-color: var(--sklearn-color-fitted-level-2);\n",
       "}\n",
       "\n",
       "/* Specification for estimator info (e.g. \"i\" and \"?\") */\n",
       "\n",
       "/* Common style for \"i\" and \"?\" */\n",
       "\n",
       ".sk-estimator-doc-link,\n",
       "a:link.sk-estimator-doc-link,\n",
       "a:visited.sk-estimator-doc-link {\n",
       "  float: right;\n",
       "  font-size: smaller;\n",
       "  line-height: 1em;\n",
       "  font-family: monospace;\n",
       "  background-color: var(--sklearn-color-background);\n",
       "  border-radius: 1em;\n",
       "  height: 1em;\n",
       "  width: 1em;\n",
       "  text-decoration: none !important;\n",
       "  margin-left: 1ex;\n",
       "  /* unfitted */\n",
       "  border: var(--sklearn-color-unfitted-level-1) 1pt solid;\n",
       "  color: var(--sklearn-color-unfitted-level-1);\n",
       "}\n",
       "\n",
       ".sk-estimator-doc-link.fitted,\n",
       "a:link.sk-estimator-doc-link.fitted,\n",
       "a:visited.sk-estimator-doc-link.fitted {\n",
       "  /* fitted */\n",
       "  border: var(--sklearn-color-fitted-level-1) 1pt solid;\n",
       "  color: var(--sklearn-color-fitted-level-1);\n",
       "}\n",
       "\n",
       "/* On hover */\n",
       "div.sk-estimator:hover .sk-estimator-doc-link:hover,\n",
       ".sk-estimator-doc-link:hover,\n",
       "div.sk-label-container:hover .sk-estimator-doc-link:hover,\n",
       ".sk-estimator-doc-link:hover {\n",
       "  /* unfitted */\n",
       "  background-color: var(--sklearn-color-unfitted-level-3);\n",
       "  color: var(--sklearn-color-background);\n",
       "  text-decoration: none;\n",
       "}\n",
       "\n",
       "div.sk-estimator.fitted:hover .sk-estimator-doc-link.fitted:hover,\n",
       ".sk-estimator-doc-link.fitted:hover,\n",
       "div.sk-label-container:hover .sk-estimator-doc-link.fitted:hover,\n",
       ".sk-estimator-doc-link.fitted:hover {\n",
       "  /* fitted */\n",
       "  background-color: var(--sklearn-color-fitted-level-3);\n",
       "  color: var(--sklearn-color-background);\n",
       "  text-decoration: none;\n",
       "}\n",
       "\n",
       "/* Span, style for the box shown on hovering the info icon */\n",
       ".sk-estimator-doc-link span {\n",
       "  display: none;\n",
       "  z-index: 9999;\n",
       "  position: relative;\n",
       "  font-weight: normal;\n",
       "  right: .2ex;\n",
       "  padding: .5ex;\n",
       "  margin: .5ex;\n",
       "  width: min-content;\n",
       "  min-width: 20ex;\n",
       "  max-width: 50ex;\n",
       "  color: var(--sklearn-color-text);\n",
       "  box-shadow: 2pt 2pt 4pt #999;\n",
       "  /* unfitted */\n",
       "  background: var(--sklearn-color-unfitted-level-0);\n",
       "  border: .5pt solid var(--sklearn-color-unfitted-level-3);\n",
       "}\n",
       "\n",
       ".sk-estimator-doc-link.fitted span {\n",
       "  /* fitted */\n",
       "  background: var(--sklearn-color-fitted-level-0);\n",
       "  border: var(--sklearn-color-fitted-level-3);\n",
       "}\n",
       "\n",
       ".sk-estimator-doc-link:hover span {\n",
       "  display: block;\n",
       "}\n",
       "\n",
       "/* \"?\"-specific style due to the `<a>` HTML tag */\n",
       "\n",
       "#sk-container-id-11 a.estimator_doc_link {\n",
       "  float: right;\n",
       "  font-size: 1rem;\n",
       "  line-height: 1em;\n",
       "  font-family: monospace;\n",
       "  background-color: var(--sklearn-color-background);\n",
       "  border-radius: 1rem;\n",
       "  height: 1rem;\n",
       "  width: 1rem;\n",
       "  text-decoration: none;\n",
       "  /* unfitted */\n",
       "  color: var(--sklearn-color-unfitted-level-1);\n",
       "  border: var(--sklearn-color-unfitted-level-1) 1pt solid;\n",
       "}\n",
       "\n",
       "#sk-container-id-11 a.estimator_doc_link.fitted {\n",
       "  /* fitted */\n",
       "  border: var(--sklearn-color-fitted-level-1) 1pt solid;\n",
       "  color: var(--sklearn-color-fitted-level-1);\n",
       "}\n",
       "\n",
       "/* On hover */\n",
       "#sk-container-id-11 a.estimator_doc_link:hover {\n",
       "  /* unfitted */\n",
       "  background-color: var(--sklearn-color-unfitted-level-3);\n",
       "  color: var(--sklearn-color-background);\n",
       "  text-decoration: none;\n",
       "}\n",
       "\n",
       "#sk-container-id-11 a.estimator_doc_link.fitted:hover {\n",
       "  /* fitted */\n",
       "  background-color: var(--sklearn-color-fitted-level-3);\n",
       "}\n",
       "</style><div id=\"sk-container-id-11\" class=\"sk-top-container\"><div class=\"sk-text-repr-fallback\"><pre>Pipeline(steps=[(&#x27;scaler&#x27;, StandardScaler()), (&#x27;nb&#x27;, GaussianNB())])</pre><b>In a Jupyter environment, please rerun this cell to show the HTML representation or trust the notebook. <br />On GitHub, the HTML representation is unable to render, please try loading this page with nbviewer.org.</b></div><div class=\"sk-container\" hidden><div class=\"sk-item sk-dashed-wrapped\"><div class=\"sk-label-container\"><div class=\"sk-label fitted sk-toggleable\"><input class=\"sk-toggleable__control sk-hidden--visually\" id=\"sk-estimator-id-31\" type=\"checkbox\" ><label for=\"sk-estimator-id-31\" class=\"sk-toggleable__label fitted sk-toggleable__label-arrow fitted\">&nbsp;&nbsp;Pipeline<a class=\"sk-estimator-doc-link fitted\" rel=\"noreferrer\" target=\"_blank\" href=\"https://scikit-learn.org/1.5/modules/generated/sklearn.pipeline.Pipeline.html\">?<span>Documentation for Pipeline</span></a><span class=\"sk-estimator-doc-link fitted\">i<span>Fitted</span></span></label><div class=\"sk-toggleable__content fitted\"><pre>Pipeline(steps=[(&#x27;scaler&#x27;, StandardScaler()), (&#x27;nb&#x27;, GaussianNB())])</pre></div> </div></div><div class=\"sk-serial\"><div class=\"sk-item\"><div class=\"sk-estimator fitted sk-toggleable\"><input class=\"sk-toggleable__control sk-hidden--visually\" id=\"sk-estimator-id-32\" type=\"checkbox\" ><label for=\"sk-estimator-id-32\" class=\"sk-toggleable__label fitted sk-toggleable__label-arrow fitted\">&nbsp;StandardScaler<a class=\"sk-estimator-doc-link fitted\" rel=\"noreferrer\" target=\"_blank\" href=\"https://scikit-learn.org/1.5/modules/generated/sklearn.preprocessing.StandardScaler.html\">?<span>Documentation for StandardScaler</span></a></label><div class=\"sk-toggleable__content fitted\"><pre>StandardScaler()</pre></div> </div></div><div class=\"sk-item\"><div class=\"sk-estimator fitted sk-toggleable\"><input class=\"sk-toggleable__control sk-hidden--visually\" id=\"sk-estimator-id-33\" type=\"checkbox\" ><label for=\"sk-estimator-id-33\" class=\"sk-toggleable__label fitted sk-toggleable__label-arrow fitted\">&nbsp;GaussianNB<a class=\"sk-estimator-doc-link fitted\" rel=\"noreferrer\" target=\"_blank\" href=\"https://scikit-learn.org/1.5/modules/generated/sklearn.naive_bayes.GaussianNB.html\">?<span>Documentation for GaussianNB</span></a></label><div class=\"sk-toggleable__content fitted\"><pre>GaussianNB()</pre></div> </div></div></div></div></div></div>"
      ],
      "text/plain": [
       "Pipeline(steps=[('scaler', StandardScaler()), ('nb', GaussianNB())])"
      ]
     },
     "execution_count": 587,
     "metadata": {},
     "output_type": "execute_result"
    }
   ],
   "source": [
    "# Define the pipeline\n",
    "pipeline_nb = Pipeline([\n",
    "    ('scaler', StandardScaler()),\n",
    "    ('nb', GaussianNB())\n",
    "])\n",
    "\n",
    "# Fit the pipeline on the training data\n",
    "pipeline_nb.fit(x_train, y_train)"
   ]
  },
  {
   "cell_type": "code",
   "execution_count": 589,
   "metadata": {
    "colab": {
     "base_uri": "https://localhost:8080/"
    },
    "executionInfo": {
     "elapsed": 20,
     "status": "ok",
     "timestamp": 1718714539022,
     "user": {
      "displayName": "Vikas Singh",
      "userId": "04375885343580620832"
     },
     "user_tz": -330
    },
    "id": "R0zrQvZ7FcRo",
    "outputId": "5d0f5138-d507-405a-9029-9a09169df830"
   },
   "outputs": [
    {
     "name": "stdout",
     "output_type": "stream",
     "text": [
      "\n",
      "Naïve Bayes:\n",
      "Training Accuracy: 0.9362637362637363\n",
      "Testing Accuracy: 0.9649122807017544\n"
     ]
    }
   ],
   "source": [
    "#Predict on the training and testing set\n",
    "y_pred_train_nb = pipeline_nb.predict(x_train)\n",
    "y_pred_test_nb = pipeline_nb.predict(x_test)\n",
    "\n",
    "# Calculate the training and testing accuracy\n",
    "training_accuracy = accuracy_score(y_train, y_pred_train_nb)\n",
    "testing_accuracy = accuracy_score(y_test, y_pred_test_nb)\n",
    "print(\"\\nNaïve Bayes:\")\n",
    "print(f\"Training Accuracy: {training_accuracy}\")\n",
    "print(f\"Testing Accuracy: {testing_accuracy}\")\n",
    "\n",
    "y_pred_prob_nb = pipeline_nb.predict_proba(x_test)[:, 1]"
   ]
  },
  {
   "cell_type": "markdown",
   "metadata": {
    "id": "CPJTFQ77DYzy"
   },
   "source": [
    "##### __Observation:__\n",
    "\n",
    "The training accuracy (93.63%) and testing accuracy (96.49%) are relatively close to each other. This suggests that the model is not overfitting to the training data, as the performance on the testing set is slightly better or comparable to the training set."
   ]
  },
  {
   "cell_type": "code",
   "execution_count": 592,
   "metadata": {
    "colab": {
     "base_uri": "https://localhost:8080/",
     "height": 206
    },
    "executionInfo": {
     "elapsed": 16,
     "status": "ok",
     "timestamp": 1718714539022,
     "user": {
      "displayName": "Vikas Singh",
      "userId": "04375885343580620832"
     },
     "user_tz": -330
    },
    "id": "wpTN8k4G6KSS",
    "outputId": "181447df-a416-42f6-c0f9-a2b0827ec14a"
   },
   "outputs": [
    {
     "data": {
      "text/html": [
       "<div>\n",
       "<style scoped>\n",
       "    .dataframe tbody tr th:only-of-type {\n",
       "        vertical-align: middle;\n",
       "    }\n",
       "\n",
       "    .dataframe tbody tr th {\n",
       "        vertical-align: top;\n",
       "    }\n",
       "\n",
       "    .dataframe thead th {\n",
       "        text-align: right;\n",
       "    }\n",
       "</style>\n",
       "<table border=\"1\" class=\"dataframe\">\n",
       "  <thead>\n",
       "    <tr style=\"text-align: right;\">\n",
       "      <th></th>\n",
       "      <th>Actual Label</th>\n",
       "      <th>Predicted Probability</th>\n",
       "      <th>Predicted Label</th>\n",
       "    </tr>\n",
       "  </thead>\n",
       "  <tbody>\n",
       "    <tr>\n",
       "      <th>204</th>\n",
       "      <td>0</td>\n",
       "      <td>1.349483e-09</td>\n",
       "      <td>0</td>\n",
       "    </tr>\n",
       "    <tr>\n",
       "      <th>70</th>\n",
       "      <td>1</td>\n",
       "      <td>1.000000e+00</td>\n",
       "      <td>1</td>\n",
       "    </tr>\n",
       "    <tr>\n",
       "      <th>131</th>\n",
       "      <td>1</td>\n",
       "      <td>1.000000e+00</td>\n",
       "      <td>1</td>\n",
       "    </tr>\n",
       "    <tr>\n",
       "      <th>431</th>\n",
       "      <td>0</td>\n",
       "      <td>9.801091e-12</td>\n",
       "      <td>0</td>\n",
       "    </tr>\n",
       "    <tr>\n",
       "      <th>540</th>\n",
       "      <td>0</td>\n",
       "      <td>8.102568e-15</td>\n",
       "      <td>0</td>\n",
       "    </tr>\n",
       "  </tbody>\n",
       "</table>\n",
       "</div>"
      ],
      "text/plain": [
       "     Actual Label  Predicted Probability  Predicted Label\n",
       "204             0           1.349483e-09                0\n",
       "70              1           1.000000e+00                1\n",
       "131             1           1.000000e+00                1\n",
       "431             0           9.801091e-12                0\n",
       "540             0           8.102568e-15                0"
      ]
     },
     "execution_count": 592,
     "metadata": {},
     "output_type": "execute_result"
    }
   ],
   "source": [
    "results_df = pd.DataFrame({\n",
    "    'Actual Label': y_test,\n",
    "    'Predicted Probability': y_pred_prob_nb,\n",
    "    'Predicted Label': y_pred_test_nb\n",
    "})\n",
    "\n",
    "results_df.head()"
   ]
  },
  {
   "cell_type": "markdown",
   "metadata": {
    "id": "v84WEN1l75vj"
   },
   "source": [
    "##### __Observation:__\n",
    "\n",
    "- The Naive Bayes classifier computes the probability of a class given the input features by multiplying the individual conditional probabilities of each feature.\n",
    "\n",
    "- Internally, many Naive Bayes implementations use logarithms to prevent numerical underflow when multiplying many small probabilities. The extreme values observed might be a result of the conversion back from logarithmic space to probability space.\n"
   ]
  },
  {
   "cell_type": "code",
   "execution_count": 595,
   "metadata": {
    "colab": {
     "base_uri": "https://localhost:8080/",
     "height": 510
    },
    "executionInfo": {
     "elapsed": 1298,
     "status": "ok",
     "timestamp": 1718714540307,
     "user": {
      "displayName": "Vikas Singh",
      "userId": "04375885343580620832"
     },
     "user_tz": -330
    },
    "id": "ZRMFVvskIH2D",
    "outputId": "7ac7792c-f479-419b-d337-e28569182726"
   },
   "outputs": [
    {
     "name": "stdout",
     "output_type": "stream",
     "text": [
      "Confusion Matrix:\n",
      "[[70  1]\n",
      " [ 3 40]]\n"
     ]
    },
    {
     "data": {
      "image/png": "[encoded data removed]",
      "text/plain": [
       "<Figure size 640x480 with 2 Axes>"
      ]
     },
     "metadata": {},
     "output_type": "display_data"
    }
   ],
   "source": [
    "# Print confusion matrix\n",
    "conf_matrix_nb = confusion_matrix(y_test, y_pred_test_nb)\n",
    "print(\"Confusion Matrix:\")\n",
    "print(conf_matrix_nb)\n",
    "\n",
    "# Heatmap visualization for confusion matrix\n",
    "cm_display = ConfusionMatrixDisplay(confusion_matrix = conf_matrix_nb, display_labels = [\"benign\", \"malignant\"])\n",
    "# display matrix\n",
    "cm_display.plot()\n",
    "plt.show()"
   ]
  },
  {
   "cell_type": "markdown",
   "metadata": {
    "id": "c33KFofC9nfL"
   },
   "source": [
    "**True Positives (TP)**: The model correctly predicted 40 instances as malignant when they were indeed malignant.\n",
    "\n",
    "**True Negatives (TN)**: The model correctly predicted 70 instances as benign when they were indeed benign.\n",
    "\n",
    "**False Positives (FP)**: The model incorrectly predicted 1 instance as malignant when it was actually benign. This is also known as a Type I error.\n",
    "\n",
    "**False Negatives (FN)**: The model incorrectly predicted 3 instances as benign when they were actually malignant. This is also known as a Type II error."
   ]
  },
  {
   "cell_type": "code",
   "execution_count": 598,
   "metadata": {
    "colab": {
     "base_uri": "https://localhost:8080/"
    },
    "executionInfo": {
     "elapsed": 14,
     "status": "ok",
     "timestamp": 1718714540308,
     "user": {
      "displayName": "Vikas Singh",
      "userId": "04375885343580620832"
     },
     "user_tz": -330
    },
    "id": "hnFqJaXy853C",
    "outputId": "2a5e7dcb-cf0f-4bde-9ced-1c61aa30bc0c"
   },
   "outputs": [
    {
     "name": "stdout",
     "output_type": "stream",
     "text": [
      "\t\tNaïve Bayes Classification Report:\n",
      "\t\t-----------------------------------\n",
      "              precision    recall  f1-score   support\n",
      "\n",
      "           0       0.96      0.99      0.97        71\n",
      "           1       0.98      0.93      0.95        43\n",
      "\n",
      "    accuracy                           0.96       114\n",
      "   macro avg       0.97      0.96      0.96       114\n",
      "weighted avg       0.97      0.96      0.96       114\n",
      "\n"
     ]
    }
   ],
   "source": [
    "# Print classification report\n",
    "print(\"\\t\\tNaïve Bayes Classification Report:\")\n",
    "print(\"\\t\\t-----------------------------------\")\n",
    "print(classification_report(y_test, y_pred_test_nb))"
   ]
  },
  {
   "cell_type": "markdown",
   "metadata": {},
   "source": [
    "#### __Naive Bayes Classification Report:__"
   ]
  },
  {
   "cell_type": "markdown",
   "metadata": {
    "id": "m2juD22vEced"
   },
   "source": [
    "**Class 0 (Negative Class)**\n",
    "- **Precision: 0.96 :** 96% of the instances predicted as class 0 are actually class 0.\n",
    "- **Recall: 0.99 :** 99% of the actual class 0 instances are correctly predicted as class 0.\n",
    "- **F1-Score: 0.97 :** The F1-score is the harmonic mean of precision and recall, providing a balance between the two metrics. Here, the F1-score is 0.97, indicating excellent performance.\n",
    "- **Support: 71 :** There are 71 actual instances of class 0 in the test set.\n",
    "\n",
    "**Class 1 (Positive Class)**\n",
    "- **Precision: 0.98 :** 98% of the instances predicted as class 1 are actually class 1.\n",
    "- **Recall: 0.93 :** 93% of the actual class 1 instances are correctly predicted as class 1.\n",
    "- **F1-Score: 0.95 :** The F1-score for class 1 is 0.95, indicating very good performance, although slightly lower than class 0.\n",
    "- **Support: 43 :** There are 43 actual instances of class 1 in the test set.\n",
    "\n",
    "**Overall Metrics**\n",
    "- **Accuracy: 0.96 :** The overall accuracy of the model, indicating that 96% of the total instances are correctly classified.\n",
    "- **Macro Average :** Macro average calculates the metric independently for each class and then takes the average, treating all classes equally. It is useful when you have imbalanced classes.\n",
    "- **Weighted Average :** Weighted average takes into account the support (the number of true instances for each class) to calculate the average. It is more representative of the performance on imbalanced datasets."
   ]
  },
  {
   "cell_type": "code",
   "execution_count": 601,
   "metadata": {
    "colab": {
     "base_uri": "https://localhost:8080/",
     "height": 582
    },
    "executionInfo": {
     "elapsed": 12,
     "status": "ok",
     "timestamp": 1718714540308,
     "user": {
      "displayName": "Vikas Singh",
      "userId": "04375885343580620832"
     },
     "user_tz": -330
    },
    "id": "dKV7-gD5gbmX",
    "outputId": "6aad16b0-9adf-4f87-d192-c743b00803c6"
   },
   "outputs": [
    {
     "data": {
      "text/plain": [
       "0.99737962659679"
      ]
     },
     "execution_count": 601,
     "metadata": {},
     "output_type": "execute_result"
    }
   ],
   "source": [
    "fpr, tpr, thresholds = roc_curve(y_test, y_pred_prob_nb)\n",
    "\n",
    "# Compute the Area Under the Curve (AUC) for the ROC curve\n",
    "roc_auc = auc(fpr, tpr)\n",
    "roc_auc"
   ]
  },
  {
   "cell_type": "code",
   "execution_count": 603,
   "metadata": {},
   "outputs": [
    {
     "name": "stdout",
     "output_type": "stream",
     "text": [
      "Optimal Threshold: 0.0126\n"
     ]
    }
   ],
   "source": [
    "# Compute Youden's J statistic for each threshold\n",
    "youden_j = tpr - fpr\n",
    "optimal_threshold_index = np.argmax(youden_j)\n",
    "optimal_threshold = thresholds[optimal_threshold_index]\n",
    "\n",
    "print(f\"Optimal Threshold: {optimal_threshold:.4f}\")"
   ]
  },
  {
   "cell_type": "code",
   "execution_count": 605,
   "metadata": {},
   "outputs": [
    {
     "data": {
      "image/png": "[encoded data removed]",
      "text/plain": [
       "<Figure size 800x600 with 1 Axes>"
      ]
     },
     "metadata": {},
     "output_type": "display_data"
    }
   ],
   "source": [
    "# Plot the ROC curve with the optimal threshold marked\n",
    "\n",
    "plt.figure(figsize=(8, 6))\n",
    "plt.plot(fpr, tpr, color='blue', lw=2, label=f'ROC curve (area = {roc_auc:.2f})')\n",
    "plt.scatter(fpr[optimal_threshold_index], tpr[optimal_threshold_index], color='red', marker='o', label=f'Optimal Threshold = {optimal_threshold:.4f}')\n",
    "plt.plot([0, 1], [0, 1], color='grey', lw=2, linestyle='--')\n",
    "plt.xlim([0.0, 1.0])\n",
    "plt.ylim([0.0, 1.05])\n",
    "plt.xlabel('False Positive Rate')\n",
    "plt.ylabel('True Positive Rate')\n",
    "plt.title('Receiver Operating Characteristic (ROC) Curve')\n",
    "plt.legend(loc='lower right')\n",
    "plt.show()"
   ]
  },
  {
   "cell_type": "markdown",
   "metadata": {
    "id": "dWO_1iuW-JN6"
   },
   "source": [
    "##### __Observation:__\n",
    "\n",
    "- The ROC curve for the Naive Bayes classifier demonstrates outstanding performance, with an AUC of 1.00 indicating perfect classification ability on the breast cancer dataset.\n",
    "\n",
    "- This implies that the model is highly effective in distinguishing between benign and malignant cases with no errors.\n",
    "\n",
    "- Optimal threshold is 0.0126. Some models, such as Naive Bayes, often produce uncalibrated probabilities that tend to be extreme (close to 0 or 1). This can result in needing a very low threshold to balance sensitivity and specificity effectively."
   ]
  },
  {
   "cell_type": "markdown",
   "metadata": {
    "id": "Jvw6i05GI2wd"
   },
   "source": [
    "## __K-Nearest Neighbors (KNN)__"
   ]
  },
  {
   "cell_type": "markdown",
   "metadata": {
    "id": "_oDn7j9_I2we"
   },
   "source": [
    "The K-Nearest Neighbor (KNN) algorithm is a popular machine learning technique used for classification and regression tasks. It relies on the idea that similar data points tend to have similar labels or values.\n",
    "\n",
    "- During the training phase, the KNN algorithm retains the entire training dataset as a reference. For predictions, it computes the distance between the input data point and all training examples using a selected distance metric, such as Euclidean distance, as illustrated in the diagram below:\n",
    "\n",
    "<img src=\"https://labcontent.simplicdn.net/data-content/content-assets/Data_and_AI/ML/updated/Lesson_05/KNN.png\" width = 700 height = 700 />"
   ]
  },
  {
   "cell_type": "markdown",
   "metadata": {
    "id": "SlJisqHzI2we"
   },
   "source": [
    "**The following is a step-by-step approach to KNN algorithm:**\n",
    "\n",
    "**Step 1:** Load the training and test data.\n",
    "\n",
    "**Step 2:** Choose the value of K, which represents the number of nearest neighbors to consider. (K can be any positive integer)\n",
    "\n",
    "**Note:** The optimal value for K will depend on the specific dataset and the problem being solved. It's often determined through cross-validation.\n",
    "\n",
    "**Step 3:** For every point in the test data, do the following:\n",
    "\n",
    "- Calculate the distance between the test data point and each point in the training dataset using a distance metric such as Euclidean, Manhattan, or Hamming distance.\n",
    "- Sort the calculated distances in ascending order.\n",
    "- Select the top K closest data points (smallest distances) from the sorted list.\n",
    "- Assign the most frequent class (mode) among these K nearest neighbors to the test data point."
   ]
  },
  {
   "cell_type": "markdown",
   "metadata": {
    "id": "zLjy6bFNI2wg"
   },
   "source": [
    "### __Applying K-Nearest Neighbors on Breast Cancer Dataset__"
   ]
  },
  {
   "cell_type": "code",
   "execution_count": 609,
   "metadata": {
    "executionInfo": {
     "elapsed": 1037,
     "status": "ok",
     "timestamp": 1718714541336,
     "user": {
      "displayName": "Vikas Singh",
      "userId": "04375885343580620832"
     },
     "user_tz": -330
    },
    "id": "dVuB-fmHMJtL"
   },
   "outputs": [],
   "source": [
    "# Import Required Libraries and apply K-Nearest Neighbors\n",
    "from sklearn.neighbors import KNeighborsClassifier\n",
    "from sklearn.metrics import classification_report, confusion_matrix, roc_curve, auc\n",
    "from sklearn.metrics import ConfusionMatrixDisplay\n",
    "from sklearn.preprocessing import StandardScaler, Normalizer"
   ]
  },
  {
   "cell_type": "code",
   "execution_count": 629,
   "metadata": {},
   "outputs": [
    {
     "data": {
      "text/html": [
       "<style>#sk-container-id-13 {\n",
       "  /* Definition of color scheme common for light and dark mode */\n",
       "  --sklearn-color-text: black;\n",
       "  --sklearn-color-line: gray;\n",
       "  /* Definition of color scheme for unfitted estimators */\n",
       "  --sklearn-color-unfitted-level-0: #fff5e6;\n",
       "  --sklearn-color-unfitted-level-1: #f6e4d2;\n",
       "  --sklearn-color-unfitted-level-2: #ffe0b3;\n",
       "  --sklearn-color-unfitted-level-3: chocolate;\n",
       "  /* Definition of color scheme for fitted estimators */\n",
       "  --sklearn-color-fitted-level-0: #f0f8ff;\n",
       "  --sklearn-color-fitted-level-1: #d4ebff;\n",
       "  --sklearn-color-fitted-level-2: #b3dbfd;\n",
       "  --sklearn-color-fitted-level-3: cornflowerblue;\n",
       "\n",
       "  /* Specific color for light theme */\n",
       "  --sklearn-color-text-on-default-background: var(--sg-text-color, var(--theme-code-foreground, var(--jp-content-font-color1, black)));\n",
       "  --sklearn-color-background: var(--sg-background-color, var(--theme-background, var(--jp-layout-color0, white)));\n",
       "  --sklearn-color-border-box: var(--sg-text-color, var(--theme-code-foreground, var(--jp-content-font-color1, black)));\n",
       "  --sklearn-color-icon: #696969;\n",
       "\n",
       "  @media (prefers-color-scheme: dark) {\n",
       "    /* Redefinition of color scheme for dark theme */\n",
       "    --sklearn-color-text-on-default-background: var(--sg-text-color, var(--theme-code-foreground, var(--jp-content-font-color1, white)));\n",
       "    --sklearn-color-background: var(--sg-background-color, var(--theme-background, var(--jp-layout-color0, #111)));\n",
       "    --sklearn-color-border-box: var(--sg-text-color, var(--theme-code-foreground, var(--jp-content-font-color1, white)));\n",
       "    --sklearn-color-icon: #878787;\n",
       "  }\n",
       "}\n",
       "\n",
       "#sk-container-id-13 {\n",
       "  color: var(--sklearn-color-text);\n",
       "}\n",
       "\n",
       "#sk-container-id-13 pre {\n",
       "  padding: 0;\n",
       "}\n",
       "\n",
       "#sk-container-id-13 input.sk-hidden--visually {\n",
       "  border: 0;\n",
       "  clip: rect(1px 1px 1px 1px);\n",
       "  clip: rect(1px, 1px, 1px, 1px);\n",
       "  height: 1px;\n",
       "  margin: -1px;\n",
       "  overflow: hidden;\n",
       "  padding: 0;\n",
       "  position: absolute;\n",
       "  width: 1px;\n",
       "}\n",
       "\n",
       "#sk-container-id-13 div.sk-dashed-wrapped {\n",
       "  border: 1px dashed var(--sklearn-color-line);\n",
       "  margin: 0 0.4em 0.5em 0.4em;\n",
       "  box-sizing: border-box;\n",
       "  padding-bottom: 0.4em;\n",
       "  background-color: var(--sklearn-color-background);\n",
       "}\n",
       "\n",
       "#sk-container-id-13 div.sk-container {\n",
       "  /* jupyter's `normalize.less` sets `[hidden] { display: none; }`\n",
       "     but bootstrap.min.css set `[hidden] { display: none !important; }`\n",
       "     so we also need the `!important` here to be able to override the\n",
       "     default hidden behavior on the sphinx rendered scikit-learn.org.\n",
       "     See: https://github.com/scikit-learn/scikit-learn/issues/21755 */\n",
       "  display: inline-block !important;\n",
       "  position: relative;\n",
       "}\n",
       "\n",
       "#sk-container-id-13 div.sk-text-repr-fallback {\n",
       "  display: none;\n",
       "}\n",
       "\n",
       "div.sk-parallel-item,\n",
       "div.sk-serial,\n",
       "div.sk-item {\n",
       "  /* draw centered vertical line to link estimators */\n",
       "  background-image: linear-gradient(var(--sklearn-color-text-on-default-background), var(--sklearn-color-text-on-default-background));\n",
       "  background-size: 2px 100%;\n",
       "  background-repeat: no-repeat;\n",
       "  background-position: center center;\n",
       "}\n",
       "\n",
       "/* Parallel-specific style estimator block */\n",
       "\n",
       "#sk-container-id-13 div.sk-parallel-item::after {\n",
       "  content: \"\";\n",
       "  width: 100%;\n",
       "  border-bottom: 2px solid var(--sklearn-color-text-on-default-background);\n",
       "  flex-grow: 1;\n",
       "}\n",
       "\n",
       "#sk-container-id-13 div.sk-parallel {\n",
       "  display: flex;\n",
       "  align-items: stretch;\n",
       "  justify-content: center;\n",
       "  background-color: var(--sklearn-color-background);\n",
       "  position: relative;\n",
       "}\n",
       "\n",
       "#sk-container-id-13 div.sk-parallel-item {\n",
       "  display: flex;\n",
       "  flex-direction: column;\n",
       "}\n",
       "\n",
       "#sk-container-id-13 div.sk-parallel-item:first-child::after {\n",
       "  align-self: flex-end;\n",
       "  width: 50%;\n",
       "}\n",
       "\n",
       "#sk-container-id-13 div.sk-parallel-item:last-child::after {\n",
       "  align-self: flex-start;\n",
       "  width: 50%;\n",
       "}\n",
       "\n",
       "#sk-container-id-13 div.sk-parallel-item:only-child::after {\n",
       "  width: 0;\n",
       "}\n",
       "\n",
       "/* Serial-specific style estimator block */\n",
       "\n",
       "#sk-container-id-13 div.sk-serial {\n",
       "  display: flex;\n",
       "  flex-direction: column;\n",
       "  align-items: center;\n",
       "  background-color: var(--sklearn-color-background);\n",
       "  padding-right: 1em;\n",
       "  padding-left: 1em;\n",
       "}\n",
       "\n",
       "\n",
       "/* Toggleable style: style used for estimator/Pipeline/ColumnTransformer box that is\n",
       "clickable and can be expanded/collapsed.\n",
       "- Pipeline and ColumnTransformer use this feature and define the default style\n",
       "- Estimators will overwrite some part of the style using the `sk-estimator` class\n",
       "*/\n",
       "\n",
       "/* Pipeline and ColumnTransformer style (default) */\n",
       "\n",
       "#sk-container-id-13 div.sk-toggleable {\n",
       "  /* Default theme specific background. It is overwritten whether we have a\n",
       "  specific estimator or a Pipeline/ColumnTransformer */\n",
       "  background-color: var(--sklearn-color-background);\n",
       "}\n",
       "\n",
       "/* Toggleable label */\n",
       "#sk-container-id-13 label.sk-toggleable__label {\n",
       "  cursor: pointer;\n",
       "  display: block;\n",
       "  width: 100%;\n",
       "  margin-bottom: 0;\n",
       "  padding: 0.5em;\n",
       "  box-sizing: border-box;\n",
       "  text-align: center;\n",
       "}\n",
       "\n",
       "#sk-container-id-13 label.sk-toggleable__label-arrow:before {\n",
       "  /* Arrow on the left of the label */\n",
       "  content: \"▸\";\n",
       "  float: left;\n",
       "  margin-right: 0.25em;\n",
       "  color: var(--sklearn-color-icon);\n",
       "}\n",
       "\n",
       "#sk-container-id-13 label.sk-toggleable__label-arrow:hover:before {\n",
       "  color: var(--sklearn-color-text);\n",
       "}\n",
       "\n",
       "/* Toggleable content - dropdown */\n",
       "\n",
       "#sk-container-id-13 div.sk-toggleable__content {\n",
       "  max-height: 0;\n",
       "  max-width: 0;\n",
       "  overflow: hidden;\n",
       "  text-align: left;\n",
       "  /* unfitted */\n",
       "  background-color: var(--sklearn-color-unfitted-level-0);\n",
       "}\n",
       "\n",
       "#sk-container-id-13 div.sk-toggleable__content.fitted {\n",
       "  /* fitted */\n",
       "  background-color: var(--sklearn-color-fitted-level-0);\n",
       "}\n",
       "\n",
       "#sk-container-id-13 div.sk-toggleable__content pre {\n",
       "  margin: 0.2em;\n",
       "  border-radius: 0.25em;\n",
       "  color: var(--sklearn-color-text);\n",
       "  /* unfitted */\n",
       "  background-color: var(--sklearn-color-unfitted-level-0);\n",
       "}\n",
       "\n",
       "#sk-container-id-13 div.sk-toggleable__content.fitted pre {\n",
       "  /* unfitted */\n",
       "  background-color: var(--sklearn-color-fitted-level-0);\n",
       "}\n",
       "\n",
       "#sk-container-id-13 input.sk-toggleable__control:checked~div.sk-toggleable__content {\n",
       "  /* Expand drop-down */\n",
       "  max-height: 200px;\n",
       "  max-width: 100%;\n",
       "  overflow: auto;\n",
       "}\n",
       "\n",
       "#sk-container-id-13 input.sk-toggleable__control:checked~label.sk-toggleable__label-arrow:before {\n",
       "  content: \"▾\";\n",
       "}\n",
       "\n",
       "/* Pipeline/ColumnTransformer-specific style */\n",
       "\n",
       "#sk-container-id-13 div.sk-label input.sk-toggleable__control:checked~label.sk-toggleable__label {\n",
       "  color: var(--sklearn-color-text);\n",
       "  background-color: var(--sklearn-color-unfitted-level-2);\n",
       "}\n",
       "\n",
       "#sk-container-id-13 div.sk-label.fitted input.sk-toggleable__control:checked~label.sk-toggleable__label {\n",
       "  background-color: var(--sklearn-color-fitted-level-2);\n",
       "}\n",
       "\n",
       "/* Estimator-specific style */\n",
       "\n",
       "/* Colorize estimator box */\n",
       "#sk-container-id-13 div.sk-estimator input.sk-toggleable__control:checked~label.sk-toggleable__label {\n",
       "  /* unfitted */\n",
       "  background-color: var(--sklearn-color-unfitted-level-2);\n",
       "}\n",
       "\n",
       "#sk-container-id-13 div.sk-estimator.fitted input.sk-toggleable__control:checked~label.sk-toggleable__label {\n",
       "  /* fitted */\n",
       "  background-color: var(--sklearn-color-fitted-level-2);\n",
       "}\n",
       "\n",
       "#sk-container-id-13 div.sk-label label.sk-toggleable__label,\n",
       "#sk-container-id-13 div.sk-label label {\n",
       "  /* The background is the default theme color */\n",
       "  color: var(--sklearn-color-text-on-default-background);\n",
       "}\n",
       "\n",
       "/* On hover, darken the color of the background */\n",
       "#sk-container-id-13 div.sk-label:hover label.sk-toggleable__label {\n",
       "  color: var(--sklearn-color-text);\n",
       "  background-color: var(--sklearn-color-unfitted-level-2);\n",
       "}\n",
       "\n",
       "/* Label box, darken color on hover, fitted */\n",
       "#sk-container-id-13 div.sk-label.fitted:hover label.sk-toggleable__label.fitted {\n",
       "  color: var(--sklearn-color-text);\n",
       "  background-color: var(--sklearn-color-fitted-level-2);\n",
       "}\n",
       "\n",
       "/* Estimator label */\n",
       "\n",
       "#sk-container-id-13 div.sk-label label {\n",
       "  font-family: monospace;\n",
       "  font-weight: bold;\n",
       "  display: inline-block;\n",
       "  line-height: 1.2em;\n",
       "}\n",
       "\n",
       "#sk-container-id-13 div.sk-label-container {\n",
       "  text-align: center;\n",
       "}\n",
       "\n",
       "/* Estimator-specific */\n",
       "#sk-container-id-13 div.sk-estimator {\n",
       "  font-family: monospace;\n",
       "  border: 1px dotted var(--sklearn-color-border-box);\n",
       "  border-radius: 0.25em;\n",
       "  box-sizing: border-box;\n",
       "  margin-bottom: 0.5em;\n",
       "  /* unfitted */\n",
       "  background-color: var(--sklearn-color-unfitted-level-0);\n",
       "}\n",
       "\n",
       "#sk-container-id-13 div.sk-estimator.fitted {\n",
       "  /* fitted */\n",
       "  background-color: var(--sklearn-color-fitted-level-0);\n",
       "}\n",
       "\n",
       "/* on hover */\n",
       "#sk-container-id-13 div.sk-estimator:hover {\n",
       "  /* unfitted */\n",
       "  background-color: var(--sklearn-color-unfitted-level-2);\n",
       "}\n",
       "\n",
       "#sk-container-id-13 div.sk-estimator.fitted:hover {\n",
       "  /* fitted */\n",
       "  background-color: var(--sklearn-color-fitted-level-2);\n",
       "}\n",
       "\n",
       "/* Specification for estimator info (e.g. \"i\" and \"?\") */\n",
       "\n",
       "/* Common style for \"i\" and \"?\" */\n",
       "\n",
       ".sk-estimator-doc-link,\n",
       "a:link.sk-estimator-doc-link,\n",
       "a:visited.sk-estimator-doc-link {\n",
       "  float: right;\n",
       "  font-size: smaller;\n",
       "  line-height: 1em;\n",
       "  font-family: monospace;\n",
       "  background-color: var(--sklearn-color-background);\n",
       "  border-radius: 1em;\n",
       "  height: 1em;\n",
       "  width: 1em;\n",
       "  text-decoration: none !important;\n",
       "  margin-left: 1ex;\n",
       "  /* unfitted */\n",
       "  border: var(--sklearn-color-unfitted-level-1) 1pt solid;\n",
       "  color: var(--sklearn-color-unfitted-level-1);\n",
       "}\n",
       "\n",
       ".sk-estimator-doc-link.fitted,\n",
       "a:link.sk-estimator-doc-link.fitted,\n",
       "a:visited.sk-estimator-doc-link.fitted {\n",
       "  /* fitted */\n",
       "  border: var(--sklearn-color-fitted-level-1) 1pt solid;\n",
       "  color: var(--sklearn-color-fitted-level-1);\n",
       "}\n",
       "\n",
       "/* On hover */\n",
       "div.sk-estimator:hover .sk-estimator-doc-link:hover,\n",
       ".sk-estimator-doc-link:hover,\n",
       "div.sk-label-container:hover .sk-estimator-doc-link:hover,\n",
       ".sk-estimator-doc-link:hover {\n",
       "  /* unfitted */\n",
       "  background-color: var(--sklearn-color-unfitted-level-3);\n",
       "  color: var(--sklearn-color-background);\n",
       "  text-decoration: none;\n",
       "}\n",
       "\n",
       "div.sk-estimator.fitted:hover .sk-estimator-doc-link.fitted:hover,\n",
       ".sk-estimator-doc-link.fitted:hover,\n",
       "div.sk-label-container:hover .sk-estimator-doc-link.fitted:hover,\n",
       ".sk-estimator-doc-link.fitted:hover {\n",
       "  /* fitted */\n",
       "  background-color: var(--sklearn-color-fitted-level-3);\n",
       "  color: var(--sklearn-color-background);\n",
       "  text-decoration: none;\n",
       "}\n",
       "\n",
       "/* Span, style for the box shown on hovering the info icon */\n",
       ".sk-estimator-doc-link span {\n",
       "  display: none;\n",
       "  z-index: 9999;\n",
       "  position: relative;\n",
       "  font-weight: normal;\n",
       "  right: .2ex;\n",
       "  padding: .5ex;\n",
       "  margin: .5ex;\n",
       "  width: min-content;\n",
       "  min-width: 20ex;\n",
       "  max-width: 50ex;\n",
       "  color: var(--sklearn-color-text);\n",
       "  box-shadow: 2pt 2pt 4pt #999;\n",
       "  /* unfitted */\n",
       "  background: var(--sklearn-color-unfitted-level-0);\n",
       "  border: .5pt solid var(--sklearn-color-unfitted-level-3);\n",
       "}\n",
       "\n",
       ".sk-estimator-doc-link.fitted span {\n",
       "  /* fitted */\n",
       "  background: var(--sklearn-color-fitted-level-0);\n",
       "  border: var(--sklearn-color-fitted-level-3);\n",
       "}\n",
       "\n",
       ".sk-estimator-doc-link:hover span {\n",
       "  display: block;\n",
       "}\n",
       "\n",
       "/* \"?\"-specific style due to the `<a>` HTML tag */\n",
       "\n",
       "#sk-container-id-13 a.estimator_doc_link {\n",
       "  float: right;\n",
       "  font-size: 1rem;\n",
       "  line-height: 1em;\n",
       "  font-family: monospace;\n",
       "  background-color: var(--sklearn-color-background);\n",
       "  border-radius: 1rem;\n",
       "  height: 1rem;\n",
       "  width: 1rem;\n",
       "  text-decoration: none;\n",
       "  /* unfitted */\n",
       "  color: var(--sklearn-color-unfitted-level-1);\n",
       "  border: var(--sklearn-color-unfitted-level-1) 1pt solid;\n",
       "}\n",
       "\n",
       "#sk-container-id-13 a.estimator_doc_link.fitted {\n",
       "  /* fitted */\n",
       "  border: var(--sklearn-color-fitted-level-1) 1pt solid;\n",
       "  color: var(--sklearn-color-fitted-level-1);\n",
       "}\n",
       "\n",
       "/* On hover */\n",
       "#sk-container-id-13 a.estimator_doc_link:hover {\n",
       "  /* unfitted */\n",
       "  background-color: var(--sklearn-color-unfitted-level-3);\n",
       "  color: var(--sklearn-color-background);\n",
       "  text-decoration: none;\n",
       "}\n",
       "\n",
       "#sk-container-id-13 a.estimator_doc_link.fitted:hover {\n",
       "  /* fitted */\n",
       "  background-color: var(--sklearn-color-fitted-level-3);\n",
       "}\n",
       "</style><div id=\"sk-container-id-13\" class=\"sk-top-container\"><div class=\"sk-text-repr-fallback\"><pre>Pipeline(steps=[(&#x27;normalizer&#x27;, Normalizer()), (&#x27;scaler&#x27;, StandardScaler()),\n",
       "                (&#x27;knn&#x27;, KNeighborsClassifier(n_neighbors=3))])</pre><b>In a Jupyter environment, please rerun this cell to show the HTML representation or trust the notebook. <br />On GitHub, the HTML representation is unable to render, please try loading this page with nbviewer.org.</b></div><div class=\"sk-container\" hidden><div class=\"sk-item sk-dashed-wrapped\"><div class=\"sk-label-container\"><div class=\"sk-label fitted sk-toggleable\"><input class=\"sk-toggleable__control sk-hidden--visually\" id=\"sk-estimator-id-38\" type=\"checkbox\" ><label for=\"sk-estimator-id-38\" class=\"sk-toggleable__label fitted sk-toggleable__label-arrow fitted\">&nbsp;&nbsp;Pipeline<a class=\"sk-estimator-doc-link fitted\" rel=\"noreferrer\" target=\"_blank\" href=\"https://scikit-learn.org/1.5/modules/generated/sklearn.pipeline.Pipeline.html\">?<span>Documentation for Pipeline</span></a><span class=\"sk-estimator-doc-link fitted\">i<span>Fitted</span></span></label><div class=\"sk-toggleable__content fitted\"><pre>Pipeline(steps=[(&#x27;normalizer&#x27;, Normalizer()), (&#x27;scaler&#x27;, StandardScaler()),\n",
       "                (&#x27;knn&#x27;, KNeighborsClassifier(n_neighbors=3))])</pre></div> </div></div><div class=\"sk-serial\"><div class=\"sk-item\"><div class=\"sk-estimator fitted sk-toggleable\"><input class=\"sk-toggleable__control sk-hidden--visually\" id=\"sk-estimator-id-39\" type=\"checkbox\" ><label for=\"sk-estimator-id-39\" class=\"sk-toggleable__label fitted sk-toggleable__label-arrow fitted\">&nbsp;Normalizer<a class=\"sk-estimator-doc-link fitted\" rel=\"noreferrer\" target=\"_blank\" href=\"https://scikit-learn.org/1.5/modules/generated/sklearn.preprocessing.Normalizer.html\">?<span>Documentation for Normalizer</span></a></label><div class=\"sk-toggleable__content fitted\"><pre>Normalizer()</pre></div> </div></div><div class=\"sk-item\"><div class=\"sk-estimator fitted sk-toggleable\"><input class=\"sk-toggleable__control sk-hidden--visually\" id=\"sk-estimator-id-40\" type=\"checkbox\" ><label for=\"sk-estimator-id-40\" class=\"sk-toggleable__label fitted sk-toggleable__label-arrow fitted\">&nbsp;StandardScaler<a class=\"sk-estimator-doc-link fitted\" rel=\"noreferrer\" target=\"_blank\" href=\"https://scikit-learn.org/1.5/modules/generated/sklearn.preprocessing.StandardScaler.html\">?<span>Documentation for StandardScaler</span></a></label><div class=\"sk-toggleable__content fitted\"><pre>StandardScaler()</pre></div> </div></div><div class=\"sk-item\"><div class=\"sk-estimator fitted sk-toggleable\"><input class=\"sk-toggleable__control sk-hidden--visually\" id=\"sk-estimator-id-41\" type=\"checkbox\" ><label for=\"sk-estimator-id-41\" class=\"sk-toggleable__label fitted sk-toggleable__label-arrow fitted\">&nbsp;KNeighborsClassifier<a class=\"sk-estimator-doc-link fitted\" rel=\"noreferrer\" target=\"_blank\" href=\"https://scikit-learn.org/1.5/modules/generated/sklearn.neighbors.KNeighborsClassifier.html\">?<span>Documentation for KNeighborsClassifier</span></a></label><div class=\"sk-toggleable__content fitted\"><pre>KNeighborsClassifier(n_neighbors=3)</pre></div> </div></div></div></div></div></div>"
      ],
      "text/plain": [
       "Pipeline(steps=[('normalizer', Normalizer()), ('scaler', StandardScaler()),\n",
       "                ('knn', KNeighborsClassifier(n_neighbors=3))])"
      ]
     },
     "execution_count": 629,
     "metadata": {},
     "output_type": "execute_result"
    }
   ],
   "source": [
    "pipeline_knn = Pipeline([\n",
    "    ('normalizer', Normalizer()),   # Normalize the data\n",
    "    ('scaler', StandardScaler()),   # Standardize the data\n",
    "    ('knn', KNeighborsClassifier(n_neighbors=3)) # KNN classifier\n",
    "])\n",
    "pipeline_knn.fit(x_train, y_train)"
   ]
  },
  {
   "cell_type": "code",
   "execution_count": 631,
   "metadata": {},
   "outputs": [],
   "source": [
    "# Predict on the training and testing set\n",
    "y_pred_train_knn = pipeline_knn.predict(x_train)\n",
    "y_pred_test_knn = pipeline_knn.predict(x_test)"
   ]
  },
  {
   "cell_type": "code",
   "execution_count": 633,
   "metadata": {
    "colab": {
     "base_uri": "https://localhost:8080/"
    },
    "executionInfo": {
     "elapsed": 19,
     "status": "ok",
     "timestamp": 1718714541336,
     "user": {
      "displayName": "Vikas Singh",
      "userId": "04375885343580620832"
     },
     "user_tz": -330
    },
    "id": "3l1Fza3bI-jr",
    "outputId": "d6065aef-1031-43a6-a25a-f8e1bfa2e5e6"
   },
   "outputs": [
    {
     "name": "stdout",
     "output_type": "stream",
     "text": [
      "\n",
      "K-Nearest Neighbors (KNN)\n",
      "Training Accuracy: 0.978021978021978\n",
      "Testing Accuracy: 0.9824561403508771\n"
     ]
    }
   ],
   "source": [
    "# Calculate training and testing accuracy\n",
    "\n",
    "training_accuracy = accuracy_score(y_train, y_pred_train_knn)\n",
    "testing_accuracy = accuracy_score(y_test, y_pred_test_knn)\n",
    "print(\"\\nK-Nearest Neighbors (KNN)\")\n",
    "print(f\"Training Accuracy: {training_accuracy}\")\n",
    "print(f\"Testing Accuracy: {testing_accuracy}\")\n",
    "\n",
    "y_pred_prob_knn = pipeline_knn.predict_proba(x_test)[:, 1]"
   ]
  },
  {
   "cell_type": "code",
   "execution_count": 635,
   "metadata": {
    "colab": {
     "base_uri": "https://localhost:8080/",
     "height": 206
    },
    "executionInfo": {
     "elapsed": 17,
     "status": "ok",
     "timestamp": 1718714541336,
     "user": {
      "displayName": "Vikas Singh",
      "userId": "04375885343580620832"
     },
     "user_tz": -330
    },
    "id": "88hledQ2NYxG",
    "outputId": "dfe387db-7995-4682-8c04-c9660a122bca"
   },
   "outputs": [
    {
     "data": {
      "text/html": [
       "<div>\n",
       "<style scoped>\n",
       "    .dataframe tbody tr th:only-of-type {\n",
       "        vertical-align: middle;\n",
       "    }\n",
       "\n",
       "    .dataframe tbody tr th {\n",
       "        vertical-align: top;\n",
       "    }\n",
       "\n",
       "    .dataframe thead th {\n",
       "        text-align: right;\n",
       "    }\n",
       "</style>\n",
       "<table border=\"1\" class=\"dataframe\">\n",
       "  <thead>\n",
       "    <tr style=\"text-align: right;\">\n",
       "      <th></th>\n",
       "      <th>Actual Label</th>\n",
       "      <th>Predicted Probability</th>\n",
       "      <th>Predicted Label</th>\n",
       "    </tr>\n",
       "  </thead>\n",
       "  <tbody>\n",
       "    <tr>\n",
       "      <th>204</th>\n",
       "      <td>0</td>\n",
       "      <td>0.0</td>\n",
       "      <td>0</td>\n",
       "    </tr>\n",
       "    <tr>\n",
       "      <th>70</th>\n",
       "      <td>1</td>\n",
       "      <td>1.0</td>\n",
       "      <td>1</td>\n",
       "    </tr>\n",
       "    <tr>\n",
       "      <th>131</th>\n",
       "      <td>1</td>\n",
       "      <td>1.0</td>\n",
       "      <td>1</td>\n",
       "    </tr>\n",
       "    <tr>\n",
       "      <th>431</th>\n",
       "      <td>0</td>\n",
       "      <td>0.0</td>\n",
       "      <td>0</td>\n",
       "    </tr>\n",
       "    <tr>\n",
       "      <th>540</th>\n",
       "      <td>0</td>\n",
       "      <td>0.0</td>\n",
       "      <td>0</td>\n",
       "    </tr>\n",
       "  </tbody>\n",
       "</table>\n",
       "</div>"
      ],
      "text/plain": [
       "     Actual Label  Predicted Probability  Predicted Label\n",
       "204             0                    0.0                0\n",
       "70              1                    1.0                1\n",
       "131             1                    1.0                1\n",
       "431             0                    0.0                0\n",
       "540             0                    0.0                0"
      ]
     },
     "execution_count": 635,
     "metadata": {},
     "output_type": "execute_result"
    }
   ],
   "source": [
    "results_df = pd.DataFrame({\n",
    "    'Actual Label': y_test,\n",
    "    'Predicted Probability': y_pred_prob_knn,\n",
    "    'Predicted Label': y_pred_test_knn\n",
    "})\n",
    "\n",
    "results_df.head()"
   ]
  },
  {
   "cell_type": "code",
   "execution_count": 637,
   "metadata": {
    "colab": {
     "base_uri": "https://localhost:8080/"
    },
    "executionInfo": {
     "elapsed": 16,
     "status": "ok",
     "timestamp": 1718714541336,
     "user": {
      "displayName": "Vikas Singh",
      "userId": "04375885343580620832"
     },
     "user_tz": -330
    },
    "id": "rd3rErKxOoMZ",
    "outputId": "7995aae6-874b-46fa-836b-cb85760fd2d6"
   },
   "outputs": [
    {
     "data": {
      "text/plain": [
       "42"
      ]
     },
     "execution_count": 637,
     "metadata": {},
     "output_type": "execute_result"
    }
   ],
   "source": [
    "len(results_df[(results_df[\"Actual Label\"] == 1) & (results_df[\"Predicted Label\"] == 1)])"
   ]
  },
  {
   "cell_type": "code",
   "execution_count": 639,
   "metadata": {
    "colab": {
     "base_uri": "https://localhost:8080/",
     "height": 504
    },
    "executionInfo": {
     "elapsed": 15,
     "status": "ok",
     "timestamp": 1718714541337,
     "user": {
      "displayName": "Vikas Singh",
      "userId": "04375885343580620832"
     },
     "user_tz": -330
    },
    "id": "qFerpsMkQVj1",
    "outputId": "0d80ebde-d255-4b69-8cbb-022e437f824b"
   },
   "outputs": [
    {
     "name": "stdout",
     "output_type": "stream",
     "text": [
      "Confusion Matrix:\n",
      "[[70  1]\n",
      " [ 1 42]]\n"
     ]
    },
    {
     "data": {
      "image/png": "[encoded data removed]",
      "text/plain": [
       "<Figure size 640x480 with 2 Axes>"
      ]
     },
     "metadata": {},
     "output_type": "display_data"
    }
   ],
   "source": [
    "# Print confusion matrix\n",
    "conf_matrix_knn = confusion_matrix(y_test, y_pred_test_knn)\n",
    "print(\"Confusion Matrix:\")\n",
    "print(conf_matrix_knn)\n",
    "\n",
    "# Heatmap visualization for confusion matrix\n",
    "cm_display = ConfusionMatrixDisplay(confusion_matrix = conf_matrix_knn, display_labels = [\"benign\", \"malignant\"])\n",
    "# display matrix\n",
    "cm_display.plot()\n",
    "plt.show()\n"
   ]
  },
  {
   "cell_type": "markdown",
   "metadata": {
    "id": "4lOsiqamOFI5"
   },
   "source": [
    "**True Positives (TP):** The model correctly predicted 40 instances as \"malignant\" (positive class) when they were indeed malignant.\n",
    "\n",
    "**True Negatives (TN):** The model correctly predicted 68 instances as \"benign\" (negative class) when they were indeed benign.\n",
    "\n",
    "**False Positives (FP):** The model incorrectly predicted 3 instances as \"malignant\" (positive class) when they were actually benign. This is a type I error.\n",
    "\n",
    "**False Negatives (FN):** The model incorrectly predicted 3 instances as \"benign\" (negative class) when they were actually malignant. This is a type II error."
   ]
  },
  {
   "cell_type": "code",
   "execution_count": 642,
   "metadata": {
    "colab": {
     "base_uri": "https://localhost:8080/"
    },
    "executionInfo": {
     "elapsed": 13,
     "status": "ok",
     "timestamp": 1718714541337,
     "user": {
      "displayName": "Vikas Singh",
      "userId": "04375885343580620832"
     },
     "user_tz": -330
    },
    "id": "ucSehLP1MN9y",
    "outputId": "2106967f-4ef4-4696-fa10-9067f11db1ac"
   },
   "outputs": [
    {
     "name": "stdout",
     "output_type": "stream",
     "text": [
      "\t\tK-Nearest Neighbors Classification Report:\n",
      "\t\t-----------------------------------\n",
      "              precision    recall  f1-score   support\n",
      "\n",
      "           0       0.99      0.99      0.99        71\n",
      "           1       0.98      0.98      0.98        43\n",
      "\n",
      "    accuracy                           0.98       114\n",
      "   macro avg       0.98      0.98      0.98       114\n",
      "weighted avg       0.98      0.98      0.98       114\n",
      "\n"
     ]
    }
   ],
   "source": [
    "# Print classification report\n",
    "print(\"\\t\\tK-Nearest Neighbors Classification Report:\")\n",
    "print(\"\\t\\t-----------------------------------\")\n",
    "print(classification_report(y_test, y_pred_test_knn))"
   ]
  },
  {
   "cell_type": "markdown",
   "metadata": {},
   "source": [
    "#### __KNN Classification Report:__"
   ]
  },
  {
   "cell_type": "markdown",
   "metadata": {
    "id": "pMSPD80NJB5F"
   },
   "source": [
    "**Class 0 (Benign):**\n",
    "- **Precision: 0.96** Of all the instances predicted as class 0, 96% were correctly classified. Precision measures the accuracy of the positive predictions.\n",
    "- **Recall: 0.96** Of all the actual instances of class 0, 96% were correctly identified by the model. Recall measures the model's ability to find all the relevant cases within a class.\n",
    "- **F1-Score: 0.96** The F1-score is the harmonic mean of precision and recall. An F1-score of 0.96 indicates a good balance between precision and recall for class 0.\n",
    "- **Support: 71** There are 71 instances of class 0 in the test dataset.\n",
    "\n",
    "**Class 1 (Malignant):**\n",
    "- **Precision: 0.93** Of all the instances predicted as class 1, 93% were correctly classified.\n",
    "- **Recall: 0.93** Of all the actual instances of class 1, 93% were correctly identified by the model.\n",
    "- **F1-Score: 0.93** An F1-score of 0.93 indicates a good balance between precision and recall for class 1.\n",
    "- **Support: 43** There are 43 instances of class 1 in the test dataset.\n",
    "\n",
    "**Overall Metrics:**\n",
    "\n",
    "- **Accuracy: 0.95** The overall accuracy of the model is 95%, indicating that 95% of the total instances in the test dataset were correctly classified by the model.\n",
    "- **Macro Average: 0.94** \n",
    "- **Weighted Average: 0.95**"
   ]
  },
  {
   "cell_type": "code",
   "execution_count": 652,
   "metadata": {
    "colab": {
     "base_uri": "https://localhost:8080/",
     "height": 582
    },
    "executionInfo": {
     "elapsed": 12,
     "status": "ok",
     "timestamp": 1718714541337,
     "user": {
      "displayName": "Vikas Singh",
      "userId": "04375885343580620832"
     },
     "user_tz": -330
    },
    "id": "iATWyipSWLvK",
    "outputId": "aa7f6c5a-58ff-4b43-b935-03ea99dcd4ab"
   },
   "outputs": [],
   "source": [
    "fpr, tpr, thresholds = roc_curve(y_test, y_pred_prob_knn)\n",
    "roc_auc = auc(fpr, tpr)"
   ]
  },
  {
   "cell_type": "code",
   "execution_count": 654,
   "metadata": {},
   "outputs": [
    {
     "name": "stdout",
     "output_type": "stream",
     "text": [
      "Optimal Threshold: 0.6667\n"
     ]
    }
   ],
   "source": [
    "# Find the optimal threshold by maximizing Youden's J statistic\n",
    "youden_j = tpr - fpr\n",
    "optimal_threshold_index = np.argmax(youden_j)\n",
    "optimal_threshold = thresholds[optimal_threshold_index]\n",
    "\n",
    "print(f\"Optimal Threshold: {optimal_threshold:.4f}\")"
   ]
  },
  {
   "cell_type": "code",
   "execution_count": 656,
   "metadata": {},
   "outputs": [
    {
     "data": {
      "image/png": "[encoded data removed]",
      "text/plain": [
       "<Figure size 800x600 with 1 Axes>"
      ]
     },
     "metadata": {},
     "output_type": "display_data"
    }
   ],
   "source": [
    "# Plot ROC curve with the optimal threshold marked\n",
    "plt.figure(figsize=(8, 6))\n",
    "plt.plot(fpr, tpr, color='blue', lw=2, label=f'ROC curve (area = {roc_auc:.2f})')\n",
    "plt.scatter(fpr[optimal_threshold_index], tpr[optimal_threshold_index], color='red', marker='o', label=f'Optimal Threshold = {optimal_threshold:.4f}')\n",
    "plt.plot([0, 1], [0, 1], color='grey', lw=2, linestyle='--')\n",
    "plt.xlim([0.0, 1.0])\n",
    "plt.ylim([0.0, 1.05])\n",
    "plt.xlabel('False Positive Rate')\n",
    "plt.ylabel('True Positive Rate')\n",
    "plt.title('Receiver Operating Characteristic (ROC) Curve')\n",
    "plt.legend(loc='lower right')\n",
    "plt.show()"
   ]
  },
  {
   "cell_type": "markdown",
   "metadata": {
    "id": "k1rjk-9HJpxi"
   },
   "source": [
    "##### __Observation:__\n",
    "\n",
    "- The ROC curve has a steep ascent to a high True Positive Rate with a low False Positive Rate, indicating that the classifier is effective at distinguishing between the positive and negative classes.\n",
    "\n",
    "- The AUC value is 0.98, which is very close to 1.0. An AUC of 0.98 indicates excellent discriminatory ability, meaning the classifier is highly capable of distinguishing between the positive and negative classes.\n",
    "\n",
    "- The optimal threshold for the KNN classifier, determined using Youden's J statistic, is 0.33."
   ]
  },
  {
   "cell_type": "markdown",
   "metadata": {
    "id": "79GupC4TkKKH"
   },
   "source": [
    "### __Hyperparameter Tuning in KNN:__\n",
    "\n",
    "The Number of Neighbors (k) is a crucial hyperparameter in the K-Nearest Neighbors (KNN) algorithm. It specifies how many nearest neighbors the algorithm should consider when making predictions. The selection of 𝑘 impacts the model's ability to generalize effectively: a smaller 𝑘 can make the model sensitive to noise in the data, potentially leading to overfitting, while a larger 𝑘 might include less relevant neighbors, possibly causing underfitting. Therefore, choosing the right 𝑘 value is essential for balancing bias and variance in the model."
   ]
  },
  {
   "cell_type": "markdown",
   "metadata": {
    "id": "aVk6sl7z0DLR"
   },
   "source": [
    "### __Using GridSearchCV with Cross-Validation to find optimal 'k':__"
   ]
  },
  {
   "cell_type": "code",
   "execution_count": 33,
   "metadata": {
    "colab": {
     "base_uri": "https://localhost:8080/",
     "height": 601
    },
    "executionInfo": {
     "elapsed": 2882,
     "status": "ok",
     "timestamp": 1718714544209,
     "user": {
      "displayName": "Vikas Singh",
      "userId": "04375885343580620832"
     },
     "user_tz": -330
    },
    "id": "FBF0WfKBj91f",
    "outputId": "38e3cc43-4f04-40cd-8774-aa763419a21d"
   },
   "outputs": [
    {
     "name": "stdout",
     "output_type": "stream",
     "text": [
      "The optimal number of neighbors is 7\n",
      "The best cross-validated accuracy is 0.9713526570048309\n"
     ]
    },
    {
     "data": {
      "image/png": "[encoded data removed]",
      "text/plain": [
       "<Figure size 1000x600 with 1 Axes>"
      ]
     },
     "metadata": {},
     "output_type": "display_data"
    }
   ],
   "source": [
    "from sklearn.model_selection import GridSearchCV\n",
    "\n",
    "# Define the parameter grid\n",
    "param_grid = {'knn__n_neighbors': np.arange(1, 21)}\n",
    "\n",
    "# Create a pipeline with a scaler and KNN classifier\n",
    "pipeline = Pipeline([\n",
    "    ('scaler', StandardScaler()),    # Standardize the data\n",
    "    ('knn', KNeighborsClassifier())  # KNN classifier\n",
    "])\n",
    "\n",
    "# Initialize GridSearchCV\n",
    "grid_search = GridSearchCV(pipeline, param_grid, cv=10, scoring='accuracy')\n",
    "\n",
    "# Fit GridSearchCV to the data\n",
    "grid_search.fit(x_train, y_train)\n",
    "\n",
    "# Get the best k value\n",
    "optimal_k = grid_search.best_params_['knn__n_neighbors']\n",
    "print(f\"The optimal number of neighbors is {optimal_k}\")\n",
    "\n",
    "# Get the best score\n",
    "best_score = grid_search.best_score_\n",
    "print(f\"The best cross-validated accuracy is {best_score}\")\n",
    "\n",
    "# Get the cross-validation results\n",
    "cv_results = grid_search.cv_results_\n",
    "\n",
    "# Plot the cross-validation accuracy for different k values\n",
    "plt.figure(figsize=(10, 6))\n",
    "plt.plot(param_grid['knn__n_neighbors'], cv_results['mean_test_score'], marker='o')\n",
    "plt.xlabel('Number of Neighbors K')\n",
    "plt.ylabel('Cross-Validation Accuracy')\n",
    "plt.title('KNN Cross-Validation Accuracy for Different K Values')\n",
    "plt.show()"
   ]
  },
  {
   "cell_type": "markdown",
   "metadata": {
    "id": "oAeAdkFZmB6-"
   },
   "source": [
    "**Note**: Ideally, you can use the optimal `k=7` to run knn to check if the results have improved or not"
   ]
  },
  {
   "cell_type": "markdown",
   "metadata": {
    "id": "xlRBtWXB0Uf3"
   },
   "source": [
    "## __Decision Tree__"
   ]
  },
  {
   "cell_type": "markdown",
   "metadata": {
    "id": "sJC2jTpZ0Ujj"
   },
   "source": [
    "A decision tree is a non-parametric supervised learning algorithm for classification and regression tasks.\n",
    "- It has a hierarchical tree structure consisting of a root node, branches, internal nodes, and leaf nodes.\n",
    "- Decision trees are used for classification and regression tasks, providing easy-to-understand models.\n",
    "\n",
    "http://www.r2d3.us/visual-intro-to-machine-learning-part-1/\n",
    "\n",
    "The following diagram demonstrates the different parts of a decision tree:\n",
    "\n",
    "<img src=\"https://labcontent.simplicdn.net/data-content/content-assets/Data_and_AI/ML/updated/Lesson_05/5.02node.png\" width=500 height=500 />\n",
    "\n",
    "- The tree-like structure consists of nodes, branches, and leaves.\n",
    "- A node represents a place where a question is asked or an attribute is selected.\n",
    "- The leaves represent the output or class label.\n",
    "\n",
    "- **Root Node:** This is the top node of the tree, from which the decision-making process begins. It represents the entire dataset and is split into two or more child nodes based on the feature that provides the best split.\n",
    "- **Decision Node:** These are intermediate nodes in the tree that represent a decision based on a feature's value. Each decision node splits the dataset into smaller subsets based on a specific feature and its value.\n",
    "- **Leaf Node:** These are the endpoints of the decision tree branches. They represent the final decision or outcome. A leaf node does not split further and contains the predicted outcome or class label."
   ]
  },
  {
   "cell_type": "markdown",
   "metadata": {
    "id": "lRHZ5TMHzaKE"
   },
   "source": [
    "Example: The following decision tree diagram represents the criteria for buying a car based on its color, model year, and mileage.\n",
    "\n",
    "<img src=\"https://labcontent.simplicdn.net/data-content/content-assets/Data_and_AI/ML/updated/Lesson_05/DT.png\" width=500 height=500 />\n"
   ]
  },
  {
   "cell_type": "markdown",
   "metadata": {
    "id": "JtAXZqAyPlhC"
   },
   "source": [
    "### __How Decision Trees Work__"
   ]
  },
  {
   "cell_type": "markdown",
   "metadata": {
    "id": "h2B6Yo6YPVoD"
   },
   "source": [
    "Creating a decision tree involves a series of steps aimed at systematically breaking down the dataset based on its features to achieve the best possible classification or prediction. Here's an overview of the process:\n",
    "\n",
    "- **Selecting the Best Attribute:** The first step is to choose the attribute that best splits the data using metrics such as *Gini impurity, entropy*, and *information gain*.\n",
    "\n",
    "- **Splitting the Dataset:** The dataset is then divided into subsets based on the values of the selected attribute.\n",
    "\n",
    "- **Repeating the Process:** This process is repeated recursively for each subset, creating new internal nodes or leaf nodes until a stopping criterion is met. This criterion can be that all instances in a node belong to the same class, or a predefined depth of the tree is reached."
   ]
  },
  {
   "cell_type": "markdown",
   "metadata": {
    "id": "86Gh_dxCP66e"
   },
   "source": [
    "### __Metrics for Splitting__"
   ]
  },
  {
   "cell_type": "markdown",
   "metadata": {
    "id": "7r9MQYgTQASA"
   },
   "source": [
    "- **Gini Impurity:** Gini impurity is a measure of the impurity or disorder in a set of elements, commonly used in decision tree algorithms. This metric measures the likelihood of incorrectly classifying a randomly chosen element if it was labeled according to the class distribution in the dataset.\n",
    "\n",
    "  It ranges from 0 (perfect purity) to 0.5 (maximum impurity in a binary classification problem). The formula is:\n",
    "\n",
    "\n",
    "$$ \\text{Gini} = 1 - \\sum_{i=1}^{n} (p_i)^2 $$\n",
    "\n",
    "\n",
    "  where 𝑝𝑖 is the probability of an instance being classified into class 𝑖\n",
    "\n",
    "\n",
    "- **Entropy:** Entropy quantifies the amount of uncertainty or impurity in the dataset. It is calculated as:\n",
    "\n",
    "$$\\text{Entropy} = - \\sum_{i=1}^{n} p_i \\log_2(p_i)$$\n",
    "\n",
    "\n",
    "  where 𝑝𝑖 is the probability of an instance being classified into class 𝑖\n",
    "\n",
    "\n",
    "- **Information Gain:** This metric measures the reduction in entropy or Gini impurity after the dataset is split on an attribute. It is given by:\n",
    "\n",
    "$$\n",
    "\\text{Information Gain} = \\text{Entropy(parent)} - \\sum_{i=1}^{n} \\left( \\frac{|D_i|}{|D|} \\times \\text{Entropy}(D_i) \\right)\n",
    "$$\n",
    "\n",
    "  where 𝐷𝑖 is the subset of 𝐷, after being split by an attribute"
   ]
  },
  {
   "cell_type": "markdown",
   "metadata": {
    "id": "XstBJzvWtf1d"
   },
   "source": [
    "### __Advantages of Decision Tree__"
   ]
  },
  {
   "cell_type": "markdown",
   "metadata": {
    "id": "QQ5IH3SQtf3F"
   },
   "source": [
    "- **Simplicity and Interpretability:** Decision trees are straightforward to understand and interpret. Their visual representation is intuitive and closely mimics human decision-making processes.\n",
    "- **Versatility:** They can be applied to both classification and regression tasks, making them highly versatile.\n",
    "- **No Need for Feature Scaling:** Decision trees inherently handle data without requiring normalization or scaling.\n",
    "- **Handles Non-linear Relationships:** They are capable of capturing and modeling complex non-linear relationships between features and the target variable."
   ]
  },
  {
   "cell_type": "markdown",
   "metadata": {
    "id": "xcKj_3dt0GJ2"
   },
   "source": [
    "### __Disadvantages of Decision Tree__"
   ]
  },
  {
   "cell_type": "markdown",
   "metadata": {
    "id": "xAVRmUegtf4q"
   },
   "source": [
    "- **Overfitting:** Decision trees can easily overfit the training data, particularly if they grow very deep with many nodes.\n",
    "- **Instability:** Small changes in the training data can result in significant differences in the structure of the tree, leading to instability.\n",
    "- **Bias towards Features with More Levels:** Attributes with a greater number of levels can disproportionately influence the tree structure, potentially leading to biased results."
   ]
  },
  {
   "cell_type": "markdown",
   "metadata": {
    "id": "49pNBvUf9ODc"
   },
   "source": [
    "## __4.5.3 Pruning__\n",
    "To address the issue of overfitting, decision trees can be pruned. Pruning involves removing parts of the tree that do not provide significant power in classifying instances. This can be done in two main ways:\n",
    "\n",
    "- **Pre-pruning (Early Stopping):** Halts the growth of the tree early based on a stopping criterion such as maximum depth or minimum number of samples required to split a node.\n",
    "\n",
    "- **Post-pruning:** First grows the full tree and then removes nodes that add little predictive power to reduce complexity and improve generalization."
   ]
  },
  {
   "cell_type": "markdown",
   "metadata": {
    "id": "6VYp08v8QR3R"
   },
   "source": [
    "## __4.5.4 Applying Decision Tree on Breast Cancer Dataset__\n"
   ]
  },
  {
   "cell_type": "code",
   "execution_count": 34,
   "metadata": {
    "colab": {
     "base_uri": "https://localhost:8080/"
    },
    "executionInfo": {
     "elapsed": 28,
     "status": "ok",
     "timestamp": 1718714544210,
     "user": {
      "displayName": "Vikas Singh",
      "userId": "04375885343580620832"
     },
     "user_tz": -330
    },
    "id": "UTbQ3KI9QYqi",
    "outputId": "0e55130c-7020-464d-8c6e-18fc071158d9"
   },
   "outputs": [
    {
     "name": "stdout",
     "output_type": "stream",
     "text": [
      "\n",
      "Decision Trees\n",
      "Training Accuracy: 1.0\n",
      "Testing Accuracy: 0.9473684210526315\n"
     ]
    }
   ],
   "source": [
    "#Import Required Libraries and apply decision tree\n",
    "from sklearn.tree import DecisionTreeClassifier\n",
    "\n",
    "pipeline = Pipeline([\n",
    "    ('scaler', StandardScaler()),   # Standardize the data\n",
    "    ('dt', DecisionTreeClassifier()) # Decision Tree classifier\n",
    "])\n",
    "pipeline.fit(x_train, y_train)\n",
    "\n",
    "# Predict on the training and testing set\n",
    "y_pred_train_dt = pipeline.predict(x_train)\n",
    "y_pred_test_dt = pipeline.predict(x_test)\n",
    "\n",
    "# Calculate training and testing accuracy\n",
    "training_accuracy = accuracy_score(y_train, y_pred_train_dt)\n",
    "testing_accuracy = accuracy_score(y_test, y_pred_test_dt)\n",
    "print(\"\\nDecision Trees\")\n",
    "print(f\"Training Accuracy: {training_accuracy}\")\n",
    "print(f\"Testing Accuracy: {testing_accuracy}\")\n",
    "\n",
    "y_pred_prob_dt = pipeline.predict_proba(x_test)[:, 1]\n"
   ]
  },
  {
   "cell_type": "code",
   "execution_count": 35,
   "metadata": {
    "colab": {
     "base_uri": "https://localhost:8080/",
     "height": 206
    },
    "executionInfo": {
     "elapsed": 25,
     "status": "ok",
     "timestamp": 1718714544210,
     "user": {
      "displayName": "Vikas Singh",
      "userId": "04375885343580620832"
     },
     "user_tz": -330
    },
    "id": "vNNQAwpdb6VL",
    "outputId": "9eabfcd3-01f0-48a2-9436-899a4decd426"
   },
   "outputs": [
    {
     "data": {
      "application/vnd.google.colaboratory.intrinsic+json": {
       "summary": "{\n  \"name\": \"results_df\",\n  \"rows\": 114,\n  \"fields\": [\n    {\n      \"column\": \"Actual Label\",\n      \"properties\": {\n        \"dtype\": \"number\",\n        \"std\": 0,\n        \"min\": 0,\n        \"max\": 1,\n        \"num_unique_values\": 2,\n        \"samples\": [\n          1,\n          0\n        ],\n        \"semantic_type\": \"\",\n        \"description\": \"\"\n      }\n    },\n    {\n      \"column\": \"Predicted Label\",\n      \"properties\": {\n        \"dtype\": \"number\",\n        \"std\": 0,\n        \"min\": 0,\n        \"max\": 1,\n        \"num_unique_values\": 2,\n        \"samples\": [\n          1,\n          0\n        ],\n        \"semantic_type\": \"\",\n        \"description\": \"\"\n      }\n    },\n    {\n      \"column\": \"Predicted Probability\",\n      \"properties\": {\n        \"dtype\": \"number\",\n        \"std\": 0.4868237470155733,\n        \"min\": 0.0,\n        \"max\": 1.0,\n        \"num_unique_values\": 2,\n        \"samples\": [\n          1.0,\n          0.0\n        ],\n        \"semantic_type\": \"\",\n        \"description\": \"\"\n      }\n    }\n  ]\n}",
       "type": "dataframe",
       "variable_name": "results_df"
      },
      "text/html": [
       "\n",
       "  <div id=\"df-62b1e830-ba4a-412e-a4db-5c957b49d25c\" class=\"colab-df-container\">\n",
       "    <div>\n",
       "<style scoped>\n",
       "    .dataframe tbody tr th:only-of-type {\n",
       "        vertical-align: middle;\n",
       "    }\n",
       "\n",
       "    .dataframe tbody tr th {\n",
       "        vertical-align: top;\n",
       "    }\n",
       "\n",
       "    .dataframe thead th {\n",
       "        text-align: right;\n",
       "    }\n",
       "</style>\n",
       "<table border=\"1\" class=\"dataframe\">\n",
       "  <thead>\n",
       "    <tr style=\"text-align: right;\">\n",
       "      <th></th>\n",
       "      <th>Actual Label</th>\n",
       "      <th>Predicted Label</th>\n",
       "      <th>Predicted Probability</th>\n",
       "    </tr>\n",
       "  </thead>\n",
       "  <tbody>\n",
       "    <tr>\n",
       "      <th>204</th>\n",
       "      <td>0</td>\n",
       "      <td>0</td>\n",
       "      <td>0.0</td>\n",
       "    </tr>\n",
       "    <tr>\n",
       "      <th>70</th>\n",
       "      <td>1</td>\n",
       "      <td>1</td>\n",
       "      <td>1.0</td>\n",
       "    </tr>\n",
       "    <tr>\n",
       "      <th>131</th>\n",
       "      <td>1</td>\n",
       "      <td>1</td>\n",
       "      <td>1.0</td>\n",
       "    </tr>\n",
       "    <tr>\n",
       "      <th>431</th>\n",
       "      <td>0</td>\n",
       "      <td>0</td>\n",
       "      <td>0.0</td>\n",
       "    </tr>\n",
       "    <tr>\n",
       "      <th>540</th>\n",
       "      <td>0</td>\n",
       "      <td>0</td>\n",
       "      <td>0.0</td>\n",
       "    </tr>\n",
       "  </tbody>\n",
       "</table>\n",
       "</div>\n",
       "    <div class=\"colab-df-buttons\">\n",
       "\n",
       "  <div class=\"colab-df-container\">\n",
       "    <button class=\"colab-df-convert\" onclick=\"convertToInteractive('df-62b1e830-ba4a-412e-a4db-5c957b49d25c')\"\n",
       "            title=\"Convert this dataframe to an interactive table.\"\n",
       "            style=\"display:none;\">\n",
       "\n",
       "  <svg xmlns=\"http://www.w3.org/2000/svg\" height=\"24px\" viewBox=\"0 -960 960 960\">\n",
       "    <path d=\"M120-120v-720h720v720H120Zm60-500h600v-160H180v160Zm220 220h160v-160H400v160Zm0 220h160v-160H400v160ZM180-400h160v-160H180v160Zm440 0h160v-160H620v160ZM180-180h160v-160H180v160Zm440 0h160v-160H620v160Z\"/>\n",
       "  </svg>\n",
       "    </button>\n",
       "\n",
       "  <style>\n",
       "    .colab-df-container {\n",
       "      display:flex;\n",
       "      gap: 12px;\n",
       "    }\n",
       "\n",
       "    .colab-df-convert {\n",
       "      background-color: #E8F0FE;\n",
       "      border: none;\n",
       "      border-radius: 50%;\n",
       "      cursor: pointer;\n",
       "      display: none;\n",
       "      fill: #1967D2;\n",
       "      height: 32px;\n",
       "      padding: 0 0 0 0;\n",
       "      width: 32px;\n",
       "    }\n",
       "\n",
       "    .colab-df-convert:hover {\n",
       "      background-color: #E2EBFA;\n",
       "      box-shadow: 0px 1px 2px rgba(60, 64, 67, 0.3), 0px 1px 3px 1px rgba(60, 64, 67, 0.15);\n",
       "      fill: #174EA6;\n",
       "    }\n",
       "\n",
       "    .colab-df-buttons div {\n",
       "      margin-bottom: 4px;\n",
       "    }\n",
       "\n",
       "    [theme=dark] .colab-df-convert {\n",
       "      background-color: #3B4455;\n",
       "      fill: #D2E3FC;\n",
       "    }\n",
       "\n",
       "    [theme=dark] .colab-df-convert:hover {\n",
       "      background-color: #434B5C;\n",
       "      box-shadow: 0px 1px 3px 1px rgba(0, 0, 0, 0.15);\n",
       "      filter: drop-shadow(0px 1px 2px rgba(0, 0, 0, 0.3));\n",
       "      fill: #FFFFFF;\n",
       "    }\n",
       "  </style>\n",
       "\n",
       "    <script>\n",
       "      const buttonEl =\n",
       "        document.querySelector('#df-62b1e830-ba4a-412e-a4db-5c957b49d25c button.colab-df-convert');\n",
       "      buttonEl.style.display =\n",
       "        google.colab.kernel.accessAllowed ? 'block' : 'none';\n",
       "\n",
       "      async function convertToInteractive(key) {\n",
       "        const element = document.querySelector('#df-62b1e830-ba4a-412e-a4db-5c957b49d25c');\n",
       "        const dataTable =\n",
       "          await google.colab.kernel.invokeFunction('convertToInteractive',\n",
       "                                                    [key], {});\n",
       "        if (!dataTable) return;\n",
       "\n",
       "        const docLinkHtml = 'Like what you see? Visit the ' +\n",
       "          '<a target=\"_blank\" href=https://colab.research.google.com/notebooks/data_table.ipynb>data table notebook</a>'\n",
       "          + ' to learn more about interactive tables.';\n",
       "        element.innerHTML = '';\n",
       "        dataTable['output_type'] = 'display_data';\n",
       "        await google.colab.output.renderOutput(dataTable, element);\n",
       "        const docLink = document.createElement('div');\n",
       "        docLink.innerHTML = docLinkHtml;\n",
       "        element.appendChild(docLink);\n",
       "      }\n",
       "    </script>\n",
       "  </div>\n",
       "\n",
       "\n",
       "<div id=\"df-cee55c3f-aff0-43a3-a876-ba0d849a401d\">\n",
       "  <button class=\"colab-df-quickchart\" onclick=\"quickchart('df-cee55c3f-aff0-43a3-a876-ba0d849a401d')\"\n",
       "            title=\"Suggest charts\"\n",
       "            style=\"display:none;\">\n",
       "\n",
       "<svg xmlns=\"http://www.w3.org/2000/svg\" height=\"24px\"viewBox=\"0 0 24 24\"\n",
       "     width=\"24px\">\n",
       "    <g>\n",
       "        <path d=\"M19 3H5c-1.1 0-2 .9-2 2v14c0 1.1.9 2 2 2h14c1.1 0 2-.9 2-2V5c0-1.1-.9-2-2-2zM9 17H7v-7h2v7zm4 0h-2V7h2v10zm4 0h-2v-4h2v4z\"/>\n",
       "    </g>\n",
       "</svg>\n",
       "  </button>\n",
       "\n",
       "<style>\n",
       "  .colab-df-quickchart {\n",
       "      --bg-color: #E8F0FE;\n",
       "      --fill-color: #1967D2;\n",
       "      --hover-bg-color: #E2EBFA;\n",
       "      --hover-fill-color: #174EA6;\n",
       "      --disabled-fill-color: #AAA;\n",
       "      --disabled-bg-color: #DDD;\n",
       "  }\n",
       "\n",
       "  [theme=dark] .colab-df-quickchart {\n",
       "      --bg-color: #3B4455;\n",
       "      --fill-color: #D2E3FC;\n",
       "      --hover-bg-color: #434B5C;\n",
       "      --hover-fill-color: #FFFFFF;\n",
       "      --disabled-bg-color: #3B4455;\n",
       "      --disabled-fill-color: #666;\n",
       "  }\n",
       "\n",
       "  .colab-df-quickchart {\n",
       "    background-color: var(--bg-color);\n",
       "    border: none;\n",
       "    border-radius: 50%;\n",
       "    cursor: pointer;\n",
       "    display: none;\n",
       "    fill: var(--fill-color);\n",
       "    height: 32px;\n",
       "    padding: 0;\n",
       "    width: 32px;\n",
       "  }\n",
       "\n",
       "  .colab-df-quickchart:hover {\n",
       "    background-color: var(--hover-bg-color);\n",
       "    box-shadow: 0 1px 2px rgba(60, 64, 67, 0.3), 0 1px 3px 1px rgba(60, 64, 67, 0.15);\n",
       "    fill: var(--button-hover-fill-color);\n",
       "  }\n",
       "\n",
       "  .colab-df-quickchart-complete:disabled,\n",
       "  .colab-df-quickchart-complete:disabled:hover {\n",
       "    background-color: var(--disabled-bg-color);\n",
       "    fill: var(--disabled-fill-color);\n",
       "    box-shadow: none;\n",
       "  }\n",
       "\n",
       "  .colab-df-spinner {\n",
       "    border: 2px solid var(--fill-color);\n",
       "    border-color: transparent;\n",
       "    border-bottom-color: var(--fill-color);\n",
       "    animation:\n",
       "      spin 1s steps(1) infinite;\n",
       "  }\n",
       "\n",
       "  @keyframes spin {\n",
       "    0% {\n",
       "      border-color: transparent;\n",
       "      border-bottom-color: var(--fill-color);\n",
       "      border-left-color: var(--fill-color);\n",
       "    }\n",
       "    20% {\n",
       "      border-color: transparent;\n",
       "      border-left-color: var(--fill-color);\n",
       "      border-top-color: var(--fill-color);\n",
       "    }\n",
       "    30% {\n",
       "      border-color: transparent;\n",
       "      border-left-color: var(--fill-color);\n",
       "      border-top-color: var(--fill-color);\n",
       "      border-right-color: var(--fill-color);\n",
       "    }\n",
       "    40% {\n",
       "      border-color: transparent;\n",
       "      border-right-color: var(--fill-color);\n",
       "      border-top-color: var(--fill-color);\n",
       "    }\n",
       "    60% {\n",
       "      border-color: transparent;\n",
       "      border-right-color: var(--fill-color);\n",
       "    }\n",
       "    80% {\n",
       "      border-color: transparent;\n",
       "      border-right-color: var(--fill-color);\n",
       "      border-bottom-color: var(--fill-color);\n",
       "    }\n",
       "    90% {\n",
       "      border-color: transparent;\n",
       "      border-bottom-color: var(--fill-color);\n",
       "    }\n",
       "  }\n",
       "</style>\n",
       "\n",
       "  <script>\n",
       "    async function quickchart(key) {\n",
       "      const quickchartButtonEl =\n",
       "        document.querySelector('#' + key + ' button');\n",
       "      quickchartButtonEl.disabled = true;  // To prevent multiple clicks.\n",
       "      quickchartButtonEl.classList.add('colab-df-spinner');\n",
       "      try {\n",
       "        const charts = await google.colab.kernel.invokeFunction(\n",
       "            'suggestCharts', [key], {});\n",
       "      } catch (error) {\n",
       "        console.error('Error during call to suggestCharts:', error);\n",
       "      }\n",
       "      quickchartButtonEl.classList.remove('colab-df-spinner');\n",
       "      quickchartButtonEl.classList.add('colab-df-quickchart-complete');\n",
       "    }\n",
       "    (() => {\n",
       "      let quickchartButtonEl =\n",
       "        document.querySelector('#df-cee55c3f-aff0-43a3-a876-ba0d849a401d button');\n",
       "      quickchartButtonEl.style.display =\n",
       "        google.colab.kernel.accessAllowed ? 'block' : 'none';\n",
       "    })();\n",
       "  </script>\n",
       "</div>\n",
       "\n",
       "    </div>\n",
       "  </div>\n"
      ],
      "text/plain": [
       "     Actual Label  Predicted Label  Predicted Probability\n",
       "204             0                0                    0.0\n",
       "70              1                1                    1.0\n",
       "131             1                1                    1.0\n",
       "431             0                0                    0.0\n",
       "540             0                0                    0.0"
      ]
     },
     "execution_count": 35,
     "metadata": {},
     "output_type": "execute_result"
    }
   ],
   "source": [
    "results_df = pd.DataFrame({\n",
    "    'Actual Label': y_test,\n",
    "    'Predicted Label': y_pred_test_dt,\n",
    "    'Predicted Probability': y_pred_prob_dt\n",
    "})\n",
    "\n",
    "results_df.head()"
   ]
  },
  {
   "cell_type": "markdown",
   "metadata": {
    "id": "4GaD3xrAqusZ"
   },
   "source": [
    "### __Observation:__\n",
    "- Training accuracy indicates that the decision tree model perfectly classifies the training data. This is a strong indicator of overfitting, where the model is too complex and captures noise in the training data, resulting in perfect accuracy.\n",
    "- The testing accuracy, while still high, is lower than the training accuracy. This difference indicates that the model does not generalize as well to unseen data as it does to the training data, reinforcing the possibility of overfitting."
   ]
  },
  {
   "cell_type": "markdown",
   "metadata": {
    "id": "UyGqAr8WrWZK"
   },
   "source": [
    "When there is a significant difference between training and testing accuracy (as seen with training accuracy at 1.0 and testing accuracy at 92%), it suggests that the model might be overfitting to the training data. Cross-validation helps confirm this by showing how the model performs on different subsets of the data.\n",
    "\n",
    "- The primary goal of cross-validation is to assess how well the model generalizes to independent datasets. A model that performs well on cross-validation is more likely to generalize well to new, unseen data.\n",
    "\n",
    "- Cross-validation helps in understanding the stability of the model’s performance. If the cross-validation scores vary significantly, it indicates that the model's performance is inconsistent and may depend heavily on the specific train-test split."
   ]
  },
  {
   "cell_type": "markdown",
   "metadata": {
    "id": "hXN_sq4zfH--"
   },
   "source": [
    "**Using cross_val_score with the pipeline and training data**\n",
    "\n",
    "When using a pipeline, `cross_val_score` ensures that all steps in the pipeline (like scaling and model fitting) are applied consistently during each fold of the cross-validation process."
   ]
  },
  {
   "cell_type": "code",
   "execution_count": 36,
   "metadata": {
    "colab": {
     "base_uri": "https://localhost:8080/"
    },
    "executionInfo": {
     "elapsed": 24,
     "status": "ok",
     "timestamp": 1718714544210,
     "user": {
      "displayName": "Vikas Singh",
      "userId": "04375885343580620832"
     },
     "user_tz": -330
    },
    "id": "Mc6iTDbDKcQs",
    "outputId": "39b84166-7961-46dc-e857-5930eee325ce"
   },
   "outputs": [
    {
     "name": "stdout",
     "output_type": "stream",
     "text": [
      "Cross-Validation Scores: [0.9010989  0.91208791 0.93406593 0.91208791 0.92307692]\n",
      "Mean CV Score: 0.9164835164835164\n"
     ]
    }
   ],
   "source": [
    "from sklearn.model_selection import cross_val_score\n",
    "cv_scores = cross_val_score(pipeline, x_train, y_train, cv=5)\n",
    "print(f\"Cross-Validation Scores: {cv_scores}\")\n",
    "print(f\"Mean CV Score: {cv_scores.mean()}\")"
   ]
  },
  {
   "cell_type": "markdown",
   "metadata": {
    "id": "ODJBv5YosIgW"
   },
   "source": [
    "-  The cross-validation scores are relatively consistent, with accuracies ranging from approximately 91.21% to 94.51%. This consistency indicates that the model is robust and performs well across different subsets of the data.\n",
    "\n",
    "- The mean cross-validation score of approximately 92.31% suggests that the model generalizes well to unseen data, providing a reliable measure of its performance.\n",
    "\n",
    "- Using cross-validation helps ensure that the performance estimate is not overly optimistic or pessimistic, giving a balanced view of the model's effectiveness."
   ]
  },
  {
   "cell_type": "code",
   "execution_count": 37,
   "metadata": {
    "colab": {
     "base_uri": "https://localhost:8080/",
     "height": 504
    },
    "executionInfo": {
     "elapsed": 1273,
     "status": "ok",
     "timestamp": 1718714545461,
     "user": {
      "displayName": "Vikas Singh",
      "userId": "04375885343580620832"
     },
     "user_tz": -330
    },
    "id": "QDSBupA1SFg2",
    "outputId": "e845fe34-c7a5-4f30-8f1d-4d0bbce59ad7"
   },
   "outputs": [
    {
     "name": "stdout",
     "output_type": "stream",
     "text": [
      "Confusion Matrix:\n",
      "[[68  3]\n",
      " [ 3 40]]\n"
     ]
    },
    {
     "data": {
      "image/png": "[encoded data removed]",
      "text/plain": [
       "<Figure size 640x480 with 2 Axes>"
      ]
     },
     "metadata": {},
     "output_type": "display_data"
    }
   ],
   "source": [
    "from sklearn.metrics import classification_report, confusion_matrix, roc_curve, auc\n",
    "from sklearn.metrics import ConfusionMatrixDisplay\n",
    "\n",
    "# Print confusion matrix\n",
    "conf_matrix_dt = confusion_matrix(y_test, y_pred_test_dt)\n",
    "print(\"Confusion Matrix:\")\n",
    "print(conf_matrix_dt)\n",
    "\n",
    "cm_display = ConfusionMatrixDisplay(confusion_matrix = conf_matrix_dt, display_labels = [\"benign\", \"malignant\"])\n",
    "# display matrix\n",
    "cm_display.plot()\n",
    "plt.show()\n"
   ]
  },
  {
   "cell_type": "markdown",
   "metadata": {
    "id": "SoQK9AdChlfQ"
   },
   "source": [
    "**True Positives (TP)**: The model correctly predicted 39 instances as malignant when they were indeed malignant.\n",
    "\n",
    "**True Negatives (TN)**: The model correctly predicted 67 instances as benign when they were indeed benign.\n",
    "\n",
    "**False Positives (FP)**: The model incorrectly predicted 4 instances as malignant when they were actually benign. This is a type I error.\n",
    "\n",
    "**False Negatives (FN)**: The model incorrectly predicted 4 instances as benign when they were actually malignant. This is a type II error.\n"
   ]
  },
  {
   "cell_type": "code",
   "execution_count": 38,
   "metadata": {
    "colab": {
     "base_uri": "https://localhost:8080/"
    },
    "executionInfo": {
     "elapsed": 28,
     "status": "ok",
     "timestamp": 1718714545462,
     "user": {
      "displayName": "Vikas Singh",
      "userId": "04375885343580620832"
     },
     "user_tz": -330
    },
    "id": "m1pgu1I8hX1x",
    "outputId": "969d8089-2866-486b-8ada-26fec884add5"
   },
   "outputs": [
    {
     "name": "stdout",
     "output_type": "stream",
     "text": [
      "Decision Trees Classification Report:\n",
      "              precision    recall  f1-score   support\n",
      "\n",
      "           0       0.96      0.96      0.96        71\n",
      "           1       0.93      0.93      0.93        43\n",
      "\n",
      "    accuracy                           0.95       114\n",
      "   macro avg       0.94      0.94      0.94       114\n",
      "weighted avg       0.95      0.95      0.95       114\n",
      "\n"
     ]
    }
   ],
   "source": [
    "# Print classification report\n",
    "print(\"Decision Trees Classification Report:\")\n",
    "print(classification_report(y_test, y_pred_test_dt))"
   ]
  },
  {
   "cell_type": "markdown",
   "metadata": {
    "id": "Y1VEGezuiKmb"
   },
   "source": [
    "#### __Observation__\n",
    "\n",
    "**Decision Trees Classification Report**\n",
    "\n",
    "The classification report provides a detailed performance evaluation of the Decision Tree classifier on the test dataset. It includes various metrics: precision, recall, F1-score, and support for each class, along with overall metrics such as accuracy, macro average, and weighted average.\n",
    "\n",
    "**Metrics for Each Class:**\n",
    "\n",
    "**Class 0 (Benign):**\n",
    "- **Precision: 0.94**\n",
    "  - **Meaning**: Of all the instances predicted as class 0, 94% were correctly classified. Precision measures the accuracy of the positive predictions.\n",
    "- **Recall: 0.94**\n",
    "  - **Meaning**: Of all the actual instances of class 0, 94% were correctly identified by the model. Recall measures the model's ability to find all the relevant cases within a class.\n",
    "- **F1-Score: 0.94**\n",
    "  - **Meaning**: The F1-score is the harmonic mean of precision and recall. An F1-score of 0.94 indicates a good balance between precision and recall for class 0.\n",
    "- **Support: 71**\n",
    "  - **Meaning**: There are 71 instances of class 0 in the test dataset.\n",
    "\n",
    "**Class 1 (Malignant):**\n",
    "- **Precision: 0.91**\n",
    "  - **Meaning**: Of all the instances predicted as class 1, 91% were correctly classified.\n",
    "- **Recall: 0.91**\n",
    "  - **Meaning**: Of all the actual instances of class 1, 91% were correctly identified by the model.\n",
    "- **F1-Score: 0.91**\n",
    "  - **Meaning**: An F1-score of 0.91 indicates a good balance between precision and recall for class 1.\n",
    "- **Support: 43**\n",
    "  - **Meaning**: There are 43 instances of class 1 in the test dataset.\n",
    "\n",
    "**Overall Metrics:**\n",
    "\n",
    "- **Accuracy: 0.93**\n",
    "  - **Meaning**: The overall accuracy of the model is 93%, indicating that 93% of the total instances in the test dataset were correctly classified by the model.\n",
    "\n",
    "**Macro Average:**\n",
    "- **Precision: 0.93**\n",
    "- **Recall: 0.93**\n",
    "- **F1-Score: 0.93**\n",
    "  \n",
    "\n",
    "**Weighted Average:**\n",
    "- **Precision: 0.93**\n",
    "- **Recall: 0.93**\n",
    "- **F1-Score: 0.93**\n",
    "  \n"
   ]
  },
  {
   "cell_type": "code",
   "execution_count": 39,
   "metadata": {
    "colab": {
     "base_uri": "https://localhost:8080/",
     "height": 582
    },
    "executionInfo": {
     "elapsed": 25,
     "status": "ok",
     "timestamp": 1718714545462,
     "user": {
      "displayName": "Vikas Singh",
      "userId": "04375885343580620832"
     },
     "user_tz": -330
    },
    "id": "VUruXTLKkFe-",
    "outputId": "9244dff9-17d3-4390-b3b6-0d67120d6153"
   },
   "outputs": [
    {
     "name": "stdout",
     "output_type": "stream",
     "text": [
      "Optimal Threshold: 1.0000\n"
     ]
    },
    {
     "data": {
      "image/png": "[encoded data removed]",
      "text/plain": [
       "<Figure size 800x600 with 1 Axes>"
      ]
     },
     "metadata": {},
     "output_type": "display_data"
    }
   ],
   "source": [
    "# Compute ROC curve and AUC\n",
    "fpr, tpr, thresholds = roc_curve(y_test, y_pred_prob_dt)\n",
    "roc_auc = auc(fpr, tpr)\n",
    "\n",
    "# Compute Youden's J statistic for each threshold\n",
    "youden_j = tpr - fpr\n",
    "optimal_threshold_index = np.argmax(youden_j)\n",
    "optimal_threshold = thresholds[optimal_threshold_index]\n",
    "\n",
    "print(f\"Optimal Threshold: {optimal_threshold:.4f}\")\n",
    "\n",
    "# Plot ROC curve with the optimal threshold marked\n",
    "plt.figure(figsize=(8, 6))\n",
    "plt.plot(fpr, tpr, color='blue', lw=2, label=f'ROC curve (area = {roc_auc:.2f})')\n",
    "plt.scatter(fpr[optimal_threshold_index], tpr[optimal_threshold_index], color='red', marker='o', label=f'Optimal Threshold = {optimal_threshold:.4f}')\n",
    "plt.plot([0, 1], [0, 1], color='grey', lw=2, linestyle='--')\n",
    "plt.xlim([0.0, 1.0])\n",
    "plt.ylim([0.0, 1.05])\n",
    "plt.xlabel('False Positive Rate')\n",
    "plt.ylabel('True Positive Rate')\n",
    "plt.title('Receiver Operating Characteristic (ROC) Curve')\n",
    "plt.legend(loc='lower right')\n",
    "plt.show()"
   ]
  },
  {
   "cell_type": "markdown",
   "metadata": {
    "id": "HWR2hv-LkYY1"
   },
   "source": [
    "#### __Observation__\n",
    "\n",
    "- High AUC: The AUC of 0.93 demonstrates that the Decision Tree model has a strong ability to differentiate between the positive and negative classes.\n",
    "\n",
    "- Optimal Threshold: The optimal threshold of 1.0000 is identified as the point that maximizes the model's effectiveness in distinguishing between classes, balancing the trade-offs between TPR and FPR."
   ]
  },
  {
   "cell_type": "markdown",
   "metadata": {
    "id": "2CnTAwYyuNrM"
   },
   "source": [
    "### __Pruning of Decision tree:__\n",
    "\n",
    " - By pruning a decision tree, we aim to improve the generalization of the model, thereby avoiding overfitting.\n",
    "\n",
    "- Let's apply pruning to the decision tree and then evaluate the model's performance:"
   ]
  },
  {
   "cell_type": "markdown",
   "metadata": {
    "id": "fR1SSOe2mcB2"
   },
   "source": [
    "- `ccp_alpha` in `DecisionTreeClassifier` is the complexity parameter used for Minimal Cost-Complexity Pruning.\n",
    "- This parameter controls the amount of pruning applied. Higher values of ccp_alpha result in more pruning."
   ]
  },
  {
   "cell_type": "code",
   "execution_count": 40,
   "metadata": {
    "colab": {
     "base_uri": "https://localhost:8080/"
    },
    "executionInfo": {
     "elapsed": 22,
     "status": "ok",
     "timestamp": 1718714545463,
     "user": {
      "displayName": "Vikas Singh",
      "userId": "04375885343580620832"
     },
     "user_tz": -330
    },
    "id": "H2B9mWTQmVw2",
    "outputId": "6f9f88e4-a9a8-4ec2-945d-52a54c6eaa26"
   },
   "outputs": [
    {
     "name": "stdout",
     "output_type": "stream",
     "text": [
      "Cross-Validation Scores (Pruned): [0.92307692 0.91208791 0.94505495 0.93406593 0.93406593]\n",
      "Mean CV Score (Pruned): 0.9296703296703297\n",
      "\n",
      "Pruned Decision Trees\n",
      "Training Accuracy: 0.9802197802197802\n",
      "Testing Accuracy: 0.956140350877193\n"
     ]
    }
   ],
   "source": [
    "# Create a pipeline with a standard scaler and a pruned decision tree classifier\n",
    "pipeline_pruned = Pipeline([\n",
    "    ('scaler', StandardScaler()),  # Standardize the data\n",
    "    ('dt', DecisionTreeClassifier(ccp_alpha=0.01, random_state=42))  # Pruned Decision Tree classifier\n",
    "])\n",
    "\n",
    "# Perform cross-validation\n",
    "cv_scores_pruned = cross_val_score(pipeline_pruned, x_train, y_train, cv=5)  # 5-fold cross-validation\n",
    "print(f\"Cross-Validation Scores (Pruned): {cv_scores_pruned}\")\n",
    "print(f\"Mean CV Score (Pruned): {cv_scores_pruned.mean()}\")\n",
    "\n",
    "# Train the pruned pipeline on the training data\n",
    "pipeline_pruned.fit(x_train, y_train)\n",
    "\n",
    "# Predict on the training and testing set\n",
    "y_pred_train_dt_pruned = pipeline_pruned.predict(x_train)\n",
    "y_pred_test_dt_pruned = pipeline_pruned.predict(x_test)\n",
    "\n",
    "# Calculate training and testing accuracy for the pruned model\n",
    "training_accuracy_pruned = accuracy_score(y_train, y_pred_train_dt_pruned)\n",
    "testing_accuracy_pruned = accuracy_score(y_test, y_pred_test_dt_pruned)\n",
    "print(\"\\nPruned Decision Trees\")\n",
    "print(f\"Training Accuracy: {training_accuracy_pruned}\")\n",
    "print(f\"Testing Accuracy: {testing_accuracy_pruned}\")"
   ]
  },
  {
   "cell_type": "code",
   "execution_count": 41,
   "metadata": {
    "executionInfo": {
     "elapsed": 19,
     "status": "ok",
     "timestamp": 1718714545463,
     "user": {
      "displayName": "Vikas Singh",
      "userId": "04375885343580620832"
     },
     "user_tz": -330
    },
    "id": "hqugN2kNnE2D"
   },
   "outputs": [],
   "source": [
    "# Predict probabilities for ROC-AUC calculation\n",
    "y_pred_prob_dt_pruned = pipeline_pruned.predict_proba(x_test)[:, 1]"
   ]
  },
  {
   "cell_type": "code",
   "execution_count": 42,
   "metadata": {
    "colab": {
     "base_uri": "https://localhost:8080/"
    },
    "executionInfo": {
     "elapsed": 18,
     "status": "ok",
     "timestamp": 1718714545463,
     "user": {
      "displayName": "Vikas Singh",
      "userId": "04375885343580620832"
     },
     "user_tz": -330
    },
    "id": "dBK65b_onMrL",
    "outputId": "3509fadd-9866-4c5d-fa59-4e26f03775e6"
   },
   "outputs": [
    {
     "name": "stdout",
     "output_type": "stream",
     "text": [
      "Confusion Matrix (Pruned):\n",
      "[[69  2]\n",
      " [ 3 40]]\n",
      "Pruned Decision Trees Classification Report:\n",
      "              precision    recall  f1-score   support\n",
      "\n",
      "           0       0.96      0.97      0.97        71\n",
      "           1       0.95      0.93      0.94        43\n",
      "\n",
      "    accuracy                           0.96       114\n",
      "   macro avg       0.96      0.95      0.95       114\n",
      "weighted avg       0.96      0.96      0.96       114\n",
      "\n"
     ]
    }
   ],
   "source": [
    "# Print confusion matrix and classification report\n",
    "conf_matrix_pruned = confusion_matrix(y_test, y_pred_test_dt_pruned)\n",
    "print(\"Confusion Matrix (Pruned):\")\n",
    "print(conf_matrix_pruned)\n",
    "\n",
    "print(\"Pruned Decision Trees Classification Report:\")\n",
    "print(classification_report(y_test, y_pred_test_dt_pruned))"
   ]
  },
  {
   "cell_type": "code",
   "execution_count": 43,
   "metadata": {
    "colab": {
     "base_uri": "https://localhost:8080/",
     "height": 582
    },
    "executionInfo": {
     "elapsed": 16,
     "status": "ok",
     "timestamp": 1718714545463,
     "user": {
      "displayName": "Vikas Singh",
      "userId": "04375885343580620832"
     },
     "user_tz": -330
    },
    "id": "waE0y5CMnYLC",
    "outputId": "f6fa5940-260a-4249-e6e3-37444eb98390"
   },
   "outputs": [
    {
     "name": "stdout",
     "output_type": "stream",
     "text": [
      "Optimal Threshold (Pruned): 0.8462\n"
     ]
    },
    {
     "data": {
      "image/png": "[encoded data removed]",
      "text/plain": [
       "<Figure size 800x600 with 1 Axes>"
      ]
     },
     "metadata": {},
     "output_type": "display_data"
    }
   ],
   "source": [
    "fpr_pruned, tpr_pruned, thresholds_pruned = roc_curve(y_test, y_pred_prob_dt_pruned)\n",
    "roc_auc_pruned = auc(fpr_pruned, tpr_pruned)\n",
    "\n",
    "# Compute Youden's J statistic for each threshold\n",
    "youden_j_pruned = tpr_pruned - fpr_pruned\n",
    "optimal_threshold_index_pruned = np.argmax(youden_j_pruned)\n",
    "optimal_threshold_pruned = thresholds_pruned[optimal_threshold_index_pruned]\n",
    "\n",
    "print(f\"Optimal Threshold (Pruned): {optimal_threshold_pruned:.4f}\")\n",
    "\n",
    "# Plot ROC curve with the optimal threshold marked for the pruned model\n",
    "plt.figure(figsize=(8, 6))\n",
    "plt.plot(fpr_pruned, tpr_pruned, color='blue', lw=2, label=f'ROC curve (area = {roc_auc_pruned:.2f})')\n",
    "plt.scatter(fpr_pruned[optimal_threshold_index_pruned], tpr_pruned[optimal_threshold_index_pruned], color='red', marker='o', label=f'Optimal Threshold = {optimal_threshold_pruned:.4f}')\n",
    "plt.plot([0, 1], [0, 1], color='grey', lw=2, linestyle='--')\n",
    "plt.xlim([0.0, 1.0])\n",
    "plt.ylim([0.0, 1.05])\n",
    "plt.xlabel('False Positive Rate')\n",
    "plt.ylabel('True Positive Rate')\n",
    "plt.title('Receiver Operating Characteristic (ROC) Curve (Pruned)')\n",
    "plt.legend(loc='lower right')\n",
    "plt.show()"
   ]
  },
  {
   "cell_type": "markdown",
   "metadata": {
    "id": "du3eACWAvFuu"
   },
   "source": [
    "### __Observation:__\n",
    "\n",
    "- Pruning the decision tree has successfully reduced overfitting, as indicated by the reduced training accuracy and improved testing accuracy.\n",
    "- The pruned model shows more consistent cross-validation performance, indicating better stability and generalization.\n",
    "- The overall classification metrics remain high, demonstrating that the pruned model maintains strong performance while avoiding the pitfalls of overfitting."
   ]
  },
  {
   "cell_type": "markdown",
   "metadata": {
    "id": "hRTV0MzcqUGq"
   },
   "source": [
    "### __4.5.5 Hyperparameter Tuning in Decision Tree__:\n",
    "\n",
    "Hyperparameter tuning is a critical step in optimizing the performance of a Decision Tree model. The process involves selecting the best set of hyperparameters that maximize the model's performance. Here’s an overview of key hyperparameters in a Decision Tree, their impact, and common tuning techniques:\n",
    "\n",
    "**Key Hyperparameters:**\n",
    "\n",
    "1. **max_depth:**\n",
    "The maximum depth of the tree. It controls the maximum number of splits from the root to a leaf.\n",
    "\n",
    "  Impact: Limiting the depth can prevent overfitting (by reducing the model complexity) and underfitting (by ensuring the tree is deep enough to capture the data patterns).\n",
    "\n",
    "2. **min_samples_split:**\n",
    "The minimum number of samples required to split an internal node.\n",
    "\n",
    "  Impact: Higher values prevent the model from learning overly specific patterns (overfitting) by requiring a minimum number of samples to make a split.\n",
    "\n",
    "3. **min_samples_leaf:**\n",
    "The minimum number of samples required to be at a leaf node.\n",
    "\n",
    "  Impact: Setting this parameter can ensure that leaf nodes have enough samples to represent meaningful data patterns.\n",
    "\n",
    "4. **max_features:**\n",
    "The number of features to consider when looking for the best split.\n",
    "\n",
    "  Impact: Reducing the number of features considered can reduce overfitting and computation time, but too few features might miss important information.\n",
    "\n",
    "5. **ccp_alpha:**\n",
    "Complexity parameter used for Minimal Cost-Complexity Pruning. It controls the amount of pruning applied.\n",
    "\n",
    "  Impact: Higher values of ccp_alpha result in more pruning, which can simplify the model and reduce overfitting.\n",
    "\n",
    "6. **criterion:**\n",
    "The function to measure the quality of a split (e.g., \"gini\" for Gini impurity and \"entropy\" for Information Gain).\n",
    "\n",
    "  Impact: The choice of criterion can influence the tree structure and performance"
   ]
  },
  {
   "cell_type": "markdown",
   "metadata": {
    "id": "9Vn567K9rbOM"
   },
   "source": [
    "**Hyperparameter Tuning Techniques:**\n",
    "\n",
    "1. **Grid Search:** An exhaustive search over a specified parameter grid.\n",
    "\n",
    "  **Implementation:** Using GridSearchCV in scikit-learn to evaluate all combinations of hyperparameter values.\n",
    "\n",
    "\n",
    "2. **Random Search:** A random search over a specified parameter grid.\n",
    "\n",
    "  **Implementation:** Using RandomizedSearchCV in scikit-learn to sample a fixed number of parameter settings from the specified grid."
   ]
  },
  {
   "cell_type": "markdown",
   "metadata": {
    "id": "9rNrqT8WDAoP"
   },
   "source": [
    "#### __Implementation of hyperparameter tuning using Grid Search Technique:__"
   ]
  },
  {
   "cell_type": "markdown",
   "metadata": {
    "id": "NHYmVrXnAiLt"
   },
   "source": [
    "**Explanation of `param_grid` for performing GridSearchcv:**\n",
    "\n",
    "- **'dt__max_depth'**:\n",
    "  - **Values**: `[None, 10, 20, 30]`\n",
    "  - **Meaning**: The maximum depth of the decision tree. If `None`, the nodes are expanded until all leaves are pure or until all leaves contain less than `min_samples_split` samples. Specific values (10, 20, 30) limit the depth of the tree to control its complexity and prevent overfitting.\n",
    "\n",
    "- **'dt__min_samples_split'**:\n",
    "  - **Values**: `[2, 5, 10]`\n",
    "  - **Meaning**: The minimum number of samples required to split an internal node. Higher values prevent the model from learning overly specific patterns by requiring more samples for a split.\n",
    "\n",
    "- **'dt__min_samples_leaf'**:\n",
    "  - **Values**: `[1, 2, 4]`\n",
    "  - **Meaning**: The minimum number of samples required to be at a leaf node. This parameter ensures that leaf nodes have a minimum number of samples, which helps prevent overfitting.\n",
    "\n",
    "- **'dt__max_features'**:\n",
    "  - **Values**: `[None, 'sqrt', 'log2']`\n",
    "  - **Meaning**: The number of features to consider when looking for the best split:\n",
    "    - `None`: Consider all features.\n",
    "    - `'sqrt'`: Consider the square root of the total number of features.\n",
    "    - `'log2'`: Consider the base-2 logarithm of the total number of features.\n",
    "  - This parameter helps to reduce overfitting by considering fewer features.\n",
    "\n",
    "- **'dt__ccp_alpha'**:\n",
    "  - **Values**: `[0.0, 0.01, 0.1]`\n",
    "  - **Meaning**: Complexity parameter used for Minimal Cost-Complexity Pruning. It controls the amount of pruning applied:\n",
    "    - `0.0`: No pruning.\n",
    "    - `0.01` and `0.1`: Apply pruning with increasing intensity, potentially reducing model complexity and preventing overfitting.\n",
    "\n",
    "**Purpose:**\n",
    "\n",
    "The `param_grid` dictionary is used by `GridSearchCV` to perform an exhaustive search over these hyperparameter values. `GridSearchCV` will train the model for each combination of the specified hyperparameters and evaluate their performance using cross-validation."
   ]
  },
  {
   "cell_type": "code",
   "execution_count": 44,
   "metadata": {
    "colab": {
     "base_uri": "https://localhost:8080/"
    },
    "executionInfo": {
     "elapsed": 17048,
     "status": "ok",
     "timestamp": 1718714562499,
     "user": {
      "displayName": "Vikas Singh",
      "userId": "04375885343580620832"
     },
     "user_tz": -330
    },
    "id": "CW5TGQONAAm_",
    "outputId": "4087a22b-810e-4b13-ee8c-e364e58ce179"
   },
   "outputs": [
    {
     "name": "stdout",
     "output_type": "stream",
     "text": [
      "Best Parameters: {'dt__ccp_alpha': 0.0, 'dt__max_depth': None, 'dt__max_features': 'log2', 'dt__min_samples_leaf': 1, 'dt__min_samples_split': 2}\n",
      "Best Cross-Validation Score: 0.9406593406593406\n",
      "Testing Accuracy: 0.956140350877193\n"
     ]
    }
   ],
   "source": [
    "from sklearn.model_selection import GridSearchCV\n",
    "\n",
    "pipeline = Pipeline([\n",
    "    ('scaler', StandardScaler()),  # Standardize the data\n",
    "    ('dt', DecisionTreeClassifier(random_state=42))  # Decision Tree classifier\n",
    "])\n",
    "\n",
    "# Define the parameter grid for GridSearchCV\n",
    "param_grid = {\n",
    "    'dt__max_depth': [None, 10, 20, 30],\n",
    "    'dt__min_samples_split': [2, 5, 10],\n",
    "    'dt__min_samples_leaf': [1, 2, 4],\n",
    "    'dt__max_features': [None, 'sqrt', 'log2'],\n",
    "    'dt__ccp_alpha': [0.0, 0.01, 0.1]\n",
    "}\n",
    "\n",
    "# Initialize GridSearchCV\n",
    "grid_search = GridSearchCV(pipeline, param_grid, cv=5, scoring='accuracy')\n",
    "\n",
    "# Perform Grid Search\n",
    "grid_search.fit(x_train, y_train)\n",
    "\n",
    "# Print the best parameters and the corresponding score\n",
    "print(f\"Best Parameters: {grid_search.best_params_}\")\n",
    "print(f\"Best Cross-Validation Score: {grid_search.best_score_}\")\n",
    "\n",
    "# Predict on the testing set with the best estimator\n",
    "y_pred = grid_search.best_estimator_.predict(x_test)\n",
    "\n",
    "# Calculate and print the testing accuracy\n",
    "testing_accuracy = accuracy_score(y_test, y_pred)\n",
    "print(f\"Testing Accuracy: {testing_accuracy}\")"
   ]
  },
  {
   "cell_type": "markdown",
   "metadata": {
    "id": "fcqygBLFHD7M"
   },
   "source": [
    "##__4.6 Support Vector Machine (SVM)__##\n"
   ]
  },
  {
   "cell_type": "markdown",
   "metadata": {
    "id": "3b6Ujv3aJjB7"
   },
   "source": [
    "It is a supervised machine-learning algorithm used for both classification and regression challenges. It is mainly utilized for classification-related problems.\n",
    "\n"
   ]
  },
  {
   "cell_type": "markdown",
   "metadata": {
    "id": "gqEhSRoLJjPB"
   },
   "source": [
    "* In support vector machine, the required straight line to fit the data is called the hyperplane.\n",
    "* The goal of the Support Vector Machine algorithm is to find a hyperplane in an n-dimensional space that distinctly classifies the data points.\n",
    "* The closest data points to the hyperplane on either side are called Support Vectors.\n",
    "* These support vectors influence the position and orientation of the hyperplane, aiding in the construction of the SVM.\n"
   ]
  },
  {
   "cell_type": "markdown",
   "metadata": {
    "id": "-CzU0WLcLc91"
   },
   "source": [
    "![link text](https://labcontent.simplicdn.net/data-content/content-assets/Data_and_AI/ML/updated/Lesson_05/SVM.png)"
   ]
  },
  {
   "cell_type": "markdown",
   "metadata": {
    "id": "cIJzTwN3LyEh"
   },
   "source": [
    "**There are two types of support vector machines:**\n",
    "\n",
    "- **Linear SVM** separates the data in a linear format.\n",
    "If the data set is separated into two using a straight line, the data is linearly separable.\n"
   ]
  },
  {
   "cell_type": "markdown",
   "metadata": {
    "id": "EGRhB0X2LyId"
   },
   "source": [
    "- **Nonlinear SVM** is used when data is nonlinearly separated. If the dataset cannot be separated into two using a straight line, the data is nonlinear.\n"
   ]
  },
  {
   "cell_type": "markdown",
   "metadata": {
    "id": "ssulpegMHD9i"
   },
   "source": [
    "## __4.6.1 Applying SVM on Breast Cancer Dataset__"
   ]
  },
  {
   "cell_type": "code",
   "execution_count": 45,
   "metadata": {
    "colab": {
     "base_uri": "https://localhost:8080/"
    },
    "executionInfo": {
     "elapsed": 32,
     "status": "ok",
     "timestamp": 1718714562499,
     "user": {
      "displayName": "Vikas Singh",
      "userId": "04375885343580620832"
     },
     "user_tz": -330
    },
    "id": "aWMi1uQsE7t7",
    "outputId": "11f653fb-e136-4014-b2f9-6f8d4d13005a"
   },
   "outputs": [
    {
     "name": "stdout",
     "output_type": "stream",
     "text": [
      "\n",
      "Support Vector Machines (SVM)\n",
      "Training Accuracy: 0.989010989010989\n",
      "Testing Accuracy: 0.9824561403508771\n"
     ]
    }
   ],
   "source": [
    "# Import necessary libraries\n",
    "from sklearn.svm import SVC\n",
    "\n",
    "# Create a pipeline with a standard scaler and an SVM classifier\n",
    "pipeline_svm = Pipeline([\n",
    "    ('scaler', StandardScaler()),  # Standardize the data\n",
    "    ('svm', SVC(probability=True, random_state=42))  # SVM classifier with probability estimates\n",
    "])\n",
    "\n",
    "# Train the pipeline on the training data\n",
    "pipeline_svm.fit(x_train, y_train)\n",
    "\n",
    "# Predict on the training and testing set\n",
    "y_pred_train_svm = pipeline_svm.predict(x_train)\n",
    "y_pred_test_svm = pipeline_svm.predict(x_test)\n",
    "\n",
    "# Calculate training and testing accuracy\n",
    "training_accuracy = accuracy_score(y_train, y_pred_train_svm)\n",
    "testing_accuracy = accuracy_score(y_test, y_pred_test_svm)\n",
    "print(\"\\nSupport Vector Machines (SVM)\")\n",
    "print(f\"Training Accuracy: {training_accuracy}\")\n",
    "print(f\"Testing Accuracy: {testing_accuracy}\")\n",
    "\n",
    "# Predict probabilities for the test set\n",
    "y_pred_prob_svm = pipeline_svm.predict_proba(x_test)[:, 1]\n"
   ]
  },
  {
   "cell_type": "code",
   "execution_count": 46,
   "metadata": {
    "colab": {
     "base_uri": "https://localhost:8080/",
     "height": 206
    },
    "executionInfo": {
     "elapsed": 29,
     "status": "ok",
     "timestamp": 1718714562499,
     "user": {
      "displayName": "Vikas Singh",
      "userId": "04375885343580620832"
     },
     "user_tz": -330
    },
    "id": "sQSDD9RQFr6m",
    "outputId": "545f8803-a152-4c8f-9de6-560998dd03f5"
   },
   "outputs": [
    {
     "data": {
      "application/vnd.google.colaboratory.intrinsic+json": {
       "summary": "{\n  \"name\": \"results_df\",\n  \"rows\": 114,\n  \"fields\": [\n    {\n      \"column\": \"Actual Label\",\n      \"properties\": {\n        \"dtype\": \"number\",\n        \"std\": 0,\n        \"min\": 0,\n        \"max\": 1,\n        \"num_unique_values\": 2,\n        \"samples\": [\n          1,\n          0\n        ],\n        \"semantic_type\": \"\",\n        \"description\": \"\"\n      }\n    },\n    {\n      \"column\": \"Predicted Label\",\n      \"properties\": {\n        \"dtype\": \"number\",\n        \"std\": 0,\n        \"min\": 0,\n        \"max\": 1,\n        \"num_unique_values\": 2,\n        \"samples\": [\n          1,\n          0\n        ],\n        \"semantic_type\": \"\",\n        \"description\": \"\"\n      }\n    },\n    {\n      \"column\": \"Predicted Probability\",\n      \"properties\": {\n        \"dtype\": \"number\",\n        \"std\": 0.46126099564492323,\n        \"min\": 6.23986747835751e-05,\n        \"max\": 0.9999999910042916,\n        \"num_unique_values\": 114,\n        \"samples\": [\n          0.9999943573673888,\n          6.23986747835751e-05\n        ],\n        \"semantic_type\": \"\",\n        \"description\": \"\"\n      }\n    }\n  ]\n}",
       "type": "dataframe",
       "variable_name": "results_df"
      },
      "text/html": [
       "\n",
       "  <div id=\"df-fcadba62-64e6-448e-94ec-1ebb3e9a7762\" class=\"colab-df-container\">\n",
       "    <div>\n",
       "<style scoped>\n",
       "    .dataframe tbody tr th:only-of-type {\n",
       "        vertical-align: middle;\n",
       "    }\n",
       "\n",
       "    .dataframe tbody tr th {\n",
       "        vertical-align: top;\n",
       "    }\n",
       "\n",
       "    .dataframe thead th {\n",
       "        text-align: right;\n",
       "    }\n",
       "</style>\n",
       "<table border=\"1\" class=\"dataframe\">\n",
       "  <thead>\n",
       "    <tr style=\"text-align: right;\">\n",
       "      <th></th>\n",
       "      <th>Actual Label</th>\n",
       "      <th>Predicted Label</th>\n",
       "      <th>Predicted Probability</th>\n",
       "    </tr>\n",
       "  </thead>\n",
       "  <tbody>\n",
       "    <tr>\n",
       "      <th>204</th>\n",
       "      <td>0</td>\n",
       "      <td>0</td>\n",
       "      <td>0.020564</td>\n",
       "    </tr>\n",
       "    <tr>\n",
       "      <th>70</th>\n",
       "      <td>1</td>\n",
       "      <td>1</td>\n",
       "      <td>1.000000</td>\n",
       "    </tr>\n",
       "    <tr>\n",
       "      <th>131</th>\n",
       "      <td>1</td>\n",
       "      <td>1</td>\n",
       "      <td>0.999992</td>\n",
       "    </tr>\n",
       "    <tr>\n",
       "      <th>431</th>\n",
       "      <td>0</td>\n",
       "      <td>0</td>\n",
       "      <td>0.000158</td>\n",
       "    </tr>\n",
       "    <tr>\n",
       "      <th>540</th>\n",
       "      <td>0</td>\n",
       "      <td>0</td>\n",
       "      <td>0.000062</td>\n",
       "    </tr>\n",
       "  </tbody>\n",
       "</table>\n",
       "</div>\n",
       "    <div class=\"colab-df-buttons\">\n",
       "\n",
       "  <div class=\"colab-df-container\">\n",
       "    <button class=\"colab-df-convert\" onclick=\"convertToInteractive('df-fcadba62-64e6-448e-94ec-1ebb3e9a7762')\"\n",
       "            title=\"Convert this dataframe to an interactive table.\"\n",
       "            style=\"display:none;\">\n",
       "\n",
       "  <svg xmlns=\"http://www.w3.org/2000/svg\" height=\"24px\" viewBox=\"0 -960 960 960\">\n",
       "    <path d=\"M120-120v-720h720v720H120Zm60-500h600v-160H180v160Zm220 220h160v-160H400v160Zm0 220h160v-160H400v160ZM180-400h160v-160H180v160Zm440 0h160v-160H620v160ZM180-180h160v-160H180v160Zm440 0h160v-160H620v160Z\"/>\n",
       "  </svg>\n",
       "    </button>\n",
       "\n",
       "  <style>\n",
       "    .colab-df-container {\n",
       "      display:flex;\n",
       "      gap: 12px;\n",
       "    }\n",
       "\n",
       "    .colab-df-convert {\n",
       "      background-color: #E8F0FE;\n",
       "      border: none;\n",
       "      border-radius: 50%;\n",
       "      cursor: pointer;\n",
       "      display: none;\n",
       "      fill: #1967D2;\n",
       "      height: 32px;\n",
       "      padding: 0 0 0 0;\n",
       "      width: 32px;\n",
       "    }\n",
       "\n",
       "    .colab-df-convert:hover {\n",
       "      background-color: #E2EBFA;\n",
       "      box-shadow: 0px 1px 2px rgba(60, 64, 67, 0.3), 0px 1px 3px 1px rgba(60, 64, 67, 0.15);\n",
       "      fill: #174EA6;\n",
       "    }\n",
       "\n",
       "    .colab-df-buttons div {\n",
       "      margin-bottom: 4px;\n",
       "    }\n",
       "\n",
       "    [theme=dark] .colab-df-convert {\n",
       "      background-color: #3B4455;\n",
       "      fill: #D2E3FC;\n",
       "    }\n",
       "\n",
       "    [theme=dark] .colab-df-convert:hover {\n",
       "      background-color: #434B5C;\n",
       "      box-shadow: 0px 1px 3px 1px rgba(0, 0, 0, 0.15);\n",
       "      filter: drop-shadow(0px 1px 2px rgba(0, 0, 0, 0.3));\n",
       "      fill: #FFFFFF;\n",
       "    }\n",
       "  </style>\n",
       "\n",
       "    <script>\n",
       "      const buttonEl =\n",
       "        document.querySelector('#df-fcadba62-64e6-448e-94ec-1ebb3e9a7762 button.colab-df-convert');\n",
       "      buttonEl.style.display =\n",
       "        google.colab.kernel.accessAllowed ? 'block' : 'none';\n",
       "\n",
       "      async function convertToInteractive(key) {\n",
       "        const element = document.querySelector('#df-fcadba62-64e6-448e-94ec-1ebb3e9a7762');\n",
       "        const dataTable =\n",
       "          await google.colab.kernel.invokeFunction('convertToInteractive',\n",
       "                                                    [key], {});\n",
       "        if (!dataTable) return;\n",
       "\n",
       "        const docLinkHtml = 'Like what you see? Visit the ' +\n",
       "          '<a target=\"_blank\" href=https://colab.research.google.com/notebooks/data_table.ipynb>data table notebook</a>'\n",
       "          + ' to learn more about interactive tables.';\n",
       "        element.innerHTML = '';\n",
       "        dataTable['output_type'] = 'display_data';\n",
       "        await google.colab.output.renderOutput(dataTable, element);\n",
       "        const docLink = document.createElement('div');\n",
       "        docLink.innerHTML = docLinkHtml;\n",
       "        element.appendChild(docLink);\n",
       "      }\n",
       "    </script>\n",
       "  </div>\n",
       "\n",
       "\n",
       "<div id=\"df-fb65d112-82a8-4740-b10e-ef96d61f6955\">\n",
       "  <button class=\"colab-df-quickchart\" onclick=\"quickchart('df-fb65d112-82a8-4740-b10e-ef96d61f6955')\"\n",
       "            title=\"Suggest charts\"\n",
       "            style=\"display:none;\">\n",
       "\n",
       "<svg xmlns=\"http://www.w3.org/2000/svg\" height=\"24px\"viewBox=\"0 0 24 24\"\n",
       "     width=\"24px\">\n",
       "    <g>\n",
       "        <path d=\"M19 3H5c-1.1 0-2 .9-2 2v14c0 1.1.9 2 2 2h14c1.1 0 2-.9 2-2V5c0-1.1-.9-2-2-2zM9 17H7v-7h2v7zm4 0h-2V7h2v10zm4 0h-2v-4h2v4z\"/>\n",
       "    </g>\n",
       "</svg>\n",
       "  </button>\n",
       "\n",
       "<style>\n",
       "  .colab-df-quickchart {\n",
       "      --bg-color: #E8F0FE;\n",
       "      --fill-color: #1967D2;\n",
       "      --hover-bg-color: #E2EBFA;\n",
       "      --hover-fill-color: #174EA6;\n",
       "      --disabled-fill-color: #AAA;\n",
       "      --disabled-bg-color: #DDD;\n",
       "  }\n",
       "\n",
       "  [theme=dark] .colab-df-quickchart {\n",
       "      --bg-color: #3B4455;\n",
       "      --fill-color: #D2E3FC;\n",
       "      --hover-bg-color: #434B5C;\n",
       "      --hover-fill-color: #FFFFFF;\n",
       "      --disabled-bg-color: #3B4455;\n",
       "      --disabled-fill-color: #666;\n",
       "  }\n",
       "\n",
       "  .colab-df-quickchart {\n",
       "    background-color: var(--bg-color);\n",
       "    border: none;\n",
       "    border-radius: 50%;\n",
       "    cursor: pointer;\n",
       "    display: none;\n",
       "    fill: var(--fill-color);\n",
       "    height: 32px;\n",
       "    padding: 0;\n",
       "    width: 32px;\n",
       "  }\n",
       "\n",
       "  .colab-df-quickchart:hover {\n",
       "    background-color: var(--hover-bg-color);\n",
       "    box-shadow: 0 1px 2px rgba(60, 64, 67, 0.3), 0 1px 3px 1px rgba(60, 64, 67, 0.15);\n",
       "    fill: var(--button-hover-fill-color);\n",
       "  }\n",
       "\n",
       "  .colab-df-quickchart-complete:disabled,\n",
       "  .colab-df-quickchart-complete:disabled:hover {\n",
       "    background-color: var(--disabled-bg-color);\n",
       "    fill: var(--disabled-fill-color);\n",
       "    box-shadow: none;\n",
       "  }\n",
       "\n",
       "  .colab-df-spinner {\n",
       "    border: 2px solid var(--fill-color);\n",
       "    border-color: transparent;\n",
       "    border-bottom-color: var(--fill-color);\n",
       "    animation:\n",
       "      spin 1s steps(1) infinite;\n",
       "  }\n",
       "\n",
       "  @keyframes spin {\n",
       "    0% {\n",
       "      border-color: transparent;\n",
       "      border-bottom-color: var(--fill-color);\n",
       "      border-left-color: var(--fill-color);\n",
       "    }\n",
       "    20% {\n",
       "      border-color: transparent;\n",
       "      border-left-color: var(--fill-color);\n",
       "      border-top-color: var(--fill-color);\n",
       "    }\n",
       "    30% {\n",
       "      border-color: transparent;\n",
       "      border-left-color: var(--fill-color);\n",
       "      border-top-color: var(--fill-color);\n",
       "      border-right-color: var(--fill-color);\n",
       "    }\n",
       "    40% {\n",
       "      border-color: transparent;\n",
       "      border-right-color: var(--fill-color);\n",
       "      border-top-color: var(--fill-color);\n",
       "    }\n",
       "    60% {\n",
       "      border-color: transparent;\n",
       "      border-right-color: var(--fill-color);\n",
       "    }\n",
       "    80% {\n",
       "      border-color: transparent;\n",
       "      border-right-color: var(--fill-color);\n",
       "      border-bottom-color: var(--fill-color);\n",
       "    }\n",
       "    90% {\n",
       "      border-color: transparent;\n",
       "      border-bottom-color: var(--fill-color);\n",
       "    }\n",
       "  }\n",
       "</style>\n",
       "\n",
       "  <script>\n",
       "    async function quickchart(key) {\n",
       "      const quickchartButtonEl =\n",
       "        document.querySelector('#' + key + ' button');\n",
       "      quickchartButtonEl.disabled = true;  // To prevent multiple clicks.\n",
       "      quickchartButtonEl.classList.add('colab-df-spinner');\n",
       "      try {\n",
       "        const charts = await google.colab.kernel.invokeFunction(\n",
       "            'suggestCharts', [key], {});\n",
       "      } catch (error) {\n",
       "        console.error('Error during call to suggestCharts:', error);\n",
       "      }\n",
       "      quickchartButtonEl.classList.remove('colab-df-spinner');\n",
       "      quickchartButtonEl.classList.add('colab-df-quickchart-complete');\n",
       "    }\n",
       "    (() => {\n",
       "      let quickchartButtonEl =\n",
       "        document.querySelector('#df-fb65d112-82a8-4740-b10e-ef96d61f6955 button');\n",
       "      quickchartButtonEl.style.display =\n",
       "        google.colab.kernel.accessAllowed ? 'block' : 'none';\n",
       "    })();\n",
       "  </script>\n",
       "</div>\n",
       "\n",
       "    </div>\n",
       "  </div>\n"
      ],
      "text/plain": [
       "     Actual Label  Predicted Label  Predicted Probability\n",
       "204             0                0               0.020564\n",
       "70              1                1               1.000000\n",
       "131             1                1               0.999992\n",
       "431             0                0               0.000158\n",
       "540             0                0               0.000062"
      ]
     },
     "execution_count": 46,
     "metadata": {},
     "output_type": "execute_result"
    }
   ],
   "source": [
    "results_df = pd.DataFrame({\n",
    "    'Actual Label': y_test,\n",
    "    'Predicted Label': y_pred_test_svm,\n",
    "    'Predicted Probability': y_pred_prob_svm\n",
    "})\n",
    "\n",
    "results_df.head()"
   ]
  },
  {
   "cell_type": "code",
   "execution_count": 47,
   "metadata": {
    "colab": {
     "base_uri": "https://localhost:8080/",
     "height": 505
    },
    "executionInfo": {
     "elapsed": 1288,
     "status": "ok",
     "timestamp": 1718714563761,
     "user": {
      "displayName": "Vikas Singh",
      "userId": "04375885343580620832"
     },
     "user_tz": -330
    },
    "id": "KRwq4Mq-U7Og",
    "outputId": "a92947c7-f6bf-424e-8705-0d73292cebdd"
   },
   "outputs": [
    {
     "name": "stdout",
     "output_type": "stream",
     "text": [
      "Confusion Matrix:\n",
      "[[71  0]\n",
      " [ 2 41]]\n"
     ]
    },
    {
     "data": {
      "image/png": "[encoded data removed]",
      "text/plain": [
       "<Figure size 640x480 with 2 Axes>"
      ]
     },
     "metadata": {},
     "output_type": "display_data"
    }
   ],
   "source": [
    "# Print confusion matrix\n",
    "conf_matrix_svm = confusion_matrix(y_test, y_pred_test_svm)\n",
    "print(\"Confusion Matrix:\")\n",
    "print(conf_matrix_svm)\n",
    "\n",
    "cm_display = ConfusionMatrixDisplay(confusion_matrix = conf_matrix_svm, display_labels = [\"benign\", \"malignant\"])\n",
    "# display matrix\n",
    "cm_display.plot()\n",
    "plt.show()\n",
    "\n"
   ]
  },
  {
   "cell_type": "code",
   "execution_count": 48,
   "metadata": {
    "colab": {
     "base_uri": "https://localhost:8080/"
    },
    "executionInfo": {
     "elapsed": 23,
     "status": "ok",
     "timestamp": 1718714563763,
     "user": {
      "displayName": "Vikas Singh",
      "userId": "04375885343580620832"
     },
     "user_tz": -330
    },
    "id": "oMt6cqJnGfry",
    "outputId": "08637ced-5da8-462f-9249-0e75ab43120d"
   },
   "outputs": [
    {
     "name": "stdout",
     "output_type": "stream",
     "text": [
      "\t\tSupport Vector Machines Classification Report:\n",
      "\t\t------------------------------------------\n",
      "              precision    recall  f1-score   support\n",
      "\n",
      "           0       0.97      1.00      0.99        71\n",
      "           1       1.00      0.95      0.98        43\n",
      "\n",
      "    accuracy                           0.98       114\n",
      "   macro avg       0.99      0.98      0.98       114\n",
      "weighted avg       0.98      0.98      0.98       114\n",
      "\n"
     ]
    }
   ],
   "source": [
    "# Print classification report\n",
    "print(\"\\t\\tSupport Vector Machines Classification Report:\")\n",
    "print(\"\\t\\t------------------------------------------\")\n",
    "print(classification_report(y_test, y_pred_test_svm))"
   ]
  },
  {
   "cell_type": "markdown",
   "metadata": {
    "id": "TFrK4DdsGuCC"
   },
   "source": [
    "**Note: Encourage the learners to deduce results from the Classification report and ROC curve**"
   ]
  },
  {
   "cell_type": "code",
   "execution_count": 49,
   "metadata": {
    "colab": {
     "base_uri": "https://localhost:8080/",
     "height": 582
    },
    "executionInfo": {
     "elapsed": 19,
     "status": "ok",
     "timestamp": 1718714563763,
     "user": {
      "displayName": "Vikas Singh",
      "userId": "04375885343580620832"
     },
     "user_tz": -330
    },
    "id": "3dS7MKSpHALk",
    "outputId": "65bd3afa-1ab3-48ed-c179-648f3c1a802f"
   },
   "outputs": [
    {
     "name": "stdout",
     "output_type": "stream",
     "text": [
      "Optimal Threshold: 0.6821\n"
     ]
    },
    {
     "data": {
      "image/png": "[encoded data removed]",
      "text/plain": [
       "<Figure size 800x600 with 1 Axes>"
      ]
     },
     "metadata": {},
     "output_type": "display_data"
    }
   ],
   "source": [
    "# Plot ROC and AUC\n",
    "fpr, tpr, thresholds = roc_curve(y_test, y_pred_prob_svm)\n",
    "roc_auc = auc(fpr, tpr)\n",
    "\n",
    "# Compute Youden's J statistic for each threshold\n",
    "youden_j = tpr - fpr\n",
    "optimal_threshold_index = np.argmax(youden_j)\n",
    "optimal_threshold = thresholds[optimal_threshold_index]\n",
    "\n",
    "print(f\"Optimal Threshold: {optimal_threshold:.4f}\")\n",
    "\n",
    "# Plot ROC curve with the optimal threshold marked\n",
    "plt.figure(figsize=(8, 6))\n",
    "plt.plot(fpr, tpr, color='blue', lw=2, label=f'ROC curve (area = {roc_auc:.2f})')\n",
    "plt.scatter(fpr[optimal_threshold_index], tpr[optimal_threshold_index], color='red', marker='o', label=f'Optimal Threshold = {optimal_threshold:.4f}')\n",
    "plt.plot([0, 1], [0, 1], color='grey', lw=2, linestyle='--')\n",
    "plt.xlim([0.0, 1.0])\n",
    "plt.ylim([0.0, 1.05])\n",
    "plt.xlabel('False Positive Rate')\n",
    "plt.ylabel('True Positive Rate')\n",
    "plt.title('Receiver Operating Characteristic (ROC) Curve')\n",
    "plt.legend(loc='lower right')\n",
    "plt.show()"
   ]
  },
  {
   "cell_type": "markdown",
   "metadata": {
    "id": "Z78S8IqK3C1n"
   },
   "source": [
    "### __4.6.2 Hyperparameter Tuning:__\n",
    "\n",
    "In Support Vector Machines (SVM), hyperparameters play a crucial role in determining the model's performance. Here are some key hyperparameters typically adjusted in SVM:\n",
    "\n",
    "- **Kernel Type:** The kernel function transforms the input data into a higher-dimensional space where a hyperplane can be used to separate classes that are not linearly separable in the original space. Common kernels include:\n",
    "\n",
    "  * Linear: No transformation is done; suitable for linearly separable data.\n",
    "  * Polynomial: Transforms data by considering polynomial combinations of the features.\n",
    "  * Radial Basis Function (RBF): Exploits the distance between the feature vectors in a radial basis.\n",
    "\n",
    "Sigmoid: Uses a sigmoid function to transform data.\n",
    "\n",
    "- **C (Regularization Parameter):** This parameter trades off correct classification of training examples against maximization of the decision function’s margin. A higher C tries to classify all training examples correctly (low bias but high variance), while a lower C allows more misclassifications but pushes for a larger margin (high bias but low variance).\n",
    "\n",
    "- **Gamma (γ):** This hyperparameter is used with certain types of kernels like the RBF, where it defines how far the influence of a single training example reaches. Low values mean 'far' and high values mean 'close'. The gamma parameter can be crucial in avoiding overfitting or underfitting in the SVM model."
   ]
  },
  {
   "cell_type": "markdown",
   "metadata": {
    "id": "DgsxaZ9a4Dbv"
   },
   "source": [
    "**Note:** You have seen hyperparameter tuning for KNN and decision trees. Now, using that approach, take one hyperparameter and tune it as practice for SVM."
   ]
  },
  {
   "cell_type": "markdown",
   "metadata": {
    "id": "Hn_Diygt-eCR"
   },
   "source": [
    "## __Conclusion:__\n",
    "\n",
    "Classification is a vital technique in supervised machine learning that focuses on identifying categorical outcomes based on given inputs. In this series of lessons, you have engaged with the core principles of classification, including its various types and applications across different sectors such as healthcare, finance, and retail.\n",
    "\n",
    "You have been introduced to several key classification algorithms including Logistic Regression, Naive Bayes, K-Nearest Neighbors, Decision Trees, and Support Vector Machines. Each method was explored through theoretical discussions and practical examples, particularly using the Breast Cancer dataset to illustrate real-world application.\n",
    "\n",
    "Furthermore, you have learned to assess the effectiveness of these classification models using performance metrics such as accuracy, precision, recall, and the F1-score, alongside more comprehensive evaluations like ROC curves and confusion matrices. Issues like overfitting and model tuning were addressed, enhancing your understanding of how to optimize model performance through hyperparameter adjustments."
   ]
  }
 ],
 "metadata": {
  "colab": {
   "provenance": []
  },
  "kernelspec": {
   "display_name": "Python 3 (ipykernel)",
   "language": "python",
   "name": "python3"
  },
  "language_info": {
   "codemirror_mode": {
    "name": "ipython",
    "version": 3
   },
   "file_extension": ".py",
   "mimetype": "text/x-python",
   "name": "python",
   "nbconvert_exporter": "python",
   "pygments_lexer": "ipython3",
   "version": "3.12.7"
  }
 },
 "nbformat": 4,
 "nbformat_minor": 4
}
