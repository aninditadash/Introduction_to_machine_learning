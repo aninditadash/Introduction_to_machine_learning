{
 "cells": [
  {
   "cell_type": "markdown",
   "id": "cf9f10b3-49bd-4135-b8d5-a96b6d8ae101",
   "metadata": {},
   "source": [
    "## __Load Kaggle data into Colab__"
   ]
  },
  {
   "cell_type": "markdown",
   "id": "70003d27-1ba2-4d57-b78f-403ec4c6e3f5",
   "metadata": {},
   "source": [
    "To use a Kaggle dataset in Google Colab without downloading it locally, use the Kaggle API and upload your API credentials (a JSON file) to the Colab environment. Then, you can download the dataset directly into your Colab notebook. "
   ]
  },
  {
   "cell_type": "markdown",
   "id": "8d8b28f4-7ad7-407b-aaf5-83894d2c09ed",
   "metadata": {},
   "source": [
    "#### __Get the Kaggle API credentials__"
   ]
  },
  {
   "cell_type": "markdown",
   "id": "265bcdfe-c1e9-4cfb-870a-7055e953611c",
   "metadata": {},
   "source": [
    "- Go to your Kaggle account settings, scroll down to the \"API\" section and click \"Create New API Token\". This will download a kaggle.json file.\n",
    "- Store the credentials in the Google drive."
   ]
  },
  {
   "cell_type": "markdown",
   "id": "1044436c-5882-438f-9f8d-01d047d83af8",
   "metadata": {},
   "source": [
    "#### __Install the Kaggle API and configure it__"
   ]
  },
  {
   "cell_type": "code",
   "execution_count": null,
   "id": "601e1227-798f-4476-b2f9-7a6a56df54a4",
   "metadata": {},
   "outputs": [],
   "source": [
    "!pip install kaggle"
   ]
  },
  {
   "cell_type": "markdown",
   "id": "1fb33313-f4f8-4a2e-b5d3-1ebc60a5c1f9",
   "metadata": {},
   "source": [
    "#### __Create a directory for the Kaggle configuration and move the JSON file into it__"
   ]
  },
  {
   "cell_type": "code",
   "execution_count": null,
   "id": "f23d916c-5cdb-4bb0-8fb0-c05dc79616b4",
   "metadata": {},
   "outputs": [],
   "source": [
    "import os\n",
    "os.environ['KAGGLE_CONFIG_DIR'] = \"/content/kaggle\"\n",
    "os.makedirs(\"/content/kaggle\", exist_ok=True)\n",
    "!mv kaggle.json /content/kaggle/"
   ]
  },
  {
   "cell_type": "markdown",
   "id": "4b7b1bc2-965b-4a8b-82c9-65c27574d485",
   "metadata": {},
   "source": [
    "#### __Change file permissions to protect the API key__"
   ]
  },
  {
   "cell_type": "code",
   "execution_count": null,
   "id": "0e843219-d4e5-494f-974a-415a490d2f9e",
   "metadata": {},
   "outputs": [],
   "source": [
    "!chmod 600 /content/kaggle/kaggle.json"
   ]
  },
  {
   "cell_type": "markdown",
   "id": "60dda6a0-ec92-41f0-89b4-503f2a1d8183",
   "metadata": {},
   "source": [
    "#### __Download the dataset__\n",
    "\n",
    "`!kaggle datasets download -d <username>/<dataset_name>`"
   ]
  },
  {
   "cell_type": "code",
   "execution_count": null,
   "id": "758eb3d4-44cb-462b-9305-f984bf53a161",
   "metadata": {},
   "outputs": [],
   "source": [
    "!kaggle datasets download -d hosammhmdali/house-price-dataset"
   ]
  },
  {
   "cell_type": "markdown",
   "id": "b134ab0f-527c-49a5-8f2c-c1c3e6449c0b",
   "metadata": {},
   "source": [
    "#### __Unzip the dataset__"
   ]
  },
  {
   "cell_type": "code",
   "execution_count": null,
   "id": "ef2cffd1-8a72-4212-9ed7-a35be85c3e61",
   "metadata": {},
   "outputs": [],
   "source": [
    "!unzip house-price-dataset.zip"
   ]
  },
  {
   "cell_type": "markdown",
   "id": "b009b52d-d284-49fb-8323-63a2f149bde5",
   "metadata": {},
   "source": [
    "#### __Access the data using dataframes__"
   ]
  },
  {
   "cell_type": "code",
   "execution_count": null,
   "id": "cf4fa021-304d-499a-8b6c-738f07a822fa",
   "metadata": {},
   "outputs": [],
   "source": [
    "housing_data = pd.read_csv(\"housing.csv\")"
   ]
  },
  {
   "cell_type": "code",
   "execution_count": null,
   "id": "cf0c367d-9b9e-43db-badd-1c82355a915f",
   "metadata": {},
   "outputs": [],
   "source": []
  },
  {
   "cell_type": "code",
   "execution_count": null,
   "id": "0d67af16-ceed-40ee-bde6-7df2aa083476",
   "metadata": {},
   "outputs": [],
   "source": []
  }
 ],
 "metadata": {
  "kernelspec": {
   "display_name": "Python [conda env:base] *",
   "language": "python",
   "name": "conda-base-py"
  },
  "language_info": {
   "codemirror_mode": {
    "name": "ipython",
    "version": 3
   },
   "file_extension": ".py",
   "mimetype": "text/x-python",
   "name": "python",
   "nbconvert_exporter": "python",
   "pygments_lexer": "ipython3",
   "version": "3.12.7"
  }
 },
 "nbformat": 4,
 "nbformat_minor": 5
}
