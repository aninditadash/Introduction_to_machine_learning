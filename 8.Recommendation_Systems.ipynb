{
 "cells": [
  {
   "cell_type": "markdown",
   "id": "60472855",
   "metadata": {
    "id": "60472855"
   },
   "source": [
    "# __Recommendation Systems__"
   ]
  },
  {
   "cell_type": "markdown",
   "id": "5931d107",
   "metadata": {
    "id": "5931d107"
   },
   "source": [
    "## __Agenda__"
   ]
  },
  {
   "cell_type": "markdown",
   "id": "h1HObxVdo0UJ",
   "metadata": {
    "id": "h1HObxVdo0UJ"
   },
   "source": [
    "* **Overview of Recommendation Systems**\n",
    "  * **What are Recommendation Systems?**\n",
    "  * **Importance and Applications**\n",
    "\n",
    "* **Examples of Recommendation Systems**\n",
    "  * **Enhanced Book Discovery Recommendations**\n",
    "  * **Hyper-Personalized Media Recommendations**\n",
    "  * **Viewed Items Recommendations**\n",
    "  * **Enhanced Product Discovery Recommendations**\n",
    "\n",
    "* **Types of Recommendation Systems**\n",
    "  * **Collaborative Filtering**\n",
    "    - **Memory-Based Collaborative Filtering**\n",
    "      - User-Based Collaborative Filtering\n",
    "      - Item-Based Collaborative Filtering\n",
    "    - **Model-Based Collaborative Filtering**\n",
    "      - Matrix Factorization (MF)\n",
    "      - Singular Value Decomposition (SVD)\n",
    "  * **Content-Based Filtering**\n",
    "  * **Hybrid Filtering**\n",
    "\n",
    "* **Advanced Techniques in Recommendation Systems**\n",
    "  * **The GetTopN Function**\n",
    "  * **Hit Rate**\n",
    "\n",
    "* **Addressing Challenges in Recommendation Systems**\n",
    "  * **Cold Start Problem**\n",
    "  * **Implicit and Explicit Feedback**\n"
   ]
  },
  {
   "cell_type": "markdown",
   "id": "LpHpiEinrh_G",
   "metadata": {
    "id": "LpHpiEinrh_G"
   },
   "source": [
    "# **1.1 Overview of Recommendation Systems**"
   ]
  },
  {
   "cell_type": "markdown",
   "id": "8199dfcd",
   "metadata": {
    "id": "8199dfcd"
   },
   "source": [
    "## **1.1.1 What are Recommendation Systems?**\n",
    "\n",
    "Recommendation Systems are software tools and algorithms that provide suggestions for products, services, or information to users. The suggestions are tailored to the user’s preferences, based on data about their previous behavior and preferences.\n",
    "\n",
    "\n",
    "The underlying function of a recommendation system can be represented as:\n",
    "$$ f: \\text{User} \\times \\text{Item} \\rightarrow \\text{Rating} $$\n",
    "\n",
    "\n",
    "\n",
    "- **f**: represents the predictive function that estimates the utility (or rating) of an item for a particular user.\n",
    "\n",
    "- **User**: represents the set of all users in the system. Each user is a potential recipient of recommendations.\n",
    "\n",
    "- **Item**: represents the set of all items available for recommendation. These can include products, services, media content, or any other entities that the system recommends.\n",
    "\n",
    "- **Rating**: represents predicted rating or preference score that a user would give to an item, which can be used to generate personalized recommendations.\n",
    "\n"
   ]
  },
  {
   "cell_type": "markdown",
   "id": "44f470b8",
   "metadata": {
    "id": "44f470b8"
   },
   "source": [
    "![link text](http://labcontent.simplicdn.net/data-content/content-assets/Data_and_AI/ML/Lesson_07/recommendation_system_edited.png)"
   ]
  },
  {
   "cell_type": "markdown",
   "id": "0c81ed07",
   "metadata": {
    "id": "0c81ed07"
   },
   "source": [
    "# __1.2 Examples of Recommendation System__"
   ]
  },
  {
   "cell_type": "markdown",
   "id": "LrAvwW1AINLM",
   "metadata": {
    "id": "LrAvwW1AINLM"
   },
   "source": [
    "Let's explore how recommendation systems enhance user experiences across various platforms by providing personalized suggestions, from books and media to products tailored to individual preferences. We'll delve into specific examples, showcasing the profound impact of these systems in different industries.\n"
   ]
  },
  {
   "cell_type": "markdown",
   "id": "50d7bde2",
   "metadata": {
    "id": "50d7bde2"
   },
   "source": [
    "### __1.2.1 Enhanced Book Discovery Recommendations__\n",
    "\n",
    "Goodreads' __READERS ALSO ENJOYED__ and __See similar books__ features suggest books based on user preferences and past reads, enhancing discovery and facilitating exploration of similar titles."
   ]
  },
  {
   "cell_type": "markdown",
   "id": "NVLAAhXJJj6u",
   "metadata": {
    "id": "NVLAAhXJJj6u"
   },
   "source": [
    "### Mathematical Concept:\n",
    "To calculate the similarity between two users or items, Pearson correlation may be used:\n",
    "\n",
    "$$\n",
    "r = \\frac{\\sum (x - \\overline{x})(y - \\overline{y})}{\\sqrt{\\sum (x - \\overline{x})^2} \\sqrt{\\sum (y - \\overline{y})^2}}\n",
    "$$\n",
    "\n",
    "Where:\n",
    "\n",
    "$$\n",
    "\\text{• } \\textbf{x} \\text{ and } \\textbf{y} \\text{ are the ratings given by two different users to the same items.}\n",
    "$$\n",
    "\n",
    "$$\n",
    "\\text{• } \\overline{x} \\text{ and } \\overline{y} \\text{ represent the average ratings given for those items by the two users.}\n",
    "$$\n",
    "\n",
    "\n",
    "\n",
    "\n",
    "\n",
    "\n",
    "\n",
    "\n",
    "This formula measures how closely the ratings by two users (or two items) align, indicating the degree of similarity between their preferences.\n"
   ]
  },
  {
   "cell_type": "markdown",
   "id": "ce4c5193",
   "metadata": {
    "id": "ce4c5193"
   },
   "source": [
    "![link text](https://labcontent.simplicdn.net/data-content/content-assets/Data_and_AI/ML/Lesson_08/Enhanced_Recommendations.png)"
   ]
  },
  {
   "cell_type": "markdown",
   "id": "8c7cff51",
   "metadata": {
    "id": "8c7cff51"
   },
   "source": [
    "### __1.2.2 Hyper-Personalized Media Recommendations__\n",
    "\n",
    "Netflix and Spotify deliver tailored media suggestions by leveraging complex algorithms to analyze users' viewing and listening habits, optimizing content personalization to enhance engagement and satisfaction."
   ]
  },
  {
   "cell_type": "markdown",
   "id": "7e40e36b",
   "metadata": {
    "id": "7e40e36b"
   },
   "source": [
    "![link text](https://labcontent.simplicdn.net/data-content/content-assets/Data_and_AI/ML/Lesson_08/Hyper_Personalized_Media_Recommendations.png)"
   ]
  },
  {
   "cell_type": "markdown",
   "id": "1289c7d0",
   "metadata": {
    "id": "1289c7d0"
   },
   "source": [
    "### __1.2.3 Viewed Items Recommendations__\n",
    "\n",
    "E-commerce platforms like Amazon enhance shopping experiences by recommending products related to items users have viewed, increasing product visibility and potential sales through smart, context-aware suggestions."
   ]
  },
  {
   "cell_type": "markdown",
   "id": "7ad19afa",
   "metadata": {
    "id": "7ad19afa"
   },
   "source": [
    "![link text](https://labcontent.simplicdn.net/data-content/content-assets/Data_and_AI/ML/Lesson_08/Viewed_Items_Recommendation.png)"
   ]
  },
  {
   "cell_type": "markdown",
   "id": "646d6a9f",
   "metadata": {
    "id": "646d6a9f"
   },
   "source": [
    "### __1.2.4 Enhanced Product Discovery Recommendations__\n",
    "\n",
    "Retailers like AlvaQ and Fisoew use recommendation systems to suggest more products based on user search behavior. This enhances product discovery and encourages additional purchases."
   ]
  },
  {
   "cell_type": "markdown",
   "id": "8d14f2e5",
   "metadata": {
    "id": "8d14f2e5"
   },
   "source": [
    "![link text](https://labcontent.simplicdn.net/data-content/content-assets/Data_and_AI/ML/Lesson_08/Enhanced_Product_Discovery_Recommendation.png)"
   ]
  },
  {
   "cell_type": "markdown",
   "id": "bcbeb519",
   "metadata": {
    "id": "bcbeb519"
   },
   "source": [
    "# __1.3 Types of Recommendation Systems__\n",
    "\n",
    "\n",
    "There are three types of recommendation systems, each utilizing different techniques to generate personalized recommendations:\n",
    "\n",
    "- Collaborative filtering\n",
    "- Content filtering\n",
    "- Hybrid filtering"
   ]
  },
  {
   "cell_type": "markdown",
   "id": "3bf9e053",
   "metadata": {
    "id": "3bf9e053"
   },
   "source": [
    "### __1.3.1 Collaborative Filtering__\n",
    "\n",
    "Collaborative filtering algorithms recommend items by analyzing user preferences collected from numerous users. They predict future behavior by identifying patterns in historical data, such as which movies users have enjoyed, allowing the system to suggest items with a high likelihood of user agreement.\n",
    "\n",
    "For example, if two users have similar tastes in movies, the system might recommend a new movie to one user that the other has favorably rated.\n",
    "\n",
    "## Mathematical Concept:\n",
    "\n",
    "To quantify the similarity between user preferences, collaborative filtering uses cosine similarity, where user ratings are vectors in a multidimensional space:\n",
    "$$\n",
    "\\text{similarity} = \\cos(\\theta) = \\frac{\\mathbf{A} \\cdot \\mathbf{B}}{\\|\\mathbf{A}\\|\\|\\mathbf{B}\\|}\n",
    "$$\n",
    "Where:\n",
    "- $\\mathbf{A}$ and $\\mathbf{B}$ are vectors representing user ratings.\n",
    "- $\\theta$ is the angle between these vectors, which indicates the degree of similarity in user preferences.\n",
    "\n",
    "\n",
    "A smaller angle (or higher cosine similarity) indicates more closely aligned preferences, suggesting that users will likely enjoy similar items. This approach enables more precise recommendations based on shared user interests.\n"
   ]
  },
  {
   "cell_type": "markdown",
   "id": "qTLHK7Wfzcg5",
   "metadata": {
    "id": "qTLHK7Wfzcg5"
   },
   "source": [
    "![link text](https://labcontent.simplicdn.net/data-content/content-assets/Data_and_AI/ML/updated/Lesson_08/Collaborative_Filtering.png)"
   ]
  },
  {
   "cell_type": "markdown",
   "id": "97fa5279",
   "metadata": {
    "id": "97fa5279"
   },
   "source": [
    "There are mainly two types of collaborative filtering techniques:\n",
    "\n",
    "- Memory-based collaborative filtering\n",
    "- Model-based collaborative filtering"
   ]
  },
  {
   "cell_type": "markdown",
   "id": "c8a40986",
   "metadata": {
    "id": "c8a40986"
   },
   "source": [
    "### __.3.1.1 Memory-Based Collaborative Filtering__\n",
    "\n",
    "Memory-based collaborative filtering is a fundamental approach within recommendation systems that generates predictions based on the entire database of user-item interactions. This method leverages historical data from user ratings to recommend new items or predict user ratings. It operates on the assumption that those who agreed in the past will agree again in the future.\n",
    "\n",
    "There are two primary strategies within memory-based collaborative filtering:\n",
    "\n",
    "- User-based collaborative filtering\n",
    "- Item-based collaborative filtering"
   ]
  },
  {
   "cell_type": "markdown",
   "id": "ec4d1f68",
   "metadata": {
    "id": "ec4d1f68"
   },
   "source": [
    "### __User-Based Collaborative Filtering__\n",
    "\n",
    "User-based collaborative filtering is a recommendation technique that suggests items or content to a target user based on the preferences and behaviors of similar users. It operates under the assumption that users who have interacted with similar items in the past will continue to have similar preferences in the future."
   ]
  },
  {
   "cell_type": "markdown",
   "id": "sFUujxbxDwsw",
   "metadata": {
    "id": "sFUujxbxDwsw"
   },
   "source": [
    "#### To measure similarity between two users \\(u\\) and \\(v\\), cosine similarity can be used:\n",
    "\n",
    "The similarity between two users, \\( u \\) and \\( v \\), can be quantified using cosine similarity, which is particularly useful in user-based collaborative filtering. The formula for cosine similarity is as follows:\n",
    "\n",
    "$$\n",
    "\\text{similarity}(u, v) = \\cos(\\theta) = \\frac{\\sum_{i \\in I} r_{ui} \\cdot r_{vi}}{\\sqrt{\\sum_{i \\in I} r_{ui}^2} \\cdot \\sqrt{\\sum_{i \\in I} r_{vi}^2}}\n",
    "$$\n",
    "\n",
    "#### Variables:\n",
    "- $r_ui$ and r_vi: Ratings given by users u and v to item i.\n",
    "- I: The set of items that both users have rated.\n",
    "- theta: The angle between the rating vectors of u and v, where a smaller angle indicates a higher similarity.\n",
    "\n",
    "\n",
    "This approach calculates the cosine of the angle between the two users' rating vectors, effectively measuring their similarity based on the items they have both rated.\n"
   ]
  },
  {
   "cell_type": "markdown",
   "id": "a9c4c73d",
   "metadata": {
    "id": "a9c4c73d"
   },
   "source": [
    "### __Item-Based Collaborative Filtering__\n",
    "\n",
    "Item-based collaborative filtering is a recommendation technique that suggests items to users based on the similarity between items rather than the similarity between users. It operates on the assumption that if a user has interacted positively with certain items in the past, they will likely interact positively with similar items in the future.\n",
    "\n"
   ]
  },
  {
   "cell_type": "markdown",
   "id": "Ayd_FeJOB0BS",
   "metadata": {
    "id": "Ayd_FeJOB0BS"
   },
   "source": [
    "To measure similarity between two items \\(i\\) and \\(j\\), cosine similarity can be used:\n",
    "\n",
    "The similarity between two items, \\(i\\) and \\(j\\), can be quantified using cosine similarity, which is particularly useful in item-based collaborative filtering. The formula for cosine similarity is as follows:\n",
    "\n",
    "$$\n",
    "\\text{similarity}(i, j) = \\cos(\\theta) = \\frac{\\sum_{u \\in U} r_{u,i} \\cdot r_{u,j}}{\\sqrt{\\sum_{u \\in U} r_{u,i}^2} \\cdot \\sqrt{\\sum_{u \\in U} r_{u,j}^2}}\n",
    "$$\n",
    "\n",
    "Where:\n",
    "\n",
    "$$\n",
    "\\begin{align*}\n",
    "&\\bullet \\, r_{u,i} \\text{ and } r_{u,j} \\text{ are ratings given by user } u \\text{ to items } i \\text{ and } j. \\\\\n",
    "&\\bullet \\, U \\text{ is the set of users who have rated both items.} \\\\\n",
    "&\\bullet \\, \\theta \\text{ is the angle between the rating vectors of items } i \\text{ and } j, \\text{ where a smaller angle indicates a higher similarity.}\n",
    "\\end{align*}\n",
    "$$\n",
    "\n",
    "This approach calculates the cosine of the angle between the two items' rating vectors, effectively measuring their similarity based on the ratings they have received from users.\n",
    "\n",
    "### Predicting User Ratings for Item-Based Collaborative Filtering\n",
    "\n",
    "\n"
   ]
  },
  {
   "cell_type": "markdown",
   "id": "UFJdlLzmB6Qj",
   "metadata": {
    "id": "UFJdlLzmB6Qj"
   },
   "source": [
    "To predict the rating that a user \\(u\\) would give to an item \\(i\\) using item-based collaborative filtering, we use the weighted sum of the user's ratings for similar items:\n",
    "\n",
    "$$\n",
    "\\hat{r}_{u,i} = \\frac{\\sum_{j \\in S} \\text{sim}(i, j) \\cdot r_{u,j}}{\\sum_{j \\in S} |\\text{sim}(i, j)|}\n",
    "$$\n",
    "\n",
    "Where:\n",
    "\n",
    "$$\n",
    "\\begin{align*}\n",
    "&\\bullet \\, \\hat{r}_{u,i} \\text{ is the predicted rating for user } u \\text{ on item } i. \\\\\n",
    "&\\bullet \\, S \\text{ is the set of items rated by user } u \\text{ that are similar to item } i. \\\\\n",
    "&\\bullet \\, \\text{sim}(i, j) \\text{ is the similarity between item } i \\text{ and item } j. \\\\\n",
    "&\\bullet \\, r_{u,j} \\text{ is the rating of user } u \\text{ for item } j.\n",
    "\\end{align*}\n",
    "$$"
   ]
  },
  {
   "cell_type": "markdown",
   "id": "1ea67c7c",
   "metadata": {
    "id": "1ea67c7c"
   },
   "source": [
    "## __1.3.1.2 Model-Based Collaborative Filtering__\n",
    "\n",
    "Model-based collaborative filtering is an advanced approach within the realm of recommendation systems. It leverages mathematical and statistical models to predict a user's preferences for items (e.g., movies, products, and articles) based on past interactions.\n",
    "\n",
    "Unlike memory-based collaborative filtering, which directly uses the entire user-item interaction database to find similarities and make recommendations, model-based collaborative filtering involves constructing predictive models. These models are trained on existing data to uncover underlying patterns and relationships, enabling the prediction of how a user might rate or interact with items they haven't encountered yet."
   ]
  },
  {
   "cell_type": "markdown",
   "id": "3f066c7d",
   "metadata": {
    "id": "3f066c7d"
   },
   "source": [
    "### __Matrix factorization :__\n",
    "\n",
    "It is a popular technique in model-based collaborative filtering. Matrix factorization models work by decomposing the __user-item interaction matrix__ into lower-dimensional matrices, often representing __latent factors__ associated with users and items.\n",
    "\n",
    "__Example:__ In a movie recommendation system, latent factors might correspond to genres or themes like action, comedy, or drama."
   ]
  },
  {
   "cell_type": "code",
   "execution_count": 1,
   "id": "7c8bd8f3",
   "metadata": {
    "id": "7c8bd8f3"
   },
   "outputs": [],
   "source": [
    "# Import the numpy library as 'np'\n",
    "import numpy as np"
   ]
  },
  {
   "cell_type": "markdown",
   "id": "e0c8d8c2",
   "metadata": {
    "id": "e0c8d8c2"
   },
   "source": [
    "- Define the matrix factorization function.\n",
    "\n",
    "- Start with matrices R, P, Q, and parameters K, steps = 5000, alpha, and beta.\n",
    "\n"
   ]
  },
  {
   "cell_type": "markdown",
   "id": "eInSuqGrBRck",
   "metadata": {
    "id": "eInSuqGrBRck"
   },
   "source": [
    "__R:__ This is the original rating matrix that contains the user-item interactions, or ratings. It's a 2D matrix where rows represent users and columns represent items. Each entry in this matrix represents the rating given by a user to an item. In collaborative filtering, this matrix is often sparse, as most users only rate a subset of items.\n",
    "\n"
   ]
  },
  {
   "cell_type": "markdown",
   "id": "-5p3vHHFBVmu",
   "metadata": {
    "id": "-5p3vHHFBVmu"
   },
   "source": [
    "__P:__ This matrix represents the latent factors associated with users. It's a 2D matrix where rows correspond to users and columns correspond to latent factors. Each entry in this matrix represents the strength of the association between a user and a latent factor.\n",
    "\n"
   ]
  },
  {
   "cell_type": "markdown",
   "id": "4JEJHs5eBYgk",
   "metadata": {
    "id": "4JEJHs5eBYgk"
   },
   "source": [
    "__Q:__ This matrix represents the latent factors associated with items. It's also a 2D matrix where rows correspond to latent factors and columns correspond to items. Each entry in this matrix represents the strength of the association between a latent factor and an item.\n",
    "\n"
   ]
  },
  {
   "cell_type": "markdown",
   "id": "uoqsVtrhBbDo",
   "metadata": {
    "id": "uoqsVtrhBbDo"
   },
   "source": [
    "__K:__ This parameter represents the number of latent factors to consider during matrix factorization. It determines the dimensionality of the latent factor space. A higher value of K allows for a more complex representation of the interactions between users and items but may also lead to overfitting. Typically, K is chosen based on cross-validation or other model selection techniques.\n",
    "\n"
   ]
  },
  {
   "cell_type": "markdown",
   "id": "tEQM7aQsBeak",
   "metadata": {
    "id": "tEQM7aQsBeak"
   },
   "source": [
    "__Alpha (α):__ This serves as the learning rate in gradient descent, determining the magnitude of parameter updates. A higher α can lead to quicker convergence but may also cause overshooting of the optimal solution.\n",
    "\n"
   ]
  },
  {
   "cell_type": "markdown",
   "id": "edW1xMc9BhAn",
   "metadata": {
    "id": "edW1xMc9BhAn"
   },
   "source": [
    "__Beta (β):__ This acts as the regularization strength, mitigating overfitting by penalizing large parameter values. Increasing β enhances the penalty for large parameters, aiding in preventing overfitting of the model.\n",
    "\n"
   ]
  },
  {
   "cell_type": "markdown",
   "id": "FeKa2zBqBi2P",
   "metadata": {
    "id": "FeKa2zBqBi2P"
   },
   "source": [
    "The goal of matrix factorization is to find the optimal values of P and Q. Their product should approximate R, capturing the underlying patterns in user-item interactions."
   ]
  },
  {
   "cell_type": "code",
   "execution_count": 2,
   "id": "97b4d262",
   "metadata": {
    "id": "97b4d262"
   },
   "outputs": [],
   "source": [
    "def matrix_factorization(R, P, Q, K, steps=5000, alpha=0.0002, beta=0.02):\n",
    "    # Transpose Q matrix to match dimensions for matrix multiplication\n",
    "    Q = Q.T\n",
    "\n",
    "    # Iterate through the specified number of steps\n",
    "    for step in range(steps):\n",
    "        # Iterate through each element of the rating matrix R\n",
    "        for i in range(len(R)):\n",
    "            for j in range(len(R[i])):\n",
    "                # Check if the rating is non-zero\n",
    "                if R[i][j] > 0:\n",
    "                    # Calculate error between actual and predicted rating\n",
    "                    eij = R[i][j] - np.dot(P[i, :], Q[:, j])\n",
    "\n",
    "                    # Update P and Q matrices using gradient descent\n",
    "                    for k in range(K):\n",
    "                        P[i][k] += alpha * (2 * eij * Q[k][j] - beta * P[i][k])\n",
    "                        Q[k][j] += alpha * (2 * eij * P[i][k] - beta * Q[k][j])\n",
    "\n",
    "        # Compute the total error\n",
    "        e = 0\n",
    "        for i in range(len(R)):\n",
    "            for j in range(len(R[i])):\n",
    "                if R[i][j] > 0:\n",
    "                    e += pow(R[i][j] - np.dot(P[i, :], Q[:, j]), 2)\n",
    "                    for k in range(K):\n",
    "                        e += (beta / 2) * (pow(P[i][k], 2) + pow(Q[k][j], 2))\n",
    "\n",
    "        # Check if error is below the specified threshold\n",
    "        if e < 0.001:\n",
    "            break\n",
    "\n",
    "    # Return the updated P and Q matrices\n",
    "    return P, Q.T\n"
   ]
  },
  {
   "cell_type": "markdown",
   "id": "0114a598",
   "metadata": {
    "id": "0114a598"
   },
   "source": [
    "__Observation:__\n",
    "- This matrix factorization function predicts missing user-item interactions by decomposing the rating matrix \\(R\\) into two matrices, \\(P\\) (user features) and \\(Q\\) (item features). It uses gradient descent to minimize the error between actual and predicted ratings, with regularization to prevent overfitting. The function iterates until the total error is below a threshold or the maximum number of steps is reached, returning the optimized \\(P\\) and \\(Q\\) matrices."
   ]
  },
  {
   "cell_type": "markdown",
   "id": "067d77d1",
   "metadata": {
    "id": "067d77d1"
   },
   "source": [
    "Define the input matrix and parameters."
   ]
  },
  {
   "cell_type": "code",
   "execution_count": 3,
   "id": "ff05d7d2",
   "metadata": {
    "colab": {
     "base_uri": "https://localhost:8080/"
    },
    "executionInfo": {
     "elapsed": 729,
     "status": "ok",
     "timestamp": 1718706848796,
     "user": {
      "displayName": "Kunal Guwalani",
      "userId": "06540083485482537728"
     },
     "user_tz": -330
    },
    "id": "ff05d7d2",
    "outputId": "0503a30c-d69d-4e19-ee89-7ab81ac233e4"
   },
   "outputs": [],
   "source": [
    "import numpy as np\n",
    "\n",
    "# Define the original rating matrix R\n",
    "R = [\n",
    "     [5, 3, 0, 1],\n",
    "     [4, 0, 0, 1],\n",
    "     [1, 1, 0, 5],\n",
    "     [1, 0, 0, 4],\n",
    "     [0, 1, 5, 4],\n",
    "    ]\n",
    "\n",
    "# 0's are my missing values"
   ]
  },
  {
   "cell_type": "code",
   "execution_count": 5,
   "id": "e382918c-7b64-41bb-af70-a44be5cb9e2b",
   "metadata": {},
   "outputs": [
    {
     "data": {
      "text/plain": [
       "array([[5, 3, 0, 1],\n",
       "       [4, 0, 0, 1],\n",
       "       [1, 1, 0, 5],\n",
       "       [1, 0, 0, 4],\n",
       "       [0, 1, 5, 4]])"
      ]
     },
     "execution_count": 5,
     "metadata": {},
     "output_type": "execute_result"
    }
   ],
   "source": [
    "# Convert R into a NumPy array\n",
    "R = np.array(R)\n",
    "R"
   ]
  },
  {
   "cell_type": "code",
   "execution_count": 6,
   "id": "32888a7c-cad9-435c-8d7c-a3e7a750425c",
   "metadata": {},
   "outputs": [],
   "source": [
    "# Determine the number of users (N) and items (M)\n",
    "N = len(R)\n",
    "M = len(R[0])"
   ]
  },
  {
   "cell_type": "code",
   "execution_count": 8,
   "id": "13726982-ae47-4a5e-8a0c-fd43d936a1c6",
   "metadata": {},
   "outputs": [
    {
     "name": "stdout",
     "output_type": "stream",
     "text": [
      "5\n",
      "4\n"
     ]
    }
   ],
   "source": [
    "print(N)\n",
    "print(M)"
   ]
  },
  {
   "cell_type": "code",
   "execution_count": 9,
   "id": "5bc0b655-f225-415b-b4c8-54c10a93a164",
   "metadata": {},
   "outputs": [],
   "source": [
    "# Specify the number of latent factors (K) for matrix factorization\n",
    "K = 2"
   ]
  },
  {
   "cell_type": "code",
   "execution_count": 10,
   "id": "bdc832d0-b785-4c89-9664-1c97e88ce66c",
   "metadata": {},
   "outputs": [],
   "source": [
    "# Initialize matrices P and Q with random values\n",
    "P = np.random.rand(N, K)  # Matrix representing user latent factors\n",
    "Q = np.random.rand(M, K)  # Matrix representing item latent factors"
   ]
  },
  {
   "cell_type": "code",
   "execution_count": 11,
   "id": "e7ce03e1-b517-4891-aac0-4b770064f094",
   "metadata": {},
   "outputs": [
    {
     "data": {
      "text/plain": [
       "array([[0.59397485, 0.96685734],\n",
       "       [0.04316946, 0.3242203 ],\n",
       "       [0.1095997 , 0.19658362],\n",
       "       [0.51614236, 0.41358631],\n",
       "       [0.84777684, 0.69172017]])"
      ]
     },
     "execution_count": 11,
     "metadata": {},
     "output_type": "execute_result"
    }
   ],
   "source": [
    "P"
   ]
  },
  {
   "cell_type": "code",
   "execution_count": 12,
   "id": "d8577601-292e-452c-9cca-ccf1660a3e3f",
   "metadata": {},
   "outputs": [
    {
     "data": {
      "text/plain": [
       "array([[0.22612981, 0.2505348 ],\n",
       "       [0.05760379, 0.62322029],\n",
       "       [0.37530735, 0.89928541],\n",
       "       [0.83040026, 0.20217319]])"
      ]
     },
     "execution_count": 12,
     "metadata": {},
     "output_type": "execute_result"
    }
   ],
   "source": [
    "Q"
   ]
  },
  {
   "cell_type": "code",
   "execution_count": 13,
   "id": "419a2608-f79b-47f3-8d9e-d1a8b77cceed",
   "metadata": {},
   "outputs": [
    {
     "name": "stdout",
     "output_type": "stream",
     "text": [
      "R (Rating matrix):\n",
      "[[5 3 0 1]\n",
      " [4 0 0 1]\n",
      " [1 1 0 5]\n",
      " [1 0 0 4]\n",
      " [0 1 5 4]]\n",
      "\n",
      "P (User latent factor matrix):\n",
      "[[0.59397485 0.96685734]\n",
      " [0.04316946 0.3242203 ]\n",
      " [0.1095997  0.19658362]\n",
      " [0.51614236 0.41358631]\n",
      " [0.84777684 0.69172017]]\n",
      "\n",
      "Q (Item latent factor matrix):\n",
      "[[0.22612981 0.2505348 ]\n",
      " [0.05760379 0.62322029]\n",
      " [0.37530735 0.89928541]\n",
      " [0.83040026 0.20217319]]\n"
     ]
    }
   ],
   "source": [
    "# Print initialized matrices for verification\n",
    "print(\"R (Rating matrix):\")\n",
    "print(R)\n",
    "print(\"\\nP (User latent factor matrix):\")\n",
    "print(P)\n",
    "print(\"\\nQ (Item latent factor matrix):\")\n",
    "print(Q)"
   ]
  },
  {
   "cell_type": "markdown",
   "id": "0aa01b21",
   "metadata": {
    "id": "0aa01b21"
   },
   "source": [
    "- Perform matrix factorization and calculate the approximated matrix."
   ]
  },
  {
   "cell_type": "code",
   "execution_count": 14,
   "id": "6fc1ea73",
   "metadata": {
    "colab": {
     "base_uri": "https://localhost:8080/"
    },
    "executionInfo": {
     "elapsed": 1077,
     "status": "ok",
     "timestamp": 1718706853108,
     "user": {
      "displayName": "Kunal Guwalani",
      "userId": "06540083485482537728"
     },
     "user_tz": -330
    },
    "id": "6fc1ea73",
    "outputId": "8db8ff43-8c4d-4222-a66e-9313a97c1578"
   },
   "outputs": [],
   "source": [
    "# Perform matrix factorization to optimize matrices P and Q\n",
    "nP, nQ = matrix_factorization(R, P, Q, K)"
   ]
  },
  {
   "cell_type": "code",
   "execution_count": 15,
   "id": "5639c59b-e679-4214-81b1-23fac51a2b67",
   "metadata": {},
   "outputs": [
    {
     "data": {
      "text/plain": [
       "array([[0.26760932, 2.3699229 ],\n",
       "       [0.29819993, 1.87196273],\n",
       "       [2.03347198, 0.52564881],\n",
       "       [1.62582875, 0.45677611],\n",
       "       [1.61881032, 0.99875479]])"
      ]
     },
     "execution_count": 15,
     "metadata": {},
     "output_type": "execute_result"
    }
   ],
   "source": [
    "nP"
   ]
  },
  {
   "cell_type": "code",
   "execution_count": 16,
   "id": "474e82af-ae0b-4618-a646-29fcae603951",
   "metadata": {},
   "outputs": [
    {
     "data": {
      "text/plain": [
       "array([[-0.0082503 ,  2.11323245],\n",
       "       [ 0.05920838,  1.21656422],\n",
       "       [ 1.74666406,  2.06254158],\n",
       "       [ 2.40149163,  0.14962764]])"
      ]
     },
     "execution_count": 16,
     "metadata": {},
     "output_type": "execute_result"
    }
   ],
   "source": [
    "nQ"
   ]
  },
  {
   "cell_type": "code",
   "execution_count": 17,
   "id": "7a442783-631f-4cc5-a817-1f2d40f8472f",
   "metadata": {},
   "outputs": [],
   "source": [
    "# Reconstruct the rating matrix using optimized matrices P and Q\n",
    "nR = np.dot(nP, nQ.T)"
   ]
  },
  {
   "cell_type": "code",
   "execution_count": 18,
   "id": "8415e729-c7bc-4c1c-be3e-1176e9ac6f39",
   "metadata": {},
   "outputs": [
    {
     "data": {
      "text/plain": [
       "array([[5.00599011, 2.89900813, 5.35548809, 0.9972675 ],\n",
       "       [3.95343214, 2.29501882, 4.38185607, 0.99622201],\n",
       "       [1.09404137, 0.75988413, 4.63596495, 4.96201752],\n",
       "       [0.95186053, 0.65196017, 3.78189637, 3.97276046],\n",
       "       [2.09724535, 1.31089648, 4.88749108, 4.03700075]])"
      ]
     },
     "execution_count": 18,
     "metadata": {},
     "output_type": "execute_result"
    }
   ],
   "source": [
    "nR"
   ]
  },
  {
   "cell_type": "code",
   "execution_count": null,
   "id": "18be9a5f-fd10-48c2-9a12-eccda253ec28",
   "metadata": {},
   "outputs": [],
   "source": [
    "# 5,3,5,1\n",
    "# 4,2,4,1\n",
    "# 1,1,5,5\n",
    "# 1,1,4,4\n",
    "# 2,1,5,4"
   ]
  },
  {
   "cell_type": "code",
   "execution_count": 19,
   "id": "b3a8b251-f787-48b5-88ba-20cd7c6baf5b",
   "metadata": {},
   "outputs": [
    {
     "data": {
      "text/plain": [
       "array([[5, 3, 0, 1],\n",
       "       [4, 0, 0, 1],\n",
       "       [1, 1, 0, 5],\n",
       "       [1, 0, 0, 4],\n",
       "       [0, 1, 5, 4]])"
      ]
     },
     "execution_count": 19,
     "metadata": {},
     "output_type": "execute_result"
    }
   ],
   "source": [
    "R"
   ]
  },
  {
   "cell_type": "code",
   "execution_count": 21,
   "id": "fc307e53-0d22-45af-8b95-a19ffda6dc77",
   "metadata": {},
   "outputs": [
    {
     "name": "stdout",
     "output_type": "stream",
     "text": [
      "Reconstructed Rating Matrix (nR):\n",
      "[[5.00599011 2.89900813 5.35548809 0.9972675 ]\n",
      " [3.95343214 2.29501882 4.38185607 0.99622201]\n",
      " [1.09404137 0.75988413 4.63596495 4.96201752]\n",
      " [0.95186053 0.65196017 3.78189637 3.97276046]\n",
      " [2.09724535 1.31089648 4.88749108 4.03700075]]\n"
     ]
    }
   ],
   "source": [
    "# Print the reconstructed rating matrix\n",
    "print(\"Reconstructed Rating Matrix (nR):\")\n",
    "print(nR)"
   ]
  },
  {
   "cell_type": "code",
   "execution_count": 24,
   "id": "a01e0cca-25f6-49eb-99b0-57e4a80bc32c",
   "metadata": {},
   "outputs": [],
   "source": [
    "import matplotlib.pyplot as plt\n",
    "import seaborn as sns"
   ]
  },
  {
   "cell_type": "code",
   "execution_count": 26,
   "id": "e59faa99",
   "metadata": {
    "colab": {
     "base_uri": "https://localhost:8080/",
     "height": 484
    },
    "executionInfo": {
     "elapsed": 1313,
     "status": "ok",
     "timestamp": 1718706858837,
     "user": {
      "displayName": "Kunal Guwalani",
      "userId": "06540083485482537728"
     },
     "user_tz": -330
    },
    "id": "e59faa99",
    "outputId": "3a83743d-73ec-4ee6-9f59-f134654693ed"
   },
   "outputs": [
    {
     "data": {
      "image/png": "[encoded data removed]",
      "text/plain": [
       "<Figure size 1008x504 with 2 Axes>"
      ]
     },
     "metadata": {
      "needs_background": "light"
     },
     "output_type": "display_data"
    }
   ],
   "source": [
    "# Plotting the original and approximated matrices\n",
    "fig, axs = plt.subplots(1, 2, figsize=(14, 7))\n",
    "\n",
    "sns.heatmap(R, annot=True, fmt=\"g\", cmap='viridis', ax=axs[0], cbar=False)\n",
    "axs[0].set_title('Original Matrix R')\n",
    "axs[0].set_xlabel('Items')\n",
    "axs[0].set_ylabel('Users')\n",
    "\n",
    "sns.heatmap(nR, annot=True, fmt=\".2f\", cmap='viridis', ax=axs[1], cbar=False)\n",
    "axs[1].set_title('Approximated Matrix nR')\n",
    "axs[1].set_xlabel('Items')\n",
    "axs[1].set_ylabel('Users')\n",
    "\n",
    "plt.tight_layout()\n",
    "plt.show()"
   ]
  },
  {
   "cell_type": "markdown",
   "id": "498a09de",
   "metadata": {
    "id": "498a09de"
   },
   "source": [
    "__Observations:__\n",
    "    \n",
    "The heatmap visualization compares the original rating matrix \\( R \\) (left) and the reconstructed rating matrix \\( nR \\) (right) after matrix factorization. The x-axis represents items, and the y-axis represents users. Both heatmaps display the ratings, with color intensity indicating the rating values. This visual comparison helps in understanding how well the matrix factorization has approximated the original user-item interactions."
   ]
  },
  {
   "cell_type": "markdown",
   "id": "dBKeG259wtau",
   "metadata": {
    "id": "dBKeG259wtau"
   },
   "source": [
    "\n",
    "Matrix factorization helps in recommendation systems by decomposing the user-item interaction matrix into latent factors, reducing dimensionality, capturing hidden patterns, and predicting missing ratings to enhance recommendation accuracy. It is further applicable in personalized content recommendations, e-commerce product suggestions, and social network connections."
   ]
  },
  {
   "cell_type": "markdown",
   "id": "Ki6LTJWePXLP",
   "metadata": {
    "id": "Ki6LTJWePXLP"
   },
   "source": [
    "### __Singular Value Decomposition (SVD)__\n"
   ]
  },
  {
   "cell_type": "markdown",
   "id": "lIy50ElePTCo",
   "metadata": {
    "id": "lIy50ElePTCo"
   },
   "source": [
    "Singular Value Decomposition (SVD) is a matrix factorization technique useful in collaborative filtering for recommendation systems.\n"
   ]
  },
  {
   "cell_type": "markdown",
   "id": "Ld8ElEJ1PcHa",
   "metadata": {
    "id": "Ld8ElEJ1PcHa"
   },
   "source": [
    "1. **Matrix Representation**: Collaborative filtering uses a user-item interaction matrix where rows are users, columns are items, and entries are ratings. This matrix is often sparse.\n"
   ]
  },
  {
   "cell_type": "markdown",
   "id": "ga7Gn-ayPfAF",
   "metadata": {
    "id": "ga7Gn-ayPfAF"
   },
   "source": [
    "2. **Factorization**: SVD decomposes the matrix into three matrices:\n",
    "   - **U**: Represents users' relationships with latent factors (rows: users, columns: latent factors).\n",
    "   - **S**: A diagonal matrix with singular values indicating the importance of each latent factor.\n",
    "   - **V^T**: Represents items' relationships with latent factors (columns: items, rows: latent factors).\n"
   ]
  },
  {
   "cell_type": "markdown",
   "id": "FXxctom0Pi7i",
   "metadata": {
    "id": "FXxctom0Pi7i"
   },
   "source": [
    "3. **Reducing Dimensionality**: By truncating the number of singular values, SVD approximates the original matrix with a lower-dimensional representation, handling sparsity and capturing underlying patterns.\n"
   ]
  },
  {
   "cell_type": "markdown",
   "id": "oJWcbJXYPlj8",
   "metadata": {
    "id": "oJWcbJXYPlj8"
   },
   "source": [
    "4. **Reconstruction**: The original matrix is approximately reconstructed by multiplying \\( U \\), \\( S \\), and \\( V^T \\), resulting in predicted ratings.\n"
   ]
  },
  {
   "cell_type": "markdown",
   "id": "yOcBaKZBPsV2",
   "metadata": {
    "id": "yOcBaKZBPsV2"
   },
   "source": [
    "5. **Recommendations**: Recommendations are made by suggesting items with the highest predicted ratings for users, focusing on items they haven't interacted with yet.\n"
   ]
  },
  {
   "cell_type": "markdown",
   "id": "enssWi9QPuq1",
   "metadata": {
    "id": "enssWi9QPuq1"
   },
   "source": [
    "SVD identifies latent factors that explain user-item interactions, enabling recommendation systems to provide personalized suggestions based on past interactions.\n"
   ]
  },
  {
   "cell_type": "markdown",
   "id": "5_UlPVhyUVc8",
   "metadata": {
    "id": "5_UlPVhyUVc8"
   },
   "source": [
    "### Implementing SVD in Collaborative Filtering\n",
    "\n",
    "After understanding the theory behind Singular Value Decomposition (SVD) in collaborative filtering, let's implement this technique to build a recommendation system. We will use the MovieLens100K dataset, which contains 100,000 user ratings for various movies.\n",
    "\n",
    "#### Steps:\n",
    "\n",
    "1. **Import Libraries**: We start by importing the necessary libraries.\n",
    "2. **Load and Preprocess Data**: Load the dataset into a DataFrame, preprocess it by splitting into training and testing sets, and create user-item interaction matrices.\n",
    "3. **Matrix Factorization**: Perform SVD on the training data to decompose it into latent factors.\n",
    "4. **Reconstruction**: Reconstruct the original matrix using the decomposed matrices.\n",
    "5. **Evaluation**: Evaluate the performance of the recommendation system using RMSE.\n"
   ]
  },
  {
   "cell_type": "code",
   "execution_count": 27,
   "id": "41297d6c",
   "metadata": {
    "executionInfo": {
     "elapsed": 433,
     "status": "ok",
     "timestamp": 1718714345427,
     "user": {
      "displayName": "Aleena Raj",
      "userId": "16635257578699511263"
     },
     "user_tz": -330
    },
    "id": "41297d6c"
   },
   "outputs": [],
   "source": [
    "# Importing the pandas library as 'pd'\n",
    "import pandas as pd\n",
    "import numpy as np"
   ]
  },
  {
   "cell_type": "code",
   "execution_count": 30,
   "id": "82f82465",
   "metadata": {
    "colab": {
     "base_uri": "https://localhost:8080/",
     "height": 206
    },
    "executionInfo": {
     "elapsed": 460,
     "status": "ok",
     "timestamp": 1718714349498,
     "user": {
      "displayName": "Aleena Raj",
      "userId": "16635257578699511263"
     },
     "user_tz": -330
    },
    "id": "82f82465",
    "outputId": "4a1bb08e-9f95-4c77-e459-983617891bca"
   },
   "outputs": [
    {
     "data": {
      "text/html": [
       "<div>\n",
       "<style scoped>\n",
       "    .dataframe tbody tr th:only-of-type {\n",
       "        vertical-align: middle;\n",
       "    }\n",
       "\n",
       "    .dataframe tbody tr th {\n",
       "        vertical-align: top;\n",
       "    }\n",
       "\n",
       "    .dataframe thead th {\n",
       "        text-align: right;\n",
       "    }\n",
       "</style>\n",
       "<table border=\"1\" class=\"dataframe\">\n",
       "  <thead>\n",
       "    <tr style=\"text-align: right;\">\n",
       "      <th></th>\n",
       "      <th>user_id</th>\n",
       "      <th>item_id</th>\n",
       "      <th>rating</th>\n",
       "      <th>timestamp</th>\n",
       "    </tr>\n",
       "  </thead>\n",
       "  <tbody>\n",
       "    <tr>\n",
       "      <th>0</th>\n",
       "      <td>196</td>\n",
       "      <td>242</td>\n",
       "      <td>3</td>\n",
       "      <td>881250949</td>\n",
       "    </tr>\n",
       "    <tr>\n",
       "      <th>1</th>\n",
       "      <td>186</td>\n",
       "      <td>302</td>\n",
       "      <td>3</td>\n",
       "      <td>891717742</td>\n",
       "    </tr>\n",
       "    <tr>\n",
       "      <th>2</th>\n",
       "      <td>22</td>\n",
       "      <td>377</td>\n",
       "      <td>1</td>\n",
       "      <td>878887116</td>\n",
       "    </tr>\n",
       "    <tr>\n",
       "      <th>3</th>\n",
       "      <td>244</td>\n",
       "      <td>51</td>\n",
       "      <td>2</td>\n",
       "      <td>880606923</td>\n",
       "    </tr>\n",
       "    <tr>\n",
       "      <th>4</th>\n",
       "      <td>166</td>\n",
       "      <td>346</td>\n",
       "      <td>1</td>\n",
       "      <td>886397596</td>\n",
       "    </tr>\n",
       "  </tbody>\n",
       "</table>\n",
       "</div>"
      ],
      "text/plain": [
       "   user_id  item_id  rating  timestamp\n",
       "0      196      242       3  881250949\n",
       "1      186      302       3  891717742\n",
       "2       22      377       1  878887116\n",
       "3      244       51       2  880606923\n",
       "4      166      346       1  886397596"
      ]
     },
     "execution_count": 30,
     "metadata": {},
     "output_type": "execute_result"
    }
   ],
   "source": [
    "# Define the column names for the DataFrame\n",
    "header = ['user_id', 'item_id', 'rating', 'timestamp']\n",
    "\n",
    "# Read the data from the file 'u.data' into a DataFrame using pandas\n",
    "# The data is tab-separated ('\\t'), and column names are provided by 'header'\n",
    "df = pd.read_csv('u.data', sep='\\t', names=header)\n",
    "\n",
    "# Display the first few rows of the DataFrame to check the data\n",
    "df.head()\n"
   ]
  },
  {
   "cell_type": "code",
   "execution_count": 31,
   "id": "55a3c83e",
   "metadata": {
    "executionInfo": {
     "elapsed": 476,
     "status": "ok",
     "timestamp": 1718714417463,
     "user": {
      "displayName": "Aleena Raj",
      "userId": "16635257578699511263"
     },
     "user_tz": -330
    },
    "id": "55a3c83e"
   },
   "outputs": [],
   "source": [
    "# Calculate the number of unique user IDs in the DataFrame\n",
    "# shape[0] returns the number of elements in the first dimension of the resulting array\n",
    "# unique() returns unique values of the 'user_id' column\n",
    "n_users = df.user_id.unique().shape[0]\n",
    "\n",
    "# Calculate the number of unique item IDs in the DataFrame\n",
    "# shape[0] returns the number of elements in the first dimension of the resulting array\n",
    "# unique() returns unique values of the 'item_id' column\n",
    "n_items = df.item_id.unique().shape[0]"
   ]
  },
  {
   "cell_type": "code",
   "execution_count": 33,
   "id": "b9bce190-a234-46a3-972e-df84791f23c7",
   "metadata": {},
   "outputs": [
    {
     "data": {
      "text/plain": [
       "943"
      ]
     },
     "execution_count": 33,
     "metadata": {},
     "output_type": "execute_result"
    }
   ],
   "source": [
    "n_users"
   ]
  },
  {
   "cell_type": "code",
   "execution_count": 34,
   "id": "a6da9caa-c482-46ea-9ff4-4dfb4306ae60",
   "metadata": {},
   "outputs": [
    {
     "data": {
      "text/plain": [
       "1682"
      ]
     },
     "execution_count": 34,
     "metadata": {},
     "output_type": "execute_result"
    }
   ],
   "source": [
    "n_items"
   ]
  },
  {
   "cell_type": "code",
   "execution_count": 32,
   "id": "57b56d7c",
   "metadata": {
    "executionInfo": {
     "elapsed": 2483,
     "status": "ok",
     "timestamp": 1718714362472,
     "user": {
      "displayName": "Aleena Raj",
      "userId": "16635257578699511263"
     },
     "user_tz": -330
    },
    "id": "57b56d7c"
   },
   "outputs": [],
   "source": [
    "# Import the train_test_split function from the sklearn.model_selection module\n",
    "from sklearn.model_selection import train_test_split\n",
    "\n",
    "# Split the DataFrame 'df' into training and testing datasets\n",
    "# The 'test_size' parameter specifies the proportion of the dataset to include in the test split\n",
    "train_data, test_data = train_test_split(df, test_size=0.25)"
   ]
  },
  {
   "cell_type": "code",
   "execution_count": 35,
   "id": "8539f785-89d6-4508-9580-dbe4e00dfd21",
   "metadata": {},
   "outputs": [
    {
     "data": {
      "text/html": [
       "<div>\n",
       "<style scoped>\n",
       "    .dataframe tbody tr th:only-of-type {\n",
       "        vertical-align: middle;\n",
       "    }\n",
       "\n",
       "    .dataframe tbody tr th {\n",
       "        vertical-align: top;\n",
       "    }\n",
       "\n",
       "    .dataframe thead th {\n",
       "        text-align: right;\n",
       "    }\n",
       "</style>\n",
       "<table border=\"1\" class=\"dataframe\">\n",
       "  <thead>\n",
       "    <tr style=\"text-align: right;\">\n",
       "      <th></th>\n",
       "      <th>user_id</th>\n",
       "      <th>item_id</th>\n",
       "      <th>rating</th>\n",
       "      <th>timestamp</th>\n",
       "    </tr>\n",
       "  </thead>\n",
       "  <tbody>\n",
       "    <tr>\n",
       "      <th>25750</th>\n",
       "      <td>487</td>\n",
       "      <td>12</td>\n",
       "      <td>5</td>\n",
       "      <td>883445580</td>\n",
       "    </tr>\n",
       "    <tr>\n",
       "      <th>26988</th>\n",
       "      <td>321</td>\n",
       "      <td>1126</td>\n",
       "      <td>3</td>\n",
       "      <td>879439860</td>\n",
       "    </tr>\n",
       "    <tr>\n",
       "      <th>44720</th>\n",
       "      <td>417</td>\n",
       "      <td>106</td>\n",
       "      <td>2</td>\n",
       "      <td>879646741</td>\n",
       "    </tr>\n",
       "    <tr>\n",
       "      <th>79492</th>\n",
       "      <td>588</td>\n",
       "      <td>625</td>\n",
       "      <td>3</td>\n",
       "      <td>890024325</td>\n",
       "    </tr>\n",
       "    <tr>\n",
       "      <th>7284</th>\n",
       "      <td>117</td>\n",
       "      <td>12</td>\n",
       "      <td>5</td>\n",
       "      <td>881011350</td>\n",
       "    </tr>\n",
       "    <tr>\n",
       "      <th>...</th>\n",
       "      <td>...</td>\n",
       "      <td>...</td>\n",
       "      <td>...</td>\n",
       "      <td>...</td>\n",
       "    </tr>\n",
       "    <tr>\n",
       "      <th>56781</th>\n",
       "      <td>642</td>\n",
       "      <td>946</td>\n",
       "      <td>2</td>\n",
       "      <td>885606581</td>\n",
       "    </tr>\n",
       "    <tr>\n",
       "      <th>50392</th>\n",
       "      <td>699</td>\n",
       "      <td>413</td>\n",
       "      <td>3</td>\n",
       "      <td>884152706</td>\n",
       "    </tr>\n",
       "    <tr>\n",
       "      <th>80327</th>\n",
       "      <td>825</td>\n",
       "      <td>249</td>\n",
       "      <td>3</td>\n",
       "      <td>880755693</td>\n",
       "    </tr>\n",
       "    <tr>\n",
       "      <th>10023</th>\n",
       "      <td>389</td>\n",
       "      <td>176</td>\n",
       "      <td>4</td>\n",
       "      <td>880165047</td>\n",
       "    </tr>\n",
       "    <tr>\n",
       "      <th>76054</th>\n",
       "      <td>758</td>\n",
       "      <td>550</td>\n",
       "      <td>4</td>\n",
       "      <td>881978115</td>\n",
       "    </tr>\n",
       "  </tbody>\n",
       "</table>\n",
       "<p>75000 rows × 4 columns</p>\n",
       "</div>"
      ],
      "text/plain": [
       "       user_id  item_id  rating  timestamp\n",
       "25750      487       12       5  883445580\n",
       "26988      321     1126       3  879439860\n",
       "44720      417      106       2  879646741\n",
       "79492      588      625       3  890024325\n",
       "7284       117       12       5  881011350\n",
       "...        ...      ...     ...        ...\n",
       "56781      642      946       2  885606581\n",
       "50392      699      413       3  884152706\n",
       "80327      825      249       3  880755693\n",
       "10023      389      176       4  880165047\n",
       "76054      758      550       4  881978115\n",
       "\n",
       "[75000 rows x 4 columns]"
      ]
     },
     "execution_count": 35,
     "metadata": {},
     "output_type": "execute_result"
    }
   ],
   "source": [
    "train_data"
   ]
  },
  {
   "cell_type": "code",
   "execution_count": 36,
   "id": "df04a661",
   "metadata": {
    "id": "df04a661"
   },
   "outputs": [],
   "source": [
    "# Initialize a matrix with zeros of shape (n_users, n_items) for training data\n",
    "train_data_mat = np.zeros((n_users, n_items))\n",
    "\n",
    "# Iterate through each row of the training data DataFrame using itertuples()\n",
    "for line in train_data.itertuples():\n",
    "    # Assign the rating value (line[3]) to the corresponding position in the matrix\n",
    "    # Subtract 1 from user_id and item_id to account for zero-based indexing\n",
    "    train_data_mat[line[1]-1, line[2]-1] = line[3]\n",
    "\n",
    "# Initialize a matrix with zeros of shape (n_users, n_items) for testing data\n",
    "test_data_mat = np.zeros((n_users, n_items))\n",
    "\n",
    "# Iterate through each row of the testing data DataFrame using itertuples()\n",
    "for line in test_data.itertuples():\n",
    "    # Assign the rating value (line[3]) to the corresponding position in the matrix\n",
    "    # Subtract 1 from user_id and item_id to account for zero-based indexing\n",
    "    test_data_mat[line[1]-1, line[2]-1] = line[3]"
   ]
  },
  {
   "cell_type": "code",
   "execution_count": 38,
   "id": "aece67d7-fb24-49d2-baab-fa98ad1647eb",
   "metadata": {},
   "outputs": [
    {
     "data": {
      "text/plain": [
       "(943, 1682)"
      ]
     },
     "execution_count": 38,
     "metadata": {},
     "output_type": "execute_result"
    }
   ],
   "source": [
    "train_data_mat.shape"
   ]
  },
  {
   "cell_type": "code",
   "execution_count": 40,
   "id": "a64b330d-21d6-4261-a276-512e1cd3a1a0",
   "metadata": {},
   "outputs": [
    {
     "data": {
      "text/plain": [
       "array([[0., 3., 4., ..., 0., 0., 0.],\n",
       "       [4., 0., 0., ..., 0., 0., 0.],\n",
       "       [0., 0., 0., ..., 0., 0., 0.],\n",
       "       [0., 0., 0., ..., 0., 0., 0.],\n",
       "       [4., 3., 0., ..., 0., 0., 0.],\n",
       "       [4., 0., 0., ..., 0., 0., 0.]])"
      ]
     },
     "execution_count": 40,
     "metadata": {},
     "output_type": "execute_result"
    }
   ],
   "source": [
    "train_data_mat[0:6]"
   ]
  },
  {
   "cell_type": "code",
   "execution_count": 41,
   "id": "33680034",
   "metadata": {
    "id": "33680034"
   },
   "outputs": [],
   "source": [
    "# Import the mean_squared_error function from the sklearn.metrics module\n",
    "from sklearn.metrics import mean_squared_error\n",
    "\n",
    "# Import the square root function from the math module\n",
    "from math import sqrt\n",
    "\n",
    "# Define a function named 'rmse' to calculate the Root Mean Squared Error (RMSE)\n",
    "# The function takes two parameters: 'prediction' and 'ground_truth'\n",
    "def rmse(prediction, ground_truth):\n",
    "    # Extract non-zero elements from 'prediction' and 'ground_truth'\n",
    "    prediction = prediction[ground_truth.nonzero()].flatten()\n",
    "    ground_truth = ground_truth[ground_truth.nonzero()].flatten()\n",
    "\n",
    "    # Calculate the Root Mean Squared Error (RMSE) between 'prediction' and 'ground_truth'\n",
    "    return sqrt(mean_squared_error(prediction, ground_truth))"
   ]
  },
  {
   "cell_type": "code",
   "execution_count": 42,
   "id": "d3c5e5f3",
   "metadata": {
    "colab": {
     "base_uri": "https://localhost:8080/"
    },
    "executionInfo": {
     "elapsed": 418,
     "status": "ok",
     "timestamp": 1718708151540,
     "user": {
      "displayName": "Aleena Raj",
      "userId": "16635257578699511263"
     },
     "user_tz": -330
    },
    "id": "d3c5e5f3",
    "outputId": "924c6e28-2eb4-4dbe-8a96-da50e496c8be"
   },
   "outputs": [
    {
     "name": "stdout",
     "output_type": "stream",
     "text": [
      "The sparsity level of MovieLens100K is 93.70%\n"
     ]
    }
   ],
   "source": [
    "# Calculate the sparsity of the MovieLens100K dataset\n",
    "# Sparsity is defined as 1 minus the density of the dataset\n",
    "# Density is calculated as the number of ratings provided divided by the total possible ratings\n",
    "sparsity = round(1.0 - len(df) / float(n_users * n_items), 3)\n",
    "\n",
    "# Print the sparsity level as a percentage\n",
    "print(f'The sparsity level of MovieLens100K is {sparsity * 100:.2f}%')"
   ]
  },
  {
   "cell_type": "code",
   "execution_count": 43,
   "id": "f1b453eb",
   "metadata": {
    "colab": {
     "base_uri": "https://localhost:8080/"
    },
    "executionInfo": {
     "elapsed": 1216,
     "status": "ok",
     "timestamp": 1718708558978,
     "user": {
      "displayName": "Aleena Raj",
      "userId": "16635257578699511263"
     },
     "user_tz": -330
    },
    "id": "f1b453eb",
    "outputId": "65e69a11-9406-42a7-d085-70b54da3ac68"
   },
   "outputs": [
    {
     "name": "stdout",
     "output_type": "stream",
     "text": [
      "User-based collaborative filtering RMSE: 2.7362306986816627\n"
     ]
    }
   ],
   "source": [
    "# Import the required modules from scipy.sparse and scipy.sparse.linalg\n",
    "import scipy.sparse as sp\n",
    "from scipy.sparse.linalg import svds\n",
    "\n",
    "# Perform Singular Value Decomposition (SVD) on the training data matrix\n",
    "# 'k' specifies the number of singular values and vectors to compute\n",
    "u, s, vt = svds(train_data_mat, k=20)\n",
    "\n",
    "# Convert the singular values 's' into a diagonal matrix\n",
    "s_diag_matrix = np.diag(s)\n",
    "\n",
    "# Reconstruct the original matrix using the computed U, S, and V matrices\n",
    "X_pred = np.dot(np.dot(u, s_diag_matrix), vt)\n",
    "\n",
    "# Print the Root Mean Squared Error (RMSE) of the user-based collaborative filtering predictions\n",
    "print('User-based collaborative filtering RMSE: ' + str(rmse(X_pred, test_data_mat)))\n"
   ]
  },
  {
   "cell_type": "code",
   "execution_count": 45,
   "id": "d66664f9-17f4-4d71-8198-9d7fa8e9af09",
   "metadata": {},
   "outputs": [
    {
     "data": {
      "text/plain": [
       "(943, 1682)"
      ]
     },
     "execution_count": 45,
     "metadata": {},
     "output_type": "execute_result"
    }
   ],
   "source": [
    "X_pred.shape"
   ]
  },
  {
   "cell_type": "markdown",
   "id": "0d82bd07",
   "metadata": {
    "id": "0d82bd07"
   },
   "source": [
    "__Observations:__\n",
    "\n",
    "- Applying SVD for user-based collaborative filtering results in a root mean squared error (RMSE) of approximately 2.7.\n",
    "- This RMSE quantifies the average deviation between the predicted ratings and the actual ratings in the test dataset, demonstrating the effectiveness of SVD in predicting user preferences within this dataset.\n"
   ]
  },
  {
   "cell_type": "markdown",
   "id": "vmXRoY1FxKN8",
   "metadata": {
    "id": "vmXRoY1FxKN8"
   },
   "source": [
    "Singular value decomposition (SVD) helps in recommendation systems by decomposing the user-item interaction matrix into three matrices, capturing latent factors, and enabling the prediction of missing ratings for better recommendations. SVD reduces dimensionality and identifies hidden patterns, improving accuracy. It is also applicable in personalized content recommendations, e-commerce product suggestions, and social network connections."
   ]
  },
  {
   "cell_type": "markdown",
   "id": "61fd3d35",
   "metadata": {
    "id": "61fd3d35"
   },
   "source": [
    "## __1.3.2 Content Filtering__\n",
    "\n",
    "Content filtering relies on the attributes or characteristics of an item to suggest other items that match the user's preferences. This method is based on the resemblance between item and user features, utilizing information about a user and the items they have engaged with to predict the likelihood of a new interaction.\n",
    "\n",
    "For instance, if a content filtering recommender system observes that you enjoyed movies like __You've Got Mail__ and __Sleepless in Seattle__, it might recommend another movie with similar genres and/or cast, such as __Joe Versus the Volcano__.\n"
   ]
  },
  {
   "cell_type": "markdown",
   "id": "ca19da18",
   "metadata": {
    "id": "ca19da18"
   },
   "source": [
    "![link text](https://labcontent.simplicdn.net/data-content/content-assets/Data_and_AI/ML/updated/Lesson_08/Content_Filtering.jpg)"
   ]
  },
  {
   "cell_type": "code",
   "execution_count": 46,
   "id": "RtlOCDwve5zd",
   "metadata": {
    "colab": {
     "base_uri": "https://localhost:8080/"
    },
    "executionInfo": {
     "elapsed": 410,
     "status": "ok",
     "timestamp": 1718706962043,
     "user": {
      "displayName": "Kunal Guwalani",
      "userId": "06540083485482537728"
     },
     "user_tz": -330
    },
    "id": "RtlOCDwve5zd",
    "outputId": "5b84c76f-f562-4ec6-e179-a25e46330d46"
   },
   "outputs": [],
   "source": [
    "import numpy as np\n",
    "from sklearn.metrics.pairwise import cosine_similarity\n",
    "\n",
    "# Define item profiles (attributes: [genre, length, director])\n",
    "item_profiles = {\n",
    "    'Item1': np.array([1, 0, 1]),  # Example: Genre1, Length2, Director1\n",
    "    'Item2': np.array([0, 1, 1]),\n",
    "    'Item3': np.array([1, 1, 0]),\n",
    "}\n"
   ]
  },
  {
   "cell_type": "code",
   "execution_count": 47,
   "id": "c319730f-7943-47f9-8d27-06c94314a1c7",
   "metadata": {},
   "outputs": [],
   "source": [
    "# User ratings for items (rating scale: 1-5)\n",
    "user_ratings = {\n",
    "    'Item1': 5,\n",
    "    'Item2': 3,\n",
    "    'Item3': 4,\n",
    "}\n"
   ]
  },
  {
   "cell_type": "code",
   "execution_count": 48,
   "id": "f0a3cf17-dec1-4aec-9cea-5506791e5280",
   "metadata": {},
   "outputs": [
    {
     "name": "stdout",
     "output_type": "stream",
     "text": [
      "User profile vector: [3.         2.33333333 2.66666667]\n"
     ]
    }
   ],
   "source": [
    "# Construct user profile by averaging the attribute vectors of rated items\n",
    "user_profile = np.zeros(len(item_profiles['Item1']))\n",
    "rated_items = 0\n",
    "\n",
    "for item, rating in user_ratings.items():\n",
    "    user_profile += item_profiles[item] * rating\n",
    "    rated_items += 1\n",
    "\n",
    "user_profile /= rated_items\n",
    "\n",
    "print(\"User profile vector:\", user_profile)"
   ]
  },
  {
   "cell_type": "code",
   "execution_count": 49,
   "id": "6430f254-46b5-41fc-8722-42f447fc85fd",
   "metadata": {},
   "outputs": [
    {
     "name": "stdout",
     "output_type": "stream",
     "text": [
      "Cosine similarity between user profile and new item: 0.8122769321068951\n"
     ]
    }
   ],
   "source": [
    "# New item to recommend (attributes)\n",
    "new_item_profile = np.array([1, 1, 0])  # Example: Genre1, Length2, Director1\n",
    "\n",
    "# Compute cosine similarity between user profile and new item profile\n",
    "similarity = cosine_similarity([user_profile], [new_item_profile])\n",
    "\n",
    "print(\"Cosine similarity between user profile and new item:\", similarity[0][0])"
   ]
  },
  {
   "cell_type": "markdown",
   "id": "iXxkwRqzyaQS",
   "metadata": {
    "id": "iXxkwRqzyaQS"
   },
   "source": [
    "**Observation:**\n",
    "\n",
    "The user profile vector [3.0, 2.33, 2.67] [3.0,2.33,2.67] reflects the user's aggregated preferences across the given attributes. The cosine similarity between the user profile and the new item's profile [1, 1, 0] [1,1,0] is 0.812, indicating a strong match. Thus, the new item is recommended to the user, as it closely aligns with their preferences."
   ]
  },
  {
   "cell_type": "markdown",
   "id": "2936e21a",
   "metadata": {
    "id": "2936e21a"
   },
   "source": [
    "### __1.3.3 Hybrid Filtering__\n",
    "\n",
    "Hybrid recommendation systems combine techniques like collaborative filtering and content-based filtering to provide personalized recommendations.\n",
    "\n",
    "For instance, a movie recommendation system might analyze both user preferences (collaborative filtering) and movie attributes (content-based filtering) to suggest films, achieving more accurate and diverse recommendations.\n",
    "\n",
    "### Mathematical Concept for Hybrid Filtering\n",
    "\n",
    "Hybrid filtering can be implemented by combining the results from collaborative filtering and content-based filtering. Here is a simple approach:\n",
    "\n",
    "1. **Collaborative Filtering Score**:  \n",
    "   Compute the predicted rating for a user \\(u\\) and item \\(i\\) using collaborative filtering:\n",
    "   $$\n",
    "   \\text{score}_{\\text{CF}}(u, i)\n",
    "   $$\n",
    "\n",
    "2. **Content-Based Filtering Score**:  \n",
    "   Compute the predicted rating for a user \\(u\\) and item \\(i\\) using content-based filtering:\n",
    "   $$\n",
    "   \\text{score}_{\\text{CB}}(u, i)\n",
    "   $$\n",
    "\n",
    "3. **Hybrid Score**:  \n",
    "   Combine the scores from collaborative filtering and content-based filtering. A common method is to take a weighted average:\n",
    "   $$\n",
    "   \\text{score}_{\\text{Hybrid}}(u, i) = \\alpha \\cdot \\text{score}_{\\text{CF}}(u, i) + (1 - \\alpha) \\cdot \\text{score}_{\\text{CB}}(u, i)\n",
    "   $$\n",
    "   where \\(\\alpha\\) is a parameter that balances the contributions of the two methods.\n",
    "\n",
    "This approach leverages the strengths of both collaborative and content-based filtering to provide more accurate and personalized recommendations.\n",
    "\n",
    "### Example\n",
    "\n",
    "Let's illustrate hybrid filtering with a simple coding example.\n",
    "\n"
   ]
  },
  {
   "cell_type": "markdown",
   "id": "AIWnyyOoz8nx",
   "metadata": {
    "id": "AIWnyyOoz8nx"
   },
   "source": [
    "**Further Use and Example:**\n",
    "\n",
    "Hybrid recommendation systems can be used in various applications to enhance recommendation accuracy by combining multiple recommendation techniques.\n",
    "\n",
    "**Example:**\n",
    "\n",
    "**E-commerce Platforms:**\n",
    "\n",
    "- **Scenario:** An online retail store wants to recommend products to users.\n",
    "\n",
    "- **Application:** The system uses collaborative filtering to leverage user purchase history and content-based filtering to analyze product descriptions. Combining these scores, the hybrid system can recommend products that similar users have bought and that match the user's browsing preferences."
   ]
  },
  {
   "cell_type": "markdown",
   "id": "rFghpxm8I_7y",
   "metadata": {
    "id": "rFghpxm8I_7y"
   },
   "source": [
    "### __1.4.2 Hit Rate__\n",
    "\n",
    "The Hit Rate is a metric used to evaluate the effectiveness of a recommendation system. It measures the proportion of users for whom the recommended list contains at least one relevant item.\n",
    "\n",
    "#### Usage\n",
    "\n",
    "The Hit Rate is calculated by dividing the number of users who received at least one relevant recommendation by the total number of users. It gives an indication of how well the recommendation system is performing in terms of hitting the target for each user.\n"
   ]
  },
  {
   "cell_type": "code",
   "execution_count": null,
   "id": "nz4oaZ1bJENs",
   "metadata": {
    "colab": {
     "base_uri": "https://localhost:8080/"
    },
    "executionInfo": {
     "elapsed": 425,
     "status": "ok",
     "timestamp": 1718706975356,
     "user": {
      "displayName": "Kunal Guwalani",
      "userId": "06540083485482537728"
     },
     "user_tz": -330
    },
    "id": "nz4oaZ1bJENs",
    "outputId": "e753f8a9-d008-4ffe-9328-11a86c69e8e1"
   },
   "outputs": [
    {
     "name": "stdout",
     "output_type": "stream",
     "text": [
      "Hit Rate: 1.00\n"
     ]
    }
   ],
   "source": [
    "def HitRate(top_n_recommendations, true_ratings, threshold=3.5):\n",
    "    hits = 0\n",
    "    total_users = len(top_n_recommendations)\n",
    "\n",
    "    for user, recommendations in top_n_recommendations.items():\n",
    "        # Check if any of the recommended items are rated above the threshold by the user\n",
    "        if any(true_ratings[user, item] >= threshold for item in recommendations):\n",
    "            hits += 1\n",
    "\n",
    "    hit_rate = hits / total_users\n",
    "    return hit_rate\n",
    "\n",
    "# Example true ratings matrix (users x items)\n",
    "true_ratings = np.array([\n",
    "    [3.5, 2.0, 4.5, 1.0, 5.0],\n",
    "    [1.0, 4.0, 3.0, 4.5, 2.0],\n",
    "    [4.0, 2.5, 3.5, 4.0, 5.0],\n",
    "])\n",
    "\n",
    "# Calculate Hit Rate\n",
    "hit_rate = HitRate(top_n_recommendations, true_ratings, threshold=3.5)\n",
    "print(f\"Hit Rate: {hit_rate:.2f}\")\n"
   ]
  },
  {
   "cell_type": "markdown",
   "id": "2151As3eMCin",
   "metadata": {
    "id": "2151As3eMCin"
   },
   "source": [
    "### Observation\n",
    "\n",
    "In this example, the `HitRate` function calculates the effectiveness of recommendations by determining the proportion of users who have at least one recommended item rated above a specified threshold. It iterates through the top N recommendations for each user and checks if any recommended item meets the threshold. The function then computes the hit rate as the ratio of users with at least one relevant recommendation to the total number of users. This example shows how to evaluate the relevance of recommendations using a simple and intuitive metric."
   ]
  },
  {
   "cell_type": "markdown",
   "id": "DuiepwmUKiR9",
   "metadata": {
    "id": "DuiepwmUKiR9"
   },
   "source": [
    "## __1.5. Addressing Challenges in Recommendation Systems__"
   ]
  },
  {
   "cell_type": "markdown",
   "id": "99Lb0yXx5_vF",
   "metadata": {
    "id": "99Lb0yXx5_vF"
   },
   "source": [
    "### __1.5.1 Cold start problem__"
   ]
  },
  {
   "cell_type": "markdown",
   "id": "pAnrkKZ6J0z9",
   "metadata": {
    "id": "pAnrkKZ6J0z9"
   },
   "source": [
    "\n",
    "\n",
    "The cold start problem refers to a challenge encountered by recommender systems when they are unable to effectively make recommendations for new users or items with limited or no historical data. In other words, when there isn't enough information about a user's preferences or about newly added items, it becomes difficult for the recommender system to accurately predict what the user might like. This can result in less personalized or inaccurate recommendations until sufficient data is collected to better understand the user or item.\n"
   ]
  },
  {
   "cell_type": "markdown",
   "id": "F7js4i88J05A",
   "metadata": {
    "id": "F7js4i88J05A"
   },
   "source": [
    "#### Types of Cold Start Problems\n",
    "\n",
    "- **User Cold Start Problem**: This arises when there is almost no information available about the user, making it difficult to generate personalized recommendations.\n",
    "- **Item Cold Start Problem**: This occurs when there is almost no information available about a product, making it difficult to recommend it to users effectively.\n"
   ]
  },
  {
   "cell_type": "markdown",
   "id": "LgfTtQVVM4lU",
   "metadata": {
    "id": "LgfTtQVVM4lU"
   },
   "source": [
    "#### Reasons for Cold Start Problems\n",
    "\n",
    "- **Systematic Bootstrapping**: Starting the system with limited data makes it difficult to give accurate recommendations to new users or items.\n",
    "- **Low Interaction**: Minimal user engagement results in sparse data, making it difficult for the recommender system to understand preferences.\n",
    "- **New User**: Lack of historical data for new users hampers personalized recommendations until enough interaction data is collected.\n"
   ]
  },
  {
   "cell_type": "markdown",
   "id": "Sa9GQGKOM4nc",
   "metadata": {
    "id": "Sa9GQGKOM4nc"
   },
   "source": [
    "#### Mitigation Techniques\n",
    "\n",
    "Mitigation techniques refer to employing strategies to tackle challenges or lessen the effects of issues encountered within a system or process with the goal of improving performance or effectiveness. The following are the primary techniques employed for mitigation:\n",
    "\n",
    "- **Representative Approach**: Using samples or subsets of data that accurately reflect the characteristics of a larger dataset ensures reliable analysis and decision-making.\n",
    "- **Feature Mapping**: Transforming input variables into a different representation improves the performance or interpretability of machine learning models.\n",
    "- **Hybrid Approach**: Combining various methods or models aims to achieve superior performance or address diverse requirements effectively.\n"
   ]
  },
  {
   "cell_type": "markdown",
   "id": "A0R58b_fM40x",
   "metadata": {
    "id": "A0R58b_fM40x"
   },
   "source": [
    "### __1.5.2 Implicit and Explicit Feedback__\n",
    "\n",
    "In recommendation systems, implicit and explicit feedback are two types of signals used to understand user preferences.\n"
   ]
  },
  {
   "cell_type": "markdown",
   "id": "rqpLWZcfM43N",
   "metadata": {
    "id": "rqpLWZcfM43N"
   },
   "source": [
    "- **Explicit Feedback**: This refers to direct and clear indications of user preferences provided explicitly by the user. For example, ratings, reviews, likes, or dislikes expressed by users explicitly convey their opinions or preferences for certain items.\n",
    "- **Implicit Feedback**: This type of feedback is inferred from user behavior or interactions with the system without any explicit input from the user. It includes actions such as clicks, purchases, browsing history, time spent on items, or mouse movements. Implicit feedback relies on interpreting user actions to understand their preferences and interests.\n"
   ]
  },
  {
   "cell_type": "markdown",
   "id": "2c186107",
   "metadata": {
    "id": "2c186107"
   },
   "source": [
    "## __Conclusion__\n",
    "\n",
    "This lesson provided a comprehensive overview of recommendation systems, exploring various types, stages, and applications crucial for enhancing user experiences across multiple platforms. We delved into collaborative, content, and hybrid filtering methods, discussing their specific roles and implementations, including user-based and item-based approaches. The lesson also addressed challenges like the cold start problem and the use of accuracy metrics such as RMSE, MAE, and HitRate to evaluate system performance.\n",
    "\n",
    "By mastering the complexities of data processing and design considerations, you are well-prepared to create advanced, tailored recommendation systems that effectively meet varied user needs and preferences."
   ]
  }
 ],
 "metadata": {
  "colab": {
   "provenance": []
  },
  "kernelspec": {
   "display_name": "Python 3 (ipykernel)",
   "language": "python",
   "name": "python3"
  },
  "language_info": {
   "codemirror_mode": {
    "name": "ipython",
    "version": 3
   },
   "file_extension": ".py",
   "mimetype": "text/x-python",
   "name": "python",
   "nbconvert_exporter": "python",
   "pygments_lexer": "ipython3",
   "version": "3.10.4"
  }
 },
 "nbformat": 4,
 "nbformat_minor": 5
}
