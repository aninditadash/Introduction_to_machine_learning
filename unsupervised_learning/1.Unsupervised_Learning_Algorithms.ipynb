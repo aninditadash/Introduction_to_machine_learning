{
 "cells": [
  {
   "cell_type": "markdown",
   "metadata": {
    "id": "aMe6D8Ic5r4z"
   },
   "source": [
    "# __Unsupervised Learning__"
   ]
  },
  {
   "cell_type": "markdown",
   "metadata": {
    "id": "Cxr7J95SMRKh"
   },
   "source": [
    "- Introduction to Unsupervised Learning\n",
    "  - What Is Unsupervised Learning?\n",
    "  - Approaches to Unsupervised algorithm (Clustering, Dimensionality Reduction, Association rule )\n",
    "- Clustering Techniques\n",
    "  - Overview of Clustering\n",
    "  - __K-Means Clustering:__\n",
    "    - Algorithm and Implementation\n",
    "    - Choosing the Number of Clusters (Elbow Method, Silhouette Score)\n",
    "  - __Hierarchical Clustering:__\n",
    "    - Agglomerative vs. Divisive Methods\n",
    "    - Dendrograms and Linkage Criteria\n",
    "  - __DBSCAN (Density-Based Spatial Clustering of Applications with Noise)__"
   ]
  },
  {
   "cell_type": "markdown",
   "metadata": {
    "id": "_2uzoQCuMVNu"
   },
   "source": [
    "## __What Is Unsupervised Learning__"
   ]
  },
  {
   "cell_type": "markdown",
   "metadata": {
    "id": "XoR3azbSMVNv"
   },
   "source": [
    "Unsupervised learning is a machine learning type where the model learns from unlabeled data to find patterns within it.\n",
    "\n",
    "- It deals with unlabeled datasets.\n",
    "- It enables algorithms to work independently to discover hidden information or pattern in the data without guidance.\n",
    "- It classifies unsorted information according to patterns, differences, or similarities.\n",
    "\n",
    "Unsupervised learning algorithms are used to detect the following in the data:\n",
    "- Patterns\n",
    "- Differences\n",
    "- Similarities\n",
    "\n",
    "In unsupervised learning, the model derives insights from the data without being taught anything.\n",
    "- It uncovers several previously unknown patterns in the dataset.\n",
    "- It helps in finding features that may be useful for categorization.\n"
   ]
  },
  {
   "cell_type": "markdown",
   "metadata": {
    "id": "27ZN3jWpMVNv"
   },
   "source": [
    "__Example:__ A data scientist inputs information about elderly people admitted to the hospital. The algorithm receives no external input to influence categorization.\n",
    "\n",
    "- Categorization of the given data can be based on age, average time spent in the hospital, and the types of diseases patients suffer from.\n",
    "- The final categorization of a dataset aids in deriving conclusions based on different patterns generated from the data.\n",
    "- Clusters formed according to the dataset yield the following inferences:\n",
    "\n",
    "<img src=\"https://labcontent.simplicdn.net/data-content/content-assets/Data_and_AI/ML/Lesson_06/Updated/new/ul_example.png\" width=1000 height=1000 />\n",
    "\n",
    "<img src=\"https://labcontent.simplicdn.net/data-content/content-assets/Data_and_AI/ML/Lesson_06/Updated/new/ul_example_classifier.png\" width=500 height=500 />\n",
    "\n",
    "- Three clusters are formed based on the average time spent in the hospital.\n",
    "- The death rate for patients suffering from cancer and heart disease  decreased after 1970.\n",
    "- The average hospital stay duration has decreased.\n",
    "- Life expectancy for a 65-year-old is higher today compared to earlier years.\n",
    "- A decreasing death rate indicates progress in medical science.\n"
   ]
  },
  {
   "cell_type": "markdown",
   "metadata": {
    "id": "OHe0Q4gmNh8m"
   },
   "source": [
    "## __Approaches to Unsupervised Algorithm__"
   ]
  },
  {
   "cell_type": "markdown",
   "metadata": {
    "id": "4qgO1zV1OKp2"
   },
   "source": [
    "There are several approaches to unsupervised learning, each suited to different tasks:\n",
    "\n",
    "1. **Clustering:** This is a popular approach that groups data points into clusters based on their similarities. Common clustering algorithms include `k-means`, `hierarchical clustering`, and `density-based clustering` like `DBSCAN`.\n",
    "\n",
    "2. **Dimensionality reduction:** This approach aims to reduce the number of features in a dataset while preserving the essential information. This can be useful for visualization and improving the efficiency of other machine learning algorithms. `Principal component analysis (PCA)` is a widely used dimensionality reduction technique.\n",
    "\n",
    "3. **Association rule learning:** This approach discovers relationships between different variables in a large dataset. It helps identify items that frequently appear together, which can be valuable for tasks like market basket analysis. The `Apriori algorithm` is a common example of this approach.\n",
    "\n",
    "__*Market basket analysis*__ is a data mining technique used by retailers to discover relationships between items that people buy together frequently. It's often leveraged in retail sales to identify strong correlations between products. A famous example of market basket analysis is the \"diapers and beer\" story, where it was found that these two products were often purchased together, leading to marketing strategies that placed these items closer to encourage further sales.\n"
   ]
  },
  {
   "cell_type": "markdown",
   "metadata": {
    "id": "dsDsrn29TAug"
   },
   "source": [
    "## __Clustering Techniques__"
   ]
  },
  {
   "cell_type": "markdown",
   "metadata": {
    "id": "jnO08AXTQZWu"
   },
   "source": [
    "### __Overview of Clustering__"
   ]
  },
  {
   "cell_type": "markdown",
   "metadata": {
    "id": "3OjJ4Kq3Rfch"
   },
   "source": [
    "Clustering is a technique in unsupervised learning where data points are grouped together based on their similarities, aiming to discover inherent patterns or structures within the data.\n",
    "\n",
    "- Clustering techniques divide a set of data points into multiple clusters, ensuring similarity within each cluster.\n",
    "- Its goal is to segregate data points with similar traits.\n",
    "- The centroid, also known as the center of mass, is the mean position of all points in the group. It is the point that minimizes the sum of the squared distances to all other points in the group, making it central to clustering analysis.\n",
    "\n",
    "<img src=\"https://labcontent.simplicdn.net/data-content/content-assets/Data_and_AI/ML/New/Lesson_06_Unsupervised_Learning/clustering.png\" width=600 height=600 />\n",
    "\n",
    "Visualizing clustering - https://www.naftaliharris.com/blog/visualizing-k-means-clustering/"
   ]
  },
  {
   "cell_type": "markdown",
   "metadata": {
    "id": "huBv-QDwQZYt"
   },
   "source": [
    "### __Clustering Algorithms__"
   ]
  },
  {
   "cell_type": "markdown",
   "metadata": {
    "id": "aEsZNtR1TfbW"
   },
   "source": [
    "The most common clustering algorithms used in unsupervised learning are:\n",
    "\n",
    "- K-means clustering\n",
    "- K-medoids\n",
    "- Hierarchical clustering\n",
    "- Density-based spatial clustering of applications with noise (DBSCAN)"
   ]
  },
  {
   "cell_type": "markdown",
   "metadata": {
    "id": "bAc9vGwKcI9a"
   },
   "source": [
    "## __1. K-Means Clustering__"
   ]
  },
  {
   "cell_type": "markdown",
   "metadata": {
    "id": "Lg4smuWpcJA-"
   },
   "source": [
    "K-means clustering is an unsupervised machine learning algorithm that partitions data into k clusters by minimizing the within-cluster variance.\n",
    "\n",
    "- It groups unlabeled data into clusters by identifying the `k` number of centroids.\n",
    "- It assigns every data point to the closest cluster by calculating and using the pairwise Euclidean distance between points.\n",
    "- __Stopping Criteria for K-Means Clustering:__ Centroids of newly formed clusters do not change. Points remain in the same cluster. Maximum number of iterations is reached.\n",
    "\n",
    "It is an unsupervised, distance-based clustering algorithm where data points that are close to each other are grouped in a given number of clusters/groups."
   ]
  },
  {
   "cell_type": "markdown",
   "metadata": {
    "id": "d5tOVPFGcJQM"
   },
   "source": [
    "Let us understand the workings of a k-means algorithm with the help of a flow chart.\n",
    "\n",
    "<img src=\"https://labcontent.simplicdn.net/data-content/content-assets/Data_and_AI/ML/Lesson_06/Updated/new/Unsupervised.png\" width=900 height=900 />\n",
    "\n",
    "<img src=\"https://labcontent.simplicdn.net/data-content/content-assets/Data_and_AI/ML/Lesson_06/Updated/new/K_means.png\" width=700 height=700 />\n",
    "\n",
    "__Step 1:__ Select the number of clusters, k (e.g., k = 2 for demonstration).\n",
    "\n",
    "__Step 2:__ Select k random points from the dataset as the initial centroids.\n",
    "\n",
    "__Step 3:__ Calculate the Euclidean distance from each data point to each centroid.\n",
    "\n",
    "__Step 4:__ Assign each data point to the nearest cluster centroid based on the calculated distances.\n",
    "\n",
    "__Step 5:__ Recalculate the centroids of each cluster as the mean of all points assigned to that cluster.\n",
    "\n",
    "__Step 6:__ Reassign each data point to the nearest centroid. If no data points change their cluster assignments or a maximum number of iterations is reached, stop; otherwise, return to Step 5.\n",
    "\n",
    "https://www.geeksforgeeks.org/elbow-method-for-optimal-value-of-k-in-kmeans/?ref=header_ind"
   ]
  },
  {
   "cell_type": "markdown",
   "metadata": {},
   "source": [
    "### __Limitations of K-Means Algorithm__"
   ]
  },
  {
   "cell_type": "markdown",
   "metadata": {},
   "source": [
    "- Sensitivity to initial centroid placement.\n",
    "- The need to predefine the number of clusters.\n",
    "- Susceptibility to outliers.\n",
    "- Assumption of spherical, equal-sized clusters.\n",
    "- not well-suited for datasets with non-linear relationships or complex cluster structures, as it's based on Euclidean distances and may struggle to capture these nuances.\n",
    "- computationally expensive and less efficient when dealing with large datasets, as it involves calculating distances between all data points and centroids. "
   ]
  },
  {
   "cell_type": "markdown",
   "metadata": {
    "id": "_H7q4mLM0O1F"
   },
   "source": [
    "### __1.1 Elbow method to find the optimal K__"
   ]
  },
  {
   "cell_type": "markdown",
   "metadata": {},
   "source": [
    "The elbow method is a graphical method for finding the optimal K value in a k-means clustering algorithm. The elbow graph shows the `within-cluster-sum-of-square (WCSS)` values on the y-axis corresponding to the different values of K (on the x-axis).The optimal K value is the point at which the graph forms an elbow. \n",
    "\n",
    "- It works by choosing a range of K values (usually 1 through n, where n is a chosen number), and finding the within-cluster sum of squares (WCSS) value for each K value in the range.\n",
    "- WCSS is the sum of the square distance between data points in a cluster and the cluster centroid, essentially measuring how close points are clustered around their corresponding centroid.\n",
    "- WCSS is calculated before clustering to find optimal `K` value.\n",
    "\n",
    "<img src=\"https://builtin.com/sites/www.builtin.com/files/styles/ckeditor_optimize/public/inline-images/WCSS%20equation.png\" width=300 height=300 />\n",
    "\n",
    "- $k$ = number of clusters\n",
    "- $C$ = cluster \n",
    "- $μ$ = sample mean (cluster centroid) in cluster i \n"
   ]
  },
  {
   "cell_type": "markdown",
   "metadata": {},
   "source": [
    "- The elbow method involves plotting the number of clusters against the distortion or inertia to identify a significant flattening point, known as the elbow point.\n",
    "- The elbow point represents a trade-off between capturing meaningful patterns and avoiding excessive complexity, indicating the optimal number of clusters.\n",
    "- By choosing the value of k at the elbow point, you strike a balance between cluster quality and simplicity, resulting in a reasonable number of clusters.\n",
    "\n",
    "<img src=\"https://media.geeksforgeeks.org/wp-content/uploads/20241028173908396970/Elbow-Method.png\" width=800 height=700 />\n",
    "\n",
    "#### __Steps to perform:__\n",
    "\n",
    "1. Calculate the WCSS (within-cluster sum of squares) for different numbers of clusters.\n",
    "   * WCSS measures how compact a cluster is in k-means clustering. It calculates the total squared distance of all points within a cluster to their cluster's centroid. In simpler terms, it tells you how spread out the points are within a cluster.\n",
    "   * The lower the WCSS, the closer the points are to their cluster's center.\n",
    "2. Plot the WCSS values to find the optimal number of clusters.\n"
   ]
  },
  {
   "cell_type": "markdown",
   "metadata": {},
   "source": [
    "#### __Disadvantages of Elbow method__"
   ]
  },
  {
   "cell_type": "markdown",
   "metadata": {},
   "source": [
    "- In the majority of the real-world data sets, there’s not a clear elbow inflection point to identify the right ‘K’ using the elbow method.\n",
    "- This makes it easier to find the wrong K."
   ]
  },
  {
   "cell_type": "markdown",
   "metadata": {},
   "source": [
    "### __1.2 Silhouette Score__"
   ]
  },
  {
   "cell_type": "markdown",
   "metadata": {},
   "source": [
    "The Silhouette score is a very useful method to find the number of K when the elbow method doesn’t show a clear elbow point.\n",
    "The value of the Silhouette score ranges from -1 to 1. Following is the interpretation of the Silhouette score.\n",
    "- `1`: Points are perfectly assigned in a cluster and clusters are easily distinguishable.\n",
    "- `0`: Clusters are overlapping.\n",
    "- `-1`: Points are wrongly assigned in a cluster.\n",
    "\n",
    "$$ \\text{Silhouette Score} = (b-a) / max(a,b) $$\n",
    "\n",
    "Where: \n",
    "- $a$ = average intra-cluster distance (i.e. the average distance between each point within a cluster) - within cluster distance.\n",
    "- $b$ = average inter-cluster distance (i.e. the average distance between all clusters) - outside cluster distance."
   ]
  },
  {
   "cell_type": "markdown",
   "metadata": {},
   "source": [
    "- Silhouette score measures how well data points fit their assigned cluster by considering both similarity within a cluster and separation between clusters.\n",
    "- Measures the quality of clustering by comparing how similar an object is to its own cluster versus other clusters.\n",
    "     - **Intra-cluster distance** is the average distance between points within the same cluster. A lower intra-cluster distance indicates that the cluster is more compact, which is generally desirable.\n",
    "     - **Inter-cluster distance** measures the distance between clusters. Ideally, you want clusters to be as far apart as possible (high inter-cluster distance) to ensure that they are distinct from one another.\n",
    "- The score ranges from -1 to 1.\n",
    "  - **Close to 1:** Indicates that the object is well-clustered and appropriately assigned to its cluster.\n",
    "  - **Close to 0:** Indicates that the object lies on or very close to the boundary between two clusters.\n",
    "  - **Close to -1:** Indicates that the object is poorly clustered and may have been assigned to the wrong cluster.\n",
    "\n",
    "**Note:**  The silhouette score is particularly useful for determining the optimal number of clusters k, in a dataset."
   ]
  },
  {
   "cell_type": "markdown",
   "metadata": {},
   "source": [
    "## __Mall Customer Segmentation Data__"
   ]
  },
  {
   "cell_type": "markdown",
   "metadata": {},
   "source": [
    "### __Dataset Description__"
   ]
  },
  {
   "cell_type": "markdown",
   "metadata": {},
   "source": [
    "https://www.kaggle.com/datasets/vjchoudhary7/customer-segmentation-tutorial-in-python\n",
    "\n",
    "This data set is created only for the learning purpose of the customer segmentation concepts , also known as market basket analysis.You are owing a supermarket mall and through membership cards , you have some basic data about your customers like Customer ID, age, gender, annual income and spending score. Spending Score is something you assign to the customer based on your defined parameters like customer behavior and purchasing data.\n",
    "\n",
    "__Problem Statement:__\n",
    "You own the mall and want to understand the customers like who can be easily converge [Target Customers] so that the sense can be given to marketing team and plan the strategy accordingly."
   ]
  },
  {
   "cell_type": "markdown",
   "metadata": {},
   "source": [
    "#### __Import the necessary libraries__"
   ]
  },
  {
   "cell_type": "code",
   "execution_count": 2,
   "metadata": {
    "id": "-dlx0qFFepNL"
   },
   "outputs": [],
   "source": [
    "import pandas as pd\n",
    "import numpy as np\n",
    "import matplotlib.pyplot as plt\n",
    "from sklearn.cluster import KMeans\n",
    "from sklearn.preprocessing import StandardScaler"
   ]
  },
  {
   "cell_type": "markdown",
   "metadata": {},
   "source": [
    "#### __Loading the dataset__"
   ]
  },
  {
   "cell_type": "code",
   "execution_count": 4,
   "metadata": {
    "id": "_nR-pfjzepNM"
   },
   "outputs": [
    {
     "data": {
      "text/html": [
       "<div>\n",
       "<style scoped>\n",
       "    .dataframe tbody tr th:only-of-type {\n",
       "        vertical-align: middle;\n",
       "    }\n",
       "\n",
       "    .dataframe tbody tr th {\n",
       "        vertical-align: top;\n",
       "    }\n",
       "\n",
       "    .dataframe thead th {\n",
       "        text-align: right;\n",
       "    }\n",
       "</style>\n",
       "<table border=\"1\" class=\"dataframe\">\n",
       "  <thead>\n",
       "    <tr style=\"text-align: right;\">\n",
       "      <th></th>\n",
       "      <th>CustomerID</th>\n",
       "      <th>Gender</th>\n",
       "      <th>Age</th>\n",
       "      <th>Annual Income (k$)</th>\n",
       "      <th>Spending Score (1-100)</th>\n",
       "    </tr>\n",
       "  </thead>\n",
       "  <tbody>\n",
       "    <tr>\n",
       "      <th>0</th>\n",
       "      <td>1</td>\n",
       "      <td>Male</td>\n",
       "      <td>19</td>\n",
       "      <td>15</td>\n",
       "      <td>39</td>\n",
       "    </tr>\n",
       "    <tr>\n",
       "      <th>1</th>\n",
       "      <td>2</td>\n",
       "      <td>Male</td>\n",
       "      <td>21</td>\n",
       "      <td>15</td>\n",
       "      <td>81</td>\n",
       "    </tr>\n",
       "    <tr>\n",
       "      <th>2</th>\n",
       "      <td>3</td>\n",
       "      <td>Female</td>\n",
       "      <td>20</td>\n",
       "      <td>16</td>\n",
       "      <td>6</td>\n",
       "    </tr>\n",
       "    <tr>\n",
       "      <th>3</th>\n",
       "      <td>4</td>\n",
       "      <td>Female</td>\n",
       "      <td>23</td>\n",
       "      <td>16</td>\n",
       "      <td>77</td>\n",
       "    </tr>\n",
       "    <tr>\n",
       "      <th>4</th>\n",
       "      <td>5</td>\n",
       "      <td>Female</td>\n",
       "      <td>31</td>\n",
       "      <td>17</td>\n",
       "      <td>40</td>\n",
       "    </tr>\n",
       "  </tbody>\n",
       "</table>\n",
       "</div>"
      ],
      "text/plain": [
       "   CustomerID  Gender  Age  Annual Income (k$)  Spending Score (1-100)\n",
       "0           1    Male   19                  15                      39\n",
       "1           2    Male   21                  15                      81\n",
       "2           3  Female   20                  16                       6\n",
       "3           4  Female   23                  16                      77\n",
       "4           5  Female   31                  17                      40"
      ]
     },
     "execution_count": 4,
     "metadata": {},
     "output_type": "execute_result"
    }
   ],
   "source": [
    "df = pd.read_csv('datasets/Mall_customers.csv')\n",
    "df.head()"
   ]
  },
  {
   "cell_type": "markdown",
   "metadata": {
    "colab": {
     "base_uri": "https://localhost:8080/",
     "height": 206
    },
    "executionInfo": {
     "elapsed": 16,
     "status": "ok",
     "timestamp": 1718621779054,
     "user": {
      "displayName": "Aleena Raj",
      "userId": "16635257578699511263"
     },
     "user_tz": -330
    },
    "id": "km7OIyVpepNN",
    "outputId": "ee9ab083-3bc8-4f2b-927c-0356605640e7"
   },
   "source": [
    "#### __Inspecting the data__"
   ]
  },
  {
   "cell_type": "code",
   "execution_count": 5,
   "metadata": {},
   "outputs": [
    {
     "data": {
      "text/html": [
       "<div>\n",
       "<style scoped>\n",
       "    .dataframe tbody tr th:only-of-type {\n",
       "        vertical-align: middle;\n",
       "    }\n",
       "\n",
       "    .dataframe tbody tr th {\n",
       "        vertical-align: top;\n",
       "    }\n",
       "\n",
       "    .dataframe thead th {\n",
       "        text-align: right;\n",
       "    }\n",
       "</style>\n",
       "<table border=\"1\" class=\"dataframe\">\n",
       "  <thead>\n",
       "    <tr style=\"text-align: right;\">\n",
       "      <th></th>\n",
       "      <th>CustomerID</th>\n",
       "      <th>Age</th>\n",
       "      <th>Annual Income (k$)</th>\n",
       "      <th>Spending Score (1-100)</th>\n",
       "    </tr>\n",
       "  </thead>\n",
       "  <tbody>\n",
       "    <tr>\n",
       "      <th>count</th>\n",
       "      <td>200.000000</td>\n",
       "      <td>200.000000</td>\n",
       "      <td>200.000000</td>\n",
       "      <td>200.000000</td>\n",
       "    </tr>\n",
       "    <tr>\n",
       "      <th>mean</th>\n",
       "      <td>100.500000</td>\n",
       "      <td>38.850000</td>\n",
       "      <td>60.560000</td>\n",
       "      <td>50.200000</td>\n",
       "    </tr>\n",
       "    <tr>\n",
       "      <th>std</th>\n",
       "      <td>57.879185</td>\n",
       "      <td>13.969007</td>\n",
       "      <td>26.264721</td>\n",
       "      <td>25.823522</td>\n",
       "    </tr>\n",
       "    <tr>\n",
       "      <th>min</th>\n",
       "      <td>1.000000</td>\n",
       "      <td>18.000000</td>\n",
       "      <td>15.000000</td>\n",
       "      <td>1.000000</td>\n",
       "    </tr>\n",
       "    <tr>\n",
       "      <th>25%</th>\n",
       "      <td>50.750000</td>\n",
       "      <td>28.750000</td>\n",
       "      <td>41.500000</td>\n",
       "      <td>34.750000</td>\n",
       "    </tr>\n",
       "    <tr>\n",
       "      <th>50%</th>\n",
       "      <td>100.500000</td>\n",
       "      <td>36.000000</td>\n",
       "      <td>61.500000</td>\n",
       "      <td>50.000000</td>\n",
       "    </tr>\n",
       "    <tr>\n",
       "      <th>75%</th>\n",
       "      <td>150.250000</td>\n",
       "      <td>49.000000</td>\n",
       "      <td>78.000000</td>\n",
       "      <td>73.000000</td>\n",
       "    </tr>\n",
       "    <tr>\n",
       "      <th>max</th>\n",
       "      <td>200.000000</td>\n",
       "      <td>70.000000</td>\n",
       "      <td>137.000000</td>\n",
       "      <td>99.000000</td>\n",
       "    </tr>\n",
       "  </tbody>\n",
       "</table>\n",
       "</div>"
      ],
      "text/plain": [
       "       CustomerID         Age  Annual Income (k$)  Spending Score (1-100)\n",
       "count  200.000000  200.000000          200.000000              200.000000\n",
       "mean   100.500000   38.850000           60.560000               50.200000\n",
       "std     57.879185   13.969007           26.264721               25.823522\n",
       "min      1.000000   18.000000           15.000000                1.000000\n",
       "25%     50.750000   28.750000           41.500000               34.750000\n",
       "50%    100.500000   36.000000           61.500000               50.000000\n",
       "75%    150.250000   49.000000           78.000000               73.000000\n",
       "max    200.000000   70.000000          137.000000               99.000000"
      ]
     },
     "execution_count": 5,
     "metadata": {},
     "output_type": "execute_result"
    }
   ],
   "source": [
    "df.describe()"
   ]
  },
  {
   "cell_type": "code",
   "execution_count": 6,
   "metadata": {},
   "outputs": [
    {
     "name": "stdout",
     "output_type": "stream",
     "text": [
      "<class 'pandas.core.frame.DataFrame'>\n",
      "RangeIndex: 200 entries, 0 to 199\n",
      "Data columns (total 5 columns):\n",
      " #   Column                  Non-Null Count  Dtype \n",
      "---  ------                  --------------  ----- \n",
      " 0   CustomerID              200 non-null    int64 \n",
      " 1   Gender                  200 non-null    object\n",
      " 2   Age                     200 non-null    int64 \n",
      " 3   Annual Income (k$)      200 non-null    int64 \n",
      " 4   Spending Score (1-100)  200 non-null    int64 \n",
      "dtypes: int64(4), object(1)\n",
      "memory usage: 7.9+ KB\n"
     ]
    }
   ],
   "source": [
    "df.info()"
   ]
  },
  {
   "cell_type": "markdown",
   "metadata": {
    "id": "7Carn1WSe3My"
   },
   "source": [
    "#### __Extract the relevant features Annual Income (k$) and Spending Score (1-100) from the dataset.__"
   ]
  },
  {
   "cell_type": "code",
   "execution_count": 7,
   "metadata": {
    "id": "VfFJs0OLepNO"
   },
   "outputs": [
    {
     "data": {
      "text/html": [
       "<div>\n",
       "<style scoped>\n",
       "    .dataframe tbody tr th:only-of-type {\n",
       "        vertical-align: middle;\n",
       "    }\n",
       "\n",
       "    .dataframe tbody tr th {\n",
       "        vertical-align: top;\n",
       "    }\n",
       "\n",
       "    .dataframe thead th {\n",
       "        text-align: right;\n",
       "    }\n",
       "</style>\n",
       "<table border=\"1\" class=\"dataframe\">\n",
       "  <thead>\n",
       "    <tr style=\"text-align: right;\">\n",
       "      <th></th>\n",
       "      <th>Annual Income (k$)</th>\n",
       "      <th>Spending Score (1-100)</th>\n",
       "    </tr>\n",
       "  </thead>\n",
       "  <tbody>\n",
       "    <tr>\n",
       "      <th>0</th>\n",
       "      <td>15</td>\n",
       "      <td>39</td>\n",
       "    </tr>\n",
       "    <tr>\n",
       "      <th>1</th>\n",
       "      <td>15</td>\n",
       "      <td>81</td>\n",
       "    </tr>\n",
       "    <tr>\n",
       "      <th>2</th>\n",
       "      <td>16</td>\n",
       "      <td>6</td>\n",
       "    </tr>\n",
       "    <tr>\n",
       "      <th>3</th>\n",
       "      <td>16</td>\n",
       "      <td>77</td>\n",
       "    </tr>\n",
       "    <tr>\n",
       "      <th>4</th>\n",
       "      <td>17</td>\n",
       "      <td>40</td>\n",
       "    </tr>\n",
       "  </tbody>\n",
       "</table>\n",
       "</div>"
      ],
      "text/plain": [
       "   Annual Income (k$)  Spending Score (1-100)\n",
       "0                  15                      39\n",
       "1                  15                      81\n",
       "2                  16                       6\n",
       "3                  16                      77\n",
       "4                  17                      40"
      ]
     },
     "execution_count": 7,
     "metadata": {},
     "output_type": "execute_result"
    }
   ],
   "source": [
    "X = df[['Annual Income (k$)', 'Spending Score (1-100)']]\n",
    "X.head()"
   ]
  },
  {
   "cell_type": "markdown",
   "metadata": {},
   "source": [
    "##### __`init = 'k-means++'` means the centroids are placed as farther as possible.__"
   ]
  },
  {
   "cell_type": "code",
   "execution_count": 8,
   "metadata": {},
   "outputs": [
    {
     "data": {
      "image/png": "[encoded data removed]",
      "text/plain": [
       "<Figure size 800x600 with 1 Axes>"
      ]
     },
     "metadata": {},
     "output_type": "display_data"
    }
   ],
   "source": [
    "# Plot the distribution of points before clustering\n",
    "plt.figure(figsize=(8, 6))\n",
    "plt.scatter(X['Annual Income (k$)'], X['Spending Score (1-100)'], color='blue', edgecolors='k', s=100)\n",
    "plt.title('Clusters of customers')\n",
    "plt.xlabel('Annual Income (k$)')\n",
    "plt.ylabel('Spending Score (1-100)')\n",
    "plt.grid(True)\n",
    "plt.show()"
   ]
  },
  {
   "cell_type": "markdown",
   "metadata": {},
   "source": [
    "### __Implementation of Elbow method to find optimal `K`__\n",
    "\n",
    "- Apply K-means clustering and find the optimal number of clusters using the Elbow method.\n",
    "- Plot the Elbow method graph."
   ]
  },
  {
   "cell_type": "code",
   "execution_count": null,
   "metadata": {
    "colab": {
     "base_uri": "https://localhost:8080/",
     "height": 472
    },
    "executionInfo": {
     "elapsed": 2188,
     "status": "ok",
     "timestamp": 1718622854078,
     "user": {
      "displayName": "Aleena Raj",
      "userId": "16635257578699511263"
     },
     "user_tz": -330
    },
    "id": "GMG2QpHaepNO",
    "outputId": "917f1f85-97ce-42b3-a6cb-588853d2cd14"
   },
   "outputs": [],
   "source": [
    "wcss = []\n",
    "for i in range(1, 11):\n",
    "    model = KMeans(n_clusters = i, n_init=10, init = 'k-means++', random_state = 42)\n",
    "    model.fit(X)\n",
    "    wcss.append(model.inertia_)\n",
    "\n",
    "plt.plot(range(1, 11), wcss, marker='o', color='purple')\n",
    "plt.xlabel('Number of Clusters (K)')\n",
    "plt.ylabel('WCSS (Within-Cluster Sum of Squares)')\n",
    "plt.title('Elbow Method for Optimal K')\n",
    "plt.grid(True)\n",
    "plt.show()"
   ]
  },
  {
   "cell_type": "markdown",
   "metadata": {
    "id": "ds6pzkrZ6wFo"
   },
   "source": [
    "##### __Observation__\n",
    "In the plotted graph, identify where the WCSS graph starts to flatten out. The plot flattens at 5. Hence this number is chosen as the Optimal `k`"
   ]
  },
  {
   "cell_type": "markdown",
   "metadata": {
    "id": "zRBrF_obfEYw"
   },
   "source": [
    "#### __Train the K-means model with the optimal number of clusters.__\n",
    "\n",
    "- Train the K-means model with the optimal number of clusters based on `Elbow method`.\n",
    "- Plot the clusters and their centroids on a scatter plot.\n",
    "- Assign the color for each point.\n",
    "- Consider the title, xlabel, and ylabel."
   ]
  },
  {
   "cell_type": "code",
   "execution_count": 3,
   "metadata": {
    "id": "PId_ufOjepNP"
   },
   "outputs": [
    {
     "ename": "NameError",
     "evalue": "name 'X' is not defined",
     "output_type": "error",
     "traceback": [
      "\u001b[0;31m---------------------------------------------------------------------------\u001b[0m",
      "\u001b[0;31mNameError\u001b[0m                                 Traceback (most recent call last)",
      "Cell \u001b[0;32mIn[3], line 3\u001b[0m\n\u001b[1;32m      1\u001b[0m \u001b[38;5;66;03m# Fit the model with the optimal number of clusters\u001b[39;00m\n\u001b[1;32m      2\u001b[0m model_1 \u001b[38;5;241m=\u001b[39m KMeans(n_clusters \u001b[38;5;241m=\u001b[39m \u001b[38;5;241m5\u001b[39m, n_init \u001b[38;5;241m=\u001b[39m \u001b[38;5;241m10\u001b[39m, init \u001b[38;5;241m=\u001b[39m \u001b[38;5;124m'\u001b[39m\u001b[38;5;124mk-means++\u001b[39m\u001b[38;5;124m'\u001b[39m, random_state \u001b[38;5;241m=\u001b[39m \u001b[38;5;241m42\u001b[39m)\n\u001b[0;32m----> 3\u001b[0m y_kmeans \u001b[38;5;241m=\u001b[39m model_1\u001b[38;5;241m.\u001b[39mfit_predict(X)\n",
      "\u001b[0;31mNameError\u001b[0m: name 'X' is not defined"
     ]
    }
   ],
   "source": [
    "# Fit the model with the optimal number of clusters\n",
    "model_1 = KMeans(n_clusters = 5, n_init = 10, init = 'k-means++', random_state = 42)\n",
    "y_kmeans = model_1.fit_predict(X)"
   ]
  },
  {
   "cell_type": "code",
   "execution_count": 285,
   "metadata": {
    "colab": {
     "base_uri": "https://localhost:8080/"
    },
    "executionInfo": {
     "elapsed": 420,
     "status": "ok",
     "timestamp": 1718623318754,
     "user": {
      "displayName": "Aleena Raj",
      "userId": "16635257578699511263"
     },
     "user_tz": -330
    },
    "id": "N1EOh-6J7j6q",
    "outputId": "3587e0f6-205e-4c1a-d0d9-20b64bf3186d"
   },
   "outputs": [
    {
     "data": {
      "text/plain": [
       "array([4, 2, 4, 2, 4, 2, 4, 2, 4, 2, 4, 2, 4, 2, 4, 2, 4, 2, 4, 2, 4, 2,\n",
       "       4, 2, 4, 2, 4, 2, 4, 2, 4, 2, 4, 2, 4, 2, 4, 2, 4, 2, 4, 2, 4, 0,\n",
       "       4, 2, 0, 0, 0, 0, 0, 0, 0, 0, 0, 0, 0, 0, 0, 0, 0, 0, 0, 0, 0, 0,\n",
       "       0, 0, 0, 0, 0, 0, 0, 0, 0, 0, 0, 0, 0, 0, 0, 0, 0, 0, 0, 0, 0, 0,\n",
       "       0, 0, 0, 0, 0, 0, 0, 0, 0, 0, 0, 0, 0, 0, 0, 0, 0, 0, 0, 0, 0, 0,\n",
       "       0, 0, 0, 0, 0, 0, 0, 0, 0, 0, 0, 0, 0, 1, 3, 1, 0, 1, 3, 1, 3, 1,\n",
       "       0, 1, 3, 1, 3, 1, 3, 1, 3, 1, 0, 1, 3, 1, 3, 1, 3, 1, 3, 1, 3, 1,\n",
       "       3, 1, 3, 1, 3, 1, 3, 1, 3, 1, 3, 1, 3, 1, 3, 1, 3, 1, 3, 1, 3, 1,\n",
       "       3, 1, 3, 1, 3, 1, 3, 1, 3, 1, 3, 1, 3, 1, 3, 1, 3, 1, 3, 1, 3, 1,\n",
       "       3, 1], dtype=int32)"
      ]
     },
     "execution_count": 285,
     "metadata": {},
     "output_type": "execute_result"
    }
   ],
   "source": [
    "y_kmeans"
   ]
  },
  {
   "cell_type": "code",
   "execution_count": 287,
   "metadata": {},
   "outputs": [
    {
     "data": {
      "text/plain": [
       "array([[15, 39],\n",
       "       [15, 81],\n",
       "       [16,  6],\n",
       "       [16, 77],\n",
       "       [17, 40]])"
      ]
     },
     "execution_count": 287,
     "metadata": {},
     "output_type": "execute_result"
    }
   ],
   "source": [
    "X[:5]"
   ]
  },
  {
   "cell_type": "code",
   "execution_count": 289,
   "metadata": {},
   "outputs": [
    {
     "data": {
      "text/plain": [
       "array([39, 40, 40, 40, 40, 42, 42, 43, 43, 43, 43, 44, 44, 46, 46, 46, 46,\n",
       "       47, 47, 48, 48, 48, 48, 48, 48, 49, 49, 50, 50, 54, 54, 54, 54, 54,\n",
       "       54, 54, 54, 54, 54, 54, 54, 57, 57, 58, 58, 59, 59, 60, 60, 60, 60,\n",
       "       60, 60, 61, 61, 62, 62, 62, 62, 62, 62, 63, 63, 63, 63, 63, 63, 64,\n",
       "       64, 65, 65, 65, 65, 67, 67, 67, 67, 69, 71, 72, 76])"
      ]
     },
     "execution_count": 289,
     "metadata": {},
     "output_type": "execute_result"
    }
   ],
   "source": [
    "X[y_kmeans == 0, 0]"
   ]
  },
  {
   "cell_type": "code",
   "execution_count": 291,
   "metadata": {},
   "outputs": [
    {
     "data": {
      "text/plain": [
       "array([61, 55, 47, 42, 42, 52, 60, 54, 60, 45, 41, 50, 46, 51, 46, 56, 55,\n",
       "       52, 59, 51, 59, 50, 48, 59, 47, 55, 42, 49, 56, 47, 54, 53, 48, 52,\n",
       "       42, 51, 55, 41, 44, 57, 46, 58, 55, 60, 46, 55, 41, 49, 40, 42, 52,\n",
       "       47, 50, 42, 49, 41, 48, 59, 55, 56, 42, 50, 46, 43, 48, 52, 54, 42,\n",
       "       46, 48, 50, 43, 59, 43, 57, 56, 40, 58, 35, 34, 40])"
      ]
     },
     "execution_count": 291,
     "metadata": {},
     "output_type": "execute_result"
    }
   ],
   "source": [
    "X[y_kmeans == 0, 1]"
   ]
  },
  {
   "cell_type": "code",
   "execution_count": 293,
   "metadata": {},
   "outputs": [
    {
     "data": {
      "text/plain": [
       "array([[55.2962963 , 49.51851852],\n",
       "       [86.53846154, 82.12820513],\n",
       "       [25.72727273, 79.36363636],\n",
       "       [88.2       , 17.11428571],\n",
       "       [26.30434783, 20.91304348]])"
      ]
     },
     "execution_count": 293,
     "metadata": {},
     "output_type": "execute_result"
    }
   ],
   "source": [
    "model_1.cluster_centers_"
   ]
  },
  {
   "cell_type": "code",
   "execution_count": 54,
   "metadata": {
    "colab": {
     "base_uri": "https://localhost:8080/",
     "height": 472
    },
    "executionInfo": {
     "elapsed": 1391,
     "status": "ok",
     "timestamp": 1718623194658,
     "user": {
      "displayName": "Aleena Raj",
      "userId": "16635257578699511263"
     },
     "user_tz": -330
    },
    "id": "2hdhINdXepNQ",
    "outputId": "30d881cd-1d6d-4d05-ca66-59a28308bdb0"
   },
   "outputs": [
    {
     "data": {
      "image/png": "[encoded data removed]",
      "text/plain": [
       "<Figure size 800x600 with 1 Axes>"
      ]
     },
     "metadata": {},
     "output_type": "display_data"
    }
   ],
   "source": [
    "plt.figure(figsize=(8, 6))\n",
    "plt.scatter(X[y_kmeans == 0, 0], X[y_kmeans == 0, 1], s = 100, c = 'red', label = 'Cluster 1')\n",
    "plt.scatter(X[y_kmeans == 1, 0], X[y_kmeans == 1, 1], s = 100, c = 'blue', label = 'Cluster 2')\n",
    "plt.scatter(X[y_kmeans == 2, 0], X[y_kmeans == 2, 1], s = 100, c = 'green', label = 'Cluster 3')\n",
    "plt.scatter(X[y_kmeans == 3, 0], X[y_kmeans == 3, 1], s = 100, c = 'cyan', label = 'Cluster 4')\n",
    "plt.scatter(X[y_kmeans == 4, 0], X[y_kmeans == 4, 1], s = 100, c = 'magenta', label = 'Cluster 5')\n",
    "plt.scatter(model_1.cluster_centers_[:, 0], model_1.cluster_centers_[:, 1], s = 300, c = 'yellow', label = 'Centroids')\n",
    "plt.title('Clusters of customers')\n",
    "plt.xlabel('Annual Income (k$)')\n",
    "plt.ylabel('Spending Score (1-100)')\n",
    "plt.legend()\n",
    "plt.show()"
   ]
  },
  {
   "cell_type": "markdown",
   "metadata": {},
   "source": [
    "##### __Observation:__\n",
    "- K-means clusters with K = 5."
   ]
  },
  {
   "cell_type": "markdown",
   "metadata": {
    "id": "XQ2uH600d9V2"
   },
   "source": [
    "### __Implementation of silhouette score.__"
   ]
  },
  {
   "cell_type": "markdown",
   "metadata": {
    "id": "J8OpoLLUraWk"
   },
   "source": [
    "- Import **make_blobs and silhouette_score** from sklearn."
   ]
  },
  {
   "cell_type": "code",
   "execution_count": 58,
   "metadata": {
    "id": "7Tumsh7jPRFl"
   },
   "outputs": [],
   "source": [
    "#from sklearn.datasets import make_blobs\n",
    "from sklearn.metrics import silhouette_score"
   ]
  },
  {
   "cell_type": "code",
   "execution_count": 60,
   "metadata": {
    "colab": {
     "base_uri": "https://localhost:8080/",
     "height": 472
    },
    "executionInfo": {
     "elapsed": 2463,
     "status": "ok",
     "timestamp": 1718623583960,
     "user": {
      "displayName": "Aleena Raj",
      "userId": "16635257578699511263"
     },
     "user_tz": -330
    },
    "id": "KUTHRNytqVVX",
    "outputId": "a3b9c58a-946b-4398-e566-b502ca627094"
   },
   "outputs": [
    {
     "data": {
      "image/png": "[encoded data removed]",
      "text/plain": [
       "<Figure size 640x480 with 1 Axes>"
      ]
     },
     "metadata": {},
     "output_type": "display_data"
    }
   ],
   "source": [
    "# Silhouette Score method\n",
    "silhouette_scores = []\n",
    "for i in range(2, 11):\n",
    "    model = KMeans(n_clusters=i, n_init=10,  init='k-means++', random_state=42)\n",
    "    model.fit(X)\n",
    "    score = silhouette_score(X, model.labels_)\n",
    "    silhouette_scores.append(score)\n",
    "\n",
    "plt.plot(range(2, 11), silhouette_scores, marker='o')\n",
    "plt.title('Silhouette Score Method')\n",
    "plt.xlabel('Number of clusters')\n",
    "plt.ylabel('Silhouette Score')\n",
    "plt.grid(True)\n",
    "plt.show()"
   ]
  },
  {
   "cell_type": "markdown",
   "metadata": {
    "id": "W6FpP1HHNOku"
   },
   "source": [
    "##### __Observation__\n",
    "\n",
    "The Silhouette Score peaks at `k=5`. This suggests that the clusters are most distinct and appropriately separated when the data is divided into 5 clusters.\n",
    "\n",
    "From the plot, the optimal number of clusters k can be chosen based on the highest Silhouette Score. This score represents a balance between having clusters that are dense and well-separated from each other."
   ]
  },
  {
   "cell_type": "markdown",
   "metadata": {
    "id": "mawOgt--rPPD"
   },
   "source": [
    "#### **Choosing the Optimal Number of Clusters:**\n",
    "\n",
    "- Train the K-means model with the optimal number of clusters based on `Silhoutte score`.\n",
    "- Plot the clusters and their centroids on a scatter plot.\n",
    "- Assign the color for each point.\n",
    "- Consider the title, xlabel, and ylabel."
   ]
  },
  {
   "cell_type": "code",
   "execution_count": 62,
   "metadata": {},
   "outputs": [
    {
     "data": {
      "text/plain": [
       "[0.2968969162503008,\n",
       " 0.46761358158775435,\n",
       " 0.4931963109249047,\n",
       " 0.553931997444648,\n",
       " 0.53976103063432,\n",
       " 0.5288104473798049,\n",
       " 0.45481197931195283,\n",
       " 0.4561091950997367,\n",
       " 0.4410568674364981]"
      ]
     },
     "execution_count": 62,
     "metadata": {},
     "output_type": "execute_result"
    }
   ],
   "source": [
    "silhouette_scores"
   ]
  },
  {
   "cell_type": "code",
   "execution_count": 64,
   "metadata": {},
   "outputs": [
    {
     "data": {
      "text/plain": [
       "0.553931997444648"
      ]
     },
     "execution_count": 64,
     "metadata": {},
     "output_type": "execute_result"
    }
   ],
   "source": [
    "max(silhouette_scores)"
   ]
  },
  {
   "cell_type": "code",
   "execution_count": 66,
   "metadata": {},
   "outputs": [
    {
     "data": {
      "text/plain": [
       "3"
      ]
     },
     "execution_count": 66,
     "metadata": {},
     "output_type": "execute_result"
    }
   ],
   "source": [
    "silhouette_scores.index(max(silhouette_scores))"
   ]
  },
  {
   "cell_type": "code",
   "execution_count": 68,
   "metadata": {},
   "outputs": [
    {
     "data": {
      "text/plain": [
       "[2, 3, 4, 5, 6, 7, 8, 9, 10]"
      ]
     },
     "execution_count": 68,
     "metadata": {},
     "output_type": "execute_result"
    }
   ],
   "source": [
    "list(range(2, 11))"
   ]
  },
  {
   "cell_type": "code",
   "execution_count": 70,
   "metadata": {},
   "outputs": [
    {
     "data": {
      "text/plain": [
       "5"
      ]
     },
     "execution_count": 70,
     "metadata": {},
     "output_type": "execute_result"
    }
   ],
   "source": [
    "# Select the number of clusters with the highest silhouette score\n",
    "optimal_clusters = range(2, 11)[silhouette_scores.index(max(silhouette_scores))]\n",
    "optimal_clusters"
   ]
  },
  {
   "cell_type": "code",
   "execution_count": 76,
   "metadata": {
    "id": "lrjlx2r5qbhf"
   },
   "outputs": [],
   "source": [
    "# Fit the model with the optimal number of clusters\n",
    "model_2 = KMeans(n_clusters=optimal_clusters, n_init=10, init='k-means++', random_state=42)\n",
    "y_kmeans = model_2.fit_predict(X)"
   ]
  },
  {
   "cell_type": "code",
   "execution_count": 78,
   "metadata": {},
   "outputs": [
    {
     "data": {
      "text/plain": [
       "array([[55.2962963 , 49.51851852],\n",
       "       [86.53846154, 82.12820513],\n",
       "       [25.72727273, 79.36363636],\n",
       "       [88.2       , 17.11428571],\n",
       "       [26.30434783, 20.91304348]])"
      ]
     },
     "execution_count": 78,
     "metadata": {},
     "output_type": "execute_result"
    }
   ],
   "source": [
    "model_2.cluster_centers_"
   ]
  },
  {
   "cell_type": "code",
   "execution_count": 196,
   "metadata": {
    "colab": {
     "base_uri": "https://localhost:8080/",
     "height": 472
    },
    "executionInfo": {
     "elapsed": 1375,
     "status": "ok",
     "timestamp": 1718623614114,
     "user": {
      "displayName": "Aleena Raj",
      "userId": "16635257578699511263"
     },
     "user_tz": -330
    },
    "id": "QO_txlodqiBp",
    "outputId": "2917f8e5-1a36-40c6-8fc6-58ed96ad4503"
   },
   "outputs": [
    {
     "data": {
      "image/png": "[encoded data removed]",
      "text/plain": [
       "<Figure size 640x480 with 1 Axes>"
      ]
     },
     "metadata": {},
     "output_type": "display_data"
    }
   ],
   "source": [
    "# Visualize the clusters\n",
    "plt.scatter(X[y_kmeans == 0, 0], X[y_kmeans == 0, 1], s=100, c='red', label='Cluster 1')\n",
    "plt.scatter(X[y_kmeans == 1, 0], X[y_kmeans == 1, 1], s=100, c='blue', label='Cluster 2')\n",
    "plt.scatter(X[y_kmeans == 2, 0], X[y_kmeans == 2, 1], s=100, c='green', label='Cluster 3')\n",
    "plt.scatter(X[y_kmeans == 3, 0], X[y_kmeans == 3, 1], s=100, c='cyan', label='Cluster 4')\n",
    "plt.scatter(X[y_kmeans == 4, 0], X[y_kmeans == 4, 1], s=100, c='magenta', label='Cluster 5')\n",
    "plt.scatter(model_2.cluster_centers_[:, 0], model_2.cluster_centers_[:, 1], s=300, c='yellow', label='Centroids')\n",
    "plt.title('Clusters of customers')\n",
    "plt.xlabel('Annual Income (k$)')\n",
    "plt.ylabel('Spending Score (1-100)')\n",
    "plt.legend()\n",
    "plt.show()"
   ]
  },
  {
   "cell_type": "markdown",
   "metadata": {
    "id": "J0E8YeZcH6Ya"
   },
   "source": [
    "__Observation:__\n",
    "- K-means clusters with K = 5."
   ]
  },
  {
   "cell_type": "markdown",
   "metadata": {
    "id": "xTkzhs5P3C7w"
   },
   "source": [
    "## __2. Hierarchical Clustering__"
   ]
  },
  {
   "cell_type": "markdown",
   "metadata": {
    "id": "wySFcQPKbYBP"
   },
   "source": [
    "Hierarchical clustering is a method that groups data points based on their similarity or distance, creating a hierarchy or tree-like structure. It assumes that data points that are close to each other are more similar or related than those that are farther apart.\n",
    "\n",
    "- Hierarchical clustering, unlike K-Means, does not require specifying the number of clusters in advance.\n",
    "-  It builds a hierarchy of clusters based on the similarity or distance between data points, capturing complex and nested cluster shapes.\n",
    "-  This method provides a detailed view of data relationships through a dendrogram, making it more flexible for exploring the data's structure.   "
   ]
  },
  {
   "cell_type": "markdown",
   "metadata": {
    "id": "k-59EXNjryf4"
   },
   "source": [
    "### __Dendrograms and Linkage Criteria in Hierarchical Clustering__"
   ]
  },
  {
   "cell_type": "markdown",
   "metadata": {},
   "source": [
    "#### __Dendrograms:__"
   ]
  },
  {
   "cell_type": "markdown",
   "metadata": {},
   "source": [
    "- A dendrogram is like a family tree for clusters.\n",
    "- It shows how individual data points or groups of data merge together.\n",
    "- The bottom shows each data point as its own group, and as you move up, similar groups are combined.\n",
    "- The lower the merge point, the more similar the groups are. It helps you see how things are grouped step by step.\n",
    "- It displays the relationships between similar objects.\n",
    "- Each branch represents a category or class, and the entire diagram shows the hierarchical structure connecting all the categories or classes.\n",
    "\n",
    "<img src=\"https://media.geeksforgeeks.org/wp-content/uploads/20250204154508934309/UntitledDiagram7.png\" width=700 height=700 />"
   ]
  },
  {
   "cell_type": "markdown",
   "metadata": {
    "id": "MQlH88H_v2qF"
   },
   "source": [
    "#### __Components of a Dendrogram__"
   ]
  },
  {
   "cell_type": "markdown",
   "metadata": {},
   "source": [
    "- **Leaves (Terminal Nodes):** These represent the individual data points at the bottom of the dendrogram.\n",
    "- **Branches (Internal Nodes):** These represent the clusters formed by merging or splitting. The height of the branches indicates the distance or dissimilarity between clusters.\n",
    "- **Height:** The vertical axis of the dendrogram represents the distance or dissimilarity at which clusters are merged or split. A greater height indicates a higher dissimilarity."
   ]
  },
  {
   "cell_type": "markdown",
   "metadata": {
    "id": "lWJrZqx_wGQw"
   },
   "source": [
    "#### __How to Read a Dendrogram__"
   ]
  },
  {
   "cell_type": "markdown",
   "metadata": {},
   "source": [
    "- **Merging:** Starting from the leaves, data points that are close to each other are merged first, forming small clusters.\n",
    "- **Splitting:** As you move up, these small clusters are further merged based on their distance or dissimilarity until all data points are combined into a single cluster at the root.\n",
    "- **Cluster Formation:** By setting a threshold on the height, you can determine the number of clusters. Horizontal cuts across the dendrogram at a specific height level show the clusters formed at that dissimilarity level."
   ]
  },
  {
   "cell_type": "markdown",
   "metadata": {
    "id": "SqNr37a4wkMB"
   },
   "source": [
    "#### __Linkage Criteria:__"
   ]
  },
  {
   "cell_type": "markdown",
   "metadata": {},
   "source": [
    "It determines how the distance between clusters is calculated during the merging process. Different linkage methods can result in different clustering outcomes."
   ]
  },
  {
   "cell_type": "markdown",
   "metadata": {},
   "source": [
    "#### __Common Linkage Criteria__"
   ]
  },
  {
   "cell_type": "markdown",
   "metadata": {
    "id": "3d5xAjVpxHbe"
   },
   "source": [
    "1. **Single Linkage (Minimum Linkage):** The distance between two clusters is defined as the minimum distance between any single data point in one cluster and any single data point in the other cluster. It can lead to **chaining** effects, where clusters can form long, elongated shapes.\n",
    "\n",
    "<img src=\"https://labcontent.simplicdn.net/data-content/content-assets/Data_and_AI/ML/Lesson_06/Updated/new/Single_linkage.png\" width=300 height=300 />"
   ]
  },
  {
   "cell_type": "markdown",
   "metadata": {
    "id": "rtmEo8ckChsA"
   },
   "source": [
    "2. **Complete Linkage (Maximum Linkage):** The distance between two clusters is defined as the maximum distance between any single data point in one cluster and any single data point in the other cluster. It tends to create more compact and spherical clusters.\n",
    "\n",
    "<img src=\"https://labcontent.simplicdn.net/data-content/content-assets/Data_and_AI/ML/Lesson_06/Updated/new/Complete_linkage.png\" width=300 height=300 />"
   ]
  },
  {
   "cell_type": "markdown",
   "metadata": {
    "id": "qUM8TPBECj7_"
   },
   "source": [
    "3. **Average Linkage:** The distance between two clusters is defined as the average distance between all pairs of data points, one from each cluster. It provides a balance between single and complete linkage.\n",
    "\n",
    "<img src=\"https://labcontent.simplicdn.net/data-content/content-assets/Data_and_AI/ML/Lesson_06/Updated/new/average_linkage.png\" width=300 height=300 />\n"
   ]
  },
  {
   "cell_type": "markdown",
   "metadata": {
    "id": "mQZ03JheCmWk"
   },
   "source": [
    "4. **Centroid Linkage:** The distance between two clusters is defined as the distance between the centroids (mean points) of the clusters. It can be sensitive to the shapes of the clusters.\n",
    "\n",
    "<img src=\"https://labcontent.simplicdn.net/data-content/content-assets/Data_and_AI/ML/Lesson_06/Updated/new/centroid_linkage.png\" width=300 height=300 />\n"
   ]
  },
  {
   "cell_type": "markdown",
   "metadata": {},
   "source": [
    "5. **Ward's minimum variance method:** The similarity of two clusters is based on the increase in squared error when two clusters are merged. It uses squared error to compute the similarity of the two clusters for merging.\n"
   ]
  },
  {
   "cell_type": "markdown",
   "metadata": {
    "id": "rPNrUZ1zbYF5"
   },
   "source": [
    "### __Working of Hierarchical Clustering__"
   ]
  },
  {
   "cell_type": "markdown",
   "metadata": {},
   "source": [
    "- The hierarchical clustering process involves finding the two data points closest to each other and combining the two most similar ones.\n",
    "- After repeating this process until all data points are grouped into clusters, the end result is a hierarchical tree of related groups known as a dendrogram.\n",
    "- There are different types of clustering algorithms, including centroid-based clustering algorithms, connectivity-based clustering algorithms (hierarchical clustering), distribution-based clustering algorithms and density-based clustering algorithms.\n",
    "- The two main types of hierarchical clustering include __Agglomerative Hierarchical Cluster Analysis:__ Bottom-to-top approach and __Divisive Hierarchical Cluster Analysis:__ Top-to-bottom approach.\n",
    "- Hierarchical clustering is the result of the of the creation of a tree-shaped structure known as a dendrogram.\n",
    "- A dendrogram is a visual interpretation of the hierarchical connections between items.\n",
    "- The goal is to find the best approach to assigning items to a cluster."
   ]
  },
  {
   "cell_type": "markdown",
   "metadata": {},
   "source": [
    "### __Choosing the Number of Clusters__"
   ]
  },
  {
   "cell_type": "markdown",
   "metadata": {
    "id": "quwZMxHXcIhS"
   },
   "source": [
    "Consider the following diagram:\n",
    "\n",
    "<img src=\"https://builtin.com/sites/www.builtin.com/files/styles/ckeditor_optimize/public/inline-images/Screen%20Shot%202023-02-13%20at%209.08.15%20AM.png\" width=700 height=700 />\n",
    "\n",
    "__To find the optimal number of clusters:__\n",
    "- Draw a horizontal line where there is no overlap in the vertical lines of the bars.\n",
    "- The number of bars without the overlap below the line is the optical number of the clusters.\n",
    "- From the above figure, we have three bars below the horizontal line, so the optimal number of clusters is three."
   ]
  },
  {
   "cell_type": "markdown",
   "metadata": {
    "id": "pd1BQYzwcI0Y"
   },
   "source": [
    "__To choose the number of clusters to be created (Another explanation) :__\n",
    "\n",
    "- Identify the longest line that traverses the maximum vertical distance without intersecting any of the merging points in the dendrogram.\n",
    "- Draw a horizontal line where the line can traverse the maximum vertical distance without intersecting the merging point.\n",
    "- The number of vertical lines it intersects is the optimal number of clusters."
   ]
  },
  {
   "cell_type": "markdown",
   "metadata": {},
   "source": [
    "#### __Applications of Hierarchical Clustering__"
   ]
  },
  {
   "cell_type": "markdown",
   "metadata": {},
   "source": [
    "- __Market Segmentation:__ Companies can better understand their markets by identifying target groups based on certain traits like demographics, personal interests or behaviors. \n",
    "- __Geo-Spatial Analysis:__ It can also group individuals based on their geographic location. \n",
    "- __Image Segmentation:__ It can distinguish between separate visual elements. For example, the technique can discern between different facial features, aiding facial recognition technology. \n",
    "- __Anomaly Detection:__ It is also effective at detecting anomalies. By clustering data points into groups, hierarchical clustering can isolate outliers that don’t belong to any cluster."
   ]
  },
  {
   "cell_type": "markdown",
   "metadata": {},
   "source": [
    "#### __Limitations of Hierarchical Clustering__"
   ]
  },
  {
   "cell_type": "markdown",
   "metadata": {},
   "source": [
    "- It has high time and space computational complexity.\n",
    "- There is no objective function for hierarchical clustering.\n",
    "- Due to high time complexity, it cannot be used for large datasets.\n",
    "- It is sensitive to noise and outliers since we use distance metrics.\n",
    "- It has difficulty handling large clusters."
   ]
  },
  {
   "cell_type": "markdown",
   "metadata": {
    "id": "3L7OrnKqcI3y"
   },
   "source": [
    "### __Implementation of Hierarchical clustering.__"
   ]
  },
  {
   "cell_type": "code",
   "execution_count": 204,
   "metadata": {
    "id": "l28GB-q80z84"
   },
   "outputs": [],
   "source": [
    "import matplotlib.pyplot as plt\n",
    "import pandas as pd\n",
    "import numpy as np"
   ]
  },
  {
   "cell_type": "code",
   "execution_count": 206,
   "metadata": {
    "id": "415hp9Hv0z86"
   },
   "outputs": [
    {
     "data": {
      "text/html": [
       "<div>\n",
       "<style scoped>\n",
       "    .dataframe tbody tr th:only-of-type {\n",
       "        vertical-align: middle;\n",
       "    }\n",
       "\n",
       "    .dataframe tbody tr th {\n",
       "        vertical-align: top;\n",
       "    }\n",
       "\n",
       "    .dataframe thead th {\n",
       "        text-align: right;\n",
       "    }\n",
       "</style>\n",
       "<table border=\"1\" class=\"dataframe\">\n",
       "  <thead>\n",
       "    <tr style=\"text-align: right;\">\n",
       "      <th></th>\n",
       "      <th>CustomerID</th>\n",
       "      <th>Gender</th>\n",
       "      <th>Age</th>\n",
       "      <th>Annual Income (k$)</th>\n",
       "      <th>Spending Score (1-100)</th>\n",
       "    </tr>\n",
       "  </thead>\n",
       "  <tbody>\n",
       "    <tr>\n",
       "      <th>0</th>\n",
       "      <td>1</td>\n",
       "      <td>Male</td>\n",
       "      <td>19</td>\n",
       "      <td>15</td>\n",
       "      <td>39</td>\n",
       "    </tr>\n",
       "    <tr>\n",
       "      <th>1</th>\n",
       "      <td>2</td>\n",
       "      <td>Male</td>\n",
       "      <td>21</td>\n",
       "      <td>15</td>\n",
       "      <td>81</td>\n",
       "    </tr>\n",
       "    <tr>\n",
       "      <th>2</th>\n",
       "      <td>3</td>\n",
       "      <td>Female</td>\n",
       "      <td>20</td>\n",
       "      <td>16</td>\n",
       "      <td>6</td>\n",
       "    </tr>\n",
       "    <tr>\n",
       "      <th>3</th>\n",
       "      <td>4</td>\n",
       "      <td>Female</td>\n",
       "      <td>23</td>\n",
       "      <td>16</td>\n",
       "      <td>77</td>\n",
       "    </tr>\n",
       "    <tr>\n",
       "      <th>4</th>\n",
       "      <td>5</td>\n",
       "      <td>Female</td>\n",
       "      <td>31</td>\n",
       "      <td>17</td>\n",
       "      <td>40</td>\n",
       "    </tr>\n",
       "  </tbody>\n",
       "</table>\n",
       "</div>"
      ],
      "text/plain": [
       "   CustomerID  Gender  Age  Annual Income (k$)  Spending Score (1-100)\n",
       "0           1    Male   19                  15                      39\n",
       "1           2    Male   21                  15                      81\n",
       "2           3  Female   20                  16                       6\n",
       "3           4  Female   23                  16                      77\n",
       "4           5  Female   31                  17                      40"
      ]
     },
     "execution_count": 206,
     "metadata": {},
     "output_type": "execute_result"
    }
   ],
   "source": [
    "df = pd.read_csv('datasets/Mall_customers.csv')\n",
    "df.head()"
   ]
  },
  {
   "cell_type": "code",
   "execution_count": 223,
   "metadata": {
    "id": "zc1ikEMn0z87"
   },
   "outputs": [
    {
     "data": {
      "text/html": [
       "<div>\n",
       "<style scoped>\n",
       "    .dataframe tbody tr th:only-of-type {\n",
       "        vertical-align: middle;\n",
       "    }\n",
       "\n",
       "    .dataframe tbody tr th {\n",
       "        vertical-align: top;\n",
       "    }\n",
       "\n",
       "    .dataframe thead th {\n",
       "        text-align: right;\n",
       "    }\n",
       "</style>\n",
       "<table border=\"1\" class=\"dataframe\">\n",
       "  <thead>\n",
       "    <tr style=\"text-align: right;\">\n",
       "      <th></th>\n",
       "      <th>Annual Income (k$)</th>\n",
       "      <th>Spending Score (1-100)</th>\n",
       "    </tr>\n",
       "  </thead>\n",
       "  <tbody>\n",
       "    <tr>\n",
       "      <th>0</th>\n",
       "      <td>15</td>\n",
       "      <td>39</td>\n",
       "    </tr>\n",
       "    <tr>\n",
       "      <th>1</th>\n",
       "      <td>15</td>\n",
       "      <td>81</td>\n",
       "    </tr>\n",
       "    <tr>\n",
       "      <th>2</th>\n",
       "      <td>16</td>\n",
       "      <td>6</td>\n",
       "    </tr>\n",
       "    <tr>\n",
       "      <th>3</th>\n",
       "      <td>16</td>\n",
       "      <td>77</td>\n",
       "    </tr>\n",
       "    <tr>\n",
       "      <th>4</th>\n",
       "      <td>17</td>\n",
       "      <td>40</td>\n",
       "    </tr>\n",
       "  </tbody>\n",
       "</table>\n",
       "</div>"
      ],
      "text/plain": [
       "   Annual Income (k$)  Spending Score (1-100)\n",
       "0                  15                      39\n",
       "1                  15                      81\n",
       "2                  16                       6\n",
       "3                  16                      77\n",
       "4                  17                      40"
      ]
     },
     "execution_count": 223,
     "metadata": {},
     "output_type": "execute_result"
    }
   ],
   "source": [
    "# Choosing the first 50 rows from df to create a new dataframe df1 with relevant features\n",
    "df1 = df.iloc[:51, 3:5]\n",
    "# df1 = df.iloc[:, 3:5]\n",
    "df1.head()"
   ]
  },
  {
   "cell_type": "code",
   "execution_count": 225,
   "metadata": {},
   "outputs": [
    {
     "data": {
      "text/plain": [
       "array([[15, 39],\n",
       "       [15, 81],\n",
       "       [16,  6],\n",
       "       [16, 77],\n",
       "       [17, 40]])"
      ]
     },
     "execution_count": 225,
     "metadata": {},
     "output_type": "execute_result"
    }
   ],
   "source": [
    "customer_data = df1.values\n",
    "customer_data[:5]"
   ]
  },
  {
   "cell_type": "markdown",
   "metadata": {
    "id": "-QrtTwNJDRyl"
   },
   "source": [
    "##### __Observation:__\n",
    "- Here, you can see the annual income and spending score data."
   ]
  },
  {
   "cell_type": "code",
   "execution_count": 228,
   "metadata": {
    "colab": {
     "base_uri": "https://localhost:8080/",
     "height": 501
    },
    "executionInfo": {
     "elapsed": 1825,
     "status": "ok",
     "timestamp": 1718624726277,
     "user": {
      "displayName": "Aleena Raj",
      "userId": "16635257578699511263"
     },
     "user_tz": -330
    },
    "id": "nd4U4E3c0z87",
    "outputId": "3760944e-3b47-414f-eebf-d83b0c5d6e09"
   },
   "outputs": [],
   "source": [
    "import scipy.cluster.hierarchy as shc"
   ]
  },
  {
   "cell_type": "code",
   "execution_count": 230,
   "metadata": {},
   "outputs": [
    {
     "data": {
      "text/plain": [
       "Text(0, 0.5, 'Distance between clusters')"
      ]
     },
     "execution_count": 230,
     "metadata": {},
     "output_type": "execute_result"
    },
    {
     "data": {
      "image/png": "[encoded data removed]",
      "text/plain": [
       "<Figure size 1300x500 with 1 Axes>"
      ]
     },
     "metadata": {},
     "output_type": "display_data"
    }
   ],
   "source": [
    "plt.figure(figsize=(13, 5))\n",
    "plt.title(\"Customer Dendograms\")\n",
    "dend = shc.dendrogram(shc.linkage(customer_data, method='ward'))\n",
    "plt.xlabel('Customers')\n",
    "plt.ylabel('Distance between clusters')"
   ]
  },
  {
   "cell_type": "markdown",
   "metadata": {
    "id": "xSI5XszYDlsM"
   },
   "source": [
    "__Observations:__\n",
    "- Here, you can see the dendrogram for customer data.\n",
    "- There are different clusters that have been created.\n",
    "- Blue represents one cluster; orange represents one cluster; and the entire green represents one whole cluster.\n"
   ]
  },
  {
   "cell_type": "markdown",
   "metadata": {
    "id": "R1zmufBk1Mip"
   },
   "source": [
    "### __Agglomerative Hierarchical Cluster Analysis: Bottom-to-Top Approach__"
   ]
  },
  {
   "cell_type": "markdown",
   "metadata": {
    "id": "EkWxOiRx_jwf"
   },
   "source": [
    "Agglomerative hierarchical cluster analysis or the `bottom-up` approach, creates a more informative structure than flat clustering. This method doesn't require specifying the number of clusters beforehand. It starts with each data point as its own cluster and progressively merges pairs of clusters until all data points are combined into a single cluster.\n",
    "\n",
    "<img src=\"https://labcontent.simplicdn.net/data-content/content-assets/Data_and_AI/ML/Lesson_06/Updated/Agglomerative.png\" width=600 height=600 />"
   ]
  },
  {
   "cell_type": "markdown",
   "metadata": {
    "id": "eukmb9NYefD0"
   },
   "source": [
    "- Import `AgglomerativeClustering` from `sklearn.cluster`.\n",
    "- Fit and predict the clusters using agglomerative clustering.\n",
    "- Display the predicted cluster labels."
   ]
  },
  {
   "cell_type": "code",
   "execution_count": 232,
   "metadata": {
    "id": "7R_6iEE80z88"
   },
   "outputs": [],
   "source": [
    "from sklearn.cluster import AgglomerativeClustering"
   ]
  },
  {
   "cell_type": "code",
   "execution_count": 234,
   "metadata": {},
   "outputs": [
    {
     "data": {
      "text/html": [
       "<div>\n",
       "<style scoped>\n",
       "    .dataframe tbody tr th:only-of-type {\n",
       "        vertical-align: middle;\n",
       "    }\n",
       "\n",
       "    .dataframe tbody tr th {\n",
       "        vertical-align: top;\n",
       "    }\n",
       "\n",
       "    .dataframe thead th {\n",
       "        text-align: right;\n",
       "    }\n",
       "</style>\n",
       "<table border=\"1\" class=\"dataframe\">\n",
       "  <thead>\n",
       "    <tr style=\"text-align: right;\">\n",
       "      <th></th>\n",
       "      <th>Annual Income (k$)</th>\n",
       "      <th>Spending Score (1-100)</th>\n",
       "    </tr>\n",
       "  </thead>\n",
       "  <tbody>\n",
       "    <tr>\n",
       "      <th>0</th>\n",
       "      <td>15</td>\n",
       "      <td>39</td>\n",
       "    </tr>\n",
       "    <tr>\n",
       "      <th>1</th>\n",
       "      <td>15</td>\n",
       "      <td>81</td>\n",
       "    </tr>\n",
       "    <tr>\n",
       "      <th>2</th>\n",
       "      <td>16</td>\n",
       "      <td>6</td>\n",
       "    </tr>\n",
       "    <tr>\n",
       "      <th>3</th>\n",
       "      <td>16</td>\n",
       "      <td>77</td>\n",
       "    </tr>\n",
       "    <tr>\n",
       "      <th>4</th>\n",
       "      <td>17</td>\n",
       "      <td>40</td>\n",
       "    </tr>\n",
       "  </tbody>\n",
       "</table>\n",
       "</div>"
      ],
      "text/plain": [
       "   Annual Income (k$)  Spending Score (1-100)\n",
       "0                  15                      39\n",
       "1                  15                      81\n",
       "2                  16                       6\n",
       "3                  16                      77\n",
       "4                  17                      40"
      ]
     },
     "execution_count": 234,
     "metadata": {},
     "output_type": "execute_result"
    }
   ],
   "source": [
    "df2 = df.iloc[:,3:5]\n",
    "df2[:5]"
   ]
  },
  {
   "cell_type": "code",
   "execution_count": 236,
   "metadata": {},
   "outputs": [],
   "source": [
    "model = AgglomerativeClustering(n_clusters=5, metric='euclidean', linkage='ward')\n",
    "labels_ = model.fit_predict(df2)"
   ]
  },
  {
   "cell_type": "code",
   "execution_count": 238,
   "metadata": {
    "colab": {
     "base_uri": "https://localhost:8080/"
    },
    "executionInfo": {
     "elapsed": 420,
     "status": "ok",
     "timestamp": 1718625637887,
     "user": {
      "displayName": "Aleena Raj",
      "userId": "16635257578699511263"
     },
     "user_tz": -330
    },
    "id": "xMW3-WR30z88",
    "outputId": "ca73cf47-5818-432b-afd5-caac95e2b9cd"
   },
   "outputs": [
    {
     "data": {
      "text/plain": [
       "array([4, 3, 4, 3, 4, 3, 4, 3, 4, 3, 4, 3, 4, 3, 4, 3, 4, 3, 4, 3, 4, 3,\n",
       "       4, 3, 4, 3, 4, 3, 4, 3, 4, 3, 4, 3, 4, 3, 4, 3, 4, 3, 4, 3, 4, 1,\n",
       "       4, 1, 1, 1, 1, 1, 1, 1, 1, 1, 1, 1, 1, 1, 1, 1, 1, 1, 1, 1, 1, 1,\n",
       "       1, 1, 1, 1, 1, 1, 1, 1, 1, 1, 1, 1, 1, 1, 1, 1, 1, 1, 1, 1, 1, 1,\n",
       "       1, 1, 1, 1, 1, 1, 1, 1, 1, 1, 1, 1, 1, 1, 1, 1, 1, 1, 1, 1, 1, 1,\n",
       "       1, 1, 1, 1, 1, 1, 1, 1, 1, 1, 1, 1, 1, 2, 1, 2, 1, 2, 0, 2, 0, 2,\n",
       "       1, 2, 0, 2, 0, 2, 0, 2, 0, 2, 1, 2, 0, 2, 1, 2, 0, 2, 0, 2, 0, 2,\n",
       "       0, 2, 0, 2, 0, 2, 1, 2, 0, 2, 0, 2, 0, 2, 0, 2, 0, 2, 0, 2, 0, 2,\n",
       "       0, 2, 0, 2, 0, 2, 0, 2, 0, 2, 0, 2, 0, 2, 0, 2, 0, 2, 0, 2, 0, 2,\n",
       "       0, 2])"
      ]
     },
     "execution_count": 238,
     "metadata": {},
     "output_type": "execute_result"
    }
   ],
   "source": [
    "labels_"
   ]
  },
  {
   "cell_type": "markdown",
   "metadata": {
    "id": "6ocXf_ZEIjvK"
   },
   "source": [
    "__Observation:__\n",
    "\n",
    "- Here, you can see the labels.\n",
    "- Create a scatter plot of the dataset with colors corresponding to the predicted cluster labels."
   ]
  },
  {
   "cell_type": "code",
   "execution_count": 241,
   "metadata": {
    "colab": {
     "base_uri": "https://localhost:8080/",
     "height": 658
    },
    "executionInfo": {
     "elapsed": 636,
     "status": "ok",
     "timestamp": 1718625775249,
     "user": {
      "displayName": "Aleena Raj",
      "userId": "16635257578699511263"
     },
     "user_tz": -330
    },
    "id": "DIf3f3rO0z88",
    "outputId": "ce76ca9b-d99d-4439-ba23-51368fc2b900"
   },
   "outputs": [
    {
     "data": {
      "text/plain": [
       "Text(0, 0.5, 'Spending Score (1-100)')"
      ]
     },
     "execution_count": 241,
     "metadata": {},
     "output_type": "execute_result"
    },
    {
     "data": {
      "image/png": "[encoded data removed]",
      "text/plain": [
       "<Figure size 800x600 with 1 Axes>"
      ]
     },
     "metadata": {},
     "output_type": "display_data"
    }
   ],
   "source": [
    "plt.figure(figsize=(8, 6))\n",
    "plt.scatter(df2.iloc[:,0], df2.iloc[:,1], c=model.labels_, cmap='rainbow')\n",
    "plt.title('Clusters of Customers')\n",
    "plt.xlabel('Annual Income (k$)')\n",
    "plt.ylabel('Spending Score (1-100)')"
   ]
  },
  {
   "cell_type": "markdown",
   "metadata": {
    "id": "5hHiCKeVGH7i"
   },
   "source": [
    "__Observations:__\n",
    "\n",
    "- Within the spread, you can see that five separate clusters have been created, forming the agglomerative cluster of five clusters.\n",
    "-  The cluster is represented by red, green, blue, violet, and yellow."
   ]
  },
  {
   "cell_type": "markdown",
   "metadata": {
    "id": "CMb1zeFCJbMb"
   },
   "source": [
    "### __Divisive Hierarchical Cluster Analysis: Top-to-Bottom Approach__"
   ]
  },
  {
   "cell_type": "markdown",
   "metadata": {
    "id": "oIroE1P1LWKC"
   },
   "source": [
    "This method, also called **top-down** clustering, begins with all data points in one large cluster. It then repeatedly splits this cluster into smaller sub-clusters based on their differences.\n",
    "\n",
    "<img src=\"https://labcontent.simplicdn.net/data-content/content-assets/Data_and_AI/ML/Lesson_06/Divisive.png\" width=600 height=600 />"
   ]
  },
  {
   "cell_type": "markdown",
   "metadata": {
    "id": "IaVVyxjqcagp"
   },
   "source": [
    "#### __Steps of Divisive Clustering__\n",
    "\n",
    "1. __Start with All Data in One Cluster:__ Begin with a single cluster containing all data points.\n",
    "2. __Select a Cluster to Split:__ Choose a cluster to split based on some criteria (e.g., the largest cluster or the one with the highest variance).\n",
    "3. __Split the Cluster:__ Divide the selected cluster into two smaller clusters using a clustering algorithm (e.g., k-means with $𝑘=2$).\n",
    "4. __Repeat:__ Repeat steps 2 and 3 until a stopping criterion is met (e.g., a specified number of clusters is reached or the clusters cannot be split further).\n"
   ]
  },
  {
   "cell_type": "markdown",
   "metadata": {
    "id": "7ffyoOnvysy-"
   },
   "source": [
    "## __3. DBSCAN (Density-Based Spatial Clustering of Applications with Noise)__"
   ]
  },
  {
   "cell_type": "markdown",
   "metadata": {
    "id": "l3Knb0bq95j_"
   },
   "source": [
    "DBSCAN is a popular unsupervised machine learning algorithm primarily used for clustering tasks, where the goal is to group closely packed data points based on some notion of distance. It identifies points that are alone in low-density regions as outliers or noise.\n",
    "\n",
    "- DBSCAN is widely used in various domains, such as anomaly detection, spatial data analysis, and image segmentation, due to its simplicity and effectiveness with spatial data.\n",
    "- It is a clustering algorithm used in machine learning to partition data into clusters based on their distance to other points.\n",
    "- Its effective at identifying and removing noise in a data set, making it useful for data cleaning and outlier detection.\n",
    "- It works by partitioning the data into dense regions of points that are separated by less dense areas."
   ]
  },
  {
   "cell_type": "markdown",
   "metadata": {},
   "source": []
  },
  {
   "cell_type": "markdown",
   "metadata": {},
   "source": [
    "### __DBSCAN parameters__"
   ]
  },
  {
   "cell_type": "markdown",
   "metadata": {},
   "source": [
    "- `eps (epsilon)`: The maximum distance between two points for them to be considered neighbors. Points that are within `eps` distance of each other are considered part of the same cluster.\n",
    "- `min_samples`: The minimum number of points required for a point to be considered a `Core point`. Points that have fewer than min_samples neighbors are labeled as noise.\n",
    "- `metric`: The distance metric used to measure the distance between points. By default, Euclidean distance is used, but other metrics such as Manhattan distance or cosine distance can be used.\n",
    "\n",
    "* __Core Points:__ Data points with at least a specified number of other points (MinPts) within a given distance (ε or epsilon). \n",
    "* __Border Points:__ Data points within the ε distance of a core point but not core points themselves. \n",
    "* __Noise Points:__ Data points that are neither core nor border points, considered outliers. \n",
    "* __Epsilon (ε):__ The radius of the neighborhood used to determine density. \n",
    "* __MinPts:__ The minimum number of points required within the ε radius for a point to be considered a core point. \n",
    "\n",
    "**Note:** DBSCAN does not predict new cluster labels for unseen data because it’s not a predictive model but a fitting model. `.fit_predict()` will effectively treat your test set as a new dataset and find clusters independently of the training set, which might not align with the clusters identified in the training set."
   ]
  },
  {
   "cell_type": "markdown",
   "metadata": {
    "id": "nnm8y03_95mK"
   },
   "source": [
    "#### __Advantages of DBSCAN:__"
   ]
  },
  {
   "cell_type": "markdown",
   "metadata": {
    "id": "c32Z0AJM95of"
   },
   "source": [
    "- It does not require specifying the number of clusters a priori, unlike K-means.\n",
    "- It can find arbitrarily shaped clusters that other clustering algorithms might not find.\n",
    "- It is robust to outliers; points that don’t belong to a cluster are treated as noise.\n"
   ]
  },
  {
   "cell_type": "markdown",
   "metadata": {
    "id": "TSpaxnlK2PPn"
   },
   "source": [
    "### __Implementation of DBSCAN.__"
   ]
  },
  {
   "cell_type": "code",
   "execution_count": 332,
   "metadata": {
    "id": "dkyIVkwLqle6"
   },
   "outputs": [],
   "source": [
    "import pandas as pd\n",
    "import numpy as np\n",
    "import matplotlib.pyplot as plt\n",
    "from sklearn.cluster import DBSCAN\n",
    "from sklearn.model_selection import train_test_split"
   ]
  },
  {
   "cell_type": "code",
   "execution_count": 334,
   "metadata": {
    "colab": {
     "base_uri": "https://localhost:8080/"
    },
    "executionInfo": {
     "elapsed": 483,
     "status": "ok",
     "timestamp": 1718626064082,
     "user": {
      "displayName": "Aleena Raj",
      "userId": "16635257578699511263"
     },
     "user_tz": -330
    },
    "id": "4BiaPXgV2V9l",
    "outputId": "01578fed-8bb6-469d-9044-5c409e443ba3"
   },
   "outputs": [
    {
     "data": {
      "text/html": [
       "<div>\n",
       "<style scoped>\n",
       "    .dataframe tbody tr th:only-of-type {\n",
       "        vertical-align: middle;\n",
       "    }\n",
       "\n",
       "    .dataframe tbody tr th {\n",
       "        vertical-align: top;\n",
       "    }\n",
       "\n",
       "    .dataframe thead th {\n",
       "        text-align: right;\n",
       "    }\n",
       "</style>\n",
       "<table border=\"1\" class=\"dataframe\">\n",
       "  <thead>\n",
       "    <tr style=\"text-align: right;\">\n",
       "      <th></th>\n",
       "      <th>CustomerID</th>\n",
       "      <th>Gender</th>\n",
       "      <th>Age</th>\n",
       "      <th>Annual Income (k$)</th>\n",
       "      <th>Spending Score (1-100)</th>\n",
       "    </tr>\n",
       "  </thead>\n",
       "  <tbody>\n",
       "    <tr>\n",
       "      <th>0</th>\n",
       "      <td>1</td>\n",
       "      <td>Male</td>\n",
       "      <td>19</td>\n",
       "      <td>15</td>\n",
       "      <td>39</td>\n",
       "    </tr>\n",
       "    <tr>\n",
       "      <th>1</th>\n",
       "      <td>2</td>\n",
       "      <td>Male</td>\n",
       "      <td>21</td>\n",
       "      <td>15</td>\n",
       "      <td>81</td>\n",
       "    </tr>\n",
       "    <tr>\n",
       "      <th>2</th>\n",
       "      <td>3</td>\n",
       "      <td>Female</td>\n",
       "      <td>20</td>\n",
       "      <td>16</td>\n",
       "      <td>6</td>\n",
       "    </tr>\n",
       "    <tr>\n",
       "      <th>3</th>\n",
       "      <td>4</td>\n",
       "      <td>Female</td>\n",
       "      <td>23</td>\n",
       "      <td>16</td>\n",
       "      <td>77</td>\n",
       "    </tr>\n",
       "    <tr>\n",
       "      <th>4</th>\n",
       "      <td>5</td>\n",
       "      <td>Female</td>\n",
       "      <td>31</td>\n",
       "      <td>17</td>\n",
       "      <td>40</td>\n",
       "    </tr>\n",
       "  </tbody>\n",
       "</table>\n",
       "</div>"
      ],
      "text/plain": [
       "   CustomerID  Gender  Age  Annual Income (k$)  Spending Score (1-100)\n",
       "0           1    Male   19                  15                      39\n",
       "1           2    Male   21                  15                      81\n",
       "2           3  Female   20                  16                       6\n",
       "3           4  Female   23                  16                      77\n",
       "4           5  Female   31                  17                      40"
      ]
     },
     "execution_count": 334,
     "metadata": {},
     "output_type": "execute_result"
    }
   ],
   "source": [
    "data = pd.read_csv('datasets/Mall_customers.csv')\n",
    "data.head()"
   ]
  },
  {
   "cell_type": "markdown",
   "metadata": {
    "id": "JfRWdVhQ6gzp"
   },
   "source": [
    "#### __Preprocess the Data and Perform Train-test Split__\n",
    "\n",
    "- Select relevant features for clustering. For this example, let's use `Annual Income (k$)` and `Spending Score (1-100)`.\n",
    "- Split the data into training and testing sets."
   ]
  },
  {
   "cell_type": "code",
   "execution_count": 337,
   "metadata": {
    "id": "4yJFXkJ62uiV"
   },
   "outputs": [],
   "source": [
    "# Select relevant features\n",
    "X = data[['Annual Income (k$)', 'Spending Score (1-100)']].values\n",
    "X_train, X_test = train_test_split(X, test_size=0.4, random_state=42)"
   ]
  },
  {
   "cell_type": "markdown",
   "metadata": {
    "id": "l4Qz4nhy61G-"
   },
   "source": [
    "#### __Apply DBSCAN__\n",
    "\n",
    "- Apply DBSCAN to the training and testing set\n",
    "- DBSCAN Parameters: we've chosen `eps=5` and `min_samples=5`. These parameters are crucial as they determine the density requirement for forming clusters."
   ]
  },
  {
   "cell_type": "code",
   "execution_count": 340,
   "metadata": {
    "id": "0WEMqps62yl9"
   },
   "outputs": [],
   "source": [
    "# Apply DBSCAN to the training set\n",
    "db = DBSCAN(eps=5, min_samples=5).fit(X_train)\n",
    "labels_train = db.labels_\n",
    "\n",
    "# Apply DBSCAN to the test set\n",
    "labels_test = db.fit_predict(X_test)"
   ]
  },
  {
   "cell_type": "code",
   "execution_count": 342,
   "metadata": {},
   "outputs": [
    {
     "data": {
      "text/plain": [
       "array([-1,  0,  0, -1, -1,  0, -1, -1, -1,  0, -1,  1,  0, -1, -1, -1, -1,\n",
       "       -1, -1, -1, -1, -1, -1, -1,  0, -1, -1,  0,  0, -1, -1, -1, -1, -1,\n",
       "        0, -1,  0, -1,  1, -1, -1,  0,  1, -1, -1, -1, -1, -1,  0, -1, -1,\n",
       "        0,  0, -1, -1, -1, -1,  0, -1, -1, -1, -1, -1,  0,  0, -1, -1,  0,\n",
       "        0,  0, -1, -1,  0, -1, -1,  0, -1, -1, -1,  0, -1, -1, -1, -1,  0,\n",
       "        0,  0,  0, -1,  0,  0, -1, -1,  0, -1, -1, -1, -1, -1, -1, -1,  0,\n",
       "        1, -1,  1,  0,  0,  0,  0,  0,  0, -1, -1, -1,  0,  0, -1,  0, -1,\n",
       "       -1])"
      ]
     },
     "execution_count": 342,
     "metadata": {},
     "output_type": "execute_result"
    }
   ],
   "source": [
    "labels_train"
   ]
  },
  {
   "cell_type": "code",
   "execution_count": 344,
   "metadata": {},
   "outputs": [
    {
     "data": {
      "text/plain": [
       "array([ 0, -1, -1, -1, -1,  0, -1, -1, -1, -1, -1, -1, -1,  1, -1, -1, -1,\n",
       "       -1, -1,  1, -1, -1, -1, -1,  1,  1,  1, -1, -1, -1, -1, -1, -1,  1,\n",
       "       -1,  0, -1, -1, -1,  1, -1, -1, -1, -1, -1, -1, -1, -1, -1,  0,  0,\n",
       "       -1, -1, -1,  0,  1, -1,  0, -1,  0, -1,  0, -1, -1, -1,  0, -1, -1,\n",
       "        0, -1, -1, -1, -1, -1,  0,  0, -1, -1, -1,  0])"
      ]
     },
     "execution_count": 344,
     "metadata": {},
     "output_type": "execute_result"
    }
   ],
   "source": [
    "labels_test"
   ]
  },
  {
   "cell_type": "markdown",
   "metadata": {
    "id": "Z5sVu0AQ7Gl0"
   },
   "source": [
    "#### __Number of Clusters__\n",
    "\n",
    "Calculate the number of clusters in training and testing sets and ignore the noice points"
   ]
  },
  {
   "cell_type": "code",
   "execution_count": 347,
   "metadata": {},
   "outputs": [
    {
     "data": {
      "text/plain": [
       "3"
      ]
     },
     "execution_count": 347,
     "metadata": {},
     "output_type": "execute_result"
    }
   ],
   "source": [
    "len(set(labels_train))"
   ]
  },
  {
   "cell_type": "code",
   "execution_count": 349,
   "metadata": {},
   "outputs": [
    {
     "data": {
      "text/plain": [
       "1"
      ]
     },
     "execution_count": 349,
     "metadata": {},
     "output_type": "execute_result"
    }
   ],
   "source": [
    "(1 if -1 in labels_train else 0)"
   ]
  },
  {
   "cell_type": "code",
   "execution_count": 351,
   "metadata": {
    "colab": {
     "base_uri": "https://localhost:8080/"
    },
    "executionInfo": {
     "elapsed": 457,
     "status": "ok",
     "timestamp": 1718627063845,
     "user": {
      "displayName": "Aleena Raj",
      "userId": "16635257578699511263"
     },
     "user_tz": -330
    },
    "id": "UoTENBNC2-v_",
    "outputId": "6b7ff77b-4571-4fac-a990-7c29e664712e"
   },
   "outputs": [
    {
     "name": "stdout",
     "output_type": "stream",
     "text": [
      "2\n",
      "75\n"
     ]
    }
   ],
   "source": [
    "# Number of clusters in labels, ignoring noise if present.\n",
    "n_clusters_train = len(set(labels_train)) - (1 if -1 in labels_train else 0)\n",
    "n_noise_train = list(labels_train).count(-1)\n",
    "\n",
    "print(n_clusters_train)\n",
    "print(n_noise_train)"
   ]
  },
  {
   "cell_type": "code",
   "execution_count": 353,
   "metadata": {},
   "outputs": [
    {
     "name": "stdout",
     "output_type": "stream",
     "text": [
      "2\n",
      "58\n"
     ]
    }
   ],
   "source": [
    "n_clusters_test = len(set(labels_test)) - (1 if -1 in labels_test else 0)\n",
    "n_noise_test = list(labels_test).count(-1)\n",
    "\n",
    "print(n_clusters_test)\n",
    "print(n_noise_test)"
   ]
  },
  {
   "cell_type": "code",
   "execution_count": 355,
   "metadata": {},
   "outputs": [
    {
     "name": "stdout",
     "output_type": "stream",
     "text": [
      "Estimated number of clusters (train): 2\n",
      "Estimated number of noise points (train): 75\n",
      "Estimated number of clusters (test): 2\n",
      "Estimated number of noise points (test): 58\n"
     ]
    }
   ],
   "source": [
    "print(f'Estimated number of clusters (train): {n_clusters_train}')\n",
    "print(f'Estimated number of noise points (train): {n_noise_train}')\n",
    "print(f'Estimated number of clusters (test): {n_clusters_test}')\n",
    "print(f'Estimated number of noise points (test): {n_noise_test}')"
   ]
  },
  {
   "cell_type": "markdown",
   "metadata": {
    "id": "mxpemrN89sns"
   },
   "source": [
    "#### __Plot the clusters for training set__\n",
    "\n",
    "- ```unique_labels_train = set(labels_train)``` Extracts unique cluster labels from labels_train. This ensures we know all the different clusters present in the training data.\n",
    "\n",
    "- ```colors = [plt.cm.Spectral(each) for each in np.linspace(0, 1, len(unique_labels_train))]``` Generates a list of colors, one for each unique cluster. The np.linspace(0, 1, len(unique_labels_train)) creates evenly spaced values between 0 and 1, which are then mapped to colors using plt.cm.Spectral.\n",
    "\n",
    "- ```for k, col in zip(unique_labels_train, colors):``` Loops through each unique label k and its corresponding color col.\n",
    "- ```if k == -1:``` Checks if the label is -1, which typically denotes noise points in clustering algorithms.\n",
    "- ```col = [0, 0, 0, 1]``` If the label is -1, assigns the color black to these points.\n",
    "\n",
    "- ```class_member_mask = (labels_train == k)``` Creates a boolean mask that selects data points belonging to the current cluster k.\n",
    "- ```xy = X_train[class_member_mask]``` Applies the mask to X_train to extract the data points for the current cluster.\n",
    "- ```plt.plot(xy[:, 0], xy[:, 1], 'o', markerfacecolor=tuple(col), markeredgecolor='k', markersize=6)``` Plots the data points. xy[:, 0] and xy[:, 1] represent the coordinates of the data points. The points are plotted as circles ('o') with the specified face color, edge color, and size."
   ]
  },
  {
   "cell_type": "code",
   "execution_count": 372,
   "metadata": {},
   "outputs": [
    {
     "data": {
      "text/plain": [
       "array([0. , 0.5, 1. ])"
      ]
     },
     "execution_count": 372,
     "metadata": {},
     "output_type": "execute_result"
    }
   ],
   "source": [
    "np.linspace(0, 1, len(set(labels_train)))"
   ]
  },
  {
   "cell_type": "code",
   "execution_count": 374,
   "metadata": {},
   "outputs": [
    {
     "data": {
      "text/plain": [
       "[(0.5568627450980392, 0.00392156862745098, 0.3215686274509804, 1.0),\n",
       " (0.9673202614379085, 0.968473663975394, 0.9656286043829296, 1.0),\n",
       " (0.15294117647058825, 0.39215686274509803, 0.09803921568627451, 1.0)]"
      ]
     },
     "execution_count": 374,
     "metadata": {},
     "output_type": "execute_result"
    }
   ],
   "source": [
    "colors = [plt.cm.PiYG(each) for each in np.linspace(0, 1, len(set(labels_train)))]\n",
    "colors"
   ]
  },
  {
   "cell_type": "code",
   "execution_count": 393,
   "metadata": {
    "colab": {
     "base_uri": "https://localhost:8080/",
     "height": 564
    },
    "executionInfo": {
     "elapsed": 707,
     "status": "ok",
     "timestamp": 1718627212661,
     "user": {
      "displayName": "Aleena Raj",
      "userId": "16635257578699511263"
     },
     "user_tz": -330
    },
    "id": "iLa5Eu_x3Co6",
    "outputId": "23c2ec5a-c86d-41dc-ae90-48c4b306ceea"
   },
   "outputs": [
    {
     "data": {
      "image/png": "[encoded data removed]",
      "text/plain": [
       "<Figure size 1200x600 with 1 Axes>"
      ]
     },
     "metadata": {},
     "output_type": "display_data"
    }
   ],
   "source": [
    "# Plot the clusters for training set\n",
    "unique_labels_train = set(labels_train)\n",
    "colors = [plt.cm.Greens(each) for each in np.linspace(0, 1, len(unique_labels_train))]\n",
    "\n",
    "plt.figure(figsize=(12, 6))\n",
    "\n",
    "for k, col in zip(unique_labels_train, colors):\n",
    "    if k == -1:\n",
    "        # Black used for noise.\n",
    "        col = [0, 0, 0, 1]\n",
    "\n",
    "    class_member_mask = (labels_train == k)\n",
    "\n",
    "    xy = X_train[class_member_mask]\n",
    "    plt.plot(xy[:, 0], xy[:, 1], 'o', markerfacecolor=tuple(col), markeredgecolor='k', markersize=6, label=f'Cluster {k}' if k != -1 else 'Noise')\n",
    "\n",
    "plt.title(f'Training Set: Estimated number of clusters: {n_clusters_train}')\n",
    "plt.xlabel('Annual Income (k$)')\n",
    "plt.ylabel('Spending Score (1-100)')\n",
    "plt.legend()\n",
    "plt.show()\n"
   ]
  },
  {
   "cell_type": "markdown",
   "metadata": {
    "id": "C0pizclI_G5R"
   },
   "source": [
    "#### __Plot the clusters for testing set__"
   ]
  },
  {
   "cell_type": "code",
   "execution_count": 395,
   "metadata": {
    "colab": {
     "base_uri": "https://localhost:8080/",
     "height": 564
    },
    "executionInfo": {
     "elapsed": 679,
     "status": "ok",
     "timestamp": 1718627234989,
     "user": {
      "displayName": "Aleena Raj",
      "userId": "16635257578699511263"
     },
     "user_tz": -330
    },
    "id": "IF8OupL13SMc",
    "outputId": "bbcb4c06-622a-433b-cb76-50eaa1a96e4b"
   },
   "outputs": [
    {
     "data": {
      "image/png": "[encoded data removed]",
      "text/plain": [
       "<Figure size 1200x600 with 1 Axes>"
      ]
     },
     "metadata": {},
     "output_type": "display_data"
    }
   ],
   "source": [
    "# Plot the clusters for test set\n",
    "unique_labels_test = set(labels_test)\n",
    "colors = [plt.cm.Spectral(each) for each in np.linspace(0, 1, len(unique_labels_test))]\n",
    "\n",
    "plt.figure(figsize=(12, 6))\n",
    "\n",
    "for k, col in zip(unique_labels_test, colors):\n",
    "    if k == -1:\n",
    "        # Black used for noise.\n",
    "        col = [0, 0, 0, 1]\n",
    "\n",
    "    class_member_mask = (labels_test == k)\n",
    "\n",
    "    xy = X_test[class_member_mask]\n",
    "    plt.plot(xy[:, 0], xy[:, 1], 'o', markerfacecolor=tuple(col),\n",
    "             markeredgecolor='k', markersize=6, label=f'Cluster {k}' if k != -1 else 'Noise')\n",
    "\n",
    "plt.title(f'Test Set: Estimated number of clusters: {n_clusters_test}')\n",
    "plt.xlabel('Annual Income (k$)')\n",
    "plt.ylabel('Spending Score (1-100)')\n",
    "plt.legend()\n",
    "plt.show()\n"
   ]
  },
  {
   "cell_type": "code",
   "execution_count": null,
   "metadata": {},
   "outputs": [],
   "source": []
  },
  {
   "cell_type": "code",
   "execution_count": null,
   "metadata": {},
   "outputs": [],
   "source": []
  },
  {
   "cell_type": "code",
   "execution_count": null,
   "metadata": {},
   "outputs": [],
   "source": []
  }
 ],
 "metadata": {
  "colab": {
   "provenance": []
  },
  "kernelspec": {
   "display_name": "Python [conda env:base] *",
   "language": "python",
   "name": "conda-base-py"
  },
  "language_info": {
   "codemirror_mode": {
    "name": "ipython",
    "version": 3
   },
   "file_extension": ".py",
   "mimetype": "text/x-python",
   "name": "python",
   "nbconvert_exporter": "python",
   "pygments_lexer": "ipython3",
   "version": "3.12.7"
  }
 },
 "nbformat": 4,
 "nbformat_minor": 4
}
