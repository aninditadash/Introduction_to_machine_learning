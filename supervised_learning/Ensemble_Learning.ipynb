{
  "cells": [
    {
      "cell_type": "markdown",
      "metadata": {
        "id": "NHIG1d9_l34n"
      },
      "source": [
        "# __Ensemble Learning__"
      ]
    },
    {
      "cell_type": "markdown",
      "metadata": {
        "id": "wuAtQRq_jrIR"
      },
      "source": [
        "1. Categories in ensemble learning\n",
        "     * Sequential ensemble technique\n",
        "     * Parallel ensemble technique\n",
        "2. Simple techniques used in ensemble learning\n",
        "    * Voting\n",
        "    * Averaging\n",
        "    * Weighted Averaging\n",
        "3. Advanced techniques used in ensemble learning\n",
        "    * Bagging (bootstrap aggregating)\n",
        "    * Boosting\n",
        "    * Stacking"
      ]
    },
    {
      "cell_type": "markdown",
      "metadata": {
        "id": "ATRhnmJrl34t"
      },
      "source": [
        "## __1. Introduction to Ensemble Learning__"
      ]
    },
    {
      "cell_type": "markdown",
      "metadata": {
        "id": "Pjt6Pt8c1_Rd"
      },
      "source": [
        "Ensemble learning combines multiple models to enhance the overall performance of machine learning algorithms. The fundamental principle of ensemble learning is combining predictions from multiple individual models to produce a more accurate and robust prediction than any single model.\n",
        "\n",
        "__Example:__ Imagine you are deciding whether to go outside based on weather predictions. Instead of relying on just one weather forecast, you check multiple sources, like the weather app, a meteorologist's report, and a weather website. You then combine these predictions to make your decision.\n",
        "\n",
        "This process mirrors ensemble learning, where combining multiple models (or weather forecasts) results in a more accurate prediction (or decision) than any single model could offer."
      ]
    },
    {
      "cell_type": "markdown",
      "metadata": {
        "id": "a-29XIqy1_Re"
      },
      "source": [
        "#### __1.1 Goals of Ensemble Learning__"
      ]
    },
    {
      "cell_type": "markdown",
      "metadata": {
        "id": "Y4O1F-Znl34u"
      },
      "source": [
        "- Enhance predictive accuracy by combining multiple models.\n",
        "- Improve model robustness and generalization performance.\n",
        "\n",
        "<img src=\"https://labcontent.simplicdn.net/data-content/content-assets/Data_and_AI/ML/Lesson_07/ensemble_learning.png\" width=350 height=350 />"
      ]
    },
    {
      "cell_type": "markdown",
      "metadata": {
        "id": "GQwg5PJL1_Re"
      },
      "source": [
        "#### __1.2 Importance of Ensemble Learning__"
      ]
    },
    {
      "cell_type": "markdown",
      "metadata": {
        "id": "vHrOIMF5l34v"
      },
      "source": [
        "- Improves prediction accuracy by combining diverse models\n",
        "- Enhances model resilience and robustness against uncertainties\n",
        "- Mitigates biases and errors present in individual models\n",
        "- Captures a wide range of perspectives to achieve better performance\n",
        "- Provides reliable and robust forecasts across various domains, ensuring more dependable outcomes"
      ]
    },
    {
      "cell_type": "markdown",
      "metadata": {
        "id": "KhckZyPO1_Rf"
      },
      "source": [
        "#### __1.3 Weak and Strong learners in Ensemble Learning__"
      ]
    },
    {
      "cell_type": "markdown",
      "metadata": {
        "id": "lCHMABXNUmhm"
      },
      "source": [
        "- A **Weak learner** (WL) or **Base learner** is a learning algorithm\n",
        "capable of producing classifiers with probability of error strictly (but only slightly) less than that of random guessing (0.5, in the case of binary)\n",
        "- On the other hand, **Strong learner** (SL) is able (given enough training data) to yield classifiers with arbitrarily small error probability. It performs much better than random guessing.\n",
        "  \n",
        "An ensemble (or committee) of classifiers is a classifier build upon some\n",
        "combination of Weak learner. The strategy of boosting, and ensembles of classifiers, is to learn many weak classifiers and combine them, instead of trying to learn a single Strong learner.\n",
        "\n",
        "A single model, also known as a base or weak learner, may not perform well individually due to high variance or high bias. However, when weak learners are aggregated, they can form a strong learner, as their combination reduces bias or variance, yielding better model performance."
      ]
    },
    {
      "cell_type": "markdown",
      "metadata": {
        "id": "GB1krYkml34w"
      },
      "source": [
        "## __2. Categories in Ensemble Learning__"
      ]
    },
    {
      "cell_type": "markdown",
      "metadata": {
        "id": "o09_VTdHl34w"
      },
      "source": [
        "Ensemble learning can be broadly classified into two categories:\n",
        "- Sequential ensemble technique\n",
        "- Parallel ensemble technique"
      ]
    },
    {
      "cell_type": "markdown",
      "metadata": {
        "id": "NfV7RXRxl34x"
      },
      "source": [
        "### __2.1 Sequential Ensemble Technique__"
      ]
    },
    {
      "cell_type": "markdown",
      "metadata": {
        "id": "bCg-QnGCl34x"
      },
      "source": [
        "These techniques train models sequentially, with each model attempting to correct its predecessor's errors. This technique focuses on improving the overall performance of the ensemble by iteratively refining predictions. An example of this approach is boosting.\n",
        "\n",
        "__Note:__ It typically employs weak learners as base estimators because these learners initially have higher error rates.\n",
        "\n",
        "The steps involved in the sequential ensemble technique depend on the data structure and the requirements of the application. They are:\n",
        "1. __Base Model Selection__: Choose the initial model.\n",
        "2. __Sequential Training__: Train models one after the other.\n",
        "3. __Error Correction__: Each model learns from previous mistakes.\n",
        "4. __Prediction Refinement__: Iteratively refine predictions.\n",
        "5. __Combining Predictions__: Combine predictions from all models.\n",
        "6. __Evaluation__: Assess ensemble performance using metrics.\n",
        "\n",
        "<br>\n",
        "<img src=\"https://labcontent.simplicdn.net/data-content/content-assets/Data_and_AI/ML/Lesson_07/Sequential_Ensemble_Technique.png\" width=600 height=600 />\n",
        "<br>\n",
        "\n",
        "__Note:__ If all four base models are of the same type, it is considered to be a __homogeneous ensemble__. If they are different, it is considered __heterogeneous ensemble__.\n",
        "\n",
        "- The diagram above shows the training data divided into four samples, with each sample trained on a distinct base model.\n",
        "- Insights gained from model M1 are passed to model M2 alongside sample S2.\n",
        "- M2 then adjusts its weights and biases based on the outcomes of M1.\n",
        "- This process repeats for models 2, 3, and 4.\n",
        "- Finally, all the learners are combined using a weighted averaging strategy.\n",
        "\n",
        "The summation sign ($ ∑ $) indicates the function that adjusts the model to improve its overall performance.\n",
        "\n",
        "##### __The sequential ensemble technique is employed when dealing with:__\n",
        "\n",
        "- Complex relationships between input features and the target variable.\n",
        "- Diverse data types, including numerical and categorical data.\n",
        "- Imbalanced datasets, where skewed class distributions pose classification challenges.\n",
        "- Incremental updates are needed to adapt models gradually to evolving data over time."
      ]
    },
    {
      "cell_type": "markdown",
      "metadata": {
        "id": "tea0RTkEl34y"
      },
      "source": [
        "### __2.2 Parallel Ensemble Technique__"
      ]
    },
    {
      "cell_type": "markdown",
      "metadata": {
        "id": "bphih-2El34z"
      },
      "source": [
        "The parallel ensemble technique concurrently trains models. They combine the predictions from multiple models to improve the final output. Bagging and Random Forest algorithms are examples of parallel ensemble techniques.\n",
        "\n",
        "__Note:__  It employs stronger learners as base estimators.\n",
        "\n",
        "The steps involved in the parallel ensemble technique are:\n",
        "\n",
        "1. __Data Partitioning__: Divide the dataset into subsets\n",
        "2. __Model Training__: Train models concurrently on subsets\n",
        "3. __Prediction__: Models make independent predictions\n",
        "4. __Combining Predictions__: Aggregate predictions using techniques like voting or averaging\n",
        "5. __Evaluation__: Assess ensemble performance using metrics\n",
        "\n",
        "<br>\n",
        "<img src=\"https://labcontent.simplicdn.net/data-content/content-assets/Data_and_AI/ML/Lesson_07/Parallel_Ensemble_Technique.png\" width=600 height=600 />\n",
        "<br>\n",
        "\n",
        "- In the above diagram, the training data is divided into four samples, labeled S1 to S4, each trained on a distinct base model (M1 to M4).\n",
        "- Unlike the sequential ensemble technique, the data in the base learners is independent.\n",
        "- This independence of base learners significantly reduces the error due to the application of averages.\n",
        "\n",
        "The summation sign ($ ∑ $) indicates the aggregated model with improved performance, which has been learned from all independent base models, M1 to M4.\n",
        "\n",
        "##### __The parallel ensemble technique is used to:__\n",
        "\n",
        "- Enhance scalability, allowing for the efficient processing of large volumes of data by distributing the workload.\n",
        "- Expedite training and prediction processes through parallel computation on multi-core systems.\n",
        "- Reduce susceptibility to noise and overfitting by averaging out individual model errors.\n",
        "- Capture diverse data patterns effectively by utilizing different models trained on varied data subsets."
      ]
    },
    {
      "cell_type": "markdown",
      "metadata": {
        "id": "oOekR2Bjl340"
      },
      "source": [
        "## __3. Simple Techniques used in Ensemble Learning__"
      ]
    },
    {
      "cell_type": "markdown",
      "metadata": {
        "id": "KK__p3qZ1_Rg"
      },
      "source": [
        "1. Voting\n",
        "2. Averaging\n",
        "3. Weighted Averaging"
      ]
    },
    {
      "cell_type": "markdown",
      "metadata": {
        "id": "wNdRfmaF1_Rg"
      },
      "source": [
        "### __3.1 Voting__"
      ]
    },
    {
      "cell_type": "markdown",
      "metadata": {
        "id": "ozZMP5gkuTmE"
      },
      "source": [
        "Voting is one of the fundamental methods of ensemble learning. It involves aggregating the predictions from multiple models to arrive at a final prediction.\n",
        "Two common types of voting in ensemble learning are:\n",
        "\n",
        "* Majority voting/Hard voting\n",
        "* Weighted voting/Soft voting."
      ]
    },
    {
      "cell_type": "markdown",
      "metadata": {
        "id": "BhFD8c-e1_Rg"
      },
      "source": [
        "#### __3.11 Majority Voting/Hard Voting__"
      ]
    },
    {
      "cell_type": "markdown",
      "metadata": {
        "id": "KrCsQihDl340"
      },
      "source": [
        "Majority Voting or Hard Voting is an ensemble learning classification technique. It involves multiple models, making predictions for each data point. Each model's prediction is considered a __vote__. The final prediction is determined by the majority vote among the models.\n",
        "\n",
        "__Example:__\n",
        "    \n",
        "- Majority Voting ensemble works on breast cancer classification by combining predictions from multiple individual classifiers, such as Logistic Regression, Decision Tree, and Support Vector Machine.\n",
        "- Each classifier provides its prediction for whether a given sample belongs to a certain class. The voting ensemble then aggregates these predictions using a voting mechanism.\n",
        "- The final prediction is determined based on the most commonly predicted class among all classifiers.\n",
        "- This approach leverages the collective wisdom of diverse models to improve overall prediction accuracy and robustness in breast cancer classification tasks.    "
      ]
    },
    {
      "cell_type": "markdown",
      "metadata": {
        "id": "m6NqpUwG2LRi"
      },
      "source": [
        "#### __3.12 Weighted Voting/Soft Voting__"
      ]
    },
    {
      "cell_type": "markdown",
      "metadata": {
        "id": "o-Ma3EG51_Rg"
      },
      "source": [
        "Soft voting takes into account the probability estimates for each class provided by the models, assuming the models are capable of estimating these probabilities (i.e., they have a `predict_proba` method). The final prediction is determined by averaging these probabilities across all models, and the class with the highest average probability is selected."
      ]
    },
    {
      "cell_type": "markdown",
      "metadata": {
        "id": "PnF4ynEjl345"
      },
      "source": [
        "### __3.2 Averaging__"
      ]
    },
    {
      "cell_type": "markdown",
      "metadata": {
        "id": "BaY84EN0l345"
      },
      "source": [
        "The averaging technique is used mainly for regression problems. In this method, the predictions of multiple models are averaged to obtain the final prediction. This technique helps reduce variance and produces a more stable prediction.\n",
        "\n",
        "__Example:__\n",
        "\n",
        "- Averaging ensemble works by combining the predictions from multiple classifiers trained on the dataset.\n",
        "- These classifiers, such as Logistic Regression, Decision Tree, and Support Vector Machine, provide individual predictions for each data point.\n",
        "- Then it takes the average of these predictions to form a final prediction.\n",
        "- This approach helps to mitigate biases and uncertainties inherent in individual models, leading to a more accurate prediction of breast cancer classifications."
      ]
    },
    {
      "cell_type": "markdown",
      "metadata": {
        "id": "mW-AvUiAl35A"
      },
      "source": [
        "### __3.3 Weighted Averaging__"
      ]
    },
    {
      "cell_type": "markdown",
      "metadata": {
        "id": "Bybjyts-l35A"
      },
      "source": [
        "Weighted averaging assigns different weights to each model’s prediction, reflecting its importance or reliability. The final prediction is a weighted average, which can be more effective than simple averaging because it considers each model's performance.\n",
        "\n",
        "__Example:__\n",
        "\n",
        "- In medical diagnosis, weighted ensemble learning combines results from various diagnostic tests with different reliabilities.\n",
        "- Each test's result is weighted based on its importance. For instance, blood tests, imaging scans, and physical examinations' results are combined to determine a patient's diagnosis accurately and reliably.\n",
        "\n",
        "By weighting and averaging results from multiple diagnostic tests, you can determine the final diagnosis, thereby enhancing diagnostic accuracy and reliability. This highlights the significance of weighted averaging for improving decision-making."
      ]
    },
    {
      "cell_type": "markdown",
      "metadata": {
        "id": "WefYexnZ1_Rg"
      },
      "source": [
        "## __Breast Cancer Dataset (Classification)__"
      ]
    },
    {
      "cell_type": "markdown",
      "metadata": {
        "id": "AygifUCF1_Rg"
      },
      "source": [
        "#### __Import the necessary libraries__"
      ]
    },
    {
      "cell_type": "code",
      "execution_count": null,
      "metadata": {
        "id": "KJeXngLpl340"
      },
      "outputs": [],
      "source": [
        "import pandas as pd\n",
        "import numpy as np\n",
        "import matplotlib.pyplot as plt\n",
        "from sklearn.metrics import classification_report, confusion_matrix, ConfusionMatrixDisplay, accuracy_score, r2_score\n",
        "from sklearn.impute import SimpleImputer\n",
        "from sklearn.preprocessing import MinMaxScaler, StandardScaler\n",
        "from sklearn.linear_model import LogisticRegression\n",
        "from sklearn.tree import DecisionTreeClassifier\n",
        "from sklearn.svm import SVC\n",
        "from sklearn.pipeline import make_pipeline\n",
        "from sklearn.ensemble import VotingClassifier\n",
        "from sklearn.model_selection import train_test_split, KFold, cross_val_score"
      ]
    },
    {
      "cell_type": "markdown",
      "metadata": {
        "id": "BWAacdDK1_Rh"
      },
      "source": [
        "#### __Pre-processing the dataset__"
      ]
    },
    {
      "cell_type": "code",
      "execution_count": null,
      "metadata": {
        "id": "zxSDrklgl342"
      },
      "outputs": [],
      "source": [
        "# Load the dataset from the specified URL and assign column names to the DataFrame\n",
        "data = pd.read_csv('https://archive.ics.uci.edu/ml/machine-learning-databases/breast-cancer-wisconsin/breast-cancer-wisconsin.data', header=None)\n",
        "data.columns = ['Sample code', 'Clump Thickness', 'Uniformity of Cell Size', 'Uniformity of Cell Shape',\n",
        "                'Marginal Adhesion', 'Single Epithelial Cell Size', 'Bare Nuclei', 'Bland Chromatin',\n",
        "                'Normal Nucleoli', 'Mitoses', 'Class']"
      ]
    },
    {
      "cell_type": "code",
      "execution_count": null,
      "metadata": {
        "id": "T-lMbgpm1_Rh",
        "outputId": "3d0bbfae-8b7d-4025-c1cd-456473979a38"
      },
      "outputs": [
        {
          "data": {
            "text/html": [
              "<div>\n",
              "<style scoped>\n",
              "    .dataframe tbody tr th:only-of-type {\n",
              "        vertical-align: middle;\n",
              "    }\n",
              "\n",
              "    .dataframe tbody tr th {\n",
              "        vertical-align: top;\n",
              "    }\n",
              "\n",
              "    .dataframe thead th {\n",
              "        text-align: right;\n",
              "    }\n",
              "</style>\n",
              "<table border=\"1\" class=\"dataframe\">\n",
              "  <thead>\n",
              "    <tr style=\"text-align: right;\">\n",
              "      <th></th>\n",
              "      <th>Sample code</th>\n",
              "      <th>Clump Thickness</th>\n",
              "      <th>Uniformity of Cell Size</th>\n",
              "      <th>Uniformity of Cell Shape</th>\n",
              "      <th>Marginal Adhesion</th>\n",
              "      <th>Single Epithelial Cell Size</th>\n",
              "      <th>Bare Nuclei</th>\n",
              "      <th>Bland Chromatin</th>\n",
              "      <th>Normal Nucleoli</th>\n",
              "      <th>Mitoses</th>\n",
              "      <th>Class</th>\n",
              "    </tr>\n",
              "  </thead>\n",
              "  <tbody>\n",
              "    <tr>\n",
              "      <th>0</th>\n",
              "      <td>1000025</td>\n",
              "      <td>5</td>\n",
              "      <td>1</td>\n",
              "      <td>1</td>\n",
              "      <td>1</td>\n",
              "      <td>2</td>\n",
              "      <td>1</td>\n",
              "      <td>3</td>\n",
              "      <td>1</td>\n",
              "      <td>1</td>\n",
              "      <td>2</td>\n",
              "    </tr>\n",
              "    <tr>\n",
              "      <th>1</th>\n",
              "      <td>1002945</td>\n",
              "      <td>5</td>\n",
              "      <td>4</td>\n",
              "      <td>4</td>\n",
              "      <td>5</td>\n",
              "      <td>7</td>\n",
              "      <td>10</td>\n",
              "      <td>3</td>\n",
              "      <td>2</td>\n",
              "      <td>1</td>\n",
              "      <td>2</td>\n",
              "    </tr>\n",
              "    <tr>\n",
              "      <th>2</th>\n",
              "      <td>1015425</td>\n",
              "      <td>3</td>\n",
              "      <td>1</td>\n",
              "      <td>1</td>\n",
              "      <td>1</td>\n",
              "      <td>2</td>\n",
              "      <td>2</td>\n",
              "      <td>3</td>\n",
              "      <td>1</td>\n",
              "      <td>1</td>\n",
              "      <td>2</td>\n",
              "    </tr>\n",
              "    <tr>\n",
              "      <th>3</th>\n",
              "      <td>1016277</td>\n",
              "      <td>6</td>\n",
              "      <td>8</td>\n",
              "      <td>8</td>\n",
              "      <td>1</td>\n",
              "      <td>3</td>\n",
              "      <td>4</td>\n",
              "      <td>3</td>\n",
              "      <td>7</td>\n",
              "      <td>1</td>\n",
              "      <td>2</td>\n",
              "    </tr>\n",
              "    <tr>\n",
              "      <th>4</th>\n",
              "      <td>1017023</td>\n",
              "      <td>4</td>\n",
              "      <td>1</td>\n",
              "      <td>1</td>\n",
              "      <td>3</td>\n",
              "      <td>2</td>\n",
              "      <td>1</td>\n",
              "      <td>3</td>\n",
              "      <td>1</td>\n",
              "      <td>1</td>\n",
              "      <td>2</td>\n",
              "    </tr>\n",
              "  </tbody>\n",
              "</table>\n",
              "</div>"
            ],
            "text/plain": [
              "   Sample code  Clump Thickness  Uniformity of Cell Size  \\\n",
              "0      1000025                5                        1   \n",
              "1      1002945                5                        4   \n",
              "2      1015425                3                        1   \n",
              "3      1016277                6                        8   \n",
              "4      1017023                4                        1   \n",
              "\n",
              "   Uniformity of Cell Shape  Marginal Adhesion  Single Epithelial Cell Size  \\\n",
              "0                         1                  1                            2   \n",
              "1                         4                  5                            7   \n",
              "2                         1                  1                            2   \n",
              "3                         8                  1                            3   \n",
              "4                         1                  3                            2   \n",
              "\n",
              "  Bare Nuclei  Bland Chromatin  Normal Nucleoli  Mitoses  Class  \n",
              "0           1                3                1        1      2  \n",
              "1          10                3                2        1      2  \n",
              "2           2                3                1        1      2  \n",
              "3           4                3                7        1      2  \n",
              "4           1                3                1        1      2  "
            ]
          },
          "execution_count": 4,
          "metadata": {},
          "output_type": "execute_result"
        }
      ],
      "source": [
        "data.head()"
      ]
    },
    {
      "cell_type": "code",
      "execution_count": null,
      "metadata": {
        "id": "2z9Vrrih1_Rh",
        "outputId": "9e7d7b72-60db-4fb1-e5d6-84d75da6b2b7"
      },
      "outputs": [
        {
          "name": "stdout",
          "output_type": "stream",
          "text": [
            "<class 'pandas.core.frame.DataFrame'>\n",
            "RangeIndex: 699 entries, 0 to 698\n",
            "Data columns (total 11 columns):\n",
            " #   Column                       Non-Null Count  Dtype \n",
            "---  ------                       --------------  ----- \n",
            " 0   Sample code                  699 non-null    int64 \n",
            " 1   Clump Thickness              699 non-null    int64 \n",
            " 2   Uniformity of Cell Size      699 non-null    int64 \n",
            " 3   Uniformity of Cell Shape     699 non-null    int64 \n",
            " 4   Marginal Adhesion            699 non-null    int64 \n",
            " 5   Single Epithelial Cell Size  699 non-null    int64 \n",
            " 6   Bare Nuclei                  699 non-null    object\n",
            " 7   Bland Chromatin              699 non-null    int64 \n",
            " 8   Normal Nucleoli              699 non-null    int64 \n",
            " 9   Mitoses                      699 non-null    int64 \n",
            " 10  Class                        699 non-null    int64 \n",
            "dtypes: int64(10), object(1)\n",
            "memory usage: 60.2+ KB\n"
          ]
        }
      ],
      "source": [
        "data.info()"
      ]
    },
    {
      "cell_type": "code",
      "execution_count": null,
      "metadata": {
        "id": "_J_gkPjk1_Rh",
        "outputId": "843e32b6-c059-4838-f491-c615d45c990f"
      },
      "outputs": [
        {
          "data": {
            "text/html": [
              "<div>\n",
              "<style scoped>\n",
              "    .dataframe tbody tr th:only-of-type {\n",
              "        vertical-align: middle;\n",
              "    }\n",
              "\n",
              "    .dataframe tbody tr th {\n",
              "        vertical-align: top;\n",
              "    }\n",
              "\n",
              "    .dataframe thead th {\n",
              "        text-align: right;\n",
              "    }\n",
              "</style>\n",
              "<table border=\"1\" class=\"dataframe\">\n",
              "  <thead>\n",
              "    <tr style=\"text-align: right;\">\n",
              "      <th></th>\n",
              "      <th>Sample code</th>\n",
              "      <th>Clump Thickness</th>\n",
              "      <th>Uniformity of Cell Size</th>\n",
              "      <th>Uniformity of Cell Shape</th>\n",
              "      <th>Marginal Adhesion</th>\n",
              "      <th>Single Epithelial Cell Size</th>\n",
              "      <th>Bland Chromatin</th>\n",
              "      <th>Normal Nucleoli</th>\n",
              "      <th>Mitoses</th>\n",
              "      <th>Class</th>\n",
              "    </tr>\n",
              "  </thead>\n",
              "  <tbody>\n",
              "    <tr>\n",
              "      <th>count</th>\n",
              "      <td>6.990000e+02</td>\n",
              "      <td>699.000000</td>\n",
              "      <td>699.000000</td>\n",
              "      <td>699.000000</td>\n",
              "      <td>699.000000</td>\n",
              "      <td>699.000000</td>\n",
              "      <td>699.000000</td>\n",
              "      <td>699.000000</td>\n",
              "      <td>699.000000</td>\n",
              "      <td>699.000000</td>\n",
              "    </tr>\n",
              "    <tr>\n",
              "      <th>mean</th>\n",
              "      <td>1.071704e+06</td>\n",
              "      <td>4.417740</td>\n",
              "      <td>3.134478</td>\n",
              "      <td>3.207439</td>\n",
              "      <td>2.806867</td>\n",
              "      <td>3.216023</td>\n",
              "      <td>3.437768</td>\n",
              "      <td>2.866953</td>\n",
              "      <td>1.589413</td>\n",
              "      <td>2.689557</td>\n",
              "    </tr>\n",
              "    <tr>\n",
              "      <th>std</th>\n",
              "      <td>6.170957e+05</td>\n",
              "      <td>2.815741</td>\n",
              "      <td>3.051459</td>\n",
              "      <td>2.971913</td>\n",
              "      <td>2.855379</td>\n",
              "      <td>2.214300</td>\n",
              "      <td>2.438364</td>\n",
              "      <td>3.053634</td>\n",
              "      <td>1.715078</td>\n",
              "      <td>0.951273</td>\n",
              "    </tr>\n",
              "    <tr>\n",
              "      <th>min</th>\n",
              "      <td>6.163400e+04</td>\n",
              "      <td>1.000000</td>\n",
              "      <td>1.000000</td>\n",
              "      <td>1.000000</td>\n",
              "      <td>1.000000</td>\n",
              "      <td>1.000000</td>\n",
              "      <td>1.000000</td>\n",
              "      <td>1.000000</td>\n",
              "      <td>1.000000</td>\n",
              "      <td>2.000000</td>\n",
              "    </tr>\n",
              "    <tr>\n",
              "      <th>25%</th>\n",
              "      <td>8.706885e+05</td>\n",
              "      <td>2.000000</td>\n",
              "      <td>1.000000</td>\n",
              "      <td>1.000000</td>\n",
              "      <td>1.000000</td>\n",
              "      <td>2.000000</td>\n",
              "      <td>2.000000</td>\n",
              "      <td>1.000000</td>\n",
              "      <td>1.000000</td>\n",
              "      <td>2.000000</td>\n",
              "    </tr>\n",
              "    <tr>\n",
              "      <th>50%</th>\n",
              "      <td>1.171710e+06</td>\n",
              "      <td>4.000000</td>\n",
              "      <td>1.000000</td>\n",
              "      <td>1.000000</td>\n",
              "      <td>1.000000</td>\n",
              "      <td>2.000000</td>\n",
              "      <td>3.000000</td>\n",
              "      <td>1.000000</td>\n",
              "      <td>1.000000</td>\n",
              "      <td>2.000000</td>\n",
              "    </tr>\n",
              "    <tr>\n",
              "      <th>75%</th>\n",
              "      <td>1.238298e+06</td>\n",
              "      <td>6.000000</td>\n",
              "      <td>5.000000</td>\n",
              "      <td>5.000000</td>\n",
              "      <td>4.000000</td>\n",
              "      <td>4.000000</td>\n",
              "      <td>5.000000</td>\n",
              "      <td>4.000000</td>\n",
              "      <td>1.000000</td>\n",
              "      <td>4.000000</td>\n",
              "    </tr>\n",
              "    <tr>\n",
              "      <th>max</th>\n",
              "      <td>1.345435e+07</td>\n",
              "      <td>10.000000</td>\n",
              "      <td>10.000000</td>\n",
              "      <td>10.000000</td>\n",
              "      <td>10.000000</td>\n",
              "      <td>10.000000</td>\n",
              "      <td>10.000000</td>\n",
              "      <td>10.000000</td>\n",
              "      <td>10.000000</td>\n",
              "      <td>4.000000</td>\n",
              "    </tr>\n",
              "  </tbody>\n",
              "</table>\n",
              "</div>"
            ],
            "text/plain": [
              "        Sample code  Clump Thickness  Uniformity of Cell Size  \\\n",
              "count  6.990000e+02       699.000000               699.000000   \n",
              "mean   1.071704e+06         4.417740                 3.134478   \n",
              "std    6.170957e+05         2.815741                 3.051459   \n",
              "min    6.163400e+04         1.000000                 1.000000   \n",
              "25%    8.706885e+05         2.000000                 1.000000   \n",
              "50%    1.171710e+06         4.000000                 1.000000   \n",
              "75%    1.238298e+06         6.000000                 5.000000   \n",
              "max    1.345435e+07        10.000000                10.000000   \n",
              "\n",
              "       Uniformity of Cell Shape  Marginal Adhesion  \\\n",
              "count                699.000000         699.000000   \n",
              "mean                   3.207439           2.806867   \n",
              "std                    2.971913           2.855379   \n",
              "min                    1.000000           1.000000   \n",
              "25%                    1.000000           1.000000   \n",
              "50%                    1.000000           1.000000   \n",
              "75%                    5.000000           4.000000   \n",
              "max                   10.000000          10.000000   \n",
              "\n",
              "       Single Epithelial Cell Size  Bland Chromatin  Normal Nucleoli  \\\n",
              "count                   699.000000       699.000000       699.000000   \n",
              "mean                      3.216023         3.437768         2.866953   \n",
              "std                       2.214300         2.438364         3.053634   \n",
              "min                       1.000000         1.000000         1.000000   \n",
              "25%                       2.000000         2.000000         1.000000   \n",
              "50%                       2.000000         3.000000         1.000000   \n",
              "75%                       4.000000         5.000000         4.000000   \n",
              "max                      10.000000        10.000000        10.000000   \n",
              "\n",
              "          Mitoses       Class  \n",
              "count  699.000000  699.000000  \n",
              "mean     1.589413    2.689557  \n",
              "std      1.715078    0.951273  \n",
              "min      1.000000    2.000000  \n",
              "25%      1.000000    2.000000  \n",
              "50%      1.000000    2.000000  \n",
              "75%      1.000000    4.000000  \n",
              "max     10.000000    4.000000  "
            ]
          },
          "execution_count": 6,
          "metadata": {},
          "output_type": "execute_result"
        }
      ],
      "source": [
        "data.describe()"
      ]
    },
    {
      "cell_type": "code",
      "execution_count": null,
      "metadata": {
        "id": "oj4RVvOA1_Rh",
        "outputId": "62a98984-d5f9-4d5b-f7b8-2a0de1c25394"
      },
      "outputs": [
        {
          "data": {
            "text/plain": [
              "Sample code                     0\n",
              "Clump Thickness                 0\n",
              "Uniformity of Cell Size         0\n",
              "Uniformity of Cell Shape        0\n",
              "Marginal Adhesion               0\n",
              "Single Epithelial Cell Size     0\n",
              "Bare Nuclei                    16\n",
              "Bland Chromatin                 0\n",
              "Normal Nucleoli                 0\n",
              "Mitoses                         0\n",
              "Class                           0\n",
              "dtype: int64"
            ]
          },
          "execution_count": 8,
          "metadata": {},
          "output_type": "execute_result"
        }
      ],
      "source": [
        "# Checking for `?` in columns\n",
        "data.isin(['?']).sum()"
      ]
    },
    {
      "cell_type": "markdown",
      "metadata": {
        "id": "wDZYlrSB1_Rh"
      },
      "source": [
        "##### __Observation:__\n",
        "\n",
        "- `Bare Nuclei` has 16 missing values (containing `?`) and has `object` Dtype."
      ]
    },
    {
      "cell_type": "code",
      "execution_count": null,
      "metadata": {
        "id": "mU2veRIVl343"
      },
      "outputs": [],
      "source": [
        "# Drop the 'Sample code' column as it's not required for prediction\n",
        "data.drop(['Sample code'], axis=1, inplace=True)\n",
        "\n",
        "# Replace '?' with nan to handle missing data, ensuring numerical analysis accuracy and preventing calculation errors.\n",
        "data = data.replace('?', np.nan)"
      ]
    },
    {
      "cell_type": "code",
      "execution_count": null,
      "metadata": {
        "id": "lzDD5TVz6nJ2"
      },
      "outputs": [],
      "source": [
        "# Convert the 'Bare Nuclei' column to an integer type to ensure a uniform data type across the column,\n",
        "# which is essential for consistent data manipulation and analysis.\n",
        "data['Bare Nuclei'] = pd.to_numeric(data['Bare Nuclei']).fillna(0).astype('int64')"
      ]
    },
    {
      "cell_type": "code",
      "execution_count": null,
      "metadata": {
        "id": "TpAk9DK31_Rm",
        "outputId": "7e10b652-2fbc-48c3-f611-6b84e32c5565"
      },
      "outputs": [
        {
          "data": {
            "text/plain": [
              "Class\n",
              "2    458\n",
              "4    241\n",
              "Name: count, dtype: int64"
            ]
          },
          "execution_count": 13,
          "metadata": {},
          "output_type": "execute_result"
        }
      ],
      "source": [
        "data['Class'].value_counts()"
      ]
    },
    {
      "cell_type": "code",
      "execution_count": null,
      "metadata": {
        "id": "4X5x9MlCASCC"
      },
      "outputs": [],
      "source": [
        "# Replace class values to be binary (2 for benign, 4 for malignant)\n",
        "data['Class'] = data['Class'].replace({2: 0, 4: 1})"
      ]
    },
    {
      "cell_type": "code",
      "execution_count": null,
      "metadata": {
        "id": "cU1EX_K31_Rm",
        "outputId": "25257d34-77bb-4c5c-d8e6-c807c6e08ca9"
      },
      "outputs": [
        {
          "data": {
            "text/plain": [
              "Class\n",
              "0    458\n",
              "1    241\n",
              "Name: count, dtype: int64"
            ]
          },
          "execution_count": 15,
          "metadata": {},
          "output_type": "execute_result"
        }
      ],
      "source": [
        "data['Class'].value_counts()"
      ]
    },
    {
      "cell_type": "markdown",
      "metadata": {
        "id": "Fv2sgf5a1_Rm"
      },
      "source": [
        "##### __Observation:__\n",
        "\n",
        "The dataset is imbalanced, need to balance it using `SMOTE`."
      ]
    },
    {
      "cell_type": "markdown",
      "metadata": {
        "id": "vN7T4PL61_Rm"
      },
      "source": [
        "#### __Perform train-test split__"
      ]
    },
    {
      "cell_type": "code",
      "execution_count": null,
      "metadata": {
        "id": "AA6-poUv9bvs"
      },
      "outputs": [],
      "source": [
        "# Extract features (X) and target variable (y)\n",
        "X = data.iloc[:, :-1]  # All columns except the last one\n",
        "y = data.iloc[:, -1]   # Last column as the target variable\n",
        "\n",
        "# Perform a train test split\n",
        "X_train, X_test, y_train, y_test = train_test_split(X, y, test_size=0.2, random_state=7)\n",
        "\n",
        "# Create an instance of SimpleImputer to fill in missing values with the median\n",
        "imputer = SimpleImputer(strategy='median')\n",
        "X_train_imputed = imputer.fit_transform(X_train)\n",
        "X_test_imputed = imputer.transform(X_test)\n",
        "\n",
        "# Create an instance of MinMaxScaler to scale features to a range of (0, 1)\n",
        "scaler = MinMaxScaler(feature_range=(0, 1))\n",
        "X_train_scaled = scaler.fit_transform(X_train_imputed)\n",
        "X_test_scaled = scaler.transform(X_test_imputed)"
      ]
    },
    {
      "cell_type": "markdown",
      "metadata": {
        "id": "iXPgKW511_Rm"
      },
      "source": [
        "#### __Implementation of Ensemble technique with Hard voting: Breast Cancer Dataset__"
      ]
    },
    {
      "cell_type": "code",
      "execution_count": null,
      "metadata": {
        "colab": {
          "base_uri": "https://localhost:8080/"
        },
        "id": "QtqBWv8tTJp2",
        "outputId": "fe148643-2f68-4e06-b508-39facca3fc45"
      },
      "outputs": [
        {
          "name": "stdout",
          "output_type": "stream",
          "text": [
            "Mean cross-validation accuracy of the ensemble model: \n",
            "[0.96428571 0.98214286 0.91071429 0.98214286 0.96428571 0.98214286\n",
            " 1.         0.92857143 0.94642857 0.98181818]\n",
            "\n",
            "Mean cross-validation accuracy of the ensemble model: 0.96\n",
            "Train accuracy of the ensemble model: 0.98\n",
            "Test accuracy of the ensemble model: 0.96\n"
          ]
        }
      ],
      "source": [
        "# Initialize list for base models\n",
        "estimators = [\n",
        "    ('logistic', LogisticRegression()),\n",
        "    ('cart', DecisionTreeClassifier()),\n",
        "    ('svm', SVC())\n",
        "]\n",
        "\n",
        "# Create Voting Classifier ensemble with estimators\n",
        "ensemble = VotingClassifier(estimators, voting=\"hard\")\n",
        "\n",
        "# Set up KFold cross-validation\n",
        "kfold = KFold(n_splits=10, shuffle=True, random_state=7)\n",
        "\n",
        "# Evaluate ensemble model using cross-validation\n",
        "results = cross_val_score(ensemble, X_train_scaled, y_train, cv=kfold)\n",
        "\n",
        "# Print accuracy scores of the ensemble model\n",
        "print(f\"Mean cross-validation accuracy of the ensemble model: \\n{results}\")\n",
        "\n",
        "# Print mean accuracy score of the ensemble model\n",
        "print(f\"\\nMean cross-validation accuracy of the ensemble model: {results.mean():.2f}\")\n",
        "\n",
        "# Fit the ensemble on the scaled training set and evaluate on the scaled test set\n",
        "ensemble.fit(X_train_scaled, y_train)\n",
        "\n",
        "# evaluating model on test dataset\n",
        "y_pred_test_ensemble = ensemble.predict(X_test_scaled)\n",
        "\n",
        "# Evaluate the model's performance on the train and test set\n",
        "train_accuracy = ensemble.score(X_train_scaled, y_train)\n",
        "test_accuracy = ensemble.score(X_test_scaled, y_test)\n",
        "\n",
        "print(f\"Train accuracy of the ensemble model: {train_accuracy:.2f}\")\n",
        "print(f\"Test accuracy of the ensemble model: {test_accuracy:.2f}\")"
      ]
    },
    {
      "cell_type": "markdown",
      "metadata": {
        "id": "JJ06Ormxl345"
      },
      "source": [
        "##### __Observation:__\n",
        "\n",
        "The majority voting ensemble's 96% accuracy rate demonstrates its remarkable effectiveness in predicting breast cancer classifications. By combining predictions from multiple individual classifiers, this ensemble leverages the collective insights of diverse models to achieve highly accurate results."
      ]
    },
    {
      "cell_type": "code",
      "execution_count": null,
      "metadata": {
        "colab": {
          "base_uri": "https://localhost:8080/",
          "height": 640
        },
        "id": "X-zHWomY9FlA",
        "outputId": "a02be097-df0b-41ab-ddd8-6cb76b93d35c"
      },
      "outputs": [
        {
          "name": "stdout",
          "output_type": "stream",
          "text": [
            "              precision    recall  f1-score   support\n",
            "\n",
            "      Benign       0.97      0.97      0.97        91\n",
            "   Malignant       0.94      0.94      0.94        49\n",
            "\n",
            "    accuracy                           0.96       140\n",
            "   macro avg       0.95      0.95      0.95       140\n",
            "weighted avg       0.96      0.96      0.96       140\n",
            "\n"
          ]
        }
      ],
      "source": [
        "print(classification_report(y_test,y_pred_test_ensemble, target_names=['Benign','Malignant']))"
      ]
    },
    {
      "cell_type": "code",
      "execution_count": null,
      "metadata": {
        "id": "kReqBSKk1_Rn",
        "outputId": "a778ebd7-acd2-4adc-ccab-a3358147717f"
      },
      "outputs": [
        {
          "data": {
            "image/png": "[encoded data removed]",
            "text/plain": [
              "<Figure size 640x480 with 2 Axes>"
            ]
          },
          "metadata": {},
          "output_type": "display_data"
        }
      ],
      "source": [
        "cm_ensemble = confusion_matrix(y_test,y_pred_test_ensemble)\n",
        "\n",
        "disp = ConfusionMatrixDisplay(confusion_matrix=cm_ensemble, display_labels=['Benign','Malignant'])\n",
        "disp.plot(cmap=\"summer\")\n",
        "plt.show()"
      ]
    },
    {
      "cell_type": "markdown",
      "metadata": {
        "id": "Ga3C9D1Q7vXK"
      },
      "source": [
        "### __Comparison of Hard and Soft Voting (using `make_pipeline`)__"
      ]
    },
    {
      "cell_type": "markdown",
      "metadata": {
        "id": "9gZxUbeiBDTL"
      },
      "source": [
        "#### __Create Pipeline:__\n",
        "\n",
        "- `make_pipeline`: Construct a Pipeline from the given estimators."
      ]
    },
    {
      "cell_type": "code",
      "execution_count": null,
      "metadata": {
        "id": "oYlHkovCAg4J"
      },
      "outputs": [],
      "source": [
        "# Imputation to handle missing values\n",
        "imputer = SimpleImputer(strategy='median')\n",
        "\n",
        "# Define the base models with standard scaling and imputation\n",
        "model1 = make_pipeline(imputer, StandardScaler(), LogisticRegression(random_state=1, max_iter=10000))\n",
        "model2 = make_pipeline(imputer, StandardScaler(), DecisionTreeClassifier(random_state=1))\n",
        "model3 = make_pipeline(imputer, StandardScaler(), SVC(probability=True, random_state=1))\n",
        "\n",
        "# Define k-fold cross-validation procedure\n",
        "kf = KFold(n_splits=10, shuffle=True, random_state=1)"
      ]
    },
    {
      "cell_type": "markdown",
      "metadata": {
        "id": "Ah3j7J1x1_Rn"
      },
      "source": [
        "#### __Hard Voting: Breast Cancer dataset__"
      ]
    },
    {
      "cell_type": "code",
      "execution_count": null,
      "metadata": {
        "id": "70t27D-41_Rn",
        "outputId": "23350592-0e98-428f-d16d-2a4dbec59d94"
      },
      "outputs": [
        {
          "name": "stdout",
          "output_type": "stream",
          "text": [
            "Mean cross-validation accuracy of the ensemble model (Hard Voting): 0.9659\n",
            "\n",
            "Hard Voting - Train Accuracy: 0.9643\n",
            "Hard Voting - Test Accuracy: 0.9643\n"
          ]
        }
      ],
      "source": [
        "# Create an ensemble of models for hard voting\n",
        "hard_voting_classifier = VotingClassifier(\n",
        "    estimators=[('lr', model1), ('dt', model2), ('svc', model3)],\n",
        "    voting='hard'\n",
        ")\n",
        "\n",
        "# Cross-validation on the training data\n",
        "hard_cv_scores = cross_val_score(hard_voting_classifier, X_train, y_train, cv=kf, scoring='accuracy')\n",
        "print(f\"Mean cross-validation accuracy of the ensemble model (Hard Voting): {hard_cv_scores.mean():.4f}\\n\")\n",
        "\n",
        "# Fit and evaluate on the test data\n",
        "hard_voting_classifier.fit(X_train, y_train)\n",
        "y_pred_hard = hard_voting_classifier.predict(X_test)\n",
        "\n",
        "# Evaluate the model's performance on the train and test set\n",
        "hard_train_accuracy = hard_voting_classifier.score(X_train, y_train)\n",
        "hard_test_accuracy = hard_voting_classifier.score(X_test, y_test)\n",
        "\n",
        "print(f\"Hard Voting - Train Accuracy: {hard_test_accuracy:.4f}\")\n",
        "print(f\"Hard Voting - Test Accuracy: {hard_test_accuracy:.4f}\")"
      ]
    },
    {
      "cell_type": "markdown",
      "metadata": {
        "id": "RmSVrU9Z1_Rn"
      },
      "source": [
        "#### __Soft Voting: Breast Cancer dataset__"
      ]
    },
    {
      "cell_type": "code",
      "execution_count": null,
      "metadata": {
        "colab": {
          "base_uri": "https://localhost:8080/"
        },
        "id": "8Kl9BxHxkhG3",
        "outputId": "c4f0b9fb-d59d-417e-a4f7-a1cb6337ad00"
      },
      "outputs": [
        {
          "name": "stdout",
          "output_type": "stream",
          "text": [
            "Mean cross-validation accuracy of the ensemble model (Soft Voting): 0.9624 \n",
            "\n",
            "Soft Voting - Train Accuracy: 0.9839\n",
            "Soft Voting - Test Accuracy: 0.9643\n"
          ]
        }
      ],
      "source": [
        "# Create and evaluate a soft voting classifier\n",
        "soft_voting_classifier = VotingClassifier(\n",
        "    estimators=[('lr', model1), ('dt', model2), ('svc', model3)],\n",
        "    voting='soft'\n",
        ")\n",
        "\n",
        "# Cross-validation on the training data\n",
        "soft_cv_scores = cross_val_score(soft_voting_classifier, X_train, y_train, cv=kf, scoring='accuracy')\n",
        "print(f\"Mean cross-validation accuracy of the ensemble model (Soft Voting): {soft_cv_scores.mean():.4f} \\n\")\n",
        "\n",
        "# Fit and evaluate on the test data\n",
        "soft_voting_classifier.fit(X_train, y_train)\n",
        "y_pred_soft = soft_voting_classifier.predict(X_test)\n",
        "\n",
        "# Evaluate the model's performance on the train and test set\n",
        "soft_train_accuracy = soft_voting_classifier.score(X_train, y_train)\n",
        "soft_test_accuracy = soft_voting_classifier.score(X_test, y_test)\n",
        "\n",
        "print(f\"Soft Voting - Train Accuracy: {soft_train_accuracy:.4f}\")\n",
        "print(f\"Soft Voting - Test Accuracy: {soft_test_accuracy:.4f}\")"
      ]
    },
    {
      "cell_type": "code",
      "execution_count": null,
      "metadata": {
        "id": "fEUzi4g71_Rn",
        "outputId": "dcd4c383-4597-4d03-83e7-21e9043a6db0"
      },
      "outputs": [
        {
          "name": "stdout",
          "output_type": "stream",
          "text": [
            "              precision    recall  f1-score   support\n",
            "\n",
            "      Benign       0.98      0.97      0.97        91\n",
            "   Malignant       0.94      0.96      0.95        49\n",
            "\n",
            "    accuracy                           0.96       140\n",
            "   macro avg       0.96      0.96      0.96       140\n",
            "weighted avg       0.96      0.96      0.96       140\n",
            "\n"
          ]
        }
      ],
      "source": [
        "print(classification_report(y_test,y_pred_soft, target_names=['Benign','Malignant']))"
      ]
    },
    {
      "cell_type": "code",
      "execution_count": null,
      "metadata": {
        "id": "mIeWPm111_Rn",
        "outputId": "b40f2e25-acbc-42ed-fa90-f09b9e976e96"
      },
      "outputs": [
        {
          "data": {
            "image/png": "[encoded data removed]",
            "text/plain": [
              "<Figure size 640x480 with 2 Axes>"
            ]
          },
          "metadata": {},
          "output_type": "display_data"
        }
      ],
      "source": [
        "cm_ensemble_soft = confusion_matrix(y_test, y_pred_soft)\n",
        "\n",
        "disp = ConfusionMatrixDisplay(confusion_matrix=cm_ensemble_soft, display_labels=['Benign','Malignant'])\n",
        "disp.plot(cmap=\"summer\")\n",
        "plt.show()"
      ]
    },
    {
      "cell_type": "markdown",
      "metadata": {
        "id": "Ry9Ok-iT1_Rn"
      },
      "source": [
        "### __Implementation of Averaging technique (using individual techniques)__"
      ]
    },
    {
      "cell_type": "code",
      "execution_count": null,
      "metadata": {
        "id": "RtUQeQFCFc3z"
      },
      "outputs": [],
      "source": [
        "# Initialize classifiers\n",
        "LogReg_clf = LogisticRegression()\n",
        "Dtree_clf = DecisionTreeClassifier()\n",
        "svc_clf = SVC(probability=True)  # Enable probability for SVC\n",
        "\n",
        "# Train classifiers on the training dataset\n",
        "LogReg_clf.fit(X_train_scaled, y_train)\n",
        "Dtree_clf.fit(X_train_scaled, y_train)\n",
        "svc_clf.fit(X_train_scaled, y_train)\n",
        "\n",
        "# Generate probability predictions for the positive class from each classifier on the test set\n",
        "LogReg_prob = LogReg_clf.predict_proba(X_test_scaled)[:, 1]\n",
        "Dtree_prob = Dtree_clf.predict_proba(X_test_scaled)[:, 1]\n",
        "svc_prob = svc_clf.predict_proba(X_test_scaled)[:, 1]"
      ]
    },
    {
      "cell_type": "markdown",
      "metadata": {
        "id": "Jav7CkHY1_Rn"
      },
      "source": [
        "#### __Evaluation of train and test accuracies when individual classfiers are used__"
      ]
    },
    {
      "cell_type": "code",
      "execution_count": null,
      "metadata": {
        "id": "QWTabyaK1_Ro",
        "outputId": "009f39a7-333d-4af6-a86c-b3c47cf0a8c9"
      },
      "outputs": [
        {
          "name": "stdout",
          "output_type": "stream",
          "text": [
            "Train accuracy of the LR model: 0.97\n",
            "Test accuracy of the LR model: 0.96\n",
            "Train accuracy of the DT model: 1.00\n",
            "Test accuracy of the DT model: 0.95\n",
            "Train accuracy of the SVC model: 0.97\n",
            "Test accuracy of the SVC model: 0.96\n"
          ]
        }
      ],
      "source": [
        "# Evaluate the model's performance on the train and test set for LR, DT and SVM\n",
        "print(f\"Train accuracy of the LR model: {LogReg_clf.score(X_train_scaled, y_train):.2f}\")\n",
        "print(f\"Test accuracy of the LR model: {LogReg_clf.score(X_test_scaled, y_test):.2f}\")\n",
        "print(f\"Train accuracy of the DT model: {Dtree_clf.score(X_train_scaled, y_train):.2f}\")\n",
        "print(f\"Test accuracy of the DT model: {Dtree_clf.score(X_test_scaled, y_test):.2f}\")\n",
        "print(f\"Train accuracy of the SVC model: {svc_clf.score(X_train_scaled, y_train):.2f}\")\n",
        "print(f\"Test accuracy of the SVC model: {svc_clf.score(X_test_scaled, y_test):.2f}\")"
      ]
    },
    {
      "cell_type": "code",
      "execution_count": null,
      "metadata": {
        "id": "560sVDcrFhTd",
        "outputId": "960435b8-d2f5-44da-f987-de12e6c94e32"
      },
      "outputs": [
        {
          "name": "stdout",
          "output_type": "stream",
          "text": [
            "Average probabilities for Logistic, Decision tree and SVM: [0.9842228  0.0074006  0.00716872 0.00565426 0.98431909]\n"
          ]
        }
      ],
      "source": [
        "# Average the probability predictions\n",
        "avg_probs = np.mean([LogReg_prob, Dtree_prob, svc_prob], axis=0)\n",
        "print(\"Average probabilities for Logistic, Decision tree and SVM:\", avg_probs[:5])"
      ]
    },
    {
      "cell_type": "code",
      "execution_count": null,
      "metadata": {
        "id": "ySU0tS0r1_Ro",
        "outputId": "68a6fa39-2142-45c6-a5be-bc9d7c68ded3"
      },
      "outputs": [
        {
          "name": "stdout",
          "output_type": "stream",
          "text": [
            "Average probabilities for Logistic, Decision tree and SVM (after threshold): [1 0 0 0 1]\n"
          ]
        }
      ],
      "source": [
        "# Convert averaged probabilities to class predictions based on a threshold\n",
        "avg_preds = (avg_probs > 0.5).astype(int)\n",
        "print(\"Average probabilities for Logistic, Decision tree and SVM (after threshold):\", avg_preds[:5])"
      ]
    },
    {
      "cell_type": "code",
      "execution_count": null,
      "metadata": {
        "colab": {
          "base_uri": "https://localhost:8080/"
        },
        "id": "RAvpwd1YF1Td",
        "outputId": "2fa3edeb-241d-46d4-8553-b0da50ff3e0f"
      },
      "outputs": [
        {
          "name": "stdout",
          "output_type": "stream",
          "text": [
            "Accuracy of averaged model predictions on test data: 0.9642857142857143\n"
          ]
        }
      ],
      "source": [
        "# Evaluate the accuracy of the averaged predictions on the test set\n",
        "test_accuracy = accuracy_score(y_test, avg_preds)\n",
        "print(\"Accuracy of averaged model predictions on test data:\", test_accuracy)"
      ]
    },
    {
      "cell_type": "markdown",
      "metadata": {
        "id": "51-rIxwPl346"
      },
      "source": [
        "##### __Observation:__\n",
        "\n",
        "The averaging ensemble achieves an accuracy of 95%, slightly lower than the max voting ensemble. However, this accuracy rate still underscores the effectiveness of the averaging ensemble in breast cancer classification."
      ]
    },
    {
      "cell_type": "markdown",
      "metadata": {
        "id": "gxrLwlAGl35B"
      },
      "source": [
        "## __4. Advanced Techniques for Ensemble Learning (Bagging)__"
      ]
    },
    {
      "cell_type": "markdown",
      "metadata": {
        "id": "9_ckakMIl35B"
      },
      "source": [
        "These techniques use complex methods to merge predictions from many individual models. It aims for better predictive accuracy. They are employed for complex problems where high predictive accuracy is crucial, such as in financial forecasting, medical diagnosis, and natural language processing applications."
      ]
    },
    {
      "cell_type": "markdown",
      "metadata": {
        "id": "JBvNkoeOl35B"
      },
      "source": [
        "### __4.1 Bagging__"
      ]
    },
    {
      "cell_type": "markdown",
      "metadata": {
        "id": "1r3X3meZl35B"
      },
      "source": [
        "Bagging or Bootstrap Aggregating is a __parallel ensemble technique__ that enhances the stability and accuracy of machine learning algorithms. This method creates multiple subsets from the original dataset, known as bootstrap samples, by selecting data points with replacement. Each subset trains a separate model.\n",
        "\n",
        "For final predictions, Bagging combines the individual models' outputs by using voting (for classification tasks) or averaging (for regression tasks). This approach effectively reduces variance and helps prevent overfitting. In bagging, a random sample of data in a training set is selected with replacement—meaning that the individual data points can be chosen more than once.\n",
        "\n",
        "__Note:__ Random Forest is a popular algorithm that utilizes bagging by training multiple decision trees on different bootstrap samples and combining their predictions.\n",
        "\n",
        "<img src=\"https://labcontent.simplicdn.net/data-content/content-assets/Data_and_AI/ML/updated/Lesson_05/Ensembled_Learning_Bagging.png\" width=700 height=700 />\n",
        "\n",
        "__Note:__ The numbering shown in the above image outlines the specific workflow for bagging.\n",
        "\n",
        "##### __Where bagging fails:__\n",
        "\n",
        "- Bagging, by its nature, creates multiple subsets of the training data and trains a model (like a decision tree) on each subset. If some features are very strong predictors, many of the bagged trees will likely rely on those same features for making predictions. This leads to high correlation between the trees.\n",
        "- Regardless of the bootstrapping step, most trees will choose the same initial splits, which will make many trees that are quite similar. We can de-correlate the trees somewhat by restricting which variables/features each model is allowed to fit on. This can be done using a RF which chooses only a subset of features."
      ]
    },
    {
      "cell_type": "markdown",
      "metadata": {
        "id": "K82BPaTd1_Ro"
      },
      "source": [
        "### __Advantages of Bagging__"
      ]
    },
    {
      "cell_type": "markdown",
      "metadata": {
        "id": "ex5DqCXcl35E"
      },
      "source": [
        "- It reduces the risk of overfitting by training on various subsets of the data.\n",
        "- It improves the model's accuracy and stability.\n",
        "- It works well with complex models that tend to overfit."
      ]
    },
    {
      "cell_type": "markdown",
      "metadata": {
        "id": "-hiPMlsn1_Ro"
      },
      "source": [
        "### __Disadvantages of Bagging__"
      ]
    },
    {
      "cell_type": "markdown",
      "metadata": {
        "id": "0hirnSNpl35E"
      },
      "source": [
        "- It increases computational complexity because it requires training multiple models.\n",
        "- It may not significantly improve performance if the base models are already biased."
      ]
    },
    {
      "cell_type": "markdown",
      "metadata": {
        "id": "C_l5mYhZ1_Ro"
      },
      "source": [
        "#### __Difference between Bagging classifier and Random Forest__"
      ]
    },
    {
      "cell_type": "markdown",
      "metadata": {
        "id": "5I5gibKp1_Ro"
      },
      "source": [
        "- Bagging classifier takes a subset of data but considers all the features, where as RF uses a subset of features, so randomness is more visible in RF.\n",
        "- Bagging classifier can take any model as the base estimator like svm, logistic regression, etc, where as RF can take only decision trees."
      ]
    },
    {
      "cell_type": "markdown",
      "metadata": {
        "id": "krGmB1u6l35E"
      },
      "source": [
        "#### __Out-Of-Bag (OOB) Concept__"
      ]
    },
    {
      "cell_type": "markdown",
      "metadata": {
        "id": "GgcmjoxDl35E"
      },
      "source": [
        "In bagging, __out-of-bag (OOB)__ data refers to instances not included in the bootstrap sample for training a specific base model. Since the process trains each model on a random subset of the original data, it naturally leaves out some instances.\n",
        "\n",
        "These OOB instances serve as a built-in validation set for each model, allowing for an assessment of the model's performance on unseen data points. You can compute the OOB error, which offers an efficient way to evaluate the model's generalization ability.\n",
        "\n",
        "This method eliminates the need for additional validation data or cross-validation procedures.\n",
        "\n",
        "- The `OOB score` is an estimate of performance that mimics cross-validation. It uses out-of-bag samples to estimate the model's accuracy.\n",
        "- This means that for each tree in a bagging ensemble, only the data not seen by the tree (out-of-bag data) are used to assess that tree’s performance."
      ]
    },
    {
      "cell_type": "markdown",
      "metadata": {
        "id": "JpZKvyJq1_Ro"
      },
      "source": [
        "## __Pima Indians Diabetes Dataset (Classification)__"
      ]
    },
    {
      "cell_type": "markdown",
      "metadata": {
        "id": "xxir7bJO1_Ro"
      },
      "source": [
        "### __Dataset Description__"
      ]
    },
    {
      "cell_type": "markdown",
      "metadata": {
        "id": "vXcV9DB71_Ro"
      },
      "source": [
        "This dataset is originally from the National Institute of Diabetes and Digestive and Kidney Diseases. The objective of the dataset is to diagnostically predict whether or not a patient has diabetes, based on certain diagnostic measurements included in the dataset. Several constraints were placed on the selection of these instances from a larger database. In particular, all patients here are females at least 21 years old of Pima Indian heritage.\n",
        "\n",
        "The datasets consists of several medical predictor variables and one target variable, `Outcome`. Predictor variables includes the number of pregnancies the patient has had, their BMI, insulin level, age, and so on."
      ]
    },
    {
      "cell_type": "markdown",
      "metadata": {
        "id": "e3mO4kYC1_Rp"
      },
      "source": [
        "#### __Import the necessary libraries__"
      ]
    },
    {
      "cell_type": "code",
      "execution_count": 4,
      "metadata": {
        "id": "5V1ZRLyil35C"
      },
      "outputs": [],
      "source": [
        "import pandas as pd\n",
        "import numpy as np\n",
        "import seaborn as sns\n",
        "import matplotlib.pyplot as plt\n",
        "from sklearn.model_selection import KFold\n",
        "from sklearn.ensemble import BaggingClassifier\n",
        "from sklearn.tree import DecisionTreeClassifier\n",
        "from sklearn.impute import SimpleImputer\n",
        "from sklearn.preprocessing import MinMaxScaler, StandardScaler\n",
        "from sklearn.model_selection import train_test_split, cross_val_score\n",
        "from sklearn.pipeline import Pipeline, make_pipeline\n",
        "from sklearn.metrics import classification_report, confusion_matrix, ConfusionMatrixDisplay, accuracy_score, r2_score"
      ]
    },
    {
      "cell_type": "markdown",
      "metadata": {
        "id": "ML2wBOjB1_Rp"
      },
      "source": [
        "#### __Pre-processing the dataset__"
      ]
    },
    {
      "cell_type": "code",
      "execution_count": 5,
      "metadata": {
        "colab": {
          "base_uri": "https://localhost:8080/",
          "height": 206
        },
        "id": "KJZNHKUJ5Dfz",
        "outputId": "09c9560c-177f-4c2f-d650-ec0228744106"
      },
      "outputs": [
        {
          "output_type": "execute_result",
          "data": {
            "text/plain": [
              "   Pregnancies  Glucose  BloodPressure  SkinThickness  Insulin   BMI  \\\n",
              "0            6      148             72             35        0  33.6   \n",
              "1            1       85             66             29        0  26.6   \n",
              "2            8      183             64              0        0  23.3   \n",
              "3            1       89             66             23       94  28.1   \n",
              "4            0      137             40             35      168  43.1   \n",
              "\n",
              "   DiabetesPedigreeFunction  Age  Outcome  \n",
              "0                     0.627   50        1  \n",
              "1                     0.351   31        0  \n",
              "2                     0.672   32        1  \n",
              "3                     0.167   21        0  \n",
              "4                     2.288   33        1  "
            ],
            "text/html": [
              "\n",
              "  <div id=\"df-a10d995a-7036-46ea-b8b2-0fc525a69003\" class=\"colab-df-container\">\n",
              "    <div>\n",
              "<style scoped>\n",
              "    .dataframe tbody tr th:only-of-type {\n",
              "        vertical-align: middle;\n",
              "    }\n",
              "\n",
              "    .dataframe tbody tr th {\n",
              "        vertical-align: top;\n",
              "    }\n",
              "\n",
              "    .dataframe thead th {\n",
              "        text-align: right;\n",
              "    }\n",
              "</style>\n",
              "<table border=\"1\" class=\"dataframe\">\n",
              "  <thead>\n",
              "    <tr style=\"text-align: right;\">\n",
              "      <th></th>\n",
              "      <th>Pregnancies</th>\n",
              "      <th>Glucose</th>\n",
              "      <th>BloodPressure</th>\n",
              "      <th>SkinThickness</th>\n",
              "      <th>Insulin</th>\n",
              "      <th>BMI</th>\n",
              "      <th>DiabetesPedigreeFunction</th>\n",
              "      <th>Age</th>\n",
              "      <th>Outcome</th>\n",
              "    </tr>\n",
              "  </thead>\n",
              "  <tbody>\n",
              "    <tr>\n",
              "      <th>0</th>\n",
              "      <td>6</td>\n",
              "      <td>148</td>\n",
              "      <td>72</td>\n",
              "      <td>35</td>\n",
              "      <td>0</td>\n",
              "      <td>33.6</td>\n",
              "      <td>0.627</td>\n",
              "      <td>50</td>\n",
              "      <td>1</td>\n",
              "    </tr>\n",
              "    <tr>\n",
              "      <th>1</th>\n",
              "      <td>1</td>\n",
              "      <td>85</td>\n",
              "      <td>66</td>\n",
              "      <td>29</td>\n",
              "      <td>0</td>\n",
              "      <td>26.6</td>\n",
              "      <td>0.351</td>\n",
              "      <td>31</td>\n",
              "      <td>0</td>\n",
              "    </tr>\n",
              "    <tr>\n",
              "      <th>2</th>\n",
              "      <td>8</td>\n",
              "      <td>183</td>\n",
              "      <td>64</td>\n",
              "      <td>0</td>\n",
              "      <td>0</td>\n",
              "      <td>23.3</td>\n",
              "      <td>0.672</td>\n",
              "      <td>32</td>\n",
              "      <td>1</td>\n",
              "    </tr>\n",
              "    <tr>\n",
              "      <th>3</th>\n",
              "      <td>1</td>\n",
              "      <td>89</td>\n",
              "      <td>66</td>\n",
              "      <td>23</td>\n",
              "      <td>94</td>\n",
              "      <td>28.1</td>\n",
              "      <td>0.167</td>\n",
              "      <td>21</td>\n",
              "      <td>0</td>\n",
              "    </tr>\n",
              "    <tr>\n",
              "      <th>4</th>\n",
              "      <td>0</td>\n",
              "      <td>137</td>\n",
              "      <td>40</td>\n",
              "      <td>35</td>\n",
              "      <td>168</td>\n",
              "      <td>43.1</td>\n",
              "      <td>2.288</td>\n",
              "      <td>33</td>\n",
              "      <td>1</td>\n",
              "    </tr>\n",
              "  </tbody>\n",
              "</table>\n",
              "</div>\n",
              "    <div class=\"colab-df-buttons\">\n",
              "\n",
              "  <div class=\"colab-df-container\">\n",
              "    <button class=\"colab-df-convert\" onclick=\"convertToInteractive('df-a10d995a-7036-46ea-b8b2-0fc525a69003')\"\n",
              "            title=\"Convert this dataframe to an interactive table.\"\n",
              "            style=\"display:none;\">\n",
              "\n",
              "  <svg xmlns=\"http://www.w3.org/2000/svg\" height=\"24px\" viewBox=\"0 -960 960 960\">\n",
              "    <path d=\"M120-120v-720h720v720H120Zm60-500h600v-160H180v160Zm220 220h160v-160H400v160Zm0 220h160v-160H400v160ZM180-400h160v-160H180v160Zm440 0h160v-160H620v160ZM180-180h160v-160H180v160Zm440 0h160v-160H620v160Z\"/>\n",
              "  </svg>\n",
              "    </button>\n",
              "\n",
              "  <style>\n",
              "    .colab-df-container {\n",
              "      display:flex;\n",
              "      gap: 12px;\n",
              "    }\n",
              "\n",
              "    .colab-df-convert {\n",
              "      background-color: #E8F0FE;\n",
              "      border: none;\n",
              "      border-radius: 50%;\n",
              "      cursor: pointer;\n",
              "      display: none;\n",
              "      fill: #1967D2;\n",
              "      height: 32px;\n",
              "      padding: 0 0 0 0;\n",
              "      width: 32px;\n",
              "    }\n",
              "\n",
              "    .colab-df-convert:hover {\n",
              "      background-color: #E2EBFA;\n",
              "      box-shadow: 0px 1px 2px rgba(60, 64, 67, 0.3), 0px 1px 3px 1px rgba(60, 64, 67, 0.15);\n",
              "      fill: #174EA6;\n",
              "    }\n",
              "\n",
              "    .colab-df-buttons div {\n",
              "      margin-bottom: 4px;\n",
              "    }\n",
              "\n",
              "    [theme=dark] .colab-df-convert {\n",
              "      background-color: #3B4455;\n",
              "      fill: #D2E3FC;\n",
              "    }\n",
              "\n",
              "    [theme=dark] .colab-df-convert:hover {\n",
              "      background-color: #434B5C;\n",
              "      box-shadow: 0px 1px 3px 1px rgba(0, 0, 0, 0.15);\n",
              "      filter: drop-shadow(0px 1px 2px rgba(0, 0, 0, 0.3));\n",
              "      fill: #FFFFFF;\n",
              "    }\n",
              "  </style>\n",
              "\n",
              "    <script>\n",
              "      const buttonEl =\n",
              "        document.querySelector('#df-a10d995a-7036-46ea-b8b2-0fc525a69003 button.colab-df-convert');\n",
              "      buttonEl.style.display =\n",
              "        google.colab.kernel.accessAllowed ? 'block' : 'none';\n",
              "\n",
              "      async function convertToInteractive(key) {\n",
              "        const element = document.querySelector('#df-a10d995a-7036-46ea-b8b2-0fc525a69003');\n",
              "        const dataTable =\n",
              "          await google.colab.kernel.invokeFunction('convertToInteractive',\n",
              "                                                    [key], {});\n",
              "        if (!dataTable) return;\n",
              "\n",
              "        const docLinkHtml = 'Like what you see? Visit the ' +\n",
              "          '<a target=\"_blank\" href=https://colab.research.google.com/notebooks/data_table.ipynb>data table notebook</a>'\n",
              "          + ' to learn more about interactive tables.';\n",
              "        element.innerHTML = '';\n",
              "        dataTable['output_type'] = 'display_data';\n",
              "        await google.colab.output.renderOutput(dataTable, element);\n",
              "        const docLink = document.createElement('div');\n",
              "        docLink.innerHTML = docLinkHtml;\n",
              "        element.appendChild(docLink);\n",
              "      }\n",
              "    </script>\n",
              "  </div>\n",
              "\n",
              "\n",
              "    <div id=\"df-87156a34-292a-4f44-ae79-dc9a819fa169\">\n",
              "      <button class=\"colab-df-quickchart\" onclick=\"quickchart('df-87156a34-292a-4f44-ae79-dc9a819fa169')\"\n",
              "                title=\"Suggest charts\"\n",
              "                style=\"display:none;\">\n",
              "\n",
              "<svg xmlns=\"http://www.w3.org/2000/svg\" height=\"24px\"viewBox=\"0 0 24 24\"\n",
              "     width=\"24px\">\n",
              "    <g>\n",
              "        <path d=\"M19 3H5c-1.1 0-2 .9-2 2v14c0 1.1.9 2 2 2h14c1.1 0 2-.9 2-2V5c0-1.1-.9-2-2-2zM9 17H7v-7h2v7zm4 0h-2V7h2v10zm4 0h-2v-4h2v4z\"/>\n",
              "    </g>\n",
              "</svg>\n",
              "      </button>\n",
              "\n",
              "<style>\n",
              "  .colab-df-quickchart {\n",
              "      --bg-color: #E8F0FE;\n",
              "      --fill-color: #1967D2;\n",
              "      --hover-bg-color: #E2EBFA;\n",
              "      --hover-fill-color: #174EA6;\n",
              "      --disabled-fill-color: #AAA;\n",
              "      --disabled-bg-color: #DDD;\n",
              "  }\n",
              "\n",
              "  [theme=dark] .colab-df-quickchart {\n",
              "      --bg-color: #3B4455;\n",
              "      --fill-color: #D2E3FC;\n",
              "      --hover-bg-color: #434B5C;\n",
              "      --hover-fill-color: #FFFFFF;\n",
              "      --disabled-bg-color: #3B4455;\n",
              "      --disabled-fill-color: #666;\n",
              "  }\n",
              "\n",
              "  .colab-df-quickchart {\n",
              "    background-color: var(--bg-color);\n",
              "    border: none;\n",
              "    border-radius: 50%;\n",
              "    cursor: pointer;\n",
              "    display: none;\n",
              "    fill: var(--fill-color);\n",
              "    height: 32px;\n",
              "    padding: 0;\n",
              "    width: 32px;\n",
              "  }\n",
              "\n",
              "  .colab-df-quickchart:hover {\n",
              "    background-color: var(--hover-bg-color);\n",
              "    box-shadow: 0 1px 2px rgba(60, 64, 67, 0.3), 0 1px 3px 1px rgba(60, 64, 67, 0.15);\n",
              "    fill: var(--button-hover-fill-color);\n",
              "  }\n",
              "\n",
              "  .colab-df-quickchart-complete:disabled,\n",
              "  .colab-df-quickchart-complete:disabled:hover {\n",
              "    background-color: var(--disabled-bg-color);\n",
              "    fill: var(--disabled-fill-color);\n",
              "    box-shadow: none;\n",
              "  }\n",
              "\n",
              "  .colab-df-spinner {\n",
              "    border: 2px solid var(--fill-color);\n",
              "    border-color: transparent;\n",
              "    border-bottom-color: var(--fill-color);\n",
              "    animation:\n",
              "      spin 1s steps(1) infinite;\n",
              "  }\n",
              "\n",
              "  @keyframes spin {\n",
              "    0% {\n",
              "      border-color: transparent;\n",
              "      border-bottom-color: var(--fill-color);\n",
              "      border-left-color: var(--fill-color);\n",
              "    }\n",
              "    20% {\n",
              "      border-color: transparent;\n",
              "      border-left-color: var(--fill-color);\n",
              "      border-top-color: var(--fill-color);\n",
              "    }\n",
              "    30% {\n",
              "      border-color: transparent;\n",
              "      border-left-color: var(--fill-color);\n",
              "      border-top-color: var(--fill-color);\n",
              "      border-right-color: var(--fill-color);\n",
              "    }\n",
              "    40% {\n",
              "      border-color: transparent;\n",
              "      border-right-color: var(--fill-color);\n",
              "      border-top-color: var(--fill-color);\n",
              "    }\n",
              "    60% {\n",
              "      border-color: transparent;\n",
              "      border-right-color: var(--fill-color);\n",
              "    }\n",
              "    80% {\n",
              "      border-color: transparent;\n",
              "      border-right-color: var(--fill-color);\n",
              "      border-bottom-color: var(--fill-color);\n",
              "    }\n",
              "    90% {\n",
              "      border-color: transparent;\n",
              "      border-bottom-color: var(--fill-color);\n",
              "    }\n",
              "  }\n",
              "</style>\n",
              "\n",
              "      <script>\n",
              "        async function quickchart(key) {\n",
              "          const quickchartButtonEl =\n",
              "            document.querySelector('#' + key + ' button');\n",
              "          quickchartButtonEl.disabled = true;  // To prevent multiple clicks.\n",
              "          quickchartButtonEl.classList.add('colab-df-spinner');\n",
              "          try {\n",
              "            const charts = await google.colab.kernel.invokeFunction(\n",
              "                'suggestCharts', [key], {});\n",
              "          } catch (error) {\n",
              "            console.error('Error during call to suggestCharts:', error);\n",
              "          }\n",
              "          quickchartButtonEl.classList.remove('colab-df-spinner');\n",
              "          quickchartButtonEl.classList.add('colab-df-quickchart-complete');\n",
              "        }\n",
              "        (() => {\n",
              "          let quickchartButtonEl =\n",
              "            document.querySelector('#df-87156a34-292a-4f44-ae79-dc9a819fa169 button');\n",
              "          quickchartButtonEl.style.display =\n",
              "            google.colab.kernel.accessAllowed ? 'block' : 'none';\n",
              "        })();\n",
              "      </script>\n",
              "    </div>\n",
              "\n",
              "    </div>\n",
              "  </div>\n"
            ],
            "application/vnd.google.colaboratory.intrinsic+json": {
              "type": "dataframe",
              "variable_name": "data",
              "summary": "{\n  \"name\": \"data\",\n  \"rows\": 768,\n  \"fields\": [\n    {\n      \"column\": \"Pregnancies\",\n      \"properties\": {\n        \"dtype\": \"number\",\n        \"std\": 3,\n        \"min\": 0,\n        \"max\": 17,\n        \"num_unique_values\": 17,\n        \"samples\": [\n          6,\n          1,\n          3\n        ],\n        \"semantic_type\": \"\",\n        \"description\": \"\"\n      }\n    },\n    {\n      \"column\": \"Glucose\",\n      \"properties\": {\n        \"dtype\": \"number\",\n        \"std\": 31,\n        \"min\": 0,\n        \"max\": 199,\n        \"num_unique_values\": 136,\n        \"samples\": [\n          151,\n          101,\n          112\n        ],\n        \"semantic_type\": \"\",\n        \"description\": \"\"\n      }\n    },\n    {\n      \"column\": \"BloodPressure\",\n      \"properties\": {\n        \"dtype\": \"number\",\n        \"std\": 19,\n        \"min\": 0,\n        \"max\": 122,\n        \"num_unique_values\": 47,\n        \"samples\": [\n          86,\n          46,\n          85\n        ],\n        \"semantic_type\": \"\",\n        \"description\": \"\"\n      }\n    },\n    {\n      \"column\": \"SkinThickness\",\n      \"properties\": {\n        \"dtype\": \"number\",\n        \"std\": 15,\n        \"min\": 0,\n        \"max\": 99,\n        \"num_unique_values\": 51,\n        \"samples\": [\n          7,\n          12,\n          48\n        ],\n        \"semantic_type\": \"\",\n        \"description\": \"\"\n      }\n    },\n    {\n      \"column\": \"Insulin\",\n      \"properties\": {\n        \"dtype\": \"number\",\n        \"std\": 115,\n        \"min\": 0,\n        \"max\": 846,\n        \"num_unique_values\": 186,\n        \"samples\": [\n          52,\n          41,\n          183\n        ],\n        \"semantic_type\": \"\",\n        \"description\": \"\"\n      }\n    },\n    {\n      \"column\": \"BMI\",\n      \"properties\": {\n        \"dtype\": \"number\",\n        \"std\": 7.8841603203754405,\n        \"min\": 0.0,\n        \"max\": 67.1,\n        \"num_unique_values\": 248,\n        \"samples\": [\n          19.9,\n          31.0,\n          38.1\n        ],\n        \"semantic_type\": \"\",\n        \"description\": \"\"\n      }\n    },\n    {\n      \"column\": \"DiabetesPedigreeFunction\",\n      \"properties\": {\n        \"dtype\": \"number\",\n        \"std\": 0.33132859501277484,\n        \"min\": 0.078,\n        \"max\": 2.42,\n        \"num_unique_values\": 517,\n        \"samples\": [\n          1.731,\n          0.426,\n          0.138\n        ],\n        \"semantic_type\": \"\",\n        \"description\": \"\"\n      }\n    },\n    {\n      \"column\": \"Age\",\n      \"properties\": {\n        \"dtype\": \"number\",\n        \"std\": 11,\n        \"min\": 21,\n        \"max\": 81,\n        \"num_unique_values\": 52,\n        \"samples\": [\n          60,\n          47,\n          72\n        ],\n        \"semantic_type\": \"\",\n        \"description\": \"\"\n      }\n    },\n    {\n      \"column\": \"Outcome\",\n      \"properties\": {\n        \"dtype\": \"number\",\n        \"std\": 0,\n        \"min\": 0,\n        \"max\": 1,\n        \"num_unique_values\": 2,\n        \"samples\": [\n          0,\n          1\n        ],\n        \"semantic_type\": \"\",\n        \"description\": \"\"\n      }\n    }\n  ]\n}"
            }
          },
          "metadata": {},
          "execution_count": 5
        }
      ],
      "source": [
        "data = pd.read_csv('Classification/datasets/diabetes.csv')\n",
        "data.head()"
      ]
    },
    {
      "cell_type": "code",
      "execution_count": 6,
      "metadata": {
        "id": "z4ynWR8C1_Rp",
        "outputId": "7458ec0b-2cee-4cc4-9ef6-351e9569e5ad",
        "colab": {
          "base_uri": "https://localhost:8080/"
        }
      },
      "outputs": [
        {
          "output_type": "stream",
          "name": "stdout",
          "text": [
            "<class 'pandas.core.frame.DataFrame'>\n",
            "RangeIndex: 768 entries, 0 to 767\n",
            "Data columns (total 9 columns):\n",
            " #   Column                    Non-Null Count  Dtype  \n",
            "---  ------                    --------------  -----  \n",
            " 0   Pregnancies               768 non-null    int64  \n",
            " 1   Glucose                   768 non-null    int64  \n",
            " 2   BloodPressure             768 non-null    int64  \n",
            " 3   SkinThickness             768 non-null    int64  \n",
            " 4   Insulin                   768 non-null    int64  \n",
            " 5   BMI                       768 non-null    float64\n",
            " 6   DiabetesPedigreeFunction  768 non-null    float64\n",
            " 7   Age                       768 non-null    int64  \n",
            " 8   Outcome                   768 non-null    int64  \n",
            "dtypes: float64(2), int64(7)\n",
            "memory usage: 54.1 KB\n"
          ]
        }
      ],
      "source": [
        "data.info()"
      ]
    },
    {
      "cell_type": "code",
      "execution_count": 7,
      "metadata": {
        "id": "pZZ1d_EY1_Rp",
        "outputId": "c2a30f1b-410c-46f1-e1ba-a5522d1f9d39",
        "colab": {
          "base_uri": "https://localhost:8080/",
          "height": 300
        }
      },
      "outputs": [
        {
          "output_type": "execute_result",
          "data": {
            "text/plain": [
              "       Pregnancies     Glucose  BloodPressure  SkinThickness     Insulin  \\\n",
              "count   768.000000  768.000000     768.000000     768.000000  768.000000   \n",
              "mean      3.845052  120.894531      69.105469      20.536458   79.799479   \n",
              "std       3.369578   31.972618      19.355807      15.952218  115.244002   \n",
              "min       0.000000    0.000000       0.000000       0.000000    0.000000   \n",
              "25%       1.000000   99.000000      62.000000       0.000000    0.000000   \n",
              "50%       3.000000  117.000000      72.000000      23.000000   30.500000   \n",
              "75%       6.000000  140.250000      80.000000      32.000000  127.250000   \n",
              "max      17.000000  199.000000     122.000000      99.000000  846.000000   \n",
              "\n",
              "              BMI  DiabetesPedigreeFunction         Age     Outcome  \n",
              "count  768.000000                768.000000  768.000000  768.000000  \n",
              "mean    31.992578                  0.471876   33.240885    0.348958  \n",
              "std      7.884160                  0.331329   11.760232    0.476951  \n",
              "min      0.000000                  0.078000   21.000000    0.000000  \n",
              "25%     27.300000                  0.243750   24.000000    0.000000  \n",
              "50%     32.000000                  0.372500   29.000000    0.000000  \n",
              "75%     36.600000                  0.626250   41.000000    1.000000  \n",
              "max     67.100000                  2.420000   81.000000    1.000000  "
            ],
            "text/html": [
              "\n",
              "  <div id=\"df-5f211534-724b-4239-8ff7-5c16aa708a71\" class=\"colab-df-container\">\n",
              "    <div>\n",
              "<style scoped>\n",
              "    .dataframe tbody tr th:only-of-type {\n",
              "        vertical-align: middle;\n",
              "    }\n",
              "\n",
              "    .dataframe tbody tr th {\n",
              "        vertical-align: top;\n",
              "    }\n",
              "\n",
              "    .dataframe thead th {\n",
              "        text-align: right;\n",
              "    }\n",
              "</style>\n",
              "<table border=\"1\" class=\"dataframe\">\n",
              "  <thead>\n",
              "    <tr style=\"text-align: right;\">\n",
              "      <th></th>\n",
              "      <th>Pregnancies</th>\n",
              "      <th>Glucose</th>\n",
              "      <th>BloodPressure</th>\n",
              "      <th>SkinThickness</th>\n",
              "      <th>Insulin</th>\n",
              "      <th>BMI</th>\n",
              "      <th>DiabetesPedigreeFunction</th>\n",
              "      <th>Age</th>\n",
              "      <th>Outcome</th>\n",
              "    </tr>\n",
              "  </thead>\n",
              "  <tbody>\n",
              "    <tr>\n",
              "      <th>count</th>\n",
              "      <td>768.000000</td>\n",
              "      <td>768.000000</td>\n",
              "      <td>768.000000</td>\n",
              "      <td>768.000000</td>\n",
              "      <td>768.000000</td>\n",
              "      <td>768.000000</td>\n",
              "      <td>768.000000</td>\n",
              "      <td>768.000000</td>\n",
              "      <td>768.000000</td>\n",
              "    </tr>\n",
              "    <tr>\n",
              "      <th>mean</th>\n",
              "      <td>3.845052</td>\n",
              "      <td>120.894531</td>\n",
              "      <td>69.105469</td>\n",
              "      <td>20.536458</td>\n",
              "      <td>79.799479</td>\n",
              "      <td>31.992578</td>\n",
              "      <td>0.471876</td>\n",
              "      <td>33.240885</td>\n",
              "      <td>0.348958</td>\n",
              "    </tr>\n",
              "    <tr>\n",
              "      <th>std</th>\n",
              "      <td>3.369578</td>\n",
              "      <td>31.972618</td>\n",
              "      <td>19.355807</td>\n",
              "      <td>15.952218</td>\n",
              "      <td>115.244002</td>\n",
              "      <td>7.884160</td>\n",
              "      <td>0.331329</td>\n",
              "      <td>11.760232</td>\n",
              "      <td>0.476951</td>\n",
              "    </tr>\n",
              "    <tr>\n",
              "      <th>min</th>\n",
              "      <td>0.000000</td>\n",
              "      <td>0.000000</td>\n",
              "      <td>0.000000</td>\n",
              "      <td>0.000000</td>\n",
              "      <td>0.000000</td>\n",
              "      <td>0.000000</td>\n",
              "      <td>0.078000</td>\n",
              "      <td>21.000000</td>\n",
              "      <td>0.000000</td>\n",
              "    </tr>\n",
              "    <tr>\n",
              "      <th>25%</th>\n",
              "      <td>1.000000</td>\n",
              "      <td>99.000000</td>\n",
              "      <td>62.000000</td>\n",
              "      <td>0.000000</td>\n",
              "      <td>0.000000</td>\n",
              "      <td>27.300000</td>\n",
              "      <td>0.243750</td>\n",
              "      <td>24.000000</td>\n",
              "      <td>0.000000</td>\n",
              "    </tr>\n",
              "    <tr>\n",
              "      <th>50%</th>\n",
              "      <td>3.000000</td>\n",
              "      <td>117.000000</td>\n",
              "      <td>72.000000</td>\n",
              "      <td>23.000000</td>\n",
              "      <td>30.500000</td>\n",
              "      <td>32.000000</td>\n",
              "      <td>0.372500</td>\n",
              "      <td>29.000000</td>\n",
              "      <td>0.000000</td>\n",
              "    </tr>\n",
              "    <tr>\n",
              "      <th>75%</th>\n",
              "      <td>6.000000</td>\n",
              "      <td>140.250000</td>\n",
              "      <td>80.000000</td>\n",
              "      <td>32.000000</td>\n",
              "      <td>127.250000</td>\n",
              "      <td>36.600000</td>\n",
              "      <td>0.626250</td>\n",
              "      <td>41.000000</td>\n",
              "      <td>1.000000</td>\n",
              "    </tr>\n",
              "    <tr>\n",
              "      <th>max</th>\n",
              "      <td>17.000000</td>\n",
              "      <td>199.000000</td>\n",
              "      <td>122.000000</td>\n",
              "      <td>99.000000</td>\n",
              "      <td>846.000000</td>\n",
              "      <td>67.100000</td>\n",
              "      <td>2.420000</td>\n",
              "      <td>81.000000</td>\n",
              "      <td>1.000000</td>\n",
              "    </tr>\n",
              "  </tbody>\n",
              "</table>\n",
              "</div>\n",
              "    <div class=\"colab-df-buttons\">\n",
              "\n",
              "  <div class=\"colab-df-container\">\n",
              "    <button class=\"colab-df-convert\" onclick=\"convertToInteractive('df-5f211534-724b-4239-8ff7-5c16aa708a71')\"\n",
              "            title=\"Convert this dataframe to an interactive table.\"\n",
              "            style=\"display:none;\">\n",
              "\n",
              "  <svg xmlns=\"http://www.w3.org/2000/svg\" height=\"24px\" viewBox=\"0 -960 960 960\">\n",
              "    <path d=\"M120-120v-720h720v720H120Zm60-500h600v-160H180v160Zm220 220h160v-160H400v160Zm0 220h160v-160H400v160ZM180-400h160v-160H180v160Zm440 0h160v-160H620v160ZM180-180h160v-160H180v160Zm440 0h160v-160H620v160Z\"/>\n",
              "  </svg>\n",
              "    </button>\n",
              "\n",
              "  <style>\n",
              "    .colab-df-container {\n",
              "      display:flex;\n",
              "      gap: 12px;\n",
              "    }\n",
              "\n",
              "    .colab-df-convert {\n",
              "      background-color: #E8F0FE;\n",
              "      border: none;\n",
              "      border-radius: 50%;\n",
              "      cursor: pointer;\n",
              "      display: none;\n",
              "      fill: #1967D2;\n",
              "      height: 32px;\n",
              "      padding: 0 0 0 0;\n",
              "      width: 32px;\n",
              "    }\n",
              "\n",
              "    .colab-df-convert:hover {\n",
              "      background-color: #E2EBFA;\n",
              "      box-shadow: 0px 1px 2px rgba(60, 64, 67, 0.3), 0px 1px 3px 1px rgba(60, 64, 67, 0.15);\n",
              "      fill: #174EA6;\n",
              "    }\n",
              "\n",
              "    .colab-df-buttons div {\n",
              "      margin-bottom: 4px;\n",
              "    }\n",
              "\n",
              "    [theme=dark] .colab-df-convert {\n",
              "      background-color: #3B4455;\n",
              "      fill: #D2E3FC;\n",
              "    }\n",
              "\n",
              "    [theme=dark] .colab-df-convert:hover {\n",
              "      background-color: #434B5C;\n",
              "      box-shadow: 0px 1px 3px 1px rgba(0, 0, 0, 0.15);\n",
              "      filter: drop-shadow(0px 1px 2px rgba(0, 0, 0, 0.3));\n",
              "      fill: #FFFFFF;\n",
              "    }\n",
              "  </style>\n",
              "\n",
              "    <script>\n",
              "      const buttonEl =\n",
              "        document.querySelector('#df-5f211534-724b-4239-8ff7-5c16aa708a71 button.colab-df-convert');\n",
              "      buttonEl.style.display =\n",
              "        google.colab.kernel.accessAllowed ? 'block' : 'none';\n",
              "\n",
              "      async function convertToInteractive(key) {\n",
              "        const element = document.querySelector('#df-5f211534-724b-4239-8ff7-5c16aa708a71');\n",
              "        const dataTable =\n",
              "          await google.colab.kernel.invokeFunction('convertToInteractive',\n",
              "                                                    [key], {});\n",
              "        if (!dataTable) return;\n",
              "\n",
              "        const docLinkHtml = 'Like what you see? Visit the ' +\n",
              "          '<a target=\"_blank\" href=https://colab.research.google.com/notebooks/data_table.ipynb>data table notebook</a>'\n",
              "          + ' to learn more about interactive tables.';\n",
              "        element.innerHTML = '';\n",
              "        dataTable['output_type'] = 'display_data';\n",
              "        await google.colab.output.renderOutput(dataTable, element);\n",
              "        const docLink = document.createElement('div');\n",
              "        docLink.innerHTML = docLinkHtml;\n",
              "        element.appendChild(docLink);\n",
              "      }\n",
              "    </script>\n",
              "  </div>\n",
              "\n",
              "\n",
              "    <div id=\"df-cfb7ce06-e73f-48a3-91ab-de656adf895b\">\n",
              "      <button class=\"colab-df-quickchart\" onclick=\"quickchart('df-cfb7ce06-e73f-48a3-91ab-de656adf895b')\"\n",
              "                title=\"Suggest charts\"\n",
              "                style=\"display:none;\">\n",
              "\n",
              "<svg xmlns=\"http://www.w3.org/2000/svg\" height=\"24px\"viewBox=\"0 0 24 24\"\n",
              "     width=\"24px\">\n",
              "    <g>\n",
              "        <path d=\"M19 3H5c-1.1 0-2 .9-2 2v14c0 1.1.9 2 2 2h14c1.1 0 2-.9 2-2V5c0-1.1-.9-2-2-2zM9 17H7v-7h2v7zm4 0h-2V7h2v10zm4 0h-2v-4h2v4z\"/>\n",
              "    </g>\n",
              "</svg>\n",
              "      </button>\n",
              "\n",
              "<style>\n",
              "  .colab-df-quickchart {\n",
              "      --bg-color: #E8F0FE;\n",
              "      --fill-color: #1967D2;\n",
              "      --hover-bg-color: #E2EBFA;\n",
              "      --hover-fill-color: #174EA6;\n",
              "      --disabled-fill-color: #AAA;\n",
              "      --disabled-bg-color: #DDD;\n",
              "  }\n",
              "\n",
              "  [theme=dark] .colab-df-quickchart {\n",
              "      --bg-color: #3B4455;\n",
              "      --fill-color: #D2E3FC;\n",
              "      --hover-bg-color: #434B5C;\n",
              "      --hover-fill-color: #FFFFFF;\n",
              "      --disabled-bg-color: #3B4455;\n",
              "      --disabled-fill-color: #666;\n",
              "  }\n",
              "\n",
              "  .colab-df-quickchart {\n",
              "    background-color: var(--bg-color);\n",
              "    border: none;\n",
              "    border-radius: 50%;\n",
              "    cursor: pointer;\n",
              "    display: none;\n",
              "    fill: var(--fill-color);\n",
              "    height: 32px;\n",
              "    padding: 0;\n",
              "    width: 32px;\n",
              "  }\n",
              "\n",
              "  .colab-df-quickchart:hover {\n",
              "    background-color: var(--hover-bg-color);\n",
              "    box-shadow: 0 1px 2px rgba(60, 64, 67, 0.3), 0 1px 3px 1px rgba(60, 64, 67, 0.15);\n",
              "    fill: var(--button-hover-fill-color);\n",
              "  }\n",
              "\n",
              "  .colab-df-quickchart-complete:disabled,\n",
              "  .colab-df-quickchart-complete:disabled:hover {\n",
              "    background-color: var(--disabled-bg-color);\n",
              "    fill: var(--disabled-fill-color);\n",
              "    box-shadow: none;\n",
              "  }\n",
              "\n",
              "  .colab-df-spinner {\n",
              "    border: 2px solid var(--fill-color);\n",
              "    border-color: transparent;\n",
              "    border-bottom-color: var(--fill-color);\n",
              "    animation:\n",
              "      spin 1s steps(1) infinite;\n",
              "  }\n",
              "\n",
              "  @keyframes spin {\n",
              "    0% {\n",
              "      border-color: transparent;\n",
              "      border-bottom-color: var(--fill-color);\n",
              "      border-left-color: var(--fill-color);\n",
              "    }\n",
              "    20% {\n",
              "      border-color: transparent;\n",
              "      border-left-color: var(--fill-color);\n",
              "      border-top-color: var(--fill-color);\n",
              "    }\n",
              "    30% {\n",
              "      border-color: transparent;\n",
              "      border-left-color: var(--fill-color);\n",
              "      border-top-color: var(--fill-color);\n",
              "      border-right-color: var(--fill-color);\n",
              "    }\n",
              "    40% {\n",
              "      border-color: transparent;\n",
              "      border-right-color: var(--fill-color);\n",
              "      border-top-color: var(--fill-color);\n",
              "    }\n",
              "    60% {\n",
              "      border-color: transparent;\n",
              "      border-right-color: var(--fill-color);\n",
              "    }\n",
              "    80% {\n",
              "      border-color: transparent;\n",
              "      border-right-color: var(--fill-color);\n",
              "      border-bottom-color: var(--fill-color);\n",
              "    }\n",
              "    90% {\n",
              "      border-color: transparent;\n",
              "      border-bottom-color: var(--fill-color);\n",
              "    }\n",
              "  }\n",
              "</style>\n",
              "\n",
              "      <script>\n",
              "        async function quickchart(key) {\n",
              "          const quickchartButtonEl =\n",
              "            document.querySelector('#' + key + ' button');\n",
              "          quickchartButtonEl.disabled = true;  // To prevent multiple clicks.\n",
              "          quickchartButtonEl.classList.add('colab-df-spinner');\n",
              "          try {\n",
              "            const charts = await google.colab.kernel.invokeFunction(\n",
              "                'suggestCharts', [key], {});\n",
              "          } catch (error) {\n",
              "            console.error('Error during call to suggestCharts:', error);\n",
              "          }\n",
              "          quickchartButtonEl.classList.remove('colab-df-spinner');\n",
              "          quickchartButtonEl.classList.add('colab-df-quickchart-complete');\n",
              "        }\n",
              "        (() => {\n",
              "          let quickchartButtonEl =\n",
              "            document.querySelector('#df-cfb7ce06-e73f-48a3-91ab-de656adf895b button');\n",
              "          quickchartButtonEl.style.display =\n",
              "            google.colab.kernel.accessAllowed ? 'block' : 'none';\n",
              "        })();\n",
              "      </script>\n",
              "    </div>\n",
              "\n",
              "    </div>\n",
              "  </div>\n"
            ],
            "application/vnd.google.colaboratory.intrinsic+json": {
              "type": "dataframe",
              "summary": "{\n  \"name\": \"data\",\n  \"rows\": 8,\n  \"fields\": [\n    {\n      \"column\": \"Pregnancies\",\n      \"properties\": {\n        \"dtype\": \"number\",\n        \"std\": 269.85223453356366,\n        \"min\": 0.0,\n        \"max\": 768.0,\n        \"num_unique_values\": 8,\n        \"samples\": [\n          3.8450520833333335,\n          3.0,\n          768.0\n        ],\n        \"semantic_type\": \"\",\n        \"description\": \"\"\n      }\n    },\n    {\n      \"column\": \"Glucose\",\n      \"properties\": {\n        \"dtype\": \"number\",\n        \"std\": 243.73802348295857,\n        \"min\": 0.0,\n        \"max\": 768.0,\n        \"num_unique_values\": 8,\n        \"samples\": [\n          120.89453125,\n          117.0,\n          768.0\n        ],\n        \"semantic_type\": \"\",\n        \"description\": \"\"\n      }\n    },\n    {\n      \"column\": \"BloodPressure\",\n      \"properties\": {\n        \"dtype\": \"number\",\n        \"std\": 252.85250535810619,\n        \"min\": 0.0,\n        \"max\": 768.0,\n        \"num_unique_values\": 8,\n        \"samples\": [\n          69.10546875,\n          72.0,\n          768.0\n        ],\n        \"semantic_type\": \"\",\n        \"description\": \"\"\n      }\n    },\n    {\n      \"column\": \"SkinThickness\",\n      \"properties\": {\n        \"dtype\": \"number\",\n        \"std\": 263.7684730531098,\n        \"min\": 0.0,\n        \"max\": 768.0,\n        \"num_unique_values\": 7,\n        \"samples\": [\n          768.0,\n          20.536458333333332,\n          32.0\n        ],\n        \"semantic_type\": \"\",\n        \"description\": \"\"\n      }\n    },\n    {\n      \"column\": \"Insulin\",\n      \"properties\": {\n        \"dtype\": \"number\",\n        \"std\": 350.26059167945886,\n        \"min\": 0.0,\n        \"max\": 846.0,\n        \"num_unique_values\": 7,\n        \"samples\": [\n          768.0,\n          79.79947916666667,\n          127.25\n        ],\n        \"semantic_type\": \"\",\n        \"description\": \"\"\n      }\n    },\n    {\n      \"column\": \"BMI\",\n      \"properties\": {\n        \"dtype\": \"number\",\n        \"std\": 262.05117817552093,\n        \"min\": 0.0,\n        \"max\": 768.0,\n        \"num_unique_values\": 8,\n        \"samples\": [\n          31.992578124999998,\n          32.0,\n          768.0\n        ],\n        \"semantic_type\": \"\",\n        \"description\": \"\"\n      }\n    },\n    {\n      \"column\": \"DiabetesPedigreeFunction\",\n      \"properties\": {\n        \"dtype\": \"number\",\n        \"std\": 271.3005221658502,\n        \"min\": 0.078,\n        \"max\": 768.0,\n        \"num_unique_values\": 8,\n        \"samples\": [\n          0.47187630208333325,\n          0.3725,\n          768.0\n        ],\n        \"semantic_type\": \"\",\n        \"description\": \"\"\n      }\n    },\n    {\n      \"column\": \"Age\",\n      \"properties\": {\n        \"dtype\": \"number\",\n        \"std\": 260.1941178528413,\n        \"min\": 11.76023154067868,\n        \"max\": 768.0,\n        \"num_unique_values\": 8,\n        \"samples\": [\n          33.240885416666664,\n          29.0,\n          768.0\n        ],\n        \"semantic_type\": \"\",\n        \"description\": \"\"\n      }\n    },\n    {\n      \"column\": \"Outcome\",\n      \"properties\": {\n        \"dtype\": \"number\",\n        \"std\": 271.3865920388932,\n        \"min\": 0.0,\n        \"max\": 768.0,\n        \"num_unique_values\": 5,\n        \"samples\": [\n          0.3489583333333333,\n          1.0,\n          0.4769513772427971\n        ],\n        \"semantic_type\": \"\",\n        \"description\": \"\"\n      }\n    }\n  ]\n}"
            }
          },
          "metadata": {},
          "execution_count": 7
        }
      ],
      "source": [
        "data.describe()"
      ]
    },
    {
      "cell_type": "markdown",
      "metadata": {
        "id": "aJ4ABwEV1_Rp"
      },
      "source": [
        "#### __Inspecting the data__"
      ]
    },
    {
      "cell_type": "code",
      "execution_count": 8,
      "metadata": {
        "id": "tpoB6nC71_Rp",
        "outputId": "604fa7ff-ce7c-490b-cfd8-162173eaacca",
        "colab": {
          "base_uri": "https://localhost:8080/",
          "height": 366
        }
      },
      "outputs": [
        {
          "output_type": "execute_result",
          "data": {
            "text/plain": [
              "Pregnancies                 0\n",
              "Glucose                     0\n",
              "BloodPressure               0\n",
              "SkinThickness               0\n",
              "Insulin                     0\n",
              "BMI                         0\n",
              "DiabetesPedigreeFunction    0\n",
              "Age                         0\n",
              "Outcome                     0\n",
              "dtype: int64"
            ],
            "text/html": [
              "<div>\n",
              "<style scoped>\n",
              "    .dataframe tbody tr th:only-of-type {\n",
              "        vertical-align: middle;\n",
              "    }\n",
              "\n",
              "    .dataframe tbody tr th {\n",
              "        vertical-align: top;\n",
              "    }\n",
              "\n",
              "    .dataframe thead th {\n",
              "        text-align: right;\n",
              "    }\n",
              "</style>\n",
              "<table border=\"1\" class=\"dataframe\">\n",
              "  <thead>\n",
              "    <tr style=\"text-align: right;\">\n",
              "      <th></th>\n",
              "      <th>0</th>\n",
              "    </tr>\n",
              "  </thead>\n",
              "  <tbody>\n",
              "    <tr>\n",
              "      <th>Pregnancies</th>\n",
              "      <td>0</td>\n",
              "    </tr>\n",
              "    <tr>\n",
              "      <th>Glucose</th>\n",
              "      <td>0</td>\n",
              "    </tr>\n",
              "    <tr>\n",
              "      <th>BloodPressure</th>\n",
              "      <td>0</td>\n",
              "    </tr>\n",
              "    <tr>\n",
              "      <th>SkinThickness</th>\n",
              "      <td>0</td>\n",
              "    </tr>\n",
              "    <tr>\n",
              "      <th>Insulin</th>\n",
              "      <td>0</td>\n",
              "    </tr>\n",
              "    <tr>\n",
              "      <th>BMI</th>\n",
              "      <td>0</td>\n",
              "    </tr>\n",
              "    <tr>\n",
              "      <th>DiabetesPedigreeFunction</th>\n",
              "      <td>0</td>\n",
              "    </tr>\n",
              "    <tr>\n",
              "      <th>Age</th>\n",
              "      <td>0</td>\n",
              "    </tr>\n",
              "    <tr>\n",
              "      <th>Outcome</th>\n",
              "      <td>0</td>\n",
              "    </tr>\n",
              "  </tbody>\n",
              "</table>\n",
              "</div><br><label><b>dtype:</b> int64</label>"
            ]
          },
          "metadata": {},
          "execution_count": 8
        }
      ],
      "source": [
        "missing_values = data.isna().sum()\n",
        "missing_values"
      ]
    },
    {
      "cell_type": "code",
      "execution_count": 9,
      "metadata": {
        "id": "_xJpWaNr1_Rp",
        "outputId": "a0a99533-cdef-4257-9301-048e569f9c78",
        "colab": {
          "base_uri": "https://localhost:8080/"
        }
      },
      "outputs": [
        {
          "output_type": "execute_result",
          "data": {
            "text/plain": [
              "np.int64(0)"
            ]
          },
          "metadata": {},
          "execution_count": 9
        }
      ],
      "source": [
        "# Check for duplicate values\n",
        "duplicate_values = data.duplicated().sum()\n",
        "duplicate_values"
      ]
    },
    {
      "cell_type": "code",
      "execution_count": 10,
      "metadata": {
        "id": "HwdybnaU1_Rp",
        "outputId": "ab240975-75e9-487e-8468-f87bd8a506c0",
        "colab": {
          "base_uri": "https://localhost:8080/",
          "height": 178
        }
      },
      "outputs": [
        {
          "output_type": "execute_result",
          "data": {
            "text/plain": [
              "Outcome\n",
              "0    500\n",
              "1    268\n",
              "Name: count, dtype: int64"
            ],
            "text/html": [
              "<div>\n",
              "<style scoped>\n",
              "    .dataframe tbody tr th:only-of-type {\n",
              "        vertical-align: middle;\n",
              "    }\n",
              "\n",
              "    .dataframe tbody tr th {\n",
              "        vertical-align: top;\n",
              "    }\n",
              "\n",
              "    .dataframe thead th {\n",
              "        text-align: right;\n",
              "    }\n",
              "</style>\n",
              "<table border=\"1\" class=\"dataframe\">\n",
              "  <thead>\n",
              "    <tr style=\"text-align: right;\">\n",
              "      <th></th>\n",
              "      <th>count</th>\n",
              "    </tr>\n",
              "    <tr>\n",
              "      <th>Outcome</th>\n",
              "      <th></th>\n",
              "    </tr>\n",
              "  </thead>\n",
              "  <tbody>\n",
              "    <tr>\n",
              "      <th>0</th>\n",
              "      <td>500</td>\n",
              "    </tr>\n",
              "    <tr>\n",
              "      <th>1</th>\n",
              "      <td>268</td>\n",
              "    </tr>\n",
              "  </tbody>\n",
              "</table>\n",
              "</div><br><label><b>dtype:</b> int64</label>"
            ]
          },
          "metadata": {},
          "execution_count": 10
        }
      ],
      "source": [
        "data[\"Outcome\"].value_counts()"
      ]
    },
    {
      "cell_type": "markdown",
      "metadata": {
        "id": "DkYPk0MN1_Rp"
      },
      "source": [
        "#### __Perform train-test split__"
      ]
    },
    {
      "cell_type": "code",
      "execution_count": 11,
      "metadata": {
        "id": "1pqryDDn1_Rp"
      },
      "outputs": [],
      "source": [
        "target_column = 'Outcome'\n",
        "\n",
        "X = data.drop(columns=[target_column])\n",
        "y = data[target_column]\n",
        "\n",
        "# Split the data into training and testing sets\n",
        "X_train, X_test, y_train, y_test = train_test_split(X, y, test_size=0.2, random_state=42)"
      ]
    },
    {
      "cell_type": "markdown",
      "metadata": {
        "id": "u_9gL8x8FqMg"
      },
      "source": [
        "#### __Plot a correlation heatmap to understand the relationship between features__"
      ]
    },
    {
      "cell_type": "code",
      "execution_count": 12,
      "metadata": {
        "id": "CRSA67UoknYF",
        "outputId": "62f92527-5a30-4e3c-db67-45b156e95c0e",
        "colab": {
          "base_uri": "https://localhost:8080/",
          "height": 866
        }
      },
      "outputs": [
        {
          "output_type": "display_data",
          "data": {
            "text/plain": [
              "<Figure size 1200x800 with 2 Axes>"
            ],
            "image/png": "[encoded data removed]"
          },
          "metadata": {}
        }
      ],
      "source": [
        "# Heatmap of the correlation matrix using seaborn library\n",
        "plt.figure(figsize=(12, 8))\n",
        "correlation_matrix = X.corr()\n",
        "sns.heatmap(correlation_matrix, annot=True, cmap='coolwarm', linewidths=0.5)\n",
        "plt.title('Correlation Matrix')\n",
        "plt.show()"
      ]
    },
    {
      "cell_type": "markdown",
      "metadata": {
        "id": "QE3bVPDbm9Rg"
      },
      "source": [
        "### __Bagging technique - Pima Indians Diabetes Dataset__"
      ]
    },
    {
      "cell_type": "code",
      "execution_count": 13,
      "metadata": {
        "id": "MGTwG4Xw1_Rp"
      },
      "outputs": [],
      "source": [
        "# Create a decision tree classifier named cart\n",
        "cart = make_pipeline(SimpleImputer(strategy='median'), MinMaxScaler(feature_range=(0, 1)), DecisionTreeClassifier(random_state=1))\n",
        "\n",
        "# cart = Pipeline([\n",
        "#     ('imputer', SimpleImputer(strategy='median')),\n",
        "#     ('std_scaler', MinMaxScaler(feature_range=(0, 1))),\n",
        "#     ('classifier', DecisionTreeClassifier(random_state=1))\n",
        "# ])\n",
        "\n",
        "# Define k-fold cross-validation procedure\n",
        "kf = KFold(n_splits=10, shuffle=True, random_state=1)\n",
        "\n",
        "# The estimator will be set to 100, which is equal to the number of trees\n",
        "num_trees = 100"
      ]
    },
    {
      "cell_type": "markdown",
      "metadata": {
        "id": "WpotA1lQG9cx"
      },
      "source": [
        "#### __Apply the bagging technique on the dataset__\n",
        "\n",
        "* `oob_score`: This is a method of measuring the prediction error of random forests, bagging, and other ensemble methods that involve bootstrap aggregating.\n"
      ]
    },
    {
      "cell_type": "code",
      "execution_count": 14,
      "metadata": {
        "id": "XZWEcx3I1_Rq",
        "outputId": "1c3a298a-cdea-4991-a7fe-9bfec0284079",
        "colab": {
          "base_uri": "https://localhost:8080/"
        }
      },
      "outputs": [
        {
          "output_type": "stream",
          "name": "stdout",
          "text": [
            "[0.79032258 0.67741935 0.75806452 0.70967742 0.85245902 0.7704918\n",
            " 0.6557377  0.78688525 0.73770492 0.72131148]\n",
            "Mean Cross-Validation Score (Bagging Classifier): 0.7460074034902167\n"
          ]
        }
      ],
      "source": [
        "# Create a bagging classifier with the decision tree classifier (cart) as the base estimator\n",
        "# Ensure oob_score is enabled\n",
        "bagging_model_classifier = BaggingClassifier(estimator=cart, n_estimators=num_trees, random_state=12, oob_score=True)\n",
        "\n",
        "# Perform cross-validation using the model, feature matrix (X), target vector (y), and specified number of folds (cv)\n",
        "results = cross_val_score(bagging_model_classifier, X_train, y_train, cv=kf)\n",
        "\n",
        "# Print the cross-validation results\n",
        "print(results)\n",
        "\n",
        "# Calculate the Mean Cross-Validation Score using .mean() function\n",
        "mean_score = np.mean(results)\n",
        "print(\"Mean Cross-Validation Score (Bagging Classifier):\", mean_score)"
      ]
    },
    {
      "cell_type": "markdown",
      "metadata": {
        "id": "6HHno_iHl35D"
      },
      "source": [
        "##### __Observation__\n",
        "\n",
        "- The results array contains the cross-validation scores for each fold of the data.\n",
        "- The cross-validation scores indicate the performance of the BaggingClassifier model on different subsets of the data.\n",
        "- These scores can assess the generalization ability and performance stability of the BaggingClassifier model across multiple iterations of the training data.\n",
        "- The provided code illustrates a bagging implementation with a DecisionTreeClassifier base estimator. It employs KFold cross-validation with 10 folds and applies BaggingClassifier with 100 decision tree estimators to each fold.\n",
        "- The resultant mean cross-validation score of 0.75 demonstrates the ensemble's effectiveness in enhancing predictive performance compared to a single decision tree classifier."
      ]
    },
    {
      "cell_type": "code",
      "execution_count": 15,
      "metadata": {
        "id": "dAAFuvKl1_Rq",
        "outputId": "839c8c40-a3ef-409d-f912-6a5aed8efee9",
        "colab": {
          "base_uri": "https://localhost:8080/",
          "height": 230
        }
      },
      "outputs": [
        {
          "output_type": "execute_result",
          "data": {
            "text/plain": [
              "BaggingClassifier(estimator=Pipeline(steps=[('simpleimputer',\n",
              "                                             SimpleImputer(strategy='median')),\n",
              "                                            ('minmaxscaler', MinMaxScaler()),\n",
              "                                            ('decisiontreeclassifier',\n",
              "                                             DecisionTreeClassifier(random_state=1))]),\n",
              "                  n_estimators=100, oob_score=True, random_state=12)"
            ],
            "text/html": [
              "<style>#sk-container-id-1 {\n",
              "  /* Definition of color scheme common for light and dark mode */\n",
              "  --sklearn-color-text: #000;\n",
              "  --sklearn-color-text-muted: #666;\n",
              "  --sklearn-color-line: gray;\n",
              "  /* Definition of color scheme for unfitted estimators */\n",
              "  --sklearn-color-unfitted-level-0: #fff5e6;\n",
              "  --sklearn-color-unfitted-level-1: #f6e4d2;\n",
              "  --sklearn-color-unfitted-level-2: #ffe0b3;\n",
              "  --sklearn-color-unfitted-level-3: chocolate;\n",
              "  /* Definition of color scheme for fitted estimators */\n",
              "  --sklearn-color-fitted-level-0: #f0f8ff;\n",
              "  --sklearn-color-fitted-level-1: #d4ebff;\n",
              "  --sklearn-color-fitted-level-2: #b3dbfd;\n",
              "  --sklearn-color-fitted-level-3: cornflowerblue;\n",
              "\n",
              "  /* Specific color for light theme */\n",
              "  --sklearn-color-text-on-default-background: var(--sg-text-color, var(--theme-code-foreground, var(--jp-content-font-color1, black)));\n",
              "  --sklearn-color-background: var(--sg-background-color, var(--theme-background, var(--jp-layout-color0, white)));\n",
              "  --sklearn-color-border-box: var(--sg-text-color, var(--theme-code-foreground, var(--jp-content-font-color1, black)));\n",
              "  --sklearn-color-icon: #696969;\n",
              "\n",
              "  @media (prefers-color-scheme: dark) {\n",
              "    /* Redefinition of color scheme for dark theme */\n",
              "    --sklearn-color-text-on-default-background: var(--sg-text-color, var(--theme-code-foreground, var(--jp-content-font-color1, white)));\n",
              "    --sklearn-color-background: var(--sg-background-color, var(--theme-background, var(--jp-layout-color0, #111)));\n",
              "    --sklearn-color-border-box: var(--sg-text-color, var(--theme-code-foreground, var(--jp-content-font-color1, white)));\n",
              "    --sklearn-color-icon: #878787;\n",
              "  }\n",
              "}\n",
              "\n",
              "#sk-container-id-1 {\n",
              "  color: var(--sklearn-color-text);\n",
              "}\n",
              "\n",
              "#sk-container-id-1 pre {\n",
              "  padding: 0;\n",
              "}\n",
              "\n",
              "#sk-container-id-1 input.sk-hidden--visually {\n",
              "  border: 0;\n",
              "  clip: rect(1px 1px 1px 1px);\n",
              "  clip: rect(1px, 1px, 1px, 1px);\n",
              "  height: 1px;\n",
              "  margin: -1px;\n",
              "  overflow: hidden;\n",
              "  padding: 0;\n",
              "  position: absolute;\n",
              "  width: 1px;\n",
              "}\n",
              "\n",
              "#sk-container-id-1 div.sk-dashed-wrapped {\n",
              "  border: 1px dashed var(--sklearn-color-line);\n",
              "  margin: 0 0.4em 0.5em 0.4em;\n",
              "  box-sizing: border-box;\n",
              "  padding-bottom: 0.4em;\n",
              "  background-color: var(--sklearn-color-background);\n",
              "}\n",
              "\n",
              "#sk-container-id-1 div.sk-container {\n",
              "  /* jupyter's `normalize.less` sets `[hidden] { display: none; }`\n",
              "     but bootstrap.min.css set `[hidden] { display: none !important; }`\n",
              "     so we also need the `!important` here to be able to override the\n",
              "     default hidden behavior on the sphinx rendered scikit-learn.org.\n",
              "     See: https://github.com/scikit-learn/scikit-learn/issues/21755 */\n",
              "  display: inline-block !important;\n",
              "  position: relative;\n",
              "}\n",
              "\n",
              "#sk-container-id-1 div.sk-text-repr-fallback {\n",
              "  display: none;\n",
              "}\n",
              "\n",
              "div.sk-parallel-item,\n",
              "div.sk-serial,\n",
              "div.sk-item {\n",
              "  /* draw centered vertical line to link estimators */\n",
              "  background-image: linear-gradient(var(--sklearn-color-text-on-default-background), var(--sklearn-color-text-on-default-background));\n",
              "  background-size: 2px 100%;\n",
              "  background-repeat: no-repeat;\n",
              "  background-position: center center;\n",
              "}\n",
              "\n",
              "/* Parallel-specific style estimator block */\n",
              "\n",
              "#sk-container-id-1 div.sk-parallel-item::after {\n",
              "  content: \"\";\n",
              "  width: 100%;\n",
              "  border-bottom: 2px solid var(--sklearn-color-text-on-default-background);\n",
              "  flex-grow: 1;\n",
              "}\n",
              "\n",
              "#sk-container-id-1 div.sk-parallel {\n",
              "  display: flex;\n",
              "  align-items: stretch;\n",
              "  justify-content: center;\n",
              "  background-color: var(--sklearn-color-background);\n",
              "  position: relative;\n",
              "}\n",
              "\n",
              "#sk-container-id-1 div.sk-parallel-item {\n",
              "  display: flex;\n",
              "  flex-direction: column;\n",
              "}\n",
              "\n",
              "#sk-container-id-1 div.sk-parallel-item:first-child::after {\n",
              "  align-self: flex-end;\n",
              "  width: 50%;\n",
              "}\n",
              "\n",
              "#sk-container-id-1 div.sk-parallel-item:last-child::after {\n",
              "  align-self: flex-start;\n",
              "  width: 50%;\n",
              "}\n",
              "\n",
              "#sk-container-id-1 div.sk-parallel-item:only-child::after {\n",
              "  width: 0;\n",
              "}\n",
              "\n",
              "/* Serial-specific style estimator block */\n",
              "\n",
              "#sk-container-id-1 div.sk-serial {\n",
              "  display: flex;\n",
              "  flex-direction: column;\n",
              "  align-items: center;\n",
              "  background-color: var(--sklearn-color-background);\n",
              "  padding-right: 1em;\n",
              "  padding-left: 1em;\n",
              "}\n",
              "\n",
              "\n",
              "/* Toggleable style: style used for estimator/Pipeline/ColumnTransformer box that is\n",
              "clickable and can be expanded/collapsed.\n",
              "- Pipeline and ColumnTransformer use this feature and define the default style\n",
              "- Estimators will overwrite some part of the style using the `sk-estimator` class\n",
              "*/\n",
              "\n",
              "/* Pipeline and ColumnTransformer style (default) */\n",
              "\n",
              "#sk-container-id-1 div.sk-toggleable {\n",
              "  /* Default theme specific background. It is overwritten whether we have a\n",
              "  specific estimator or a Pipeline/ColumnTransformer */\n",
              "  background-color: var(--sklearn-color-background);\n",
              "}\n",
              "\n",
              "/* Toggleable label */\n",
              "#sk-container-id-1 label.sk-toggleable__label {\n",
              "  cursor: pointer;\n",
              "  display: flex;\n",
              "  width: 100%;\n",
              "  margin-bottom: 0;\n",
              "  padding: 0.5em;\n",
              "  box-sizing: border-box;\n",
              "  text-align: center;\n",
              "  align-items: start;\n",
              "  justify-content: space-between;\n",
              "  gap: 0.5em;\n",
              "}\n",
              "\n",
              "#sk-container-id-1 label.sk-toggleable__label .caption {\n",
              "  font-size: 0.6rem;\n",
              "  font-weight: lighter;\n",
              "  color: var(--sklearn-color-text-muted);\n",
              "}\n",
              "\n",
              "#sk-container-id-1 label.sk-toggleable__label-arrow:before {\n",
              "  /* Arrow on the left of the label */\n",
              "  content: \"▸\";\n",
              "  float: left;\n",
              "  margin-right: 0.25em;\n",
              "  color: var(--sklearn-color-icon);\n",
              "}\n",
              "\n",
              "#sk-container-id-1 label.sk-toggleable__label-arrow:hover:before {\n",
              "  color: var(--sklearn-color-text);\n",
              "}\n",
              "\n",
              "/* Toggleable content - dropdown */\n",
              "\n",
              "#sk-container-id-1 div.sk-toggleable__content {\n",
              "  max-height: 0;\n",
              "  max-width: 0;\n",
              "  overflow: hidden;\n",
              "  text-align: left;\n",
              "  /* unfitted */\n",
              "  background-color: var(--sklearn-color-unfitted-level-0);\n",
              "}\n",
              "\n",
              "#sk-container-id-1 div.sk-toggleable__content.fitted {\n",
              "  /* fitted */\n",
              "  background-color: var(--sklearn-color-fitted-level-0);\n",
              "}\n",
              "\n",
              "#sk-container-id-1 div.sk-toggleable__content pre {\n",
              "  margin: 0.2em;\n",
              "  border-radius: 0.25em;\n",
              "  color: var(--sklearn-color-text);\n",
              "  /* unfitted */\n",
              "  background-color: var(--sklearn-color-unfitted-level-0);\n",
              "}\n",
              "\n",
              "#sk-container-id-1 div.sk-toggleable__content.fitted pre {\n",
              "  /* unfitted */\n",
              "  background-color: var(--sklearn-color-fitted-level-0);\n",
              "}\n",
              "\n",
              "#sk-container-id-1 input.sk-toggleable__control:checked~div.sk-toggleable__content {\n",
              "  /* Expand drop-down */\n",
              "  max-height: 200px;\n",
              "  max-width: 100%;\n",
              "  overflow: auto;\n",
              "}\n",
              "\n",
              "#sk-container-id-1 input.sk-toggleable__control:checked~label.sk-toggleable__label-arrow:before {\n",
              "  content: \"▾\";\n",
              "}\n",
              "\n",
              "/* Pipeline/ColumnTransformer-specific style */\n",
              "\n",
              "#sk-container-id-1 div.sk-label input.sk-toggleable__control:checked~label.sk-toggleable__label {\n",
              "  color: var(--sklearn-color-text);\n",
              "  background-color: var(--sklearn-color-unfitted-level-2);\n",
              "}\n",
              "\n",
              "#sk-container-id-1 div.sk-label.fitted input.sk-toggleable__control:checked~label.sk-toggleable__label {\n",
              "  background-color: var(--sklearn-color-fitted-level-2);\n",
              "}\n",
              "\n",
              "/* Estimator-specific style */\n",
              "\n",
              "/* Colorize estimator box */\n",
              "#sk-container-id-1 div.sk-estimator input.sk-toggleable__control:checked~label.sk-toggleable__label {\n",
              "  /* unfitted */\n",
              "  background-color: var(--sklearn-color-unfitted-level-2);\n",
              "}\n",
              "\n",
              "#sk-container-id-1 div.sk-estimator.fitted input.sk-toggleable__control:checked~label.sk-toggleable__label {\n",
              "  /* fitted */\n",
              "  background-color: var(--sklearn-color-fitted-level-2);\n",
              "}\n",
              "\n",
              "#sk-container-id-1 div.sk-label label.sk-toggleable__label,\n",
              "#sk-container-id-1 div.sk-label label {\n",
              "  /* The background is the default theme color */\n",
              "  color: var(--sklearn-color-text-on-default-background);\n",
              "}\n",
              "\n",
              "/* On hover, darken the color of the background */\n",
              "#sk-container-id-1 div.sk-label:hover label.sk-toggleable__label {\n",
              "  color: var(--sklearn-color-text);\n",
              "  background-color: var(--sklearn-color-unfitted-level-2);\n",
              "}\n",
              "\n",
              "/* Label box, darken color on hover, fitted */\n",
              "#sk-container-id-1 div.sk-label.fitted:hover label.sk-toggleable__label.fitted {\n",
              "  color: var(--sklearn-color-text);\n",
              "  background-color: var(--sklearn-color-fitted-level-2);\n",
              "}\n",
              "\n",
              "/* Estimator label */\n",
              "\n",
              "#sk-container-id-1 div.sk-label label {\n",
              "  font-family: monospace;\n",
              "  font-weight: bold;\n",
              "  display: inline-block;\n",
              "  line-height: 1.2em;\n",
              "}\n",
              "\n",
              "#sk-container-id-1 div.sk-label-container {\n",
              "  text-align: center;\n",
              "}\n",
              "\n",
              "/* Estimator-specific */\n",
              "#sk-container-id-1 div.sk-estimator {\n",
              "  font-family: monospace;\n",
              "  border: 1px dotted var(--sklearn-color-border-box);\n",
              "  border-radius: 0.25em;\n",
              "  box-sizing: border-box;\n",
              "  margin-bottom: 0.5em;\n",
              "  /* unfitted */\n",
              "  background-color: var(--sklearn-color-unfitted-level-0);\n",
              "}\n",
              "\n",
              "#sk-container-id-1 div.sk-estimator.fitted {\n",
              "  /* fitted */\n",
              "  background-color: var(--sklearn-color-fitted-level-0);\n",
              "}\n",
              "\n",
              "/* on hover */\n",
              "#sk-container-id-1 div.sk-estimator:hover {\n",
              "  /* unfitted */\n",
              "  background-color: var(--sklearn-color-unfitted-level-2);\n",
              "}\n",
              "\n",
              "#sk-container-id-1 div.sk-estimator.fitted:hover {\n",
              "  /* fitted */\n",
              "  background-color: var(--sklearn-color-fitted-level-2);\n",
              "}\n",
              "\n",
              "/* Specification for estimator info (e.g. \"i\" and \"?\") */\n",
              "\n",
              "/* Common style for \"i\" and \"?\" */\n",
              "\n",
              ".sk-estimator-doc-link,\n",
              "a:link.sk-estimator-doc-link,\n",
              "a:visited.sk-estimator-doc-link {\n",
              "  float: right;\n",
              "  font-size: smaller;\n",
              "  line-height: 1em;\n",
              "  font-family: monospace;\n",
              "  background-color: var(--sklearn-color-background);\n",
              "  border-radius: 1em;\n",
              "  height: 1em;\n",
              "  width: 1em;\n",
              "  text-decoration: none !important;\n",
              "  margin-left: 0.5em;\n",
              "  text-align: center;\n",
              "  /* unfitted */\n",
              "  border: var(--sklearn-color-unfitted-level-1) 1pt solid;\n",
              "  color: var(--sklearn-color-unfitted-level-1);\n",
              "}\n",
              "\n",
              ".sk-estimator-doc-link.fitted,\n",
              "a:link.sk-estimator-doc-link.fitted,\n",
              "a:visited.sk-estimator-doc-link.fitted {\n",
              "  /* fitted */\n",
              "  border: var(--sklearn-color-fitted-level-1) 1pt solid;\n",
              "  color: var(--sklearn-color-fitted-level-1);\n",
              "}\n",
              "\n",
              "/* On hover */\n",
              "div.sk-estimator:hover .sk-estimator-doc-link:hover,\n",
              ".sk-estimator-doc-link:hover,\n",
              "div.sk-label-container:hover .sk-estimator-doc-link:hover,\n",
              ".sk-estimator-doc-link:hover {\n",
              "  /* unfitted */\n",
              "  background-color: var(--sklearn-color-unfitted-level-3);\n",
              "  color: var(--sklearn-color-background);\n",
              "  text-decoration: none;\n",
              "}\n",
              "\n",
              "div.sk-estimator.fitted:hover .sk-estimator-doc-link.fitted:hover,\n",
              ".sk-estimator-doc-link.fitted:hover,\n",
              "div.sk-label-container:hover .sk-estimator-doc-link.fitted:hover,\n",
              ".sk-estimator-doc-link.fitted:hover {\n",
              "  /* fitted */\n",
              "  background-color: var(--sklearn-color-fitted-level-3);\n",
              "  color: var(--sklearn-color-background);\n",
              "  text-decoration: none;\n",
              "}\n",
              "\n",
              "/* Span, style for the box shown on hovering the info icon */\n",
              ".sk-estimator-doc-link span {\n",
              "  display: none;\n",
              "  z-index: 9999;\n",
              "  position: relative;\n",
              "  font-weight: normal;\n",
              "  right: .2ex;\n",
              "  padding: .5ex;\n",
              "  margin: .5ex;\n",
              "  width: min-content;\n",
              "  min-width: 20ex;\n",
              "  max-width: 50ex;\n",
              "  color: var(--sklearn-color-text);\n",
              "  box-shadow: 2pt 2pt 4pt #999;\n",
              "  /* unfitted */\n",
              "  background: var(--sklearn-color-unfitted-level-0);\n",
              "  border: .5pt solid var(--sklearn-color-unfitted-level-3);\n",
              "}\n",
              "\n",
              ".sk-estimator-doc-link.fitted span {\n",
              "  /* fitted */\n",
              "  background: var(--sklearn-color-fitted-level-0);\n",
              "  border: var(--sklearn-color-fitted-level-3);\n",
              "}\n",
              "\n",
              ".sk-estimator-doc-link:hover span {\n",
              "  display: block;\n",
              "}\n",
              "\n",
              "/* \"?\"-specific style due to the `<a>` HTML tag */\n",
              "\n",
              "#sk-container-id-1 a.estimator_doc_link {\n",
              "  float: right;\n",
              "  font-size: 1rem;\n",
              "  line-height: 1em;\n",
              "  font-family: monospace;\n",
              "  background-color: var(--sklearn-color-background);\n",
              "  border-radius: 1rem;\n",
              "  height: 1rem;\n",
              "  width: 1rem;\n",
              "  text-decoration: none;\n",
              "  /* unfitted */\n",
              "  color: var(--sklearn-color-unfitted-level-1);\n",
              "  border: var(--sklearn-color-unfitted-level-1) 1pt solid;\n",
              "}\n",
              "\n",
              "#sk-container-id-1 a.estimator_doc_link.fitted {\n",
              "  /* fitted */\n",
              "  border: var(--sklearn-color-fitted-level-1) 1pt solid;\n",
              "  color: var(--sklearn-color-fitted-level-1);\n",
              "}\n",
              "\n",
              "/* On hover */\n",
              "#sk-container-id-1 a.estimator_doc_link:hover {\n",
              "  /* unfitted */\n",
              "  background-color: var(--sklearn-color-unfitted-level-3);\n",
              "  color: var(--sklearn-color-background);\n",
              "  text-decoration: none;\n",
              "}\n",
              "\n",
              "#sk-container-id-1 a.estimator_doc_link.fitted:hover {\n",
              "  /* fitted */\n",
              "  background-color: var(--sklearn-color-fitted-level-3);\n",
              "}\n",
              "</style><div id=\"sk-container-id-1\" class=\"sk-top-container\"><div class=\"sk-text-repr-fallback\"><pre>BaggingClassifier(estimator=Pipeline(steps=[(&#x27;simpleimputer&#x27;,\n",
              "                                             SimpleImputer(strategy=&#x27;median&#x27;)),\n",
              "                                            (&#x27;minmaxscaler&#x27;, MinMaxScaler()),\n",
              "                                            (&#x27;decisiontreeclassifier&#x27;,\n",
              "                                             DecisionTreeClassifier(random_state=1))]),\n",
              "                  n_estimators=100, oob_score=True, random_state=12)</pre><b>In a Jupyter environment, please rerun this cell to show the HTML representation or trust the notebook. <br />On GitHub, the HTML representation is unable to render, please try loading this page with nbviewer.org.</b></div><div class=\"sk-container\" hidden><div class=\"sk-item sk-dashed-wrapped\"><div class=\"sk-label-container\"><div class=\"sk-label fitted sk-toggleable\"><input class=\"sk-toggleable__control sk-hidden--visually\" id=\"sk-estimator-id-1\" type=\"checkbox\" ><label for=\"sk-estimator-id-1\" class=\"sk-toggleable__label fitted sk-toggleable__label-arrow\"><div><div>BaggingClassifier</div></div><div><a class=\"sk-estimator-doc-link fitted\" rel=\"noreferrer\" target=\"_blank\" href=\"https://scikit-learn.org/1.6/modules/generated/sklearn.ensemble.BaggingClassifier.html\">?<span>Documentation for BaggingClassifier</span></a><span class=\"sk-estimator-doc-link fitted\">i<span>Fitted</span></span></div></label><div class=\"sk-toggleable__content fitted\"><pre>BaggingClassifier(estimator=Pipeline(steps=[(&#x27;simpleimputer&#x27;,\n",
              "                                             SimpleImputer(strategy=&#x27;median&#x27;)),\n",
              "                                            (&#x27;minmaxscaler&#x27;, MinMaxScaler()),\n",
              "                                            (&#x27;decisiontreeclassifier&#x27;,\n",
              "                                             DecisionTreeClassifier(random_state=1))]),\n",
              "                  n_estimators=100, oob_score=True, random_state=12)</pre></div> </div></div><div class=\"sk-parallel\"><div class=\"sk-parallel-item\"><div class=\"sk-item\"><div class=\"sk-label-container\"><div class=\"sk-label fitted sk-toggleable\"><input class=\"sk-toggleable__control sk-hidden--visually\" id=\"sk-estimator-id-2\" type=\"checkbox\" ><label for=\"sk-estimator-id-2\" class=\"sk-toggleable__label fitted sk-toggleable__label-arrow\"><div><div>estimator: Pipeline</div></div></label><div class=\"sk-toggleable__content fitted\"><pre>Pipeline(steps=[(&#x27;simpleimputer&#x27;, SimpleImputer(strategy=&#x27;median&#x27;)),\n",
              "                (&#x27;minmaxscaler&#x27;, MinMaxScaler()),\n",
              "                (&#x27;decisiontreeclassifier&#x27;,\n",
              "                 DecisionTreeClassifier(random_state=1))])</pre></div> </div></div><div class=\"sk-serial\"><div class=\"sk-item\"><div class=\"sk-serial\"><div class=\"sk-item\"><div class=\"sk-estimator fitted sk-toggleable\"><input class=\"sk-toggleable__control sk-hidden--visually\" id=\"sk-estimator-id-3\" type=\"checkbox\" ><label for=\"sk-estimator-id-3\" class=\"sk-toggleable__label fitted sk-toggleable__label-arrow\"><div><div>SimpleImputer</div></div><div><a class=\"sk-estimator-doc-link fitted\" rel=\"noreferrer\" target=\"_blank\" href=\"https://scikit-learn.org/1.6/modules/generated/sklearn.impute.SimpleImputer.html\">?<span>Documentation for SimpleImputer</span></a></div></label><div class=\"sk-toggleable__content fitted\"><pre>SimpleImputer(strategy=&#x27;median&#x27;)</pre></div> </div></div><div class=\"sk-item\"><div class=\"sk-estimator fitted sk-toggleable\"><input class=\"sk-toggleable__control sk-hidden--visually\" id=\"sk-estimator-id-4\" type=\"checkbox\" ><label for=\"sk-estimator-id-4\" class=\"sk-toggleable__label fitted sk-toggleable__label-arrow\"><div><div>MinMaxScaler</div></div><div><a class=\"sk-estimator-doc-link fitted\" rel=\"noreferrer\" target=\"_blank\" href=\"https://scikit-learn.org/1.6/modules/generated/sklearn.preprocessing.MinMaxScaler.html\">?<span>Documentation for MinMaxScaler</span></a></div></label><div class=\"sk-toggleable__content fitted\"><pre>MinMaxScaler()</pre></div> </div></div><div class=\"sk-item\"><div class=\"sk-estimator fitted sk-toggleable\"><input class=\"sk-toggleable__control sk-hidden--visually\" id=\"sk-estimator-id-5\" type=\"checkbox\" ><label for=\"sk-estimator-id-5\" class=\"sk-toggleable__label fitted sk-toggleable__label-arrow\"><div><div>DecisionTreeClassifier</div></div><div><a class=\"sk-estimator-doc-link fitted\" rel=\"noreferrer\" target=\"_blank\" href=\"https://scikit-learn.org/1.6/modules/generated/sklearn.tree.DecisionTreeClassifier.html\">?<span>Documentation for DecisionTreeClassifier</span></a></div></label><div class=\"sk-toggleable__content fitted\"><pre>DecisionTreeClassifier(random_state=1)</pre></div> </div></div></div></div></div></div></div></div></div></div></div>"
            ]
          },
          "metadata": {},
          "execution_count": 15
        }
      ],
      "source": [
        "# Fitting and evaluating Bagging classifier model in training and test dataset\n",
        "bagging_model_classifier.fit(X_train, y_train)"
      ]
    },
    {
      "cell_type": "code",
      "execution_count": 16,
      "metadata": {
        "colab": {
          "base_uri": "https://localhost:8080/"
        },
        "id": "Kbg9G7XiInCU",
        "outputId": "8ebbb21d-4ad4-4803-ee8b-208974acc5f1"
      },
      "outputs": [
        {
          "output_type": "stream",
          "name": "stdout",
          "text": [
            "Bagging Classifier:\n",
            "Training Accuracy: 1.0\n",
            "Testing Accuracy: 0.7337662337662337\n"
          ]
        }
      ],
      "source": [
        "# Evaluating model on train and test dataset\n",
        "y_pred_train_bagging = bagging_model_classifier.predict(X_train)\n",
        "y_pred_test_bagging = bagging_model_classifier.predict(X_test)\n",
        "\n",
        "# Calculate training and testing accuracy\n",
        "training_accuracy = accuracy_score(y_train, y_pred_train_bagging)\n",
        "testing_accuracy = accuracy_score(y_test, y_pred_test_bagging)\n",
        "print(\"Bagging Classifier:\")\n",
        "print(f\"Training Accuracy: {training_accuracy}\")\n",
        "print(f\"Testing Accuracy: {testing_accuracy}\")"
      ]
    },
    {
      "cell_type": "code",
      "execution_count": 17,
      "metadata": {
        "id": "WyfHe5Iw1_Rq",
        "outputId": "821e7e6a-f3e9-4a86-9509-b9735b59fb1f",
        "colab": {
          "base_uri": "https://localhost:8080/"
        }
      },
      "outputs": [
        {
          "output_type": "execute_result",
          "data": {
            "text/plain": [
              "0.7654723127035831"
            ]
          },
          "metadata": {},
          "execution_count": 17
        }
      ],
      "source": [
        "# Find OOB score for Bagging classifier\n",
        "bagging_model_classifier.oob_score_"
      ]
    },
    {
      "cell_type": "markdown",
      "metadata": {
        "id": "HbmXtfxK1_Rq"
      },
      "source": [
        "#### __OOB Error for Bagging Classifier__"
      ]
    },
    {
      "cell_type": "code",
      "execution_count": 18,
      "metadata": {
        "colab": {
          "base_uri": "https://localhost:8080/"
        },
        "id": "a7fm_bi5l35F",
        "outputId": "0e49d67c-17b7-4cd7-b6db-070886bc4ec0"
      },
      "outputs": [
        {
          "output_type": "stream",
          "name": "stdout",
          "text": [
            "Out-of-Bag Error (Bagging Classifier): 0.23452768729641693\n"
          ]
        }
      ],
      "source": [
        "# Perform cross-validation and compute OOB error for Bagging classifier\n",
        "oob_error_bg = 1 - bagging_model_classifier.fit(X_train, y_train).oob_score_\n",
        "\n",
        "print(\"Out-of-Bag Error (Bagging Classifier):\", oob_error_bg)"
      ]
    },
    {
      "cell_type": "code",
      "execution_count": 19,
      "metadata": {
        "id": "KRy5SI-S1_Rq",
        "outputId": "784e94ff-746f-4ba3-8d08-c32b822c8818",
        "colab": {
          "base_uri": "https://localhost:8080/"
        }
      },
      "outputs": [
        {
          "output_type": "stream",
          "name": "stdout",
          "text": [
            "              precision    recall  f1-score   support\n",
            "\n",
            "           0       0.80      0.79      0.79        99\n",
            "           1       0.62      0.64      0.63        55\n",
            "\n",
            "    accuracy                           0.73       154\n",
            "   macro avg       0.71      0.71      0.71       154\n",
            "weighted avg       0.73      0.73      0.73       154\n",
            "\n"
          ]
        }
      ],
      "source": [
        "print(classification_report(y_test,y_pred_test_bagging))"
      ]
    },
    {
      "cell_type": "code",
      "execution_count": 20,
      "metadata": {
        "id": "4I5eXz221_Rq",
        "outputId": "3da4b418-abde-4f85-b8a9-3311e3dc1746",
        "colab": {
          "base_uri": "https://localhost:8080/",
          "height": 449
        }
      },
      "outputs": [
        {
          "output_type": "display_data",
          "data": {
            "text/plain": [
              "<Figure size 640x480 with 2 Axes>"
            ],
            "image/png": "[encoded data removed]"
          },
          "metadata": {}
        }
      ],
      "source": [
        "# Generate the confusion matrix\n",
        "conf_matrix_bagging = confusion_matrix(y_test, y_pred_test_bagging)\n",
        "\n",
        "# Heatmap visualization for confusion matrix\n",
        "display_labels=['Non diabetic','Diabetic']\n",
        "cm_display = ConfusionMatrixDisplay(confusion_matrix=conf_matrix_bagging, display_labels=display_labels)\n",
        "\n",
        "# display matrix\n",
        "cm_display.plot(cmap='summer')\n",
        "plt.show()"
      ]
    },
    {
      "cell_type": "markdown",
      "metadata": {
        "id": "nsqySzM91_Rq"
      },
      "source": [
        "### __Random Forest Classifier - Pima Indians Diabetes Dataset__"
      ]
    },
    {
      "cell_type": "code",
      "execution_count": 21,
      "metadata": {
        "id": "uiDDOSjz1_Rq"
      },
      "outputs": [],
      "source": [
        "from sklearn.ensemble import RandomForestClassifier"
      ]
    },
    {
      "cell_type": "code",
      "execution_count": 22,
      "metadata": {
        "id": "UyKwavjB1_Rq",
        "outputId": "4415f3a0-7b12-49a9-dca1-26827b943c79",
        "colab": {
          "base_uri": "https://localhost:8080/"
        }
      },
      "outputs": [
        {
          "output_type": "stream",
          "name": "stdout",
          "text": [
            "Random Forest:\n",
            "Training Accuracy: 1.0\n",
            "Testing Accuracy: 0.7402597402597403\n"
          ]
        }
      ],
      "source": [
        "num_trees = 200\n",
        "\n",
        "# Setting up the Random Forest classifier\n",
        "pipeline_rfc = Pipeline([\n",
        "    ('imputer', SimpleImputer(strategy='median')),\n",
        "    ('scaler', MinMaxScaler(feature_range=(0, 1))),     # Standardize the data\n",
        "    ('clf', RandomForestClassifier(n_estimators=num_trees, random_state=12, oob_score=True)) # Random Forest classifier\n",
        "])\n",
        "\n",
        "pipeline_rfc.fit(X_train, y_train)\n",
        "\n",
        "# Evaluating model on train and test dataset\n",
        "y_pred_train_rfc = pipeline_rfc.predict(X_train)\n",
        "y_pred_test_rfc = pipeline_rfc.predict(X_test)\n",
        "\n",
        "# Calculate training and testing accuracy\n",
        "training_accuracy = accuracy_score(y_train, y_pred_train_rfc)\n",
        "testing_accuracy = accuracy_score(y_test, y_pred_test_rfc)\n",
        "print(\"Random Forest:\")\n",
        "print(f\"Training Accuracy: {training_accuracy}\")\n",
        "print(f\"Testing Accuracy: {testing_accuracy}\")"
      ]
    },
    {
      "cell_type": "code",
      "execution_count": 23,
      "metadata": {
        "id": "mUPf75t-1_Rq",
        "outputId": "256a49e1-5fed-4471-a816-587dffd8507c",
        "colab": {
          "base_uri": "https://localhost:8080/"
        }
      },
      "outputs": [
        {
          "output_type": "stream",
          "name": "stdout",
          "text": [
            "Mean Cross-Validation Score (Random Forest): 0.7460074034902167\n"
          ]
        }
      ],
      "source": [
        "# Set up the k-fold cross-validation with n_splits to 10\n",
        "kfold = KFold(n_splits=10, shuffle=True, random_state=1)\n",
        "\n",
        "# Perform cross-validation using the model, feature matrix (X), target vector (y), and specified number of folds (cv)\n",
        "results = cross_val_score(pipeline_rfc, X_train, y_train, cv=kfold)\n",
        "\n",
        "print(\"Mean Cross-Validation Score (Random Forest):\", mean_score)"
      ]
    },
    {
      "cell_type": "code",
      "execution_count": 24,
      "metadata": {
        "id": "VoZJpx7R1_Rq",
        "outputId": "97afc2e4-c08a-4308-d473-a228c8704511",
        "colab": {
          "base_uri": "https://localhost:8080/"
        }
      },
      "outputs": [
        {
          "output_type": "execute_result",
          "data": {
            "text/plain": [
              "0.7654723127035831"
            ]
          },
          "metadata": {},
          "execution_count": 24
        }
      ],
      "source": [
        "# Find OOB score for RFC\n",
        "pipeline_rfc.named_steps['clf'].oob_score_"
      ]
    },
    {
      "cell_type": "markdown",
      "metadata": {
        "id": "ecm3N2sU1_Rq"
      },
      "source": [
        "##### __Observation:__\n",
        "\n",
        "- This is the accuracy on the validation data, because OOB is the internal validation data for the model."
      ]
    },
    {
      "cell_type": "markdown",
      "metadata": {
        "id": "FqcTaSwE1_Rq"
      },
      "source": [
        "#### __OOB Error for Random Forest__"
      ]
    },
    {
      "cell_type": "code",
      "execution_count": 25,
      "metadata": {
        "id": "e-ew_5Qo1_Rq",
        "outputId": "797fb2ec-98ed-48da-8158-5fb8a8cf9df3",
        "colab": {
          "base_uri": "https://localhost:8080/"
        }
      },
      "outputs": [
        {
          "output_type": "stream",
          "name": "stdout",
          "text": [
            "Out-of-Bag Error (Random Forest): 0.23452768729641693\n"
          ]
        }
      ],
      "source": [
        "# Perform cross-validation and compute OOB error for Random Forest\n",
        "oob_error_rfc = 1 - pipeline_rfc.fit(X_train, y_train).named_steps['clf'].oob_score_\n",
        "\n",
        "print(\"Out-of-Bag Error (Random Forest):\", oob_error_rfc)"
      ]
    },
    {
      "cell_type": "markdown",
      "metadata": {
        "id": "TCW9NEg2l35F"
      },
      "source": [
        "##### __Observation:__\n",
        "\n",
        "- The code computes the out-of-bag (OOB) error for a BaggingClassifier and Random Forest model using cross-validation.\n",
        "- It calculates the OOB error by subtracting the OOB score from 1.\n",
        "- The **OOB score** represents the model's accuracy on out-of-bag samples.\n",
        "- The OOB error provides insight into the model's performance on unseen data points, indicating the misclassification rate of the model."
      ]
    },
    {
      "cell_type": "markdown",
      "metadata": {
        "id": "wZ0FLFde1_Rq"
      },
      "source": [
        "## __5. Advanced Techniques for Ensemble Learning (Boosting)__"
      ]
    },
    {
      "cell_type": "markdown",
      "metadata": {
        "id": "ayiM-qmal35F"
      },
      "source": [
        "Boosting is a __sequential ensemble technique__ where each model corrects its predecessor's mistakes. The main idea is to train models sequentially, each trying to correct the errors of the previous model.\n",
        "\n",
        "The final prediction is a weighted sum of all the models' predictions. Boosting significantly reduces bias and variance, leading to more accurate models.\n",
        "\n",
        "__Note:__ Popular boosting algorithms include AdaBoost, Gradient Boosting Machines (GBM), and XGBoost.\n",
        "\n",
        "<img src=\"https://labcontent.simplicdn.net/data-content/content-assets/Data_and_AI/ML/updated/Lesson_05/Ensembled_Learning_Boosting.png\" width=600 />\n",
        "\n",
        "__Note:__ The numbering shown in the above image specifically outlines the workflow for boosting.\n",
        "\n",
        "Boosting combines a set of weak learners into a strong learner to minimize training errors. Boosting algorithms can improve the predictive power of image, object and feature identification, sentiment analysis, data mining, etc."
      ]
    },
    {
      "cell_type": "markdown",
      "metadata": {
        "id": "Bs9TzCm5l35F"
      },
      "source": [
        "#### __Bagging vs. boosting__"
      ]
    },
    {
      "cell_type": "markdown",
      "metadata": {
        "id": "ZQK7A2Lc1_Rr"
      },
      "source": [
        "- In bagging, weak learners are trained in parallel, but in boosting, they learn sequentially. This means that a series of models is constructed and with each new model iteration, the weights of the misclassified data in the previous model are increased.\n",
        "- This redistribution of weights helps the algorithm identify the parameters that it needs to focus on to improve its performance.\n",
        "- Another difference in which bagging and boosting differ are the scenarios in which they are used. For example, bagging methods are typically used on weak learners that exhibit high variance and low bias, whereas boosting methods are used when low variance and high bias are observed."
      ]
    },
    {
      "cell_type": "markdown",
      "metadata": {
        "id": "tSkvxZkg1_Rr"
      },
      "source": [
        "### __Boosting Techniques__"
      ]
    },
    {
      "cell_type": "markdown",
      "metadata": {
        "id": "uQ7Bf8CMCi0m"
      },
      "source": [
        "There are various meta-algorithms in boosting that differentiate how the base models are aggregated, such as:\n",
        "* Adaboost\n",
        "* Gradient Boost\n",
        "* XGBoost\n",
        "* CatBoost\n",
        "\n",
        "**Meta-algorithm** (or meta-learning) involves learning algorithms that are designed to learn how to combine the predictions of multiple machine learning models, often referred to as base models or learners, to improve overall performance"
      ]
    },
    {
      "cell_type": "markdown",
      "metadata": {
        "id": "vrPFADMr1_Rr"
      },
      "source": [
        "### __5.1 AdaBoost Algorithm__"
      ]
    },
    {
      "cell_type": "markdown",
      "metadata": {
        "id": "gYztPf_-C2_2"
      },
      "source": [
        "AdaBoost, an abbreviation for __adaptive boosting__, stands as one of the leading boosting algorithms with widespread adoption. It focuses on classification problems, aiming to transform a collection of weak classifiers into a single strong classifier. The weak learners are almost always stumps. Some stumps get more say in the classification than others. Each stump is made by taking the previous stump's mistake into account. It increases the weights of misclassified instances, directing subsequent classifiers to pay more attention to challenging cases.\n",
        "\n",
        "It builds a strong classifier by combining simple models called decision stumps. It adjusts weights to focus on hard-to-classify data and captures non-linear patterns, outperforming linear models in some prediction tasks.\n",
        "\n",
        "**The AdaBoost algorithm follows these steps:**\n",
        "1. Initially, the algorithm assigns equal weights to all observations in the dataset.\n",
        "2. A model is constructed using a subset of the data.\n",
        "3. Predictions are made on the entire dataset using this model.\n",
        "4. The algorithm computes errors by comparing these predictions to the actual values.\n",
        "5. In the subsequent model creation, the algorithm assigns higher weights to incorrectly predicted data points.\n",
        "6. Weights are determined based on error values, where higher errors result in heavier observation weights.\n",
        "7. This iterative process continues until the error function stabilizes or the algorithm reaches the maximum limit of estimators."
      ]
    },
    {
      "cell_type": "markdown",
      "metadata": {
        "id": "zIDlB5Ai1_Rr"
      },
      "source": [
        "### __5.2 Gradient Boosting Algorithm__"
      ]
    },
    {
      "cell_type": "markdown",
      "metadata": {
        "id": "XKNYtSHlF6w_"
      },
      "source": [
        "Gradient boosting refers to a class of ensemble machine learning algorithms that can be used for classification or regression predictive modeling problems.\n",
        "Gradient boosting is also known as gradient tree boosting, stochastic gradient boosting (an extension), and gradient boosting machines, or GBM for short.\n",
        "It produces accurate predictions by combining multiple decision trees into a single model.\n",
        "\n",
        "Gradient boosting is a machine learning technique that combines multiple weak prediction models into a single ensemble. These weak models are typically decision trees, which are trained sequentially to minimize errors and improve accuracy. By combining multiple decision tree regressors or decision tree classifiers, gradient boosting can effectively capture complex relationships between features.\n",
        "\n",
        "**Gradient Boosting involves three main components:**\n",
        "\n",
        "* Loss Function: The choice of loss function depends on the type of problem being solved (e.g., regression, classification). The goal is to find a model that minimizes the loss function.\n",
        "* Weak Learners: Gradient Boosting uses decision trees as the default weak learner. These trees are usually of a fixed size and depth and are created one at a time.\n",
        "* Additive Model: Instead of adjusting the weights of data points like AdaBoost, Gradient Boosting fits new models to the residual errors made by previous models. Essentially, each new model is built on the errors of the whole ensemble so far."
      ]
    },
    {
      "cell_type": "markdown",
      "metadata": {
        "id": "Z0axhlTy1_Rr"
      },
      "source": [
        "#### __5.2.1 XGBoost__"
      ]
    },
    {
      "cell_type": "markdown",
      "metadata": {
        "id": "V6-zlpRIGURL",
        "jp-MarkdownHeadingCollapsed": true
      },
      "source": [
        "XGBoost, or eXtreme Gradient Boosting, stands out as a premier machine learning framework, widely adopted for its proficiency in supervised learning tasks including classification, regression, and ranking. This advanced algorithm builds upon the principles of gradient boosting and is celebrated for its exceptional accuracy and scalability in handling complex predictive modeling challenges. It is an optimized version of Gradient Boosting that uses regularization to prevent overfitting. It is faster, efficient and supports handling both numerical and categorical variables.\n",
        "\n",
        "**XGBoost offers many essential features that make it ideal for classification tasks. Some of the reasons include:**\n",
        "\n",
        "* High performance: As mentioned above, XGBoost is optimized for speed and efficiency, making it appropriate for large datasets and real-time applications.\n",
        "* Regularization methods: L1 (Lasso) and L2 (Ridge) regularisation terms are included in XGBoost to avoid overfitting and increase generalization.\n",
        "* Handle missing data: Moreover, XGBoost can handle missing data automatically, minimizing the need for preprocessing and imputation.\n",
        "\n",
        "\n",
        "- In XGBoost, one-hot encoding is used for multi-class classification problems to transform the categorical target variables into a binary matrix format.\n",
        "- This conversion is crucial for applying gradient boosting techniques effectively, allowing each model iteration to focus on optimizing classification accuracy across potentially many different classes.\n",
        "- XGBoost, along with other gradient boosting methods, enhances model accuracy by optimizing specific loss functions. Logarithmic Loss (**LogLoss**), also known as Cross-Entropy Loss is  used as an evaluation metric for this classification problems.\n"
      ]
    },
    {
      "cell_type": "markdown",
      "metadata": {
        "id": "L7y9VRXf1_Rr"
      },
      "source": [
        "#### __5.2.2 CatBoost__"
      ]
    },
    {
      "cell_type": "markdown",
      "metadata": {
        "id": "ZH5Jli4RE5Kq",
        "jp-MarkdownHeadingCollapsed": true
      },
      "source": [
        "Catboost is a variant of gradient boosting that can handle both categorical and numerical features. It does not require any feature encodings techniques like One-Hot Encoder or Label Encoder to convert categorical features into numerical features."
      ]
    },
    {
      "cell_type": "markdown",
      "metadata": {
        "id": "A461LNxE1_Rr"
      },
      "source": [
        "### __Advantages of Boosting__"
      ]
    },
    {
      "cell_type": "markdown",
      "metadata": {
        "id": "ZBJvTzGCl35H"
      },
      "source": [
        "\n",
        "- It enhances accuracy by reducing both bias and variance significantly.\n",
        "- It is adaptable and compatible with various types of models.\n",
        "- It is efficient in complex scenarios where simple models struggle."
      ]
    },
    {
      "cell_type": "markdown",
      "metadata": {
        "id": "JcXpJhO51_Rr"
      },
      "source": [
        "### __Disadvantages of Boosting__"
      ]
    },
    {
      "cell_type": "markdown",
      "metadata": {
        "id": "ZtTBAqj6l35H"
      },
      "source": [
        "- It is more susceptible to overfitting compared to bagging when dealing with noisy data.\n",
        "- It demands more computational resources as models are trained sequentially.\n",
        "- It requires careful parameter tuning to prevent overfitting."
      ]
    },
    {
      "cell_type": "markdown",
      "metadata": {
        "id": "X5rFwSec1_Rr"
      },
      "source": [
        "### __AdaBoost Classifier - Pima Indians Diabetes Dataset__"
      ]
    },
    {
      "cell_type": "code",
      "execution_count": 26,
      "metadata": {
        "id": "OG9OZ4Rm1_Rr"
      },
      "outputs": [],
      "source": [
        "from sklearn.ensemble import AdaBoostClassifier"
      ]
    },
    {
      "cell_type": "code",
      "execution_count": 29,
      "metadata": {
        "id": "qdQyMDJM1_Rr",
        "outputId": "188b705a-6416-48b3-b54e-09c10c555ebb",
        "colab": {
          "base_uri": "https://localhost:8080/"
        }
      },
      "outputs": [
        {
          "output_type": "stream",
          "name": "stdout",
          "text": [
            "Mean Cross-Validation Score (AdaBoost Classifier):  0.7474087784241142\n",
            "\n",
            "Adaboost Classifier train accuracy:  0.8175895765472313\n",
            "Adaboost Classifier test accuracy:  0.7467532467532467\n"
          ]
        }
      ],
      "source": [
        "# Define K-fold cross-validation\n",
        "kfold = KFold(n_splits=10, random_state=7, shuffle=True)\n",
        "\n",
        "# Create a pipeline for AdaBoost classifier with Decision Tree base estimator, here we are taking 70 weak learners (DTs)\n",
        "adaboost_pipeline = Pipeline([\n",
        "    ('imputer', SimpleImputer(strategy='mean')),\n",
        "    ('scaler', MinMaxScaler(feature_range=(0, 1))),\n",
        "    ('classifier', AdaBoostClassifier(n_estimators=70, random_state=7))\n",
        "])\n",
        "\n",
        "# Evaluate the Adaboost Classifier pipeline using cross-validation on the training set\n",
        "adaboost_results = cross_val_score(adaboost_pipeline, X_train, y_train, cv=kfold)\n",
        "print(\"Mean Cross-Validation Score (AdaBoost Classifier): \", adaboost_results.mean())\n",
        "\n",
        "# Fit the Adaboost Classifier pipeline on the training set and evaluate on the test set\n",
        "adaboost_pipeline.fit(X_train, y_train)\n",
        "\n",
        "# evaluating model on train and test dataset\n",
        "y_pred_train_adaboost = adaboost_pipeline.predict(X_train)\n",
        "y_pred_test_adaboost = adaboost_pipeline.predict(X_test)\n",
        "\n",
        "# Calculate training and testing accuracy\n",
        "adaboost_train_score = adaboost_pipeline.score(X_train, y_train)\n",
        "adaboost_test_score = adaboost_pipeline.score(X_test, y_test)\n",
        "print(\"\\nAdaboost Classifier train accuracy: \", adaboost_train_score)\n",
        "print(\"Adaboost Classifier test accuracy: \", adaboost_test_score)"
      ]
    },
    {
      "cell_type": "code",
      "execution_count": 30,
      "metadata": {
        "id": "dTSWDhUe1_Rr",
        "outputId": "fa9a4b21-3d0f-4871-b540-d40ce61b5bc3",
        "colab": {
          "base_uri": "https://localhost:8080/",
          "height": 610
        }
      },
      "outputs": [
        {
          "output_type": "stream",
          "name": "stdout",
          "text": [
            "              precision    recall  f1-score   support\n",
            "\n",
            "           0       0.82      0.78      0.80        99\n",
            "           1       0.63      0.69      0.66        55\n",
            "\n",
            "    accuracy                           0.75       154\n",
            "   macro avg       0.73      0.73      0.73       154\n",
            "weighted avg       0.75      0.75      0.75       154\n",
            "\n"
          ]
        },
        {
          "output_type": "display_data",
          "data": {
            "text/plain": [
              "<Figure size 640x480 with 2 Axes>"
            ],
            "image/png": "[encoded data removed]"
          },
          "metadata": {}
        }
      ],
      "source": [
        "print(classification_report(y_test,y_pred_test_adaboost))\n",
        "\n",
        "cmap = 'summer'\n",
        "display_labels=['Non diabetic','Diabetic']\n",
        "cm = confusion_matrix(y_test, y_pred_test_adaboost)\n",
        "disp = ConfusionMatrixDisplay(confusion_matrix=cm, display_labels=display_labels)\n",
        "disp.plot(cmap=cmap)\n",
        "plt.show()"
      ]
    },
    {
      "cell_type": "markdown",
      "metadata": {
        "id": "xY1R3XtG1_Rs"
      },
      "source": [
        "### __Gradient Boosting Classifier - Pima Indians Diabetes Dataset__"
      ]
    },
    {
      "cell_type": "code",
      "execution_count": 31,
      "metadata": {
        "id": "Ize-b5hS1_Rs"
      },
      "outputs": [],
      "source": [
        "from sklearn.ensemble import GradientBoostingClassifier"
      ]
    },
    {
      "cell_type": "code",
      "execution_count": 32,
      "metadata": {
        "id": "pvHGd92N1_Rs",
        "outputId": "2dadda7a-cd4b-4a05-87cf-259ad420d957",
        "colab": {
          "base_uri": "https://localhost:8080/"
        }
      },
      "outputs": [
        {
          "output_type": "stream",
          "name": "stdout",
          "text": [
            "Mean Cross-Validation Score (Gradient Boosting Classifier):  0.7721311475409836\n"
          ]
        }
      ],
      "source": [
        "# Define K-fold cross-validation\n",
        "kfold = KFold(n_splits=10, random_state=7, shuffle=True)\n",
        "\n",
        "# Gradient Boosting Classifier\n",
        "gb_pipeline = Pipeline([\n",
        "    ('imputer', SimpleImputer(strategy='mean')),\n",
        "    ('scaler', MinMaxScaler(feature_range=(0, 1))),\n",
        "    ('classifier', GradientBoostingClassifier(n_estimators=100, random_state=7))\n",
        "])\n",
        "\n",
        "# Evaluate the Gradient Boosting Classifier pipeline\n",
        "gb_results = cross_val_score(gb_pipeline, X_train, y_train, cv=kfold)\n",
        "print(\"Mean Cross-Validation Score (Gradient Boosting Classifier): \", gb_results.mean())"
      ]
    },
    {
      "cell_type": "code",
      "execution_count": 33,
      "metadata": {
        "id": "bbcu1Llt1_Rs",
        "outputId": "9c660c34-ef08-4263-83a5-9f47e1fcff64",
        "colab": {
          "base_uri": "https://localhost:8080/"
        }
      },
      "outputs": [
        {
          "output_type": "stream",
          "name": "stdout",
          "text": [
            "Gradient Boosting Classifier train accuracy:  0.9381107491856677\n",
            "Gradient Boosting Classifier test accuracy:  0.7467532467532467\n"
          ]
        }
      ],
      "source": [
        "# Fit the Gradient boosting Classifier pipeline on the training set and evaluate on the test set\n",
        "gb_pipeline.fit(X_train, y_train)\n",
        "\n",
        "# evaluating model on train and test dataset\n",
        "y_pred_train_gb_boost = gb_pipeline.predict(X_train)\n",
        "y_pred_test_gb_boost = gb_pipeline.predict(X_test)\n",
        "\n",
        "# Calculate training and testing accuracy\n",
        "gb_boost_train_score = gb_pipeline.score(X_train, y_train)\n",
        "gb_boost_test_score = gb_pipeline.score(X_test, y_test)\n",
        "\n",
        "print(\"Gradient Boosting Classifier train accuracy: \", gb_boost_train_score)\n",
        "print(\"Gradient Boosting Classifier test accuracy: \", gb_boost_test_score)"
      ]
    },
    {
      "cell_type": "code",
      "execution_count": 34,
      "metadata": {
        "id": "eH0QxK_x1_Rs",
        "outputId": "53209958-adeb-4290-cb59-44e993423cc7",
        "colab": {
          "base_uri": "https://localhost:8080/",
          "height": 610
        }
      },
      "outputs": [
        {
          "output_type": "stream",
          "name": "stdout",
          "text": [
            "              precision    recall  f1-score   support\n",
            "\n",
            "           0       0.81      0.79      0.80        99\n",
            "           1       0.64      0.67      0.65        55\n",
            "\n",
            "    accuracy                           0.75       154\n",
            "   macro avg       0.73      0.73      0.73       154\n",
            "weighted avg       0.75      0.75      0.75       154\n",
            "\n"
          ]
        },
        {
          "output_type": "display_data",
          "data": {
            "text/plain": [
              "<Figure size 640x480 with 2 Axes>"
            ],
            "image/png": "[encoded data removed]"
          },
          "metadata": {}
        }
      ],
      "source": [
        "print(classification_report(y_test,y_pred_test_gb_boost))\n",
        "\n",
        "cmap = 'summer'\n",
        "display_labels=['Non diabetic','Diabetic']\n",
        "cm = confusion_matrix(y_test, y_pred_test_gb_boost)\n",
        "disp = ConfusionMatrixDisplay(confusion_matrix=cm, display_labels=display_labels)\n",
        "disp.plot(cmap=cmap)\n",
        "plt.show()"
      ]
    },
    {
      "cell_type": "markdown",
      "metadata": {
        "id": "qxsQsy8H1_Rs"
      },
      "source": [
        "### __XGBoost Classifier - Pima Indians Diabetes Dataset__"
      ]
    },
    {
      "cell_type": "code",
      "execution_count": 45,
      "metadata": {
        "id": "fkwVTkNf1_Rs"
      },
      "outputs": [],
      "source": [
        "from xgboost import XGBClassifier\n",
        "from sklearn.preprocessing import LabelEncoder"
      ]
    },
    {
      "cell_type": "code",
      "source": [
        "le = LabelEncoder()\n",
        "y = le.fit_transform(y)\n",
        "\n",
        "# Split the data into training and testing sets\n",
        "X_train, X_test, y_train, y_test = train_test_split(X, y, test_size=0.2, random_state=42)"
      ],
      "metadata": {
        "id": "q-pseyUK3ZPT"
      },
      "execution_count": 46,
      "outputs": []
    },
    {
      "cell_type": "code",
      "execution_count": 47,
      "metadata": {
        "id": "I-zhGKLK1_Rs",
        "outputId": "51d96648-2f75-41e1-d09c-c1980b2f6cb4",
        "colab": {
          "base_uri": "https://localhost:8080/"
        }
      },
      "outputs": [
        {
          "output_type": "stream",
          "name": "stdout",
          "text": [
            "Mean Cross-Validation Score (XGBoost Classifier):  0.776969857218403\n"
          ]
        }
      ],
      "source": [
        "# XGBoost Classifier\n",
        "xgb_pipeline = Pipeline([\n",
        "    ('imputer', SimpleImputer(strategy='mean')),\n",
        "    ('scaler', MinMaxScaler(feature_range=(0, 1))),\n",
        "    ('classifier', XGBClassifier(n_estimators=100, random_state=7, eval_metric='logloss'))\n",
        "])\n",
        "\n",
        "# Evaluate the XGBoost Classifier pipeline\n",
        "xgb_results = cross_val_score(xgb_pipeline, X_train, y_train, cv=kfold, error_score=\"raise\")\n",
        "print(\"Mean Cross-Validation Score (XGBoost Classifier): \", xgb_results.mean())"
      ]
    },
    {
      "cell_type": "code",
      "execution_count": 51,
      "metadata": {
        "id": "wy1CuM6r1_Rs",
        "outputId": "5a918e79-23e8-4904-bed7-2312a7ba6d33",
        "colab": {
          "base_uri": "https://localhost:8080/"
        }
      },
      "outputs": [
        {
          "output_type": "stream",
          "name": "stdout",
          "text": [
            "XGBoost Classifier train accuracy:  1.0\n",
            "XGBoost Classifier test accuracy:  0.7077922077922078\n"
          ]
        }
      ],
      "source": [
        "# Fit the Gradient boosting Classifier pipeline on the training set and evaluate on the test set\n",
        "xgb_pipeline.fit(X_train, y_train)\n",
        "\n",
        "# evaluating model on train and test dataset\n",
        "y_pred_train_xgb = xgb_pipeline.predict(X_train)\n",
        "y_pred_test_xgb = xgb_pipeline.predict(X_test)\n",
        "\n",
        "# Calculate training and testing accuracy\n",
        "xgb_train_score = xgb_pipeline.score(X_train, y_train)\n",
        "xgb_test_score = xgb_pipeline.score(X_test, y_test)\n",
        "\n",
        "print(\"XGBoost Classifier train accuracy: \", xgb_train_score)\n",
        "print(\"XGBoost Classifier test accuracy: \", xgb_test_score)"
      ]
    },
    {
      "cell_type": "code",
      "execution_count": 52,
      "metadata": {
        "id": "k448gyyX1_Rs",
        "outputId": "89967d3f-55fe-4c78-a305-be1831ecf493",
        "colab": {
          "base_uri": "https://localhost:8080/",
          "height": 610
        }
      },
      "outputs": [
        {
          "output_type": "stream",
          "name": "stdout",
          "text": [
            "              precision    recall  f1-score   support\n",
            "\n",
            "           0       0.79      0.74      0.76        99\n",
            "           1       0.58      0.65      0.62        55\n",
            "\n",
            "    accuracy                           0.71       154\n",
            "   macro avg       0.69      0.70      0.69       154\n",
            "weighted avg       0.72      0.71      0.71       154\n",
            "\n"
          ]
        },
        {
          "output_type": "display_data",
          "data": {
            "text/plain": [
              "<Figure size 640x480 with 2 Axes>"
            ],
            "image/png": "[encoded data removed]"
          },
          "metadata": {}
        }
      ],
      "source": [
        "print(classification_report(y_test,y_pred_test_xgb))\n",
        "\n",
        "cmap = 'summer'\n",
        "display_labels=['Non diabetic','Diabetic']\n",
        "cm = confusion_matrix(y_test, y_pred_test_xgb)\n",
        "disp = ConfusionMatrixDisplay(confusion_matrix=cm, display_labels=display_labels)\n",
        "disp.plot(cmap=cmap)\n",
        "plt.show()"
      ]
    },
    {
      "cell_type": "markdown",
      "source": [
        "### __CatBoost Classifier - Pima Indians Diabetes Dataset__"
      ],
      "metadata": {
        "id": "JLjjKQ9C6qdS"
      }
    },
    {
      "cell_type": "code",
      "execution_count": 56,
      "metadata": {
        "id": "XbukJxaZ1_Rs"
      },
      "outputs": [],
      "source": [
        "from catboost import CatBoostClassifier\n",
        "from sklearn.preprocessing import LabelEncoder"
      ]
    },
    {
      "cell_type": "code",
      "execution_count": 58,
      "metadata": {
        "id": "KlFKwRyE1_Rs",
        "outputId": "7aea3601-49e1-451d-bed4-9c1088e1eb3b",
        "colab": {
          "base_uri": "https://localhost:8080/"
        }
      },
      "outputs": [
        {
          "output_type": "stream",
          "name": "stdout",
          "text": [
            "Mean Cross-Validation Score (CatBoost Classifier):  0.7557377049180328\n"
          ]
        }
      ],
      "source": [
        "le = LabelEncoder()\n",
        "y = le.fit_transform(y)\n",
        "\n",
        "# Split the data into training and testing sets\n",
        "X_train, X_test, y_train, y_test = train_test_split(X, y, test_size=0.2, random_state=42)\n",
        "\n",
        "\n",
        "# CatBoost Classifier\n",
        "cat_pipeline = Pipeline([\n",
        "    ('imputer', SimpleImputer(strategy='mean')),\n",
        "    ('scaler', MinMaxScaler(feature_range=(0, 1))),\n",
        "    ('classifier', CatBoostClassifier(n_estimators=100, random_state=7, verbose=0))\n",
        "])\n",
        "\n",
        "# Evaluate the CatBoost Classifier pipeline using cross-validation on the training set\n",
        "cat_cv_results = cross_val_score(cat_pipeline, X_train, y_train, cv=kfold)\n",
        "print(\"Mean Cross-Validation Score (CatBoost Classifier): \", cat_cv_results.mean())"
      ]
    },
    {
      "cell_type": "code",
      "execution_count": 59,
      "metadata": {
        "id": "YweEcXAc1_Rs",
        "outputId": "f3273d2d-2f68-4c10-a281-5e7d09609f6f",
        "colab": {
          "base_uri": "https://localhost:8080/"
        }
      },
      "outputs": [
        {
          "output_type": "stream",
          "name": "stdout",
          "text": [
            "CatBoost Classifier train accuracy:  0.8534201954397395\n",
            "CatBoost Classifier test accuracy:  0.7662337662337663\n"
          ]
        }
      ],
      "source": [
        "# Fit the CatBoost Classifier pipeline on the training set and evaluate on the test set\n",
        "cat_pipeline.fit(X_train, y_train)\n",
        "\n",
        "# evaluating model on train and test dataset\n",
        "y_pred_train_catb = cat_pipeline.predict(X_train)\n",
        "y_pred_test_catb = cat_pipeline.predict(X_test)\n",
        "\n",
        "# Calculate training and testing accuracy\n",
        "cat_train_score = cat_pipeline.score(X_train, y_train)\n",
        "cat_test_score = cat_pipeline.score(X_test, y_test)\n",
        "\n",
        "print(\"CatBoost Classifier train accuracy: \", cat_train_score)\n",
        "print(\"CatBoost Classifier test accuracy: \", cat_test_score)"
      ]
    },
    {
      "cell_type": "code",
      "execution_count": 60,
      "metadata": {
        "id": "Ok2TmPWe1_Rs",
        "outputId": "73f6e992-7583-4123-fb93-efda89c675fd",
        "colab": {
          "base_uri": "https://localhost:8080/",
          "height": 616
        }
      },
      "outputs": [
        {
          "output_type": "stream",
          "name": "stdout",
          "text": [
            "              precision    recall  f1-score   support\n",
            "\n",
            "           0       0.82      0.81      0.82        99\n",
            "           1       0.67      0.69      0.68        55\n",
            "\n",
            "    accuracy                           0.77       154\n",
            "   macro avg       0.75      0.75      0.75       154\n",
            "weighted avg       0.77      0.77      0.77       154\n",
            "\n"
          ]
        },
        {
          "output_type": "display_data",
          "data": {
            "text/plain": [
              "<Figure size 640x480 with 2 Axes>"
            ],
            "image/png": "[encoded data removed]"
          },
          "metadata": {}
        }
      ],
      "source": [
        "print(classification_report(y_test,y_pred_test_catb))\n",
        "\n",
        "cmap = 'summer'\n",
        "display_labels=['Non diabetic','Diabetic']\n",
        "cm = confusion_matrix(y_test, y_pred_test_catb)\n",
        "disp = ConfusionMatrixDisplay(confusion_matrix=cm, display_labels=display_labels)\n",
        "disp.plot(cmap=cmap)\n",
        "plt.show()"
      ]
    },
    {
      "cell_type": "code",
      "source": [],
      "metadata": {
        "id": "7270xuuH7Dm8"
      },
      "execution_count": null,
      "outputs": []
    },
    {
      "cell_type": "code",
      "source": [],
      "metadata": {
        "id": "CImYDqBr7DpX"
      },
      "execution_count": null,
      "outputs": []
    },
    {
      "cell_type": "code",
      "source": [],
      "metadata": {
        "id": "JSGFc9nk7DrY"
      },
      "execution_count": null,
      "outputs": []
    },
    {
      "cell_type": "code",
      "source": [],
      "metadata": {
        "id": "JLbWP7UN7DtH"
      },
      "execution_count": null,
      "outputs": []
    },
    {
      "cell_type": "code",
      "source": [],
      "metadata": {
        "id": "RXX5tDhJ7DvO"
      },
      "execution_count": null,
      "outputs": []
    },
    {
      "cell_type": "code",
      "source": [],
      "metadata": {
        "id": "rDbgfYUw7Dyi"
      },
      "execution_count": null,
      "outputs": []
    },
    {
      "cell_type": "markdown",
      "metadata": {
        "id": "G1R4WJ0TEV-h",
        "jp-MarkdownHeadingCollapsed": true
      },
      "source": [
        "#### **Implementation of Adaboost Classifier using a breast cancer classification dataset**"
      ]
    },
    {
      "cell_type": "code",
      "execution_count": null,
      "metadata": {
        "id": "tvOTgg871_Rs"
      },
      "outputs": [],
      "source": [
        "# Import necessary libraries\n",
        "import pandas as pd\n",
        "import numpy as np\n",
        "from sklearn.impute import SimpleImputer\n",
        "from sklearn.preprocessing import MinMaxScaler\n",
        "from sklearn.model_selection import train_test_split\n",
        "from sklearn.pipeline import Pipeline\n",
        "from sklearn.model_selection import KFold, cross_val_score\n",
        "from sklearn.ensemble import AdaBoostClassifier\n",
        "from sklearn.ensemble import BaggingClassifier\n",
        "from sklearn.tree import DecisionTreeClassifier"
      ]
    },
    {
      "cell_type": "code",
      "execution_count": null,
      "metadata": {
        "id": "JcA6Oy36Dzs_"
      },
      "outputs": [],
      "source": [
        "# Load the dataset from the given URL and assign column names\n",
        "data = pd.read_csv('https://archive.ics.uci.edu/ml/machine-learning-databases/breast-cancer-wisconsin/breast-cancer-wisconsin.data', header=None)\n",
        "data.columns = ['Sample code', 'Clump Thickness', 'Uniformity of Cell Size', 'Uniformity of Cell Shape',\n",
        "                'Marginal Adhesion', 'Single Epithelial Cell Size', 'Bare Nuclei', 'Bland Chromatin',\n",
        "                'Normal Nucleoli', 'Mitoses','Class']"
      ]
    },
    {
      "cell_type": "code",
      "execution_count": null,
      "metadata": {
        "id": "Qj1z1pofLuPp"
      },
      "outputs": [],
      "source": [
        "# Drop the 'Sample code' column as it's not required for prediction\n",
        "data.drop(['Sample code'], axis=1, inplace=True)\n",
        "\n",
        "# Replace '?' with nan to handle missing data, ensuring numerical analysis accuracy and preventing calculation errors.\n",
        "data = data.replace('?', np.nan)"
      ]
    },
    {
      "cell_type": "code",
      "execution_count": null,
      "metadata": {
        "id": "j7yde7n-P_vZ"
      },
      "outputs": [],
      "source": [
        "# Replace class values to be binary (2 for benign, 4 for malignant)\n",
        "data['Class'] = data['Class'].replace({2: 0, 4: 1})"
      ]
    },
    {
      "cell_type": "code",
      "execution_count": null,
      "metadata": {
        "id": "sa-dH2XyLuPq"
      },
      "outputs": [],
      "source": [
        "# Convert the 'Bare Nuclei' column to an integer type to ensure a uniform data type across the column,\n",
        "# which is essential for consistent data manipulation and analysis.\n",
        "data['Bare Nuclei'] = pd.to_numeric(data['Bare Nuclei']).fillna(0).astype('int64')"
      ]
    },
    {
      "cell_type": "markdown",
      "metadata": {
        "id": "AqCqVRN1E8K2"
      },
      "source": [
        "- A SimpleImputer handles missing values in a dataset by imputing (i.e., filling in) the missing values with a specified statistic, such as the mean, median, or most frequent value of the respective feature.\n",
        "- This is important because missing values can disrupt the analysis and modeling process, leading to biased results or errors in predictive models.\n",
        "- Imputation helps maintain the integrity and completeness of the dataset, ensuring that the analysis or modeling algorithms can effectively utilize the available data for accurate insights or predictions."
      ]
    },
    {
      "cell_type": "code",
      "execution_count": null,
      "metadata": {
        "id": "KC8hoEV_E0dg"
      },
      "outputs": [],
      "source": [
        "# Split data into features (X) and target variable (y)\n",
        "X = data.drop('Class', axis=1)\n",
        "y = data['Class']"
      ]
    },
    {
      "cell_type": "code",
      "execution_count": null,
      "metadata": {
        "id": "mhkCiWGuL_bq"
      },
      "outputs": [],
      "source": [
        "# Split the data into training and testing sets\n",
        "X_train, X_test, y_train, y_test = train_test_split(X, y, test_size=0.2, random_state=7)\n"
      ]
    },
    {
      "cell_type": "code",
      "execution_count": null,
      "metadata": {
        "colab": {
          "base_uri": "https://localhost:8080/"
        },
        "id": "O-ZSeeBGMDFn",
        "outputId": "fe80aceb-06c1-4d18-acb0-74a4b88b131f"
      },
      "outputs": [
        {
          "name": "stdout",
          "output_type": "stream",
          "text": [
            "AdaBoost Classifier mean accuracy:  0.9534740259740259\n",
            "\n",
            "Adaboost Classifier train accuracy:  0.9731663685152058\n",
            "Adaboost Classifier test accuracy:  0.9571428571428572\n"
          ]
        }
      ],
      "source": [
        "# Define K-fold cross-validation\n",
        "kfold = KFold(n_splits=10, random_state=7, shuffle=True)\n",
        "\n",
        "# Create a pipeline for AdaBoost classifier with Decision Tree base estimator\n",
        "adaboost_pipeline = Pipeline([\n",
        "    ('imputer', SimpleImputer(strategy='mean')),\n",
        "    ('scaler', MinMaxScaler(feature_range=(0, 1))),\n",
        "    ('classifier', AdaBoostClassifier(n_estimators=70, random_state=7, algorithm='SAMME'))\n",
        "])\n",
        "\n",
        "# Evaluate the Adaboost Classifier pipeline using cross-validation on the training set\n",
        "adaboost_results = cross_val_score(adaboost_pipeline, X_train, y_train, cv=kfold)\n",
        "print(\"AdaBoost Classifier mean accuracy: \", adaboost_results.mean())\n",
        "\n",
        "# Fit the Adaboost Classifier pipeline on the training set and evaluate on the test set\n",
        "adaboost_pipeline.fit(X_train, y_train)\n",
        "\n",
        "# evaluating model on train and test dataset\n",
        "y_pred_train_adaboost = adaboost_pipeline.predict(X_train)\n",
        "y_pred_test_adaboost = adaboost_pipeline.predict(X_test)\n",
        "\n",
        "adaboost_train_score = adaboost_pipeline.score(X_train, y_train)\n",
        "adaboost_test_score = adaboost_pipeline.score(X_test, y_test)\n",
        "print(\"\\nAdaboost Classifier train accuracy: \", adaboost_train_score)\n",
        "print(\"Adaboost Classifier test accuracy: \", adaboost_test_score)\n"
      ]
    },
    {
      "cell_type": "code",
      "execution_count": null,
      "metadata": {
        "colab": {
          "base_uri": "https://localhost:8080/",
          "height": 675
        },
        "id": "kj75Zhg8PIwJ",
        "outputId": "ac187e56-9b3f-4b11-db51-10f122ba08c9"
      },
      "outputs": [
        {
          "name": "stdout",
          "output_type": "stream",
          "text": [
            "Classification report\n",
            "              precision    recall  f1-score   support\n",
            "\n",
            "           0       0.96      0.98      0.97        91\n",
            "           1       0.96      0.92      0.94        49\n",
            "\n",
            "    accuracy                           0.96       140\n",
            "   macro avg       0.96      0.95      0.95       140\n",
            "weighted avg       0.96      0.96      0.96       140\n",
            "\n",
            "\n",
            "Confusion matrix\n"
          ]
        },
        {
          "data": {
            "image/png": "[encoded data removed]",
            "text/plain": [
              "<Figure size 640x480 with 2 Axes>"
            ]
          },
          "metadata": {},
          "output_type": "display_data"
        }
      ],
      "source": [
        "print('Classification report')\n",
        "print(classification_report(y_test,y_pred_test_adaboost))\n",
        "\n",
        "print('\\nConfusion matrix')\n",
        "cmap = 'summer'\n",
        "display_labels=['Benign','Malignant']\n",
        "cm = confusion_matrix(y_test,y_pred_test_adaboost)\n",
        "disp = ConfusionMatrixDisplay(confusion_matrix=cm, display_labels=display_labels)\n",
        "disp.plot(cmap=cmap)\n",
        "plt.show()"
      ]
    },
    {
      "cell_type": "markdown",
      "metadata": {
        "id": "owZskOIvHJ5R"
      },
      "source": [
        "### **Implementation of XGBoost, Gradient Boost and CatBoost Algorithm:**"
      ]
    },
    {
      "cell_type": "code",
      "execution_count": null,
      "metadata": {
        "id": "QItOj6EvN_oM"
      },
      "outputs": [],
      "source": [
        "# Import necessary libraries\n",
        "# Import necessary libraries\n",
        "import pandas as pd\n",
        "import numpy as np\n",
        "from sklearn.impute import SimpleImputer\n",
        "from sklearn.preprocessing import MinMaxScaler\n",
        "from sklearn.pipeline import Pipeline\n",
        "from sklearn.model_selection import KFold, cross_val_score, train_test_split\n",
        "from sklearn.ensemble import GradientBoostingClassifier\n",
        "from xgboost import XGBClassifier\n",
        "from catboost import CatBoostClassifier\n",
        "\n",
        "# Load the dataset from the given URL and assign column names\n",
        "data = pd.read_csv('https://archive.ics.uci.edu/ml/machine-learning-databases/breast-cancer-wisconsin/breast-cancer-wisconsin.data', header=None)\n",
        "data.columns = ['Sample code', 'Clump Thickness', 'Uniformity of Cell Size', 'Uniformity of Cell Shape',\n",
        "                'Marginal Adhesion', 'Single Epithelial Cell Size', 'Bare Nuclei', 'Bland Chromatin',\n",
        "                'Normal Nucleoli', 'Mitoses','Class']"
      ]
    },
    {
      "cell_type": "code",
      "execution_count": null,
      "metadata": {
        "id": "RWqHZrLxN_oN"
      },
      "outputs": [],
      "source": [
        "# Drop the 'Sample code' column as it's not required for prediction\n",
        "data.drop(['Sample code'], axis=1, inplace=True)\n",
        "\n",
        "# Replace '?' with nan to handle missing data, ensuring numerical analysis accuracy and preventing calculation errors.\n",
        "data = data.replace('?', np.nan)"
      ]
    },
    {
      "cell_type": "code",
      "execution_count": null,
      "metadata": {
        "id": "IZKoN_FIQbL0"
      },
      "outputs": [],
      "source": [
        "# Replace class values to be binary (2 for benign, 4 for malignant)\n",
        "data['Class'] = data['Class'].replace({2: 0, 4: 1})"
      ]
    },
    {
      "cell_type": "code",
      "execution_count": null,
      "metadata": {
        "id": "vkRxuK9lN_oN"
      },
      "outputs": [],
      "source": [
        "# Convert the 'Bare Nuclei' column to an integer type to ensure a uniform data type across the column,\n",
        "# which is essential for consistent data manipulation and analysis.\n",
        "data['Bare Nuclei'] = pd.to_numeric(data['Bare Nuclei']).fillna(0).astype('int64')"
      ]
    },
    {
      "cell_type": "code",
      "execution_count": null,
      "metadata": {
        "id": "qUS5ArjFG9W2"
      },
      "outputs": [],
      "source": [
        "# Split data into features (X) and target variable (y)\n",
        "X = data.drop('Class', axis=1)\n",
        "y = data['Class']\n",
        "\n",
        "# Split the data into training and testing sets\n",
        "X_train, X_test, y_train, y_test = train_test_split(X, y, test_size=0.2, random_state=7)\n",
        "\n",
        "# Define K-fold cross-validation\n",
        "kfold = KFold(n_splits=10, random_state=7, shuffle=True)\n"
      ]
    },
    {
      "cell_type": "code",
      "execution_count": null,
      "metadata": {
        "id": "V_vo60Z2OpIe"
      },
      "outputs": [],
      "source": [
        "# Gradient Boosting Classifier\n",
        "gb_pipeline = Pipeline([\n",
        "    ('imputer', SimpleImputer(strategy='mean')),\n",
        "    ('scaler', MinMaxScaler(feature_range=(0, 1))),\n",
        "    ('classifier', GradientBoostingClassifier(n_estimators=100, random_state=7))\n",
        "])\n",
        "\n",
        "# Evaluate the Gradient Boosting Classifier pipeline\n",
        "gb_results = cross_val_score(gb_pipeline, X_train, y_train, cv=kfold)\n",
        "print(\"Gradient Boosting Classifier mean accuracy after cross validation: \", gb_results.mean())"
      ]
    },
    {
      "cell_type": "code",
      "execution_count": null,
      "metadata": {
        "id": "ctGIP3YfOrTA"
      },
      "outputs": [],
      "source": [
        "# Fit the Gradient boosting Classifier pipeline on the training set and evaluate on the test set\n",
        "gb_pipeline.fit(X_train, y_train)\n",
        "gb_boost_test_score = gb_pipeline.score(X_test, y_test)\n",
        "print(\"Gradient Boosting Classifier test accuracy: \", gb_boost_test_score)"
      ]
    },
    {
      "cell_type": "code",
      "execution_count": null,
      "metadata": {
        "id": "eNHcB9z3RGoQ"
      },
      "outputs": [],
      "source": [
        "# fitting  and evaluating Boosting classifier model in training and test dataset\n",
        "\n",
        "print('___________________________Gradient Boosting Classifier_______________________')\n",
        "print()\n",
        "# evaluating model on test dataset\n",
        "y_pred = gb_pipeline.predict(X_test)\n",
        "print('# Classification report')\n",
        "print(classification_report(y_test,y_pred))\n",
        "print('# Confusion matrix')\n",
        "cmap = 'summer'\n",
        "display_labels=['Benign','Malignant']\n",
        "cm = confusion_matrix(y_test,y_pred)\n",
        "disp = ConfusionMatrixDisplay(confusion_matrix=cm, display_labels=display_labels)\n",
        "disp.plot(cmap=cmap)\n",
        "plt.show()"
      ]
    },
    {
      "cell_type": "markdown",
      "metadata": {
        "id": "7NJBObmGH8AI"
      },
      "source": []
    },
    {
      "cell_type": "code",
      "execution_count": null,
      "metadata": {
        "id": "qGi8HrMaHkxo"
      },
      "outputs": [],
      "source": [
        "from sklearn.preprocessing import LabelEncoder\n",
        "le = LabelEncoder()\n",
        "y = le.fit_transform(y)\n",
        "\n",
        "# Split the data into training and testing sets\n",
        "X_train, X_test, y_train, y_test = train_test_split(X, y, test_size=0.2, random_state=7)\n",
        "\n",
        "# XGBoost Classifier\n",
        "xgb_pipeline = Pipeline([\n",
        "    ('imputer', SimpleImputer(strategy='mean')),\n",
        "    ('scaler', MinMaxScaler(feature_range=(0, 1))),\n",
        "    ('classifier', XGBClassifier(n_estimators=100, random_state=7, use_label_encoder=True, eval_metric='logloss'))\n",
        "])\n",
        "\n",
        "# Evaluate the XGBoost Classifier pipeline\n",
        "xgb_results = cross_val_score(xgb_pipeline, X_train, y_train, cv=kfold, error_score=\"raise\")\n",
        "print(\"XGBoost Classifier mean accuracy: \", xgb_results.mean())\n",
        "\n",
        "# Fit the Gradient boosting Classifier pipeline on the training set and evaluate on the test set\n",
        "xgb_pipeline.fit(X_train, y_train)\n",
        "xgb_test_score = xgb_pipeline.score(X_test, y_test)\n",
        "print(\"XGBoost Classifier test accuracy: \", xgb_test_score)\n",
        "print()\n",
        "# CatBoost Classifier\n",
        "cat_pipeline = Pipeline([\n",
        "    ('imputer', SimpleImputer(strategy='mean')),\n",
        "    ('scaler', MinMaxScaler(feature_range=(0, 1))),\n",
        "    ('classifier', CatBoostClassifier(n_estimators=100, random_state=7, verbose=0))\n",
        "])\n",
        "\n",
        "# Evaluate the CatBoost Classifier pipeline using cross-validation on the training set\n",
        "cat_cv_results = cross_val_score(cat_pipeline, X_train, y_train, cv=kfold)\n",
        "print(\"CatBoost Classifier CV mean accuracy: \", cat_cv_results.mean())\n",
        "\n",
        "# Fit the CatBoost Classifier pipeline on the training set and evaluate on the test set\n",
        "cat_pipeline.fit(X_train, y_train)\n",
        "cat_test_score = cat_pipeline.score(X_test, y_test)\n",
        "print(\"CatBoost Classifier test accuracy: \", cat_test_score)\n"
      ]
    },
    {
      "cell_type": "code",
      "execution_count": null,
      "metadata": {
        "id": "K_o70u4NRVNS"
      },
      "outputs": [],
      "source": [
        "# fitting  and evaluating Boosting classifier model in training and test dataset\n",
        "\n",
        "print('___________________________XGBoost Classifier_______________________')\n",
        "print()\n",
        "# evaluating model on test dataset\n",
        "y_pred = xgb_pipeline.predict(X_test)\n",
        "print('# Classification report')\n",
        "print(classification_report(y_test,y_pred))\n",
        "print('# Confusion matrix')\n",
        "cmap = 'summer'\n",
        "display_labels=['Benign','Malignant']\n",
        "cm = confusion_matrix(y_test,y_pred)\n",
        "disp = ConfusionMatrixDisplay(confusion_matrix=cm, display_labels=display_labels)\n",
        "disp.plot(cmap=cmap)\n",
        "plt.show()"
      ]
    },
    {
      "cell_type": "code",
      "execution_count": null,
      "metadata": {
        "id": "QmMuGFwBRvAz"
      },
      "outputs": [],
      "source": [
        "# fitting  and evaluating Boosting classifier model in training and test dataset\n",
        "\n",
        "print('___________________________CatBoost Classifier_______________________')\n",
        "print()\n",
        "# evaluating model on test dataset\n",
        "y_pred = cat_pipeline.predict(X_test)\n",
        "print('# Classification report')\n",
        "print(classification_report(y_test,y_pred))\n",
        "print('# Confusion matrix')\n",
        "cmap = 'summer'\n",
        "display_labels=['Benign','Malignant']\n",
        "cm = confusion_matrix(y_test,y_pred)\n",
        "disp = ConfusionMatrixDisplay(confusion_matrix=cm, display_labels=display_labels)\n",
        "disp.plot(cmap=cmap)\n",
        "plt.show()"
      ]
    },
    {
      "cell_type": "markdown",
      "metadata": {
        "id": "ISzmy1N4l35H"
      },
      "source": [
        "### __4.3 Stacking__"
      ]
    },
    {
      "cell_type": "markdown",
      "metadata": {
        "id": "UFdDShzal35I"
      },
      "source": [
        "Stacking combines multiple classification or regression models via a meta model which could be a meta-classifier or a meta-regressor. After training the base models on the complete dataset, the meta-model trains on the base models' outputs as features, to give final prediction.\n",
        "\n",
        "This technique leverages the strengths of each base model and can achieve higher accuracy.\n",
        "\n",
        "* In stacking, as opposed to bagging, a variety of models (not solely decision trees) are employed, all of which are trained on the same full dataset rather than on subsets.\n",
        "* Unlike boosting, in stacking, a single model is used to learn how to best combine the predictions from the contributing models (e.g. instead of a sequence of models that correct the predictions of prior models)."
      ]
    },
    {
      "cell_type": "markdown",
      "metadata": {
        "id": "c91jJx3ml35I"
      },
      "source": [
        "\n",
        "![link text](https://labcontent.simplicdn.net/data-content/content-assets/Data_and_AI/ML/updated/Lesson_05/image7.png)"
      ]
    },
    {
      "cell_type": "markdown",
      "metadata": {
        "id": "Tld9diA9l35I"
      },
      "source": [
        "__Note:__ The numbering shown in the above image specifically outlines the workflow for stacking."
      ]
    },
    {
      "cell_type": "markdown",
      "metadata": {
        "id": "FfLBZ8lTl35I"
      },
      "source": [
        "- Stacking aims to leverage the advantages of different base models by inputting their predictions into a meta-model.\n",
        "\n",
        "The structure of a stacking model consists of multiple base models, also known as level-0 models, alongside a meta-model that integrates their predictions, known as the level-1 model.\n",
        "\n",
        "* Level-0 Models (**Base Models**): These models are trained on the full training dataset, and their individual predictions are aggregated.\n",
        "* Level-1 Model (**Meta-Model**): This model is designed to optimally combine the predictions of multiple base models to generate the final prediction.\n"
      ]
    },
    {
      "cell_type": "code",
      "execution_count": null,
      "metadata": {
        "id": "usaORpXSl35I"
      },
      "outputs": [],
      "source": [
        "# Import Required Libraries\n",
        "# vecstack: is Python package for stacking\n",
        "!pip install vecstack"
      ]
    },
    {
      "cell_type": "code",
      "execution_count": null,
      "metadata": {
        "id": "TyQx0mmNTZ4h"
      },
      "outputs": [],
      "source": [
        "# Import necessary libraries like pandas, sklearn and vecstack\n",
        "import pandas as pd\n",
        "from sklearn.model_selection import train_test_split\n",
        "from sklearn.neighbors import KNeighborsClassifier\n",
        "from sklearn.ensemble import RandomForestClassifier\n",
        "from xgboost import XGBClassifier\n",
        "from sklearn.linear_model import LogisticRegression\n",
        "from sklearn.metrics import accuracy_score\n",
        "from vecstack import stacking\n",
        "from sklearn.preprocessing import LabelEncoder\n",
        "\n",
        "\n",
        "# Define the URL of the dataset\n",
        "link = 'https://archive.ics.uci.edu/ml/machine-learning-databases/wine/wine.data'\n",
        "\n",
        "# Define column names for the dataset\n",
        "names = ['Class', 'Alcohol', 'Malic acid', 'Ash',\n",
        "         'Alkalinity of ash', 'Magnesium', 'Total phenols',\n",
        "         'Flavanoids', 'Nonflavanoid phenols', 'Proanthocyanins',\n",
        "         'Color intensity', 'Hue', 'OD280/OD315 of diluted wines',\n",
        "         'Proline']\n",
        "\n",
        "# Read the dataset into a DataFrame\n",
        "df = pd.read_csv(link, header=None, names=names)\n",
        "\n",
        "# Separate features and target variable\n",
        "X = df.drop('Class', axis=1)\n",
        "y = df['Class']\n",
        "\n",
        "\n",
        "# Initialize LabelEncoder\n",
        "le = LabelEncoder()\n",
        "\n",
        "# Transform target variable y_train using LabelEncoder\n",
        "y = le.fit_transform(y)\n"
      ]
    },
    {
      "cell_type": "markdown",
      "metadata": {
        "id": "pPGCUEB-Qp3t"
      },
      "source": [
        "- `stacking` in `vecstack` allows for custom cross-validation strategies, including stratified k-fold cross-validation, shuffling, and setting random seeds for reproducibility.\n",
        "- This feature provides more control over model training and evaluation\n",
        "- `vecstack` explicitly generates out-of-fold predictions for the training data, which can be used as features for the meta-model. This process can help in preventing overfitting and providing a robust estimate of model performance."
      ]
    },
    {
      "cell_type": "code",
      "execution_count": null,
      "metadata": {
        "id": "MrXd18kITvw_"
      },
      "outputs": [],
      "source": [
        "# Split the dataset into training and testing sets\n",
        "X_train, X_test, y_train, y_test = train_test_split(X, y, test_size=0.2, random_state=42)\n",
        "\n",
        "# Define base models\n",
        "models = [KNeighborsClassifier(n_neighbors=5),\n",
        "          RandomForestClassifier(n_estimators=100, random_state=42),\n",
        "          XGBClassifier(use_label_encoder=False, eval_metric='mlogloss')\n",
        "]\n",
        "\n",
        "# Define meta-model\n",
        "meta_model = LogisticRegression(max_iter=1000)"
      ]
    },
    {
      "cell_type": "markdown",
      "metadata": {
        "id": "G_x-axHZl35J"
      },
      "source": [
        "__Observation:__\n",
        "- The different classifiers such as KNN, Random forest and XGBoost classifier are set as the base models.\n",
        "- As the Meta model, Logistic Regression is chosen. Logistic Regression is a common choice for a meta-model in stacking because it is a simple and interpretable linear model that often performs well in combining the outputs of diverse base models."
      ]
    },
    {
      "cell_type": "markdown",
      "metadata": {
        "id": "Sh9mmgV0l35J"
      },
      "source": [
        "__S Train__ refers to a subset of the original training data used for training base models in a stacking ensemble.\n",
        "\n",
        "__S Test__ is another subset used to generate base model predictions, serving as input for the meta-model. It is crucial for generating predictions from these base models, which then act as new features for the meta-model.\n",
        "\n",
        "This two-step approach allows the ensemble to capture and leverage the unique strengths of each base model, thus improving overall predictive performance."
      ]
    },
    {
      "cell_type": "markdown",
      "metadata": {
        "id": "DtiyyVxIl35J"
      },
      "source": [
        "- Let us do the S_train and S_tests, as you will be stacking the models by passing train of X and y."
      ]
    },
    {
      "cell_type": "code",
      "execution_count": null,
      "metadata": {
        "id": "uUAEPzcqUpxt"
      },
      "outputs": [],
      "source": [
        "# Perform stacking\n",
        "S_train, S_test = stacking(models, X_train, y_train, X_test,\n",
        "                           regression=False, metric=accuracy_score,\n",
        "                           n_folds=5, stratified=True, shuffle=True,\n",
        "                           random_state=42, verbose=2)\n",
        "\n",
        "# Train the meta-model\n",
        "meta_model.fit(S_train, y_train)\n",
        "\n",
        "# Make predictions with the meta-model\n",
        "y_pred = meta_model.predict(S_test)\n",
        "\n",
        "# # Evaluate the model\n",
        "accuracy = accuracy_score(y_test, y_pred)\n",
        "print(f'Accuracy of the stacking ensemble with Logistic Regression as meta-model: {accuracy:.2f}')"
      ]
    },
    {
      "cell_type": "markdown",
      "metadata": {
        "id": "gsDTQvjul35K"
      },
      "source": [
        "__Observations:__\n",
        "\n",
        " You can observe the accuracy score and other metrics for different base models:\n",
        "- For the k-nearest neighbor classifier, the mean accuracy is 70%.\n",
        "- For the random forest, the mean accuracy is 97%.\n",
        "- For the XGBoost classifier, the mean accuracy is 95%.\n",
        "\n",
        "**Accuracy of the stacking ensemble with Logistic regression as the Meta-model: 97%**"
      ]
    },
    {
      "cell_type": "markdown",
      "metadata": {
        "id": "OpzS7tiBl35K"
      },
      "source": [
        "### __4.3.1 Advantages of Stacking__\n",
        "\n",
        "- Accomplishes greater accuracy than simplistic ensemble techniques\n",
        "- Enables diversity among models\n",
        "- Possesses the capability to rectify errors made by base models"
      ]
    },
    {
      "cell_type": "markdown",
      "metadata": {
        "id": "2ByfVEgtl35K"
      },
      "source": [
        "### __4.3.2 Disadvantages of Stacking__\n",
        "\n",
        "- Is more challenging to implement and comprehend\n",
        "- Poses a risk of overfitting the meta-model\n",
        "- Requires careful selection of both base and meta-models\n",
        "\n"
      ]
    },
    {
      "cell_type": "markdown",
      "metadata": {
        "id": "L0a5ej7Ul35Q"
      },
      "source": [
        "## __Conclusion__\n",
        "\n",
        "This lesson explores various ensemble learning techniques and emphasizes their significance in enhancing the performance of machine learning models. Through examples and practical implementations, this lesson underscores the pivotal role of ensemble learning in achieving more reliable and accurate predictions across diverse applications.\n",
        "\n",
        "Specifically, these methods excel in transforming weaker classifiers into robust systems, thereby significantly increasing the performance in classification challenges."
      ]
    }
  ],
  "metadata": {
    "colab": {
      "provenance": []
    },
    "kernelspec": {
      "display_name": "Python [conda env:base] *",
      "language": "python",
      "name": "conda-base-py"
    },
    "language_info": {
      "codemirror_mode": {
        "name": "ipython",
        "version": 3
      },
      "file_extension": ".py",
      "mimetype": "text/x-python",
      "name": "python",
      "nbconvert_exporter": "python",
      "pygments_lexer": "ipython3",
      "version": "3.12.7"
    }
  },
  "nbformat": 4,
  "nbformat_minor": 0
}