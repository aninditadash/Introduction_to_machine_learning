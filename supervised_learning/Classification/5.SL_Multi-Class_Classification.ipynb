{
 "cells": [
  {
   "cell_type": "markdown",
   "metadata": {
    "id": "054auVR2wAYg"
   },
   "source": [
    "# __Supervised Learning: Multiclass Classification__"
   ]
  },
  {
   "cell_type": "markdown",
   "metadata": {
    "id": "1TOzA3tD2LMT"
   },
   "source": [
    "Multiclass classification is a type of classification task that involves classifying instances into one of three or more classes. Unlike binary classification, which deals with two classes, multiclass classification can handle problems where an instance can belong to multiple categories.\n",
    "\n",
    "**Example:** A tree can be classified as a banyan tree, a palm tree, a pine tree, or an oak tree.\n",
    "\n",
    "Some of the popular algorithms used for multi-class classification are:\n",
    "\n",
    "- Naive Bayes\n",
    "- K-Nearest Neighbors\n",
    "- Decision Trees\n",
    "- Random Forest\n",
    "\n",
    "**Note:** Classification algorthims come under `discriminative algorithms`."
   ]
  },
  {
   "cell_type": "markdown",
   "metadata": {},
   "source": [
    "## __Online Gaming Behavior Dataset__"
   ]
  },
  {
   "cell_type": "markdown",
   "metadata": {},
   "source": [
    "### __Dataset Description:__"
   ]
  },
  {
   "cell_type": "markdown",
   "metadata": {
    "id": "QcQRn5Yz0Bb3"
   },
   "source": [
    "The **Online Gaming Behavior** dataset on Kaggle is designed to analyze and predict players' behaviors in online gaming. It includes data on various aspects such as player identification, session duration, in-game actions, and purchases. The dataset comprises several features that capture player activities and interactions within the game environment, providing a rich source of information for developing predictive models. This data can be leveraged to understand player engagement, forecast future behavior, and tailor strategies to enhance user experience and retention.\n",
    "\n",
    "**Number of Instances:** 40034\n",
    "\n",
    "**Number of Attributes:** 13\n",
    "\n",
    "**Attribute Information:**\n",
    "\n",
    "- **PlayerID:** Unique identifier for each player.\n",
    "- **Age:** Age of the player.\n",
    "- **Gender:** Gender of the player.\n",
    "- **Location:** Geographic location of the player.\n",
    "- **GameGenre:** Genre of the game the player is engaged in.\n",
    "- **PlayTimeHours:** Average hours spent playing per session.\n",
    "- **InGamePurchases:** Indicates whether the player makes in-game purchases (0 = No, 1 = Yes).\n",
    "- **GameDifficulty:** Difficulty level of the game.\n",
    "- **SessionsPerWeek:** Number of gaming sessions per week.\n",
    "- **AvgSessionDurationMinutes:** Average duration of each gaming session in minutes.\n",
    "- **PlayerLevel:** Current level of the player in the game.\n",
    "- **AchievementsUnlocked:** Number of achievements unlocked by the player.\n",
    "\n",
    "**Target Variable**\n",
    "- **EngagementLevel:** Categorized engagement level reflecting player retention (Medium, High, and Low).\n"
   ]
  },
  {
   "cell_type": "markdown",
   "metadata": {
    "id": "-fzEbzqQG9qR"
   },
   "source": [
    "#### __Import the necessary libraries__"
   ]
  },
  {
   "cell_type": "code",
   "execution_count": 68,
   "metadata": {
    "id": "p6OyE2fxWfFY"
   },
   "outputs": [],
   "source": [
    "import numpy as np\n",
    "import pandas as pd\n",
    "import matplotlib.pyplot as plt\n",
    "import seaborn as sns\n",
    "from sklearn.model_selection import train_test_split\n",
    "from sklearn.preprocessing import StandardScaler, LabelEncoder\n",
    "from sklearn.preprocessing import label_binarize\n",
    "from sklearn.naive_bayes import GaussianNB\n",
    "from sklearn.pipeline import Pipeline\n",
    "from sklearn.neighbors import KNeighborsClassifier\n",
    "from sklearn.tree import DecisionTreeClassifier\n",
    "from sklearn.ensemble import RandomForestClassifier\n",
    "from sklearn.metrics import accuracy_score, roc_auc_score, roc_curve, auc\n",
    "from sklearn.metrics import classification_report, confusion_matrix, ConfusionMatrixDisplay\n",
    "from itertools import cycle\n",
    "from sklearn.model_selection import cross_val_score"
   ]
  },
  {
   "cell_type": "markdown",
   "metadata": {},
   "source": [
    "#### __Pre-processing the dataset__"
   ]
  },
  {
   "cell_type": "code",
   "execution_count": 12,
   "metadata": {
    "colab": {
     "base_uri": "https://localhost:8080/",
     "height": 226
    },
    "executionInfo": {
     "elapsed": 458,
     "status": "ok",
     "timestamp": 1720374536237,
     "user": {
      "displayName": "Aleena Raj",
      "userId": "16635257578699511263"
     },
     "user_tz": -330
    },
    "id": "iuobx85_eQm8",
    "outputId": "14ba73ef-b206-4dc4-abce-2c79df43d5b0"
   },
   "outputs": [
    {
     "data": {
      "text/html": [
       "<div>\n",
       "<style scoped>\n",
       "    .dataframe tbody tr th:only-of-type {\n",
       "        vertical-align: middle;\n",
       "    }\n",
       "\n",
       "    .dataframe tbody tr th {\n",
       "        vertical-align: top;\n",
       "    }\n",
       "\n",
       "    .dataframe thead th {\n",
       "        text-align: right;\n",
       "    }\n",
       "</style>\n",
       "<table border=\"1\" class=\"dataframe\">\n",
       "  <thead>\n",
       "    <tr style=\"text-align: right;\">\n",
       "      <th></th>\n",
       "      <th>PlayerID</th>\n",
       "      <th>Age</th>\n",
       "      <th>Gender</th>\n",
       "      <th>Location</th>\n",
       "      <th>GameGenre</th>\n",
       "      <th>PlayTimeHours</th>\n",
       "      <th>InGamePurchases</th>\n",
       "      <th>GameDifficulty</th>\n",
       "      <th>SessionsPerWeek</th>\n",
       "      <th>AvgSessionDurationMinutes</th>\n",
       "      <th>PlayerLevel</th>\n",
       "      <th>AchievementsUnlocked</th>\n",
       "      <th>EngagementLevel</th>\n",
       "    </tr>\n",
       "  </thead>\n",
       "  <tbody>\n",
       "    <tr>\n",
       "      <th>0</th>\n",
       "      <td>9000</td>\n",
       "      <td>43</td>\n",
       "      <td>Male</td>\n",
       "      <td>Other</td>\n",
       "      <td>Strategy</td>\n",
       "      <td>16.271119</td>\n",
       "      <td>0</td>\n",
       "      <td>Medium</td>\n",
       "      <td>6</td>\n",
       "      <td>108</td>\n",
       "      <td>79</td>\n",
       "      <td>25</td>\n",
       "      <td>Medium</td>\n",
       "    </tr>\n",
       "    <tr>\n",
       "      <th>1</th>\n",
       "      <td>9001</td>\n",
       "      <td>29</td>\n",
       "      <td>Female</td>\n",
       "      <td>USA</td>\n",
       "      <td>Strategy</td>\n",
       "      <td>5.525961</td>\n",
       "      <td>0</td>\n",
       "      <td>Medium</td>\n",
       "      <td>5</td>\n",
       "      <td>144</td>\n",
       "      <td>11</td>\n",
       "      <td>10</td>\n",
       "      <td>Medium</td>\n",
       "    </tr>\n",
       "    <tr>\n",
       "      <th>2</th>\n",
       "      <td>9002</td>\n",
       "      <td>22</td>\n",
       "      <td>Female</td>\n",
       "      <td>USA</td>\n",
       "      <td>Sports</td>\n",
       "      <td>8.223755</td>\n",
       "      <td>0</td>\n",
       "      <td>Easy</td>\n",
       "      <td>16</td>\n",
       "      <td>142</td>\n",
       "      <td>35</td>\n",
       "      <td>41</td>\n",
       "      <td>High</td>\n",
       "    </tr>\n",
       "    <tr>\n",
       "      <th>3</th>\n",
       "      <td>9003</td>\n",
       "      <td>35</td>\n",
       "      <td>Male</td>\n",
       "      <td>USA</td>\n",
       "      <td>Action</td>\n",
       "      <td>5.265351</td>\n",
       "      <td>1</td>\n",
       "      <td>Easy</td>\n",
       "      <td>9</td>\n",
       "      <td>85</td>\n",
       "      <td>57</td>\n",
       "      <td>47</td>\n",
       "      <td>Medium</td>\n",
       "    </tr>\n",
       "    <tr>\n",
       "      <th>4</th>\n",
       "      <td>9004</td>\n",
       "      <td>33</td>\n",
       "      <td>Male</td>\n",
       "      <td>Europe</td>\n",
       "      <td>Action</td>\n",
       "      <td>15.531945</td>\n",
       "      <td>0</td>\n",
       "      <td>Medium</td>\n",
       "      <td>2</td>\n",
       "      <td>131</td>\n",
       "      <td>95</td>\n",
       "      <td>37</td>\n",
       "      <td>Medium</td>\n",
       "    </tr>\n",
       "  </tbody>\n",
       "</table>\n",
       "</div>"
      ],
      "text/plain": [
       "   PlayerID  Age  Gender Location GameGenre  PlayTimeHours  InGamePurchases  \\\n",
       "0      9000   43    Male    Other  Strategy      16.271119                0   \n",
       "1      9001   29  Female      USA  Strategy       5.525961                0   \n",
       "2      9002   22  Female      USA    Sports       8.223755                0   \n",
       "3      9003   35    Male      USA    Action       5.265351                1   \n",
       "4      9004   33    Male   Europe    Action      15.531945                0   \n",
       "\n",
       "  GameDifficulty  SessionsPerWeek  AvgSessionDurationMinutes  PlayerLevel  \\\n",
       "0         Medium                6                        108           79   \n",
       "1         Medium                5                        144           11   \n",
       "2           Easy               16                        142           35   \n",
       "3           Easy                9                         85           57   \n",
       "4         Medium                2                        131           95   \n",
       "\n",
       "   AchievementsUnlocked EngagementLevel  \n",
       "0                    25          Medium  \n",
       "1                    10          Medium  \n",
       "2                    41            High  \n",
       "3                    47          Medium  \n",
       "4                    37          Medium  "
      ]
     },
     "execution_count": 12,
     "metadata": {},
     "output_type": "execute_result"
    }
   ],
   "source": [
    "# Load the dataset\n",
    "data = pd.read_csv('datasets/online_gaming_behavior_dataset.csv')\n",
    "data.head()"
   ]
  },
  {
   "cell_type": "code",
   "execution_count": 13,
   "metadata": {
    "colab": {
     "base_uri": "https://localhost:8080/"
    },
    "executionInfo": {
     "elapsed": 399,
     "status": "ok",
     "timestamp": 1720374540372,
     "user": {
      "displayName": "Aleena Raj",
      "userId": "16635257578699511263"
     },
     "user_tz": -330
    },
    "id": "gJNNZodNEYs7",
    "outputId": "3b70c5fc-a254-4f46-ec22-1b7924598af8"
   },
   "outputs": [
    {
     "data": {
      "text/plain": [
       "(40034, 13)"
      ]
     },
     "execution_count": 13,
     "metadata": {},
     "output_type": "execute_result"
    }
   ],
   "source": [
    "data.shape"
   ]
  },
  {
   "cell_type": "code",
   "execution_count": 14,
   "metadata": {},
   "outputs": [
    {
     "name": "stdout",
     "output_type": "stream",
     "text": [
      "<class 'pandas.core.frame.DataFrame'>\n",
      "RangeIndex: 40034 entries, 0 to 40033\n",
      "Data columns (total 13 columns):\n",
      " #   Column                     Non-Null Count  Dtype  \n",
      "---  ------                     --------------  -----  \n",
      " 0   PlayerID                   40034 non-null  int64  \n",
      " 1   Age                        40034 non-null  int64  \n",
      " 2   Gender                     40034 non-null  object \n",
      " 3   Location                   40034 non-null  object \n",
      " 4   GameGenre                  40034 non-null  object \n",
      " 5   PlayTimeHours              40034 non-null  float64\n",
      " 6   InGamePurchases            40034 non-null  int64  \n",
      " 7   GameDifficulty             40034 non-null  object \n",
      " 8   SessionsPerWeek            40034 non-null  int64  \n",
      " 9   AvgSessionDurationMinutes  40034 non-null  int64  \n",
      " 10  PlayerLevel                40034 non-null  int64  \n",
      " 11  AchievementsUnlocked       40034 non-null  int64  \n",
      " 12  EngagementLevel            40034 non-null  object \n",
      "dtypes: float64(1), int64(7), object(5)\n",
      "memory usage: 4.0+ MB\n"
     ]
    }
   ],
   "source": [
    "data.info()"
   ]
  },
  {
   "cell_type": "markdown",
   "metadata": {},
   "source": [
    "##### __Observation:__\n",
    "\n",
    "- There are 13 columns, out of which `Gender`, `Location`, `GameGenre` and `GameDifficulty` are categorical variables.\n",
    "- `EngagementLevel` is the target variable."
   ]
  },
  {
   "cell_type": "code",
   "execution_count": 15,
   "metadata": {},
   "outputs": [
    {
     "data": {
      "text/html": [
       "<div>\n",
       "<style scoped>\n",
       "    .dataframe tbody tr th:only-of-type {\n",
       "        vertical-align: middle;\n",
       "    }\n",
       "\n",
       "    .dataframe tbody tr th {\n",
       "        vertical-align: top;\n",
       "    }\n",
       "\n",
       "    .dataframe thead th {\n",
       "        text-align: right;\n",
       "    }\n",
       "</style>\n",
       "<table border=\"1\" class=\"dataframe\">\n",
       "  <thead>\n",
       "    <tr style=\"text-align: right;\">\n",
       "      <th></th>\n",
       "      <th>PlayerID</th>\n",
       "      <th>Age</th>\n",
       "      <th>Gender</th>\n",
       "      <th>Location</th>\n",
       "      <th>GameGenre</th>\n",
       "      <th>PlayTimeHours</th>\n",
       "      <th>InGamePurchases</th>\n",
       "      <th>GameDifficulty</th>\n",
       "      <th>SessionsPerWeek</th>\n",
       "      <th>AvgSessionDurationMinutes</th>\n",
       "      <th>PlayerLevel</th>\n",
       "      <th>AchievementsUnlocked</th>\n",
       "      <th>EngagementLevel</th>\n",
       "    </tr>\n",
       "  </thead>\n",
       "  <tbody>\n",
       "    <tr>\n",
       "      <th>count</th>\n",
       "      <td>40034.000000</td>\n",
       "      <td>40034.000000</td>\n",
       "      <td>40034</td>\n",
       "      <td>40034</td>\n",
       "      <td>40034</td>\n",
       "      <td>40034.000000</td>\n",
       "      <td>40034.000000</td>\n",
       "      <td>40034</td>\n",
       "      <td>40034.000000</td>\n",
       "      <td>40034.000000</td>\n",
       "      <td>40034.000000</td>\n",
       "      <td>40034.000000</td>\n",
       "      <td>40034</td>\n",
       "    </tr>\n",
       "    <tr>\n",
       "      <th>unique</th>\n",
       "      <td>NaN</td>\n",
       "      <td>NaN</td>\n",
       "      <td>2</td>\n",
       "      <td>4</td>\n",
       "      <td>5</td>\n",
       "      <td>NaN</td>\n",
       "      <td>NaN</td>\n",
       "      <td>3</td>\n",
       "      <td>NaN</td>\n",
       "      <td>NaN</td>\n",
       "      <td>NaN</td>\n",
       "      <td>NaN</td>\n",
       "      <td>3</td>\n",
       "    </tr>\n",
       "    <tr>\n",
       "      <th>top</th>\n",
       "      <td>NaN</td>\n",
       "      <td>NaN</td>\n",
       "      <td>Male</td>\n",
       "      <td>USA</td>\n",
       "      <td>Sports</td>\n",
       "      <td>NaN</td>\n",
       "      <td>NaN</td>\n",
       "      <td>Easy</td>\n",
       "      <td>NaN</td>\n",
       "      <td>NaN</td>\n",
       "      <td>NaN</td>\n",
       "      <td>NaN</td>\n",
       "      <td>Medium</td>\n",
       "    </tr>\n",
       "    <tr>\n",
       "      <th>freq</th>\n",
       "      <td>NaN</td>\n",
       "      <td>NaN</td>\n",
       "      <td>23959</td>\n",
       "      <td>16000</td>\n",
       "      <td>8048</td>\n",
       "      <td>NaN</td>\n",
       "      <td>NaN</td>\n",
       "      <td>20015</td>\n",
       "      <td>NaN</td>\n",
       "      <td>NaN</td>\n",
       "      <td>NaN</td>\n",
       "      <td>NaN</td>\n",
       "      <td>19374</td>\n",
       "    </tr>\n",
       "    <tr>\n",
       "      <th>mean</th>\n",
       "      <td>29016.500000</td>\n",
       "      <td>31.992531</td>\n",
       "      <td>NaN</td>\n",
       "      <td>NaN</td>\n",
       "      <td>NaN</td>\n",
       "      <td>12.024365</td>\n",
       "      <td>0.200854</td>\n",
       "      <td>NaN</td>\n",
       "      <td>9.471774</td>\n",
       "      <td>94.792252</td>\n",
       "      <td>49.655568</td>\n",
       "      <td>24.526477</td>\n",
       "      <td>NaN</td>\n",
       "    </tr>\n",
       "    <tr>\n",
       "      <th>std</th>\n",
       "      <td>11556.964675</td>\n",
       "      <td>10.043227</td>\n",
       "      <td>NaN</td>\n",
       "      <td>NaN</td>\n",
       "      <td>NaN</td>\n",
       "      <td>6.914638</td>\n",
       "      <td>0.400644</td>\n",
       "      <td>NaN</td>\n",
       "      <td>5.763667</td>\n",
       "      <td>49.011375</td>\n",
       "      <td>28.588379</td>\n",
       "      <td>14.430726</td>\n",
       "      <td>NaN</td>\n",
       "    </tr>\n",
       "    <tr>\n",
       "      <th>min</th>\n",
       "      <td>9000.000000</td>\n",
       "      <td>15.000000</td>\n",
       "      <td>NaN</td>\n",
       "      <td>NaN</td>\n",
       "      <td>NaN</td>\n",
       "      <td>0.000115</td>\n",
       "      <td>0.000000</td>\n",
       "      <td>NaN</td>\n",
       "      <td>0.000000</td>\n",
       "      <td>10.000000</td>\n",
       "      <td>1.000000</td>\n",
       "      <td>0.000000</td>\n",
       "      <td>NaN</td>\n",
       "    </tr>\n",
       "    <tr>\n",
       "      <th>25%</th>\n",
       "      <td>19008.250000</td>\n",
       "      <td>23.000000</td>\n",
       "      <td>NaN</td>\n",
       "      <td>NaN</td>\n",
       "      <td>NaN</td>\n",
       "      <td>6.067501</td>\n",
       "      <td>0.000000</td>\n",
       "      <td>NaN</td>\n",
       "      <td>4.000000</td>\n",
       "      <td>52.000000</td>\n",
       "      <td>25.000000</td>\n",
       "      <td>12.000000</td>\n",
       "      <td>NaN</td>\n",
       "    </tr>\n",
       "    <tr>\n",
       "      <th>50%</th>\n",
       "      <td>29016.500000</td>\n",
       "      <td>32.000000</td>\n",
       "      <td>NaN</td>\n",
       "      <td>NaN</td>\n",
       "      <td>NaN</td>\n",
       "      <td>12.008002</td>\n",
       "      <td>0.000000</td>\n",
       "      <td>NaN</td>\n",
       "      <td>9.000000</td>\n",
       "      <td>95.000000</td>\n",
       "      <td>49.000000</td>\n",
       "      <td>25.000000</td>\n",
       "      <td>NaN</td>\n",
       "    </tr>\n",
       "    <tr>\n",
       "      <th>75%</th>\n",
       "      <td>39024.750000</td>\n",
       "      <td>41.000000</td>\n",
       "      <td>NaN</td>\n",
       "      <td>NaN</td>\n",
       "      <td>NaN</td>\n",
       "      <td>17.963831</td>\n",
       "      <td>0.000000</td>\n",
       "      <td>NaN</td>\n",
       "      <td>14.000000</td>\n",
       "      <td>137.000000</td>\n",
       "      <td>74.000000</td>\n",
       "      <td>37.000000</td>\n",
       "      <td>NaN</td>\n",
       "    </tr>\n",
       "    <tr>\n",
       "      <th>max</th>\n",
       "      <td>49033.000000</td>\n",
       "      <td>49.000000</td>\n",
       "      <td>NaN</td>\n",
       "      <td>NaN</td>\n",
       "      <td>NaN</td>\n",
       "      <td>23.999592</td>\n",
       "      <td>1.000000</td>\n",
       "      <td>NaN</td>\n",
       "      <td>19.000000</td>\n",
       "      <td>179.000000</td>\n",
       "      <td>99.000000</td>\n",
       "      <td>49.000000</td>\n",
       "      <td>NaN</td>\n",
       "    </tr>\n",
       "  </tbody>\n",
       "</table>\n",
       "</div>"
      ],
      "text/plain": [
       "            PlayerID           Age Gender Location GameGenre  PlayTimeHours  \\\n",
       "count   40034.000000  40034.000000  40034    40034     40034   40034.000000   \n",
       "unique           NaN           NaN      2        4         5            NaN   \n",
       "top              NaN           NaN   Male      USA    Sports            NaN   \n",
       "freq             NaN           NaN  23959    16000      8048            NaN   \n",
       "mean    29016.500000     31.992531    NaN      NaN       NaN      12.024365   \n",
       "std     11556.964675     10.043227    NaN      NaN       NaN       6.914638   \n",
       "min      9000.000000     15.000000    NaN      NaN       NaN       0.000115   \n",
       "25%     19008.250000     23.000000    NaN      NaN       NaN       6.067501   \n",
       "50%     29016.500000     32.000000    NaN      NaN       NaN      12.008002   \n",
       "75%     39024.750000     41.000000    NaN      NaN       NaN      17.963831   \n",
       "max     49033.000000     49.000000    NaN      NaN       NaN      23.999592   \n",
       "\n",
       "        InGamePurchases GameDifficulty  SessionsPerWeek  \\\n",
       "count      40034.000000          40034     40034.000000   \n",
       "unique              NaN              3              NaN   \n",
       "top                 NaN           Easy              NaN   \n",
       "freq                NaN          20015              NaN   \n",
       "mean           0.200854            NaN         9.471774   \n",
       "std            0.400644            NaN         5.763667   \n",
       "min            0.000000            NaN         0.000000   \n",
       "25%            0.000000            NaN         4.000000   \n",
       "50%            0.000000            NaN         9.000000   \n",
       "75%            0.000000            NaN        14.000000   \n",
       "max            1.000000            NaN        19.000000   \n",
       "\n",
       "        AvgSessionDurationMinutes   PlayerLevel  AchievementsUnlocked  \\\n",
       "count                40034.000000  40034.000000          40034.000000   \n",
       "unique                        NaN           NaN                   NaN   \n",
       "top                           NaN           NaN                   NaN   \n",
       "freq                          NaN           NaN                   NaN   \n",
       "mean                    94.792252     49.655568             24.526477   \n",
       "std                     49.011375     28.588379             14.430726   \n",
       "min                     10.000000      1.000000              0.000000   \n",
       "25%                     52.000000     25.000000             12.000000   \n",
       "50%                     95.000000     49.000000             25.000000   \n",
       "75%                    137.000000     74.000000             37.000000   \n",
       "max                    179.000000     99.000000             49.000000   \n",
       "\n",
       "       EngagementLevel  \n",
       "count            40034  \n",
       "unique               3  \n",
       "top             Medium  \n",
       "freq             19374  \n",
       "mean               NaN  \n",
       "std                NaN  \n",
       "min                NaN  \n",
       "25%                NaN  \n",
       "50%                NaN  \n",
       "75%                NaN  \n",
       "max                NaN  "
      ]
     },
     "execution_count": 15,
     "metadata": {},
     "output_type": "execute_result"
    }
   ],
   "source": [
    "data.describe(include='all')"
   ]
  },
  {
   "cell_type": "markdown",
   "metadata": {},
   "source": [
    "#### __Inspecting the data__"
   ]
  },
  {
   "cell_type": "code",
   "execution_count": 16,
   "metadata": {
    "colab": {
     "base_uri": "https://localhost:8080/"
    },
    "executionInfo": {
     "elapsed": 448,
     "status": "ok",
     "timestamp": 1720374549049,
     "user": {
      "displayName": "Aleena Raj",
      "userId": "16635257578699511263"
     },
     "user_tz": -330
    },
    "id": "sJT21MZDf4D8",
    "outputId": "f2bced8e-3f8d-44d7-a893-849479c22b73"
   },
   "outputs": [
    {
     "data": {
      "text/plain": [
       "PlayerID                     0\n",
       "Age                          0\n",
       "Gender                       0\n",
       "Location                     0\n",
       "GameGenre                    0\n",
       "PlayTimeHours                0\n",
       "InGamePurchases              0\n",
       "GameDifficulty               0\n",
       "SessionsPerWeek              0\n",
       "AvgSessionDurationMinutes    0\n",
       "PlayerLevel                  0\n",
       "AchievementsUnlocked         0\n",
       "EngagementLevel              0\n",
       "dtype: int64"
      ]
     },
     "execution_count": 16,
     "metadata": {},
     "output_type": "execute_result"
    }
   ],
   "source": [
    "# Checking for missing values\n",
    "data.isnull().sum()"
   ]
  },
  {
   "cell_type": "code",
   "execution_count": 17,
   "metadata": {
    "colab": {
     "base_uri": "https://localhost:8080/",
     "height": 300
    },
    "executionInfo": {
     "elapsed": 414,
     "status": "ok",
     "timestamp": 1720374567561,
     "user": {
      "displayName": "Aleena Raj",
      "userId": "16635257578699511263"
     },
     "user_tz": -330
    },
    "id": "6uIPEitRgJrM",
    "outputId": "f092f880-9f3e-4d25-aa3c-c28eada880de"
   },
   "outputs": [
    {
     "data": {
      "text/plain": [
       "0"
      ]
     },
     "execution_count": 17,
     "metadata": {},
     "output_type": "execute_result"
    }
   ],
   "source": [
    "# Checking for duplicate values\n",
    "data.duplicated().sum()"
   ]
  },
  {
   "cell_type": "code",
   "execution_count": 18,
   "metadata": {
    "colab": {
     "base_uri": "https://localhost:8080/"
    },
    "executionInfo": {
     "elapsed": 534,
     "status": "ok",
     "timestamp": 1720374602515,
     "user": {
      "displayName": "Aleena Raj",
      "userId": "16635257578699511263"
     },
     "user_tz": -330
    },
    "id": "50W5Kk1lgcZn",
    "outputId": "c3e72527-09b9-45ce-f6b5-78165b6dd4d2"
   },
   "outputs": [
    {
     "data": {
      "text/plain": [
       "EngagementLevel\n",
       "Medium    19374\n",
       "High      10336\n",
       "Low       10324\n",
       "Name: count, dtype: int64"
      ]
     },
     "execution_count": 18,
     "metadata": {},
     "output_type": "execute_result"
    }
   ],
   "source": [
    "# Distribution of the target variable\n",
    "data['EngagementLevel'].value_counts()"
   ]
  },
  {
   "cell_type": "code",
   "execution_count": 19,
   "metadata": {},
   "outputs": [],
   "source": [
    "data_df = data.copy()"
   ]
  },
  {
   "cell_type": "code",
   "execution_count": 21,
   "metadata": {},
   "outputs": [
    {
     "data": {
      "text/html": [
       "<div>\n",
       "<style scoped>\n",
       "    .dataframe tbody tr th:only-of-type {\n",
       "        vertical-align: middle;\n",
       "    }\n",
       "\n",
       "    .dataframe tbody tr th {\n",
       "        vertical-align: top;\n",
       "    }\n",
       "\n",
       "    .dataframe thead th {\n",
       "        text-align: right;\n",
       "    }\n",
       "</style>\n",
       "<table border=\"1\" class=\"dataframe\">\n",
       "  <thead>\n",
       "    <tr style=\"text-align: right;\">\n",
       "      <th></th>\n",
       "      <th>PlayerID</th>\n",
       "      <th>Age</th>\n",
       "      <th>Gender</th>\n",
       "      <th>Location</th>\n",
       "      <th>GameGenre</th>\n",
       "      <th>PlayTimeHours</th>\n",
       "      <th>InGamePurchases</th>\n",
       "      <th>GameDifficulty</th>\n",
       "      <th>SessionsPerWeek</th>\n",
       "      <th>AvgSessionDurationMinutes</th>\n",
       "      <th>PlayerLevel</th>\n",
       "      <th>AchievementsUnlocked</th>\n",
       "      <th>EngagementLevel</th>\n",
       "    </tr>\n",
       "  </thead>\n",
       "  <tbody>\n",
       "    <tr>\n",
       "      <th>0</th>\n",
       "      <td>9000</td>\n",
       "      <td>43</td>\n",
       "      <td>Male</td>\n",
       "      <td>Other</td>\n",
       "      <td>Strategy</td>\n",
       "      <td>16.271119</td>\n",
       "      <td>0</td>\n",
       "      <td>Medium</td>\n",
       "      <td>6</td>\n",
       "      <td>108</td>\n",
       "      <td>79</td>\n",
       "      <td>25</td>\n",
       "      <td>Medium</td>\n",
       "    </tr>\n",
       "    <tr>\n",
       "      <th>1</th>\n",
       "      <td>9001</td>\n",
       "      <td>29</td>\n",
       "      <td>Female</td>\n",
       "      <td>USA</td>\n",
       "      <td>Strategy</td>\n",
       "      <td>5.525961</td>\n",
       "      <td>0</td>\n",
       "      <td>Medium</td>\n",
       "      <td>5</td>\n",
       "      <td>144</td>\n",
       "      <td>11</td>\n",
       "      <td>10</td>\n",
       "      <td>Medium</td>\n",
       "    </tr>\n",
       "    <tr>\n",
       "      <th>2</th>\n",
       "      <td>9002</td>\n",
       "      <td>22</td>\n",
       "      <td>Female</td>\n",
       "      <td>USA</td>\n",
       "      <td>Sports</td>\n",
       "      <td>8.223755</td>\n",
       "      <td>0</td>\n",
       "      <td>Easy</td>\n",
       "      <td>16</td>\n",
       "      <td>142</td>\n",
       "      <td>35</td>\n",
       "      <td>41</td>\n",
       "      <td>High</td>\n",
       "    </tr>\n",
       "    <tr>\n",
       "      <th>3</th>\n",
       "      <td>9003</td>\n",
       "      <td>35</td>\n",
       "      <td>Male</td>\n",
       "      <td>USA</td>\n",
       "      <td>Action</td>\n",
       "      <td>5.265351</td>\n",
       "      <td>1</td>\n",
       "      <td>Easy</td>\n",
       "      <td>9</td>\n",
       "      <td>85</td>\n",
       "      <td>57</td>\n",
       "      <td>47</td>\n",
       "      <td>Medium</td>\n",
       "    </tr>\n",
       "    <tr>\n",
       "      <th>4</th>\n",
       "      <td>9004</td>\n",
       "      <td>33</td>\n",
       "      <td>Male</td>\n",
       "      <td>Europe</td>\n",
       "      <td>Action</td>\n",
       "      <td>15.531945</td>\n",
       "      <td>0</td>\n",
       "      <td>Medium</td>\n",
       "      <td>2</td>\n",
       "      <td>131</td>\n",
       "      <td>95</td>\n",
       "      <td>37</td>\n",
       "      <td>Medium</td>\n",
       "    </tr>\n",
       "  </tbody>\n",
       "</table>\n",
       "</div>"
      ],
      "text/plain": [
       "   PlayerID  Age  Gender Location GameGenre  PlayTimeHours  InGamePurchases  \\\n",
       "0      9000   43    Male    Other  Strategy      16.271119                0   \n",
       "1      9001   29  Female      USA  Strategy       5.525961                0   \n",
       "2      9002   22  Female      USA    Sports       8.223755                0   \n",
       "3      9003   35    Male      USA    Action       5.265351                1   \n",
       "4      9004   33    Male   Europe    Action      15.531945                0   \n",
       "\n",
       "  GameDifficulty  SessionsPerWeek  AvgSessionDurationMinutes  PlayerLevel  \\\n",
       "0         Medium                6                        108           79   \n",
       "1         Medium                5                        144           11   \n",
       "2           Easy               16                        142           35   \n",
       "3           Easy                9                         85           57   \n",
       "4         Medium                2                        131           95   \n",
       "\n",
       "   AchievementsUnlocked EngagementLevel  \n",
       "0                    25          Medium  \n",
       "1                    10          Medium  \n",
       "2                    41            High  \n",
       "3                    47          Medium  \n",
       "4                    37          Medium  "
      ]
     },
     "execution_count": 21,
     "metadata": {},
     "output_type": "execute_result"
    }
   ],
   "source": [
    "data.head()"
   ]
  },
  {
   "cell_type": "markdown",
   "metadata": {},
   "source": [
    "#### __Convert Categorical variables__"
   ]
  },
  {
   "cell_type": "code",
   "execution_count": 22,
   "metadata": {
    "id": "ulOLlHi72Yfy"
   },
   "outputs": [
    {
     "data": {
      "text/plain": [
       "{'Gender': LabelEncoder(),\n",
       " 'Location': LabelEncoder(),\n",
       " 'GameGenre': LabelEncoder(),\n",
       " 'GameDifficulty': LabelEncoder()}"
      ]
     },
     "execution_count": 22,
     "metadata": {},
     "output_type": "execute_result"
    }
   ],
   "source": [
    "# Convert categorical string variables to numerical values\n",
    "categorical_columns = ['Gender', 'Location', 'GameGenre', 'GameDifficulty']\n",
    "label_encoders = {}\n",
    "for col in categorical_columns:\n",
    "    label_encoder = LabelEncoder()\n",
    "    data_df[col] = label_encoder.fit_transform(data_df[col])\n",
    "    label_encoders[col] = label_encoder\n",
    "\n",
    "label_encoders"
   ]
  },
  {
   "cell_type": "code",
   "execution_count": 23,
   "metadata": {},
   "outputs": [
    {
     "data": {
      "text/html": [
       "<div>\n",
       "<style scoped>\n",
       "    .dataframe tbody tr th:only-of-type {\n",
       "        vertical-align: middle;\n",
       "    }\n",
       "\n",
       "    .dataframe tbody tr th {\n",
       "        vertical-align: top;\n",
       "    }\n",
       "\n",
       "    .dataframe thead th {\n",
       "        text-align: right;\n",
       "    }\n",
       "</style>\n",
       "<table border=\"1\" class=\"dataframe\">\n",
       "  <thead>\n",
       "    <tr style=\"text-align: right;\">\n",
       "      <th></th>\n",
       "      <th>PlayerID</th>\n",
       "      <th>Age</th>\n",
       "      <th>Gender</th>\n",
       "      <th>Location</th>\n",
       "      <th>GameGenre</th>\n",
       "      <th>PlayTimeHours</th>\n",
       "      <th>InGamePurchases</th>\n",
       "      <th>GameDifficulty</th>\n",
       "      <th>SessionsPerWeek</th>\n",
       "      <th>AvgSessionDurationMinutes</th>\n",
       "      <th>PlayerLevel</th>\n",
       "      <th>AchievementsUnlocked</th>\n",
       "      <th>EngagementLevel</th>\n",
       "    </tr>\n",
       "  </thead>\n",
       "  <tbody>\n",
       "    <tr>\n",
       "      <th>0</th>\n",
       "      <td>9000</td>\n",
       "      <td>43</td>\n",
       "      <td>1</td>\n",
       "      <td>2</td>\n",
       "      <td>4</td>\n",
       "      <td>16.271119</td>\n",
       "      <td>0</td>\n",
       "      <td>2</td>\n",
       "      <td>6</td>\n",
       "      <td>108</td>\n",
       "      <td>79</td>\n",
       "      <td>25</td>\n",
       "      <td>Medium</td>\n",
       "    </tr>\n",
       "    <tr>\n",
       "      <th>1</th>\n",
       "      <td>9001</td>\n",
       "      <td>29</td>\n",
       "      <td>0</td>\n",
       "      <td>3</td>\n",
       "      <td>4</td>\n",
       "      <td>5.525961</td>\n",
       "      <td>0</td>\n",
       "      <td>2</td>\n",
       "      <td>5</td>\n",
       "      <td>144</td>\n",
       "      <td>11</td>\n",
       "      <td>10</td>\n",
       "      <td>Medium</td>\n",
       "    </tr>\n",
       "    <tr>\n",
       "      <th>2</th>\n",
       "      <td>9002</td>\n",
       "      <td>22</td>\n",
       "      <td>0</td>\n",
       "      <td>3</td>\n",
       "      <td>3</td>\n",
       "      <td>8.223755</td>\n",
       "      <td>0</td>\n",
       "      <td>0</td>\n",
       "      <td>16</td>\n",
       "      <td>142</td>\n",
       "      <td>35</td>\n",
       "      <td>41</td>\n",
       "      <td>High</td>\n",
       "    </tr>\n",
       "    <tr>\n",
       "      <th>3</th>\n",
       "      <td>9003</td>\n",
       "      <td>35</td>\n",
       "      <td>1</td>\n",
       "      <td>3</td>\n",
       "      <td>0</td>\n",
       "      <td>5.265351</td>\n",
       "      <td>1</td>\n",
       "      <td>0</td>\n",
       "      <td>9</td>\n",
       "      <td>85</td>\n",
       "      <td>57</td>\n",
       "      <td>47</td>\n",
       "      <td>Medium</td>\n",
       "    </tr>\n",
       "    <tr>\n",
       "      <th>4</th>\n",
       "      <td>9004</td>\n",
       "      <td>33</td>\n",
       "      <td>1</td>\n",
       "      <td>1</td>\n",
       "      <td>0</td>\n",
       "      <td>15.531945</td>\n",
       "      <td>0</td>\n",
       "      <td>2</td>\n",
       "      <td>2</td>\n",
       "      <td>131</td>\n",
       "      <td>95</td>\n",
       "      <td>37</td>\n",
       "      <td>Medium</td>\n",
       "    </tr>\n",
       "  </tbody>\n",
       "</table>\n",
       "</div>"
      ],
      "text/plain": [
       "   PlayerID  Age  Gender  Location  GameGenre  PlayTimeHours  InGamePurchases  \\\n",
       "0      9000   43       1         2          4      16.271119                0   \n",
       "1      9001   29       0         3          4       5.525961                0   \n",
       "2      9002   22       0         3          3       8.223755                0   \n",
       "3      9003   35       1         3          0       5.265351                1   \n",
       "4      9004   33       1         1          0      15.531945                0   \n",
       "\n",
       "   GameDifficulty  SessionsPerWeek  AvgSessionDurationMinutes  PlayerLevel  \\\n",
       "0               2                6                        108           79   \n",
       "1               2                5                        144           11   \n",
       "2               0               16                        142           35   \n",
       "3               0                9                         85           57   \n",
       "4               2                2                        131           95   \n",
       "\n",
       "   AchievementsUnlocked EngagementLevel  \n",
       "0                    25          Medium  \n",
       "1                    10          Medium  \n",
       "2                    41            High  \n",
       "3                    47          Medium  \n",
       "4                    37          Medium  "
      ]
     },
     "execution_count": 23,
     "metadata": {},
     "output_type": "execute_result"
    }
   ],
   "source": [
    "data_df.head()"
   ]
  },
  {
   "cell_type": "markdown",
   "metadata": {},
   "source": [
    "#### __Perform train-test split__"
   ]
  },
  {
   "cell_type": "code",
   "execution_count": 31,
   "metadata": {
    "id": "T3Py2V661zQz"
   },
   "outputs": [],
   "source": [
    "target_column = 'EngagementLevel'\n",
    "\n",
    "X = data_df.drop(columns=[target_column])\n",
    "y = data_df[target_column]\n",
    "\n",
    "# Split the dataset into training and testing sets\n",
    "X_train, X_test, y_train, y_test = train_test_split(X, y, test_size=0.4, random_state=42)"
   ]
  },
  {
   "cell_type": "code",
   "execution_count": 32,
   "metadata": {},
   "outputs": [
    {
     "data": {
      "text/plain": [
       "(40034, 12)"
      ]
     },
     "execution_count": 32,
     "metadata": {},
     "output_type": "execute_result"
    }
   ],
   "source": [
    "X.shape"
   ]
  },
  {
   "cell_type": "markdown",
   "metadata": {},
   "source": [
    "#### __Plot a correlation heatmap to understand the relationship between features__"
   ]
  },
  {
   "cell_type": "code",
   "execution_count": 33,
   "metadata": {
    "colab": {
     "base_uri": "https://localhost:8080/",
     "height": 878
    },
    "executionInfo": {
     "elapsed": 1949,
     "status": "ok",
     "timestamp": 1720374661324,
     "user": {
      "displayName": "Aleena Raj",
      "userId": "16635257578699511263"
     },
     "user_tz": -330
    },
    "id": "odTeAna0gmRz",
    "outputId": "2a028ac8-85ef-4293-9029-bff1c14a40ff"
   },
   "outputs": [
    {
     "data": {
      "image/png": "[encoded data removed]",
      "text/plain": [
       "<Figure size 1200x800 with 2 Axes>"
      ]
     },
     "metadata": {},
     "output_type": "display_data"
    }
   ],
   "source": [
    "# Heatmap of the correlation matrix using seaborn library\n",
    "plt.figure(figsize=(12, 8))\n",
    "correlation_matrix = X.corr()\n",
    "sns.heatmap(correlation_matrix, annot=True, cmap='coolwarm', linewidths=0.5)\n",
    "plt.title('Correlation Matrix')\n",
    "plt.show()"
   ]
  },
  {
   "cell_type": "markdown",
   "metadata": {
    "id": "MVwXbO9fxhb_"
   },
   "source": [
    "### __Naive Bayes Classifier - Online Gaming Behavior dataset__"
   ]
  },
  {
   "cell_type": "code",
   "execution_count": 51,
   "metadata": {
    "id": "ywnxS6F1tRPF"
   },
   "outputs": [
    {
     "name": "stdout",
     "output_type": "stream",
     "text": [
      "Class order (NB): ['High' 'Low' 'Medium']\n"
     ]
    }
   ],
   "source": [
    "# Define the pipeline\n",
    "pipeline_nb = Pipeline([\n",
    "    ('scalar', StandardScaler()),\n",
    "    ('nb', GaussianNB())\n",
    "])\n",
    "pipeline_nb.fit(X_train, y_train)\n",
    "\n",
    "# Predict on training and testing set\n",
    "y_pred_train_nb = pipeline_nb.predict(X_train)\n",
    "y_pred_test_nb = pipeline_nb.predict(X_test)\n",
    "y_pred_test_prob_nb = pipeline_nb.predict_proba(X_test)\n",
    "\n",
    "# Determine the class order\n",
    "class_order_nb = pipeline_nb.classes_\n",
    "print(\"Class order (NB):\", class_order_nb)"
   ]
  },
  {
   "cell_type": "code",
   "execution_count": 37,
   "metadata": {
    "colab": {
     "base_uri": "https://localhost:8080/",
     "height": 224
    },
    "executionInfo": {
     "elapsed": 664,
     "status": "ok",
     "timestamp": 1720378078373,
     "user": {
      "displayName": "Aleena Raj",
      "userId": "16635257578699511263"
     },
     "user_tz": -330
    },
    "id": "hUPcBKdvg53k",
    "outputId": "95b7ae63-05d9-4a0b-c4b3-6e7077a1dc92"
   },
   "outputs": [
    {
     "data": {
      "text/html": [
       "<div>\n",
       "<style scoped>\n",
       "    .dataframe tbody tr th:only-of-type {\n",
       "        vertical-align: middle;\n",
       "    }\n",
       "\n",
       "    .dataframe tbody tr th {\n",
       "        vertical-align: top;\n",
       "    }\n",
       "\n",
       "    .dataframe thead th {\n",
       "        text-align: right;\n",
       "    }\n",
       "</style>\n",
       "<table border=\"1\" class=\"dataframe\">\n",
       "  <thead>\n",
       "    <tr style=\"text-align: right;\">\n",
       "      <th></th>\n",
       "      <th>Actual Label</th>\n",
       "      <th>Predicted Label</th>\n",
       "      <th>Predicted Probability - High</th>\n",
       "      <th>Predicted Probability - Low</th>\n",
       "      <th>Predicted Probability - Medium</th>\n",
       "    </tr>\n",
       "  </thead>\n",
       "  <tbody>\n",
       "    <tr>\n",
       "      <th>34667</th>\n",
       "      <td>Medium</td>\n",
       "      <td>Medium</td>\n",
       "      <td>0.22</td>\n",
       "      <td>0.07</td>\n",
       "      <td>0.71</td>\n",
       "    </tr>\n",
       "    <tr>\n",
       "      <th>22227</th>\n",
       "      <td>Medium</td>\n",
       "      <td>Medium</td>\n",
       "      <td>0.19</td>\n",
       "      <td>0.17</td>\n",
       "      <td>0.64</td>\n",
       "    </tr>\n",
       "    <tr>\n",
       "      <th>24899</th>\n",
       "      <td>Medium</td>\n",
       "      <td>Medium</td>\n",
       "      <td>0.01</td>\n",
       "      <td>0.34</td>\n",
       "      <td>0.65</td>\n",
       "    </tr>\n",
       "    <tr>\n",
       "      <th>35415</th>\n",
       "      <td>Medium</td>\n",
       "      <td>Medium</td>\n",
       "      <td>0.22</td>\n",
       "      <td>0.16</td>\n",
       "      <td>0.62</td>\n",
       "    </tr>\n",
       "    <tr>\n",
       "      <th>21440</th>\n",
       "      <td>Medium</td>\n",
       "      <td>Medium</td>\n",
       "      <td>0.34</td>\n",
       "      <td>0.13</td>\n",
       "      <td>0.53</td>\n",
       "    </tr>\n",
       "  </tbody>\n",
       "</table>\n",
       "</div>"
      ],
      "text/plain": [
       "      Actual Label Predicted Label  Predicted Probability - High  \\\n",
       "34667       Medium          Medium                          0.22   \n",
       "22227       Medium          Medium                          0.19   \n",
       "24899       Medium          Medium                          0.01   \n",
       "35415       Medium          Medium                          0.22   \n",
       "21440       Medium          Medium                          0.34   \n",
       "\n",
       "       Predicted Probability - Low  Predicted Probability - Medium  \n",
       "34667                         0.07                            0.71  \n",
       "22227                         0.17                            0.64  \n",
       "24899                         0.34                            0.65  \n",
       "35415                         0.16                            0.62  \n",
       "21440                         0.13                            0.53  "
      ]
     },
     "execution_count": 37,
     "metadata": {},
     "output_type": "execute_result"
    }
   ],
   "source": [
    "# Create a DataFrame to display actual and predicted labels with probabilities\n",
    "results_df_nb = pd.DataFrame({\n",
    "    'Actual Label': y_test,\n",
    "    'Predicted Label': y_pred_test_nb,\n",
    "})\n",
    "\n",
    "# Add predicted probabilities with correct class names\n",
    "for i, class_name in enumerate(class_order_nb):\n",
    "    results_df_nb[f'Predicted Probability - {class_name}'] = np.round(y_pred_test_prob_nb[:, i], 2)\n",
    "\n",
    "# Display the first few rows of the results DataFrame\n",
    "results_df_nb.head()"
   ]
  },
  {
   "cell_type": "code",
   "execution_count": 38,
   "metadata": {},
   "outputs": [
    {
     "data": {
      "text/plain": [
       "0.8434494817035094"
      ]
     },
     "execution_count": 38,
     "metadata": {},
     "output_type": "execute_result"
    }
   ],
   "source": [
    "pipeline_nb.score(X_test, y_test)"
   ]
  },
  {
   "cell_type": "code",
   "execution_count": 40,
   "metadata": {
    "colab": {
     "base_uri": "https://localhost:8080/"
    },
    "executionInfo": {
     "elapsed": 475,
     "status": "ok",
     "timestamp": 1720378182113,
     "user": {
      "displayName": "Aleena Raj",
      "userId": "16635257578699511263"
     },
     "user_tz": -330
    },
    "id": "GnAl0isstRMf",
    "outputId": "e2a95adb-e6da-4ac8-a011-6ed33e137fc1"
   },
   "outputs": [
    {
     "name": "stdout",
     "output_type": "stream",
     "text": [
      "Naive Bayes Classifier:\n",
      "Training Accuracy: 0.8447960033305578\n",
      "Testing Accuracy: 0.8434494817035094\n"
     ]
    }
   ],
   "source": [
    "print(\"Naive Bayes Classifier:\")\n",
    "training_accuracy =  accuracy_score(y_train, y_pred_train_nb)\n",
    "testing_accuracy = accuracy_score(y_test, y_pred_test_nb)\n",
    "\n",
    "print(f\"Training Accuracy: {training_accuracy}\")\n",
    "print(f\"Testing Accuracy: {testing_accuracy}\")"
   ]
  },
  {
   "cell_type": "code",
   "execution_count": 42,
   "metadata": {
    "colab": {
     "base_uri": "https://localhost:8080/"
    },
    "executionInfo": {
     "elapsed": 404,
     "status": "ok",
     "timestamp": 1720378392526,
     "user": {
      "displayName": "Aleena Raj",
      "userId": "16635257578699511263"
     },
     "user_tz": -330
    },
    "id": "mQQ54X-7ipFC",
    "outputId": "b8e0ac92-4d42-412b-fbdc-c1f638c38a51"
   },
   "outputs": [
    {
     "data": {
      "image/png": "[encoded data removed]",
      "text/plain": [
       "<Figure size 640x480 with 2 Axes>"
      ]
     },
     "metadata": {},
     "output_type": "display_data"
    }
   ],
   "source": [
    "# Generate the confusion matrix\n",
    "conf_matrix_nb = confusion_matrix(y_test, y_pred_test_nb, labels=class_order_nb)\n",
    "\n",
    "# Heatmap visualization for confusion matrix\n",
    "cm_display = ConfusionMatrixDisplay(confusion_matrix=conf_matrix_nb,display_labels=class_order_nb)\n",
    "\n",
    "# display matrix\n",
    "cm_display.plot()\n",
    "plt.show()"
   ]
  },
  {
   "cell_type": "markdown",
   "metadata": {
    "id": "YxEIDMcGolLF"
   },
   "source": [
    "##### __Observation:__\n",
    "\n",
    "The confusion matrix is a 3x3 matrix because it is a multiclass classification problem with three classes (Medium, High, Low).\n",
    "\n",
    "- **High:** This class has a relatively high number of true positives (3234), but also a considerable number of false negatives, indicating that some instances misclassified as Low and medium\n",
    "- **Low:** This class has a moderate number of true positives (2854), but a higher number of false negatives, indicating frequent misclassification of `low` instances as `high` or `medium`.\n",
    "- **Medium:** This class has a very high number of true positives (7419), indicating the model is very good at correctly identifying `medium` instances."
   ]
  },
  {
   "cell_type": "code",
   "execution_count": 44,
   "metadata": {
    "colab": {
     "base_uri": "https://localhost:8080/"
    },
    "executionInfo": {
     "elapsed": 409,
     "status": "ok",
     "timestamp": 1720375092280,
     "user": {
      "displayName": "Aleena Raj",
      "userId": "16635257578699511263"
     },
     "user_tz": -330
    },
    "id": "aDdnkwZoo7Rc",
    "outputId": "93ae0d43-e869-480c-b99b-ab85c9ea136b"
   },
   "outputs": [
    {
     "name": "stdout",
     "output_type": "stream",
     "text": [
      "              precision    recall  f1-score   support\n",
      "\n",
      "        High       0.93      0.78      0.85      4157\n",
      "         Low       0.89      0.70      0.78      4083\n",
      "      Medium       0.79      0.95      0.87      7774\n",
      "\n",
      "    accuracy                           0.84     16014\n",
      "   macro avg       0.87      0.81      0.83     16014\n",
      "weighted avg       0.86      0.84      0.84     16014\n",
      "\n"
     ]
    }
   ],
   "source": [
    "print(classification_report(y_test, y_pred_test_nb, target_names=class_order_nb))"
   ]
  },
  {
   "cell_type": "markdown",
   "metadata": {
    "id": "XJ2OIpyhvDt8"
   },
   "source": [
    "#### __Plotting ROC-AUC curve for Multiclassification problems:__\n",
    "\n",
    "- `label_binarize` is a function from Scikit-Learn that is used to convert class labels into a binary format suitable for certain types of classifiers and evaluation metrics.\n",
    "- This is particularly useful when you need to handle multiclass problems with methods that are inherently designed for binary classification, such as calculating ROC curves and AUC scores."
   ]
  },
  {
   "cell_type": "code",
   "execution_count": 45,
   "metadata": {},
   "outputs": [
    {
     "data": {
      "text/plain": [
       "{'High', 'Low', 'Medium'}"
      ]
     },
     "execution_count": 45,
     "metadata": {},
     "output_type": "execute_result"
    }
   ],
   "source": [
    "set(y_test)"
   ]
  },
  {
   "cell_type": "code",
   "execution_count": 48,
   "metadata": {},
   "outputs": [
    {
     "data": {
      "text/plain": [
       "array([[0, 0, 1],\n",
       "       [0, 0, 1],\n",
       "       [0, 0, 1],\n",
       "       ...,\n",
       "       [0, 0, 1],\n",
       "       [0, 1, 0],\n",
       "       [0, 1, 0]])"
      ]
     },
     "execution_count": 48,
     "metadata": {},
     "output_type": "execute_result"
    }
   ],
   "source": [
    "label_binarize(y_test, classes=pipeline_nb.classes_)"
   ]
  },
  {
   "cell_type": "code",
   "execution_count": 50,
   "metadata": {
    "colab": {
     "base_uri": "https://localhost:8080/",
     "height": 472
    },
    "executionInfo": {
     "elapsed": 802,
     "status": "ok",
     "timestamp": 1720375146347,
     "user": {
      "displayName": "Aleena Raj",
      "userId": "16635257578699511263"
     },
     "user_tz": -330
    },
    "id": "VXRelsl9tRGs",
    "outputId": "8319fec1-3b36-43a8-c9ff-2f300f7f8ec0"
   },
   "outputs": [
    {
     "data": {
      "image/png": "[encoded data removed]",
      "text/plain": [
       "<Figure size 640x480 with 1 Axes>"
      ]
     },
     "metadata": {},
     "output_type": "display_data"
    }
   ],
   "source": [
    "# Check if more than one class is present in y_test\n",
    "if len(set(y_test)) > 1:\n",
    "    # Plot ROC curve\n",
    "    y_test_binarized = label_binarize(y_test, classes=pipeline_nb.classes_)\n",
    "    n_classes = y_test_binarized.shape[1]\n",
    "\n",
    "    y_score = pipeline_nb.predict_proba(X_test)\n",
    "\n",
    "    fpr = dict()\n",
    "    tpr = dict()\n",
    "    roc_auc = dict()\n",
    "\n",
    "    for i in range(n_classes):\n",
    "        fpr[i], tpr[i], _ = roc_curve(y_test_binarized[:, i], y_score[:, i])\n",
    "        roc_auc[i] = roc_auc_score(y_test_binarized[:, i], y_score[:, i])\n",
    "\n",
    "    # Plotting the ROC curves\n",
    "    plt.figure()\n",
    "    colors = cycle(['aqua', 'darkorange', 'cornflowerblue'])\n",
    "    for i, color in zip(range(n_classes), colors):\n",
    "        plt.plot(fpr[i], tpr[i], color=color, lw=2, label='ROC curve of class {0} (area = {1:0.2f})'.format(i, roc_auc[i]))\n",
    "\n",
    "    plt.plot([0, 1], [0, 1], 'k--', lw=2)\n",
    "    plt.xlim([0.0, 1.0])\n",
    "    plt.ylim([0.0, 1.05])\n",
    "    plt.xlabel('False Positive Rate')\n",
    "    plt.ylabel('True Positive Rate')\n",
    "    plt.title('Receiver Operating Characteristic (ROC) Curve')\n",
    "    plt.legend(loc=\"lower right\")\n",
    "    plt.grid(True)\n",
    "    plt.show()\n",
    "else:\n",
    "    print(\"ROC AUC score is not defined as only one class is present in y_true.\")"
   ]
  },
  {
   "cell_type": "markdown",
   "metadata": {
    "id": "6W8NKT_02d6w"
   },
   "source": [
    "##### __Observation__\n",
    "\n",
    "- __Class 0/High__: The model performs very well in classifying instances of Class 0. An AUC of 0.94 indicates that there is a 94% chance that the model will correctly distinguish between a randomly chosen positive instance and a randomly chosen negative instance for Class 0.\n",
    "- __Class 1/Low:__ The model has excellent performance for Class 1, with an AUC of 0.91. This means the model has a 91% chance of correctly distinguishing between a positive instance and a negative instance for Class 1.\n",
    "- __Class 2/Medium:__ The model performs very well for Class 2, with an AUC of 0.90. This indicates a 90% chance of the model correctly distinguishing between a positive instance and a negative instance for Class 2.\n",
    "- __Diagonal Line (Black dashed line):__ The diagonal line represents random guessing, with an AUC of 0.5. Any ROC curve below this line indicates worse than random performance, while curves above this line indicate better than random performance.\n",
    "\n",
    "##### **Key Observations:**\n",
    "\n",
    "- The Naive Bayes performs exceptionally well for all classes, with AUC values ranging from 0.90 to 0.94. The model is best at classifying instances of Class 0, followed closely by Class 1, and then Class 2.\n"
   ]
  },
  {
   "cell_type": "markdown",
   "metadata": {
    "id": "Xv2MlD7xyKCg"
   },
   "source": [
    "### __K-Nearest Neighbors (KNN) - Online Gaming Behavior Dataset__"
   ]
  },
  {
   "cell_type": "code",
   "execution_count": 57,
   "metadata": {
    "id": "uX0cXicNtRDe"
   },
   "outputs": [
    {
     "name": "stdout",
     "output_type": "stream",
     "text": [
      "Class order (KNN): ['High' 'Low' 'Medium']\n"
     ]
    }
   ],
   "source": [
    "pipeline_knn = Pipeline([\n",
    "    ('scaler', StandardScaler()),                # Standardize the data\n",
    "    ('knn', KNeighborsClassifier(n_neighbors=3)) # KNN classifier\n",
    "])\n",
    "\n",
    "# knn_model = KNeighborsClassifier(n_neighbors=3)\n",
    "pipeline_knn.fit(X_train, y_train)\n",
    "\n",
    "# Predict on testing set\n",
    "y_pred_test_knn = pipeline_knn.predict(X_test)\n",
    "y_pred_test_prob_knn = pipeline_knn.predict_proba(X_test)\n",
    "\n",
    "# Determine the class order\n",
    "class_order_knn = pipeline_knn.classes_\n",
    "print(\"Class order (KNN):\", class_order_knn)"
   ]
  },
  {
   "cell_type": "code",
   "execution_count": 58,
   "metadata": {
    "colab": {
     "base_uri": "https://localhost:8080/",
     "height": 224
    },
    "executionInfo": {
     "elapsed": 493,
     "status": "ok",
     "timestamp": 1720378814359,
     "user": {
      "displayName": "Aleena Raj",
      "userId": "16635257578699511263"
     },
     "user_tz": -330
    },
    "id": "hnQCCcYqkCXw",
    "outputId": "5afd789a-3af0-4232-cfbe-f4584a59e69c"
   },
   "outputs": [
    {
     "data": {
      "text/html": [
       "<div>\n",
       "<style scoped>\n",
       "    .dataframe tbody tr th:only-of-type {\n",
       "        vertical-align: middle;\n",
       "    }\n",
       "\n",
       "    .dataframe tbody tr th {\n",
       "        vertical-align: top;\n",
       "    }\n",
       "\n",
       "    .dataframe thead th {\n",
       "        text-align: right;\n",
       "    }\n",
       "</style>\n",
       "<table border=\"1\" class=\"dataframe\">\n",
       "  <thead>\n",
       "    <tr style=\"text-align: right;\">\n",
       "      <th></th>\n",
       "      <th>Actual Label</th>\n",
       "      <th>Predicted Label</th>\n",
       "      <th>Predicted Probability High</th>\n",
       "      <th>Predicted Probability Low</th>\n",
       "      <th>Predicted Probability Medium</th>\n",
       "    </tr>\n",
       "  </thead>\n",
       "  <tbody>\n",
       "    <tr>\n",
       "      <th>34667</th>\n",
       "      <td>Medium</td>\n",
       "      <td>Medium</td>\n",
       "      <td>0.00</td>\n",
       "      <td>0.00</td>\n",
       "      <td>1.00</td>\n",
       "    </tr>\n",
       "    <tr>\n",
       "      <th>22227</th>\n",
       "      <td>Medium</td>\n",
       "      <td>High</td>\n",
       "      <td>0.67</td>\n",
       "      <td>0.00</td>\n",
       "      <td>0.33</td>\n",
       "    </tr>\n",
       "    <tr>\n",
       "      <th>24899</th>\n",
       "      <td>Medium</td>\n",
       "      <td>Low</td>\n",
       "      <td>0.00</td>\n",
       "      <td>0.67</td>\n",
       "      <td>0.33</td>\n",
       "    </tr>\n",
       "    <tr>\n",
       "      <th>35415</th>\n",
       "      <td>Medium</td>\n",
       "      <td>Medium</td>\n",
       "      <td>0.33</td>\n",
       "      <td>0.00</td>\n",
       "      <td>0.67</td>\n",
       "    </tr>\n",
       "    <tr>\n",
       "      <th>21440</th>\n",
       "      <td>Medium</td>\n",
       "      <td>Medium</td>\n",
       "      <td>0.33</td>\n",
       "      <td>0.00</td>\n",
       "      <td>0.67</td>\n",
       "    </tr>\n",
       "  </tbody>\n",
       "</table>\n",
       "</div>"
      ],
      "text/plain": [
       "      Actual Label Predicted Label  Predicted Probability High  \\\n",
       "34667       Medium          Medium                        0.00   \n",
       "22227       Medium            High                        0.67   \n",
       "24899       Medium             Low                        0.00   \n",
       "35415       Medium          Medium                        0.33   \n",
       "21440       Medium          Medium                        0.33   \n",
       "\n",
       "       Predicted Probability Low  Predicted Probability Medium  \n",
       "34667                       0.00                          1.00  \n",
       "22227                       0.00                          0.33  \n",
       "24899                       0.67                          0.33  \n",
       "35415                       0.00                          0.67  \n",
       "21440                       0.00                          0.67  "
      ]
     },
     "execution_count": 58,
     "metadata": {},
     "output_type": "execute_result"
    }
   ],
   "source": [
    "# Create a DataFrame to display actual and predicted labels with probabilities\n",
    "results_df = pd.DataFrame({\n",
    "    'Actual Label': y_test,\n",
    "    'Predicted Label': y_pred_test_knn,\n",
    "})\n",
    "\n",
    "# Add predicted probabilities with correct class names\n",
    "for i, class_name in enumerate(class_order_knn):\n",
    "    results_df[f'Predicted Probability {class_name}'] = np.round(y_pred_test_prob_knn[:, i], 2)\n",
    "\n",
    "# Display the first few rows of the results DataFrame\n",
    "results_df.head()"
   ]
  },
  {
   "cell_type": "code",
   "execution_count": 56,
   "metadata": {
    "colab": {
     "base_uri": "https://localhost:8080/"
    },
    "executionInfo": {
     "elapsed": 7497,
     "status": "ok",
     "timestamp": 1720378845959,
     "user": {
      "displayName": "Aleena Raj",
      "userId": "16635257578699511263"
     },
     "user_tz": -330
    },
    "id": "DlMsEctZtQ9I",
    "outputId": "f5e505c2-8a20-41c0-e586-463ec1a1fd42"
   },
   "outputs": [
    {
     "name": "stdout",
     "output_type": "stream",
     "text": [
      "K-Nearest Neighbors Classification:\n",
      "Training Accuracy: 0.8572855953372189\n",
      "Testing Accuracy: 0.7141875858623704\n"
     ]
    }
   ],
   "source": [
    "# Calculate training and testing accuracy\n",
    "print(\"K-Nearest Neighbors Classification:\")\n",
    "training_accuracy =  accuracy_score(y_train, pipeline_knn.predict(X_train))\n",
    "testing_accuracy = accuracy_score(y_test, y_pred_test_knn)\n",
    "\n",
    "print(f\"Training Accuracy: {training_accuracy}\")\n",
    "print(f\"Testing Accuracy: {testing_accuracy}\")"
   ]
  },
  {
   "cell_type": "code",
   "execution_count": 59,
   "metadata": {
    "colab": {
     "base_uri": "https://localhost:8080/"
    },
    "executionInfo": {
     "elapsed": 377,
     "status": "ok",
     "timestamp": 1720378939321,
     "user": {
      "displayName": "Aleena Raj",
      "userId": "16635257578699511263"
     },
     "user_tz": -330
    },
    "id": "KHZGaRIxtQ3K",
    "outputId": "56f0ebb1-602b-4fdf-9bf9-41a9a246c466"
   },
   "outputs": [
    {
     "data": {
      "image/png": "[encoded data removed]",
      "text/plain": [
       "<Figure size 640x480 with 2 Axes>"
      ]
     },
     "metadata": {},
     "output_type": "display_data"
    }
   ],
   "source": [
    "# Generate the confusion matrix\n",
    "conf_matrix_knn = confusion_matrix(y_test, y_pred_test_knn, labels=class_order_knn)\n",
    "\n",
    "# Heatmap visualization for confusion matrix\n",
    "cm_display = ConfusionMatrixDisplay(confusion_matrix=conf_matrix_knn, display_labels=class_order_knn)\n",
    "\n",
    "# display matrix\n",
    "cm_display.plot()\n",
    "plt.show()"
   ]
  },
  {
   "cell_type": "markdown",
   "metadata": {
    "id": "e00i8Vai_rAM"
   },
   "source": [
    "##### __Observation__\n",
    "\n",
    "- **High:** This class has a moderate number of true positives (3049), but also a significant number of false negatives, indicating that many `high` instances are misclassified as `medium` or `low`.\n",
    "- **Low:** This class has a lower number of true positives (2360) and a high number of false negatives, indicating frequent misclassification of `Low` instances as `medium` or `high`.\n",
    "- **Medium:** This class has a high number of true positives (6028), indicating the model is relatively good at identifying `Medium` instances. However, there is still a considerable number of false negatives."
   ]
  },
  {
   "cell_type": "code",
   "execution_count": 60,
   "metadata": {
    "colab": {
     "base_uri": "https://localhost:8080/"
    },
    "executionInfo": {
     "elapsed": 1038,
     "status": "ok",
     "timestamp": 1720379085187,
     "user": {
      "displayName": "Aleena Raj",
      "userId": "16635257578699511263"
     },
     "user_tz": -330
    },
    "id": "An5Y0YyY-9YV",
    "outputId": "9be698ca-c7d1-461a-ac02-b715f1ff952c"
   },
   "outputs": [
    {
     "name": "stdout",
     "output_type": "stream",
     "text": [
      "              precision    recall  f1-score   support\n",
      "\n",
      "        High       0.71      0.73      0.72      4157\n",
      "         Low       0.72      0.58      0.64      4083\n",
      "      Medium       0.71      0.78      0.74      7774\n",
      "\n",
      "    accuracy                           0.71     16014\n",
      "   macro avg       0.72      0.70      0.70     16014\n",
      "weighted avg       0.71      0.71      0.71     16014\n",
      "\n"
     ]
    }
   ],
   "source": [
    "print(classification_report(y_test, y_pred_test_knn, target_names=class_order_knn))"
   ]
  },
  {
   "cell_type": "code",
   "execution_count": 62,
   "metadata": {
    "colab": {
     "base_uri": "https://localhost:8080/",
     "height": 472
    },
    "executionInfo": {
     "elapsed": 5887,
     "status": "ok",
     "timestamp": 1720375399237,
     "user": {
      "displayName": "Aleena Raj",
      "userId": "16635257578699511263"
     },
     "user_tz": -330
    },
    "id": "FxoeCnqs_Mlx",
    "outputId": "15f592ef-1a38-4326-c050-74f72f0e65a8"
   },
   "outputs": [
    {
     "data": {
      "image/png": "[encoded data removed]",
      "text/plain": [
       "<Figure size 640x480 with 1 Axes>"
      ]
     },
     "metadata": {},
     "output_type": "display_data"
    }
   ],
   "source": [
    "# Check if more than one class is present in y_test\n",
    "if len(set(y_test)) > 1:\n",
    "    # Plot ROC curve\n",
    "    y_test_binarized = label_binarize(y_test, classes=pipeline_knn.classes_)\n",
    "    n_classes = y_test_binarized.shape[1]\n",
    "\n",
    "    y_score = pipeline_knn.predict_proba(X_test)\n",
    "\n",
    "    fpr = dict()\n",
    "    tpr = dict()\n",
    "    roc_auc = dict()\n",
    "\n",
    "    for i in range(n_classes):\n",
    "        fpr[i], tpr[i], _ = roc_curve(y_test_binarized[:, i], y_score[:, i])\n",
    "        roc_auc[i] = roc_auc_score(y_test_binarized[:, i], y_score[:, i])\n",
    "\n",
    "    # Plotting the ROC curves\n",
    "    plt.figure()\n",
    "    colors = cycle(['aqua', 'darkorange', 'cornflowerblue'])\n",
    "    for i, color in zip(range(n_classes), colors):\n",
    "        plt.plot(fpr[i], tpr[i], color=color, lw=2, label='ROC curve of class {0} (area = {1:0.2f})'.format(i, roc_auc[i]))\n",
    "\n",
    "    plt.plot([0, 1], [0, 1], 'k--', lw=2)\n",
    "    plt.xlim([0.0, 1.0])\n",
    "    plt.ylim([0.0, 1.05])\n",
    "    plt.xlabel('False Positive Rate')\n",
    "    plt.ylabel('True Positive Rate')\n",
    "    plt.title('Receiver Operating Characteristic (ROC) Curve')\n",
    "    plt.legend(loc=\"lower right\")\n",
    "    plt.grid(True)\n",
    "    plt.show()\n",
    "else:\n",
    "    print(\"ROC AUC score is not defined as only one class is present in y_true.\")"
   ]
  },
  {
   "cell_type": "markdown",
   "metadata": {
    "id": "26RRXORABNRn"
   },
   "source": [
    "##### __Observation__\n",
    "\n",
    "- **Class 0 (Cyan Line):** `AUC: 0.89` - The model performs well in classifying instances of Class 0/Medium. An AUC of 0.89 indicates that there is an 89% chance that the model will correctly distinguish between a randomly chosen positive instance and a randomly chosen negative instance for Class 0.\n",
    "- **Class 1 (Orange Line):** `AUC: 0.83` - The model has good performance for Class 1, with an AUC of 0.83. This means the model has an 83% chance of correctly distinguishing between a positive instance and a negative instance for Class 1.\n",
    "- **Class 2 (Blue Line):** `AUC: 0.79` - The model performs moderately well for Class 2, with an AUC of 0.79. This indicates a 79% chance of the model correctly distinguishing between a positive instance and a negative instance for Class 2.\n",
    "\n",
    "##### **Key Observation:**\n",
    "\n",
    "- The KNN classifier performs reasonably well for all classes, with AUC values ranging from 0.79 to 0.89.\n",
    "- If the dataset has imbalanced classes (i.e., some classes have significantly more instances than others), this could affect the performance of the model and the ROC curves. It's essential to consider class distribution when interpreting these results."
   ]
  },
  {
   "cell_type": "markdown",
   "metadata": {
    "id": "m2y7FIv92rM3"
   },
   "source": [
    "### __Decision Tree classifier - Online Gaming Behavior Dataset__"
   ]
  },
  {
   "cell_type": "code",
   "execution_count": 65,
   "metadata": {
    "id": "OIbZo_EKtQ0F"
   },
   "outputs": [
    {
     "name": "stdout",
     "output_type": "stream",
     "text": [
      "Class order (DT): ['High' 'Low' 'Medium']\n"
     ]
    }
   ],
   "source": [
    "pipeline_dtc = Pipeline([\n",
    "    ('scaler', StandardScaler()),    # Standardize the data\n",
    "    ('dt', DecisionTreeClassifier(random_state=42)) # Decision Tree classifier\n",
    "])\n",
    "\n",
    "pipeline_dtc.fit(X_train, y_train)\n",
    "\n",
    "# Predict on testing set\n",
    "y_pred_test_dt = pipeline_dtc.predict(X_test)\n",
    "y_pred_test_prob_dt = pipeline_dtc.predict_proba(X_test)\n",
    "\n",
    "# Determine the class order\n",
    "class_order_dt = pipeline_dtc.classes_\n",
    "print(\"Class order (DT):\", class_order_dt)"
   ]
  },
  {
   "cell_type": "code",
   "execution_count": 66,
   "metadata": {
    "colab": {
     "base_uri": "https://localhost:8080/",
     "height": 224
    },
    "executionInfo": {
     "elapsed": 15,
     "status": "ok",
     "timestamp": 1720379171944,
     "user": {
      "displayName": "Aleena Raj",
      "userId": "16635257578699511263"
     },
     "user_tz": -330
    },
    "id": "fEi4W8xzlfnN",
    "outputId": "627639e1-9d10-42b5-ce14-c94bd8751ebd"
   },
   "outputs": [
    {
     "data": {
      "text/html": [
       "<div>\n",
       "<style scoped>\n",
       "    .dataframe tbody tr th:only-of-type {\n",
       "        vertical-align: middle;\n",
       "    }\n",
       "\n",
       "    .dataframe tbody tr th {\n",
       "        vertical-align: top;\n",
       "    }\n",
       "\n",
       "    .dataframe thead th {\n",
       "        text-align: right;\n",
       "    }\n",
       "</style>\n",
       "<table border=\"1\" class=\"dataframe\">\n",
       "  <thead>\n",
       "    <tr style=\"text-align: right;\">\n",
       "      <th></th>\n",
       "      <th>Actual Label</th>\n",
       "      <th>Predicted Label</th>\n",
       "      <th>Predicted Probability High</th>\n",
       "      <th>Predicted Probability Low</th>\n",
       "      <th>Predicted Probability Medium</th>\n",
       "    </tr>\n",
       "  </thead>\n",
       "  <tbody>\n",
       "    <tr>\n",
       "      <th>34667</th>\n",
       "      <td>Medium</td>\n",
       "      <td>Medium</td>\n",
       "      <td>0.0</td>\n",
       "      <td>0.0</td>\n",
       "      <td>1.0</td>\n",
       "    </tr>\n",
       "    <tr>\n",
       "      <th>22227</th>\n",
       "      <td>Medium</td>\n",
       "      <td>Medium</td>\n",
       "      <td>0.0</td>\n",
       "      <td>0.0</td>\n",
       "      <td>1.0</td>\n",
       "    </tr>\n",
       "    <tr>\n",
       "      <th>24899</th>\n",
       "      <td>Medium</td>\n",
       "      <td>High</td>\n",
       "      <td>1.0</td>\n",
       "      <td>0.0</td>\n",
       "      <td>0.0</td>\n",
       "    </tr>\n",
       "    <tr>\n",
       "      <th>35415</th>\n",
       "      <td>Medium</td>\n",
       "      <td>Medium</td>\n",
       "      <td>0.0</td>\n",
       "      <td>0.0</td>\n",
       "      <td>1.0</td>\n",
       "    </tr>\n",
       "    <tr>\n",
       "      <th>21440</th>\n",
       "      <td>Medium</td>\n",
       "      <td>Medium</td>\n",
       "      <td>0.0</td>\n",
       "      <td>0.0</td>\n",
       "      <td>1.0</td>\n",
       "    </tr>\n",
       "  </tbody>\n",
       "</table>\n",
       "</div>"
      ],
      "text/plain": [
       "      Actual Label Predicted Label  Predicted Probability High  \\\n",
       "34667       Medium          Medium                         0.0   \n",
       "22227       Medium          Medium                         0.0   \n",
       "24899       Medium            High                         1.0   \n",
       "35415       Medium          Medium                         0.0   \n",
       "21440       Medium          Medium                         0.0   \n",
       "\n",
       "       Predicted Probability Low  Predicted Probability Medium  \n",
       "34667                        0.0                           1.0  \n",
       "22227                        0.0                           1.0  \n",
       "24899                        0.0                           0.0  \n",
       "35415                        0.0                           1.0  \n",
       "21440                        0.0                           1.0  "
      ]
     },
     "execution_count": 66,
     "metadata": {},
     "output_type": "execute_result"
    }
   ],
   "source": [
    "# Create a DataFrame to display actual and predicted labels with probabilities\n",
    "results_df = pd.DataFrame({\n",
    "    'Actual Label': y_test,\n",
    "    'Predicted Label': y_pred_test_dt,\n",
    "})\n",
    "\n",
    "# Add predicted probabilities with correct class names\n",
    "for i, class_name in enumerate(class_order_dt):\n",
    "    results_df[f'Predicted Probability {class_name}'] = np.round(y_pred_test_prob_dt[:, i], 2)\n",
    "\n",
    "# Display the first few rows of the results DataFrame\n",
    "results_df.head()"
   ]
  },
  {
   "cell_type": "code",
   "execution_count": 67,
   "metadata": {
    "colab": {
     "base_uri": "https://localhost:8080/"
    },
    "executionInfo": {
     "elapsed": 384,
     "status": "ok",
     "timestamp": 1720379188602,
     "user": {
      "displayName": "Aleena Raj",
      "userId": "16635257578699511263"
     },
     "user_tz": -330
    },
    "id": "XXTU6HaftQtD",
    "outputId": "d286a4c5-2bb8-4b20-a06b-6721375abf54"
   },
   "outputs": [
    {
     "name": "stdout",
     "output_type": "stream",
     "text": [
      "Decision Tree Classifier:\n",
      "Training Accuracy: 1.0\n",
      "Testing Accuracy: 0.8285250405894842\n"
     ]
    }
   ],
   "source": [
    "## Calculate training and testing accuracy\n",
    "print(\"Decision Tree Classifier:\")\n",
    "training_accuracy =  accuracy_score(y_train, pipeline_dtc.predict(X_train))\n",
    "testing_accuracy = accuracy_score(y_test, y_pred_test_dt)\n",
    "\n",
    "print(f\"Training Accuracy: {training_accuracy}\")\n",
    "print(f\"Testing Accuracy: {testing_accuracy}\")"
   ]
  },
  {
   "cell_type": "markdown",
   "metadata": {
    "id": "1SyLQbdQEbfQ"
   },
   "source": [
    "##### __Observation__\n",
    "\n",
    "- The high training accuracy combined with the slightly lower testing accuracy typically points towards an overfitting scenario.\n",
    "- In practice, this might mean that the decision tree has complex branches that perfectly classify the training data but slightly miss when predicting new, unseen data.\n",
    "- Adjustments such as pruning the tree, setting a maximum depth, or increasing the minimum samples required for a node split might help in reducing overfitting and improving the model's generalization.\n",
    "- Decision trees are prone to overfitting, especially with complex datasets having many features and deep trees. -\n",
    "- Cross-validation helps in checking whether the model just memorizes the training data or if it generalizes well over unseen data."
   ]
  },
  {
   "cell_type": "markdown",
   "metadata": {},
   "source": [
    "#### __Using cross_val_score with the pipeline and training data__"
   ]
  },
  {
   "cell_type": "code",
   "execution_count": 71,
   "metadata": {
    "colab": {
     "base_uri": "https://localhost:8080/"
    },
    "executionInfo": {
     "elapsed": 1463,
     "status": "ok",
     "timestamp": 1720375513435,
     "user": {
      "displayName": "Aleena Raj",
      "userId": "16635257578699511263"
     },
     "user_tz": -330
    },
    "id": "KeJ6iCpZI3tf",
    "outputId": "af50f26f-b07f-4a37-9af1-06f98fe86529"
   },
   "outputs": [
    {
     "name": "stdout",
     "output_type": "stream",
     "text": [
      "Cross-validation scores: [0.83243131 0.82618651 0.83617818 0.82597835 0.82327227]\n",
      "Mean cross-validation score: 0.8288093255620316\n"
     ]
    }
   ],
   "source": [
    "scores = cross_val_score(pipeline_dtc, X_train, y_train, cv=5)\n",
    "print(\"Cross-validation scores:\", scores)\n",
    "print(\"Mean cross-validation score:\", scores.mean())"
   ]
  },
  {
   "cell_type": "markdown",
   "metadata": {
    "id": "ODN41deba_te"
   },
   "source": [
    "##### **Observation:**\n",
    "\n",
    "- Cross-validation scores vary slightly but generally remain high, with a mean cross-validation score of 0.82. This indicates good model performance and stability."
   ]
  },
  {
   "cell_type": "code",
   "execution_count": 74,
   "metadata": {
    "colab": {
     "base_uri": "https://localhost:8080/"
    },
    "executionInfo": {
     "elapsed": 414,
     "status": "ok",
     "timestamp": 1720379234195,
     "user": {
      "displayName": "Aleena Raj",
      "userId": "16635257578699511263"
     },
     "user_tz": -330
    },
    "id": "nv7ofG7Il4Pk",
    "outputId": "74a83fc9-7319-4b6a-d06f-3ecc22848053"
   },
   "outputs": [
    {
     "data": {
      "image/png": "[encoded data removed]",
      "text/plain": [
       "<Figure size 640x480 with 2 Axes>"
      ]
     },
     "metadata": {},
     "output_type": "display_data"
    }
   ],
   "source": [
    "# Generate the confusion matrix\n",
    "conf_matrix_dt = confusion_matrix(y_test, y_pred_test_dt, labels=class_order_dt)\n",
    "\n",
    "# Heatmap visualization for confusion matrix\n",
    "cm_display = ConfusionMatrixDisplay(confusion_matrix=conf_matrix_dt, display_labels=class_order_dt)\n",
    "\n",
    "# display matrix\n",
    "cm_display.plot()\n",
    "plt.show()"
   ]
  },
  {
   "cell_type": "code",
   "execution_count": 76,
   "metadata": {
    "colab": {
     "base_uri": "https://localhost:8080/"
    },
    "executionInfo": {
     "elapsed": 2049,
     "status": "ok",
     "timestamp": 1720379246358,
     "user": {
      "displayName": "Aleena Raj",
      "userId": "16635257578699511263"
     },
     "user_tz": -330
    },
    "id": "R2D3XOzg4RgG",
    "outputId": "6181124a-2b8f-49e3-809f-4ec65a363e9a"
   },
   "outputs": [
    {
     "name": "stdout",
     "output_type": "stream",
     "text": [
      "              precision    recall  f1-score   support\n",
      "\n",
      "        High       0.80      0.81      0.80      4157\n",
      "         Low       0.79      0.80      0.80      4083\n",
      "      Medium       0.87      0.85      0.86      7774\n",
      "\n",
      "    accuracy                           0.83     16014\n",
      "   macro avg       0.82      0.82      0.82     16014\n",
      "weighted avg       0.83      0.83      0.83     16014\n",
      "\n"
     ]
    }
   ],
   "source": [
    "print(classification_report(y_test, y_pred_test_dt, target_names=class_order_dt))"
   ]
  },
  {
   "cell_type": "markdown",
   "metadata": {
    "id": "jiXaevZwbtmb"
   },
   "source": [
    "### __Random Forest Classifier - Online Gaming Behavior Dataset__"
   ]
  },
  {
   "cell_type": "code",
   "execution_count": 77,
   "metadata": {
    "id": "VUhnV42iSP1q"
   },
   "outputs": [
    {
     "name": "stdout",
     "output_type": "stream",
     "text": [
      "Class order (RFC): ['High' 'Low' 'Medium']\n"
     ]
    }
   ],
   "source": [
    "# Train Random Forest\n",
    "pipeline_rfc = Pipeline([\n",
    "    ('scaler', StandardScaler()),     # Standardize the data\n",
    "    ('clf', RandomForestClassifier(random_state=42)) # Random Forest classifier\n",
    "])\n",
    "\n",
    "pipeline_rfc.fit(X_train, y_train)\n",
    "\n",
    "# Predict on testing set\n",
    "y_pred_test_rfc = pipeline_rfc.predict(X_test)\n",
    "y_pred_test_prob_rfc = pipeline_rfc.predict_proba(X_test)\n",
    "\n",
    "# Determine the class order\n",
    "class_order_rfc = pipeline_rfc.classes_\n",
    "print(\"Class order (RFC):\", class_order_rfc)"
   ]
  },
  {
   "cell_type": "code",
   "execution_count": 78,
   "metadata": {
    "colab": {
     "base_uri": "https://localhost:8080/",
     "height": 224
    },
    "executionInfo": {
     "elapsed": 437,
     "status": "ok",
     "timestamp": 1720379306016,
     "user": {
      "displayName": "Aleena Raj",
      "userId": "16635257578699511263"
     },
     "user_tz": -330
    },
    "id": "iYIzwec4mIHY",
    "outputId": "666bb26e-a13d-4453-c5d0-4eb3ce398894"
   },
   "outputs": [
    {
     "data": {
      "text/html": [
       "<div>\n",
       "<style scoped>\n",
       "    .dataframe tbody tr th:only-of-type {\n",
       "        vertical-align: middle;\n",
       "    }\n",
       "\n",
       "    .dataframe tbody tr th {\n",
       "        vertical-align: top;\n",
       "    }\n",
       "\n",
       "    .dataframe thead th {\n",
       "        text-align: right;\n",
       "    }\n",
       "</style>\n",
       "<table border=\"1\" class=\"dataframe\">\n",
       "  <thead>\n",
       "    <tr style=\"text-align: right;\">\n",
       "      <th></th>\n",
       "      <th>Actual Label</th>\n",
       "      <th>Predicted Label</th>\n",
       "      <th>Predicted Probability High</th>\n",
       "      <th>Predicted Probability Low</th>\n",
       "      <th>Predicted Probability Medium</th>\n",
       "    </tr>\n",
       "  </thead>\n",
       "  <tbody>\n",
       "    <tr>\n",
       "      <th>34667</th>\n",
       "      <td>Medium</td>\n",
       "      <td>Medium</td>\n",
       "      <td>0.07</td>\n",
       "      <td>0.05</td>\n",
       "      <td>0.88</td>\n",
       "    </tr>\n",
       "    <tr>\n",
       "      <th>22227</th>\n",
       "      <td>Medium</td>\n",
       "      <td>Medium</td>\n",
       "      <td>0.08</td>\n",
       "      <td>0.04</td>\n",
       "      <td>0.88</td>\n",
       "    </tr>\n",
       "    <tr>\n",
       "      <th>24899</th>\n",
       "      <td>Medium</td>\n",
       "      <td>Low</td>\n",
       "      <td>0.05</td>\n",
       "      <td>0.80</td>\n",
       "      <td>0.15</td>\n",
       "    </tr>\n",
       "    <tr>\n",
       "      <th>35415</th>\n",
       "      <td>Medium</td>\n",
       "      <td>Medium</td>\n",
       "      <td>0.11</td>\n",
       "      <td>0.08</td>\n",
       "      <td>0.81</td>\n",
       "    </tr>\n",
       "    <tr>\n",
       "      <th>21440</th>\n",
       "      <td>Medium</td>\n",
       "      <td>Medium</td>\n",
       "      <td>0.21</td>\n",
       "      <td>0.06</td>\n",
       "      <td>0.73</td>\n",
       "    </tr>\n",
       "  </tbody>\n",
       "</table>\n",
       "</div>"
      ],
      "text/plain": [
       "      Actual Label Predicted Label  Predicted Probability High  \\\n",
       "34667       Medium          Medium                        0.07   \n",
       "22227       Medium          Medium                        0.08   \n",
       "24899       Medium             Low                        0.05   \n",
       "35415       Medium          Medium                        0.11   \n",
       "21440       Medium          Medium                        0.21   \n",
       "\n",
       "       Predicted Probability Low  Predicted Probability Medium  \n",
       "34667                       0.05                          0.88  \n",
       "22227                       0.04                          0.88  \n",
       "24899                       0.80                          0.15  \n",
       "35415                       0.08                          0.81  \n",
       "21440                       0.06                          0.73  "
      ]
     },
     "execution_count": 78,
     "metadata": {},
     "output_type": "execute_result"
    }
   ],
   "source": [
    "# Create a DataFrame to display actual and predicted labels with probabilities\n",
    "results_df = pd.DataFrame({\n",
    "    'Actual Label': y_test,\n",
    "    'Predicted Label': y_pred_test_rfc,\n",
    "})\n",
    "\n",
    "# Add predicted probabilities with correct class names\n",
    "for i, class_name in enumerate(class_order_rfc):\n",
    "    results_df[f'Predicted Probability {class_name}'] = np.round(y_pred_test_prob_rfc[:, i], 2)\n",
    "\n",
    "# Display the first few rows of the results DataFrame\n",
    "results_df.head()"
   ]
  },
  {
   "cell_type": "code",
   "execution_count": 79,
   "metadata": {
    "colab": {
     "base_uri": "https://localhost:8080/"
    },
    "executionInfo": {
     "elapsed": 1120,
     "status": "ok",
     "timestamp": 1720375723971,
     "user": {
      "displayName": "Aleena Raj",
      "userId": "16635257578699511263"
     },
     "user_tz": -330
    },
    "id": "E5uaHphudDiP",
    "outputId": "5d24ad0a-3150-4942-e87b-9f8d5e81814e"
   },
   "outputs": [
    {
     "name": "stdout",
     "output_type": "stream",
     "text": [
      "Training Accuracy: 1.0\n",
      "Testing Accuracy: 0.909891345073061\n"
     ]
    }
   ],
   "source": [
    "# Calculate training and testing accuracy\n",
    "training_accuracy =  accuracy_score(y_train, pipeline_rfc.predict(X_train))\n",
    "testing_accuracy = accuracy_score(y_test, y_pred_test_rfc)\n",
    "\n",
    "print(\"Random Forest Classification:\")\n",
    "print(f\"Training Accuracy: {training_accuracy}\")\n",
    "print(f\"Testing Accuracy: {testing_accuracy}\")"
   ]
  },
  {
   "cell_type": "code",
   "execution_count": 80,
   "metadata": {
    "colab": {
     "base_uri": "https://localhost:8080/"
    },
    "executionInfo": {
     "elapsed": 407,
     "status": "ok",
     "timestamp": 1720379350394,
     "user": {
      "displayName": "Aleena Raj",
      "userId": "16635257578699511263"
     },
     "user_tz": -330
    },
    "id": "l7xrhpq_mXb8",
    "outputId": "967ba4d7-1883-47f4-ffec-9762e43dcd48"
   },
   "outputs": [
    {
     "data": {
      "image/png": "[encoded data removed]",
      "text/plain": [
       "<Figure size 640x480 with 2 Axes>"
      ]
     },
     "metadata": {},
     "output_type": "display_data"
    }
   ],
   "source": [
    "# Generate the confusion matrix\n",
    "conf_matrix_rfc = confusion_matrix(y_test, y_pred_test_rfc, labels=class_order_rfc)\n",
    "\n",
    "# Heatmap visualization for confusion matrix\n",
    "cm_display = ConfusionMatrixDisplay(confusion_matrix=conf_matrix_rfc, display_labels=class_order_rfc)\n",
    "\n",
    "# display matrix\n",
    "cm_display.plot()\n",
    "plt.show()"
   ]
  },
  {
   "cell_type": "code",
   "execution_count": 81,
   "metadata": {
    "colab": {
     "base_uri": "https://localhost:8080/"
    },
    "executionInfo": {
     "elapsed": 982,
     "status": "ok",
     "timestamp": 1720379361295,
     "user": {
      "displayName": "Aleena Raj",
      "userId": "16635257578699511263"
     },
     "user_tz": -330
    },
    "id": "STUGI5_fdaFS",
    "outputId": "8ad7483f-cbbe-473c-c6b1-6f77b134a188"
   },
   "outputs": [
    {
     "name": "stdout",
     "output_type": "stream",
     "text": [
      "              precision    recall  f1-score   support\n",
      "\n",
      "        High       0.93      0.87      0.90      4157\n",
      "         Low       0.91      0.88      0.89      4083\n",
      "      Medium       0.90      0.95      0.92      7774\n",
      "\n",
      "    accuracy                           0.91     16014\n",
      "   macro avg       0.91      0.90      0.91     16014\n",
      "weighted avg       0.91      0.91      0.91     16014\n",
      "\n"
     ]
    }
   ],
   "source": [
    "print(classification_report(y_test, y_pred_test_rfc, target_names=class_order_rfc))"
   ]
  },
  {
   "cell_type": "markdown",
   "metadata": {
    "id": "DbTb8msp8t68"
   },
   "source": [
    "##### __Observation:__\n",
    "\n",
    "- The Random Forest model shows perfect accuracy on both the training and testing sets, indicating that it has classified all instances correctly.\n",
    "- The confusion matrix for the Random Forest model shows perfect classification for all classes, with less misclassifications. The Decision Tree had a few misclassifications, particularly one misclassified instance in Medium and Low.\n",
    "- Given the perfect performance of the Random Forest model on this dataset, further hyperparameter tuning might not be necessary. However, for more complex datasets, hyperparameter tuning could further optimize the model's performance."
   ]
  },
  {
   "cell_type": "markdown",
   "metadata": {
    "id": "PNUi6fbfYafk"
   },
   "source": [
    "## __Multi-Label Classification__"
   ]
  },
  {
   "cell_type": "markdown",
   "metadata": {
    "id": "V4tZFQsIYarT"
   },
   "source": [
    "It allows us to classify datasets with more than one target variable. There are several labels for the outputs of a given prediction, and when making predictions, a given input may belong to more than one label.\n",
    "\n",
    "\n",
    "\n"
   ]
  },
  {
   "cell_type": "markdown",
   "metadata": {},
   "source": [
    "### __Examples__"
   ]
  },
  {
   "cell_type": "markdown",
   "metadata": {},
   "source": [
    "#### __1. Text Categorization__"
   ]
  },
  {
   "cell_type": "markdown",
   "metadata": {},
   "source": [
    "**Example:** News Article Classification\n",
    "\n",
    "**Scenario:** A news article might belong to multiple categories such as politics, economy, and health.\n",
    "\n",
    "**Implementation:** Using multilabel classification, the classifier can assign multiple labels to each news article indicating the categories it belongs to."
   ]
  },
  {
   "cell_type": "markdown",
   "metadata": {},
   "source": [
    "#### __2. Image Tagging__"
   ]
  },
  {
   "cell_type": "markdown",
   "metadata": {},
   "source": [
    "**Example:** Automatic Tagging of Images on Social Media\n",
    "\n",
    "**Scenario:** An image can contain multiple objects such as people, cars, trees, etc.\n",
    "\n",
    "**Implementation:** A multilabel classifier can predict all the objects present in an image, thus tagging it with multiple labels."
   ]
  },
  {
   "cell_type": "markdown",
   "metadata": {},
   "source": [
    "#### __3. Medical Diagnosis__"
   ]
  },
  {
   "cell_type": "markdown",
   "metadata": {},
   "source": [
    "**Example:** Predicting Multiple Diseases\n",
    "\n",
    "**Scenario:** A patient might have multiple co-existing conditions, such as diabetes, hypertension, and heart disease.\n",
    "\n",
    "**Implementation:** A multilabel classifier can be trained to predict all the diseases a patient might have based on their medical records and test results.\n"
   ]
  },
  {
   "cell_type": "markdown",
   "metadata": {},
   "source": [
    "#### __4. Music Genre Classification__"
   ]
  },
  {
   "cell_type": "markdown",
   "metadata": {},
   "source": [
    "**Example:** Categorizing Songs by Genres\n",
    "\n",
    "**Scenario:** A single song might belong to multiple genres such as rock, blues, and jazz.\n",
    "\n",
    "**Implementation:** Using multilabel classification, the classifier can tag each song with all relevant genres."
   ]
  },
  {
   "cell_type": "markdown",
   "metadata": {},
   "source": [
    "#### __5. Tagging Questions in Q&A Platforms__"
   ]
  },
  {
   "cell_type": "markdown",
   "metadata": {
    "id": "6q2Ctr7a5zBI"
   },
   "source": [
    "**Example:** Tagging Questions on Stack Overflow\n",
    "\n",
    "**Scenario:** A single question might relate to multiple topics such as Python, data science, and machine learning.\n",
    "\n",
    "**Implementation:** A multilabel classifier can automatically assign all relevant tags to each question posted on the platform."
   ]
  },
  {
   "cell_type": "markdown",
   "metadata": {},
   "source": [
    "### __Algorithms for Multi-Label Classification__"
   ]
  },
  {
   "cell_type": "markdown",
   "metadata": {},
   "source": [
    "#### __1. Binary Relevance (BR):__"
   ]
  },
  {
   "cell_type": "markdown",
   "metadata": {},
   "source": [
    "**Concept:** In BR, we treat each label independently and train a separate binary classifier for each label.\n",
    "\n",
    "**Algorithm:**\n",
    "- For each label ($L_i$), create a new binary classification problem.\n",
    "- Train a binary classifier on the original features to predict whether ($L_i$) is present or not.\n",
    "- Combine the predictions from all binary classifiers to form the final multilabel prediction.\n",
    "\n",
    "Below are the popular classifiers under it:\n",
    "\n",
    "- Logistic Regression (BR)\n",
    "- Naive Bayes (BR)\n",
    "- Decision Tree Classifier (BR)\n",
    "- Random Forest Classifier (BR)\n",
    "- Support Vector Machine (SVM) (BR)\n",
    "- OneVsRestClassifier (OvR): The OneVsRestClassifier, also known as One-vs-All, works by training a single classifier per class, with the samples of that class as positive samples and all other samples as negatives. This method involves training as many classifiers as there are classes in the dataset. Each classifier is responsible for deciding whether an instance belongs to its corresponding class or not."
   ]
  },
  {
   "cell_type": "markdown",
   "metadata": {},
   "source": [
    "#### __2. Classifier Chains (CC):__"
   ]
  },
  {
   "cell_type": "markdown",
   "metadata": {},
   "source": [
    "**Concept:** CC models label dependencies by chaining classifiers.\n",
    "\n",
    "**Algorithm:**\n",
    "\n",
    "- Order the labels in a chain (randomly or based on some heuristic).\n",
    "- Train the first binary classifier on the original features.\n",
    "- For subsequent labels, include the predictions of previous classifiers as additional features.\n",
    "- Continue this process through the chain of classifiers.\n",
    "- Combine the predictions from all classifiers to form the final multilabel prediction.\n",
    "\n",
    "Below are the popular classifiers under it:\n",
    "\n",
    "- Logistic Regression (LP)\n",
    "- Naive Bayes (LP)\n",
    "- Decision Tree Classifier (LP)\n",
    "- Random Forest Classifier (LP)\n",
    "- Support Vector Machine (SVM) (LP)"
   ]
  },
  {
   "cell_type": "markdown",
   "metadata": {},
   "source": [
    "#### __3. Label Powerset (LP):__"
   ]
  },
  {
   "cell_type": "markdown",
   "metadata": {},
   "source": [
    "**Concept:** LP transforms the multilabel problem into a single multiclass problem by considering each unique set of labels as a single class.\n",
    "\n",
    "**Algorithm:**\n",
    "\n",
    "- Create a new target variable where each unique combination of labels is treated as a separate class.\n",
    "- Train a single multiclass classifier on the original features to predict this new target variable.\n",
    "- Convert the multiclass predictions back to multilabel format\n",
    "\n",
    "Below are the popular classifiers under it:\n",
    "\n",
    "- Logistic Regression (LP)\n",
    "- Naive Bayes (LP)\n",
    "- Decision Tree Classifier (LP)\n",
    "- Random Forest Classifier (LP)\n",
    "- Support Vector Machine (SVM) (LP)"
   ]
  },
  {
   "cell_type": "markdown",
   "metadata": {},
   "source": [
    "#### __4. Ensemble Methods:__"
   ]
  },
  {
   "cell_type": "markdown",
   "metadata": {},
   "source": [
    "**Concept:** Ensemble methods combine predictions from multiple base models to improve performance.\n",
    "\n",
    "**Algorithm:**\n",
    "\n",
    "- Train multiple multilabel classifiers (e.g., using BR, CC, or LP).\n",
    "- Combine their predictions using techniques like majority voting, weighted averaging, or stacking.\n",
    "\n",
    "Below are the popular classifiers under it:\n",
    "\n",
    "- Ensemble of Binary Relevance\n",
    "- Ensemble of Classifier Chains\n",
    "- RandomKLabelsets (RAkEL)"
   ]
  },
  {
   "cell_type": "markdown",
   "metadata": {
    "id": "6YIoxH2AojbE"
   },
   "source": [
    "### __Challenges in Multi-Label Classification:__"
   ]
  },
  {
   "cell_type": "markdown",
   "metadata": {},
   "source": [
    "Multilabel classification, while a powerful technique, is less commonly used compared to other types of classification for several reasons. Here are some key points to substantiate this:\n"
   ]
  },
  {
   "cell_type": "markdown",
   "metadata": {},
   "source": [
    "#### __Complexity and Computation:__"
   ]
  },
  {
   "cell_type": "markdown",
   "metadata": {},
   "source": [
    "- **Algorithmic Complexity:** Multilabel classification algorithms are inherently more complex than binary or multiclass classification algorithms. They need to handle multiple labels simultaneously, which can lead to higher computational costs and longer training times.\n",
    "- **Computational Resources:** Multilabel classification often requires more computational resources, including memory and processing power. This can be a limiting factor, especially for large datasets or when deploying models in resource-constrained environments."
   ]
  },
  {
   "cell_type": "markdown",
   "metadata": {},
   "source": [
    "#### __Data Challenges:__"
   ]
  },
  {
   "cell_type": "markdown",
   "metadata": {},
   "source": [
    "- **Label Correlation:** Handling correlations between labels adds another layer of complexity. Many traditional classification algorithms are not designed to capture and leverage these correlations effectively.\n",
    "- **Sparse Labels:** In many practical scenarios, multilabel datasets are sparse, meaning that most instances are only associated with a few of the possible labels. This sparsity can make it difficult for algorithms to learn effectively."
   ]
  },
  {
   "cell_type": "markdown",
   "metadata": {},
   "source": [
    "#### __Evaluation and Interpretation:__"
   ]
  },
  {
   "cell_type": "markdown",
   "metadata": {},
   "source": [
    "- **Evaluation Metrics:** Evaluating multilabel classifiers is more complex because traditional metrics like accuracy don't capture the nuances of multilabel predictions. Metrics like Hamming Loss, F1-score, and others need to be carefully chosen and interpreted.\n",
    "- **Interpretability:** Models in multilabel classification can be harder to interpret. Understanding why a model made certain predictions for multiple labels simultaneously can be challenging, making it difficult to trust and act upon the model's output."
   ]
  },
  {
   "cell_type": "markdown",
   "metadata": {},
   "source": [
    "#### __Practical and Application-Specific Issues:__"
   ]
  },
  {
   "cell_type": "markdown",
   "metadata": {},
   "source": [
    "- **Limited Applications:** There are fewer applications that inherently require multilabel classification. Many real-world problems can be adequately addressed with binary or multiclass classification, reducing the demand for multilabel techniques.\n",
    "- **Data Availability:** Multilabel datasets are less common compared to binary or multiclass datasets. This scarcity makes it harder for practitioners to find appropriate data to train and evaluate their models."
   ]
  },
  {
   "cell_type": "markdown",
   "metadata": {},
   "source": [
    "#### __Software and Tooling:__"
   ]
  },
  {
   "cell_type": "markdown",
   "metadata": {
    "id": "XV59y68CpE2z"
   },
   "source": [
    "- **Tooling and Libraries:** Although libraries like scikit-learn and scikit-multilearn provide support for multilabel classification, the ecosystem is not as mature as for binary or multiclass classification. Fewer pre-built tools, frameworks, and resources are available, which can discourage adoption."
   ]
  },
  {
   "cell_type": "markdown",
   "metadata": {
    "id": "U0DMCpLbp7Lk"
   },
   "source": [
    "Below are additional resources/research papers to learn more about Multi-label classification:\n",
    " 1. [Deep Learning for Multi-Label Learning: A Comprehensive Survey](https://arxiv.org/abs/2401.16549)\n",
    " 2. [Comprehensive Comparative Study of Multi-Label Classification Methods](https://arxiv.org/abs/2102.07113)\n",
    " 3. [MlTr: Multi-label Classification with Transformer](https://arxiv.org/abs/2106.06195)\n"
   ]
  },
  {
   "cell_type": "code",
   "execution_count": null,
   "metadata": {
    "id": "XUD3wGsqLWiY"
   },
   "outputs": [],
   "source": []
  },
  {
   "cell_type": "code",
   "execution_count": null,
   "metadata": {},
   "outputs": [],
   "source": []
  }
 ],
 "metadata": {
  "colab": {
   "provenance": []
  },
  "kernelspec": {
   "display_name": "Python [conda env:base] *",
   "language": "python",
   "name": "conda-base-py"
  },
  "language_info": {
   "codemirror_mode": {
    "name": "ipython",
    "version": 3
   },
   "file_extension": ".py",
   "mimetype": "text/x-python",
   "name": "python",
   "nbconvert_exporter": "python",
   "pygments_lexer": "ipython3",
   "version": "3.12.7"
  }
 },
 "nbformat": 4,
 "nbformat_minor": 4
}
