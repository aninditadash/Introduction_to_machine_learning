{
 "cells": [
  {
   "cell_type": "code",
   "execution_count": 1,
   "metadata": {},
   "outputs": [
    {
     "name": "stdout",
     "output_type": "stream",
     "text": [
      "Requirement already satisfied: imbalanced-learn in /opt/anaconda3/lib/python3.12/site-packages (0.13.0)\n",
      "Requirement already satisfied: numpy<3,>=1.24.3 in /opt/anaconda3/lib/python3.12/site-packages (from imbalanced-learn) (1.26.4)\n",
      "Requirement already satisfied: scipy<2,>=1.10.1 in /opt/anaconda3/lib/python3.12/site-packages (from imbalanced-learn) (1.13.1)\n",
      "Requirement already satisfied: scikit-learn<2,>=1.3.2 in /opt/anaconda3/lib/python3.12/site-packages (from imbalanced-learn) (1.5.1)\n",
      "Requirement already satisfied: sklearn-compat<1,>=0.1 in /opt/anaconda3/lib/python3.12/site-packages (from imbalanced-learn) (0.1.3)\n",
      "Requirement already satisfied: joblib<2,>=1.1.1 in /opt/anaconda3/lib/python3.12/site-packages (from imbalanced-learn) (1.4.2)\n",
      "Requirement already satisfied: threadpoolctl<4,>=2.0.0 in /opt/anaconda3/lib/python3.12/site-packages (from imbalanced-learn) (3.5.0)\n"
     ]
    }
   ],
   "source": [
    "!pip install -U imbalanced-learn"
   ]
  },
  {
   "cell_type": "markdown",
   "metadata": {
    "id": "FnEvCmckv_Pg"
   },
   "source": [
    "# __Supervised Learning: Handling Imbalanced Data in Classification__"
   ]
  },
  {
   "cell_type": "markdown",
   "metadata": {
    "id": "C7_C9Kvh3UeJ"
   },
   "source": [
    "- Handling Imbalanced Data in Classification\n",
    "  - Introduction to Imbalanced Data\n",
    "  - Oversampling Techniques (e.g., SMOTE)\n",
    "  - Undersampling Techniques\n",
    "  - Ensemble Methods for Imbalanced Data"
   ]
  },
  {
   "cell_type": "markdown",
   "metadata": {
    "id": "ImGygr815Yje"
   },
   "source": [
    "## __Introduction to Imbalanced Data__"
   ]
  },
  {
   "cell_type": "markdown",
   "metadata": {
    "id": "otyby_3n5hp2"
   },
   "source": [
    "In machine learning classification tasks, handling imbalanced data is crucial. \n",
    "\n",
    "- The problem with this imbalance is that models tend to favor the majority class, leading to poor performance in identifying minority classes.\n",
    "- In such cases, the model prioritizes overall accuracy instead of accurately recognizing minority class instances.\n",
    "\n",
    "Imbalanced data refers to a situation in a dataset where the classes are not represented equally. This typically happens in classification problems, where one class (the majority class) significantly outnumbers the other class or classes (the minority class or classes)."
   ]
  },
  {
   "cell_type": "markdown",
   "metadata": {
    "id": "RS95F0TfHOhw"
   },
   "source": [
    "#### __Imbalanced Data: Example__"
   ]
  },
  {
   "cell_type": "markdown",
   "metadata": {
    "id": "0VqfZ_0c5ugo"
   },
   "source": [
    "- **Balanced Dataset:** A balanced dataset has an equal or nearly equal representation of all classes. __Distribution:__ Healthy (50.4%) and Diseased (49.6%).\n",
    "- **Imbalanced Dataset:** An imbalanced dataset has a significant difference in the representation of classes, with one class being much more prevalent than the others. __Distribution:__ Healthy (99%) and Diseased (1%)."
   ]
  },
  {
   "cell_type": "markdown",
   "metadata": {
    "id": "7MBxF24v8qlU"
   },
   "source": [
    "#### __Applications of Handling Imbalanced Data__"
   ]
  },
  {
   "cell_type": "markdown",
   "metadata": {
    "id": "kPifZzIa-rhr"
   },
   "source": [
    "- **Medical Diagnosis:** Detecting rare diseases where early and accurate detection is vital. Imbalanced data can lead to models that fail to identify patients with the disease.\n",
    "- **Fraud Detection:** Identifying fraudulent transactions among a large number of legitimate transactions. The cost of missing fraud can be high, making accurate detection crucial.\n",
    "- **Spam Detection:** Filtering spam emails from a large volume of legitimate emails. A balanced approach ensures spam emails are correctly identified and filtered."
   ]
  },
  {
   "cell_type": "markdown",
   "metadata": {
    "id": "6ojHXNYU-iiV"
   },
   "source": [
    "## __Techniques to Handle Imbalanced Data__"
   ]
  },
  {
   "cell_type": "markdown",
   "metadata": {
    "id": "1nc6Q9jrFJ7a"
   },
   "source": [
    "There are numerous techniques available for addressing imbalanced data. In this discussion, we will focus on understanding three key methods:\n",
    "\n",
    "1. **Oversampling Techniques (e.g., SMOTE):**  Condition for Use: Ideal when the minority class is severely underrepresented.\n",
    "2. **Undersampling Techniques (Random Undersampling):** Condition for Use: Useful when the dataset is large enough, and removing instances won't result in significant information loss.\n",
    "3. **Ensemble Methods for Imbalanced Data (Balanced Random Forest):** Condition for Use: Effective when leveraging an ensemble approach to maintain robustness and generalizability while addressing class imbalance."
   ]
  },
  {
   "cell_type": "markdown",
   "metadata": {
    "id": "ewGsiSEsFKGC"
   },
   "source": [
    "### __1. Oversampling Techniques__"
   ]
  },
  {
   "cell_type": "markdown",
   "metadata": {
    "id": "_7LA9V4MFX0S"
   },
   "source": [
    "Oversampling is a technique used to balance the class distribution by increasing the number of minority class samples. This can be done by duplicating existing samples or creating synthetic ones.\n",
    "\n",
    "<img src=\"https://labcontent.simplicdn.net/data-content/content-assets/Data_and_AI/ML/Lesson04_Regression/updates/oversampling.png\" width=400 height=400 />"
   ]
  },
  {
   "cell_type": "markdown",
   "metadata": {},
   "source": [
    "### __1.1 Random Oversampling__"
   ]
  },
  {
   "cell_type": "markdown",
   "metadata": {},
   "source": [
    "Random oversampling is a technique used in machine learning to address imbalanced datasets. It involves duplicating existing examples from the minority class and adding them to the training dataset, effectively increasing the number of samples in the minority class. This helps to improve the performance of algorithms that are sensitive to class imbalances. \n",
    "\n",
    "- It is simple to implement and helps in increasing the representation of the minority class.\n",
    "- However, duplicating samples can lead to overfitting.\n",
    "- The model may also become overly sensitive to the specific instances in the training set, potentially reducing its ability to generalize to other data. "
   ]
  },
  {
   "cell_type": "markdown",
   "metadata": {},
   "source": [
    "### __1.2 SMOTE (Synthetic Minority Over-sampling Technique)__"
   ]
  },
  {
   "cell_type": "markdown",
   "metadata": {
    "id": "btGFZvp5FbOj"
   },
   "source": [
    "It is a more advanced method that generates new synthetic samples for the minority class. \n",
    "\n",
    "- It aims to balance class distribution by randomly increasing minority class examples by replicating them.\n",
    "- SMOTE synthesises new minority instances between existing minority instances.\n",
    "- It generates the virtual training records by linear interpolation for the minority class.\n",
    "\n",
    "It works by:\n",
    "1. Selecting a random minority class sample.\n",
    "2. Finding its k-nearest neighbors (usually k=5).\n",
    "3. Choosing one of these neighbors and creating a synthetic sample along the line segment joining the original sample and the neighbor."
   ]
  },
  {
   "cell_type": "markdown",
   "metadata": {},
   "source": [
    "#### __Advantages of SMOTE:__"
   ]
  },
  {
   "cell_type": "markdown",
   "metadata": {
    "id": "pO-YtO2FFsM3"
   },
   "source": [
    "- __Prevents overfitting:__ Unlike simple duplication, SMOTE generates new samples, which helps in creating a more generalizable model.\n",
    "- __Balances the dataset:__ By creating new samples, SMOTE helps balance the class distribution, improving the model's ability to learn from minority class examples."
   ]
  },
  {
   "cell_type": "markdown",
   "metadata": {},
   "source": [
    "#### __Disadvantages of SMOTE:__"
   ]
  },
  {
   "cell_type": "markdown",
   "metadata": {},
   "source": [
    "- __Noise Introduction:__ If the original data has noise or is poorly distributed, SMOTE can amplify this noise by creating synthetic samples that are based on these noisy data points.\n",
    "- __Overfitting:__ SMOTE can sometimes generate synthetic samples that are too similar to existing data, leading to overfitting, especially when the minority class is very small or clustered.\n",
    "- __Overgeneralization:__ SMOTE might create synthetic data that over-represents the minority class, leading to a bias in the model towards the minority class and potentially reducing overall accuracy and can sometimes create unrealistic samples.\n",
    "- __Not Suitable for Extreme Imbalance:__ It can struggle when the imbalance between classes is very large, or when the minority class has very few samples.\n",
    "- __Challenges with High-Dimensional Data:__ SMOTE's effectiveness can be reduced when dealing with high-dimensional data, as it becomes harder to accurately identify and interpolate between nearest neighbors."
   ]
  },
  {
   "cell_type": "markdown",
   "metadata": {
    "id": "gyYHksvpHyMu"
   },
   "source": [
    "### __2. Undersampling Techniques__"
   ]
  },
  {
   "cell_type": "markdown",
   "metadata": {
    "id": "eaTed9DJH-z9"
   },
   "source": [
    "Undersampling is the opposite of oversampling. It involves reducing the number of samples in the majority class to balance the dataset. This can be done by randomly removing samples or using more sophisticated techniques.\n",
    "\n",
    "<img src=\"https://labcontent.simplicdn.net/data-content/content-assets/Data_and_AI/ML/Lesson04_Regression/updates/undersampling.png\" width=400 height=400 />"
   ]
  },
  {
   "cell_type": "markdown",
   "metadata": {},
   "source": [
    "### __2.1 Random Undersampling:__"
   ]
  },
  {
   "cell_type": "markdown",
   "metadata": {
    "id": "lkpTqmEnIDLa"
   },
   "source": [
    "It is the simplest form of undersampling, where majority class samples are randomly removed to achieve balance.\n",
    "\n",
    "It works by:\n",
    "1. **Identify Majority and Minority Classes:** First, identify which class is overrepresented (majority class) and which is underrepresented (minority class) in the dataset.\n",
    "2. **Randomly Remove Samples:** Randomly select and remove samples from the majority class until the number of samples in each class is balanced. For example, if you have 1,000 samples in the majority class and 100 in the minority class, you might randomly remove 900 samples from the majority class.\n",
    "3. **Resulting Dataset:** The resulting dataset will have a more balanced distribution of classes, with a reduced number of samples from the majority class."
   ]
  },
  {
   "cell_type": "markdown",
   "metadata": {},
   "source": [
    "#### **Advantages of Random Undersampling:**"
   ]
  },
  {
   "cell_type": "markdown",
   "metadata": {
    "id": "6Srqqo2YIhNe"
   },
   "source": [
    "- **Simple and easy to implement:** This technique is straightforward and can be applied quickly.\n",
    "- **Reduces training time:** By reducing the number of samples, it can speed up the training process."
   ]
  },
  {
   "cell_type": "markdown",
   "metadata": {},
   "source": [
    "#### **Disadvantages of Random Undersampling:**"
   ]
  },
  {
   "cell_type": "markdown",
   "metadata": {},
   "source": [
    "- **Loss of information:** Removing samples from the majority class can lead to loss of important information.\n",
    "- **Overfitting:** The model might overfit to the remaining data, especially if the dataset is small."
   ]
  },
  {
   "cell_type": "markdown",
   "metadata": {
    "id": "3wzBLwBzJcgK"
   },
   "source": [
    "### __3. Ensemble Methods for Imbalanced Data__"
   ]
  },
  {
   "cell_type": "markdown",
   "metadata": {
    "id": "y9QOA55pJjv_"
   },
   "source": [
    "Ensemble methods combine multiple models to improve performance. For imbalanced data, one effective approach is to use an ensemble method that specifically addresses class imbalance."
   ]
  },
  {
   "cell_type": "markdown",
   "metadata": {},
   "source": [
    "### __3.1 Balanced Random Forest (BRF)__"
   ]
  },
  {
   "cell_type": "markdown",
   "metadata": {
    "id": "792xtth2Jue0"
   },
   "source": [
    "It is an ensemble learning method designed to handle class imbalance in classification tasks. It modifies the standard Random Forest algorithm to address the imbalance issue by combining random undersampling of the majority class with the power of ensemble learning.\n",
    "\n",
    "It works by:\n",
    "\n",
    "1. **Sampling:** In each iteration, instead of using the entire majority class, BRF randomly samples (with replacement) a subset of the majority class that is equal in size to the minority class. This creates a balanced subset of the data for training each tree.\n",
    "2. **Tree Construction:** A decision tree is trained on this balanced subset. Each tree in the forest is built using a different balanced subset of the data.\n",
    "3. **Ensemble Learning:** The final model is an ensemble of these trees. Predictions are made by averaging the predictions of all trees (in the case of regression) or by majority vote (in the case of classification).\n",
    "\n",
    "While Balanced Random Forests address class imbalance, they still inherit some general disadvantages from the RF algorithm. These include potential for high computational cost, increased memory usage, and reduced interpretability compared to simpler models. Furthermore, they can still overfit, particularly with noisy data, and may not be optimal for all regression tasks. "
   ]
  },
  {
   "cell_type": "markdown",
   "metadata": {
    "id": "48sdoqUtJ4VV"
   },
   "source": [
    "#### **Benefits of Balanced Random Forest**"
   ]
  },
  {
   "cell_type": "markdown",
   "metadata": {
    "id": "5jNw0WJFKC4M"
   },
   "source": [
    "- **Improved Performance on Minority Class:** By balancing the dataset for each tree, BRF improves the model’s ability to correctly classify instances of the minority class.\n",
    "- **Reduced Bias:** It helps in reducing the bias towards the majority class, a common issue in imbalanced datasets.\n",
    "- **Robustness:** The ensemble approach enhances the robustness of the model by combining multiple trees, each trained on a different balanced subset of the data."
   ]
  },
  {
   "cell_type": "markdown",
   "metadata": {},
   "source": [
    "### __4. Using `class_weight` parameter in Scikit-Learn models to handle imbalanced datasets__"
   ]
  },
  {
   "cell_type": "markdown",
   "metadata": {},
   "source": [
    "- The imbalance classes in the data can lead to biased models that perform well on the majority class but poorly on the minority class. \n",
    "- Scikit-learn provides a handy parameter called `class_weight` to address this issue, which can be particularly useful when training models on such datasets.\n",
    "- The `class_weight` parameter is used to assign weights to the classes in the data.\n",
    "- This is particularly useful when you have an imbalanced dataset.\n",
    "- By assigning a higher weight to the minority class and a lower weight to the majority class, the model is forced to pay more attention to the minority class during training.\n",
    "- The `class_weight` accepts below parameters: None, Balanced, custom weight using dictionary, list with class indices.\n",
    "- `class_weight = {0: 1.0, 1: 5.0}`"
   ]
  },
  {
   "cell_type": "markdown",
   "metadata": {},
   "source": [
    "## __Credit Card Fraud Detection dataset (Classification)__"
   ]
  },
  {
   "cell_type": "markdown",
   "metadata": {},
   "source": [
    "#### __Dataset Description:__"
   ]
  },
  {
   "cell_type": "markdown",
   "metadata": {
    "id": "T0zdi1EBiCz7"
   },
   "source": [
    "The datasets contains transactions made by credit cards in September 2013 by European cardholders.\n",
    "\n",
    "It contains only numerical input variables which are the result of a PCA transformation. Unfortunately, due to confidentiality issues, original features and more background information about the data is not available.\n",
    "\n",
    "- Features `V1, V2, ... V28` are the principal components obtained with PCA, the only features which have not been transformed with PCA are `Time` and `Amount`.\n",
    "- Feature `Time` contains the seconds elapsed between each transaction and the first transaction in the dataset.\n",
    "- The feature `Amount` is the transaction Amount, this feature can be used for example-dependant cost-senstive learning.\n",
    "- Feature `Class` is the response/target variable and it takes value `1 in case of fraud` and `0 otherwise`."
   ]
  },
  {
   "cell_type": "markdown",
   "metadata": {},
   "source": [
    "##### __Using this dataset for classification has the following disadvantages:__"
   ]
  },
  {
   "cell_type": "markdown",
   "metadata": {
    "id": "HqU80-SxVQIV"
   },
   "source": [
    "- _Bias Towards Non-Fraudulent Transactions:_ The model may predict non-fraudulent transactions more often due to their dominance, leading to poor detection of fraudulent transactions.\n",
    "- _Misleading Metrics:_ High accuracy can be misleading since it may not reflect the model's performance on the minority class (fraudulent transactions). Techniques like resampling or cost-sensitive learning are needed to address this imbalance."
   ]
  },
  {
   "cell_type": "markdown",
   "metadata": {},
   "source": [
    "#### __Import the necessary libraries__"
   ]
  },
  {
   "cell_type": "code",
   "execution_count": 2,
   "metadata": {
    "id": "m6dvoe1OTBr6"
   },
   "outputs": [],
   "source": [
    "import pandas as pd\n",
    "from sklearn.model_selection import train_test_split, cross_val_score\n",
    "from sklearn.preprocessing import StandardScaler\n",
    "from sklearn.tree import DecisionTreeClassifier\n",
    "from sklearn.metrics import accuracy_score, classification_report\n",
    "import matplotlib.pyplot as plt\n",
    "import seaborn as sns\n",
    "from sklearn.metrics import classification_report, confusion_matrix, roc_curve, auc\n",
    "from sklearn.metrics import ConfusionMatrixDisplay\n",
    "from sklearn.metrics import roc_auc_score, roc_curve"
   ]
  },
  {
   "cell_type": "markdown",
   "metadata": {},
   "source": [
    "#### __Pre-processing the dataset__"
   ]
  },
  {
   "cell_type": "code",
   "execution_count": 3,
   "metadata": {
    "colab": {
     "base_uri": "https://localhost:8080/",
     "height": 256
    },
    "executionInfo": {
     "elapsed": 9,
     "status": "ok",
     "timestamp": 1718545396976,
     "user": {
      "displayName": "Aleena Raj",
      "userId": "16635257578699511263"
     },
     "user_tz": -330
    },
    "id": "9k4LZ98DTQqX",
    "outputId": "c9551ca3-4792-4e21-f946-ebf9ed501081"
   },
   "outputs": [
    {
     "data": {
      "text/html": [
       "<div>\n",
       "<style scoped>\n",
       "    .dataframe tbody tr th:only-of-type {\n",
       "        vertical-align: middle;\n",
       "    }\n",
       "\n",
       "    .dataframe tbody tr th {\n",
       "        vertical-align: top;\n",
       "    }\n",
       "\n",
       "    .dataframe thead th {\n",
       "        text-align: right;\n",
       "    }\n",
       "</style>\n",
       "<table border=\"1\" class=\"dataframe\">\n",
       "  <thead>\n",
       "    <tr style=\"text-align: right;\">\n",
       "      <th></th>\n",
       "      <th>Time</th>\n",
       "      <th>V1</th>\n",
       "      <th>V2</th>\n",
       "      <th>V3</th>\n",
       "      <th>V4</th>\n",
       "      <th>V5</th>\n",
       "      <th>V6</th>\n",
       "      <th>V7</th>\n",
       "      <th>V8</th>\n",
       "      <th>V9</th>\n",
       "      <th>...</th>\n",
       "      <th>V21</th>\n",
       "      <th>V22</th>\n",
       "      <th>V23</th>\n",
       "      <th>V24</th>\n",
       "      <th>V25</th>\n",
       "      <th>V26</th>\n",
       "      <th>V27</th>\n",
       "      <th>V28</th>\n",
       "      <th>Amount</th>\n",
       "      <th>Class</th>\n",
       "    </tr>\n",
       "  </thead>\n",
       "  <tbody>\n",
       "    <tr>\n",
       "      <th>0</th>\n",
       "      <td>89630.0</td>\n",
       "      <td>0.030601</td>\n",
       "      <td>0.859108</td>\n",
       "      <td>0.290804</td>\n",
       "      <td>-0.591915</td>\n",
       "      <td>0.441892</td>\n",
       "      <td>-1.033405</td>\n",
       "      <td>1.016281</td>\n",
       "      <td>-0.190080</td>\n",
       "      <td>-0.066897</td>\n",
       "      <td>...</td>\n",
       "      <td>-0.251454</td>\n",
       "      <td>-0.537176</td>\n",
       "      <td>0.081516</td>\n",
       "      <td>-0.016869</td>\n",
       "      <td>-0.498699</td>\n",
       "      <td>0.142886</td>\n",
       "      <td>0.250215</td>\n",
       "      <td>0.097351</td>\n",
       "      <td>5.99</td>\n",
       "      <td>0</td>\n",
       "    </tr>\n",
       "    <tr>\n",
       "      <th>1</th>\n",
       "      <td>33404.0</td>\n",
       "      <td>1.042874</td>\n",
       "      <td>0.348936</td>\n",
       "      <td>-0.207597</td>\n",
       "      <td>2.215841</td>\n",
       "      <td>0.991928</td>\n",
       "      <td>1.349503</td>\n",
       "      <td>0.100767</td>\n",
       "      <td>0.451493</td>\n",
       "      <td>-0.739607</td>\n",
       "      <td>...</td>\n",
       "      <td>0.064860</td>\n",
       "      <td>0.193583</td>\n",
       "      <td>-0.007651</td>\n",
       "      <td>-1.379281</td>\n",
       "      <td>0.389286</td>\n",
       "      <td>0.225199</td>\n",
       "      <td>0.015614</td>\n",
       "      <td>-0.010651</td>\n",
       "      <td>15.16</td>\n",
       "      <td>0</td>\n",
       "    </tr>\n",
       "    <tr>\n",
       "      <th>2</th>\n",
       "      <td>57910.0</td>\n",
       "      <td>-1.549217</td>\n",
       "      <td>0.444995</td>\n",
       "      <td>1.953795</td>\n",
       "      <td>0.767481</td>\n",
       "      <td>1.249854</td>\n",
       "      <td>-0.439201</td>\n",
       "      <td>0.843048</td>\n",
       "      <td>0.145210</td>\n",
       "      <td>-1.561334</td>\n",
       "      <td>...</td>\n",
       "      <td>0.226098</td>\n",
       "      <td>0.136749</td>\n",
       "      <td>-0.178771</td>\n",
       "      <td>-0.013354</td>\n",
       "      <td>0.782533</td>\n",
       "      <td>-0.175391</td>\n",
       "      <td>-0.075909</td>\n",
       "      <td>0.058072</td>\n",
       "      <td>73.02</td>\n",
       "      <td>0</td>\n",
       "    </tr>\n",
       "    <tr>\n",
       "      <th>3</th>\n",
       "      <td>133413.0</td>\n",
       "      <td>-0.322340</td>\n",
       "      <td>0.969558</td>\n",
       "      <td>0.462259</td>\n",
       "      <td>-0.100560</td>\n",
       "      <td>-0.187871</td>\n",
       "      <td>-1.069206</td>\n",
       "      <td>0.454631</td>\n",
       "      <td>0.211302</td>\n",
       "      <td>-0.162835</td>\n",
       "      <td>...</td>\n",
       "      <td>0.164689</td>\n",
       "      <td>0.497732</td>\n",
       "      <td>-0.038204</td>\n",
       "      <td>0.420742</td>\n",
       "      <td>-0.191605</td>\n",
       "      <td>-0.333414</td>\n",
       "      <td>-0.032846</td>\n",
       "      <td>-0.010004</td>\n",
       "      <td>9.94</td>\n",
       "      <td>0</td>\n",
       "    </tr>\n",
       "    <tr>\n",
       "      <th>4</th>\n",
       "      <td>171524.0</td>\n",
       "      <td>1.990957</td>\n",
       "      <td>-1.984952</td>\n",
       "      <td>-1.014321</td>\n",
       "      <td>-1.265569</td>\n",
       "      <td>-1.371786</td>\n",
       "      <td>0.034195</td>\n",
       "      <td>-1.117904</td>\n",
       "      <td>0.061933</td>\n",
       "      <td>-0.828024</td>\n",
       "      <td>...</td>\n",
       "      <td>-0.416109</td>\n",
       "      <td>-0.844353</td>\n",
       "      <td>0.244993</td>\n",
       "      <td>0.716250</td>\n",
       "      <td>-0.264875</td>\n",
       "      <td>-0.387468</td>\n",
       "      <td>-0.015237</td>\n",
       "      <td>-0.036681</td>\n",
       "      <td>137.94</td>\n",
       "      <td>0</td>\n",
       "    </tr>\n",
       "  </tbody>\n",
       "</table>\n",
       "<p>5 rows × 31 columns</p>\n",
       "</div>"
      ],
      "text/plain": [
       "       Time        V1        V2        V3        V4        V5        V6  \\\n",
       "0   89630.0  0.030601  0.859108  0.290804 -0.591915  0.441892 -1.033405   \n",
       "1   33404.0  1.042874  0.348936 -0.207597  2.215841  0.991928  1.349503   \n",
       "2   57910.0 -1.549217  0.444995  1.953795  0.767481  1.249854 -0.439201   \n",
       "3  133413.0 -0.322340  0.969558  0.462259 -0.100560 -0.187871 -1.069206   \n",
       "4  171524.0  1.990957 -1.984952 -1.014321 -1.265569 -1.371786  0.034195   \n",
       "\n",
       "         V7        V8        V9  ...       V21       V22       V23       V24  \\\n",
       "0  1.016281 -0.190080 -0.066897  ... -0.251454 -0.537176  0.081516 -0.016869   \n",
       "1  0.100767  0.451493 -0.739607  ...  0.064860  0.193583 -0.007651 -1.379281   \n",
       "2  0.843048  0.145210 -1.561334  ...  0.226098  0.136749 -0.178771 -0.013354   \n",
       "3  0.454631  0.211302 -0.162835  ...  0.164689  0.497732 -0.038204  0.420742   \n",
       "4 -1.117904  0.061933 -0.828024  ... -0.416109 -0.844353  0.244993  0.716250   \n",
       "\n",
       "        V25       V26       V27       V28  Amount  Class  \n",
       "0 -0.498699  0.142886  0.250215  0.097351    5.99      0  \n",
       "1  0.389286  0.225199  0.015614 -0.010651   15.16      0  \n",
       "2  0.782533 -0.175391 -0.075909  0.058072   73.02      0  \n",
       "3 -0.191605 -0.333414 -0.032846 -0.010004    9.94      0  \n",
       "4 -0.264875 -0.387468 -0.015237 -0.036681  137.94      0  \n",
       "\n",
       "[5 rows x 31 columns]"
      ]
     },
     "execution_count": 3,
     "metadata": {},
     "output_type": "execute_result"
    }
   ],
   "source": [
    "file_path = 'datasets/creditcard.csv'\n",
    "credit_data = pd.read_csv(file_path)\n",
    "credit_data.head()"
   ]
  },
  {
   "cell_type": "code",
   "execution_count": 4,
   "metadata": {},
   "outputs": [
    {
     "data": {
      "text/html": [
       "<div>\n",
       "<style scoped>\n",
       "    .dataframe tbody tr th:only-of-type {\n",
       "        vertical-align: middle;\n",
       "    }\n",
       "\n",
       "    .dataframe tbody tr th {\n",
       "        vertical-align: top;\n",
       "    }\n",
       "\n",
       "    .dataframe thead th {\n",
       "        text-align: right;\n",
       "    }\n",
       "</style>\n",
       "<table border=\"1\" class=\"dataframe\">\n",
       "  <thead>\n",
       "    <tr style=\"text-align: right;\">\n",
       "      <th></th>\n",
       "      <th>Time</th>\n",
       "      <th>V1</th>\n",
       "      <th>V2</th>\n",
       "      <th>V3</th>\n",
       "      <th>V4</th>\n",
       "      <th>V5</th>\n",
       "      <th>V6</th>\n",
       "      <th>V7</th>\n",
       "      <th>V8</th>\n",
       "      <th>V9</th>\n",
       "      <th>...</th>\n",
       "      <th>V21</th>\n",
       "      <th>V22</th>\n",
       "      <th>V23</th>\n",
       "      <th>V24</th>\n",
       "      <th>V25</th>\n",
       "      <th>V26</th>\n",
       "      <th>V27</th>\n",
       "      <th>V28</th>\n",
       "      <th>Amount</th>\n",
       "      <th>Class</th>\n",
       "    </tr>\n",
       "  </thead>\n",
       "  <tbody>\n",
       "    <tr>\n",
       "      <th>1995</th>\n",
       "      <td>68067.0</td>\n",
       "      <td>1.158949</td>\n",
       "      <td>-0.063824</td>\n",
       "      <td>0.438288</td>\n",
       "      <td>1.414777</td>\n",
       "      <td>-0.450308</td>\n",
       "      <td>-0.188311</td>\n",
       "      <td>-0.145914</td>\n",
       "      <td>0.029607</td>\n",
       "      <td>0.764487</td>\n",
       "      <td>...</td>\n",
       "      <td>-0.108035</td>\n",
       "      <td>-0.196867</td>\n",
       "      <td>-0.177628</td>\n",
       "      <td>-0.131616</td>\n",
       "      <td>0.713550</td>\n",
       "      <td>-0.266711</td>\n",
       "      <td>0.024898</td>\n",
       "      <td>0.021204</td>\n",
       "      <td>40.48</td>\n",
       "      <td>0</td>\n",
       "    </tr>\n",
       "    <tr>\n",
       "      <th>1996</th>\n",
       "      <td>67439.0</td>\n",
       "      <td>-0.737371</td>\n",
       "      <td>1.074765</td>\n",
       "      <td>0.925156</td>\n",
       "      <td>1.119732</td>\n",
       "      <td>-0.320521</td>\n",
       "      <td>-0.300408</td>\n",
       "      <td>0.010076</td>\n",
       "      <td>0.466087</td>\n",
       "      <td>-0.365982</td>\n",
       "      <td>...</td>\n",
       "      <td>-0.070750</td>\n",
       "      <td>-0.399785</td>\n",
       "      <td>0.221042</td>\n",
       "      <td>0.002362</td>\n",
       "      <td>-0.445681</td>\n",
       "      <td>-0.538104</td>\n",
       "      <td>-0.274833</td>\n",
       "      <td>-0.046422</td>\n",
       "      <td>10.74</td>\n",
       "      <td>0</td>\n",
       "    </tr>\n",
       "    <tr>\n",
       "      <th>1997</th>\n",
       "      <td>168738.0</td>\n",
       "      <td>1.974124</td>\n",
       "      <td>-0.389631</td>\n",
       "      <td>-0.217775</td>\n",
       "      <td>0.532470</td>\n",
       "      <td>-0.811666</td>\n",
       "      <td>-0.621544</td>\n",
       "      <td>-0.581974</td>\n",
       "      <td>-0.078587</td>\n",
       "      <td>1.434533</td>\n",
       "      <td>...</td>\n",
       "      <td>0.197253</td>\n",
       "      <td>0.839096</td>\n",
       "      <td>0.117580</td>\n",
       "      <td>0.077877</td>\n",
       "      <td>-0.090641</td>\n",
       "      <td>-0.216530</td>\n",
       "      <td>0.043252</td>\n",
       "      <td>-0.035661</td>\n",
       "      <td>9.99</td>\n",
       "      <td>0</td>\n",
       "    </tr>\n",
       "    <tr>\n",
       "      <th>1998</th>\n",
       "      <td>61976.0</td>\n",
       "      <td>1.217240</td>\n",
       "      <td>0.392927</td>\n",
       "      <td>0.552836</td>\n",
       "      <td>1.099208</td>\n",
       "      <td>-0.326836</td>\n",
       "      <td>-0.866937</td>\n",
       "      <td>0.171776</td>\n",
       "      <td>-0.218064</td>\n",
       "      <td>-0.075329</td>\n",
       "      <td>...</td>\n",
       "      <td>-0.217386</td>\n",
       "      <td>-0.609306</td>\n",
       "      <td>0.088162</td>\n",
       "      <td>0.369804</td>\n",
       "      <td>0.393294</td>\n",
       "      <td>-0.634290</td>\n",
       "      <td>0.028429</td>\n",
       "      <td>0.032642</td>\n",
       "      <td>9.99</td>\n",
       "      <td>0</td>\n",
       "    </tr>\n",
       "    <tr>\n",
       "      <th>1999</th>\n",
       "      <td>43097.0</td>\n",
       "      <td>1.228836</td>\n",
       "      <td>-0.037890</td>\n",
       "      <td>0.720688</td>\n",
       "      <td>-0.133147</td>\n",
       "      <td>-0.801954</td>\n",
       "      <td>-0.816206</td>\n",
       "      <td>-0.282638</td>\n",
       "      <td>-0.053740</td>\n",
       "      <td>0.066400</td>\n",
       "      <td>...</td>\n",
       "      <td>-0.065387</td>\n",
       "      <td>-0.191120</td>\n",
       "      <td>0.106303</td>\n",
       "      <td>0.595506</td>\n",
       "      <td>0.072786</td>\n",
       "      <td>0.873787</td>\n",
       "      <td>-0.071532</td>\n",
       "      <td>0.001761</td>\n",
       "      <td>0.77</td>\n",
       "      <td>0</td>\n",
       "    </tr>\n",
       "  </tbody>\n",
       "</table>\n",
       "<p>5 rows × 31 columns</p>\n",
       "</div>"
      ],
      "text/plain": [
       "          Time        V1        V2        V3        V4        V5        V6  \\\n",
       "1995   68067.0  1.158949 -0.063824  0.438288  1.414777 -0.450308 -0.188311   \n",
       "1996   67439.0 -0.737371  1.074765  0.925156  1.119732 -0.320521 -0.300408   \n",
       "1997  168738.0  1.974124 -0.389631 -0.217775  0.532470 -0.811666 -0.621544   \n",
       "1998   61976.0  1.217240  0.392927  0.552836  1.099208 -0.326836 -0.866937   \n",
       "1999   43097.0  1.228836 -0.037890  0.720688 -0.133147 -0.801954 -0.816206   \n",
       "\n",
       "            V7        V8        V9  ...       V21       V22       V23  \\\n",
       "1995 -0.145914  0.029607  0.764487  ... -0.108035 -0.196867 -0.177628   \n",
       "1996  0.010076  0.466087 -0.365982  ... -0.070750 -0.399785  0.221042   \n",
       "1997 -0.581974 -0.078587  1.434533  ...  0.197253  0.839096  0.117580   \n",
       "1998  0.171776 -0.218064 -0.075329  ... -0.217386 -0.609306  0.088162   \n",
       "1999 -0.282638 -0.053740  0.066400  ... -0.065387 -0.191120  0.106303   \n",
       "\n",
       "           V24       V25       V26       V27       V28  Amount  Class  \n",
       "1995 -0.131616  0.713550 -0.266711  0.024898  0.021204   40.48      0  \n",
       "1996  0.002362 -0.445681 -0.538104 -0.274833 -0.046422   10.74      0  \n",
       "1997  0.077877 -0.090641 -0.216530  0.043252 -0.035661    9.99      0  \n",
       "1998  0.369804  0.393294 -0.634290  0.028429  0.032642    9.99      0  \n",
       "1999  0.595506  0.072786  0.873787 -0.071532  0.001761    0.77      0  \n",
       "\n",
       "[5 rows x 31 columns]"
      ]
     },
     "execution_count": 4,
     "metadata": {},
     "output_type": "execute_result"
    }
   ],
   "source": [
    "credit_data.tail()"
   ]
  },
  {
   "cell_type": "markdown",
   "metadata": {},
   "source": [
    "#### __Inspect the data__"
   ]
  },
  {
   "cell_type": "code",
   "execution_count": 5,
   "metadata": {},
   "outputs": [
    {
     "name": "stdout",
     "output_type": "stream",
     "text": [
      "<class 'pandas.core.frame.DataFrame'>\n",
      "RangeIndex: 2000 entries, 0 to 1999\n",
      "Data columns (total 31 columns):\n",
      " #   Column  Non-Null Count  Dtype  \n",
      "---  ------  --------------  -----  \n",
      " 0   Time    2000 non-null   float64\n",
      " 1   V1      2000 non-null   float64\n",
      " 2   V2      2000 non-null   float64\n",
      " 3   V3      2000 non-null   float64\n",
      " 4   V4      2000 non-null   float64\n",
      " 5   V5      2000 non-null   float64\n",
      " 6   V6      2000 non-null   float64\n",
      " 7   V7      2000 non-null   float64\n",
      " 8   V8      2000 non-null   float64\n",
      " 9   V9      2000 non-null   float64\n",
      " 10  V10     2000 non-null   float64\n",
      " 11  V11     2000 non-null   float64\n",
      " 12  V12     2000 non-null   float64\n",
      " 13  V13     2000 non-null   float64\n",
      " 14  V14     2000 non-null   float64\n",
      " 15  V15     2000 non-null   float64\n",
      " 16  V16     2000 non-null   float64\n",
      " 17  V17     2000 non-null   float64\n",
      " 18  V18     2000 non-null   float64\n",
      " 19  V19     2000 non-null   float64\n",
      " 20  V20     2000 non-null   float64\n",
      " 21  V21     2000 non-null   float64\n",
      " 22  V22     2000 non-null   float64\n",
      " 23  V23     2000 non-null   float64\n",
      " 24  V24     2000 non-null   float64\n",
      " 25  V25     2000 non-null   float64\n",
      " 26  V26     2000 non-null   float64\n",
      " 27  V27     2000 non-null   float64\n",
      " 28  V28     2000 non-null   float64\n",
      " 29  Amount  2000 non-null   float64\n",
      " 30  Class   2000 non-null   int64  \n",
      "dtypes: float64(30), int64(1)\n",
      "memory usage: 484.5 KB\n"
     ]
    }
   ],
   "source": [
    "credit_data.info()"
   ]
  },
  {
   "cell_type": "markdown",
   "metadata": {
    "id": "MhOOTEXeUI8o"
   },
   "source": [
    "##### **Observation**\n",
    "\n",
    "- The dataset is highly imbalanced, with nearly 2000 non-fraudulent transactions and only around 25 fraudulent ones.\n",
    "- This significant imbalance needs to be addressed to avoid biased models and ensure fair and accurate predictions."
   ]
  },
  {
   "cell_type": "code",
   "execution_count": 6,
   "metadata": {},
   "outputs": [
    {
     "data": {
      "text/plain": [
       "Time      0\n",
       "V1        0\n",
       "V2        0\n",
       "V3        0\n",
       "V4        0\n",
       "V5        0\n",
       "V6        0\n",
       "V7        0\n",
       "V8        0\n",
       "V9        0\n",
       "V10       0\n",
       "V11       0\n",
       "V12       0\n",
       "V13       0\n",
       "V14       0\n",
       "V15       0\n",
       "V16       0\n",
       "V17       0\n",
       "V18       0\n",
       "V19       0\n",
       "V20       0\n",
       "V21       0\n",
       "V22       0\n",
       "V23       0\n",
       "V24       0\n",
       "V25       0\n",
       "V26       0\n",
       "V27       0\n",
       "V28       0\n",
       "Amount    0\n",
       "Class     0\n",
       "dtype: int64"
      ]
     },
     "execution_count": 6,
     "metadata": {},
     "output_type": "execute_result"
    }
   ],
   "source": [
    "missing_values = credit_data.isna().sum()\n",
    "missing_values"
   ]
  },
  {
   "cell_type": "code",
   "execution_count": 7,
   "metadata": {},
   "outputs": [
    {
     "data": {
      "text/plain": [
       "4"
      ]
     },
     "execution_count": 7,
     "metadata": {},
     "output_type": "execute_result"
    }
   ],
   "source": [
    "duplicate_values = credit_data.duplicated().sum()\n",
    "duplicate_values"
   ]
  },
  {
   "cell_type": "code",
   "execution_count": 8,
   "metadata": {
    "colab": {
     "base_uri": "https://localhost:8080/"
    },
    "executionInfo": {
     "elapsed": 395,
     "status": "ok",
     "timestamp": 1718533051363,
     "user": {
      "displayName": "Aleena Raj",
      "userId": "16635257578699511263"
     },
     "user_tz": -330
    },
    "id": "UmbIgghBTjWf",
    "outputId": "88c88624-ffd2-4356-f948-e68ba3262e43"
   },
   "outputs": [
    {
     "data": {
      "text/plain": [
       "Class\n",
       "0    1974\n",
       "1      26\n",
       "Name: count, dtype: int64"
      ]
     },
     "execution_count": 8,
     "metadata": {},
     "output_type": "execute_result"
    }
   ],
   "source": [
    "class_distribution = credit_data['Class'].value_counts()\n",
    "class_distribution"
   ]
  },
  {
   "cell_type": "code",
   "execution_count": 9,
   "metadata": {},
   "outputs": [
    {
     "data": {
      "text/html": [
       "<div>\n",
       "<style scoped>\n",
       "    .dataframe tbody tr th:only-of-type {\n",
       "        vertical-align: middle;\n",
       "    }\n",
       "\n",
       "    .dataframe tbody tr th {\n",
       "        vertical-align: top;\n",
       "    }\n",
       "\n",
       "    .dataframe thead th {\n",
       "        text-align: right;\n",
       "    }\n",
       "</style>\n",
       "<table border=\"1\" class=\"dataframe\">\n",
       "  <thead>\n",
       "    <tr style=\"text-align: right;\">\n",
       "      <th></th>\n",
       "      <th>Time</th>\n",
       "      <th>V1</th>\n",
       "      <th>V2</th>\n",
       "      <th>V3</th>\n",
       "      <th>V4</th>\n",
       "      <th>V5</th>\n",
       "      <th>V6</th>\n",
       "      <th>V7</th>\n",
       "      <th>V8</th>\n",
       "      <th>V9</th>\n",
       "      <th>...</th>\n",
       "      <th>V21</th>\n",
       "      <th>V22</th>\n",
       "      <th>V23</th>\n",
       "      <th>V24</th>\n",
       "      <th>V25</th>\n",
       "      <th>V26</th>\n",
       "      <th>V27</th>\n",
       "      <th>V28</th>\n",
       "      <th>Amount</th>\n",
       "      <th>Class</th>\n",
       "    </tr>\n",
       "  </thead>\n",
       "  <tbody>\n",
       "    <tr>\n",
       "      <th>count</th>\n",
       "      <td>2000.000000</td>\n",
       "      <td>2000.000000</td>\n",
       "      <td>2000.000000</td>\n",
       "      <td>2000.000000</td>\n",
       "      <td>2000.000000</td>\n",
       "      <td>2000.000000</td>\n",
       "      <td>2000.000000</td>\n",
       "      <td>2000.000000</td>\n",
       "      <td>2000.000000</td>\n",
       "      <td>2000.000000</td>\n",
       "      <td>...</td>\n",
       "      <td>2000.000000</td>\n",
       "      <td>2000.000000</td>\n",
       "      <td>2000.000000</td>\n",
       "      <td>2000.000000</td>\n",
       "      <td>2000.000000</td>\n",
       "      <td>2000.000000</td>\n",
       "      <td>2000.000000</td>\n",
       "      <td>2000.000000</td>\n",
       "      <td>2000.000000</td>\n",
       "      <td>2000.000000</td>\n",
       "    </tr>\n",
       "    <tr>\n",
       "      <th>mean</th>\n",
       "      <td>96008.534500</td>\n",
       "      <td>-0.092652</td>\n",
       "      <td>0.023323</td>\n",
       "      <td>-0.069600</td>\n",
       "      <td>0.080397</td>\n",
       "      <td>-0.048574</td>\n",
       "      <td>-0.036741</td>\n",
       "      <td>-0.079963</td>\n",
       "      <td>0.011181</td>\n",
       "      <td>-0.053920</td>\n",
       "      <td>...</td>\n",
       "      <td>0.029790</td>\n",
       "      <td>-0.003444</td>\n",
       "      <td>0.007543</td>\n",
       "      <td>0.017984</td>\n",
       "      <td>-0.024654</td>\n",
       "      <td>0.005729</td>\n",
       "      <td>0.004633</td>\n",
       "      <td>0.004542</td>\n",
       "      <td>94.149330</td>\n",
       "      <td>0.013000</td>\n",
       "    </tr>\n",
       "    <tr>\n",
       "      <th>std</th>\n",
       "      <td>47467.551118</td>\n",
       "      <td>2.126852</td>\n",
       "      <td>1.749730</td>\n",
       "      <td>1.883331</td>\n",
       "      <td>1.561390</td>\n",
       "      <td>1.638294</td>\n",
       "      <td>1.407870</td>\n",
       "      <td>1.708478</td>\n",
       "      <td>1.509564</td>\n",
       "      <td>1.102616</td>\n",
       "      <td>...</td>\n",
       "      <td>0.935937</td>\n",
       "      <td>0.772702</td>\n",
       "      <td>0.692343</td>\n",
       "      <td>0.583407</td>\n",
       "      <td>0.524688</td>\n",
       "      <td>0.481970</td>\n",
       "      <td>0.404822</td>\n",
       "      <td>0.257332</td>\n",
       "      <td>264.500133</td>\n",
       "      <td>0.113302</td>\n",
       "    </tr>\n",
       "    <tr>\n",
       "      <th>min</th>\n",
       "      <td>153.000000</td>\n",
       "      <td>-26.457745</td>\n",
       "      <td>-16.443525</td>\n",
       "      <td>-30.177317</td>\n",
       "      <td>-4.088882</td>\n",
       "      <td>-25.791132</td>\n",
       "      <td>-10.136371</td>\n",
       "      <td>-31.197329</td>\n",
       "      <td>-37.353443</td>\n",
       "      <td>-9.462573</td>\n",
       "      <td>...</td>\n",
       "      <td>-8.755698</td>\n",
       "      <td>-8.887017</td>\n",
       "      <td>-15.981649</td>\n",
       "      <td>-2.348549</td>\n",
       "      <td>-3.536716</td>\n",
       "      <td>-1.500278</td>\n",
       "      <td>-7.263482</td>\n",
       "      <td>-3.398699</td>\n",
       "      <td>0.000000</td>\n",
       "      <td>0.000000</td>\n",
       "    </tr>\n",
       "    <tr>\n",
       "      <th>25%</th>\n",
       "      <td>55731.250000</td>\n",
       "      <td>-0.997641</td>\n",
       "      <td>-0.588604</td>\n",
       "      <td>-0.909770</td>\n",
       "      <td>-0.833604</td>\n",
       "      <td>-0.724435</td>\n",
       "      <td>-0.774805</td>\n",
       "      <td>-0.570687</td>\n",
       "      <td>-0.205048</td>\n",
       "      <td>-0.710381</td>\n",
       "      <td>...</td>\n",
       "      <td>-0.211483</td>\n",
       "      <td>-0.544496</td>\n",
       "      <td>-0.151844</td>\n",
       "      <td>-0.342298</td>\n",
       "      <td>-0.344980</td>\n",
       "      <td>-0.320109</td>\n",
       "      <td>-0.073793</td>\n",
       "      <td>-0.055370</td>\n",
       "      <td>6.550000</td>\n",
       "      <td>0.000000</td>\n",
       "    </tr>\n",
       "    <tr>\n",
       "      <th>50%</th>\n",
       "      <td>88330.500000</td>\n",
       "      <td>-0.076235</td>\n",
       "      <td>0.088314</td>\n",
       "      <td>0.170230</td>\n",
       "      <td>-0.019323</td>\n",
       "      <td>-0.073699</td>\n",
       "      <td>-0.292820</td>\n",
       "      <td>0.034161</td>\n",
       "      <td>0.027115</td>\n",
       "      <td>-0.063094</td>\n",
       "      <td>...</td>\n",
       "      <td>-0.015695</td>\n",
       "      <td>0.028866</td>\n",
       "      <td>-0.003261</td>\n",
       "      <td>0.040663</td>\n",
       "      <td>-0.024389</td>\n",
       "      <td>-0.056586</td>\n",
       "      <td>0.000203</td>\n",
       "      <td>0.012315</td>\n",
       "      <td>22.400000</td>\n",
       "      <td>0.000000</td>\n",
       "    </tr>\n",
       "    <tr>\n",
       "      <th>75%</th>\n",
       "      <td>139201.750000</td>\n",
       "      <td>1.307517</td>\n",
       "      <td>0.810513</td>\n",
       "      <td>1.051445</td>\n",
       "      <td>0.814907</td>\n",
       "      <td>0.579966</td>\n",
       "      <td>0.363228</td>\n",
       "      <td>0.568496</td>\n",
       "      <td>0.340965</td>\n",
       "      <td>0.582080</td>\n",
       "      <td>...</td>\n",
       "      <td>0.192613</td>\n",
       "      <td>0.550136</td>\n",
       "      <td>0.152062</td>\n",
       "      <td>0.442825</td>\n",
       "      <td>0.322955</td>\n",
       "      <td>0.264462</td>\n",
       "      <td>0.098318</td>\n",
       "      <td>0.085835</td>\n",
       "      <td>75.077500</td>\n",
       "      <td>0.000000</td>\n",
       "    </tr>\n",
       "    <tr>\n",
       "      <th>max</th>\n",
       "      <td>172751.000000</td>\n",
       "      <td>2.354761</td>\n",
       "      <td>16.497472</td>\n",
       "      <td>4.017561</td>\n",
       "      <td>11.190895</td>\n",
       "      <td>13.367253</td>\n",
       "      <td>16.246197</td>\n",
       "      <td>25.235195</td>\n",
       "      <td>14.955107</td>\n",
       "      <td>7.173635</td>\n",
       "      <td>...</td>\n",
       "      <td>27.202839</td>\n",
       "      <td>3.460893</td>\n",
       "      <td>9.143317</td>\n",
       "      <td>1.529283</td>\n",
       "      <td>1.771865</td>\n",
       "      <td>2.215986</td>\n",
       "      <td>3.307712</td>\n",
       "      <td>2.508443</td>\n",
       "      <td>5657.540000</td>\n",
       "      <td>1.000000</td>\n",
       "    </tr>\n",
       "  </tbody>\n",
       "</table>\n",
       "<p>8 rows × 31 columns</p>\n",
       "</div>"
      ],
      "text/plain": [
       "                Time           V1           V2           V3           V4  \\\n",
       "count    2000.000000  2000.000000  2000.000000  2000.000000  2000.000000   \n",
       "mean    96008.534500    -0.092652     0.023323    -0.069600     0.080397   \n",
       "std     47467.551118     2.126852     1.749730     1.883331     1.561390   \n",
       "min       153.000000   -26.457745   -16.443525   -30.177317    -4.088882   \n",
       "25%     55731.250000    -0.997641    -0.588604    -0.909770    -0.833604   \n",
       "50%     88330.500000    -0.076235     0.088314     0.170230    -0.019323   \n",
       "75%    139201.750000     1.307517     0.810513     1.051445     0.814907   \n",
       "max    172751.000000     2.354761    16.497472     4.017561    11.190895   \n",
       "\n",
       "                V5           V6           V7           V8           V9  ...  \\\n",
       "count  2000.000000  2000.000000  2000.000000  2000.000000  2000.000000  ...   \n",
       "mean     -0.048574    -0.036741    -0.079963     0.011181    -0.053920  ...   \n",
       "std       1.638294     1.407870     1.708478     1.509564     1.102616  ...   \n",
       "min     -25.791132   -10.136371   -31.197329   -37.353443    -9.462573  ...   \n",
       "25%      -0.724435    -0.774805    -0.570687    -0.205048    -0.710381  ...   \n",
       "50%      -0.073699    -0.292820     0.034161     0.027115    -0.063094  ...   \n",
       "75%       0.579966     0.363228     0.568496     0.340965     0.582080  ...   \n",
       "max      13.367253    16.246197    25.235195    14.955107     7.173635  ...   \n",
       "\n",
       "               V21          V22          V23          V24          V25  \\\n",
       "count  2000.000000  2000.000000  2000.000000  2000.000000  2000.000000   \n",
       "mean      0.029790    -0.003444     0.007543     0.017984    -0.024654   \n",
       "std       0.935937     0.772702     0.692343     0.583407     0.524688   \n",
       "min      -8.755698    -8.887017   -15.981649    -2.348549    -3.536716   \n",
       "25%      -0.211483    -0.544496    -0.151844    -0.342298    -0.344980   \n",
       "50%      -0.015695     0.028866    -0.003261     0.040663    -0.024389   \n",
       "75%       0.192613     0.550136     0.152062     0.442825     0.322955   \n",
       "max      27.202839     3.460893     9.143317     1.529283     1.771865   \n",
       "\n",
       "               V26          V27          V28       Amount        Class  \n",
       "count  2000.000000  2000.000000  2000.000000  2000.000000  2000.000000  \n",
       "mean      0.005729     0.004633     0.004542    94.149330     0.013000  \n",
       "std       0.481970     0.404822     0.257332   264.500133     0.113302  \n",
       "min      -1.500278    -7.263482    -3.398699     0.000000     0.000000  \n",
       "25%      -0.320109    -0.073793    -0.055370     6.550000     0.000000  \n",
       "50%      -0.056586     0.000203     0.012315    22.400000     0.000000  \n",
       "75%       0.264462     0.098318     0.085835    75.077500     0.000000  \n",
       "max       2.215986     3.307712     2.508443  5657.540000     1.000000  \n",
       "\n",
       "[8 rows x 31 columns]"
      ]
     },
     "execution_count": 9,
     "metadata": {},
     "output_type": "execute_result"
    }
   ],
   "source": [
    "credit_data.describe()"
   ]
  },
  {
   "cell_type": "markdown",
   "metadata": {
    "id": "V7bM2z84Tqmh"
   },
   "source": [
    "#### **Plot the Distribution of the `Class` Column**"
   ]
  },
  {
   "cell_type": "code",
   "execution_count": 10,
   "metadata": {},
   "outputs": [
    {
     "data": {
      "image/png": "[encoded data removed]",
      "text/plain": [
       "<Figure size 640x480 with 2 Axes>"
      ]
     },
     "metadata": {},
     "output_type": "display_data"
    }
   ],
   "source": [
    "# Plot the distribution of the 'Class' column as a bar chart\n",
    "plt.subplot(1, 2, 1)\n",
    "class_distribution.plot(kind='bar', color=['orange', 'red'])\n",
    "plt.title('Class Distribution')\n",
    "plt.xlabel('Class')\n",
    "plt.ylabel('Frequency')\n",
    "plt.xticks(ticks=[0, 1], labels=['Non-Fraudulent (0)', 'Fraudulent (1)'], rotation=0)\n",
    "plt.grid(axis='y')\n",
    "\n",
    "# Plot the distribution of the 'Class' column as a pie chart\n",
    "plt.subplot(1, 2, 2)\n",
    "class_distribution.plot(kind='pie', labels=['Non-Fraudulent (0)', 'Fraudulent (1)'], colors=['orange', 'red'], autopct='%1.1f%%', startangle=90)\n",
    "plt.title('Class Distribution')\n",
    "plt.ylabel('')\n",
    "\n",
    "# Show the plots\n",
    "plt.tight_layout()\n",
    "plt.show()"
   ]
  },
  {
   "cell_type": "markdown",
   "metadata": {},
   "source": [
    "#### __Perform train-test split__"
   ]
  },
  {
   "cell_type": "code",
   "execution_count": 11,
   "metadata": {
    "id": "MMFmHgogZkA_"
   },
   "outputs": [],
   "source": [
    "# Separate features and target variable\n",
    "X = credit_data.drop('Class', axis=1)\n",
    "y = credit_data['Class']\n",
    "\n",
    "# Split the data into training and testing sets\n",
    "X_train, X_test, y_train, y_test = train_test_split(X, y, test_size=0.4, random_state=42)"
   ]
  },
  {
   "cell_type": "code",
   "execution_count": 12,
   "metadata": {
    "id": "axxyJWfaZvuS"
   },
   "outputs": [],
   "source": [
    "# Standardize the feature variables\n",
    "scaler = StandardScaler()\n",
    "X_train_sc = scaler.fit_transform(X_train)\n",
    "X_test_sc = scaler.transform(X_test)"
   ]
  },
  {
   "cell_type": "markdown",
   "metadata": {
    "id": "b961imE1xS7E"
   },
   "source": [
    "#### __Plot the Imbalanced Data:__"
   ]
  },
  {
   "cell_type": "code",
   "execution_count": 13,
   "metadata": {
    "colab": {
     "base_uri": "https://localhost:8080/",
     "height": 504
    },
    "executionInfo": {
     "elapsed": 3072,
     "status": "ok",
     "timestamp": 1719996786602,
     "user": {
      "displayName": "Aleena Raj",
      "userId": "16635257578699511263"
     },
     "user_tz": -330
    },
    "id": "-y4tBdSntVRb",
    "outputId": "9edc1567-b9ef-4e31-b91a-bf59dfcd08a3"
   },
   "outputs": [
    {
     "data": {
      "image/png": "[encoded data removed]",
      "text/plain": [
       "<Figure size 1000x500 with 1 Axes>"
      ]
     },
     "metadata": {},
     "output_type": "display_data"
    }
   ],
   "source": [
    "# Scatter plot for the imbalanced data\n",
    "plt.figure(figsize=(10, 5))\n",
    "sns.scatterplot(x = X_train_sc[:, 0], y = X_train_sc[:, 1], hue=y_train, alpha=0.8, palette=\"dark\")\n",
    "plt.title('Imbalanced Data')\n",
    "plt.xlabel('Feature 1')\n",
    "plt.ylabel('Feature 2')\n",
    "plt.show()"
   ]
  },
  {
   "cell_type": "markdown",
   "metadata": {
    "id": "wLh54Yp2ySPm"
   },
   "source": [
    "##### __Observation__\n",
    "\n",
    "- The color of each data point indicates the class it belongs to. \n",
    "- There are predominantly purple points, indicating a majority of data points belong to the class close to 0.0. Yellow points, indicating data points with a class close to 1.0, are much fewer in comparison.\n",
    "- Given the class imbalance, using models that can handle imbalance well or adjusting the decision threshold might be beneficial."
   ]
  },
  {
   "cell_type": "markdown",
   "metadata": {
    "id": "ikGgxnxaZUYE"
   },
   "source": [
    "### __SMOTE sampling technique: `creditcard` dataset.__"
   ]
  },
  {
   "cell_type": "code",
   "execution_count": 1,
   "metadata": {},
   "outputs": [],
   "source": [
    "from imblearn.over_sampling import SMOTE"
   ]
  },
  {
   "cell_type": "code",
   "execution_count": null,
   "metadata": {},
   "outputs": [],
   "source": [
    "# smote = SMOTE(random_state=42)\n",
    "# smote = SMOTE(k_neighbors = 3, random_state=42)\n",
    "# X_resampled_smote, y_resampled_smote = smote.fit_resample(X_train, y_train)"
   ]
  },
  {
   "cell_type": "code",
   "execution_count": 15,
   "metadata": {
    "id": "122z2gboahQi"
   },
   "outputs": [],
   "source": [
    "smote = SMOTE(random_state=42)\n"
   ]
  },
  {
   "cell_type": "code",
   "execution_count": null,
   "metadata": {},
   "outputs": [],
   "source": [
    "# X_train_smote, y_train_smote = smote.fit_resample(X_train_sc, y_train)"
   ]
  },
  {
   "cell_type": "code",
   "execution_count": 1,
   "metadata": {},
   "outputs": [
    {
     "ename": "NameError",
     "evalue": "name 'smote' is not defined",
     "output_type": "error",
     "traceback": [
      "\u001b[0;31m---------------------------------------------------------------------------\u001b[0m",
      "\u001b[0;31mNameError\u001b[0m                                 Traceback (most recent call last)",
      "Cell \u001b[0;32mIn[1], line 1\u001b[0m\n\u001b[0;32m----> 1\u001b[0m X_resampled_smote, y_resampled_smote \u001b[38;5;241m=\u001b[39m smote\u001b[38;5;241m.\u001b[39mfit_resample(X_train, y_train)\n",
      "\u001b[0;31mNameError\u001b[0m: name 'smote' is not defined"
     ]
    }
   ],
   "source": [
    "X_resampled_smote, y_resampled_smote = smote.fit_resample(X_train, y_train)"
   ]
  },
  {
   "cell_type": "markdown",
   "metadata": {
    "id": "V9T01qcrxsV7"
   },
   "source": [
    "#### **Plot the Balanced Data:**"
   ]
  },
  {
   "cell_type": "code",
   "execution_count": null,
   "metadata": {
    "colab": {
     "base_uri": "https://localhost:8080/",
     "height": 489
    },
    "executionInfo": {
     "elapsed": 2448,
     "status": "ok",
     "timestamp": 1719996797953,
     "user": {
      "displayName": "Aleena Raj",
      "userId": "16635257578699511263"
     },
     "user_tz": -330
    },
    "id": "ts4g1fg1b6Ai",
    "outputId": "edf428bf-ca4b-4ea0-d6d9-94ef7d3de3a6"
   },
   "outputs": [],
   "source": [
    "plt.figure(figsize=(10, 5))\n",
    "plt.scatter(X_train_smote[:, 0], X_train_smote[:, 1], c=y_train_smote, alpha=0.8, cmap=\"plasma\", marker='o')\n",
    "plt.title('Balanced Data after SMOTE')\n",
    "plt.xlabel('Feature 1')\n",
    "plt.ylabel('Feature 2')\n",
    "plt.colorbar(label='Class')"
   ]
  },
  {
   "cell_type": "markdown",
   "metadata": {
    "id": "MWbtiXn8x0gj"
   },
   "source": [
    "##### __Observation:__\n",
    "\n",
    "As we can clearly see, the data is more balanced after applying SMOTE (Synthetic Minority Over-sampling Technique)."
   ]
  },
  {
   "cell_type": "markdown",
   "metadata": {
    "id": "fyLK347xyGaN"
   },
   "source": [
    "#### __Train and Evaluate the Decision Tree Classifier:__\n",
    "\n",
    "- Initialize and train a Decision Tree classifier on the undersampled training data.\n",
    "- Predict on the training and testing set and calculate the accuracy."
   ]
  },
  {
   "cell_type": "code",
   "execution_count": null,
   "metadata": {
    "id": "JW4YSvljavIf"
   },
   "outputs": [],
   "source": [
    "# Train the Decision Tree Classifier with pruning\n",
    "dt_classifier = DecisionTreeClassifier(max_depth=3, random_state=42)  # Limiting depth to 3\n",
    "dt_classifier.fit(X_train_smote, y_train_smote)\n",
    "\n",
    "# Predict on training set\n",
    "y_train_pred_smote = dt_classifier.predict(X_train_smote)\n",
    "train_accuracy = accuracy_score(y_train_smote, y_train_pred_smote)\n",
    "\n",
    "# Predict on testing set\n",
    "y_test_pred_smote = dt_classifier.predict(X_test_sc)\n",
    "test_accuracy = accuracy_score(y_test, y_test_pred_smote)"
   ]
  },
  {
   "cell_type": "code",
   "execution_count": null,
   "metadata": {
    "colab": {
     "base_uri": "https://localhost:8080/"
    },
    "executionInfo": {
     "elapsed": 398,
     "status": "ok",
     "timestamp": 1719996807219,
     "user": {
      "displayName": "Aleena Raj",
      "userId": "16635257578699511263"
     },
     "user_tz": -330
    },
    "id": "1Wti2WJua0sz",
    "outputId": "75c48b7f-5240-4a67-8fbe-a4ed93643740"
   },
   "outputs": [],
   "source": [
    "print(f'Train Accuracy: {train_accuracy}')\n",
    "print(f'Test Accuracy: {test_accuracy}')"
   ]
  },
  {
   "cell_type": "markdown",
   "metadata": {
    "id": "pKUZpqRAqzUH"
   },
   "source": [
    "##### __Observation:__\n",
    "\n",
    "The Decision Tree classifier, when trained on the SMOTE-balanced dataset, achieved high accuracy on both the training (99.4%) and testing (98%) sets, indicating strong model performance. However, the slight drop in test accuracy compared to train accuracy suggests some overfitting. The model generalizes well but may still benefit from further tuning or validation techniques."
   ]
  },
  {
   "cell_type": "code",
   "execution_count": null,
   "metadata": {
    "colab": {
     "base_uri": "https://localhost:8080/",
     "height": 501
    },
    "executionInfo": {
     "elapsed": 503,
     "status": "ok",
     "timestamp": 1719996813298,
     "user": {
      "displayName": "Aleena Raj",
      "userId": "16635257578699511263"
     },
     "user_tz": -330
    },
    "id": "32J8erxubsrC",
    "outputId": "394316a3-9127-49e4-9ebe-2ba1bf4ead7b"
   },
   "outputs": [],
   "source": [
    "# Print confusion matrix\n",
    "conf_matrix_smote = confusion_matrix(y_test, y_test_pred_smote)\n",
    "\n",
    "# Heatmap visualization for confusion matrix\n",
    "cm_display = ConfusionMatrixDisplay(confusion_matrix = conf_matrix_smote, display_labels = [\"nonfraudulent (0)\", \"fraudulent (1)\"])\n",
    "\n",
    "# display matrix\n",
    "cm_display.plot()\n",
    "plt.show()"
   ]
  },
  {
   "cell_type": "code",
   "execution_count": null,
   "metadata": {
    "colab": {
     "base_uri": "https://localhost:8080/"
    },
    "executionInfo": {
     "elapsed": 4,
     "status": "ok",
     "timestamp": 1719996820065,
     "user": {
      "displayName": "Aleena Raj",
      "userId": "16635257578699511263"
     },
     "user_tz": -330
    },
    "id": "zj6R9q9jyxP1",
    "outputId": "8ad561eb-40c2-4926-cf7f-95a384f75938"
   },
   "outputs": [],
   "source": [
    "print(classification_report(y_test, y_test_pred_smote))"
   ]
  },
  {
   "cell_type": "code",
   "execution_count": null,
   "metadata": {
    "colab": {
     "base_uri": "https://localhost:8080/",
     "height": 564
    },
    "executionInfo": {
     "elapsed": 2237,
     "status": "ok",
     "timestamp": 1719997028817,
     "user": {
      "displayName": "Aleena Raj",
      "userId": "16635257578699511263"
     },
     "user_tz": -330
    },
    "id": "ejt5Ox67bs62",
    "outputId": "e01e4868-33e3-44d7-8934-93264717a50b"
   },
   "outputs": [],
   "source": [
    "fpr, tpr, thresholds = roc_curve(y_test, dt_classifier.predict_proba(X_test_sc)[:, 1])\n",
    "\n",
    "# Compute the Area Under the Curve (AUC) for the ROC curve\n",
    "roc_auc = auc(fpr, tpr)\n",
    "\n",
    "# ROC Curve\n",
    "plt.figure(figsize=(8, 6))\n",
    "plt.plot(fpr, tpr, color='blue', label=f'ROC Curve (AUC = {roc_auc:.2f})')\n",
    "plt.plot([0, 1], [0, 1], color='gray', linestyle='--')\n",
    "plt.xlabel('False Positive Rate')\n",
    "plt.ylabel('True Positive Rate')\n",
    "plt.title('Receiver Operating Characteristic (ROC) Curve')\n",
    "plt.legend()\n",
    "plt.show()\n"
   ]
  },
  {
   "cell_type": "markdown",
   "metadata": {},
   "source": [
    "#### __Train and Evaluate the Decision Tree Classifier (without using SMOTE):__\n",
    "\n",
    "- Initialize and train a Decision Tree classifier on the undersampled training data.\n",
    "- Predict on the training and testing set and calculate the accuracy."
   ]
  },
  {
   "cell_type": "code",
   "execution_count": null,
   "metadata": {},
   "outputs": [],
   "source": [
    "# Train the Decision Tree Classifier with pruning\n",
    "dt_classifier_w = DecisionTreeClassifier(max_depth=3, random_state=42)  # Limiting depth to 3\n",
    "dt_classifier_w.fit(X_train_sc, y_train)\n",
    "\n",
    "# Predict on training set\n",
    "y_train_pred_w = dt_classifier_w.predict(X_train_sc)\n",
    "train_accuracy = accuracy_score(y_train, y_train_pred_w)\n",
    "\n",
    "# Predict on testing set\n",
    "y_test_pred_w = dt_classifier_w.predict(X_test_sc)\n",
    "test_accuracy = accuracy_score(y_test, y_test_pred_w)\n",
    "\n",
    "print(f'Train Accuracy: {train_accuracy}')\n",
    "print(f'Test Accuracy: {test_accuracy}')"
   ]
  },
  {
   "cell_type": "code",
   "execution_count": null,
   "metadata": {},
   "outputs": [],
   "source": [
    "# Print confusion matrix\n",
    "conf_matrix_w = confusion_matrix(y_test, y_test_pred_w)\n",
    "print(\"Confusion Matrix:\")\n",
    "print(conf_matrix_w)\n",
    "\n",
    "# Heatmap visualization for confusion matrix\n",
    "cm_display = ConfusionMatrixDisplay(confusion_matrix = conf_matrix_w, display_labels = [\"nonfraudulent\", \"fraudulent\"])\n",
    "\n",
    "# display matrix\n",
    "cm_display.plot()\n",
    "plt.show()\n"
   ]
  },
  {
   "cell_type": "code",
   "execution_count": null,
   "metadata": {},
   "outputs": [],
   "source": [
    "print(classification_report(y_test, y_test_pred_w))"
   ]
  },
  {
   "cell_type": "code",
   "execution_count": null,
   "metadata": {},
   "outputs": [],
   "source": [
    "fpr, tpr, thresholds = roc_curve(y_test, dt_classifier_w.predict_proba(X_test_sc)[:, 1])\n",
    "\n",
    "# Compute the Area Under the Curve (AUC) for the ROC curve\n",
    "roc_auc = auc(fpr, tpr)\n",
    "\n",
    "# ROC Curve\n",
    "plt.figure(figsize=(8, 6))\n",
    "plt.plot(fpr, tpr, color='blue', label=f'ROC Curve (AUC = {roc_auc:.2f})')\n",
    "plt.plot([0, 1], [0, 1], color='gray', linestyle='--')\n",
    "plt.xlabel('False Positive Rate')\n",
    "plt.ylabel('True Positive Rate')\n",
    "plt.title('Receiver Operating Characteristic (ROC) Curve')\n",
    "plt.legend()\n",
    "plt.show()\n"
   ]
  },
  {
   "cell_type": "markdown",
   "metadata": {
    "id": "Pxh2rmfmrqRp"
   },
   "source": [
    "#### __Let's implement Random Undersampling.__"
   ]
  },
  {
   "cell_type": "markdown",
   "metadata": {
    "id": "3VCumy_0yhuw"
   },
   "source": [
    "**Import Libraries:**\n",
    "- Import `RandomUnderSampler` from `imblearn.under_sampling`"
   ]
  },
  {
   "cell_type": "code",
   "execution_count": null,
   "metadata": {
    "id": "C8H-mueYr9zx"
   },
   "outputs": [],
   "source": [
    "from imblearn.under_sampling import RandomUnderSampler"
   ]
  },
  {
   "cell_type": "markdown",
   "metadata": {
    "id": "l-jTOcoDywZH"
   },
   "source": [
    "**Apply Random Undersampling:**\n",
    "- Balance the dataset by randomly undersampling the majority class.\n",
    "\n",
    "**Note:** Here, we are directly starting from applying the algorithm since we are using the same dataset and train-test split from above."
   ]
  },
  {
   "cell_type": "code",
   "execution_count": null,
   "metadata": {
    "id": "i57xM3wGsGuE"
   },
   "outputs": [],
   "source": [
    "# Apply Random Undersampling\n",
    "undersampler = RandomUnderSampler(random_state=42)\n",
    "X_train_undersampled, y_train_undersampled = undersampler.fit_resample(X_train_sc, y_train)"
   ]
  },
  {
   "cell_type": "markdown",
   "metadata": {
    "id": "yVIB2DwPzKxI"
   },
   "source": [
    "##### __Plot the Balanced Data:__\n",
    "\n",
    "- Plot the balanced data in a scatter plot to compare it with imbalanced data plotted in previous technique."
   ]
  },
  {
   "cell_type": "code",
   "execution_count": null,
   "metadata": {
    "colab": {
     "base_uri": "https://localhost:8080/",
     "height": 489
    },
    "executionInfo": {
     "elapsed": 1832,
     "status": "ok",
     "timestamp": 1719997077348,
     "user": {
      "displayName": "Aleena Raj",
      "userId": "16635257578699511263"
     },
     "user_tz": -330
    },
    "id": "D4iOY53quPL5",
    "outputId": "c28cbbc7-b781-430e-dd1c-1b60f900267b"
   },
   "outputs": [],
   "source": [
    "plt.figure(figsize=(10, 5))\n",
    "plt.scatter(X_train_undersampled[:, 0], X_train_undersampled[:, 1], c=y_train_undersampled, cmap=\"plasma\", alpha=0.8, marker='o')\n",
    "plt.title('Balanced Data after Random Undersampling')\n",
    "plt.xlabel('Feature 1')\n",
    "plt.ylabel('Feature 2')\n",
    "plt.colorbar(label='Class')"
   ]
  },
  {
   "cell_type": "markdown",
   "metadata": {
    "id": "uyKN5VkFzVDl"
   },
   "source": [
    "#### __Observation:__\n",
    "\n",
    "As we can see, the data is more balanced after applying Random Undersampling, but the data points are less."
   ]
  },
  {
   "cell_type": "markdown",
   "metadata": {
    "id": "0MxQyu82zoo7"
   },
   "source": [
    "**Train and Evaluate the Decision Tree Classifier:**\n",
    "- Initialize and train a Decision Tree classifier on the undersampled training data.\n",
    "- Predict on the training and testing set and calculate the accuracy."
   ]
  },
  {
   "cell_type": "code",
   "execution_count": null,
   "metadata": {
    "id": "XA--f85lshBL"
   },
   "outputs": [],
   "source": [
    "# Train the Decision Tree Classifier\n",
    "dt_classifier = DecisionTreeClassifier(random_state=42)\n",
    "dt_classifier.fit(X_train_undersampled, y_train_undersampled)\n",
    "\n",
    "# Predict on training set\n",
    "y_train_pred_us = dt_classifier.predict(X_train_undersampled)\n",
    "train_accuracy = accuracy_score(y_train_undersampled, y_train_pred_us)\n",
    "\n",
    "# Predict on testing set\n",
    "y_test_pred_us = dt_classifier.predict(X_test_sc)\n",
    "test_accuracy = accuracy_score(y_test, y_test_pred_us)"
   ]
  },
  {
   "cell_type": "code",
   "execution_count": null,
   "metadata": {
    "colab": {
     "base_uri": "https://localhost:8080/"
    },
    "executionInfo": {
     "elapsed": 387,
     "status": "ok",
     "timestamp": 1719997107826,
     "user": {
      "displayName": "Aleena Raj",
      "userId": "16635257578699511263"
     },
     "user_tz": -330
    },
    "id": "rj9SB59JtPie",
    "outputId": "b9c9df5c-8a71-4d46-9d62-15359c95afae"
   },
   "outputs": [],
   "source": [
    "print(f'Train Accuracy: {train_accuracy}')\n",
    "print(f'Test Accuracy: {test_accuracy}')"
   ]
  },
  {
   "cell_type": "markdown",
   "metadata": {
    "id": "r7FyQLz0ESsU"
   },
   "source": [
    "#### __Observation__\n",
    "\n",
    "- A training accuracy of 1.0 indicates that the model has perfectly learned or memorized the training dataset. It can correctly predict the outcome for every example it was trained on.\n",
    "- This could be a sign of overfitting, where the model is too closely fitted to the training data. It learns not only the underlying patterns but also the noise and fluctuations specific to the training set."
   ]
  },
  {
   "cell_type": "markdown",
   "metadata": {
    "id": "yTMy0mr9EfUu"
   },
   "source": [
    "#### __Applying `k-fold cross-validation`:__\n",
    "\n",
    "Use techniques like **k-fold cross-validation** to assess model performance more reliably. This helps ensure that the model's performance is robust across different subsets of the training data."
   ]
  },
  {
   "cell_type": "markdown",
   "metadata": {
    "id": "P6N9gcrBCEky"
   },
   "source": [
    "The `imblearn.pipeline.Pipeline` is specifically designed to handle imbalanced datasets by integrating resampling methods directly into the pipeline steps."
   ]
  },
  {
   "cell_type": "code",
   "execution_count": null,
   "metadata": {},
   "outputs": [],
   "source": [
    "from imblearn.pipeline import Pipeline\n",
    "from sklearn.model_selection import StratifiedKFold"
   ]
  },
  {
   "cell_type": "code",
   "execution_count": null,
   "metadata": {
    "colab": {
     "base_uri": "https://localhost:8080/"
    },
    "executionInfo": {
     "elapsed": 425,
     "status": "ok",
     "timestamp": 1719997127851,
     "user": {
      "displayName": "Aleena Raj",
      "userId": "16635257578699511263"
     },
     "user_tz": -330
    },
    "id": "7HeJ4WFuBxRG",
    "outputId": "40eedf74-5d25-48ee-8829-bf8084a8a0bb"
   },
   "outputs": [],
   "source": [
    "# Create a pipeline for proper cross-validation\n",
    "pipeline = Pipeline([\n",
    "    ('scaler', StandardScaler()),                            # Scales each feature to zero mean and unit variance\n",
    "    ('sampler', RandomUnderSampler(random_state=42)),        # Balances the dataset by undersampling\n",
    "    ('classifier', DecisionTreeClassifier(random_state=42))  # Applies a Decision Tree Classifier\n",
    "])\n",
    "\n",
    "# Perform cross-validation using the entire dataset\n",
    "cv = StratifiedKFold(n_splits=5, shuffle=True, random_state=42)\n",
    "cv_scores = cross_val_score(pipeline, X, y, cv=cv, scoring='accuracy')\n",
    "print(f'Cross-validation Accuracy: {cv_scores.mean()}\\n')"
   ]
  },
  {
   "cell_type": "code",
   "execution_count": null,
   "metadata": {},
   "outputs": [],
   "source": [
    "# Evaluate the model using precision, recall, and F1 score\n",
    "print(classification_report(y_test, y_test_pred_us))"
   ]
  },
  {
   "cell_type": "markdown",
   "metadata": {
    "id": "UqDJbSuOG-DF"
   },
   "source": [
    "### __Using `Precision-Recall Curve` instead of `ROC Curve` for imbalanced datasets:__\n",
    "\n",
    "In situations where the dataset is highly imbalanced, the ROC curve can give an overly optimistic assessment of the model’s performance.\n",
    "\n",
    "$$\\text{FPR} = \\frac{\\text{FP}}{\\text{FP} + \\text{TN}}$$\n",
    "\n",
    "This optimism bias arises because the ROC curve’s false positive rate (FPR) can become very small when the number of actual negatives is large (TN is high). As a result, even a large number of false positives would only lead to a small FPR, leading to a potentially high AUC that doesn’t reflect the practical reality of using the model.\n",
    "\n",
    "Then comes **Precision-Recall Curve and AUCPR** which is especially useful when the positive class is rarer and more relevant."
   ]
  },
  {
   "cell_type": "markdown",
   "metadata": {},
   "source": [
    "- It is a graphical representation of a classifier’s Precision and Recall at different classification thresholds.\n",
    "   \n",
    "- The figure below shows a comparison of sample PR and ROC curves.\n",
    "  <img src=\"https://media.geeksforgeeks.org/wp-content/uploads/20190611002050/pr_roc.png\" width=1000 height=1000 />\n",
    "  \n",
    "- Algorithm should have both high precision and high recall, however most ML algorithms often involve a trade-off between the two.\n",
    "\n",
    "- A good PR curve has greater AUC (area under the curve).\n",
    "\n",
    "- In the figure above the classifier corresponding to the blue line has better performance than the classifier corresponding to the green line.\n",
    "\n",
    "- It is important to note that the classifier that has a higher AUC on the ROC curve will always have a higher AUC on the PR curve as well."
   ]
  },
  {
   "cell_type": "markdown",
   "metadata": {
    "id": "1L6nrrTnI2NA"
   },
   "source": [
    "#### __Plotting a Precision Recall curve:__"
   ]
  },
  {
   "cell_type": "code",
   "execution_count": null,
   "metadata": {
    "colab": {
     "base_uri": "https://localhost:8080/",
     "height": 497
    },
    "executionInfo": {
     "elapsed": 1273,
     "status": "ok",
     "timestamp": 1718543647662,
     "user": {
      "displayName": "Aleena Raj",
      "userId": "16635257578699511263"
     },
     "user_tz": -330
    },
    "id": "HF5mKg2OI7Qk",
    "outputId": "92de786c-6de0-4b86-9b13-83a24ad1c016"
   },
   "outputs": [],
   "source": [
    "from sklearn.metrics import precision_recall_curve, average_precision_score\n",
    "from sklearn.metrics import PrecisionRecallDisplay\n",
    "\n",
    "# Predict probabilities for the positive class\n",
    "y_scores = dt_classifier.predict_proba(X_test_sc)[:, 1]\n",
    "\n",
    "# Compute precision-recall pairs for different probability thresholds\n",
    "precision, recall, thresholds = precision_recall_curve(y_test, y_scores)\n",
    "\n",
    "# Use PrecisionRecallDisplay to plot the curve\n",
    "disp = PrecisionRecallDisplay(precision=precision, recall=recall)\n",
    "disp.plot()\n",
    "plt.title('Precision-Recall Curve')\n",
    "plt.show()\n",
    "\n",
    "# Compute the average precision score (AUCPR)\n",
    "aucpr = average_precision_score(y_test, y_scores)\n",
    "print(f'Area under the Precision-Recall Curve(AUCPR): {aucpr}')"
   ]
  },
  {
   "cell_type": "markdown",
   "metadata": {
    "id": "_RjkVw6LJpXS"
   },
   "source": [
    "#### __Observation__\n",
    "\n",
    "- The curve starts with a high precision value of 1.0 when recall is near zero. This indicates that at the very low threshold settings, where the model predicts only the most confidently positive samples as positive, it does so correctly.\n",
    "\n",
    "- As recall increases slightly, the precision drops sharply to a low value (close to 0.2) and remains nearly constant across the rest of the recall range. This is a characteristic of a model that, after a certain point, begins to classify more and more negative samples as positive, thus drastically reducing precision.\n",
    "\n",
    "The nearly flat and low precision across most of the recall range suggests that the model struggles to discriminate between positive and negative classes effectively as it attempts to increase recall"
   ]
  },
  {
   "cell_type": "code",
   "execution_count": null,
   "metadata": {},
   "outputs": [],
   "source": []
  },
  {
   "cell_type": "code",
   "execution_count": null,
   "metadata": {},
   "outputs": [],
   "source": []
  },
  {
   "cell_type": "code",
   "execution_count": null,
   "metadata": {},
   "outputs": [],
   "source": []
  },
  {
   "cell_type": "markdown",
   "metadata": {
    "id": "cIRHZ6Rzu2RH"
   },
   "source": [
    "#### __Let's implement Balanced Random Forest on the `creditcard` dataset.__"
   ]
  },
  {
   "cell_type": "markdown",
   "metadata": {
    "id": "A7bGx0HAOTTL"
   },
   "source": [
    "**Import Libraries:**\n",
    "- Import `BalancedRandomForestClassifier` from `imblearn.under_sampling`"
   ]
  },
  {
   "cell_type": "markdown",
   "metadata": {
    "id": "j293vr3YOLSh"
   },
   "source": [
    "The `BalancedRandomForestClassifier` is a specialized version of the traditional Random Forest classifier designed to handle imbalanced datasets. In imbalanced datasets, the number of instances in each class is not equally distributed, which can lead to biased models that favor the majority class."
   ]
  },
  {
   "cell_type": "code",
   "execution_count": null,
   "metadata": {
    "id": "VwK0tBYN3qcb"
   },
   "outputs": [],
   "source": [
    "from imblearn.ensemble import BalancedRandomForestClassifier"
   ]
  },
  {
   "cell_type": "markdown",
   "metadata": {
    "id": "H-qNYprXOf97"
   },
   "source": [
    "**Apply Balanced Random Forest:**\n",
    "- Balance the dataset by Balanced Random Forest.\n",
    "\n",
    "**Note:** Here, we are directly starting from applying the algorithm since we are using the same dataset and train-test split."
   ]
  },
  {
   "cell_type": "code",
   "execution_count": null,
   "metadata": {
    "colab": {
     "base_uri": "https://localhost:8080/",
     "height": 204
    },
    "executionInfo": {
     "elapsed": 437,
     "status": "ok",
     "timestamp": 1718545443733,
     "user": {
      "displayName": "Aleena Raj",
      "userId": "16635257578699511263"
     },
     "user_tz": -330
    },
    "id": "pZPEn8sLvBDU",
    "outputId": "42db405e-5bd4-4a6d-bdb5-2246689462e2"
   },
   "outputs": [],
   "source": [
    "# Train the Balanced Random Forest Classifier\n",
    "brf_classifier = BalancedRandomForestClassifier(random_state=42)\n",
    "brf_classifier.fit(X_train_sc, y_train)"
   ]
  },
  {
   "cell_type": "markdown",
   "metadata": {
    "id": "WAX_LPa9PClZ"
   },
   "source": [
    "**Predict and Evaluate the Model**\n",
    "\n",
    "- Predict on the training and testing set and calculate the accuracy."
   ]
  },
  {
   "cell_type": "code",
   "execution_count": null,
   "metadata": {
    "id": "WznUwuUWvFdz"
   },
   "outputs": [],
   "source": [
    "# Predict on training and testing set\n",
    "y_train_pred_brf = brf_classifier.predict(X_train_sc)\n",
    "train_accuracy = accuracy_score(y_train, y_train_pred_brf)\n",
    "y_test_pred_brf = brf_classifier.predict(X_test_sc)\n",
    "test_accuracy = accuracy_score(y_test, y_test_pred_brf)\n",
    "\n",
    "print(f'Train Accuracy: {train_accuracy}')\n",
    "print(f'Test Accuracy: {test_accuracy}')\n"
   ]
  },
  {
   "cell_type": "markdown",
   "metadata": {
    "id": "shTNm4WrPaGn"
   },
   "source": [
    "**Evaluate the Model Using Precision, Recall, and F1 Score**\n",
    "- `cross_val_score` performs cross-validation, which is a technique to assess the generalizability of the model."
   ]
  },
  {
   "cell_type": "code",
   "execution_count": null,
   "metadata": {
    "colab": {
     "base_uri": "https://localhost:8080/"
    },
    "executionInfo": {
     "elapsed": 3226,
     "status": "ok",
     "timestamp": 1718545153179,
     "user": {
      "displayName": "Aleena Raj",
      "userId": "16635257578699511263"
     },
     "user_tz": -330
    },
    "id": "Go6Ewc_6Q0U5",
    "outputId": "8141abb1-8551-41ee-900c-80acf9d626ad"
   },
   "outputs": [],
   "source": [
    "pipeline = Pipeline([\n",
    "    ('scaler', StandardScaler()),\n",
    "    ('classifier', BalancedRandomForestClassifier(random_state=42))\n",
    "])\n",
    "\n",
    "# Perform cross-validation using the entire dataset\n",
    "cv = StratifiedKFold(n_splits=5, shuffle=True, random_state=42)\n",
    "cv_scores = cross_val_score(pipeline, X, y, cv=cv, scoring='accuracy')\n",
    "print(f'Cross-validation Accuracy: {cv_scores.mean()}\\n')\n",
    "\n",
    "# Evaluate the model using precision, recall, and F1 score\n",
    "print(classification_report(y_test, y_test_pred_brf))"
   ]
  },
  {
   "cell_type": "code",
   "execution_count": null,
   "metadata": {},
   "outputs": [],
   "source": []
  },
  {
   "cell_type": "code",
   "execution_count": null,
   "metadata": {},
   "outputs": [],
   "source": []
  },
  {
   "cell_type": "code",
   "execution_count": null,
   "metadata": {},
   "outputs": [],
   "source": []
  },
  {
   "cell_type": "code",
   "execution_count": null,
   "metadata": {},
   "outputs": [],
   "source": [
    "X_train"
   ]
  },
  {
   "cell_type": "code",
   "execution_count": null,
   "metadata": {},
   "outputs": [],
   "source": [
    "# Train the Decision Tree Classifier with pruning and class weight as balanced\n",
    "dt_classifier_cw_bl = DecisionTreeClassifier(max_depth=3, class_weight='balanced', random_state=42)  # Limiting depth to 3\n",
    "dt_classifier_cw_bl.fit(X_train_sc, y_train)\n",
    "\n",
    "# Predict on training set\n",
    "y_train_pred_cw_bl = dt_classifier_w.predict(X_train_sc)\n",
    "train_accuracy = accuracy_score(y_train, y_train_pred_cw_bl)\n",
    "\n",
    "# Predict on testing set\n",
    "y_test_pred_cw_bl = dt_classifier_w.predict(X_test_sc)\n",
    "test_accuracy = accuracy_score(y_test, y_test_pred_cw_bl)\n",
    "\n",
    "print(f'Train Accuracy: {train_accuracy}')\n",
    "print(f'Test Accuracy: {test_accuracy}')"
   ]
  },
  {
   "cell_type": "code",
   "execution_count": null,
   "metadata": {},
   "outputs": [],
   "source": [
    "# Print confusion matrix\n",
    "conf_matrix_cw_bl = confusion_matrix(y_test, y_test_pred_cw_bl)\n",
    "print(\"Confusion Matrix:\")\n",
    "print(conf_matrix_cw_bl)\n",
    "\n",
    "# Heatmap visualization for confusion matrix\n",
    "cm_display = ConfusionMatrixDisplay(confusion_matrix = conf_matrix_cw_bl, display_labels = [\"nonfraudulent\", \"fraudulent\"])\n",
    "\n",
    "# display matrix\n",
    "cm_display.plot()\n",
    "plt.show()"
   ]
  },
  {
   "cell_type": "code",
   "execution_count": null,
   "metadata": {},
   "outputs": [],
   "source": [
    "print(classification_report(y_test, y_test_pred_cw_bl))"
   ]
  },
  {
   "cell_type": "code",
   "execution_count": null,
   "metadata": {},
   "outputs": [],
   "source": []
  }
 ],
 "metadata": {
  "colab": {
   "provenance": []
  },
  "kernelspec": {
   "display_name": "Python [conda env:base] *",
   "language": "python",
   "name": "conda-base-py"
  },
  "language_info": {
   "codemirror_mode": {
    "name": "ipython",
    "version": 3
   },
   "file_extension": ".py",
   "mimetype": "text/x-python",
   "name": "python",
   "nbconvert_exporter": "python",
   "pygments_lexer": "ipython3",
   "version": "3.12.7"
  }
 },
 "nbformat": 4,
 "nbformat_minor": 4
}
