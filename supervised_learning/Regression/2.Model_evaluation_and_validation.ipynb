{
 "cells": [
  {
   "cell_type": "markdown",
   "metadata": {
    "id": "g8rpG8NMu2QX"
   },
   "source": [
    "# __Supervised Learning: Regression Model Evaluation and Validation__"
   ]
  },
  {
   "cell_type": "markdown",
   "metadata": {},
   "source": [
    "## __Performance Metrics__"
   ]
  },
  {
   "cell_type": "markdown",
   "metadata": {
    "id": "L1BRELYW_yxO"
   },
   "source": [
    "Evaluation metrics help in regression analysis as they provide quantitative measures of model performance, aiding in the assessment and selection of regression models. In regression analysis, several evaluation metrics are commonly used to assess the performance of a regression model. Some of the key evaluation metrics include:"
   ]
  },
  {
   "cell_type": "markdown",
   "metadata": {},
   "source": [
    "#### __Mean Squared Error (MSE)__"
   ]
  },
  {
   "cell_type": "markdown",
   "metadata": {
    "id": "AEh46Ts9RTIP"
   },
   "source": [
    "It calculates the average of the squares of the errors, which are the differences between the actual and predicted values. A lower MSE indicates better model performance."
   ]
  },
  {
   "cell_type": "markdown",
   "metadata": {},
   "source": [
    "#### __Root Mean Squared Error (RMSE)__"
   ]
  },
  {
   "cell_type": "markdown",
   "metadata": {
    "id": "Wt9YDaAuReJz"
   },
   "source": [
    "RMSE is the square root of the MSE, providing a measure of the average magnitude of the errors in the predicted values. Since the square root reverses the squaring operation of MSE, RMSE ends up having the same units as the original dependent variable, making it easier to interpret than MSE"
   ]
  },
  {
   "cell_type": "markdown",
   "metadata": {},
   "source": [
    "#### __Mean Absolute Error (MAE):__"
   ]
  },
  {
   "cell_type": "markdown",
   "metadata": {
    "id": "iCl6qw42RNGF"
   },
   "source": [
    "MAE calculates the average of the absolute errors between the actual and predicted values. It's less sensitive to outliers compared to MSE and RMSE."
   ]
  },
  {
   "cell_type": "markdown",
   "metadata": {},
   "source": [
    "#### __R-squared (R2):__"
   ]
  },
  {
   "cell_type": "markdown",
   "metadata": {
    "id": "hc7exP-tRIxO"
   },
   "source": [
    "R-squared explains how much of the variation in the dependent variable(y) can be attributed to the changes in the independent variable(x). R-squared values range from 0 to 1.\n",
    "\n",
    "* **0**: This indicates that the model explains none of the variance in the dependent variable. The independent variables have no explanatory power for the changes in y.\n",
    "* **1**: This represents a perfect fit. The model explains all of the variance in the dependent variable. The changes in y are perfectly captured by the changes in X.\n",
    "\n",
    "While a higher R-squared generally suggests a better model fit, it's not the only factor to consider. A very high R-squared might be achieved by a model that's simply overfitting the data"
   ]
  },
  {
   "cell_type": "markdown",
   "metadata": {
    "id": "goSOP67bDLtZ"
   },
   "source": [
    "### Now, let's build a linear regression model, perform analysis on it, and evaluate the model's performance:"
   ]
  },
  {
   "cell_type": "markdown",
   "metadata": {
    "id": "6ehPljYr3KaP"
   },
   "source": [
    "#### __Step 1: Set up and Data Loading__\n",
    "\n",
    "- Import the necessary libraries: numpy, pandas, matplotlib.pyplot from sklearn.datasets.\n",
    "- Load the housing dataset."
   ]
  },
  {
   "cell_type": "code",
   "execution_count": 1,
   "metadata": {
    "id": "THDdUArEDNEW"
   },
   "outputs": [],
   "source": [
    "# Import necessary libraries\n",
    "\n",
    "import pandas as pd\n",
    "import numpy as np\n",
    "import matplotlib.pyplot as plt\n",
    "from sklearn.model_selection import train_test_split, cross_val_score\n",
    "from sklearn.model_selection import KFold, StratifiedKFold, LeaveOneOut\n",
    "from sklearn.linear_model import LinearRegression\n",
    "from sklearn.metrics import mean_squared_error, mean_absolute_error, r2_score\n"
   ]
  },
  {
   "cell_type": "markdown",
   "metadata": {
    "id": "SDJpo4KwBfef"
   },
   "source": [
    "#### __Step 2: Initial Data Exploration__\n",
    "\n",
    "- Explore the first few rows, generate statistical summaries, and check for missing values using __.head()__, __.describe()__, and __.isna().sum()__."
   ]
  },
  {
   "cell_type": "code",
   "execution_count": 3,
   "metadata": {
    "id": "v5SFZvXEBfei"
   },
   "outputs": [],
   "source": [
    "# Load the dataset\n",
    "housing_data = pd.read_csv('housing_with_ocean_proximity.csv')"
   ]
  },
  {
   "cell_type": "code",
   "execution_count": 4,
   "metadata": {
    "colab": {
     "base_uri": "https://localhost:8080/",
     "height": 206
    },
    "id": "ighMjwF_YhR5",
    "outputId": "661594e2-7125-44f7-8475-cd8b49e86486"
   },
   "outputs": [
    {
     "data": {
      "text/html": [
       "<div>\n",
       "<style scoped>\n",
       "    .dataframe tbody tr th:only-of-type {\n",
       "        vertical-align: middle;\n",
       "    }\n",
       "\n",
       "    .dataframe tbody tr th {\n",
       "        vertical-align: top;\n",
       "    }\n",
       "\n",
       "    .dataframe thead th {\n",
       "        text-align: right;\n",
       "    }\n",
       "</style>\n",
       "<table border=\"1\" class=\"dataframe\">\n",
       "  <thead>\n",
       "    <tr style=\"text-align: right;\">\n",
       "      <th></th>\n",
       "      <th>longitude</th>\n",
       "      <th>latitude</th>\n",
       "      <th>housing_median_age</th>\n",
       "      <th>total_rooms</th>\n",
       "      <th>total_bedrooms</th>\n",
       "      <th>population</th>\n",
       "      <th>households</th>\n",
       "      <th>median_income</th>\n",
       "      <th>median_house_value</th>\n",
       "      <th>ocean_proximity</th>\n",
       "    </tr>\n",
       "  </thead>\n",
       "  <tbody>\n",
       "    <tr>\n",
       "      <th>0</th>\n",
       "      <td>-122.23</td>\n",
       "      <td>37.88</td>\n",
       "      <td>41.0</td>\n",
       "      <td>880.0</td>\n",
       "      <td>129.0</td>\n",
       "      <td>322.0</td>\n",
       "      <td>126.0</td>\n",
       "      <td>8.3252</td>\n",
       "      <td>452600.0</td>\n",
       "      <td>NEAR BAY</td>\n",
       "    </tr>\n",
       "    <tr>\n",
       "      <th>1</th>\n",
       "      <td>-122.22</td>\n",
       "      <td>37.86</td>\n",
       "      <td>21.0</td>\n",
       "      <td>7099.0</td>\n",
       "      <td>1106.0</td>\n",
       "      <td>2401.0</td>\n",
       "      <td>1138.0</td>\n",
       "      <td>8.3014</td>\n",
       "      <td>358500.0</td>\n",
       "      <td>NEAR BAY</td>\n",
       "    </tr>\n",
       "    <tr>\n",
       "      <th>2</th>\n",
       "      <td>-122.24</td>\n",
       "      <td>37.85</td>\n",
       "      <td>52.0</td>\n",
       "      <td>1467.0</td>\n",
       "      <td>190.0</td>\n",
       "      <td>496.0</td>\n",
       "      <td>177.0</td>\n",
       "      <td>7.2574</td>\n",
       "      <td>352100.0</td>\n",
       "      <td>NEAR BAY</td>\n",
       "    </tr>\n",
       "    <tr>\n",
       "      <th>3</th>\n",
       "      <td>-122.25</td>\n",
       "      <td>37.85</td>\n",
       "      <td>52.0</td>\n",
       "      <td>1274.0</td>\n",
       "      <td>235.0</td>\n",
       "      <td>558.0</td>\n",
       "      <td>219.0</td>\n",
       "      <td>5.6431</td>\n",
       "      <td>341300.0</td>\n",
       "      <td>NEAR BAY</td>\n",
       "    </tr>\n",
       "    <tr>\n",
       "      <th>4</th>\n",
       "      <td>-122.25</td>\n",
       "      <td>37.85</td>\n",
       "      <td>52.0</td>\n",
       "      <td>1627.0</td>\n",
       "      <td>280.0</td>\n",
       "      <td>565.0</td>\n",
       "      <td>259.0</td>\n",
       "      <td>3.8462</td>\n",
       "      <td>342200.0</td>\n",
       "      <td>NEAR BAY</td>\n",
       "    </tr>\n",
       "  </tbody>\n",
       "</table>\n",
       "</div>"
      ],
      "text/plain": [
       "   longitude  latitude  housing_median_age  total_rooms  total_bedrooms  \\\n",
       "0    -122.23     37.88                41.0        880.0           129.0   \n",
       "1    -122.22     37.86                21.0       7099.0          1106.0   \n",
       "2    -122.24     37.85                52.0       1467.0           190.0   \n",
       "3    -122.25     37.85                52.0       1274.0           235.0   \n",
       "4    -122.25     37.85                52.0       1627.0           280.0   \n",
       "\n",
       "   population  households  median_income  median_house_value ocean_proximity  \n",
       "0       322.0       126.0         8.3252            452600.0        NEAR BAY  \n",
       "1      2401.0      1138.0         8.3014            358500.0        NEAR BAY  \n",
       "2       496.0       177.0         7.2574            352100.0        NEAR BAY  \n",
       "3       558.0       219.0         5.6431            341300.0        NEAR BAY  \n",
       "4       565.0       259.0         3.8462            342200.0        NEAR BAY  "
      ]
     },
     "execution_count": 4,
     "metadata": {},
     "output_type": "execute_result"
    }
   ],
   "source": [
    "housing_data.head()"
   ]
  },
  {
   "cell_type": "code",
   "execution_count": 5,
   "metadata": {
    "colab": {
     "base_uri": "https://localhost:8080/",
     "height": 300
    },
    "id": "69iSVsxx3jUI",
    "outputId": "dcfbb2ab-78fe-42b6-f318-06476c75e6f1"
   },
   "outputs": [
    {
     "data": {
      "text/html": [
       "<div>\n",
       "<style scoped>\n",
       "    .dataframe tbody tr th:only-of-type {\n",
       "        vertical-align: middle;\n",
       "    }\n",
       "\n",
       "    .dataframe tbody tr th {\n",
       "        vertical-align: top;\n",
       "    }\n",
       "\n",
       "    .dataframe thead th {\n",
       "        text-align: right;\n",
       "    }\n",
       "</style>\n",
       "<table border=\"1\" class=\"dataframe\">\n",
       "  <thead>\n",
       "    <tr style=\"text-align: right;\">\n",
       "      <th></th>\n",
       "      <th>longitude</th>\n",
       "      <th>latitude</th>\n",
       "      <th>housing_median_age</th>\n",
       "      <th>total_rooms</th>\n",
       "      <th>total_bedrooms</th>\n",
       "      <th>population</th>\n",
       "      <th>households</th>\n",
       "      <th>median_income</th>\n",
       "      <th>median_house_value</th>\n",
       "    </tr>\n",
       "  </thead>\n",
       "  <tbody>\n",
       "    <tr>\n",
       "      <th>count</th>\n",
       "      <td>20640.000000</td>\n",
       "      <td>20640.000000</td>\n",
       "      <td>20640.000000</td>\n",
       "      <td>20640.000000</td>\n",
       "      <td>20433.000000</td>\n",
       "      <td>20640.000000</td>\n",
       "      <td>20640.000000</td>\n",
       "      <td>20640.000000</td>\n",
       "      <td>20640.000000</td>\n",
       "    </tr>\n",
       "    <tr>\n",
       "      <th>mean</th>\n",
       "      <td>-119.569704</td>\n",
       "      <td>35.631861</td>\n",
       "      <td>28.639486</td>\n",
       "      <td>2635.763081</td>\n",
       "      <td>537.870553</td>\n",
       "      <td>1425.476744</td>\n",
       "      <td>499.539680</td>\n",
       "      <td>3.870671</td>\n",
       "      <td>206855.816909</td>\n",
       "    </tr>\n",
       "    <tr>\n",
       "      <th>std</th>\n",
       "      <td>2.003532</td>\n",
       "      <td>2.135952</td>\n",
       "      <td>12.585558</td>\n",
       "      <td>2181.615252</td>\n",
       "      <td>421.385070</td>\n",
       "      <td>1132.462122</td>\n",
       "      <td>382.329753</td>\n",
       "      <td>1.899822</td>\n",
       "      <td>115395.615874</td>\n",
       "    </tr>\n",
       "    <tr>\n",
       "      <th>min</th>\n",
       "      <td>-124.350000</td>\n",
       "      <td>32.540000</td>\n",
       "      <td>1.000000</td>\n",
       "      <td>2.000000</td>\n",
       "      <td>1.000000</td>\n",
       "      <td>3.000000</td>\n",
       "      <td>1.000000</td>\n",
       "      <td>0.499900</td>\n",
       "      <td>14999.000000</td>\n",
       "    </tr>\n",
       "    <tr>\n",
       "      <th>25%</th>\n",
       "      <td>-121.800000</td>\n",
       "      <td>33.930000</td>\n",
       "      <td>18.000000</td>\n",
       "      <td>1447.750000</td>\n",
       "      <td>296.000000</td>\n",
       "      <td>787.000000</td>\n",
       "      <td>280.000000</td>\n",
       "      <td>2.563400</td>\n",
       "      <td>119600.000000</td>\n",
       "    </tr>\n",
       "    <tr>\n",
       "      <th>50%</th>\n",
       "      <td>-118.490000</td>\n",
       "      <td>34.260000</td>\n",
       "      <td>29.000000</td>\n",
       "      <td>2127.000000</td>\n",
       "      <td>435.000000</td>\n",
       "      <td>1166.000000</td>\n",
       "      <td>409.000000</td>\n",
       "      <td>3.534800</td>\n",
       "      <td>179700.000000</td>\n",
       "    </tr>\n",
       "    <tr>\n",
       "      <th>75%</th>\n",
       "      <td>-118.010000</td>\n",
       "      <td>37.710000</td>\n",
       "      <td>37.000000</td>\n",
       "      <td>3148.000000</td>\n",
       "      <td>647.000000</td>\n",
       "      <td>1725.000000</td>\n",
       "      <td>605.000000</td>\n",
       "      <td>4.743250</td>\n",
       "      <td>264725.000000</td>\n",
       "    </tr>\n",
       "    <tr>\n",
       "      <th>max</th>\n",
       "      <td>-114.310000</td>\n",
       "      <td>41.950000</td>\n",
       "      <td>52.000000</td>\n",
       "      <td>39320.000000</td>\n",
       "      <td>6445.000000</td>\n",
       "      <td>35682.000000</td>\n",
       "      <td>6082.000000</td>\n",
       "      <td>15.000100</td>\n",
       "      <td>500001.000000</td>\n",
       "    </tr>\n",
       "  </tbody>\n",
       "</table>\n",
       "</div>"
      ],
      "text/plain": [
       "          longitude      latitude  housing_median_age   total_rooms  \\\n",
       "count  20640.000000  20640.000000        20640.000000  20640.000000   \n",
       "mean    -119.569704     35.631861           28.639486   2635.763081   \n",
       "std        2.003532      2.135952           12.585558   2181.615252   \n",
       "min     -124.350000     32.540000            1.000000      2.000000   \n",
       "25%     -121.800000     33.930000           18.000000   1447.750000   \n",
       "50%     -118.490000     34.260000           29.000000   2127.000000   \n",
       "75%     -118.010000     37.710000           37.000000   3148.000000   \n",
       "max     -114.310000     41.950000           52.000000  39320.000000   \n",
       "\n",
       "       total_bedrooms    population    households  median_income  \\\n",
       "count    20433.000000  20640.000000  20640.000000   20640.000000   \n",
       "mean       537.870553   1425.476744    499.539680       3.870671   \n",
       "std        421.385070   1132.462122    382.329753       1.899822   \n",
       "min          1.000000      3.000000      1.000000       0.499900   \n",
       "25%        296.000000    787.000000    280.000000       2.563400   \n",
       "50%        435.000000   1166.000000    409.000000       3.534800   \n",
       "75%        647.000000   1725.000000    605.000000       4.743250   \n",
       "max       6445.000000  35682.000000   6082.000000      15.000100   \n",
       "\n",
       "       median_house_value  \n",
       "count        20640.000000  \n",
       "mean        206855.816909  \n",
       "std         115395.615874  \n",
       "min          14999.000000  \n",
       "25%         119600.000000  \n",
       "50%         179700.000000  \n",
       "75%         264725.000000  \n",
       "max         500001.000000  "
      ]
     },
     "execution_count": 5,
     "metadata": {},
     "output_type": "execute_result"
    }
   ],
   "source": [
    "# Display summary statistics for the DataFrame 'housing_df'\n",
    "housing_data.describe()"
   ]
  },
  {
   "cell_type": "markdown",
   "metadata": {
    "id": "WNx3tFfi3zQ5"
   },
   "source": [
    "##### __Observations:__\n",
    "\n",
    "- The house price lies mostly in the price bracket between 1.1 million and 2.6 million.\n",
    "-  Most houses are 18 to 37 years old."
   ]
  },
  {
   "cell_type": "code",
   "execution_count": 7,
   "metadata": {
    "colab": {
     "base_uri": "https://localhost:8080/"
    },
    "id": "EFJBpgZe3rEK",
    "outputId": "906d6c73-8a88-4f3a-bee1-ecc893eec686"
   },
   "outputs": [
    {
     "name": "stdout",
     "output_type": "stream",
     "text": [
      "<class 'pandas.core.frame.DataFrame'>\n",
      "RangeIndex: 20640 entries, 0 to 20639\n",
      "Data columns (total 10 columns):\n",
      " #   Column              Non-Null Count  Dtype  \n",
      "---  ------              --------------  -----  \n",
      " 0   longitude           20640 non-null  float64\n",
      " 1   latitude            20640 non-null  float64\n",
      " 2   housing_median_age  20640 non-null  float64\n",
      " 3   total_rooms         20640 non-null  float64\n",
      " 4   total_bedrooms      20433 non-null  float64\n",
      " 5   population          20640 non-null  float64\n",
      " 6   households          20640 non-null  float64\n",
      " 7   median_income       20640 non-null  float64\n",
      " 8   median_house_value  20640 non-null  float64\n",
      " 9   ocean_proximity     20640 non-null  object \n",
      "dtypes: float64(9), object(1)\n",
      "memory usage: 1.6+ MB\n"
     ]
    }
   ],
   "source": [
    "housing_data.info()"
   ]
  },
  {
   "cell_type": "code",
   "execution_count": 8,
   "metadata": {
    "id": "12M_ZF4DJCPe",
    "outputId": "bada6f19-4d05-43fa-e720-7a94f93d838e"
   },
   "outputs": [
    {
     "data": {
      "text/plain": [
       "longitude               0\n",
       "latitude                0\n",
       "housing_median_age      0\n",
       "total_rooms             0\n",
       "total_bedrooms        207\n",
       "population              0\n",
       "households              0\n",
       "median_income           0\n",
       "median_house_value      0\n",
       "ocean_proximity         0\n",
       "dtype: int64"
      ]
     },
     "execution_count": 8,
     "metadata": {},
     "output_type": "execute_result"
    }
   ],
   "source": [
    "housing_data.isna().sum()"
   ]
  },
  {
   "cell_type": "markdown",
   "metadata": {
    "id": "08_K0_m7E458"
   },
   "source": [
    "##### __Observations:__\n",
    "\n",
    "- Here `total_bedrooms` has null values which we have to remove.\n",
    "- It can be seen that `total_bedroom` is the only feature with **207** null values.\n",
    "- Since the null values makes up for only 1% of the total data, rows of the column/feature with missing values  will be removed.\n",
    "- `ocean_proximity` is a categorial variable for which we need to create dummy variables."
   ]
  },
  {
   "cell_type": "code",
   "execution_count": 16,
   "metadata": {
    "id": "A7T-GBjxwZei"
   },
   "outputs": [],
   "source": [
    "# Remove all the rows with null values:\n",
    "\n",
    "housing_data = housing_data.dropna()"
   ]
  },
  {
   "cell_type": "code",
   "execution_count": 18,
   "metadata": {
    "colab": {
     "base_uri": "https://localhost:8080/"
    },
    "id": "VamZE-UG4NRe",
    "outputId": "9e196df0-5fd5-4f78-efc4-47535386d090"
   },
   "outputs": [
    {
     "data": {
      "text/plain": [
       "longitude             0\n",
       "latitude              0\n",
       "housing_median_age    0\n",
       "total_rooms           0\n",
       "total_bedrooms        0\n",
       "population            0\n",
       "households            0\n",
       "median_income         0\n",
       "median_house_value    0\n",
       "ocean_proximity       0\n",
       "dtype: int64"
      ]
     },
     "execution_count": 18,
     "metadata": {},
     "output_type": "execute_result"
    }
   ],
   "source": [
    "# Recheck for missing values in the DataFrame 'housing_df'\n",
    "\n",
    "housing_data.isna().sum()"
   ]
  },
  {
   "cell_type": "markdown",
   "metadata": {
    "id": "nCiyFlnVHDeR"
   },
   "source": [
    "#### Let's create dummy variables for `ocean_proximity`\n",
    "\n",
    "- `housing_data`: This is the DataFrame containing your housing data.\n",
    "\n",
    "- `pd.get_dummies`: This is the pandas function that performs the one-hot encoding. It converts categorical variables into a series of binary variables (0 or 1). Each category in the original variable is represented by a separate column.\n",
    "\n",
    "\n",
    "- `drop_first=True`: This parameter drops the first category for each variable. This is done to avoid the dummy variable trap, which is a situation where the dummy variables are highly collinear, causing issues in statistical models. By dropping the first category, you can reduce multicollinearity.\n",
    "\n",
    "- `dtype='int'`: This ensures that the resulting dummy variables are of integer type (0 or 1), which can save memory compared to the default float type.\n",
    "\n",
    "- `prefix='op'`: This parameter adds a prefix to the new dummy variable columns. Here, the prefix 'op' will be added to the beginning of each new column name created by the one-hot encoding process."
   ]
  },
  {
   "cell_type": "code",
   "execution_count": 21,
   "metadata": {
    "id": "309_6jQQJCPe"
   },
   "outputs": [
    {
     "data": {
      "text/html": [
       "<div>\n",
       "<style scoped>\n",
       "    .dataframe tbody tr th:only-of-type {\n",
       "        vertical-align: middle;\n",
       "    }\n",
       "\n",
       "    .dataframe tbody tr th {\n",
       "        vertical-align: top;\n",
       "    }\n",
       "\n",
       "    .dataframe thead th {\n",
       "        text-align: right;\n",
       "    }\n",
       "</style>\n",
       "<table border=\"1\" class=\"dataframe\">\n",
       "  <thead>\n",
       "    <tr style=\"text-align: right;\">\n",
       "      <th></th>\n",
       "      <th>longitude</th>\n",
       "      <th>latitude</th>\n",
       "      <th>housing_median_age</th>\n",
       "      <th>total_rooms</th>\n",
       "      <th>total_bedrooms</th>\n",
       "      <th>population</th>\n",
       "      <th>households</th>\n",
       "      <th>median_income</th>\n",
       "      <th>median_house_value</th>\n",
       "      <th>op_INLAND</th>\n",
       "      <th>op_ISLAND</th>\n",
       "      <th>op_NEAR BAY</th>\n",
       "      <th>op_NEAR OCEAN</th>\n",
       "    </tr>\n",
       "  </thead>\n",
       "  <tbody>\n",
       "    <tr>\n",
       "      <th>0</th>\n",
       "      <td>-122.23</td>\n",
       "      <td>37.88</td>\n",
       "      <td>41.0</td>\n",
       "      <td>880.0</td>\n",
       "      <td>129.0</td>\n",
       "      <td>322.0</td>\n",
       "      <td>126.0</td>\n",
       "      <td>8.3252</td>\n",
       "      <td>452600.0</td>\n",
       "      <td>0</td>\n",
       "      <td>0</td>\n",
       "      <td>1</td>\n",
       "      <td>0</td>\n",
       "    </tr>\n",
       "    <tr>\n",
       "      <th>1</th>\n",
       "      <td>-122.22</td>\n",
       "      <td>37.86</td>\n",
       "      <td>21.0</td>\n",
       "      <td>7099.0</td>\n",
       "      <td>1106.0</td>\n",
       "      <td>2401.0</td>\n",
       "      <td>1138.0</td>\n",
       "      <td>8.3014</td>\n",
       "      <td>358500.0</td>\n",
       "      <td>0</td>\n",
       "      <td>0</td>\n",
       "      <td>1</td>\n",
       "      <td>0</td>\n",
       "    </tr>\n",
       "    <tr>\n",
       "      <th>2</th>\n",
       "      <td>-122.24</td>\n",
       "      <td>37.85</td>\n",
       "      <td>52.0</td>\n",
       "      <td>1467.0</td>\n",
       "      <td>190.0</td>\n",
       "      <td>496.0</td>\n",
       "      <td>177.0</td>\n",
       "      <td>7.2574</td>\n",
       "      <td>352100.0</td>\n",
       "      <td>0</td>\n",
       "      <td>0</td>\n",
       "      <td>1</td>\n",
       "      <td>0</td>\n",
       "    </tr>\n",
       "    <tr>\n",
       "      <th>3</th>\n",
       "      <td>-122.25</td>\n",
       "      <td>37.85</td>\n",
       "      <td>52.0</td>\n",
       "      <td>1274.0</td>\n",
       "      <td>235.0</td>\n",
       "      <td>558.0</td>\n",
       "      <td>219.0</td>\n",
       "      <td>5.6431</td>\n",
       "      <td>341300.0</td>\n",
       "      <td>0</td>\n",
       "      <td>0</td>\n",
       "      <td>1</td>\n",
       "      <td>0</td>\n",
       "    </tr>\n",
       "    <tr>\n",
       "      <th>4</th>\n",
       "      <td>-122.25</td>\n",
       "      <td>37.85</td>\n",
       "      <td>52.0</td>\n",
       "      <td>1627.0</td>\n",
       "      <td>280.0</td>\n",
       "      <td>565.0</td>\n",
       "      <td>259.0</td>\n",
       "      <td>3.8462</td>\n",
       "      <td>342200.0</td>\n",
       "      <td>0</td>\n",
       "      <td>0</td>\n",
       "      <td>1</td>\n",
       "      <td>0</td>\n",
       "    </tr>\n",
       "    <tr>\n",
       "      <th>...</th>\n",
       "      <td>...</td>\n",
       "      <td>...</td>\n",
       "      <td>...</td>\n",
       "      <td>...</td>\n",
       "      <td>...</td>\n",
       "      <td>...</td>\n",
       "      <td>...</td>\n",
       "      <td>...</td>\n",
       "      <td>...</td>\n",
       "      <td>...</td>\n",
       "      <td>...</td>\n",
       "      <td>...</td>\n",
       "      <td>...</td>\n",
       "    </tr>\n",
       "    <tr>\n",
       "      <th>20635</th>\n",
       "      <td>-121.09</td>\n",
       "      <td>39.48</td>\n",
       "      <td>25.0</td>\n",
       "      <td>1665.0</td>\n",
       "      <td>374.0</td>\n",
       "      <td>845.0</td>\n",
       "      <td>330.0</td>\n",
       "      <td>1.5603</td>\n",
       "      <td>78100.0</td>\n",
       "      <td>1</td>\n",
       "      <td>0</td>\n",
       "      <td>0</td>\n",
       "      <td>0</td>\n",
       "    </tr>\n",
       "    <tr>\n",
       "      <th>20636</th>\n",
       "      <td>-121.21</td>\n",
       "      <td>39.49</td>\n",
       "      <td>18.0</td>\n",
       "      <td>697.0</td>\n",
       "      <td>150.0</td>\n",
       "      <td>356.0</td>\n",
       "      <td>114.0</td>\n",
       "      <td>2.5568</td>\n",
       "      <td>77100.0</td>\n",
       "      <td>1</td>\n",
       "      <td>0</td>\n",
       "      <td>0</td>\n",
       "      <td>0</td>\n",
       "    </tr>\n",
       "    <tr>\n",
       "      <th>20637</th>\n",
       "      <td>-121.22</td>\n",
       "      <td>39.43</td>\n",
       "      <td>17.0</td>\n",
       "      <td>2254.0</td>\n",
       "      <td>485.0</td>\n",
       "      <td>1007.0</td>\n",
       "      <td>433.0</td>\n",
       "      <td>1.7000</td>\n",
       "      <td>92300.0</td>\n",
       "      <td>1</td>\n",
       "      <td>0</td>\n",
       "      <td>0</td>\n",
       "      <td>0</td>\n",
       "    </tr>\n",
       "    <tr>\n",
       "      <th>20638</th>\n",
       "      <td>-121.32</td>\n",
       "      <td>39.43</td>\n",
       "      <td>18.0</td>\n",
       "      <td>1860.0</td>\n",
       "      <td>409.0</td>\n",
       "      <td>741.0</td>\n",
       "      <td>349.0</td>\n",
       "      <td>1.8672</td>\n",
       "      <td>84700.0</td>\n",
       "      <td>1</td>\n",
       "      <td>0</td>\n",
       "      <td>0</td>\n",
       "      <td>0</td>\n",
       "    </tr>\n",
       "    <tr>\n",
       "      <th>20639</th>\n",
       "      <td>-121.24</td>\n",
       "      <td>39.37</td>\n",
       "      <td>16.0</td>\n",
       "      <td>2785.0</td>\n",
       "      <td>616.0</td>\n",
       "      <td>1387.0</td>\n",
       "      <td>530.0</td>\n",
       "      <td>2.3886</td>\n",
       "      <td>89400.0</td>\n",
       "      <td>1</td>\n",
       "      <td>0</td>\n",
       "      <td>0</td>\n",
       "      <td>0</td>\n",
       "    </tr>\n",
       "  </tbody>\n",
       "</table>\n",
       "<p>20433 rows × 13 columns</p>\n",
       "</div>"
      ],
      "text/plain": [
       "       longitude  latitude  housing_median_age  total_rooms  total_bedrooms  \\\n",
       "0        -122.23     37.88                41.0        880.0           129.0   \n",
       "1        -122.22     37.86                21.0       7099.0          1106.0   \n",
       "2        -122.24     37.85                52.0       1467.0           190.0   \n",
       "3        -122.25     37.85                52.0       1274.0           235.0   \n",
       "4        -122.25     37.85                52.0       1627.0           280.0   \n",
       "...          ...       ...                 ...          ...             ...   \n",
       "20635    -121.09     39.48                25.0       1665.0           374.0   \n",
       "20636    -121.21     39.49                18.0        697.0           150.0   \n",
       "20637    -121.22     39.43                17.0       2254.0           485.0   \n",
       "20638    -121.32     39.43                18.0       1860.0           409.0   \n",
       "20639    -121.24     39.37                16.0       2785.0           616.0   \n",
       "\n",
       "       population  households  median_income  median_house_value  op_INLAND  \\\n",
       "0           322.0       126.0         8.3252            452600.0          0   \n",
       "1          2401.0      1138.0         8.3014            358500.0          0   \n",
       "2           496.0       177.0         7.2574            352100.0          0   \n",
       "3           558.0       219.0         5.6431            341300.0          0   \n",
       "4           565.0       259.0         3.8462            342200.0          0   \n",
       "...           ...         ...            ...                 ...        ...   \n",
       "20635       845.0       330.0         1.5603             78100.0          1   \n",
       "20636       356.0       114.0         2.5568             77100.0          1   \n",
       "20637      1007.0       433.0         1.7000             92300.0          1   \n",
       "20638       741.0       349.0         1.8672             84700.0          1   \n",
       "20639      1387.0       530.0         2.3886             89400.0          1   \n",
       "\n",
       "       op_ISLAND  op_NEAR BAY  op_NEAR OCEAN  \n",
       "0              0            1              0  \n",
       "1              0            1              0  \n",
       "2              0            1              0  \n",
       "3              0            1              0  \n",
       "4              0            1              0  \n",
       "...          ...          ...            ...  \n",
       "20635          0            0              0  \n",
       "20636          0            0              0  \n",
       "20637          0            0              0  \n",
       "20638          0            0              0  \n",
       "20639          0            0              0  \n",
       "\n",
       "[20433 rows x 13 columns]"
      ]
     },
     "execution_count": 21,
     "metadata": {},
     "output_type": "execute_result"
    }
   ],
   "source": [
    "housing_data = pd.get_dummies(housing_data, drop_first=True, dtype='int', prefix='op')\n",
    "housing_data"
   ]
  },
  {
   "cell_type": "code",
   "execution_count": 23,
   "metadata": {},
   "outputs": [
    {
     "name": "stdout",
     "output_type": "stream",
     "text": [
      "<class 'pandas.core.frame.DataFrame'>\n",
      "Index: 20433 entries, 0 to 20639\n",
      "Data columns (total 13 columns):\n",
      " #   Column              Non-Null Count  Dtype  \n",
      "---  ------              --------------  -----  \n",
      " 0   longitude           20433 non-null  float64\n",
      " 1   latitude            20433 non-null  float64\n",
      " 2   housing_median_age  20433 non-null  float64\n",
      " 3   total_rooms         20433 non-null  float64\n",
      " 4   total_bedrooms      20433 non-null  float64\n",
      " 5   population          20433 non-null  float64\n",
      " 6   households          20433 non-null  float64\n",
      " 7   median_income       20433 non-null  float64\n",
      " 8   median_house_value  20433 non-null  float64\n",
      " 9   op_INLAND           20433 non-null  int64  \n",
      " 10  op_ISLAND           20433 non-null  int64  \n",
      " 11  op_NEAR BAY         20433 non-null  int64  \n",
      " 12  op_NEAR OCEAN       20433 non-null  int64  \n",
      "dtypes: float64(9), int64(4)\n",
      "memory usage: 2.2 MB\n"
     ]
    }
   ],
   "source": [
    "housing_data.info()"
   ]
  },
  {
   "cell_type": "markdown",
   "metadata": {
    "id": "zK912VMK5mw1"
   },
   "source": [
    "#### __Step 3: Prepare the dataset__\n",
    "\n",
    "**Steps to be followed:**\n",
    "\n",
    "- Prepare your features (X) and target (y) for modeling.\n",
    "   * The target feature, which is the feature we are trying to predict, is `median_house_value`. This is assigned to the variable y.\n",
    "   * The features used to predict the target are the independent variables(X).\n",
    "   * This will be a multi-regression model as there are more than one independent variable."
   ]
  },
  {
   "cell_type": "code",
   "execution_count": 26,
   "metadata": {
    "id": "hai6a063E0zx"
   },
   "outputs": [],
   "source": [
    "# Assign values to X and y (Vertical Split)\n",
    "\n",
    "X = housing_data.drop(['median_house_value'], axis=1)\n",
    "y = housing_data['median_house_value']"
   ]
  },
  {
   "cell_type": "code",
   "execution_count": 28,
   "metadata": {},
   "outputs": [
    {
     "data": {
      "text/html": [
       "<div>\n",
       "<style scoped>\n",
       "    .dataframe tbody tr th:only-of-type {\n",
       "        vertical-align: middle;\n",
       "    }\n",
       "\n",
       "    .dataframe tbody tr th {\n",
       "        vertical-align: top;\n",
       "    }\n",
       "\n",
       "    .dataframe thead th {\n",
       "        text-align: right;\n",
       "    }\n",
       "</style>\n",
       "<table border=\"1\" class=\"dataframe\">\n",
       "  <thead>\n",
       "    <tr style=\"text-align: right;\">\n",
       "      <th></th>\n",
       "      <th>longitude</th>\n",
       "      <th>latitude</th>\n",
       "      <th>housing_median_age</th>\n",
       "      <th>total_rooms</th>\n",
       "      <th>total_bedrooms</th>\n",
       "      <th>population</th>\n",
       "      <th>households</th>\n",
       "      <th>median_income</th>\n",
       "      <th>op_INLAND</th>\n",
       "      <th>op_ISLAND</th>\n",
       "      <th>op_NEAR BAY</th>\n",
       "      <th>op_NEAR OCEAN</th>\n",
       "    </tr>\n",
       "  </thead>\n",
       "  <tbody>\n",
       "    <tr>\n",
       "      <th>0</th>\n",
       "      <td>-122.23</td>\n",
       "      <td>37.88</td>\n",
       "      <td>41.0</td>\n",
       "      <td>880.0</td>\n",
       "      <td>129.0</td>\n",
       "      <td>322.0</td>\n",
       "      <td>126.0</td>\n",
       "      <td>8.3252</td>\n",
       "      <td>0</td>\n",
       "      <td>0</td>\n",
       "      <td>1</td>\n",
       "      <td>0</td>\n",
       "    </tr>\n",
       "    <tr>\n",
       "      <th>1</th>\n",
       "      <td>-122.22</td>\n",
       "      <td>37.86</td>\n",
       "      <td>21.0</td>\n",
       "      <td>7099.0</td>\n",
       "      <td>1106.0</td>\n",
       "      <td>2401.0</td>\n",
       "      <td>1138.0</td>\n",
       "      <td>8.3014</td>\n",
       "      <td>0</td>\n",
       "      <td>0</td>\n",
       "      <td>1</td>\n",
       "      <td>0</td>\n",
       "    </tr>\n",
       "    <tr>\n",
       "      <th>2</th>\n",
       "      <td>-122.24</td>\n",
       "      <td>37.85</td>\n",
       "      <td>52.0</td>\n",
       "      <td>1467.0</td>\n",
       "      <td>190.0</td>\n",
       "      <td>496.0</td>\n",
       "      <td>177.0</td>\n",
       "      <td>7.2574</td>\n",
       "      <td>0</td>\n",
       "      <td>0</td>\n",
       "      <td>1</td>\n",
       "      <td>0</td>\n",
       "    </tr>\n",
       "    <tr>\n",
       "      <th>3</th>\n",
       "      <td>-122.25</td>\n",
       "      <td>37.85</td>\n",
       "      <td>52.0</td>\n",
       "      <td>1274.0</td>\n",
       "      <td>235.0</td>\n",
       "      <td>558.0</td>\n",
       "      <td>219.0</td>\n",
       "      <td>5.6431</td>\n",
       "      <td>0</td>\n",
       "      <td>0</td>\n",
       "      <td>1</td>\n",
       "      <td>0</td>\n",
       "    </tr>\n",
       "    <tr>\n",
       "      <th>4</th>\n",
       "      <td>-122.25</td>\n",
       "      <td>37.85</td>\n",
       "      <td>52.0</td>\n",
       "      <td>1627.0</td>\n",
       "      <td>280.0</td>\n",
       "      <td>565.0</td>\n",
       "      <td>259.0</td>\n",
       "      <td>3.8462</td>\n",
       "      <td>0</td>\n",
       "      <td>0</td>\n",
       "      <td>1</td>\n",
       "      <td>0</td>\n",
       "    </tr>\n",
       "  </tbody>\n",
       "</table>\n",
       "</div>"
      ],
      "text/plain": [
       "   longitude  latitude  housing_median_age  total_rooms  total_bedrooms  \\\n",
       "0    -122.23     37.88                41.0        880.0           129.0   \n",
       "1    -122.22     37.86                21.0       7099.0          1106.0   \n",
       "2    -122.24     37.85                52.0       1467.0           190.0   \n",
       "3    -122.25     37.85                52.0       1274.0           235.0   \n",
       "4    -122.25     37.85                52.0       1627.0           280.0   \n",
       "\n",
       "   population  households  median_income  op_INLAND  op_ISLAND  op_NEAR BAY  \\\n",
       "0       322.0       126.0         8.3252          0          0            1   \n",
       "1      2401.0      1138.0         8.3014          0          0            1   \n",
       "2       496.0       177.0         7.2574          0          0            1   \n",
       "3       558.0       219.0         5.6431          0          0            1   \n",
       "4       565.0       259.0         3.8462          0          0            1   \n",
       "\n",
       "   op_NEAR OCEAN  \n",
       "0              0  \n",
       "1              0  \n",
       "2              0  \n",
       "3              0  \n",
       "4              0  "
      ]
     },
     "execution_count": 28,
     "metadata": {},
     "output_type": "execute_result"
    }
   ],
   "source": [
    "X[:5]"
   ]
  },
  {
   "cell_type": "code",
   "execution_count": 30,
   "metadata": {},
   "outputs": [
    {
     "data": {
      "text/plain": [
       "0    452600.0\n",
       "1    358500.0\n",
       "2    352100.0\n",
       "3    341300.0\n",
       "4    342200.0\n",
       "Name: median_house_value, dtype: float64"
      ]
     },
     "execution_count": 30,
     "metadata": {},
     "output_type": "execute_result"
    }
   ],
   "source": [
    "y[:5]"
   ]
  },
  {
   "cell_type": "code",
   "execution_count": 32,
   "metadata": {},
   "outputs": [],
   "source": [
    "# Splitting the data into training and testing sets to avoid data leakage (Horizontal Split)\n",
    "\n",
    "X_train, X_test, y_train, y_test = train_test_split(X, y, test_size=0.30, random_state=42)"
   ]
  },
  {
   "cell_type": "markdown",
   "metadata": {
    "id": "ANTOgamuDW3X"
   },
   "source": [
    "#### __Step 4: Perform K Fold validation__\n",
    "\n",
    "**Key components**\n",
    "\n",
    "- KFold: Implements K-fold cross-validation.\n",
    "- n_splits=10: Divides the dataset into 10 folds.\n",
    "- random_state=42: Ensures reproducible shuffling.\n",
    "- shuffle=True: Shuffles the data before splitting."
   ]
  },
  {
   "cell_type": "code",
   "execution_count": 35,
   "metadata": {
    "id": "rf_Clu2wDbFl"
   },
   "outputs": [],
   "source": [
    "kf = KFold(n_splits=10, random_state=42, shuffle=True)"
   ]
  },
  {
   "cell_type": "markdown",
   "metadata": {
    "id": "126rIXh8MsVH"
   },
   "source": [
    "#### __Step 5: Initialize the model__"
   ]
  },
  {
   "cell_type": "code",
   "execution_count": 38,
   "metadata": {
    "id": "nGAP_uGiMpMD"
   },
   "outputs": [],
   "source": [
    "model = LinearRegression()"
   ]
  },
  {
   "cell_type": "markdown",
   "metadata": {
    "id": "oDzV7ZusDeu5"
   },
   "source": [
    "##### __Evaluate the model__\n",
    "\n",
    "- cross_val_score: Evaluates the model using cross-validation.\n",
    "- model: The machine learning model to evaluate.\n",
    "- X_train and y_train: Training features and target variables.\n",
    "- scoring='neg_mean_absolute_error': Uses negative MAE as the performance metric.\n",
    "- cv=kf: Cross-validation strategy (e.g., KFold).\n",
    "- n_jobs=-1: Utilizes all available processors for parallel computation."
   ]
  },
  {
   "cell_type": "code",
   "execution_count": 41,
   "metadata": {
    "id": "1fqk5Iq9DiZ3"
   },
   "outputs": [
    {
     "data": {
      "text/plain": [
       "array([-4.59151426e+09, -4.32910471e+09, -5.64772395e+09, -4.56925929e+09,\n",
       "       -4.75022891e+09, -4.85619722e+09, -4.88204470e+09, -4.83863619e+09,\n",
       "       -4.74790066e+09, -4.61131237e+09])"
      ]
     },
     "execution_count": 41,
     "metadata": {},
     "output_type": "execute_result"
    }
   ],
   "source": [
    "k_fold_scores = cross_val_score(model, X_train, y_train, scoring='neg_mean_squared_error', cv=kf, n_jobs=-1)\n",
    "k_fold_scores"
   ]
  },
  {
   "cell_type": "code",
   "execution_count": 42,
   "metadata": {},
   "outputs": [
    {
     "data": {
      "text/plain": [
       "10"
      ]
     },
     "execution_count": 42,
     "metadata": {},
     "output_type": "execute_result"
    }
   ],
   "source": [
    "k_fold_scores.size"
   ]
  },
  {
   "cell_type": "code",
   "execution_count": 43,
   "metadata": {},
   "outputs": [
    {
     "data": {
      "text/plain": [
       "array([-49134.45853302, -48011.37058892, -53452.98401417, -49632.16255052,\n",
       "       -49645.67097715, -50050.91354386, -50624.31805674, -50432.08711946,\n",
       "       -49771.99690336, -48613.21586018])"
      ]
     },
     "execution_count": 43,
     "metadata": {},
     "output_type": "execute_result"
    }
   ],
   "source": [
    "k_fold_scores_mae = cross_val_score(model, X_train, y_train, scoring='neg_mean_absolute_error', cv=kf, n_jobs=-1)\n",
    "k_fold_scores_mae"
   ]
  },
  {
   "cell_type": "markdown",
   "metadata": {
    "id": "iyZHxiciOFRg"
   },
   "source": [
    "**Evaluating Cross-Validation Scores:**\n",
    "\n",
    "\n",
    "Calculate metrics (e.g., Mean Absolute Error, Mean Squared Error) from cross-validation scores to evaluate the model's performance.\n",
    "\n",
    "- np.abs(scores): Converts negative MAE values to positive MAE values.\n",
    "- np.mean(scores): Calculates the average MAE across all 10 cross-validation folds."
   ]
  },
  {
   "cell_type": "code",
   "execution_count": 45,
   "metadata": {
    "colab": {
     "base_uri": "https://localhost:8080/"
    },
    "id": "abbHFi0BDq6d",
    "outputId": "5617130e-0148-44fa-c5d1-414b1a736292"
   },
   "outputs": [
    {
     "data": {
      "text/plain": [
       "4782392227.0804825"
      ]
     },
     "execution_count": 45,
     "metadata": {},
     "output_type": "execute_result"
    }
   ],
   "source": [
    "np.mean(np.abs(k_fold_scores))"
   ]
  },
  {
   "cell_type": "code",
   "execution_count": 46,
   "metadata": {},
   "outputs": [
    {
     "data": {
      "text/plain": [
       "49936.91781473876"
      ]
     },
     "execution_count": 46,
     "metadata": {},
     "output_type": "execute_result"
    }
   ],
   "source": [
    "np.mean(np.abs(k_fold_scores_mae))"
   ]
  },
  {
   "cell_type": "markdown",
   "metadata": {
    "id": "uRLHCUMlOiXM"
   },
   "source": [
    "#### __Step 6: Train the Model and Evaluate on Test Set__\n",
    "\n",
    "**Now fit the model with train data and calculate MSE for test data.**\n",
    "- Train the model using the training data `X_train` and `y_train`.\n",
    "- Uses the trained model to make predictions on the test data `X_test`.\n",
    "- Calculates the Mean Squared Error (MSE) between the actual test target values `y_test` and the predicted values `y_test_pred`.\n",
    "- Print the calculated Test MSE."
   ]
  },
  {
   "cell_type": "code",
   "execution_count": 48,
   "metadata": {
    "colab": {
     "base_uri": "https://localhost:8080/"
    },
    "id": "ByLMPdOBDvfI",
    "outputId": "daf0db47-d022-440e-8514-c4ba183dc639"
   },
   "outputs": [],
   "source": [
    "# Evaluate the model on the test set\n",
    "model.fit(X_train, y_train)\n",
    "y_test_pred = model.predict(X_test)"
   ]
  },
  {
   "cell_type": "code",
   "execution_count": 49,
   "metadata": {},
   "outputs": [
    {
     "name": "stdout",
     "output_type": "stream",
     "text": [
      "Test MSE: 4614164009.95869\n",
      "Test R-squared: 0.653875373567343\n",
      "Test MAE: 49642.99835159895\n"
     ]
    }
   ],
   "source": [
    "# Calculate MSE\n",
    "mse_test = mean_squared_error(y_test, y_test_pred)\n",
    "\n",
    "# Calculate R-squared score\n",
    "r2_test = r2_score(y_test, y_test_pred)\n",
    "\n",
    "# Calculate MAE\n",
    "mae_test = mean_absolute_error(y_test, y_test_pred)\n",
    "\n",
    "print(f\"Test MSE: {mse_test}\")\n",
    "print(f\"Test R-squared: {r2_test}\")\n",
    "print(f\"Test MAE: {mae_test}\")"
   ]
  },
  {
   "cell_type": "markdown",
   "metadata": {
    "id": "bRchOGpd_LBS"
   },
   "source": [
    "**Observation**\n",
    "- An MSE of `4614164009.958683` is quite large, indicating that on average, the squared prediction errors are large. This can be interpreted in the context of the units of the dependent variable (`median_house_value`), which are likely in dollars.\n",
    "\n",
    "- This can further be mitigated by Scaling the features. Feature scaling is critical in machine learning to ensure that all features contribute equally to the model’s prediction.\n",
    "\n",
    "- An R2 score of `0.65` means that approximately `64%` of the variance in `median_house_value` is explained by the model. This suggests that while the model captures a significant portion of the variability, there is still `35%` of the variance unexplained by the model"
   ]
  },
  {
   "cell_type": "markdown",
   "metadata": {
    "id": "UNYZURcXN1Ku"
   },
   "source": [
    "##### __Repeat the process to demonstrate LOOCV:__\n",
    "\n",
    "* X_train, y_train  is same across all CV implementation"
   ]
  },
  {
   "cell_type": "code",
   "execution_count": 52,
   "metadata": {
    "colab": {
     "base_uri": "https://localhost:8080/"
    },
    "id": "3sq8yImPN0I8",
    "outputId": "51f09357-9a5d-4f13-95b2-5e50ff800f25"
   },
   "outputs": [
    {
     "data": {
      "text/plain": [
       "array([  -1683.70145042,   -4045.52563742,  -42891.32675324, ...,\n",
       "       -120574.22431376,  -23077.34917914,   -2677.73695918])"
      ]
     },
     "execution_count": 52,
     "metadata": {},
     "output_type": "execute_result"
    }
   ],
   "source": [
    "# Perform LOOCV\n",
    "loo = LeaveOneOut()\n",
    "\n",
    "# Compute Cross-validation scores\n",
    "loocv_scores = cross_val_score(model, X_train, y_train, scoring='neg_mean_absolute_error', cv=loo, n_jobs=-1)\n",
    "loocv_scores"
   ]
  },
  {
   "cell_type": "code",
   "execution_count": 54,
   "metadata": {},
   "outputs": [
    {
     "data": {
      "text/plain": [
       "14303"
      ]
     },
     "execution_count": 54,
     "metadata": {},
     "output_type": "execute_result"
    }
   ],
   "source": [
    "loocv_scores.size"
   ]
  },
  {
   "cell_type": "code",
   "execution_count": 59,
   "metadata": {},
   "outputs": [
    {
     "data": {
      "text/plain": [
       "14303.099999999999"
      ]
     },
     "execution_count": 59,
     "metadata": {},
     "output_type": "execute_result"
    }
   ],
   "source": [
    "20433*0.7"
   ]
  },
  {
   "cell_type": "code",
   "execution_count": 62,
   "metadata": {},
   "outputs": [
    {
     "data": {
      "text/plain": [
       "49931.80785901295"
      ]
     },
     "execution_count": 62,
     "metadata": {},
     "output_type": "execute_result"
    }
   ],
   "source": [
    "np.mean(np.abs(loocv_scores))"
   ]
  },
  {
   "cell_type": "markdown",
   "metadata": {
    "id": "-RNZfRnpYa-p"
   },
   "source": [
    "##### __Note: Stratified K-Fold is typically used for classification problems. For regression, standard K-Fold is preferred.__"
   ]
  },
  {
   "cell_type": "markdown",
   "metadata": {
    "id": "YCw0nNvHVpgj"
   },
   "source": [
    "#### __Observation for MAE and MSE:__\n",
    "\n",
    "Mean Absolute Error and MSE is quite high. To improve the model, more complex model can be considered which will be discussed in further lessons."
   ]
  },
  {
   "cell_type": "markdown",
   "metadata": {},
   "source": [
    "## __Regularization__"
   ]
  },
  {
   "cell_type": "markdown",
   "metadata": {},
   "source": [
    "__Cost vs loss function__"
   ]
  },
  {
   "cell_type": "markdown",
   "metadata": {
    "id": "eldlXGH_JTcY",
    "jp-MarkdownHeadingCollapsed": true
   },
   "source": [
    "### __Regularization in Regression__\n",
    "\n",
    "In linear regression, regularization encompasses a set of techniques employed to address the issue of overfitting.\n",
    "\n",
    "Regularization techniques achieve their objective by introducing a penalty term to the model's objective function. This objective function, typically measured by mean squared error, is minimized during the training process. The penalty term discourages the model from attaining excessive complexity by penalizing the size of the model coefficients, thereby mitigating overfitting.\n",
    "\n",
    "__Regularization term__ or `alpha`: is a hyperparameter that scales the penalty term. It controls the strength of regularization.\n",
    "- Higher `alpha`: Imposes a stronger penalty on the coefficients, leading to greater regularization. This tends to produce a simpler model that may underfit the training data but often generalizes better to unseen data.\n",
    "- Lower `alpha`: Imposes a weaker penalty, leading to a model that is less restricted by the regularization and more complex, potentially capturing more details in the data but at the risk of overfitting.\n",
    "\n",
    "__Benefits of Regularization:__\n",
    "- Enhanced Generalizability: By mitigating overfitting, regularization fosters models that perform well on unseen data.\n",
    "- Reduced Model Complexity: It promotes interpretability and potentially reduces computational costs associated with training complex models.\n",
    "\n",
    "\n",
    "__Common Regularization Techniques are:__\n",
    "* Lasso Regression (L1 Regularization)\n",
    "* Ridge Regression (L2 Regularization)\n"
   ]
  },
  {
   "cell_type": "markdown",
   "metadata": {
    "id": "xEEw4MYRs9x9"
   },
   "source": [
    "### __Least Absolute Shrinkage and Selection Operator (Lasso) Regression__\n",
    "\n",
    "__Lasso Regression__ relies upon the linear regression model but additionaly performs a so called L1 regularization, which is a process of introducing additional information in order to prevent overfitting. As a consequence, we can fit a model containing all possible predictors and use lasso to perform variable selection by using a technique that regularizes the coefficient estimates (it shrinks the coefficient estimates towards zero).\n",
    "\n",
    "- It performs variable selection or feature selection.\n",
    "- It forces some of the coeﬃcient estimates to be exactly equal to zero with the help of a large tuning parameter λ.\n",
    "- It helps reduce the learning of more complex data and overfitting of the model.\n",
    "- It decreases the variance of the model without an increase in bias.\n",
    "  \n",
    "In particular, the minimization objective does not only include the residual sum of squares (RSS) - like in the OLS regression setting - but also the sum of the absolute value of coefficients."
   ]
  },
  {
   "cell_type": "markdown",
   "metadata": {
    "id": "3Sf0dcOY1xGX"
   },
   "source": [
    "__Residual Sum of Squares (RSS)__, which is the sum of square of difference between actual and predicted values.\n",
    "\n",
    "$$ \\text{RSS} = \\sum_{i=1}^{n} (y_i - \\hat{y}_i)^2 $$\n",
    "\n",
    "Where:\n",
    "\n",
    "$y_i$: represents the actual target value from the dataset\n",
    "\n",
    "​$\\hat{y}_i$: represents the predicted target values by the regression model.\n",
    "\n",
    "𝑛: is the number of observations.\n",
    "\n",
    "\n",
    "The predictions ​$\\hat{y}_i$ in a regression model are typically calculated using the linear regression equation. For multiple regression involving several predictor variable, the equation is:\n",
    "\n",
    "\n",
    " $$ \\hat{y} = \\beta_0 + \\beta_1x_1 + \\beta_2x_2 + \\ldots + \\beta_nx_ n $$\n",
    "\n",
    "- $ x_1, x_2, \\ldots, x_n $ are the predictor variables,\n",
    "- $ \\beta_1, \\beta_2, \\ldots, \\beta_n $ are the coefficients for each predictor."
   ]
  },
  {
   "cell_type": "markdown",
   "metadata": {
    "id": "txAeH5mJ1xGY"
   },
   "source": [
    "The RSS formula for multiple linear regression can also be written as:\n",
    "\n",
    "$$ \\text{RSS} = \\sum_{i=1}^n \\left( y_i - \\left( \\beta_0 + \\sum_{j=1}^p \\beta_j x_{ij} \\right) \\right)^2 $$\n",
    "\n",
    "Where:\n",
    "\n",
    "- $ y_i $ represents the actual value for the \\(i\\)-th observation.\n",
    "- $ \\beta_0 \\ $ is the intercept.\n",
    "- $ \\beta_j \\ $ are the coefficients for each predictor \\(j\\).\n",
    "- $ x_{ij} $ represents the \\(j\\)-th predictor variable for the \\(i\\)-th observation.\n",
    "- $ n $ is the total number of observations.\n",
    "- $ p $ is the number of predictor variables."
   ]
  },
  {
   "cell_type": "markdown",
   "metadata": {
    "id": "VA5VjcUJ1xGY"
   },
   "source": [
    "__In Lasso regression__, the minimization objective (also called the standard loss function (mean squared error)) becomes:\n",
    "\n",
    "$$ \\text{Loss} = \\sum_{i=1}^n \\left( y_i - \\left( \\beta_0 + \\sum_{j=1}^p \\beta_j x_{ij} \\right) \\right)^2 + \\alpha \\sum_{j=1}^p |\\beta_j| $$\n",
    "\n",
    "which equals:\n",
    "\n",
    "$$ \\text{Loss} = \\text{RSS} + \\alpha \\sum_{j=1}^p |\\beta_j| $$\n",
    "\n",
    "Where $ \\alpha \\ $ (alpha) can take various values:\n",
    "- $ \\alpha = 0 \\ $: Same coefficients as least squares linear regression\n",
    "- $ \\alpha = \\infty $: All coefficients are zero\n",
    "- $ 0 < \\alpha < \\infty $: Coefficients are between 0 and that of least squares linear regression\n"
   ]
  },
  {
   "cell_type": "markdown",
   "metadata": {
    "id": "RfrSjtdqs9x-"
   },
   "source": [
    "### Now, Let us implement lasso regression."
   ]
  },
  {
   "cell_type": "code",
   "execution_count": 72,
   "metadata": {
    "id": "cDUHko_6s9x-"
   },
   "outputs": [],
   "source": [
    "# Import necessary libraries\n",
    "import numpy as np\n",
    "import pandas as pd\n",
    "from sklearn.linear_model import Lasso\n",
    "from sklearn.model_selection import train_test_split, cross_val_score\n",
    "from sklearn.metrics import mean_squared_error, r2_score\n",
    "from sklearn.linear_model import LassoCV\n",
    "import matplotlib.pyplot as plt"
   ]
  },
  {
   "cell_type": "markdown",
   "metadata": {
    "id": "phWuXJEi1xGY"
   },
   "source": [
    "**Description of the `Hitters.csv` Dataset**\n",
    "\n",
    "A data frame with 322 observations of major league players on the following 20 variables (see more about the dataset in this [documentation](https://cran.r-project.org/web/packages/ISLR/ISLR.pdf))."
   ]
  },
  {
   "cell_type": "markdown",
   "metadata": {
    "id": "_mMY7FDM1xGY"
   },
   "source": [
    "### __We want to predict a baseball player's salary based on various statistics associated with performance in the previous year.__ "
   ]
  },
  {
   "cell_type": "code",
   "execution_count": 75,
   "metadata": {
    "colab": {
     "base_uri": "https://localhost:8080/",
     "height": 360
    },
    "id": "omeHwCDQs9x-",
    "outputId": "9b5c48b5-87fc-44f2-f44c-b74ee1a13031"
   },
   "outputs": [
    {
     "data": {
      "text/html": [
       "<div>\n",
       "<style scoped>\n",
       "    .dataframe tbody tr th:only-of-type {\n",
       "        vertical-align: middle;\n",
       "    }\n",
       "\n",
       "    .dataframe tbody tr th {\n",
       "        vertical-align: top;\n",
       "    }\n",
       "\n",
       "    .dataframe thead th {\n",
       "        text-align: right;\n",
       "    }\n",
       "</style>\n",
       "<table border=\"1\" class=\"dataframe\">\n",
       "  <thead>\n",
       "    <tr style=\"text-align: right;\">\n",
       "      <th></th>\n",
       "      <th>Unnamed: 0</th>\n",
       "      <th>AtBat</th>\n",
       "      <th>Hits</th>\n",
       "      <th>HmRun</th>\n",
       "      <th>Runs</th>\n",
       "      <th>RBI</th>\n",
       "      <th>Walks</th>\n",
       "      <th>Years</th>\n",
       "      <th>CAtBat</th>\n",
       "      <th>CHits</th>\n",
       "      <th>...</th>\n",
       "      <th>CRuns</th>\n",
       "      <th>CRBI</th>\n",
       "      <th>CWalks</th>\n",
       "      <th>League</th>\n",
       "      <th>Division</th>\n",
       "      <th>PutOuts</th>\n",
       "      <th>Assists</th>\n",
       "      <th>Errors</th>\n",
       "      <th>Salary</th>\n",
       "      <th>NewLeague</th>\n",
       "    </tr>\n",
       "  </thead>\n",
       "  <tbody>\n",
       "    <tr>\n",
       "      <th>0</th>\n",
       "      <td>-Andy Allanson</td>\n",
       "      <td>293</td>\n",
       "      <td>66</td>\n",
       "      <td>1</td>\n",
       "      <td>30</td>\n",
       "      <td>29</td>\n",
       "      <td>14</td>\n",
       "      <td>1</td>\n",
       "      <td>293</td>\n",
       "      <td>66</td>\n",
       "      <td>...</td>\n",
       "      <td>30</td>\n",
       "      <td>29</td>\n",
       "      <td>14</td>\n",
       "      <td>A</td>\n",
       "      <td>E</td>\n",
       "      <td>446</td>\n",
       "      <td>33</td>\n",
       "      <td>20</td>\n",
       "      <td>NaN</td>\n",
       "      <td>A</td>\n",
       "    </tr>\n",
       "    <tr>\n",
       "      <th>1</th>\n",
       "      <td>-Alan Ashby</td>\n",
       "      <td>315</td>\n",
       "      <td>81</td>\n",
       "      <td>7</td>\n",
       "      <td>24</td>\n",
       "      <td>38</td>\n",
       "      <td>39</td>\n",
       "      <td>14</td>\n",
       "      <td>3449</td>\n",
       "      <td>835</td>\n",
       "      <td>...</td>\n",
       "      <td>321</td>\n",
       "      <td>414</td>\n",
       "      <td>375</td>\n",
       "      <td>N</td>\n",
       "      <td>W</td>\n",
       "      <td>632</td>\n",
       "      <td>43</td>\n",
       "      <td>10</td>\n",
       "      <td>475.0</td>\n",
       "      <td>N</td>\n",
       "    </tr>\n",
       "    <tr>\n",
       "      <th>2</th>\n",
       "      <td>-Alvin Davis</td>\n",
       "      <td>479</td>\n",
       "      <td>130</td>\n",
       "      <td>18</td>\n",
       "      <td>66</td>\n",
       "      <td>72</td>\n",
       "      <td>76</td>\n",
       "      <td>3</td>\n",
       "      <td>1624</td>\n",
       "      <td>457</td>\n",
       "      <td>...</td>\n",
       "      <td>224</td>\n",
       "      <td>266</td>\n",
       "      <td>263</td>\n",
       "      <td>A</td>\n",
       "      <td>W</td>\n",
       "      <td>880</td>\n",
       "      <td>82</td>\n",
       "      <td>14</td>\n",
       "      <td>480.0</td>\n",
       "      <td>A</td>\n",
       "    </tr>\n",
       "    <tr>\n",
       "      <th>3</th>\n",
       "      <td>-Andre Dawson</td>\n",
       "      <td>496</td>\n",
       "      <td>141</td>\n",
       "      <td>20</td>\n",
       "      <td>65</td>\n",
       "      <td>78</td>\n",
       "      <td>37</td>\n",
       "      <td>11</td>\n",
       "      <td>5628</td>\n",
       "      <td>1575</td>\n",
       "      <td>...</td>\n",
       "      <td>828</td>\n",
       "      <td>838</td>\n",
       "      <td>354</td>\n",
       "      <td>N</td>\n",
       "      <td>E</td>\n",
       "      <td>200</td>\n",
       "      <td>11</td>\n",
       "      <td>3</td>\n",
       "      <td>500.0</td>\n",
       "      <td>N</td>\n",
       "    </tr>\n",
       "    <tr>\n",
       "      <th>4</th>\n",
       "      <td>-Andres Galarraga</td>\n",
       "      <td>321</td>\n",
       "      <td>87</td>\n",
       "      <td>10</td>\n",
       "      <td>39</td>\n",
       "      <td>42</td>\n",
       "      <td>30</td>\n",
       "      <td>2</td>\n",
       "      <td>396</td>\n",
       "      <td>101</td>\n",
       "      <td>...</td>\n",
       "      <td>48</td>\n",
       "      <td>46</td>\n",
       "      <td>33</td>\n",
       "      <td>N</td>\n",
       "      <td>E</td>\n",
       "      <td>805</td>\n",
       "      <td>40</td>\n",
       "      <td>4</td>\n",
       "      <td>91.5</td>\n",
       "      <td>N</td>\n",
       "    </tr>\n",
       "  </tbody>\n",
       "</table>\n",
       "<p>5 rows × 21 columns</p>\n",
       "</div>"
      ],
      "text/plain": [
       "          Unnamed: 0  AtBat  Hits  HmRun  Runs  RBI  Walks  Years  CAtBat  \\\n",
       "0     -Andy Allanson    293    66      1    30   29     14      1     293   \n",
       "1        -Alan Ashby    315    81      7    24   38     39     14    3449   \n",
       "2       -Alvin Davis    479   130     18    66   72     76      3    1624   \n",
       "3      -Andre Dawson    496   141     20    65   78     37     11    5628   \n",
       "4  -Andres Galarraga    321    87     10    39   42     30      2     396   \n",
       "\n",
       "   CHits  ...  CRuns  CRBI  CWalks  League Division PutOuts  Assists  Errors  \\\n",
       "0     66  ...     30    29      14       A        E     446       33      20   \n",
       "1    835  ...    321   414     375       N        W     632       43      10   \n",
       "2    457  ...    224   266     263       A        W     880       82      14   \n",
       "3   1575  ...    828   838     354       N        E     200       11       3   \n",
       "4    101  ...     48    46      33       N        E     805       40       4   \n",
       "\n",
       "   Salary  NewLeague  \n",
       "0     NaN          A  \n",
       "1   475.0          N  \n",
       "2   480.0          A  \n",
       "3   500.0          N  \n",
       "4    91.5          N  \n",
       "\n",
       "[5 rows x 21 columns]"
      ]
     },
     "execution_count": 75,
     "metadata": {},
     "output_type": "execute_result"
    }
   ],
   "source": [
    "# Load the data from a CSV file into a DataFrame and display 5 rows\n",
    "hitters_data = pd.read_csv('Hitters.csv')\n",
    "hitters_data.head()"
   ]
  },
  {
   "cell_type": "code",
   "execution_count": 76,
   "metadata": {
    "colab": {
     "base_uri": "https://localhost:8080/"
    },
    "id": "RRG1wZ_-1xGZ",
    "outputId": "d1acce9d-6d5b-48f3-cf36-4b6f84f7f1e7"
   },
   "outputs": [
    {
     "data": {
      "text/plain": [
       "Index(['Unnamed: 0', 'AtBat', 'Hits', 'HmRun', 'Runs', 'RBI', 'Walks', 'Years',\n",
       "       'CAtBat', 'CHits', 'CHmRun', 'CRuns', 'CRBI', 'CWalks', 'League',\n",
       "       'Division', 'PutOuts', 'Assists', 'Errors', 'Salary', 'NewLeague'],\n",
       "      dtype='object')"
      ]
     },
     "execution_count": 76,
     "metadata": {},
     "output_type": "execute_result"
    }
   ],
   "source": [
    "hitters_data.columns"
   ]
  },
  {
   "cell_type": "code",
   "execution_count": 77,
   "metadata": {},
   "outputs": [
    {
     "name": "stdout",
     "output_type": "stream",
     "text": [
      "<class 'pandas.core.frame.DataFrame'>\n",
      "RangeIndex: 322 entries, 0 to 321\n",
      "Data columns (total 21 columns):\n",
      " #   Column      Non-Null Count  Dtype  \n",
      "---  ------      --------------  -----  \n",
      " 0   Unnamed: 0  322 non-null    object \n",
      " 1   AtBat       322 non-null    int64  \n",
      " 2   Hits        322 non-null    int64  \n",
      " 3   HmRun       322 non-null    int64  \n",
      " 4   Runs        322 non-null    int64  \n",
      " 5   RBI         322 non-null    int64  \n",
      " 6   Walks       322 non-null    int64  \n",
      " 7   Years       322 non-null    int64  \n",
      " 8   CAtBat      322 non-null    int64  \n",
      " 9   CHits       322 non-null    int64  \n",
      " 10  CHmRun      322 non-null    int64  \n",
      " 11  CRuns       322 non-null    int64  \n",
      " 12  CRBI        322 non-null    int64  \n",
      " 13  CWalks      322 non-null    int64  \n",
      " 14  League      322 non-null    object \n",
      " 15  Division    322 non-null    object \n",
      " 16  PutOuts     322 non-null    int64  \n",
      " 17  Assists     322 non-null    int64  \n",
      " 18  Errors      322 non-null    int64  \n",
      " 19  Salary      263 non-null    float64\n",
      " 20  NewLeague   322 non-null    object \n",
      "dtypes: float64(1), int64(16), object(4)\n",
      "memory usage: 53.0+ KB\n"
     ]
    }
   ],
   "source": [
    "hitters_data.info()"
   ]
  },
  {
   "cell_type": "code",
   "execution_count": 78,
   "metadata": {
    "id": "09EdT9VW1xGZ"
   },
   "outputs": [],
   "source": [
    "# Remove \"Unnamed: 0\" from the dataframe\n",
    "\n",
    "hitters_data.drop('Unnamed: 0', axis=1, inplace=True)"
   ]
  },
  {
   "cell_type": "code",
   "execution_count": 79,
   "metadata": {
    "colab": {
     "base_uri": "https://localhost:8080/"
    },
    "id": "gdL3Uc9ws9x-",
    "outputId": "4fd0c7da-3953-4d27-bb2f-ce44435a3495"
   },
   "outputs": [
    {
     "name": "stdout",
     "output_type": "stream",
     "text": [
      "<class 'pandas.core.frame.DataFrame'>\n",
      "RangeIndex: 322 entries, 0 to 321\n",
      "Data columns (total 20 columns):\n",
      " #   Column     Non-Null Count  Dtype  \n",
      "---  ------     --------------  -----  \n",
      " 0   AtBat      322 non-null    int64  \n",
      " 1   Hits       322 non-null    int64  \n",
      " 2   HmRun      322 non-null    int64  \n",
      " 3   Runs       322 non-null    int64  \n",
      " 4   RBI        322 non-null    int64  \n",
      " 5   Walks      322 non-null    int64  \n",
      " 6   Years      322 non-null    int64  \n",
      " 7   CAtBat     322 non-null    int64  \n",
      " 8   CHits      322 non-null    int64  \n",
      " 9   CHmRun     322 non-null    int64  \n",
      " 10  CRuns      322 non-null    int64  \n",
      " 11  CRBI       322 non-null    int64  \n",
      " 12  CWalks     322 non-null    int64  \n",
      " 13  League     322 non-null    object \n",
      " 14  Division   322 non-null    object \n",
      " 15  PutOuts    322 non-null    int64  \n",
      " 16  Assists    322 non-null    int64  \n",
      " 17  Errors     322 non-null    int64  \n",
      " 18  Salary     263 non-null    float64\n",
      " 19  NewLeague  322 non-null    object \n",
      "dtypes: float64(1), int64(16), object(3)\n",
      "memory usage: 50.4+ KB\n"
     ]
    }
   ],
   "source": [
    "hitters_data.info()"
   ]
  },
  {
   "cell_type": "markdown",
   "metadata": {
    "id": "3U6UtdPTs9x_"
   },
   "source": [
    "**Observations**\n",
    "\n",
    "- Overall, it includes 322 observations and 21 columns (1 column has been removed).\n",
    "- As seen, the **Salary** field has null values."
   ]
  },
  {
   "cell_type": "code",
   "execution_count": 81,
   "metadata": {
    "colab": {
     "base_uri": "https://localhost:8080/"
    },
    "id": "Zr4513vJ1xGZ",
    "outputId": "56412b97-20d0-4783-e5c8-507bca288274"
   },
   "outputs": [
    {
     "name": "stdout",
     "output_type": "stream",
     "text": [
      "Number of missing values in 'Salary': 59\n"
     ]
    }
   ],
   "source": [
    "print(\"Number of missing values in 'Salary':\", len(hitters_data[hitters_data['Salary'].isnull()]))"
   ]
  },
  {
   "cell_type": "code",
   "execution_count": 82,
   "metadata": {},
   "outputs": [
    {
     "data": {
      "text/plain": [
       "59"
      ]
     },
     "execution_count": 82,
     "metadata": {},
     "output_type": "execute_result"
    }
   ],
   "source": [
    "# Another way to get the no. of missing values from the Series\n",
    "\n",
    "hitters_data.isna().sum()['Salary']"
   ]
  },
  {
   "cell_type": "markdown",
   "metadata": {
    "id": "xAw7Z8bg1xGa"
   },
   "source": [
    "**Observations**\n",
    "\n",
    "- There are 59 rows out 322 observations with null values corresponding to the column `Salary`.\n",
    "- Since we will use the lasso algorithm from scikit learn, we need to encode our categorical features as one-hot numeric features (dummy variables).\n",
    "\n",
    "**Note: Lasso regression assumes that the features are numeric and continuous, and does not work well with categorical variables.**"
   ]
  },
  {
   "cell_type": "code",
   "execution_count": 84,
   "metadata": {
    "colab": {
     "base_uri": "https://localhost:8080/"
    },
    "id": "UhR4u4EM1xGa",
    "outputId": "805529f7-26aa-4b39-8b27-355d65d8a45c"
   },
   "outputs": [
    {
     "name": "stdout",
     "output_type": "stream",
     "text": [
      "<class 'pandas.core.frame.DataFrame'>\n",
      "RangeIndex: 322 entries, 0 to 321\n",
      "Data columns (total 6 columns):\n",
      " #   Column       Non-Null Count  Dtype\n",
      "---  ------       --------------  -----\n",
      " 0   League_A     322 non-null    int64\n",
      " 1   League_N     322 non-null    int64\n",
      " 2   Division_E   322 non-null    int64\n",
      " 3   Division_W   322 non-null    int64\n",
      " 4   NewLeague_A  322 non-null    int64\n",
      " 5   NewLeague_N  322 non-null    int64\n",
      "dtypes: int64(6)\n",
      "memory usage: 15.2 KB\n"
     ]
    }
   ],
   "source": [
    "# Creating dummies for all the variable of object type\n",
    "dummies = pd.get_dummies(hitters_data[['League', 'Division','NewLeague']])\n",
    "\n",
    "# Convert boolean True/False to integer 1/0\n",
    "dummies = dummies.astype(int)\n",
    "dummies.info()"
   ]
  },
  {
   "cell_type": "code",
   "execution_count": 85,
   "metadata": {
    "colab": {
     "base_uri": "https://localhost:8080/",
     "height": 206
    },
    "id": "vNJUrIcT9mIp",
    "outputId": "9a1cbf54-87e8-4c52-b2a7-59d7c9a95714"
   },
   "outputs": [
    {
     "data": {
      "text/html": [
       "<div>\n",
       "<style scoped>\n",
       "    .dataframe tbody tr th:only-of-type {\n",
       "        vertical-align: middle;\n",
       "    }\n",
       "\n",
       "    .dataframe tbody tr th {\n",
       "        vertical-align: top;\n",
       "    }\n",
       "\n",
       "    .dataframe thead th {\n",
       "        text-align: right;\n",
       "    }\n",
       "</style>\n",
       "<table border=\"1\" class=\"dataframe\">\n",
       "  <thead>\n",
       "    <tr style=\"text-align: right;\">\n",
       "      <th></th>\n",
       "      <th>League_A</th>\n",
       "      <th>League_N</th>\n",
       "      <th>Division_E</th>\n",
       "      <th>Division_W</th>\n",
       "      <th>NewLeague_A</th>\n",
       "      <th>NewLeague_N</th>\n",
       "    </tr>\n",
       "  </thead>\n",
       "  <tbody>\n",
       "    <tr>\n",
       "      <th>0</th>\n",
       "      <td>1</td>\n",
       "      <td>0</td>\n",
       "      <td>1</td>\n",
       "      <td>0</td>\n",
       "      <td>1</td>\n",
       "      <td>0</td>\n",
       "    </tr>\n",
       "    <tr>\n",
       "      <th>1</th>\n",
       "      <td>0</td>\n",
       "      <td>1</td>\n",
       "      <td>0</td>\n",
       "      <td>1</td>\n",
       "      <td>0</td>\n",
       "      <td>1</td>\n",
       "    </tr>\n",
       "    <tr>\n",
       "      <th>2</th>\n",
       "      <td>1</td>\n",
       "      <td>0</td>\n",
       "      <td>0</td>\n",
       "      <td>1</td>\n",
       "      <td>1</td>\n",
       "      <td>0</td>\n",
       "    </tr>\n",
       "    <tr>\n",
       "      <th>3</th>\n",
       "      <td>0</td>\n",
       "      <td>1</td>\n",
       "      <td>1</td>\n",
       "      <td>0</td>\n",
       "      <td>0</td>\n",
       "      <td>1</td>\n",
       "    </tr>\n",
       "    <tr>\n",
       "      <th>4</th>\n",
       "      <td>0</td>\n",
       "      <td>1</td>\n",
       "      <td>1</td>\n",
       "      <td>0</td>\n",
       "      <td>0</td>\n",
       "      <td>1</td>\n",
       "    </tr>\n",
       "  </tbody>\n",
       "</table>\n",
       "</div>"
      ],
      "text/plain": [
       "   League_A  League_N  Division_E  Division_W  NewLeague_A  NewLeague_N\n",
       "0         1         0           1           0            1            0\n",
       "1         0         1           0           1            0            1\n",
       "2         1         0           0           1            1            0\n",
       "3         0         1           1           0            0            1\n",
       "4         0         1           1           0            0            1"
      ]
     },
     "execution_count": 85,
     "metadata": {},
     "output_type": "execute_result"
    }
   ],
   "source": [
    "dummies.head()"
   ]
  },
  {
   "cell_type": "code",
   "execution_count": 86,
   "metadata": {
    "colab": {
     "base_uri": "https://localhost:8080/"
    },
    "id": "XYSjY-u91xGa",
    "outputId": "61c7395c-04a7-4f36-fa63-bff7a524a296"
   },
   "outputs": [
    {
     "data": {
      "text/plain": [
       "Index(['AtBat', 'Hits', 'HmRun', 'Runs', 'RBI', 'Walks', 'Years', 'CAtBat',\n",
       "       'CHits', 'CHmRun', 'CRuns', 'CRBI', 'CWalks', 'PutOuts', 'Assists',\n",
       "       'Errors'],\n",
       "      dtype='object')"
      ]
     },
     "execution_count": 86,
     "metadata": {},
     "output_type": "execute_result"
    }
   ],
   "source": [
    "# Create labels X and y\n",
    "y = hitters_data['Salary']\n",
    "\n",
    "# Drop the column with the outcome variable (Salary), and categorical columns for which dummy variables is already created.\n",
    "X_numerical = hitters_data.drop(['Salary', 'League', 'Division', 'NewLeague'], axis=1).astype('float64')\n",
    "\n",
    "# List all the numerical columns in X_numerical\n",
    "list_numerical = X_numerical.columns\n",
    "list_numerical"
   ]
  },
  {
   "cell_type": "code",
   "execution_count": 87,
   "metadata": {},
   "outputs": [
    {
     "data": {
      "text/plain": [
       "0      NaN\n",
       "1    475.0\n",
       "2    480.0\n",
       "3    500.0\n",
       "4     91.5\n",
       "Name: Salary, dtype: float64"
      ]
     },
     "execution_count": 87,
     "metadata": {},
     "output_type": "execute_result"
    }
   ],
   "source": [
    "y.head()"
   ]
  },
  {
   "cell_type": "code",
   "execution_count": 88,
   "metadata": {},
   "outputs": [
    {
     "data": {
      "text/html": [
       "<div>\n",
       "<style scoped>\n",
       "    .dataframe tbody tr th:only-of-type {\n",
       "        vertical-align: middle;\n",
       "    }\n",
       "\n",
       "    .dataframe tbody tr th {\n",
       "        vertical-align: top;\n",
       "    }\n",
       "\n",
       "    .dataframe thead th {\n",
       "        text-align: right;\n",
       "    }\n",
       "</style>\n",
       "<table border=\"1\" class=\"dataframe\">\n",
       "  <thead>\n",
       "    <tr style=\"text-align: right;\">\n",
       "      <th></th>\n",
       "      <th>AtBat</th>\n",
       "      <th>Hits</th>\n",
       "      <th>HmRun</th>\n",
       "      <th>Runs</th>\n",
       "      <th>RBI</th>\n",
       "      <th>Walks</th>\n",
       "      <th>Years</th>\n",
       "      <th>CAtBat</th>\n",
       "      <th>CHits</th>\n",
       "      <th>CHmRun</th>\n",
       "      <th>CRuns</th>\n",
       "      <th>CRBI</th>\n",
       "      <th>CWalks</th>\n",
       "      <th>PutOuts</th>\n",
       "      <th>Assists</th>\n",
       "      <th>Errors</th>\n",
       "    </tr>\n",
       "  </thead>\n",
       "  <tbody>\n",
       "    <tr>\n",
       "      <th>0</th>\n",
       "      <td>293.0</td>\n",
       "      <td>66.0</td>\n",
       "      <td>1.0</td>\n",
       "      <td>30.0</td>\n",
       "      <td>29.0</td>\n",
       "      <td>14.0</td>\n",
       "      <td>1.0</td>\n",
       "      <td>293.0</td>\n",
       "      <td>66.0</td>\n",
       "      <td>1.0</td>\n",
       "      <td>30.0</td>\n",
       "      <td>29.0</td>\n",
       "      <td>14.0</td>\n",
       "      <td>446.0</td>\n",
       "      <td>33.0</td>\n",
       "      <td>20.0</td>\n",
       "    </tr>\n",
       "    <tr>\n",
       "      <th>1</th>\n",
       "      <td>315.0</td>\n",
       "      <td>81.0</td>\n",
       "      <td>7.0</td>\n",
       "      <td>24.0</td>\n",
       "      <td>38.0</td>\n",
       "      <td>39.0</td>\n",
       "      <td>14.0</td>\n",
       "      <td>3449.0</td>\n",
       "      <td>835.0</td>\n",
       "      <td>69.0</td>\n",
       "      <td>321.0</td>\n",
       "      <td>414.0</td>\n",
       "      <td>375.0</td>\n",
       "      <td>632.0</td>\n",
       "      <td>43.0</td>\n",
       "      <td>10.0</td>\n",
       "    </tr>\n",
       "    <tr>\n",
       "      <th>2</th>\n",
       "      <td>479.0</td>\n",
       "      <td>130.0</td>\n",
       "      <td>18.0</td>\n",
       "      <td>66.0</td>\n",
       "      <td>72.0</td>\n",
       "      <td>76.0</td>\n",
       "      <td>3.0</td>\n",
       "      <td>1624.0</td>\n",
       "      <td>457.0</td>\n",
       "      <td>63.0</td>\n",
       "      <td>224.0</td>\n",
       "      <td>266.0</td>\n",
       "      <td>263.0</td>\n",
       "      <td>880.0</td>\n",
       "      <td>82.0</td>\n",
       "      <td>14.0</td>\n",
       "    </tr>\n",
       "    <tr>\n",
       "      <th>3</th>\n",
       "      <td>496.0</td>\n",
       "      <td>141.0</td>\n",
       "      <td>20.0</td>\n",
       "      <td>65.0</td>\n",
       "      <td>78.0</td>\n",
       "      <td>37.0</td>\n",
       "      <td>11.0</td>\n",
       "      <td>5628.0</td>\n",
       "      <td>1575.0</td>\n",
       "      <td>225.0</td>\n",
       "      <td>828.0</td>\n",
       "      <td>838.0</td>\n",
       "      <td>354.0</td>\n",
       "      <td>200.0</td>\n",
       "      <td>11.0</td>\n",
       "      <td>3.0</td>\n",
       "    </tr>\n",
       "    <tr>\n",
       "      <th>4</th>\n",
       "      <td>321.0</td>\n",
       "      <td>87.0</td>\n",
       "      <td>10.0</td>\n",
       "      <td>39.0</td>\n",
       "      <td>42.0</td>\n",
       "      <td>30.0</td>\n",
       "      <td>2.0</td>\n",
       "      <td>396.0</td>\n",
       "      <td>101.0</td>\n",
       "      <td>12.0</td>\n",
       "      <td>48.0</td>\n",
       "      <td>46.0</td>\n",
       "      <td>33.0</td>\n",
       "      <td>805.0</td>\n",
       "      <td>40.0</td>\n",
       "      <td>4.0</td>\n",
       "    </tr>\n",
       "  </tbody>\n",
       "</table>\n",
       "</div>"
      ],
      "text/plain": [
       "   AtBat   Hits  HmRun  Runs   RBI  Walks  Years  CAtBat   CHits  CHmRun  \\\n",
       "0  293.0   66.0    1.0  30.0  29.0   14.0    1.0   293.0    66.0     1.0   \n",
       "1  315.0   81.0    7.0  24.0  38.0   39.0   14.0  3449.0   835.0    69.0   \n",
       "2  479.0  130.0   18.0  66.0  72.0   76.0    3.0  1624.0   457.0    63.0   \n",
       "3  496.0  141.0   20.0  65.0  78.0   37.0   11.0  5628.0  1575.0   225.0   \n",
       "4  321.0   87.0   10.0  39.0  42.0   30.0    2.0   396.0   101.0    12.0   \n",
       "\n",
       "   CRuns   CRBI  CWalks  PutOuts  Assists  Errors  \n",
       "0   30.0   29.0    14.0    446.0     33.0    20.0  \n",
       "1  321.0  414.0   375.0    632.0     43.0    10.0  \n",
       "2  224.0  266.0   263.0    880.0     82.0    14.0  \n",
       "3  828.0  838.0   354.0    200.0     11.0     3.0  \n",
       "4   48.0   46.0    33.0    805.0     40.0     4.0  "
      ]
     },
     "execution_count": 88,
     "metadata": {},
     "output_type": "execute_result"
    }
   ],
   "source": [
    "X_numerical.head()"
   ]
  },
  {
   "cell_type": "markdown",
   "metadata": {
    "id": "ByZ210xN1xGa"
   },
   "source": [
    "**Next Steps:**\n",
    "\n",
    "- Concatenate the dummy variable dataframe `dummies` and `X_numerical` to create `X`.\n",
    "\n",
    "**Observations:**\n",
    "\n",
    "- Creating dummy variables for `League`, `Division`, and `NewLeague` allows us to convert categorical data into a numerical format suitable for machine learning models, while avoiding multicollinearity by dropping one category. This ensures that the models can interpret and leverage these categorical distinctions effectively.\n",
    "\n",
    "**Data Description:**\n",
    "- __League (A or N):__ American League (A) or National League (N) as of the end of 1986.\n",
    "- __Division (E or W):__ Eastern Division (E) or Western Division (W) as of the end of 1986.\n",
    "- __NewLeague (A or N):__ American League (A) or National League (N) as of the beginning of 1987.\n",
    "\n",
    "`League_N`: 1 if the league is National League (N), 0 otherwise.\n",
    "\n",
    "`Division_W`: 1 if the division is Western Division (W), 0 otherwise.\n",
    "\n",
    "`NewLeague_N`: 1 if the new league is National League (N), 0 otherwise."
   ]
  },
  {
   "cell_type": "code",
   "execution_count": 90,
   "metadata": {
    "colab": {
     "base_uri": "https://localhost:8080/"
    },
    "id": "AAC_nzyX1xGa",
    "outputId": "dd333f1a-152b-4ede-de6d-a57d56073076"
   },
   "outputs": [
    {
     "data": {
      "text/html": [
       "<div>\n",
       "<style scoped>\n",
       "    .dataframe tbody tr th:only-of-type {\n",
       "        vertical-align: middle;\n",
       "    }\n",
       "\n",
       "    .dataframe tbody tr th {\n",
       "        vertical-align: top;\n",
       "    }\n",
       "\n",
       "    .dataframe thead th {\n",
       "        text-align: right;\n",
       "    }\n",
       "</style>\n",
       "<table border=\"1\" class=\"dataframe\">\n",
       "  <thead>\n",
       "    <tr style=\"text-align: right;\">\n",
       "      <th></th>\n",
       "      <th>AtBat</th>\n",
       "      <th>Hits</th>\n",
       "      <th>HmRun</th>\n",
       "      <th>Runs</th>\n",
       "      <th>RBI</th>\n",
       "      <th>Walks</th>\n",
       "      <th>Years</th>\n",
       "      <th>CAtBat</th>\n",
       "      <th>CHits</th>\n",
       "      <th>CHmRun</th>\n",
       "      <th>CRuns</th>\n",
       "      <th>CRBI</th>\n",
       "      <th>CWalks</th>\n",
       "      <th>PutOuts</th>\n",
       "      <th>Assists</th>\n",
       "      <th>Errors</th>\n",
       "      <th>League_N</th>\n",
       "      <th>Division_W</th>\n",
       "      <th>NewLeague_N</th>\n",
       "    </tr>\n",
       "  </thead>\n",
       "  <tbody>\n",
       "    <tr>\n",
       "      <th>0</th>\n",
       "      <td>293.0</td>\n",
       "      <td>66.0</td>\n",
       "      <td>1.0</td>\n",
       "      <td>30.0</td>\n",
       "      <td>29.0</td>\n",
       "      <td>14.0</td>\n",
       "      <td>1.0</td>\n",
       "      <td>293.0</td>\n",
       "      <td>66.0</td>\n",
       "      <td>1.0</td>\n",
       "      <td>30.0</td>\n",
       "      <td>29.0</td>\n",
       "      <td>14.0</td>\n",
       "      <td>446.0</td>\n",
       "      <td>33.0</td>\n",
       "      <td>20.0</td>\n",
       "      <td>0</td>\n",
       "      <td>0</td>\n",
       "      <td>0</td>\n",
       "    </tr>\n",
       "    <tr>\n",
       "      <th>1</th>\n",
       "      <td>315.0</td>\n",
       "      <td>81.0</td>\n",
       "      <td>7.0</td>\n",
       "      <td>24.0</td>\n",
       "      <td>38.0</td>\n",
       "      <td>39.0</td>\n",
       "      <td>14.0</td>\n",
       "      <td>3449.0</td>\n",
       "      <td>835.0</td>\n",
       "      <td>69.0</td>\n",
       "      <td>321.0</td>\n",
       "      <td>414.0</td>\n",
       "      <td>375.0</td>\n",
       "      <td>632.0</td>\n",
       "      <td>43.0</td>\n",
       "      <td>10.0</td>\n",
       "      <td>1</td>\n",
       "      <td>1</td>\n",
       "      <td>1</td>\n",
       "    </tr>\n",
       "    <tr>\n",
       "      <th>2</th>\n",
       "      <td>479.0</td>\n",
       "      <td>130.0</td>\n",
       "      <td>18.0</td>\n",
       "      <td>66.0</td>\n",
       "      <td>72.0</td>\n",
       "      <td>76.0</td>\n",
       "      <td>3.0</td>\n",
       "      <td>1624.0</td>\n",
       "      <td>457.0</td>\n",
       "      <td>63.0</td>\n",
       "      <td>224.0</td>\n",
       "      <td>266.0</td>\n",
       "      <td>263.0</td>\n",
       "      <td>880.0</td>\n",
       "      <td>82.0</td>\n",
       "      <td>14.0</td>\n",
       "      <td>0</td>\n",
       "      <td>1</td>\n",
       "      <td>0</td>\n",
       "    </tr>\n",
       "    <tr>\n",
       "      <th>3</th>\n",
       "      <td>496.0</td>\n",
       "      <td>141.0</td>\n",
       "      <td>20.0</td>\n",
       "      <td>65.0</td>\n",
       "      <td>78.0</td>\n",
       "      <td>37.0</td>\n",
       "      <td>11.0</td>\n",
       "      <td>5628.0</td>\n",
       "      <td>1575.0</td>\n",
       "      <td>225.0</td>\n",
       "      <td>828.0</td>\n",
       "      <td>838.0</td>\n",
       "      <td>354.0</td>\n",
       "      <td>200.0</td>\n",
       "      <td>11.0</td>\n",
       "      <td>3.0</td>\n",
       "      <td>1</td>\n",
       "      <td>0</td>\n",
       "      <td>1</td>\n",
       "    </tr>\n",
       "    <tr>\n",
       "      <th>4</th>\n",
       "      <td>321.0</td>\n",
       "      <td>87.0</td>\n",
       "      <td>10.0</td>\n",
       "      <td>39.0</td>\n",
       "      <td>42.0</td>\n",
       "      <td>30.0</td>\n",
       "      <td>2.0</td>\n",
       "      <td>396.0</td>\n",
       "      <td>101.0</td>\n",
       "      <td>12.0</td>\n",
       "      <td>48.0</td>\n",
       "      <td>46.0</td>\n",
       "      <td>33.0</td>\n",
       "      <td>805.0</td>\n",
       "      <td>40.0</td>\n",
       "      <td>4.0</td>\n",
       "      <td>1</td>\n",
       "      <td>0</td>\n",
       "      <td>1</td>\n",
       "    </tr>\n",
       "  </tbody>\n",
       "</table>\n",
       "</div>"
      ],
      "text/plain": [
       "   AtBat   Hits  HmRun  Runs   RBI  Walks  Years  CAtBat   CHits  CHmRun  \\\n",
       "0  293.0   66.0    1.0  30.0  29.0   14.0    1.0   293.0    66.0     1.0   \n",
       "1  315.0   81.0    7.0  24.0  38.0   39.0   14.0  3449.0   835.0    69.0   \n",
       "2  479.0  130.0   18.0  66.0  72.0   76.0    3.0  1624.0   457.0    63.0   \n",
       "3  496.0  141.0   20.0  65.0  78.0   37.0   11.0  5628.0  1575.0   225.0   \n",
       "4  321.0   87.0   10.0  39.0  42.0   30.0    2.0   396.0   101.0    12.0   \n",
       "\n",
       "   CRuns   CRBI  CWalks  PutOuts  Assists  Errors  League_N  Division_W  \\\n",
       "0   30.0   29.0    14.0    446.0     33.0    20.0         0           0   \n",
       "1  321.0  414.0   375.0    632.0     43.0    10.0         1           1   \n",
       "2  224.0  266.0   263.0    880.0     82.0    14.0         0           1   \n",
       "3  828.0  838.0   354.0    200.0     11.0     3.0         1           0   \n",
       "4   48.0   46.0    33.0    805.0     40.0     4.0         1           0   \n",
       "\n",
       "   NewLeague_N  \n",
       "0            0  \n",
       "1            1  \n",
       "2            0  \n",
       "3            1  \n",
       "4            1  "
      ]
     },
     "execution_count": 90,
     "metadata": {},
     "output_type": "execute_result"
    }
   ],
   "source": [
    "# Create X with dummy variables and numerical variables\n",
    "X = pd.concat([X_numerical, dummies[['League_N', 'Division_W', 'NewLeague_N']]], axis = 1)\n",
    "X.head()"
   ]
  },
  {
   "cell_type": "code",
   "execution_count": 91,
   "metadata": {},
   "outputs": [
    {
     "name": "stdout",
     "output_type": "stream",
     "text": [
      "<class 'pandas.core.frame.DataFrame'>\n",
      "RangeIndex: 322 entries, 0 to 321\n",
      "Data columns (total 19 columns):\n",
      " #   Column       Non-Null Count  Dtype  \n",
      "---  ------       --------------  -----  \n",
      " 0   AtBat        322 non-null    float64\n",
      " 1   Hits         322 non-null    float64\n",
      " 2   HmRun        322 non-null    float64\n",
      " 3   Runs         322 non-null    float64\n",
      " 4   RBI          322 non-null    float64\n",
      " 5   Walks        322 non-null    float64\n",
      " 6   Years        322 non-null    float64\n",
      " 7   CAtBat       322 non-null    float64\n",
      " 8   CHits        322 non-null    float64\n",
      " 9   CHmRun       322 non-null    float64\n",
      " 10  CRuns        322 non-null    float64\n",
      " 11  CRBI         322 non-null    float64\n",
      " 12  CWalks       322 non-null    float64\n",
      " 13  PutOuts      322 non-null    float64\n",
      " 14  Assists      322 non-null    float64\n",
      " 15  Errors       322 non-null    float64\n",
      " 16  League_N     322 non-null    int64  \n",
      " 17  Division_W   322 non-null    int64  \n",
      " 18  NewLeague_N  322 non-null    int64  \n",
      "dtypes: float64(16), int64(3)\n",
      "memory usage: 47.9 KB\n"
     ]
    }
   ],
   "source": [
    "X.info()"
   ]
  },
  {
   "cell_type": "code",
   "execution_count": 92,
   "metadata": {
    "id": "CJlyvYdQ1xGb"
   },
   "outputs": [],
   "source": [
    "# Split the dataset into training and testing sets before handling missing values\n",
    "\n",
    "X_train, X_test, y_train, y_test = train_test_split(X, y, test_size=0.25, random_state=42)"
   ]
  },
  {
   "cell_type": "markdown",
   "metadata": {
    "id": "DW4S8b5Z3RCf"
   },
   "source": [
    "**Observations:**\n",
    "\n",
    "- Lasso performs best when all numerical features are centered around 0 and have variance in the same order. If a feature has a variance that is orders of magnitude larger than others, it might dominate the objective function and make the estimator unable to learn from other features correctly as expected.\n",
    "\n",
    "- This means it is important to standardize our features. We do this by subtracting the mean from our observations and then dividing the difference by the standard deviation.\n",
    "\n",
    "- To avoid data leakage, the standardization of numerical features should always be performed after data splitting and only from training data."
   ]
  },
  {
   "cell_type": "markdown",
   "metadata": {
    "id": "yB6ATM24QWdm"
   },
   "source": [
    "**Standard Scaler:**\n",
    "\n",
    "We use standardization to ensure that numerical features have a mean of 0 and a standard deviation of 1, which improves model performance, accelerates convergence, and ensures consistent feature impact in machine learning algorithms.\n",
    "\n",
    "- __`StandardScaler()`__: Creates an instance of the StandardScaler.\n",
    "\n",
    "- __`.fit(X_train[list_numerical])`__: Computes the mean and standard deviation for each feature in the `X_train[list_numerical]` dataset. `X_train` is your training dataset, and list_numerical is a list of column names corresponding to the numerical features (not including the categorical columns). This step calculates the parameters needed for scaling but does not yet apply the scaling.\n",
    "\n",
    "- __`scaler.transform(X_train[list_numerical])`__: Applies the standardization to the training data. This transforms each feature in the training dataset to have a mean of 0 and a standard deviation of 1.\n",
    "\n",
    "- __`X_train[list_numerical]`__: The transformed numerical features are assigned back to the `X_train` DataFrame, effectively replacing the original values.\n",
    "\n",
    "- __`scaler.transform(X_test[list_numerical])`__: Applies the same standardization parameters (mean and standard deviation) computed from the training data to the test data. This ensures that the test data is scaled in the same way as the training data.\n",
    "\n",
    "- __`X_test[list_numerical]`__: The transformed numerical features are assigned back to the `X_test` DataFrame, replacing the original values."
   ]
  },
  {
   "cell_type": "code",
   "execution_count": 95,
   "metadata": {
    "id": "fhIAkBuB2hfV"
   },
   "outputs": [
    {
     "data": {
      "text/html": [
       "<style>#sk-container-id-1 {\n",
       "  /* Definition of color scheme common for light and dark mode */\n",
       "  --sklearn-color-text: black;\n",
       "  --sklearn-color-line: gray;\n",
       "  /* Definition of color scheme for unfitted estimators */\n",
       "  --sklearn-color-unfitted-level-0: #fff5e6;\n",
       "  --sklearn-color-unfitted-level-1: #f6e4d2;\n",
       "  --sklearn-color-unfitted-level-2: #ffe0b3;\n",
       "  --sklearn-color-unfitted-level-3: chocolate;\n",
       "  /* Definition of color scheme for fitted estimators */\n",
       "  --sklearn-color-fitted-level-0: #f0f8ff;\n",
       "  --sklearn-color-fitted-level-1: #d4ebff;\n",
       "  --sklearn-color-fitted-level-2: #b3dbfd;\n",
       "  --sklearn-color-fitted-level-3: cornflowerblue;\n",
       "\n",
       "  /* Specific color for light theme */\n",
       "  --sklearn-color-text-on-default-background: var(--sg-text-color, var(--theme-code-foreground, var(--jp-content-font-color1, black)));\n",
       "  --sklearn-color-background: var(--sg-background-color, var(--theme-background, var(--jp-layout-color0, white)));\n",
       "  --sklearn-color-border-box: var(--sg-text-color, var(--theme-code-foreground, var(--jp-content-font-color1, black)));\n",
       "  --sklearn-color-icon: #696969;\n",
       "\n",
       "  @media (prefers-color-scheme: dark) {\n",
       "    /* Redefinition of color scheme for dark theme */\n",
       "    --sklearn-color-text-on-default-background: var(--sg-text-color, var(--theme-code-foreground, var(--jp-content-font-color1, white)));\n",
       "    --sklearn-color-background: var(--sg-background-color, var(--theme-background, var(--jp-layout-color0, #111)));\n",
       "    --sklearn-color-border-box: var(--sg-text-color, var(--theme-code-foreground, var(--jp-content-font-color1, white)));\n",
       "    --sklearn-color-icon: #878787;\n",
       "  }\n",
       "}\n",
       "\n",
       "#sk-container-id-1 {\n",
       "  color: var(--sklearn-color-text);\n",
       "}\n",
       "\n",
       "#sk-container-id-1 pre {\n",
       "  padding: 0;\n",
       "}\n",
       "\n",
       "#sk-container-id-1 input.sk-hidden--visually {\n",
       "  border: 0;\n",
       "  clip: rect(1px 1px 1px 1px);\n",
       "  clip: rect(1px, 1px, 1px, 1px);\n",
       "  height: 1px;\n",
       "  margin: -1px;\n",
       "  overflow: hidden;\n",
       "  padding: 0;\n",
       "  position: absolute;\n",
       "  width: 1px;\n",
       "}\n",
       "\n",
       "#sk-container-id-1 div.sk-dashed-wrapped {\n",
       "  border: 1px dashed var(--sklearn-color-line);\n",
       "  margin: 0 0.4em 0.5em 0.4em;\n",
       "  box-sizing: border-box;\n",
       "  padding-bottom: 0.4em;\n",
       "  background-color: var(--sklearn-color-background);\n",
       "}\n",
       "\n",
       "#sk-container-id-1 div.sk-container {\n",
       "  /* jupyter's `normalize.less` sets `[hidden] { display: none; }`\n",
       "     but bootstrap.min.css set `[hidden] { display: none !important; }`\n",
       "     so we also need the `!important` here to be able to override the\n",
       "     default hidden behavior on the sphinx rendered scikit-learn.org.\n",
       "     See: https://github.com/scikit-learn/scikit-learn/issues/21755 */\n",
       "  display: inline-block !important;\n",
       "  position: relative;\n",
       "}\n",
       "\n",
       "#sk-container-id-1 div.sk-text-repr-fallback {\n",
       "  display: none;\n",
       "}\n",
       "\n",
       "div.sk-parallel-item,\n",
       "div.sk-serial,\n",
       "div.sk-item {\n",
       "  /* draw centered vertical line to link estimators */\n",
       "  background-image: linear-gradient(var(--sklearn-color-text-on-default-background), var(--sklearn-color-text-on-default-background));\n",
       "  background-size: 2px 100%;\n",
       "  background-repeat: no-repeat;\n",
       "  background-position: center center;\n",
       "}\n",
       "\n",
       "/* Parallel-specific style estimator block */\n",
       "\n",
       "#sk-container-id-1 div.sk-parallel-item::after {\n",
       "  content: \"\";\n",
       "  width: 100%;\n",
       "  border-bottom: 2px solid var(--sklearn-color-text-on-default-background);\n",
       "  flex-grow: 1;\n",
       "}\n",
       "\n",
       "#sk-container-id-1 div.sk-parallel {\n",
       "  display: flex;\n",
       "  align-items: stretch;\n",
       "  justify-content: center;\n",
       "  background-color: var(--sklearn-color-background);\n",
       "  position: relative;\n",
       "}\n",
       "\n",
       "#sk-container-id-1 div.sk-parallel-item {\n",
       "  display: flex;\n",
       "  flex-direction: column;\n",
       "}\n",
       "\n",
       "#sk-container-id-1 div.sk-parallel-item:first-child::after {\n",
       "  align-self: flex-end;\n",
       "  width: 50%;\n",
       "}\n",
       "\n",
       "#sk-container-id-1 div.sk-parallel-item:last-child::after {\n",
       "  align-self: flex-start;\n",
       "  width: 50%;\n",
       "}\n",
       "\n",
       "#sk-container-id-1 div.sk-parallel-item:only-child::after {\n",
       "  width: 0;\n",
       "}\n",
       "\n",
       "/* Serial-specific style estimator block */\n",
       "\n",
       "#sk-container-id-1 div.sk-serial {\n",
       "  display: flex;\n",
       "  flex-direction: column;\n",
       "  align-items: center;\n",
       "  background-color: var(--sklearn-color-background);\n",
       "  padding-right: 1em;\n",
       "  padding-left: 1em;\n",
       "}\n",
       "\n",
       "\n",
       "/* Toggleable style: style used for estimator/Pipeline/ColumnTransformer box that is\n",
       "clickable and can be expanded/collapsed.\n",
       "- Pipeline and ColumnTransformer use this feature and define the default style\n",
       "- Estimators will overwrite some part of the style using the `sk-estimator` class\n",
       "*/\n",
       "\n",
       "/* Pipeline and ColumnTransformer style (default) */\n",
       "\n",
       "#sk-container-id-1 div.sk-toggleable {\n",
       "  /* Default theme specific background. It is overwritten whether we have a\n",
       "  specific estimator or a Pipeline/ColumnTransformer */\n",
       "  background-color: var(--sklearn-color-background);\n",
       "}\n",
       "\n",
       "/* Toggleable label */\n",
       "#sk-container-id-1 label.sk-toggleable__label {\n",
       "  cursor: pointer;\n",
       "  display: block;\n",
       "  width: 100%;\n",
       "  margin-bottom: 0;\n",
       "  padding: 0.5em;\n",
       "  box-sizing: border-box;\n",
       "  text-align: center;\n",
       "}\n",
       "\n",
       "#sk-container-id-1 label.sk-toggleable__label-arrow:before {\n",
       "  /* Arrow on the left of the label */\n",
       "  content: \"▸\";\n",
       "  float: left;\n",
       "  margin-right: 0.25em;\n",
       "  color: var(--sklearn-color-icon);\n",
       "}\n",
       "\n",
       "#sk-container-id-1 label.sk-toggleable__label-arrow:hover:before {\n",
       "  color: var(--sklearn-color-text);\n",
       "}\n",
       "\n",
       "/* Toggleable content - dropdown */\n",
       "\n",
       "#sk-container-id-1 div.sk-toggleable__content {\n",
       "  max-height: 0;\n",
       "  max-width: 0;\n",
       "  overflow: hidden;\n",
       "  text-align: left;\n",
       "  /* unfitted */\n",
       "  background-color: var(--sklearn-color-unfitted-level-0);\n",
       "}\n",
       "\n",
       "#sk-container-id-1 div.sk-toggleable__content.fitted {\n",
       "  /* fitted */\n",
       "  background-color: var(--sklearn-color-fitted-level-0);\n",
       "}\n",
       "\n",
       "#sk-container-id-1 div.sk-toggleable__content pre {\n",
       "  margin: 0.2em;\n",
       "  border-radius: 0.25em;\n",
       "  color: var(--sklearn-color-text);\n",
       "  /* unfitted */\n",
       "  background-color: var(--sklearn-color-unfitted-level-0);\n",
       "}\n",
       "\n",
       "#sk-container-id-1 div.sk-toggleable__content.fitted pre {\n",
       "  /* unfitted */\n",
       "  background-color: var(--sklearn-color-fitted-level-0);\n",
       "}\n",
       "\n",
       "#sk-container-id-1 input.sk-toggleable__control:checked~div.sk-toggleable__content {\n",
       "  /* Expand drop-down */\n",
       "  max-height: 200px;\n",
       "  max-width: 100%;\n",
       "  overflow: auto;\n",
       "}\n",
       "\n",
       "#sk-container-id-1 input.sk-toggleable__control:checked~label.sk-toggleable__label-arrow:before {\n",
       "  content: \"▾\";\n",
       "}\n",
       "\n",
       "/* Pipeline/ColumnTransformer-specific style */\n",
       "\n",
       "#sk-container-id-1 div.sk-label input.sk-toggleable__control:checked~label.sk-toggleable__label {\n",
       "  color: var(--sklearn-color-text);\n",
       "  background-color: var(--sklearn-color-unfitted-level-2);\n",
       "}\n",
       "\n",
       "#sk-container-id-1 div.sk-label.fitted input.sk-toggleable__control:checked~label.sk-toggleable__label {\n",
       "  background-color: var(--sklearn-color-fitted-level-2);\n",
       "}\n",
       "\n",
       "/* Estimator-specific style */\n",
       "\n",
       "/* Colorize estimator box */\n",
       "#sk-container-id-1 div.sk-estimator input.sk-toggleable__control:checked~label.sk-toggleable__label {\n",
       "  /* unfitted */\n",
       "  background-color: var(--sklearn-color-unfitted-level-2);\n",
       "}\n",
       "\n",
       "#sk-container-id-1 div.sk-estimator.fitted input.sk-toggleable__control:checked~label.sk-toggleable__label {\n",
       "  /* fitted */\n",
       "  background-color: var(--sklearn-color-fitted-level-2);\n",
       "}\n",
       "\n",
       "#sk-container-id-1 div.sk-label label.sk-toggleable__label,\n",
       "#sk-container-id-1 div.sk-label label {\n",
       "  /* The background is the default theme color */\n",
       "  color: var(--sklearn-color-text-on-default-background);\n",
       "}\n",
       "\n",
       "/* On hover, darken the color of the background */\n",
       "#sk-container-id-1 div.sk-label:hover label.sk-toggleable__label {\n",
       "  color: var(--sklearn-color-text);\n",
       "  background-color: var(--sklearn-color-unfitted-level-2);\n",
       "}\n",
       "\n",
       "/* Label box, darken color on hover, fitted */\n",
       "#sk-container-id-1 div.sk-label.fitted:hover label.sk-toggleable__label.fitted {\n",
       "  color: var(--sklearn-color-text);\n",
       "  background-color: var(--sklearn-color-fitted-level-2);\n",
       "}\n",
       "\n",
       "/* Estimator label */\n",
       "\n",
       "#sk-container-id-1 div.sk-label label {\n",
       "  font-family: monospace;\n",
       "  font-weight: bold;\n",
       "  display: inline-block;\n",
       "  line-height: 1.2em;\n",
       "}\n",
       "\n",
       "#sk-container-id-1 div.sk-label-container {\n",
       "  text-align: center;\n",
       "}\n",
       "\n",
       "/* Estimator-specific */\n",
       "#sk-container-id-1 div.sk-estimator {\n",
       "  font-family: monospace;\n",
       "  border: 1px dotted var(--sklearn-color-border-box);\n",
       "  border-radius: 0.25em;\n",
       "  box-sizing: border-box;\n",
       "  margin-bottom: 0.5em;\n",
       "  /* unfitted */\n",
       "  background-color: var(--sklearn-color-unfitted-level-0);\n",
       "}\n",
       "\n",
       "#sk-container-id-1 div.sk-estimator.fitted {\n",
       "  /* fitted */\n",
       "  background-color: var(--sklearn-color-fitted-level-0);\n",
       "}\n",
       "\n",
       "/* on hover */\n",
       "#sk-container-id-1 div.sk-estimator:hover {\n",
       "  /* unfitted */\n",
       "  background-color: var(--sklearn-color-unfitted-level-2);\n",
       "}\n",
       "\n",
       "#sk-container-id-1 div.sk-estimator.fitted:hover {\n",
       "  /* fitted */\n",
       "  background-color: var(--sklearn-color-fitted-level-2);\n",
       "}\n",
       "\n",
       "/* Specification for estimator info (e.g. \"i\" and \"?\") */\n",
       "\n",
       "/* Common style for \"i\" and \"?\" */\n",
       "\n",
       ".sk-estimator-doc-link,\n",
       "a:link.sk-estimator-doc-link,\n",
       "a:visited.sk-estimator-doc-link {\n",
       "  float: right;\n",
       "  font-size: smaller;\n",
       "  line-height: 1em;\n",
       "  font-family: monospace;\n",
       "  background-color: var(--sklearn-color-background);\n",
       "  border-radius: 1em;\n",
       "  height: 1em;\n",
       "  width: 1em;\n",
       "  text-decoration: none !important;\n",
       "  margin-left: 1ex;\n",
       "  /* unfitted */\n",
       "  border: var(--sklearn-color-unfitted-level-1) 1pt solid;\n",
       "  color: var(--sklearn-color-unfitted-level-1);\n",
       "}\n",
       "\n",
       ".sk-estimator-doc-link.fitted,\n",
       "a:link.sk-estimator-doc-link.fitted,\n",
       "a:visited.sk-estimator-doc-link.fitted {\n",
       "  /* fitted */\n",
       "  border: var(--sklearn-color-fitted-level-1) 1pt solid;\n",
       "  color: var(--sklearn-color-fitted-level-1);\n",
       "}\n",
       "\n",
       "/* On hover */\n",
       "div.sk-estimator:hover .sk-estimator-doc-link:hover,\n",
       ".sk-estimator-doc-link:hover,\n",
       "div.sk-label-container:hover .sk-estimator-doc-link:hover,\n",
       ".sk-estimator-doc-link:hover {\n",
       "  /* unfitted */\n",
       "  background-color: var(--sklearn-color-unfitted-level-3);\n",
       "  color: var(--sklearn-color-background);\n",
       "  text-decoration: none;\n",
       "}\n",
       "\n",
       "div.sk-estimator.fitted:hover .sk-estimator-doc-link.fitted:hover,\n",
       ".sk-estimator-doc-link.fitted:hover,\n",
       "div.sk-label-container:hover .sk-estimator-doc-link.fitted:hover,\n",
       ".sk-estimator-doc-link.fitted:hover {\n",
       "  /* fitted */\n",
       "  background-color: var(--sklearn-color-fitted-level-3);\n",
       "  color: var(--sklearn-color-background);\n",
       "  text-decoration: none;\n",
       "}\n",
       "\n",
       "/* Span, style for the box shown on hovering the info icon */\n",
       ".sk-estimator-doc-link span {\n",
       "  display: none;\n",
       "  z-index: 9999;\n",
       "  position: relative;\n",
       "  font-weight: normal;\n",
       "  right: .2ex;\n",
       "  padding: .5ex;\n",
       "  margin: .5ex;\n",
       "  width: min-content;\n",
       "  min-width: 20ex;\n",
       "  max-width: 50ex;\n",
       "  color: var(--sklearn-color-text);\n",
       "  box-shadow: 2pt 2pt 4pt #999;\n",
       "  /* unfitted */\n",
       "  background: var(--sklearn-color-unfitted-level-0);\n",
       "  border: .5pt solid var(--sklearn-color-unfitted-level-3);\n",
       "}\n",
       "\n",
       ".sk-estimator-doc-link.fitted span {\n",
       "  /* fitted */\n",
       "  background: var(--sklearn-color-fitted-level-0);\n",
       "  border: var(--sklearn-color-fitted-level-3);\n",
       "}\n",
       "\n",
       ".sk-estimator-doc-link:hover span {\n",
       "  display: block;\n",
       "}\n",
       "\n",
       "/* \"?\"-specific style due to the `<a>` HTML tag */\n",
       "\n",
       "#sk-container-id-1 a.estimator_doc_link {\n",
       "  float: right;\n",
       "  font-size: 1rem;\n",
       "  line-height: 1em;\n",
       "  font-family: monospace;\n",
       "  background-color: var(--sklearn-color-background);\n",
       "  border-radius: 1rem;\n",
       "  height: 1rem;\n",
       "  width: 1rem;\n",
       "  text-decoration: none;\n",
       "  /* unfitted */\n",
       "  color: var(--sklearn-color-unfitted-level-1);\n",
       "  border: var(--sklearn-color-unfitted-level-1) 1pt solid;\n",
       "}\n",
       "\n",
       "#sk-container-id-1 a.estimator_doc_link.fitted {\n",
       "  /* fitted */\n",
       "  border: var(--sklearn-color-fitted-level-1) 1pt solid;\n",
       "  color: var(--sklearn-color-fitted-level-1);\n",
       "}\n",
       "\n",
       "/* On hover */\n",
       "#sk-container-id-1 a.estimator_doc_link:hover {\n",
       "  /* unfitted */\n",
       "  background-color: var(--sklearn-color-unfitted-level-3);\n",
       "  color: var(--sklearn-color-background);\n",
       "  text-decoration: none;\n",
       "}\n",
       "\n",
       "#sk-container-id-1 a.estimator_doc_link.fitted:hover {\n",
       "  /* fitted */\n",
       "  background-color: var(--sklearn-color-fitted-level-3);\n",
       "}\n",
       "</style><div id=\"sk-container-id-1\" class=\"sk-top-container\"><div class=\"sk-text-repr-fallback\"><pre>StandardScaler()</pre><b>In a Jupyter environment, please rerun this cell to show the HTML representation or trust the notebook. <br />On GitHub, the HTML representation is unable to render, please try loading this page with nbviewer.org.</b></div><div class=\"sk-container\" hidden><div class=\"sk-item\"><div class=\"sk-estimator fitted sk-toggleable\"><input class=\"sk-toggleable__control sk-hidden--visually\" id=\"sk-estimator-id-1\" type=\"checkbox\" checked><label for=\"sk-estimator-id-1\" class=\"sk-toggleable__label fitted sk-toggleable__label-arrow fitted\">&nbsp;&nbsp;StandardScaler<a class=\"sk-estimator-doc-link fitted\" rel=\"noreferrer\" target=\"_blank\" href=\"https://scikit-learn.org/1.5/modules/generated/sklearn.preprocessing.StandardScaler.html\">?<span>Documentation for StandardScaler</span></a><span class=\"sk-estimator-doc-link fitted\">i<span>Fitted</span></span></label><div class=\"sk-toggleable__content fitted\"><pre>StandardScaler()</pre></div> </div></div></div></div>"
      ],
      "text/plain": [
       "StandardScaler()"
      ]
     },
     "execution_count": 95,
     "metadata": {},
     "output_type": "execute_result"
    }
   ],
   "source": [
    "# Perform Standardization on numerical features.\n",
    "from sklearn.preprocessing import StandardScaler\n",
    "\n",
    "scaler = StandardScaler().fit(X_train[list_numerical])\n",
    "scaler"
   ]
  },
  {
   "cell_type": "code",
   "execution_count": 96,
   "metadata": {},
   "outputs": [],
   "source": [
    "X_train[list_numerical] = scaler.transform(X_train[list_numerical])\n",
    "X_test[list_numerical] = scaler.transform(X_test[list_numerical])"
   ]
  },
  {
   "cell_type": "markdown",
   "metadata": {
    "id": "vYIWYiNiRDPL"
   },
   "source": [
    "**Observations:**\n",
    "\n",
    "- Here we are fitting a StandardScaler to the numerical features in `X_train` to compute their mean and standard deviation, then using this scaler to standardize the same numerical columns in both `X_train` and `X_test`, ensuring they have a mean of 0 and a standard deviation of 1. After standardizing, we replace the original values in `X_train` and `X_test` with the new standardized data."
   ]
  },
  {
   "cell_type": "code",
   "execution_count": 98,
   "metadata": {
    "colab": {
     "base_uri": "https://localhost:8080/",
     "height": 226
    },
    "id": "RESuTWcL9Z-6",
    "outputId": "8e7878a2-b4ae-4b03-8e2a-45b18a69b1bf"
   },
   "outputs": [
    {
     "data": {
      "text/html": [
       "<div>\n",
       "<style scoped>\n",
       "    .dataframe tbody tr th:only-of-type {\n",
       "        vertical-align: middle;\n",
       "    }\n",
       "\n",
       "    .dataframe tbody tr th {\n",
       "        vertical-align: top;\n",
       "    }\n",
       "\n",
       "    .dataframe thead th {\n",
       "        text-align: right;\n",
       "    }\n",
       "</style>\n",
       "<table border=\"1\" class=\"dataframe\">\n",
       "  <thead>\n",
       "    <tr style=\"text-align: right;\">\n",
       "      <th></th>\n",
       "      <th>AtBat</th>\n",
       "      <th>Hits</th>\n",
       "      <th>HmRun</th>\n",
       "      <th>Runs</th>\n",
       "      <th>RBI</th>\n",
       "      <th>Walks</th>\n",
       "      <th>Years</th>\n",
       "      <th>CAtBat</th>\n",
       "      <th>CHits</th>\n",
       "      <th>CHmRun</th>\n",
       "      <th>CRuns</th>\n",
       "      <th>CRBI</th>\n",
       "      <th>CWalks</th>\n",
       "      <th>PutOuts</th>\n",
       "      <th>Assists</th>\n",
       "      <th>Errors</th>\n",
       "      <th>League_N</th>\n",
       "      <th>Division_W</th>\n",
       "      <th>NewLeague_N</th>\n",
       "    </tr>\n",
       "  </thead>\n",
       "  <tbody>\n",
       "    <tr>\n",
       "      <th>168</th>\n",
       "      <td>-0.397522</td>\n",
       "      <td>-0.564851</td>\n",
       "      <td>-0.670974</td>\n",
       "      <td>-1.052955</td>\n",
       "      <td>-0.393382</td>\n",
       "      <td>-1.060741</td>\n",
       "      <td>-0.684910</td>\n",
       "      <td>-0.924502</td>\n",
       "      <td>-0.910332</td>\n",
       "      <td>-0.729716</td>\n",
       "      <td>-0.936501</td>\n",
       "      <td>-0.847742</td>\n",
       "      <td>-0.856822</td>\n",
       "      <td>-0.210356</td>\n",
       "      <td>-0.654364</td>\n",
       "      <td>-0.777869</td>\n",
       "      <td>0</td>\n",
       "      <td>1</td>\n",
       "      <td>0</td>\n",
       "    </tr>\n",
       "    <tr>\n",
       "      <th>148</th>\n",
       "      <td>0.780435</td>\n",
       "      <td>0.791703</td>\n",
       "      <td>-0.437296</td>\n",
       "      <td>0.306138</td>\n",
       "      <td>-0.355490</td>\n",
       "      <td>-0.584603</td>\n",
       "      <td>0.768478</td>\n",
       "      <td>0.560523</td>\n",
       "      <td>0.571824</td>\n",
       "      <td>-0.332183</td>\n",
       "      <td>0.302385</td>\n",
       "      <td>0.145025</td>\n",
       "      <td>-0.052093</td>\n",
       "      <td>0.071044</td>\n",
       "      <td>1.831723</td>\n",
       "      <td>0.315685</td>\n",
       "      <td>0</td>\n",
       "      <td>0</td>\n",
       "      <td>0</td>\n",
       "    </tr>\n",
       "    <tr>\n",
       "      <th>221</th>\n",
       "      <td>1.291745</td>\n",
       "      <td>1.459214</td>\n",
       "      <td>-0.320458</td>\n",
       "      <td>1.509906</td>\n",
       "      <td>0.061319</td>\n",
       "      <td>0.891425</td>\n",
       "      <td>-0.684910</td>\n",
       "      <td>-0.763020</td>\n",
       "      <td>-0.718487</td>\n",
       "      <td>-0.577718</td>\n",
       "      <td>-0.653843</td>\n",
       "      <td>-0.733311</td>\n",
       "      <td>-0.664141</td>\n",
       "      <td>0.147789</td>\n",
       "      <td>-0.676829</td>\n",
       "      <td>0.003241</td>\n",
       "      <td>1</td>\n",
       "      <td>0</td>\n",
       "      <td>1</td>\n",
       "    </tr>\n",
       "    <tr>\n",
       "      <th>227</th>\n",
       "      <td>1.265856</td>\n",
       "      <td>1.136225</td>\n",
       "      <td>0.847928</td>\n",
       "      <td>2.131206</td>\n",
       "      <td>0.061319</td>\n",
       "      <td>1.272336</td>\n",
       "      <td>-1.100164</td>\n",
       "      <td>-0.695302</td>\n",
       "      <td>-0.692186</td>\n",
       "      <td>-0.378952</td>\n",
       "      <td>-0.545591</td>\n",
       "      <td>-0.708569</td>\n",
       "      <td>-0.581023</td>\n",
       "      <td>0.147789</td>\n",
       "      <td>-0.669341</td>\n",
       "      <td>-0.777869</td>\n",
       "      <td>0</td>\n",
       "      <td>1</td>\n",
       "      <td>0</td>\n",
       "    </tr>\n",
       "    <tr>\n",
       "      <th>139</th>\n",
       "      <td>0.398569</td>\n",
       "      <td>0.081127</td>\n",
       "      <td>-1.021489</td>\n",
       "      <td>0.577957</td>\n",
       "      <td>-0.582840</td>\n",
       "      <td>1.558019</td>\n",
       "      <td>-1.100164</td>\n",
       "      <td>-0.928843</td>\n",
       "      <td>-0.918067</td>\n",
       "      <td>-0.776484</td>\n",
       "      <td>-0.849298</td>\n",
       "      <td>-0.891040</td>\n",
       "      <td>-0.694365</td>\n",
       "      <td>-0.031284</td>\n",
       "      <td>-0.714270</td>\n",
       "      <td>0.159463</td>\n",
       "      <td>0</td>\n",
       "      <td>1</td>\n",
       "      <td>1</td>\n",
       "    </tr>\n",
       "  </tbody>\n",
       "</table>\n",
       "</div>"
      ],
      "text/plain": [
       "        AtBat      Hits     HmRun      Runs       RBI     Walks     Years  \\\n",
       "168 -0.397522 -0.564851 -0.670974 -1.052955 -0.393382 -1.060741 -0.684910   \n",
       "148  0.780435  0.791703 -0.437296  0.306138 -0.355490 -0.584603  0.768478   \n",
       "221  1.291745  1.459214 -0.320458  1.509906  0.061319  0.891425 -0.684910   \n",
       "227  1.265856  1.136225  0.847928  2.131206  0.061319  1.272336 -1.100164   \n",
       "139  0.398569  0.081127 -1.021489  0.577957 -0.582840  1.558019 -1.100164   \n",
       "\n",
       "       CAtBat     CHits    CHmRun     CRuns      CRBI    CWalks   PutOuts  \\\n",
       "168 -0.924502 -0.910332 -0.729716 -0.936501 -0.847742 -0.856822 -0.210356   \n",
       "148  0.560523  0.571824 -0.332183  0.302385  0.145025 -0.052093  0.071044   \n",
       "221 -0.763020 -0.718487 -0.577718 -0.653843 -0.733311 -0.664141  0.147789   \n",
       "227 -0.695302 -0.692186 -0.378952 -0.545591 -0.708569 -0.581023  0.147789   \n",
       "139 -0.928843 -0.918067 -0.776484 -0.849298 -0.891040 -0.694365 -0.031284   \n",
       "\n",
       "      Assists    Errors  League_N  Division_W  NewLeague_N  \n",
       "168 -0.654364 -0.777869         0           1            0  \n",
       "148  1.831723  0.315685         0           0            0  \n",
       "221 -0.676829  0.003241         1           0            1  \n",
       "227 -0.669341 -0.777869         0           1            0  \n",
       "139 -0.714270  0.159463         0           1            1  "
      ]
     },
     "execution_count": 98,
     "metadata": {},
     "output_type": "execute_result"
    }
   ],
   "source": [
    "X_train.head()"
   ]
  },
  {
   "cell_type": "markdown",
   "metadata": {
    "id": "O28mlhQ11xGb"
   },
   "source": [
    "**Next Steps:**\n",
    "\n",
    "- Filling in the missing value by taking the median of elements in `y_train`.\n",
    "- `y` is a series with values from the target variable `Salary`, and not a dataframe, hence directly computing the median.\n",
    "  \n",
    "According to standard machine learning practices, filling missing values in the test set with statistics (like median) calculated from the training set does not constitute Data leakage. This method ensures that no information from the test set influences the training process, thus maintaining the integrity of the evaluation."
   ]
  },
  {
   "cell_type": "code",
   "execution_count": 100,
   "metadata": {
    "id": "WW72SkZjs9x_"
   },
   "outputs": [
    {
     "data": {
      "text/plain": [
       "168    110.0\n",
       "148    850.0\n",
       "221    210.0\n",
       "227    200.0\n",
       "139    100.0\n",
       "Name: Salary, dtype: float64"
      ]
     },
     "execution_count": 100,
     "metadata": {},
     "output_type": "execute_result"
    }
   ],
   "source": [
    "# Imputing the values NA values in the series with the median\n",
    "\n",
    "median_salary = y_train.median(skipna = True)\n",
    "y_train = y_train.fillna(median_salary)\n",
    "y_train.head()"
   ]
  },
  {
   "cell_type": "code",
   "execution_count": 101,
   "metadata": {},
   "outputs": [
    {
     "data": {
      "text/plain": [
       "173     422.5\n",
       "132     325.0\n",
       "197     422.5\n",
       "9      1100.0\n",
       "104     422.5\n",
       "Name: Salary, dtype: float64"
      ]
     },
     "execution_count": 101,
     "metadata": {},
     "output_type": "execute_result"
    }
   ],
   "source": [
    "y_test = y_test.fillna(median_salary)\n",
    "y_test.head()"
   ]
  },
  {
   "cell_type": "markdown",
   "metadata": {
    "id": "IYMBa4pFs9x_"
   },
   "source": [
    "### Create a Lasso Model.\n",
    "\n",
    "First, we apply lasso regression on the training set with regularization parameter `alpha`=1\n",
    "\n",
    "`alpha = 1`: This value is commonly used as default and provides a good balance between maintaining model complexity and reducing overfitting.\n"
   ]
  },
  {
   "cell_type": "code",
   "execution_count": 103,
   "metadata": {
    "colab": {
     "base_uri": "https://localhost:8080/"
    },
    "id": "U8x8ejYE1xGb",
    "outputId": "20b6d605-533f-4d83-bad0-9790d022882a"
   },
   "outputs": [
    {
     "name": "stdout",
     "output_type": "stream",
     "text": [
      "Lasso intercept: 552.1437963555313\n",
      "Lasso coefficients: [-310.80528552  264.55074813   24.16085059    0.           -0.\n",
      "   98.27501652  -71.92938903 -154.88026267  115.47642309    0.\n",
      "  274.32490369  222.99944567 -217.31294449   50.42773172   41.83950725\n",
      "  -22.76889619   23.87540404 -118.63107582   -0.        ]\n"
     ]
    }
   ],
   "source": [
    "# Create and fit the Lasso regression model to the training data\n",
    "lasso_model = Lasso(alpha=1, max_iter=10000).fit(X_train, y_train)\n",
    "print(\"Lasso intercept:\", lasso_model.intercept_)\n",
    "\n",
    "# Get the coefficients (weights) of the fitted Lasso regression model\n",
    "print(\"Lasso coefficients:\", lasso_model.coef_)"
   ]
  },
  {
   "cell_type": "code",
   "execution_count": 104,
   "metadata": {},
   "outputs": [],
   "source": [
    "coeff = np.array(lasso_model.coef_)\n",
    "features = np.array(X_train.columns)"
   ]
  },
  {
   "cell_type": "code",
   "execution_count": 105,
   "metadata": {},
   "outputs": [
    {
     "data": {
      "text/html": [
       "<div>\n",
       "<style scoped>\n",
       "    .dataframe tbody tr th:only-of-type {\n",
       "        vertical-align: middle;\n",
       "    }\n",
       "\n",
       "    .dataframe tbody tr th {\n",
       "        vertical-align: top;\n",
       "    }\n",
       "\n",
       "    .dataframe thead th {\n",
       "        text-align: right;\n",
       "    }\n",
       "</style>\n",
       "<table border=\"1\" class=\"dataframe\">\n",
       "  <thead>\n",
       "    <tr style=\"text-align: right;\">\n",
       "      <th></th>\n",
       "      <th>0</th>\n",
       "    </tr>\n",
       "  </thead>\n",
       "  <tbody>\n",
       "    <tr>\n",
       "      <th>AtBat</th>\n",
       "      <td>-310.805286</td>\n",
       "    </tr>\n",
       "    <tr>\n",
       "      <th>Hits</th>\n",
       "      <td>264.550748</td>\n",
       "    </tr>\n",
       "    <tr>\n",
       "      <th>HmRun</th>\n",
       "      <td>24.160851</td>\n",
       "    </tr>\n",
       "    <tr>\n",
       "      <th>Runs</th>\n",
       "      <td>0.000000</td>\n",
       "    </tr>\n",
       "    <tr>\n",
       "      <th>RBI</th>\n",
       "      <td>-0.000000</td>\n",
       "    </tr>\n",
       "    <tr>\n",
       "      <th>Walks</th>\n",
       "      <td>98.275017</td>\n",
       "    </tr>\n",
       "    <tr>\n",
       "      <th>Years</th>\n",
       "      <td>-71.929389</td>\n",
       "    </tr>\n",
       "    <tr>\n",
       "      <th>CAtBat</th>\n",
       "      <td>-154.880263</td>\n",
       "    </tr>\n",
       "    <tr>\n",
       "      <th>CHits</th>\n",
       "      <td>115.476423</td>\n",
       "    </tr>\n",
       "    <tr>\n",
       "      <th>CHmRun</th>\n",
       "      <td>0.000000</td>\n",
       "    </tr>\n",
       "    <tr>\n",
       "      <th>CRuns</th>\n",
       "      <td>274.324904</td>\n",
       "    </tr>\n",
       "    <tr>\n",
       "      <th>CRBI</th>\n",
       "      <td>222.999446</td>\n",
       "    </tr>\n",
       "    <tr>\n",
       "      <th>CWalks</th>\n",
       "      <td>-217.312944</td>\n",
       "    </tr>\n",
       "    <tr>\n",
       "      <th>PutOuts</th>\n",
       "      <td>50.427732</td>\n",
       "    </tr>\n",
       "    <tr>\n",
       "      <th>Assists</th>\n",
       "      <td>41.839507</td>\n",
       "    </tr>\n",
       "    <tr>\n",
       "      <th>Errors</th>\n",
       "      <td>-22.768896</td>\n",
       "    </tr>\n",
       "    <tr>\n",
       "      <th>League_N</th>\n",
       "      <td>23.875404</td>\n",
       "    </tr>\n",
       "    <tr>\n",
       "      <th>Division_W</th>\n",
       "      <td>-118.631076</td>\n",
       "    </tr>\n",
       "    <tr>\n",
       "      <th>NewLeague_N</th>\n",
       "      <td>-0.000000</td>\n",
       "    </tr>\n",
       "  </tbody>\n",
       "</table>\n",
       "</div>"
      ],
      "text/plain": [
       "                      0\n",
       "AtBat       -310.805286\n",
       "Hits         264.550748\n",
       "HmRun         24.160851\n",
       "Runs           0.000000\n",
       "RBI           -0.000000\n",
       "Walks         98.275017\n",
       "Years        -71.929389\n",
       "CAtBat      -154.880263\n",
       "CHits        115.476423\n",
       "CHmRun         0.000000\n",
       "CRuns        274.324904\n",
       "CRBI         222.999446\n",
       "CWalks      -217.312944\n",
       "PutOuts       50.427732\n",
       "Assists       41.839507\n",
       "Errors       -22.768896\n",
       "League_N      23.875404\n",
       "Division_W  -118.631076\n",
       "NewLeague_N   -0.000000"
      ]
     },
     "execution_count": 105,
     "metadata": {},
     "output_type": "execute_result"
    }
   ],
   "source": [
    "# Create a dataframe for the coefficients and the respective columns\n",
    "df = pd.DataFrame(coeff, features)\n",
    "df"
   ]
  },
  {
   "cell_type": "code",
   "execution_count": 106,
   "metadata": {},
   "outputs": [
    {
     "name": "stdout",
     "output_type": "stream",
     "text": [
      "Lasso intercept: 541.8702193665673\n",
      "Lasso coefficients: [ -0.          65.33125729   0.           0.           0.\n",
      "  25.10854133  -0.           0.          28.08970003   0.\n",
      "   0.         144.26890997  -0.          35.16627399  -0.\n",
      "  -0.           0.         -76.0692799    0.        ]\n"
     ]
    }
   ],
   "source": [
    "# Create and fit the Lasso regression model to the training data\n",
    "lasso_model = Lasso(alpha=15, max_iter=10000).fit(X_train, y_train)\n",
    "print(\"Lasso intercept:\", lasso_model.intercept_)\n",
    "\n",
    "# Get the coefficients (weights) of the fitted Lasso regression model\n",
    "print(\"Lasso coefficients:\", lasso_model.coef_)"
   ]
  },
  {
   "cell_type": "markdown",
   "metadata": {
    "id": "uy9eb2Gc1xGc"
   },
   "source": [
    "**Observation**\n",
    "\n",
    "* __Lasso Intercept:__ This is the intercept term of your Lasso regression model. It represents the expected mean value of the dependent variable when all independent variables are set to zero. In practical terms, it's the baseline prediction when no other information (from the variables) is provided.\n",
    "\n",
    "* __Lasso coefficients:__ represent the relationship between each independent variable and the dependent variable.\n",
    "Each coefficient estimates the change in the dependent variable for a one unit change in the respective independent variable, holding all other variables constant.\n",
    "    - A positive coefficient indicates that as the independent variable increases, the dependent variable also increases.\n",
    "    - A negative coefficient indicates that as the independent variable increases, the dependent variable decreases.\n",
    "    - The magnitude of the coefficient shows the strength of the impact. A larger absolute value indicates a stronger effect.\n"
   ]
  },
  {
   "cell_type": "markdown",
   "metadata": {
    "id": "1028yMmc1xGc"
   },
   "source": [
    "\n",
    "* Lasso regression is known for its ability to perform feature selection by shrinking some coefficients to zero, thus effectively removing those variables from the equation.\n",
    "\n",
    "* In this model, however, it seems that none of the coefficients are exactly zero, suggesting that all included variables have some impact on the model, though some impacts are very small (e.g., coefficients close to zero)."
   ]
  },
  {
   "cell_type": "markdown",
   "metadata": {
    "id": "KxQKDYh2s9yA"
   },
   "source": [
    "**Next Steps: Model Evaluation on Lasso model**\n",
    "\n",
    "- Test the lasso model and make predictions\n",
    "- Evaluate the RMSE and R2 scores for model performance.\n",
    "- Optimize the model."
   ]
  },
  {
   "cell_type": "code",
   "execution_count": 132,
   "metadata": {
    "colab": {
     "base_uri": "https://localhost:8080/"
    },
    "id": "Z9Db3UuTB_AM",
    "outputId": "7fc047d7-c247-46cb-ba65-16c3c80c29b1"
   },
   "outputs": [
    {
     "name": "stdout",
     "output_type": "stream",
     "text": [
      "MSE training set 99172.05\n",
      "R squared training set 38.0\n"
     ]
    }
   ],
   "source": [
    "# Training data\n",
    "y_train_pred = lasso_model.predict(X_train)\n",
    "mse_train = mean_squared_error(y_train, y_train_pred)\n",
    "print('MSE training set', round(mse_train, 2))\n",
    "print('R squared training set', round(r2_score(y_train, y_train_pred)*100,2))"
   ]
  },
  {
   "cell_type": "code",
   "execution_count": 136,
   "metadata": {},
   "outputs": [
    {
     "name": "stdout",
     "output_type": "stream",
     "text": [
      "MSE test set 118243.53\n",
      "R squared test set 37.26\n"
     ]
    }
   ],
   "source": [
    "# Test data\n",
    "y_test_pred = lasso_model.predict(X_test)\n",
    "mse_test = mean_squared_error(y_test, y_test_pred)\n",
    "print('MSE test set', round(mse_test, 2))\n",
    "print('R squared test set', round(r2_score(y_test, y_test_pred)*100,2))"
   ]
  },
  {
   "cell_type": "markdown",
   "metadata": {
    "id": "ZpXwteBK1xGc"
   },
   "source": [
    "**Next Steps:**\n",
    "\n",
    "- To better understand the role of `alpha`(regularization parameter), plot the lasso coefficients as a function of `alpha` (max_iter are the maximum number of iterations):"
   ]
  },
  {
   "cell_type": "code",
   "execution_count": 152,
   "metadata": {
    "colab": {
     "base_uri": "https://localhost:8080/",
     "height": 476
    },
    "id": "h0va9xvp1xGc",
    "outputId": "557d3a68-e532-4eb9-ecfb-e740fd88ee0b"
   },
   "outputs": [
    {
     "data": {
      "image/png": "[encoded data removed]",
      "text/plain": [
       "<Figure size 640x480 with 1 Axes>"
      ]
     },
     "metadata": {},
     "output_type": "display_data"
    }
   ],
   "source": [
    "alphas = np.linspace(0.01,500,100)\n",
    "lasso = Lasso(max_iter=10000)\n",
    "coefs = []\n",
    "\n",
    "for a in alphas:\n",
    "    lasso.set_params(alpha=a)\n",
    "    lasso.fit(X_train, y_train)\n",
    "    coefs.append(lasso.coef_)\n",
    "\n",
    "ax = plt.gca()\n",
    "\n",
    "ax.plot(alphas, coefs)\n",
    "ax.set_xscale('log')\n",
    "plt.axis('tight')\n",
    "plt.xlabel('alpha')\n",
    "plt.ylabel('Coefficients')\n",
    "plt.title('Lasso coefficients as a function of alpha');\n"
   ]
  },
  {
   "cell_type": "markdown",
   "metadata": {
    "id": "QbJx08X11xGc"
   },
   "source": [
    "**Observations:**\n",
    "\n",
    "- Moving from left to right in the plot, observe that at first the lasso models contains many predictors with high magnitudes of coefficient estimates.\n",
    "- With increasing `alpha`, the coefficient estimates approximate towards zero.\n",
    "\n",
    "- Next, we use cross-validation to find the best value for  `alpha`. Lasso regression comes with built-in cross-validation."
   ]
  },
  {
   "cell_type": "code",
   "execution_count": 155,
   "metadata": {
    "id": "vTad7GQPs9yA"
   },
   "outputs": [],
   "source": [
    "# Create and fit the LassoCV model to the training data with cross-validation\n",
    "# Lasso with 10 fold cross-validation and passing random values for alphas\n",
    "\n",
    "lasso_cv_model = LassoCV(alphas = np.random.randint(0, 1000, 100), cv =10, max_iter=10000, n_jobs=-1).fit(X_train, y_train)"
   ]
  },
  {
   "cell_type": "markdown",
   "metadata": {
    "id": "0pdpdv83s9yA"
   },
   "source": [
    "Let's check the best alpha value."
   ]
  },
  {
   "cell_type": "code",
   "execution_count": 158,
   "metadata": {
    "colab": {
     "base_uri": "https://localhost:8080/"
    },
    "id": "0HQEk3aVs9yA",
    "outputId": "ac07a25f-bd51-4a81-a5c7-572d8a4f416f"
   },
   "outputs": [
    {
     "data": {
      "text/plain": [
       "2"
      ]
     },
     "execution_count": 158,
     "metadata": {},
     "output_type": "execute_result"
    }
   ],
   "source": [
    "# Get the best alpha (regularization strength) selected by cross-validation \n",
    "# It will give different values as we have used a random list for alphas above\n",
    "\n",
    "lasso_cv_model.alpha_"
   ]
  },
  {
   "cell_type": "code",
   "execution_count": 160,
   "metadata": {},
   "outputs": [],
   "source": [
    "# Create and fit the LassoCV model to the training data with cross-validation\n",
    "# Lasso with 10 fold cross-validation and passing a fixed list for alphas\n",
    "\n",
    "lasso_cv_model = LassoCV(alphas = [0.001,0.005,0.05,0.5,0.1,1,10,15,20,25,30], cv =10, max_iter=10000, n_jobs=-1).fit(X_train, y_train)"
   ]
  },
  {
   "cell_type": "code",
   "execution_count": 162,
   "metadata": {},
   "outputs": [
    {
     "data": {
      "text/plain": [
       "1.0"
      ]
     },
     "execution_count": 162,
     "metadata": {},
     "output_type": "execute_result"
    }
   ],
   "source": [
    "# Get the best alpha (regularization strength) selected by cross-validation\n",
    "\n",
    "lasso_cv_model.alpha_"
   ]
  },
  {
   "cell_type": "markdown",
   "metadata": {
    "id": "CW5ZYd2gs9yB"
   },
   "source": [
    "Let's use the best alpha value, and see if you can tune it."
   ]
  },
  {
   "cell_type": "code",
   "execution_count": 165,
   "metadata": {
    "id": "uDUeMPmIs9yB"
   },
   "outputs": [],
   "source": [
    "# Create and fit the Lasso regression model using the best alpha found by cross-validation\n",
    "\n",
    "lasso_tuned = Lasso(alpha=lasso_cv_model.alpha_, max_iter=10000).fit(X_train, y_train)"
   ]
  },
  {
   "cell_type": "markdown",
   "metadata": {
    "id": "7JRWGCOrE2A-"
   },
   "source": [
    "**Next Steps:** Model Evaluation on Lasso model with the best alpha\n",
    "\n",
    "- Test the lasso model and make predictions\n",
    "- Evaluate the RMSE and R2 scores for model performance."
   ]
  },
  {
   "cell_type": "code",
   "execution_count": 168,
   "metadata": {
    "colab": {
     "base_uri": "https://localhost:8080/"
    },
    "id": "CDIm8s8pDsnm",
    "outputId": "1982bcbf-c119-444e-f4c2-10b800fe4940"
   },
   "outputs": [
    {
     "name": "stdout",
     "output_type": "stream",
     "text": [
      "MSE training set post tuning 84531.03\n",
      "R squared training set post tuning 47.15\n"
     ]
    }
   ],
   "source": [
    "# Training data\n",
    "y_train_pred_tuned = lasso_tuned.predict(X_train)\n",
    "mse_train = mean_squared_error(y_train, y_train_pred_tuned)\n",
    "print('MSE training set post tuning', round(mse_train, 2))\n",
    "print('R squared training set post tuning', round(r2_score(y_train, y_train_pred_tuned)*100,2))"
   ]
  },
  {
   "cell_type": "code",
   "execution_count": 170,
   "metadata": {},
   "outputs": [
    {
     "name": "stdout",
     "output_type": "stream",
     "text": [
      "MSE test set post tuning 116175.54\n",
      "R squared test set post tuning 38.36\n"
     ]
    }
   ],
   "source": [
    "# Test data\n",
    "y_test_pred_tuned = lasso_tuned.predict(X_test)\n",
    "mse_test =mean_squared_error(y_test, y_test_pred_tuned)\n",
    "print('MSE test set post tuning', round(mse_test, 2))\n",
    "print('R squared test set post tuning', round(r2_score(y_test, y_test_pred_tuned)*100,2))"
   ]
  },
  {
   "cell_type": "markdown",
   "metadata": {
    "id": "XvF3w-t4s9yB"
   },
   "source": [
    "Now, let's find the coefficient of the tuned model."
   ]
  },
  {
   "cell_type": "code",
   "execution_count": 173,
   "metadata": {
    "colab": {
     "base_uri": "https://localhost:8080/"
    },
    "id": "ZChGneRis9yB",
    "outputId": "3bb14a95-349c-439a-f0f9-f95b3146ff62"
   },
   "outputs": [
    {
     "data": {
      "text/html": [
       "<div>\n",
       "<style scoped>\n",
       "    .dataframe tbody tr th:only-of-type {\n",
       "        vertical-align: middle;\n",
       "    }\n",
       "\n",
       "    .dataframe tbody tr th {\n",
       "        vertical-align: top;\n",
       "    }\n",
       "\n",
       "    .dataframe thead th {\n",
       "        text-align: right;\n",
       "    }\n",
       "</style>\n",
       "<table border=\"1\" class=\"dataframe\">\n",
       "  <thead>\n",
       "    <tr style=\"text-align: right;\">\n",
       "      <th></th>\n",
       "      <th>0</th>\n",
       "    </tr>\n",
       "  </thead>\n",
       "  <tbody>\n",
       "    <tr>\n",
       "      <th>AtBat</th>\n",
       "      <td>-310.805286</td>\n",
       "    </tr>\n",
       "    <tr>\n",
       "      <th>Hits</th>\n",
       "      <td>264.550748</td>\n",
       "    </tr>\n",
       "    <tr>\n",
       "      <th>HmRun</th>\n",
       "      <td>24.160851</td>\n",
       "    </tr>\n",
       "    <tr>\n",
       "      <th>Runs</th>\n",
       "      <td>0.000000</td>\n",
       "    </tr>\n",
       "    <tr>\n",
       "      <th>RBI</th>\n",
       "      <td>-0.000000</td>\n",
       "    </tr>\n",
       "    <tr>\n",
       "      <th>Walks</th>\n",
       "      <td>98.275017</td>\n",
       "    </tr>\n",
       "    <tr>\n",
       "      <th>Years</th>\n",
       "      <td>-71.929389</td>\n",
       "    </tr>\n",
       "    <tr>\n",
       "      <th>CAtBat</th>\n",
       "      <td>-154.880263</td>\n",
       "    </tr>\n",
       "    <tr>\n",
       "      <th>CHits</th>\n",
       "      <td>115.476423</td>\n",
       "    </tr>\n",
       "    <tr>\n",
       "      <th>CHmRun</th>\n",
       "      <td>0.000000</td>\n",
       "    </tr>\n",
       "    <tr>\n",
       "      <th>CRuns</th>\n",
       "      <td>274.324904</td>\n",
       "    </tr>\n",
       "    <tr>\n",
       "      <th>CRBI</th>\n",
       "      <td>222.999446</td>\n",
       "    </tr>\n",
       "    <tr>\n",
       "      <th>CWalks</th>\n",
       "      <td>-217.312944</td>\n",
       "    </tr>\n",
       "    <tr>\n",
       "      <th>PutOuts</th>\n",
       "      <td>50.427732</td>\n",
       "    </tr>\n",
       "    <tr>\n",
       "      <th>Assists</th>\n",
       "      <td>41.839507</td>\n",
       "    </tr>\n",
       "    <tr>\n",
       "      <th>Errors</th>\n",
       "      <td>-22.768896</td>\n",
       "    </tr>\n",
       "    <tr>\n",
       "      <th>League_N</th>\n",
       "      <td>23.875404</td>\n",
       "    </tr>\n",
       "    <tr>\n",
       "      <th>Division_W</th>\n",
       "      <td>-118.631076</td>\n",
       "    </tr>\n",
       "    <tr>\n",
       "      <th>NewLeague_N</th>\n",
       "      <td>-0.000000</td>\n",
       "    </tr>\n",
       "  </tbody>\n",
       "</table>\n",
       "</div>"
      ],
      "text/plain": [
       "                      0\n",
       "AtBat       -310.805286\n",
       "Hits         264.550748\n",
       "HmRun         24.160851\n",
       "Runs           0.000000\n",
       "RBI           -0.000000\n",
       "Walks         98.275017\n",
       "Years        -71.929389\n",
       "CAtBat      -154.880263\n",
       "CHits        115.476423\n",
       "CHmRun         0.000000\n",
       "CRuns        274.324904\n",
       "CRBI         222.999446\n",
       "CWalks      -217.312944\n",
       "PutOuts       50.427732\n",
       "Assists       41.839507\n",
       "Errors       -22.768896\n",
       "League_N      23.875404\n",
       "Division_W  -118.631076\n",
       "NewLeague_N   -0.000000"
      ]
     },
     "execution_count": 173,
     "metadata": {},
     "output_type": "execute_result"
    }
   ],
   "source": [
    "# Create a Pandas Dataframe of the coefficients from the tuned Lasso regression model\n",
    "\n",
    "pd.DataFrame(lasso_tuned.coef_, index=X_train.columns)"
   ]
  },
  {
   "cell_type": "markdown",
   "metadata": {
    "id": "2tj29zPks9yB"
   },
   "source": [
    "**Observations**\n",
    "- __Zero Coefficients:__ Features like Runs, RBI, CAtBat, CHmRun, NewLeague_N, and several others have coefficients shrunk to zero. This indicates that Lasso has deemed these features less important or irrelevant for predicting the target variable in the presence of other features.\n",
    "\n",
    "- __Non-Zero Coefficients:__ Features such as AtBat, Hits, Walks, CRuns, and CRBI have non-zero coefficients and are considered significant predictors in the model. The magnitude and sign of each coefficient indicate the strength and direction of the influence on the response variable:\n",
    "\n",
    "- __Positive Coefficients__ (e.g., Hits at 224.372390 and CRuns at 200.690747) suggest that an increase in these variables is associated with an increase in the target variable.\n",
    "\n",
    "- __Negative Coefficients__ (e.g., AtBat at -239.109204 and Years at -68.010940) suggest that an increase in these variables is associated with a decrease in the target variable"
   ]
  },
  {
   "cell_type": "markdown",
   "metadata": {
    "id": "8TUgyjIXA6B6"
   },
   "source": [
    "### __Ridge Regression__\n",
    "\n",
    "__Ridge Regression__ also known as L2 Regularization is a regularization technique used in linear regression to prevent overfitting. It is useful for handling multicollinear data, where two predictors/independent variables are highly correlated to each other.\n",
    "\n",
    "**_Collinearity_** refers to a situation where two or more predictor variables in a multiple regression model are highly correlated, meaning they have a linear relationship. This correlation makes it difficult to determine the individual effect of each predictor on the target variable, leading to unreliable and unstable estimates of regression coefficients.\n",
    "\n",
    "Ridge regression adds a regularization term to the loss function that penalizes large coefficients in the model and encourages the model to have smaller coefficients.\n",
    "It results in a simpler and more generalized model.\n",
    "\n",
    "Ridge Regression does shrink the coefficients, it does not force them to zero, meaning it does not perform feature selection\n",
    "\n",
    "__In Ridge regression__, the minimization objective (also called the standard loss function (mean squared error)) becomes:\n",
    "\n",
    "$$ \\text{Loss} = \\sum_{i=1}^n \\left( y_i - \\left( \\beta_0 + \\sum_{j=1}^p \\beta_j x_{ij} \\right) \\right)^2 + \\alpha \\sum_{j=1}^p \\beta_j^2 $$\n",
    "\n",
    "which equals:\n",
    "\n",
    "$$ \\text{Loss} = \\text{RSS} + \\alpha \\sum_{j=1}^p \\beta_j^2 $$\n",
    "\n",
    "Where $ \\alpha \\ $ (alpha) can take various values:\n",
    "- $ \\alpha = 0 \\ $: Same coefficients as least squares linear regression\n",
    "- $ \\alpha = \\infty $: All coefficients are zero\n",
    "- $ 0 < \\alpha < \\infty $: Coefficients are between 0 and that of least squares linear regression\n"
   ]
  },
  {
   "cell_type": "markdown",
   "metadata": {
    "id": "FhS4n-Df0GR4"
   },
   "source": [
    "### Let's see how to implement Ridge regression"
   ]
  },
  {
   "cell_type": "code",
   "execution_count": 178,
   "metadata": {
    "id": "pSTb4I-30WW5"
   },
   "outputs": [],
   "source": [
    "# Import necessary libraries\n",
    "import pandas as pd\n",
    "import numpy as np\n",
    "from sklearn.model_selection import train_test_split, cross_val_score, RepeatedKFold\n",
    "from sklearn.linear_model import Ridge, RidgeCV\n",
    "from sklearn.metrics import mean_squared_error, r2_score"
   ]
  },
  {
   "cell_type": "markdown",
   "metadata": {
    "id": "_vTcxaDR0cGp"
   },
   "source": [
    "**Next Steps:**\n",
    "\n",
    "- Starting the implementation using the train test data acquired from the Lasso implementation on `Hitters.csv` dataset.\n",
    "- Let's fit the model and check what the intercept value is."
   ]
  },
  {
   "cell_type": "code",
   "execution_count": 181,
   "metadata": {
    "colab": {
     "base_uri": "https://localhost:8080/"
    },
    "id": "iOxpS1o_15Pp",
    "outputId": "afc6b35e-98ee-4e1e-a7b5-087ebbb63117"
   },
   "outputs": [
    {
     "data": {
      "text/plain": [
       "552.2287554333539"
      ]
     },
     "execution_count": 181,
     "metadata": {},
     "output_type": "execute_result"
    }
   ],
   "source": [
    "# Create and fit the Ridge regression model to the training data\n",
    "\n",
    "ridge_model = Ridge(alpha=1).fit(X_train, y_train)\n",
    "ridge_model.intercept_"
   ]
  },
  {
   "cell_type": "markdown",
   "metadata": {
    "id": "v8J7WrIH1_6z"
   },
   "source": [
    "__Observation:__\n",
    "- The intercept value for the Ridge model is 552."
   ]
  },
  {
   "cell_type": "markdown",
   "metadata": {
    "id": "83qDs4Gc2DjI"
   },
   "source": [
    "**Next Steps:** Model evaluation on Ridge model\n",
    "\n",
    "- Test the ridge model and make predictions\n",
    "- Evaluate the RMSE and R2 scores for model performance."
   ]
  },
  {
   "cell_type": "code",
   "execution_count": 185,
   "metadata": {
    "colab": {
     "base_uri": "https://localhost:8080/"
    },
    "id": "SxP67EMiFdFs",
    "outputId": "433d3db1-169c-431c-b7c3-b18b88412ced"
   },
   "outputs": [
    {
     "name": "stdout",
     "output_type": "stream",
     "text": [
      "MSE training set 84369.79\n",
      "R squared training set 47.25\n"
     ]
    }
   ],
   "source": [
    "# Training data\n",
    "y_train_pred = ridge_model.predict(X_train)\n",
    "mse_train = mean_squared_error(y_train, y_train_pred)\n",
    "print('MSE training set', round(mse_train, 2))\n",
    "print('R squared training set', round(r2_score(y_train, y_train_pred)*100,2))"
   ]
  },
  {
   "cell_type": "code",
   "execution_count": 187,
   "metadata": {},
   "outputs": [
    {
     "name": "stdout",
     "output_type": "stream",
     "text": [
      "MSE test set 116730.89\n",
      "R squared test set 38.06\n"
     ]
    }
   ],
   "source": [
    "# Test data\n",
    "y_test_pred = ridge_model.predict(X_test)\n",
    "mse_test = mean_squared_error(y_test, y_test_pred)\n",
    "print('MSE test set', round(mse_test, 2))\n",
    "print('R squared test set', round(r2_score(y_test, y_test_pred)*100,2))"
   ]
  },
  {
   "cell_type": "markdown",
   "metadata": {
    "id": "MNevyi4-2MRO"
   },
   "source": [
    "**Next Steps**\n",
    "\n",
    "- Let's check the coefficient of the model.\n",
    "- Next, we use cross-validation to find the best value for  `alpha`. Ridge regression just like lasso, comes with built-in cross-validation."
   ]
  },
  {
   "cell_type": "code",
   "execution_count": 190,
   "metadata": {
    "colab": {
     "base_uri": "https://localhost:8080/"
    },
    "id": "RqQrinwY2PM6",
    "outputId": "d9ff5c47-5127-4a0e-c976-c0635bc136cf"
   },
   "outputs": [
    {
     "data": {
      "text/plain": [
       "array([-299.44680072,  247.15463531,   26.09749437,    8.12950685,\n",
       "         -4.59947678,   98.24018695,  -73.56921813, -208.11549116,\n",
       "        220.72992894,   24.79168215,  231.91705884,  188.99248475,\n",
       "       -212.18547418,   51.11247316,   46.6903119 ,  -27.64614616,\n",
       "         43.01303452, -120.28167205,  -17.53721078])"
      ]
     },
     "execution_count": 190,
     "metadata": {},
     "output_type": "execute_result"
    }
   ],
   "source": [
    "# Get the coefficients (weights) of the fitted Ridge regression model\n",
    "ridge_model.coef_"
   ]
  },
  {
   "cell_type": "code",
   "execution_count": 192,
   "metadata": {
    "colab": {
     "base_uri": "https://localhost:8080/"
    },
    "id": "IVM1MZDN1xGg",
    "outputId": "b2e59f87-dd39-4e77-def7-de654d6ab9ad"
   },
   "outputs": [
    {
     "data": {
      "text/plain": [
       "208"
      ]
     },
     "execution_count": 192,
     "metadata": {},
     "output_type": "execute_result"
    }
   ],
   "source": [
    "ridge_cv_model = RidgeCV(alphas= np.random.randint(0, 1000, 100), cv=10).fit(X_train, y_train)\n",
    "\n",
    "# Get the best alpha (regularization strength) selected by cross-validation\n",
    "ridge_cv_model.alpha_"
   ]
  },
  {
   "cell_type": "code",
   "execution_count": 193,
   "metadata": {
    "id": "hO8QzbEHHngm"
   },
   "outputs": [],
   "source": [
    "# Create and fit the ridge regression model using the best alpha found by cross-validation\n",
    "\n",
    "ridge_tuned = Ridge(alpha=ridge_cv_model.alpha_, max_iter=10000).fit(X_train, y_train)"
   ]
  },
  {
   "cell_type": "markdown",
   "metadata": {
    "id": "B8w21SamIEQR"
   },
   "source": [
    "**Next Steps:** Model Evaluation on tuned Ridge model with the best alpha\n",
    "\n",
    "- Test the ridge model and make predictions\n",
    "- Evaluate the RMSE and R2 scores for model performance."
   ]
  },
  {
   "cell_type": "code",
   "execution_count": 195,
   "metadata": {
    "colab": {
     "base_uri": "https://localhost:8080/"
    },
    "id": "FFz03YA1Hush",
    "outputId": "c653127d-e54f-45b3-e03e-9f807d2d1866"
   },
   "outputs": [
    {
     "name": "stdout",
     "output_type": "stream",
     "text": [
      "MSE training set 103151.35\n",
      "R squared training set 35.51\n"
     ]
    }
   ],
   "source": [
    "# Training data\n",
    "y_train_pred_tuned = ridge_tuned.predict(X_train)\n",
    "mse_train = mean_squared_error(y_train, y_train_pred_tuned)\n",
    "print('MSE training set', round(mse_train, 2))\n",
    "print('R squared training set', round(r2_score(y_train, y_train_pred_tuned)*100,2))"
   ]
  },
  {
   "cell_type": "code",
   "execution_count": 196,
   "metadata": {},
   "outputs": [
    {
     "name": "stdout",
     "output_type": "stream",
     "text": [
      "MSE test set 117604.51\n",
      "R squared test set 37.6\n"
     ]
    }
   ],
   "source": [
    "# Test data\n",
    "y_test_pred_tuned = ridge_tuned.predict(X_test)\n",
    "mse_test = mean_squared_error(y_test, y_test_pred_tuned)\n",
    "print('MSE test set', round(mse_test, 2))\n",
    "print('R squared test set', round(r2_score(y_test, y_test_pred_tuned)*100,2))"
   ]
  },
  {
   "cell_type": "code",
   "execution_count": 201,
   "metadata": {
    "colab": {
     "base_uri": "https://localhost:8080/"
    },
    "id": "bOXnqJ3g1xGg",
    "outputId": "d613ddf9-119a-488e-924e-53245b796472"
   },
   "outputs": [
    {
     "data": {
      "text/html": [
       "<div>\n",
       "<style scoped>\n",
       "    .dataframe tbody tr th:only-of-type {\n",
       "        vertical-align: middle;\n",
       "    }\n",
       "\n",
       "    .dataframe tbody tr th {\n",
       "        vertical-align: top;\n",
       "    }\n",
       "\n",
       "    .dataframe thead th {\n",
       "        text-align: right;\n",
       "    }\n",
       "</style>\n",
       "<table border=\"1\" class=\"dataframe\">\n",
       "  <thead>\n",
       "    <tr style=\"text-align: right;\">\n",
       "      <th></th>\n",
       "      <th>0</th>\n",
       "    </tr>\n",
       "  </thead>\n",
       "  <tbody>\n",
       "    <tr>\n",
       "      <th>AtBat</th>\n",
       "      <td>4.871181</td>\n",
       "    </tr>\n",
       "    <tr>\n",
       "      <th>Hits</th>\n",
       "      <td>26.597294</td>\n",
       "    </tr>\n",
       "    <tr>\n",
       "      <th>HmRun</th>\n",
       "      <td>6.782015</td>\n",
       "    </tr>\n",
       "    <tr>\n",
       "      <th>Runs</th>\n",
       "      <td>18.075746</td>\n",
       "    </tr>\n",
       "    <tr>\n",
       "      <th>RBI</th>\n",
       "      <td>22.287803</td>\n",
       "    </tr>\n",
       "    <tr>\n",
       "      <th>Walks</th>\n",
       "      <td>21.610800</td>\n",
       "    </tr>\n",
       "    <tr>\n",
       "      <th>Years</th>\n",
       "      <td>4.722797</td>\n",
       "    </tr>\n",
       "    <tr>\n",
       "      <th>CAtBat</th>\n",
       "      <td>21.619143</td>\n",
       "    </tr>\n",
       "    <tr>\n",
       "      <th>CHits</th>\n",
       "      <td>32.322516</td>\n",
       "    </tr>\n",
       "    <tr>\n",
       "      <th>CHmRun</th>\n",
       "      <td>28.203593</td>\n",
       "    </tr>\n",
       "    <tr>\n",
       "      <th>CRuns</th>\n",
       "      <td>29.788044</td>\n",
       "    </tr>\n",
       "    <tr>\n",
       "      <th>CRBI</th>\n",
       "      <td>34.551399</td>\n",
       "    </tr>\n",
       "    <tr>\n",
       "      <th>CWalks</th>\n",
       "      <td>6.347992</td>\n",
       "    </tr>\n",
       "    <tr>\n",
       "      <th>PutOuts</th>\n",
       "      <td>28.484587</td>\n",
       "    </tr>\n",
       "    <tr>\n",
       "      <th>Assists</th>\n",
       "      <td>4.079147</td>\n",
       "    </tr>\n",
       "    <tr>\n",
       "      <th>Errors</th>\n",
       "      <td>-6.166437</td>\n",
       "    </tr>\n",
       "    <tr>\n",
       "      <th>League_N</th>\n",
       "      <td>8.677439</td>\n",
       "    </tr>\n",
       "    <tr>\n",
       "      <th>Division_W</th>\n",
       "      <td>-30.243530</td>\n",
       "    </tr>\n",
       "    <tr>\n",
       "      <th>NewLeague_N</th>\n",
       "      <td>4.269949</td>\n",
       "    </tr>\n",
       "  </tbody>\n",
       "</table>\n",
       "</div>"
      ],
      "text/plain": [
       "                     0\n",
       "AtBat         4.871181\n",
       "Hits         26.597294\n",
       "HmRun         6.782015\n",
       "Runs         18.075746\n",
       "RBI          22.287803\n",
       "Walks        21.610800\n",
       "Years         4.722797\n",
       "CAtBat       21.619143\n",
       "CHits        32.322516\n",
       "CHmRun       28.203593\n",
       "CRuns        29.788044\n",
       "CRBI         34.551399\n",
       "CWalks        6.347992\n",
       "PutOuts      28.484587\n",
       "Assists       4.079147\n",
       "Errors       -6.166437\n",
       "League_N      8.677439\n",
       "Division_W  -30.243530\n",
       "NewLeague_N   4.269949"
      ]
     },
     "execution_count": 201,
     "metadata": {},
     "output_type": "execute_result"
    }
   ],
   "source": [
    "# Create a Pandas Dataframe of the coefficients from the tuned Ridge regression model\n",
    "\n",
    "pd.DataFrame(ridge_tuned.coef_, index=X_train.columns)"
   ]
  },
  {
   "cell_type": "markdown",
   "metadata": {
    "id": "2poRl82vI7FR"
   },
   "source": [
    "**Observation**\n",
    "\n",
    "- The coefficients with the highest values suggest that cumulative career statistics like total runs batted in, total hits, and total runs scored historically have the most significant positive influence on the target variable.\n",
    "\n",
    "- Division_W: The only feature with a notably high negative coefficient is Division_W, which indicates that being in the Western division is associated with a negative effect on the target variable. This could reflect divisional performance differences or disparities in competitive levels.\n",
    "\n",
    "- Years, Assists, and NewLeague_N: These features have smaller positive coefficients, suggesting a modest but positive influence on the model’s predictions. This indicates that experience and being in a new league might have a slight positive impact."
   ]
  },
  {
   "cell_type": "markdown",
   "metadata": {
    "id": "QuLh3jIcJoA0"
   },
   "source": [
    "#### __This analysis helps in understanding the relative importance and influence of different aspects of a baseball player's statistics on the predicted target__"
   ]
  },
  {
   "cell_type": "code",
   "execution_count": 205,
   "metadata": {},
   "outputs": [
    {
     "data": {
      "text/plain": [
       "AtBat         -310.805286\n",
       "Hits           264.550748\n",
       "HmRun           24.160851\n",
       "Runs             0.000000\n",
       "RBI             -0.000000\n",
       "Walks           98.275017\n",
       "Years          -71.929389\n",
       "CAtBat        -154.880263\n",
       "CHits          115.476423\n",
       "CHmRun           0.000000\n",
       "CRuns          274.324904\n",
       "CRBI           222.999446\n",
       "CWalks        -217.312944\n",
       "PutOuts         50.427732\n",
       "Assists         41.839507\n",
       "Errors         -22.768896\n",
       "League_N        23.875404\n",
       "Division_W    -118.631076\n",
       "NewLeague_N     -0.000000\n",
       "dtype: float64"
      ]
     },
     "execution_count": 205,
     "metadata": {},
     "output_type": "execute_result"
    }
   ],
   "source": [
    "# Comparison of Lasso and Rigde coefficients \n",
    "\n",
    "lasso_series = pd.Series(lasso_tuned.coef_, index=X_train.columns)\n",
    "lasso_series"
   ]
  },
  {
   "cell_type": "code",
   "execution_count": 207,
   "metadata": {},
   "outputs": [
    {
     "data": {
      "text/plain": [
       "AtBat           4.871181\n",
       "Hits           26.597294\n",
       "HmRun           6.782015\n",
       "Runs           18.075746\n",
       "RBI            22.287803\n",
       "Walks          21.610800\n",
       "Years           4.722797\n",
       "CAtBat         21.619143\n",
       "CHits          32.322516\n",
       "CHmRun         28.203593\n",
       "CRuns          29.788044\n",
       "CRBI           34.551399\n",
       "CWalks          6.347992\n",
       "PutOuts        28.484587\n",
       "Assists         4.079147\n",
       "Errors         -6.166437\n",
       "League_N        8.677439\n",
       "Division_W    -30.243530\n",
       "NewLeague_N     4.269949\n",
       "dtype: float64"
      ]
     },
     "execution_count": 207,
     "metadata": {},
     "output_type": "execute_result"
    }
   ],
   "source": [
    "ridge_series = pd.Series(ridge_tuned.coef_, index=X_train.columns)\n",
    "ridge_series"
   ]
  },
  {
   "cell_type": "code",
   "execution_count": 209,
   "metadata": {},
   "outputs": [
    {
     "data": {
      "text/html": [
       "<div>\n",
       "<style scoped>\n",
       "    .dataframe tbody tr th:only-of-type {\n",
       "        vertical-align: middle;\n",
       "    }\n",
       "\n",
       "    .dataframe tbody tr th {\n",
       "        vertical-align: top;\n",
       "    }\n",
       "\n",
       "    .dataframe thead th {\n",
       "        text-align: right;\n",
       "    }\n",
       "</style>\n",
       "<table border=\"1\" class=\"dataframe\">\n",
       "  <thead>\n",
       "    <tr style=\"text-align: right;\">\n",
       "      <th></th>\n",
       "      <th>Lasso</th>\n",
       "      <th>Ridge</th>\n",
       "    </tr>\n",
       "  </thead>\n",
       "  <tbody>\n",
       "    <tr>\n",
       "      <th>AtBat</th>\n",
       "      <td>-310.805286</td>\n",
       "      <td>4.871181</td>\n",
       "    </tr>\n",
       "    <tr>\n",
       "      <th>Hits</th>\n",
       "      <td>264.550748</td>\n",
       "      <td>26.597294</td>\n",
       "    </tr>\n",
       "    <tr>\n",
       "      <th>HmRun</th>\n",
       "      <td>24.160851</td>\n",
       "      <td>6.782015</td>\n",
       "    </tr>\n",
       "    <tr>\n",
       "      <th>Runs</th>\n",
       "      <td>0.000000</td>\n",
       "      <td>18.075746</td>\n",
       "    </tr>\n",
       "    <tr>\n",
       "      <th>RBI</th>\n",
       "      <td>-0.000000</td>\n",
       "      <td>22.287803</td>\n",
       "    </tr>\n",
       "    <tr>\n",
       "      <th>Walks</th>\n",
       "      <td>98.275017</td>\n",
       "      <td>21.610800</td>\n",
       "    </tr>\n",
       "    <tr>\n",
       "      <th>Years</th>\n",
       "      <td>-71.929389</td>\n",
       "      <td>4.722797</td>\n",
       "    </tr>\n",
       "    <tr>\n",
       "      <th>CAtBat</th>\n",
       "      <td>-154.880263</td>\n",
       "      <td>21.619143</td>\n",
       "    </tr>\n",
       "    <tr>\n",
       "      <th>CHits</th>\n",
       "      <td>115.476423</td>\n",
       "      <td>32.322516</td>\n",
       "    </tr>\n",
       "    <tr>\n",
       "      <th>CHmRun</th>\n",
       "      <td>0.000000</td>\n",
       "      <td>28.203593</td>\n",
       "    </tr>\n",
       "    <tr>\n",
       "      <th>CRuns</th>\n",
       "      <td>274.324904</td>\n",
       "      <td>29.788044</td>\n",
       "    </tr>\n",
       "    <tr>\n",
       "      <th>CRBI</th>\n",
       "      <td>222.999446</td>\n",
       "      <td>34.551399</td>\n",
       "    </tr>\n",
       "    <tr>\n",
       "      <th>CWalks</th>\n",
       "      <td>-217.312944</td>\n",
       "      <td>6.347992</td>\n",
       "    </tr>\n",
       "    <tr>\n",
       "      <th>PutOuts</th>\n",
       "      <td>50.427732</td>\n",
       "      <td>28.484587</td>\n",
       "    </tr>\n",
       "    <tr>\n",
       "      <th>Assists</th>\n",
       "      <td>41.839507</td>\n",
       "      <td>4.079147</td>\n",
       "    </tr>\n",
       "    <tr>\n",
       "      <th>Errors</th>\n",
       "      <td>-22.768896</td>\n",
       "      <td>-6.166437</td>\n",
       "    </tr>\n",
       "    <tr>\n",
       "      <th>League_N</th>\n",
       "      <td>23.875404</td>\n",
       "      <td>8.677439</td>\n",
       "    </tr>\n",
       "    <tr>\n",
       "      <th>Division_W</th>\n",
       "      <td>-118.631076</td>\n",
       "      <td>-30.243530</td>\n",
       "    </tr>\n",
       "    <tr>\n",
       "      <th>NewLeague_N</th>\n",
       "      <td>-0.000000</td>\n",
       "      <td>4.269949</td>\n",
       "    </tr>\n",
       "  </tbody>\n",
       "</table>\n",
       "</div>"
      ],
      "text/plain": [
       "                  Lasso      Ridge\n",
       "AtBat       -310.805286   4.871181\n",
       "Hits         264.550748  26.597294\n",
       "HmRun         24.160851   6.782015\n",
       "Runs           0.000000  18.075746\n",
       "RBI           -0.000000  22.287803\n",
       "Walks         98.275017  21.610800\n",
       "Years        -71.929389   4.722797\n",
       "CAtBat      -154.880263  21.619143\n",
       "CHits        115.476423  32.322516\n",
       "CHmRun         0.000000  28.203593\n",
       "CRuns        274.324904  29.788044\n",
       "CRBI         222.999446  34.551399\n",
       "CWalks      -217.312944   6.347992\n",
       "PutOuts       50.427732  28.484587\n",
       "Assists       41.839507   4.079147\n",
       "Errors       -22.768896  -6.166437\n",
       "League_N      23.875404   8.677439\n",
       "Division_W  -118.631076 -30.243530\n",
       "NewLeague_N   -0.000000   4.269949"
      ]
     },
     "execution_count": 209,
     "metadata": {},
     "output_type": "execute_result"
    }
   ],
   "source": [
    "lasso_ridge_comp_df = pd.DataFrame({'Lasso': lasso_series, 'Ridge': ridge_series})\n",
    "lasso_ridge_comp_df"
   ]
  },
  {
   "cell_type": "markdown",
   "metadata": {
    "id": "JFd1ufbkTZqr"
   },
   "source": [
    "### __Elastic Net Regression__\n",
    "\n",
    "Elastic Net regression is a regularization technique that linearly combines the penalties of Lasso (L1) and Ridge (L2) methods. It is particularly useful when dealing with highly collinear data, where ordinary least squares might not perform well.\n",
    "\n",
    "**_Ordinary Least Squares (OLS)_** is a method for estimating the parameters in a linear regression model. OLS aims to find the line (or hyperplane in higher dimensions) that minimizes the sum of the squared differences (residuals) between the observed values and the values predicted by the linear model. While OLS works well under many circumstances, it can become problematic when predictor variables are highly collinear making the model unstable and less interpretable."
   ]
  },
  {
   "cell_type": "markdown",
   "metadata": {
    "id": "M-r8iGEKTnDk"
   },
   "source": [
    "The Elastic Net method is defined as minimizing the following loss function:\n",
    "\n",
    "$$\n",
    "\\text{Loss} = \\frac{1}{2n} \\sum_{i=1}^{n} (y_i - \\beta_0 - \\sum_{j=1}^{p} \\beta_j x_{ij})^2 + \\lambda_1 \\sum_{j=1}^{p} |\\beta_j| + \\lambda_2 \\sum_{j=1}^{p} \\beta_j^2\n",
    "$$\n",
    "\n",
    "\n",
    "Where:\n",
    "- $\\frac{1}{2n} \\sum_{i=1}^{n} (y_i - \\beta_0 - \\sum_{j=1}^{p} \\beta_j x_{ij})^2$ is the residual sum of squares.\n",
    "- $\\lambda_1 \\sum_{j=1}^{p} |\\beta_j|$ is the L1 penalty (Lasso).\n",
    "- $\\lambda_2 \\sum_{j=1}^{p} \\beta_j^2$ is the L2 penalty (Ridge).\n",
    "\n",
    "- $\\lambda_1$ and $\\lambda_2$ are regularization parameters that control the balance between fitting the model well to the data and keeping the model parameters small to avoid overfitting."
   ]
  },
  {
   "cell_type": "markdown",
   "metadata": {
    "id": "LLjHWAWsVN-d"
   },
   "source": [
    "### Let's see how to implement Elastic net regression"
   ]
  },
  {
   "cell_type": "code",
   "execution_count": 214,
   "metadata": {
    "id": "Vfj5sfrvVvaq"
   },
   "outputs": [],
   "source": [
    "from sklearn.linear_model import ElasticNetCV, ElasticNet"
   ]
  },
  {
   "cell_type": "markdown",
   "metadata": {
    "id": "1PIy0L88V8iy"
   },
   "source": [
    "**Next Steps:**\n",
    "\n",
    "- Starting the implementation using the train test data acquired from the Lasso implementation on `Hitters.csv` dataset.\n",
    "- Let's fit the model and check what the intercept value is."
   ]
  },
  {
   "cell_type": "code",
   "execution_count": 217,
   "metadata": {
    "colab": {
     "base_uri": "https://localhost:8080/"
    },
    "id": "ZI4Z4vu0WAJO",
    "outputId": "a3e865a0-3627-4e68-cce8-b20579e1bca2"
   },
   "outputs": [
    {
     "data": {
      "text/plain": [
       "518.1732769716566"
      ]
     },
     "execution_count": 217,
     "metadata": {},
     "output_type": "execute_result"
    }
   ],
   "source": [
    "# Initializing and fitting the ElasticNet model\n",
    "\n",
    "elastic_net = ElasticNet(alpha=1.0, l1_ratio=0.5)  # alpha is the regularization parameter\n",
    "elastic_net.fit(X_train, y_train)\n",
    "elastic_net.intercept_"
   ]
  },
  {
   "cell_type": "markdown",
   "metadata": {
    "id": "RwDfSiDqXYFK"
   },
   "source": [
    "__Observation:__\n",
    "- The intercept value for the ElasticNet model is 518."
   ]
  },
  {
   "cell_type": "markdown",
   "metadata": {},
   "source": [
    "**Next Steps:** Model evaluation on Elastic Net model\n",
    "\n",
    "- Test the model and make predictions\n",
    "- Evaluate the RMSE and R2 scores for model performance."
   ]
  },
  {
   "cell_type": "code",
   "execution_count": 221,
   "metadata": {},
   "outputs": [
    {
     "name": "stdout",
     "output_type": "stream",
     "text": [
      "MSE training set 100811.47\n",
      "R squared training set 36.97\n",
      "Root mean Squared Error(RMSE):  317.5082184951675\n"
     ]
    }
   ],
   "source": [
    "# Training data\n",
    "y_train_pred = elastic_net.predict(X_train)\n",
    "mse_train = mean_squared_error(y_train, y_train_pred)\n",
    "print('MSE training set', round(mse_train, 2))\n",
    "print('R squared training set', round(r2_score(y_train, y_train_pred)*100,2))\n",
    "print(\"Root mean Squared Error(RMSE): \", np.sqrt(mean_squared_error(y_train, y_train_pred)))"
   ]
  },
  {
   "cell_type": "code",
   "execution_count": 223,
   "metadata": {},
   "outputs": [
    {
     "name": "stdout",
     "output_type": "stream",
     "text": [
      "MSE test set 115482.94\n",
      "R squared test set 38.72\n",
      "Root mean Squared Error(RMSE):  339.827814119469\n"
     ]
    }
   ],
   "source": [
    "# Test data\n",
    "y_test_pred = elastic_net.predict(X_test)\n",
    "mse_test = mean_squared_error(y_test, y_test_pred)\n",
    "print('MSE test set', round(mse_test, 2))\n",
    "print('R squared test set', round(r2_score(y_test, y_test_pred)*100,2))\n",
    "print(\"Root mean Squared Error(RMSE): \", np.sqrt(mean_squared_error(y_test, y_test_pred)))"
   ]
  },
  {
   "cell_type": "markdown",
   "metadata": {
    "id": "Jdz0U8IWXnCS"
   },
   "source": [
    "__Observation:__\n",
    "- The MSE value is 115482.\n",
    "- Root mean Squared Error(RMSE):  339.827814119469\n",
    "- The r2 score is 0.38."
   ]
  },
  {
   "cell_type": "markdown",
   "metadata": {},
   "source": [
    "**Next Steps**\n",
    "\n",
    "- Let's check the coefficient of the model."
   ]
  },
  {
   "cell_type": "code",
   "execution_count": 227,
   "metadata": {
    "colab": {
     "base_uri": "https://localhost:8080/"
    },
    "id": "Np7Qk0FUXnCT",
    "outputId": "0fc8ee73-8d3a-495a-b942-17961ebe9887"
   },
   "outputs": [
    {
     "data": {
      "text/plain": [
       "array([ -2.32444269,  32.30474803,   2.9866463 ,  19.29717715,\n",
       "        24.37757748,  24.03646085,  -1.75094796,  21.18106091,\n",
       "        38.83116968,  31.91940944,  34.58738415,  41.51340678,\n",
       "        -1.10580746,  34.27606622,   5.57111951,  -9.40358356,\n",
       "        11.97939869, -44.3230192 ,   4.71404392])"
      ]
     },
     "execution_count": 227,
     "metadata": {},
     "output_type": "execute_result"
    }
   ],
   "source": [
    "# Get the coefficients (weights) of the fitted Ridge regression model\n",
    "elastic_net.coef_"
   ]
  },
  {
   "cell_type": "markdown",
   "metadata": {
    "id": "2tm6EBc9h4fp"
   },
   "source": [
    "__In Elastic Net regression__,\n",
    "\n",
    "- `alpha` controls the overall strength of regularization, with higher values leading to more shrinkage of the coefficients to reduce overfitting.  It's better to use a log scale or more systematic approach to ensure that the alphas tested cover a suitable range, especially since very small or very large values might not be appropriate:\n",
    "\n",
    "- `l1_ratio` determines the mix of L1 (Lasso) and L2 (Ridge) regularization, ranging from 0 (pure Ridge) to 1 (pure Lasso). Intermediate values blend the two, leveraging Lasso's sparsity and Ridge's ability to handle multicollinearity. Ensure l1_ratio ranges from a small positive number to 1 (but not including 0 if you wish to avoid pure Ridge regression). This parameter is the mix ratio that controls the combination of L1 and L2 regularization\n",
    "\n",
    "Tuning these parameters allows Elastic Net to balance model performance and interpretability effectively.\n",
    "\n"
   ]
  },
  {
   "cell_type": "code",
   "execution_count": 230,
   "metadata": {
    "id": "fD4nPUTjMWzp"
   },
   "outputs": [],
   "source": [
    "# Define the parameter grid for alpha and l1_ratio\n",
    "alphas = np.logspace(-2, 2, 100)\n",
    "\n",
    "# start from 0.01 to include L1 regularization\n",
    "l1_ratios = np.linspace(0.01, 1, 100)"
   ]
  },
  {
   "cell_type": "code",
   "execution_count": 232,
   "metadata": {},
   "outputs": [],
   "source": [
    "# Create and fit the Elastic Net CV model, using 10-fold cross-validation\n",
    "elastic_cv_model = ElasticNetCV(alphas=alphas, l1_ratio=l1_ratios, cv=10, max_iter=10000).fit(X_train, y_train)"
   ]
  },
  {
   "cell_type": "code",
   "execution_count": 233,
   "metadata": {
    "colab": {
     "base_uri": "https://localhost:8080/"
    },
    "id": "0i22M4jOf-6y",
    "outputId": "d84ddf27-b05b-4a3c-85d9-f697b6c7028a"
   },
   "outputs": [
    {
     "name": "stdout",
     "output_type": "stream",
     "text": [
      "Best alpha: 0.01747528400007684\n",
      "Best l1_ratio: 0.060000000000000005\n"
     ]
    }
   ],
   "source": [
    "best_alpha = elastic_cv_model.alpha_\n",
    "best_l1_ratio = elastic_cv_model.l1_ratio_\n",
    "\n",
    "# Print the best alpha and l1_ratio found\n",
    "print('Best alpha:', best_alpha)\n",
    "print('Best l1_ratio:', best_l1_ratio)"
   ]
  },
  {
   "cell_type": "code",
   "execution_count": 234,
   "metadata": {
    "id": "ldM3So2qg_KQ"
   },
   "outputs": [],
   "source": [
    "# Create and fit the Elastic Net regression model using the best alpha and l1_ratio found by cross-validation\n",
    "\n",
    "elastic_tuned = ElasticNet(alpha=best_alpha, l1_ratio=best_l1_ratio, max_iter=10000).fit(X_train, y_train)"
   ]
  },
  {
   "cell_type": "markdown",
   "metadata": {},
   "source": [
    "**Next Steps:** Model Evaluation on tuned Elastic Net model with the best alpha and l1_ratio\n",
    "\n",
    "- Test the Elastic Net model and make predictions\n",
    "- Evaluate the RMSE and R2 scores for model performance."
   ]
  },
  {
   "cell_type": "code",
   "execution_count": 236,
   "metadata": {},
   "outputs": [
    {
     "name": "stdout",
     "output_type": "stream",
     "text": [
      "MSE training set 86118.71\n",
      "R squared training set 46.16\n",
      "Root mean Squared Error(RMSE):  293.45989711275564\n"
     ]
    }
   ],
   "source": [
    "# Training data\n",
    "y_train_pred_tuned = elastic_tuned.predict(X_train)\n",
    "mse_train = mean_squared_error(y_train, y_train_pred_tuned)\n",
    "print('MSE training set', round(mse_train, 2))\n",
    "print('R squared training set', round(r2_score(y_train, y_train_pred_tuned)*100,2))\n",
    "print(\"Root mean Squared Error(RMSE): \", np.sqrt(mean_squared_error(y_train, y_train_pred_tuned)))"
   ]
  },
  {
   "cell_type": "code",
   "execution_count": 237,
   "metadata": {},
   "outputs": [
    {
     "name": "stdout",
     "output_type": "stream",
     "text": [
      "MSE test set 114403.03\n",
      "R squared test set 39.3\n",
      "Root mean Squared Error(RMSE):  338.23516319436953\n"
     ]
    }
   ],
   "source": [
    "# Test data\n",
    "y_test_pred_tuned = elastic_tuned.predict(X_test)\n",
    "mse_test = mean_squared_error(y_test, y_test_pred_tuned)\n",
    "print('MSE test set', round(mse_test, 2))\n",
    "print('R squared test set', round(r2_score(y_test, y_test_pred_tuned)*100,2))\n",
    "print(\"Root mean Squared Error(RMSE): \", np.sqrt(mean_squared_error(y_test, y_test_pred_tuned)))"
   ]
  },
  {
   "cell_type": "code",
   "execution_count": 238,
   "metadata": {},
   "outputs": [
    {
     "name": "stdout",
     "output_type": "stream",
     "text": [
      "R squared training set: 46.16\n",
      "R squared test set: 39.3\n"
     ]
    }
   ],
   "source": [
    "# Print R-squared scores for the training and test sets\n",
    "# Another way to get the R-squared scores\n",
    "\n",
    "print('R squared training set:', round(elastic_tuned.score(X_train, y_train) * 100, 2))\n",
    "print('R squared test set:', round(elastic_tuned.score(X_test, y_test) * 100, 2))"
   ]
  },
  {
   "cell_type": "code",
   "execution_count": 239,
   "metadata": {
    "colab": {
     "base_uri": "https://localhost:8080/"
    },
    "id": "abrKl6pshR2q",
    "outputId": "978829b9-4f63-4758-80b5-c821ed4d91e3"
   },
   "outputs": [
    {
     "data": {
      "text/html": [
       "<div>\n",
       "<style scoped>\n",
       "    .dataframe tbody tr th:only-of-type {\n",
       "        vertical-align: middle;\n",
       "    }\n",
       "\n",
       "    .dataframe tbody tr th {\n",
       "        vertical-align: top;\n",
       "    }\n",
       "\n",
       "    .dataframe thead th {\n",
       "        text-align: right;\n",
       "    }\n",
       "</style>\n",
       "<table border=\"1\" class=\"dataframe\">\n",
       "  <thead>\n",
       "    <tr style=\"text-align: right;\">\n",
       "      <th></th>\n",
       "      <th>0</th>\n",
       "    </tr>\n",
       "  </thead>\n",
       "  <tbody>\n",
       "    <tr>\n",
       "      <th>AtBat</th>\n",
       "      <td>-227.585549</td>\n",
       "    </tr>\n",
       "    <tr>\n",
       "      <th>Hits</th>\n",
       "      <td>178.391331</td>\n",
       "    </tr>\n",
       "    <tr>\n",
       "      <th>HmRun</th>\n",
       "      <td>6.397823</td>\n",
       "    </tr>\n",
       "    <tr>\n",
       "      <th>Runs</th>\n",
       "      <td>24.394902</td>\n",
       "    </tr>\n",
       "    <tr>\n",
       "      <th>RBI</th>\n",
       "      <td>16.613592</td>\n",
       "    </tr>\n",
       "    <tr>\n",
       "      <th>Walks</th>\n",
       "      <td>78.937465</td>\n",
       "    </tr>\n",
       "    <tr>\n",
       "      <th>Years</th>\n",
       "      <td>-78.409075</td>\n",
       "    </tr>\n",
       "    <tr>\n",
       "      <th>CAtBat</th>\n",
       "      <td>-62.728112</td>\n",
       "    </tr>\n",
       "    <tr>\n",
       "      <th>CHits</th>\n",
       "      <td>158.845697</td>\n",
       "    </tr>\n",
       "    <tr>\n",
       "      <th>CHmRun</th>\n",
       "      <td>42.906875</td>\n",
       "    </tr>\n",
       "    <tr>\n",
       "      <th>CRuns</th>\n",
       "      <td>147.262779</td>\n",
       "    </tr>\n",
       "    <tr>\n",
       "      <th>CRBI</th>\n",
       "      <td>134.439319</td>\n",
       "    </tr>\n",
       "    <tr>\n",
       "      <th>CWalks</th>\n",
       "      <td>-168.253409</td>\n",
       "    </tr>\n",
       "    <tr>\n",
       "      <th>PutOuts</th>\n",
       "      <td>50.994891</td>\n",
       "    </tr>\n",
       "    <tr>\n",
       "      <th>Assists</th>\n",
       "      <td>38.654512</td>\n",
       "    </tr>\n",
       "    <tr>\n",
       "      <th>Errors</th>\n",
       "      <td>-29.305492</td>\n",
       "    </tr>\n",
       "    <tr>\n",
       "      <th>League_N</th>\n",
       "      <td>37.137138</td>\n",
       "    </tr>\n",
       "    <tr>\n",
       "      <th>Division_W</th>\n",
       "      <td>-119.854355</td>\n",
       "    </tr>\n",
       "    <tr>\n",
       "      <th>NewLeague_N</th>\n",
       "      <td>-11.958422</td>\n",
       "    </tr>\n",
       "  </tbody>\n",
       "</table>\n",
       "</div>"
      ],
      "text/plain": [
       "                      0\n",
       "AtBat       -227.585549\n",
       "Hits         178.391331\n",
       "HmRun          6.397823\n",
       "Runs          24.394902\n",
       "RBI           16.613592\n",
       "Walks         78.937465\n",
       "Years        -78.409075\n",
       "CAtBat       -62.728112\n",
       "CHits        158.845697\n",
       "CHmRun        42.906875\n",
       "CRuns        147.262779\n",
       "CRBI         134.439319\n",
       "CWalks      -168.253409\n",
       "PutOuts       50.994891\n",
       "Assists       38.654512\n",
       "Errors       -29.305492\n",
       "League_N      37.137138\n",
       "Division_W  -119.854355\n",
       "NewLeague_N  -11.958422"
      ]
     },
     "execution_count": 239,
     "metadata": {},
     "output_type": "execute_result"
    }
   ],
   "source": [
    "# Create a Pandas Dataframe of the coefficients from the tuned Elastic Net regression model\n",
    "coefficients = pd.DataFrame(elastic_tuned.coef_, index=X_train.columns)\n",
    "coefficients"
   ]
  },
  {
   "cell_type": "markdown",
   "metadata": {
    "id": "lyZOMCY2Qc2x"
   },
   "source": [
    "## __Model Optimization__"
   ]
  },
  {
   "cell_type": "markdown",
   "metadata": {
    "id": "II-sO6PMp_Ag"
   },
   "source": [
    "### __Hyperparameter tuning__\n",
    "\n",
    "- Hyperparameter tuning is the process of finding the best settings for the parameters in a machine-learning model.\n",
    "- Hyperparameters are settings that are not learned during training but are set before the training process begins.\n",
    "- Hyperparameter tuning involves trying different combinations of hyperparameters and evaluating the model's performance using validation techniques.\n",
    "\n",
    "Some common techniques for Hyperparameter tuning are:\n",
    "\n",
    "1. **Grid Search**: It systematically works through multiple combinations of hyperparameters. It performs an exhaustive search on a specified parameter grid.\n",
    "\n",
    "\n",
    "  * **How it works:**\n",
    "    * Define a Parameter Grid: Specify a set of hyperparameters and their possible values.\n",
    "    * Combination Evaluation: The algorithm evaluates all possible combinations of these hyperparameters.\n",
    "    * Model Training: For each combination, the model is trained and evaluated using cross-validation.\n",
    "    * Optimal Parameters: The combination yielding the best performance (e.g., highest accuracy) is chosen as the optimal set.\n",
    "\n",
    "2. **Random Search:** It explores hyperparameter space by sampling a fixed number of parameter settings from the specified distributions.\n",
    "\n",
    "* **How it works:**\n",
    "  * Define Parameter Distributions: Specify distributions or ranges for the hyperparameters.\n",
    "  * Random Sampling: Randomly sample combinations of hyperparameters from these distributions.\n",
    "  * Model Training: For each sampled combination, the model is trained and evaluated using cross-validation.\n",
    "  * Optimal Parameters: The combination yielding the best performance is chosen as the optimal set."
   ]
  },
  {
   "cell_type": "markdown",
   "metadata": {},
   "source": [
    "### Implementation of Gridsearch Cross validation technique:"
   ]
  },
  {
   "cell_type": "code",
   "execution_count": 243,
   "metadata": {},
   "outputs": [
    {
     "data": {
      "text/html": [
       "<div>\n",
       "<style scoped>\n",
       "    .dataframe tbody tr th:only-of-type {\n",
       "        vertical-align: middle;\n",
       "    }\n",
       "\n",
       "    .dataframe tbody tr th {\n",
       "        vertical-align: top;\n",
       "    }\n",
       "\n",
       "    .dataframe thead th {\n",
       "        text-align: right;\n",
       "    }\n",
       "</style>\n",
       "<table border=\"1\" class=\"dataframe\">\n",
       "  <thead>\n",
       "    <tr style=\"text-align: right;\">\n",
       "      <th></th>\n",
       "      <th>AtBat</th>\n",
       "      <th>Hits</th>\n",
       "      <th>HmRun</th>\n",
       "      <th>Runs</th>\n",
       "      <th>RBI</th>\n",
       "      <th>Walks</th>\n",
       "      <th>Years</th>\n",
       "      <th>CAtBat</th>\n",
       "      <th>CHits</th>\n",
       "      <th>CHmRun</th>\n",
       "      <th>CRuns</th>\n",
       "      <th>CRBI</th>\n",
       "      <th>CWalks</th>\n",
       "      <th>PutOuts</th>\n",
       "      <th>Assists</th>\n",
       "      <th>Errors</th>\n",
       "      <th>League_N</th>\n",
       "      <th>Division_W</th>\n",
       "      <th>NewLeague_N</th>\n",
       "    </tr>\n",
       "  </thead>\n",
       "  <tbody>\n",
       "    <tr>\n",
       "      <th>168</th>\n",
       "      <td>-0.397522</td>\n",
       "      <td>-0.564851</td>\n",
       "      <td>-0.670974</td>\n",
       "      <td>-1.052955</td>\n",
       "      <td>-0.393382</td>\n",
       "      <td>-1.060741</td>\n",
       "      <td>-0.684910</td>\n",
       "      <td>-0.924502</td>\n",
       "      <td>-0.910332</td>\n",
       "      <td>-0.729716</td>\n",
       "      <td>-0.936501</td>\n",
       "      <td>-0.847742</td>\n",
       "      <td>-0.856822</td>\n",
       "      <td>-0.210356</td>\n",
       "      <td>-0.654364</td>\n",
       "      <td>-0.777869</td>\n",
       "      <td>0</td>\n",
       "      <td>1</td>\n",
       "      <td>0</td>\n",
       "    </tr>\n",
       "    <tr>\n",
       "      <th>148</th>\n",
       "      <td>0.780435</td>\n",
       "      <td>0.791703</td>\n",
       "      <td>-0.437296</td>\n",
       "      <td>0.306138</td>\n",
       "      <td>-0.355490</td>\n",
       "      <td>-0.584603</td>\n",
       "      <td>0.768478</td>\n",
       "      <td>0.560523</td>\n",
       "      <td>0.571824</td>\n",
       "      <td>-0.332183</td>\n",
       "      <td>0.302385</td>\n",
       "      <td>0.145025</td>\n",
       "      <td>-0.052093</td>\n",
       "      <td>0.071044</td>\n",
       "      <td>1.831723</td>\n",
       "      <td>0.315685</td>\n",
       "      <td>0</td>\n",
       "      <td>0</td>\n",
       "      <td>0</td>\n",
       "    </tr>\n",
       "    <tr>\n",
       "      <th>221</th>\n",
       "      <td>1.291745</td>\n",
       "      <td>1.459214</td>\n",
       "      <td>-0.320458</td>\n",
       "      <td>1.509906</td>\n",
       "      <td>0.061319</td>\n",
       "      <td>0.891425</td>\n",
       "      <td>-0.684910</td>\n",
       "      <td>-0.763020</td>\n",
       "      <td>-0.718487</td>\n",
       "      <td>-0.577718</td>\n",
       "      <td>-0.653843</td>\n",
       "      <td>-0.733311</td>\n",
       "      <td>-0.664141</td>\n",
       "      <td>0.147789</td>\n",
       "      <td>-0.676829</td>\n",
       "      <td>0.003241</td>\n",
       "      <td>1</td>\n",
       "      <td>0</td>\n",
       "      <td>1</td>\n",
       "    </tr>\n",
       "    <tr>\n",
       "      <th>227</th>\n",
       "      <td>1.265856</td>\n",
       "      <td>1.136225</td>\n",
       "      <td>0.847928</td>\n",
       "      <td>2.131206</td>\n",
       "      <td>0.061319</td>\n",
       "      <td>1.272336</td>\n",
       "      <td>-1.100164</td>\n",
       "      <td>-0.695302</td>\n",
       "      <td>-0.692186</td>\n",
       "      <td>-0.378952</td>\n",
       "      <td>-0.545591</td>\n",
       "      <td>-0.708569</td>\n",
       "      <td>-0.581023</td>\n",
       "      <td>0.147789</td>\n",
       "      <td>-0.669341</td>\n",
       "      <td>-0.777869</td>\n",
       "      <td>0</td>\n",
       "      <td>1</td>\n",
       "      <td>0</td>\n",
       "    </tr>\n",
       "    <tr>\n",
       "      <th>139</th>\n",
       "      <td>0.398569</td>\n",
       "      <td>0.081127</td>\n",
       "      <td>-1.021489</td>\n",
       "      <td>0.577957</td>\n",
       "      <td>-0.582840</td>\n",
       "      <td>1.558019</td>\n",
       "      <td>-1.100164</td>\n",
       "      <td>-0.928843</td>\n",
       "      <td>-0.918067</td>\n",
       "      <td>-0.776484</td>\n",
       "      <td>-0.849298</td>\n",
       "      <td>-0.891040</td>\n",
       "      <td>-0.694365</td>\n",
       "      <td>-0.031284</td>\n",
       "      <td>-0.714270</td>\n",
       "      <td>0.159463</td>\n",
       "      <td>0</td>\n",
       "      <td>1</td>\n",
       "      <td>1</td>\n",
       "    </tr>\n",
       "  </tbody>\n",
       "</table>\n",
       "</div>"
      ],
      "text/plain": [
       "        AtBat      Hits     HmRun      Runs       RBI     Walks     Years  \\\n",
       "168 -0.397522 -0.564851 -0.670974 -1.052955 -0.393382 -1.060741 -0.684910   \n",
       "148  0.780435  0.791703 -0.437296  0.306138 -0.355490 -0.584603  0.768478   \n",
       "221  1.291745  1.459214 -0.320458  1.509906  0.061319  0.891425 -0.684910   \n",
       "227  1.265856  1.136225  0.847928  2.131206  0.061319  1.272336 -1.100164   \n",
       "139  0.398569  0.081127 -1.021489  0.577957 -0.582840  1.558019 -1.100164   \n",
       "\n",
       "       CAtBat     CHits    CHmRun     CRuns      CRBI    CWalks   PutOuts  \\\n",
       "168 -0.924502 -0.910332 -0.729716 -0.936501 -0.847742 -0.856822 -0.210356   \n",
       "148  0.560523  0.571824 -0.332183  0.302385  0.145025 -0.052093  0.071044   \n",
       "221 -0.763020 -0.718487 -0.577718 -0.653843 -0.733311 -0.664141  0.147789   \n",
       "227 -0.695302 -0.692186 -0.378952 -0.545591 -0.708569 -0.581023  0.147789   \n",
       "139 -0.928843 -0.918067 -0.776484 -0.849298 -0.891040 -0.694365 -0.031284   \n",
       "\n",
       "      Assists    Errors  League_N  Division_W  NewLeague_N  \n",
       "168 -0.654364 -0.777869         0           1            0  \n",
       "148  1.831723  0.315685         0           0            0  \n",
       "221 -0.676829  0.003241         1           0            1  \n",
       "227 -0.669341 -0.777869         0           1            0  \n",
       "139 -0.714270  0.159463         0           1            1  "
      ]
     },
     "execution_count": 243,
     "metadata": {},
     "output_type": "execute_result"
    }
   ],
   "source": [
    "X_train[:5]"
   ]
  },
  {
   "cell_type": "code",
   "execution_count": 244,
   "metadata": {},
   "outputs": [
    {
     "data": {
      "text/plain": [
       "168    110.0\n",
       "148    850.0\n",
       "221    210.0\n",
       "227    200.0\n",
       "139    100.0\n",
       "Name: Salary, dtype: float64"
      ]
     },
     "execution_count": 244,
     "metadata": {},
     "output_type": "execute_result"
    }
   ],
   "source": [
    "y_train[:5]"
   ]
  },
  {
   "cell_type": "code",
   "execution_count": 245,
   "metadata": {
    "colab": {
     "base_uri": "https://localhost:8080/"
    },
    "id": "86UAaDQ02Wpo",
    "outputId": "279f0252-ee6a-4b4f-c406-bf2584b11921"
   },
   "outputs": [],
   "source": [
    "# Import the necessary classes from scikit-learn\n",
    "from sklearn.model_selection import GridSearchCV"
   ]
  },
  {
   "cell_type": "code",
   "execution_count": 246,
   "metadata": {},
   "outputs": [
    {
     "data": {
      "text/plain": [
       "{'alpha': array([0. , 0.1, 0.2, 0.3, 0.4, 0.5, 0.6, 0.7, 0.8, 0.9])}"
      ]
     },
     "execution_count": 246,
     "metadata": {},
     "output_type": "execute_result"
    }
   ],
   "source": [
    "# Create a repeated K-fold cross-validator\n",
    "cv = RepeatedKFold(n_splits = 10, n_repeats = 2, random_state = 1)\n",
    "\n",
    "# Define the grid of hyperparameters to search\n",
    "grid = dict()\n",
    "# grid['alpha'] = np.arange(0,1,0.01)\n",
    "grid['alpha'] = np.arange(0,1,0.1)\n",
    "grid\n"
   ]
  },
  {
   "cell_type": "code",
   "execution_count": 280,
   "metadata": {},
   "outputs": [],
   "source": [
    "# Create an instance of the Ridge regression model\n",
    "model = Ridge()"
   ]
  },
  {
   "cell_type": "code",
   "execution_count": 282,
   "metadata": {},
   "outputs": [],
   "source": [
    "# Create the GridSearchCV object\n",
    "\n",
    "search = GridSearchCV(model, grid, scoring = 'neg_mean_absolute_error',cv = cv, n_jobs= -1)"
   ]
  },
  {
   "cell_type": "code",
   "execution_count": 284,
   "metadata": {},
   "outputs": [
    {
     "name": "stdout",
     "output_type": "stream",
     "text": [
      "MAE: -238.403\n",
      "Config: {'alpha': 0.9}\n"
     ]
    }
   ],
   "source": [
    "# Fit the GridSearchCV object to the training data\n",
    "\n",
    "results = search.fit(X_train, y_train)\n",
    "\n",
    "print('MAE: %.3f' % results.best_score_)\n",
    "print('Config: %s' % results.best_params_)"
   ]
  },
  {
   "cell_type": "code",
   "execution_count": 286,
   "metadata": {},
   "outputs": [
    {
     "data": {
      "text/html": [
       "<div>\n",
       "<style scoped>\n",
       "    .dataframe tbody tr th:only-of-type {\n",
       "        vertical-align: middle;\n",
       "    }\n",
       "\n",
       "    .dataframe tbody tr th {\n",
       "        vertical-align: top;\n",
       "    }\n",
       "\n",
       "    .dataframe thead th {\n",
       "        text-align: right;\n",
       "    }\n",
       "</style>\n",
       "<table border=\"1\" class=\"dataframe\">\n",
       "  <thead>\n",
       "    <tr style=\"text-align: right;\">\n",
       "      <th></th>\n",
       "      <th>mean_fit_time</th>\n",
       "      <th>std_fit_time</th>\n",
       "      <th>mean_score_time</th>\n",
       "      <th>std_score_time</th>\n",
       "      <th>param_alpha</th>\n",
       "      <th>params</th>\n",
       "      <th>split0_test_score</th>\n",
       "      <th>split1_test_score</th>\n",
       "      <th>split2_test_score</th>\n",
       "      <th>split3_test_score</th>\n",
       "      <th>...</th>\n",
       "      <th>split13_test_score</th>\n",
       "      <th>split14_test_score</th>\n",
       "      <th>split15_test_score</th>\n",
       "      <th>split16_test_score</th>\n",
       "      <th>split17_test_score</th>\n",
       "      <th>split18_test_score</th>\n",
       "      <th>split19_test_score</th>\n",
       "      <th>mean_test_score</th>\n",
       "      <th>std_test_score</th>\n",
       "      <th>rank_test_score</th>\n",
       "    </tr>\n",
       "  </thead>\n",
       "  <tbody>\n",
       "    <tr>\n",
       "      <th>0</th>\n",
       "      <td>0.005906</td>\n",
       "      <td>0.004505</td>\n",
       "      <td>0.001777</td>\n",
       "      <td>0.000957</td>\n",
       "      <td>0.0</td>\n",
       "      <td>{'alpha': 0.0}</td>\n",
       "      <td>-182.714448</td>\n",
       "      <td>-218.161724</td>\n",
       "      <td>-251.155563</td>\n",
       "      <td>-230.926764</td>\n",
       "      <td>...</td>\n",
       "      <td>-255.003649</td>\n",
       "      <td>-298.910271</td>\n",
       "      <td>-254.086838</td>\n",
       "      <td>-217.252520</td>\n",
       "      <td>-219.584616</td>\n",
       "      <td>-255.797604</td>\n",
       "      <td>-188.255095</td>\n",
       "      <td>-241.979325</td>\n",
       "      <td>32.805775</td>\n",
       "      <td>10</td>\n",
       "    </tr>\n",
       "    <tr>\n",
       "      <th>1</th>\n",
       "      <td>0.002050</td>\n",
       "      <td>0.000827</td>\n",
       "      <td>0.001103</td>\n",
       "      <td>0.000562</td>\n",
       "      <td>0.1</td>\n",
       "      <td>{'alpha': 0.1}</td>\n",
       "      <td>-181.299242</td>\n",
       "      <td>-218.693883</td>\n",
       "      <td>-252.390835</td>\n",
       "      <td>-228.137010</td>\n",
       "      <td>...</td>\n",
       "      <td>-254.308744</td>\n",
       "      <td>-295.176099</td>\n",
       "      <td>-254.122159</td>\n",
       "      <td>-216.088780</td>\n",
       "      <td>-218.179958</td>\n",
       "      <td>-251.525771</td>\n",
       "      <td>-189.213520</td>\n",
       "      <td>-240.765787</td>\n",
       "      <td>32.557194</td>\n",
       "      <td>9</td>\n",
       "    </tr>\n",
       "    <tr>\n",
       "      <th>2</th>\n",
       "      <td>0.001263</td>\n",
       "      <td>0.000538</td>\n",
       "      <td>0.000614</td>\n",
       "      <td>0.000203</td>\n",
       "      <td>0.2</td>\n",
       "      <td>{'alpha': 0.2}</td>\n",
       "      <td>-179.968832</td>\n",
       "      <td>-219.003483</td>\n",
       "      <td>-253.410569</td>\n",
       "      <td>-226.316967</td>\n",
       "      <td>...</td>\n",
       "      <td>-253.698592</td>\n",
       "      <td>-292.889203</td>\n",
       "      <td>-254.384625</td>\n",
       "      <td>-215.041856</td>\n",
       "      <td>-216.920291</td>\n",
       "      <td>-249.364984</td>\n",
       "      <td>-190.106914</td>\n",
       "      <td>-239.994086</td>\n",
       "      <td>32.496758</td>\n",
       "      <td>8</td>\n",
       "    </tr>\n",
       "    <tr>\n",
       "      <th>3</th>\n",
       "      <td>0.001508</td>\n",
       "      <td>0.000898</td>\n",
       "      <td>0.000651</td>\n",
       "      <td>0.000206</td>\n",
       "      <td>0.3</td>\n",
       "      <td>{'alpha': 0.30000000000000004}</td>\n",
       "      <td>-178.727462</td>\n",
       "      <td>-219.182664</td>\n",
       "      <td>-254.286219</td>\n",
       "      <td>-224.997379</td>\n",
       "      <td>...</td>\n",
       "      <td>-253.290245</td>\n",
       "      <td>-291.289668</td>\n",
       "      <td>-254.728363</td>\n",
       "      <td>-214.101980</td>\n",
       "      <td>-215.773984</td>\n",
       "      <td>-248.783236</td>\n",
       "      <td>-190.850140</td>\n",
       "      <td>-239.553874</td>\n",
       "      <td>32.644774</td>\n",
       "      <td>7</td>\n",
       "    </tr>\n",
       "    <tr>\n",
       "      <th>4</th>\n",
       "      <td>0.001668</td>\n",
       "      <td>0.000965</td>\n",
       "      <td>0.000708</td>\n",
       "      <td>0.000302</td>\n",
       "      <td>0.4</td>\n",
       "      <td>{'alpha': 0.4}</td>\n",
       "      <td>-177.567631</td>\n",
       "      <td>-219.277299</td>\n",
       "      <td>-255.056581</td>\n",
       "      <td>-223.975230</td>\n",
       "      <td>...</td>\n",
       "      <td>-253.129842</td>\n",
       "      <td>-290.076623</td>\n",
       "      <td>-255.098234</td>\n",
       "      <td>-213.253950</td>\n",
       "      <td>-214.718384</td>\n",
       "      <td>-249.008408</td>\n",
       "      <td>-191.482868</td>\n",
       "      <td>-239.261682</td>\n",
       "      <td>32.804942</td>\n",
       "      <td>6</td>\n",
       "    </tr>\n",
       "    <tr>\n",
       "      <th>5</th>\n",
       "      <td>0.001681</td>\n",
       "      <td>0.000830</td>\n",
       "      <td>0.000869</td>\n",
       "      <td>0.000431</td>\n",
       "      <td>0.5</td>\n",
       "      <td>{'alpha': 0.5}</td>\n",
       "      <td>-176.480082</td>\n",
       "      <td>-219.313885</td>\n",
       "      <td>-255.745781</td>\n",
       "      <td>-223.147072</td>\n",
       "      <td>...</td>\n",
       "      <td>-253.003866</td>\n",
       "      <td>-289.105359</td>\n",
       "      <td>-255.470606</td>\n",
       "      <td>-212.483787</td>\n",
       "      <td>-213.994359</td>\n",
       "      <td>-249.226126</td>\n",
       "      <td>-192.031221</td>\n",
       "      <td>-239.028728</td>\n",
       "      <td>32.962523</td>\n",
       "      <td>5</td>\n",
       "    </tr>\n",
       "    <tr>\n",
       "      <th>6</th>\n",
       "      <td>0.002093</td>\n",
       "      <td>0.000996</td>\n",
       "      <td>0.001109</td>\n",
       "      <td>0.000574</td>\n",
       "      <td>0.6</td>\n",
       "      <td>{'alpha': 0.6000000000000001}</td>\n",
       "      <td>-175.456234</td>\n",
       "      <td>-219.309157</td>\n",
       "      <td>-256.370088</td>\n",
       "      <td>-222.454020</td>\n",
       "      <td>...</td>\n",
       "      <td>-252.907940</td>\n",
       "      <td>-288.296879</td>\n",
       "      <td>-255.834696</td>\n",
       "      <td>-211.779812</td>\n",
       "      <td>-213.348537</td>\n",
       "      <td>-249.429219</td>\n",
       "      <td>-192.513345</td>\n",
       "      <td>-238.833902</td>\n",
       "      <td>33.125894</td>\n",
       "      <td>4</td>\n",
       "    </tr>\n",
       "    <tr>\n",
       "      <th>7</th>\n",
       "      <td>0.001827</td>\n",
       "      <td>0.001067</td>\n",
       "      <td>0.000978</td>\n",
       "      <td>0.000554</td>\n",
       "      <td>0.7</td>\n",
       "      <td>{'alpha': 0.7000000000000001}</td>\n",
       "      <td>-174.488680</td>\n",
       "      <td>-219.274328</td>\n",
       "      <td>-256.941083</td>\n",
       "      <td>-221.859760</td>\n",
       "      <td>...</td>\n",
       "      <td>-252.837582</td>\n",
       "      <td>-287.604038</td>\n",
       "      <td>-256.185549</td>\n",
       "      <td>-211.132512</td>\n",
       "      <td>-212.718357</td>\n",
       "      <td>-249.616187</td>\n",
       "      <td>-192.942323</td>\n",
       "      <td>-238.659917</td>\n",
       "      <td>33.288611</td>\n",
       "      <td>3</td>\n",
       "    </tr>\n",
       "    <tr>\n",
       "      <th>8</th>\n",
       "      <td>0.001388</td>\n",
       "      <td>0.000740</td>\n",
       "      <td>0.000771</td>\n",
       "      <td>0.000341</td>\n",
       "      <td>0.8</td>\n",
       "      <td>{'alpha': 0.8}</td>\n",
       "      <td>-173.571161</td>\n",
       "      <td>-219.217224</td>\n",
       "      <td>-257.520301</td>\n",
       "      <td>-221.638873</td>\n",
       "      <td>...</td>\n",
       "      <td>-252.788762</td>\n",
       "      <td>-286.996775</td>\n",
       "      <td>-256.521036</td>\n",
       "      <td>-210.534153</td>\n",
       "      <td>-212.103434</td>\n",
       "      <td>-249.787660</td>\n",
       "      <td>-193.327871</td>\n",
       "      <td>-238.522483</td>\n",
       "      <td>33.440259</td>\n",
       "      <td>2</td>\n",
       "    </tr>\n",
       "    <tr>\n",
       "      <th>9</th>\n",
       "      <td>0.001422</td>\n",
       "      <td>0.000239</td>\n",
       "      <td>0.000702</td>\n",
       "      <td>0.000207</td>\n",
       "      <td>0.9</td>\n",
       "      <td>{'alpha': 0.9}</td>\n",
       "      <td>-172.698404</td>\n",
       "      <td>-219.143477</td>\n",
       "      <td>-258.137402</td>\n",
       "      <td>-221.452446</td>\n",
       "      <td>...</td>\n",
       "      <td>-252.758025</td>\n",
       "      <td>-286.454926</td>\n",
       "      <td>-256.840462</td>\n",
       "      <td>-209.978424</td>\n",
       "      <td>-211.503341</td>\n",
       "      <td>-249.945014</td>\n",
       "      <td>-193.677375</td>\n",
       "      <td>-238.403154</td>\n",
       "      <td>33.589010</td>\n",
       "      <td>1</td>\n",
       "    </tr>\n",
       "  </tbody>\n",
       "</table>\n",
       "<p>10 rows × 29 columns</p>\n",
       "</div>"
      ],
      "text/plain": [
       "   mean_fit_time  std_fit_time  mean_score_time  std_score_time  param_alpha  \\\n",
       "0       0.005906      0.004505         0.001777        0.000957          0.0   \n",
       "1       0.002050      0.000827         0.001103        0.000562          0.1   \n",
       "2       0.001263      0.000538         0.000614        0.000203          0.2   \n",
       "3       0.001508      0.000898         0.000651        0.000206          0.3   \n",
       "4       0.001668      0.000965         0.000708        0.000302          0.4   \n",
       "5       0.001681      0.000830         0.000869        0.000431          0.5   \n",
       "6       0.002093      0.000996         0.001109        0.000574          0.6   \n",
       "7       0.001827      0.001067         0.000978        0.000554          0.7   \n",
       "8       0.001388      0.000740         0.000771        0.000341          0.8   \n",
       "9       0.001422      0.000239         0.000702        0.000207          0.9   \n",
       "\n",
       "                           params  split0_test_score  split1_test_score  \\\n",
       "0                  {'alpha': 0.0}        -182.714448        -218.161724   \n",
       "1                  {'alpha': 0.1}        -181.299242        -218.693883   \n",
       "2                  {'alpha': 0.2}        -179.968832        -219.003483   \n",
       "3  {'alpha': 0.30000000000000004}        -178.727462        -219.182664   \n",
       "4                  {'alpha': 0.4}        -177.567631        -219.277299   \n",
       "5                  {'alpha': 0.5}        -176.480082        -219.313885   \n",
       "6   {'alpha': 0.6000000000000001}        -175.456234        -219.309157   \n",
       "7   {'alpha': 0.7000000000000001}        -174.488680        -219.274328   \n",
       "8                  {'alpha': 0.8}        -173.571161        -219.217224   \n",
       "9                  {'alpha': 0.9}        -172.698404        -219.143477   \n",
       "\n",
       "   split2_test_score  split3_test_score  ...  split13_test_score  \\\n",
       "0        -251.155563        -230.926764  ...         -255.003649   \n",
       "1        -252.390835        -228.137010  ...         -254.308744   \n",
       "2        -253.410569        -226.316967  ...         -253.698592   \n",
       "3        -254.286219        -224.997379  ...         -253.290245   \n",
       "4        -255.056581        -223.975230  ...         -253.129842   \n",
       "5        -255.745781        -223.147072  ...         -253.003866   \n",
       "6        -256.370088        -222.454020  ...         -252.907940   \n",
       "7        -256.941083        -221.859760  ...         -252.837582   \n",
       "8        -257.520301        -221.638873  ...         -252.788762   \n",
       "9        -258.137402        -221.452446  ...         -252.758025   \n",
       "\n",
       "   split14_test_score  split15_test_score  split16_test_score  \\\n",
       "0         -298.910271         -254.086838         -217.252520   \n",
       "1         -295.176099         -254.122159         -216.088780   \n",
       "2         -292.889203         -254.384625         -215.041856   \n",
       "3         -291.289668         -254.728363         -214.101980   \n",
       "4         -290.076623         -255.098234         -213.253950   \n",
       "5         -289.105359         -255.470606         -212.483787   \n",
       "6         -288.296879         -255.834696         -211.779812   \n",
       "7         -287.604038         -256.185549         -211.132512   \n",
       "8         -286.996775         -256.521036         -210.534153   \n",
       "9         -286.454926         -256.840462         -209.978424   \n",
       "\n",
       "   split17_test_score  split18_test_score  split19_test_score  \\\n",
       "0         -219.584616         -255.797604         -188.255095   \n",
       "1         -218.179958         -251.525771         -189.213520   \n",
       "2         -216.920291         -249.364984         -190.106914   \n",
       "3         -215.773984         -248.783236         -190.850140   \n",
       "4         -214.718384         -249.008408         -191.482868   \n",
       "5         -213.994359         -249.226126         -192.031221   \n",
       "6         -213.348537         -249.429219         -192.513345   \n",
       "7         -212.718357         -249.616187         -192.942323   \n",
       "8         -212.103434         -249.787660         -193.327871   \n",
       "9         -211.503341         -249.945014         -193.677375   \n",
       "\n",
       "   mean_test_score  std_test_score  rank_test_score  \n",
       "0      -241.979325       32.805775               10  \n",
       "1      -240.765787       32.557194                9  \n",
       "2      -239.994086       32.496758                8  \n",
       "3      -239.553874       32.644774                7  \n",
       "4      -239.261682       32.804942                6  \n",
       "5      -239.028728       32.962523                5  \n",
       "6      -238.833902       33.125894                4  \n",
       "7      -238.659917       33.288611                3  \n",
       "8      -238.522483       33.440259                2  \n",
       "9      -238.403154       33.589010                1  \n",
       "\n",
       "[10 rows x 29 columns]"
      ]
     },
     "execution_count": 286,
     "metadata": {},
     "output_type": "execute_result"
    }
   ],
   "source": [
    "df1 = pd.DataFrame(search.cv_results_)\n",
    "df1"
   ]
  },
  {
   "cell_type": "markdown",
   "metadata": {
    "id": "3RBzrRZs2lnx"
   },
   "source": [
    "__Observation:__\n",
    "\n",
    "- As you can see from the output, the Mean Absolute Error, and the configuration fusion alpha is **0.9**."
   ]
  },
  {
   "cell_type": "markdown",
   "metadata": {
    "id": "Y4HQ3wAO2pQF"
   },
   "source": [
    "**Next Steps:** Model Evaluation with the best alpha obtained above.\n",
    "\n",
    "- Let's try this with alpha points and predict it."
   ]
  },
  {
   "cell_type": "code",
   "execution_count": 252,
   "metadata": {
    "colab": {
     "base_uri": "https://localhost:8080/"
    },
    "id": "t15x-HlZ1xGh",
    "outputId": "24dd0da9-4428-44a8-8149-c29b3f083c46"
   },
   "outputs": [
    {
     "data": {
      "text/plain": [
       "0.9"
      ]
     },
     "execution_count": 252,
     "metadata": {},
     "output_type": "execute_result"
    }
   ],
   "source": [
    "# Fetch the value from the key value pair in the dictionary, results\n",
    "results.best_params_.get('alpha')"
   ]
  },
  {
   "cell_type": "code",
   "execution_count": 253,
   "metadata": {
    "colab": {
     "base_uri": "https://localhost:8080/"
    },
    "id": "OIlZePAk2uqN",
    "outputId": "3668b278-76fc-4288-a4bb-4a25cfd728ee"
   },
   "outputs": [
    {
     "data": {
      "text/plain": [
       "341.8763639660759"
      ]
     },
     "execution_count": 253,
     "metadata": {},
     "output_type": "execute_result"
    }
   ],
   "source": [
    "# Create and fit the Ridge regression model to the training data with the optimal alpha\n",
    "\n",
    "ridge_model_after_gridcv = Ridge(alpha = results.best_params_.get('alpha')).fit(X_train, y_train)\n",
    "\n",
    "y_test_pred_after_gridcv = ridge_model_after_gridcv.predict(X_test)\n",
    "\n",
    "rmse_test = np.sqrt(mean_squared_error(y_test, y_test_pred_after_gridcv))\n",
    "rmse_test"
   ]
  },
  {
   "cell_type": "code",
   "execution_count": 254,
   "metadata": {
    "colab": {
     "base_uri": "https://localhost:8080/"
    },
    "id": "9kpfJROH25BR",
    "outputId": "b05bc665-815b-45e2-f51e-e31fa2196192"
   },
   "outputs": [
    {
     "data": {
      "text/plain": [
       "0.3798224478702297"
      ]
     },
     "execution_count": 254,
     "metadata": {},
     "output_type": "execute_result"
    }
   ],
   "source": [
    "# Get the r2 score\n",
    "r2_score_test = r2_score(y_test,y_test_pred_after_gridcv)\n",
    "r2_score_test"
   ]
  },
  {
   "cell_type": "markdown",
   "metadata": {
    "id": "BT2VYAba2-Zl"
   },
   "source": [
    "__Observation:__\n",
    "- The r2 score is 0.38. It suggests a moderate fit. The model captures some of the variability in the data but not a large portion."
   ]
  },
  {
   "cell_type": "markdown",
   "metadata": {
    "id": "KJIgHdrb3B5k"
   },
   "source": [
    "- Let's check the coefficient of the ridge regression."
   ]
  },
  {
   "cell_type": "code",
   "execution_count": 257,
   "metadata": {
    "colab": {
     "base_uri": "https://localhost:8080/"
    },
    "id": "xbjpwKgd3GZp",
    "outputId": "bc3e97e9-77d7-4a23-fdca-e0c2e9f7bb53"
   },
   "outputs": [
    {
     "data": {
      "text/html": [
       "<div>\n",
       "<style scoped>\n",
       "    .dataframe tbody tr th:only-of-type {\n",
       "        vertical-align: middle;\n",
       "    }\n",
       "\n",
       "    .dataframe tbody tr th {\n",
       "        vertical-align: top;\n",
       "    }\n",
       "\n",
       "    .dataframe thead th {\n",
       "        text-align: right;\n",
       "    }\n",
       "</style>\n",
       "<table border=\"1\" class=\"dataframe\">\n",
       "  <thead>\n",
       "    <tr style=\"text-align: right;\">\n",
       "      <th></th>\n",
       "      <th>0</th>\n",
       "    </tr>\n",
       "  </thead>\n",
       "  <tbody>\n",
       "    <tr>\n",
       "      <th>AtBat</th>\n",
       "      <td>-301.940590</td>\n",
       "    </tr>\n",
       "    <tr>\n",
       "      <th>Hits</th>\n",
       "      <td>250.000657</td>\n",
       "    </tr>\n",
       "    <tr>\n",
       "      <th>HmRun</th>\n",
       "      <td>27.368934</td>\n",
       "    </tr>\n",
       "    <tr>\n",
       "      <th>Runs</th>\n",
       "      <td>7.101426</td>\n",
       "    </tr>\n",
       "    <tr>\n",
       "      <th>RBI</th>\n",
       "      <td>-6.000930</td>\n",
       "    </tr>\n",
       "    <tr>\n",
       "      <th>Walks</th>\n",
       "      <td>99.030120</td>\n",
       "    </tr>\n",
       "    <tr>\n",
       "      <th>Years</th>\n",
       "      <td>-72.603088</td>\n",
       "    </tr>\n",
       "    <tr>\n",
       "      <th>CAtBat</th>\n",
       "      <td>-221.067417</td>\n",
       "    </tr>\n",
       "    <tr>\n",
       "      <th>CHits</th>\n",
       "      <td>225.900021</td>\n",
       "    </tr>\n",
       "    <tr>\n",
       "      <th>CHmRun</th>\n",
       "      <td>22.855480</td>\n",
       "    </tr>\n",
       "    <tr>\n",
       "      <th>CRuns</th>\n",
       "      <td>237.607797</td>\n",
       "    </tr>\n",
       "    <tr>\n",
       "      <th>CRBI</th>\n",
       "      <td>193.577140</td>\n",
       "    </tr>\n",
       "    <tr>\n",
       "      <th>CWalks</th>\n",
       "      <td>-213.804271</td>\n",
       "    </tr>\n",
       "    <tr>\n",
       "      <th>PutOuts</th>\n",
       "      <td>51.080832</td>\n",
       "    </tr>\n",
       "    <tr>\n",
       "      <th>Assists</th>\n",
       "      <td>47.120753</td>\n",
       "    </tr>\n",
       "    <tr>\n",
       "      <th>Errors</th>\n",
       "      <td>-27.541072</td>\n",
       "    </tr>\n",
       "    <tr>\n",
       "      <th>League_N</th>\n",
       "      <td>43.413579</td>\n",
       "    </tr>\n",
       "    <tr>\n",
       "      <th>Division_W</th>\n",
       "      <td>-120.095472</td>\n",
       "    </tr>\n",
       "    <tr>\n",
       "      <th>NewLeague_N</th>\n",
       "      <td>-17.822759</td>\n",
       "    </tr>\n",
       "  </tbody>\n",
       "</table>\n",
       "</div>"
      ],
      "text/plain": [
       "                      0\n",
       "AtBat       -301.940590\n",
       "Hits         250.000657\n",
       "HmRun         27.368934\n",
       "Runs           7.101426\n",
       "RBI           -6.000930\n",
       "Walks         99.030120\n",
       "Years        -72.603088\n",
       "CAtBat      -221.067417\n",
       "CHits        225.900021\n",
       "CHmRun        22.855480\n",
       "CRuns        237.607797\n",
       "CRBI         193.577140\n",
       "CWalks      -213.804271\n",
       "PutOuts       51.080832\n",
       "Assists       47.120753\n",
       "Errors       -27.541072\n",
       "League_N      43.413579\n",
       "Division_W  -120.095472\n",
       "NewLeague_N  -17.822759"
      ]
     },
     "execution_count": 257,
     "metadata": {},
     "output_type": "execute_result"
    }
   ],
   "source": [
    "# Create a Pandas Dataframe of the coefficients from the fitted Ridge regression model\n",
    "pd.DataFrame(ridge_model_after_gridcv.coef_, index = X_train.columns)"
   ]
  },
  {
   "cell_type": "markdown",
   "metadata": {
    "id": "YuGWJq-H3xRH"
   },
   "source": [
    "__Observation:__\n",
    "\n",
    "- Penalization has occurred, as you can see in the negative values."
   ]
  },
  {
   "cell_type": "markdown",
   "metadata": {},
   "source": [
    "### Implementation of RandomSearch Cross validation technique:"
   ]
  },
  {
   "cell_type": "code",
   "execution_count": 320,
   "metadata": {},
   "outputs": [],
   "source": [
    "# Import the necessary classes from scikit-learn\n",
    "from sklearn.model_selection import RandomizedSearchCV"
   ]
  },
  {
   "cell_type": "code",
   "execution_count": 352,
   "metadata": {},
   "outputs": [],
   "source": [
    "# Create a repeated K-fold cross-validator\n",
    "cv = RepeatedKFold(n_splits = 10, n_repeats = 3, random_state = 1)\n",
    "\n",
    "# Define the random search hyperparameters\n",
    "param_distributions = {\n",
    "    'alpha': np.arange(0,1,0.1)\n",
    "}"
   ]
  },
  {
   "cell_type": "code",
   "execution_count": 396,
   "metadata": {},
   "outputs": [],
   "source": [
    "# Create the RandomizedSearchCV object\n",
    "# passing the seed as random_state will not produce random results\n",
    "\n",
    "random_search = RandomizedSearchCV(estimator = model,\n",
    "                                   param_distributions = param_distributions,\n",
    "                                   n_iter = 5,\n",
    "                                   cv = cv,\n",
    "                                   scoring = 'neg_mean_absolute_error')"
   ]
  },
  {
   "cell_type": "code",
   "execution_count": 398,
   "metadata": {},
   "outputs": [
    {
     "name": "stdout",
     "output_type": "stream",
     "text": [
      "MAE: -238.426\n",
      "Config: {'alpha': 0.8}\n"
     ]
    }
   ],
   "source": [
    "# Fit the RandomizedSearchCV object to the training data\n",
    "\n",
    "results = random_search.fit(X_train, y_train)\n",
    "print('MAE: %.3f' % results.best_score_)\n",
    "print('Config: %s' % results.best_params_)"
   ]
  },
  {
   "cell_type": "code",
   "execution_count": 399,
   "metadata": {},
   "outputs": [
    {
     "data": {
      "text/html": [
       "<div>\n",
       "<style scoped>\n",
       "    .dataframe tbody tr th:only-of-type {\n",
       "        vertical-align: middle;\n",
       "    }\n",
       "\n",
       "    .dataframe tbody tr th {\n",
       "        vertical-align: top;\n",
       "    }\n",
       "\n",
       "    .dataframe thead th {\n",
       "        text-align: right;\n",
       "    }\n",
       "</style>\n",
       "<table border=\"1\" class=\"dataframe\">\n",
       "  <thead>\n",
       "    <tr style=\"text-align: right;\">\n",
       "      <th></th>\n",
       "      <th>mean_fit_time</th>\n",
       "      <th>std_fit_time</th>\n",
       "      <th>mean_score_time</th>\n",
       "      <th>std_score_time</th>\n",
       "      <th>param_alpha</th>\n",
       "      <th>params</th>\n",
       "      <th>split0_test_score</th>\n",
       "      <th>split1_test_score</th>\n",
       "      <th>split2_test_score</th>\n",
       "      <th>split3_test_score</th>\n",
       "      <th>...</th>\n",
       "      <th>split23_test_score</th>\n",
       "      <th>split24_test_score</th>\n",
       "      <th>split25_test_score</th>\n",
       "      <th>split26_test_score</th>\n",
       "      <th>split27_test_score</th>\n",
       "      <th>split28_test_score</th>\n",
       "      <th>split29_test_score</th>\n",
       "      <th>mean_test_score</th>\n",
       "      <th>std_test_score</th>\n",
       "      <th>rank_test_score</th>\n",
       "    </tr>\n",
       "  </thead>\n",
       "  <tbody>\n",
       "    <tr>\n",
       "      <th>0</th>\n",
       "      <td>0.001299</td>\n",
       "      <td>0.000619</td>\n",
       "      <td>0.000676</td>\n",
       "      <td>0.000270</td>\n",
       "      <td>0.0</td>\n",
       "      <td>{'alpha': 0.0}</td>\n",
       "      <td>-182.714448</td>\n",
       "      <td>-218.161724</td>\n",
       "      <td>-251.155563</td>\n",
       "      <td>-230.926764</td>\n",
       "      <td>...</td>\n",
       "      <td>-221.723998</td>\n",
       "      <td>-202.998494</td>\n",
       "      <td>-308.910929</td>\n",
       "      <td>-277.843192</td>\n",
       "      <td>-252.862523</td>\n",
       "      <td>-294.906327</td>\n",
       "      <td>-207.186270</td>\n",
       "      <td>-241.783576</td>\n",
       "      <td>34.705256</td>\n",
       "      <td>5</td>\n",
       "    </tr>\n",
       "    <tr>\n",
       "      <th>1</th>\n",
       "      <td>0.000883</td>\n",
       "      <td>0.000187</td>\n",
       "      <td>0.000495</td>\n",
       "      <td>0.000078</td>\n",
       "      <td>0.5</td>\n",
       "      <td>{'alpha': 0.5}</td>\n",
       "      <td>-176.480082</td>\n",
       "      <td>-219.313885</td>\n",
       "      <td>-255.745781</td>\n",
       "      <td>-223.147072</td>\n",
       "      <td>...</td>\n",
       "      <td>-215.613016</td>\n",
       "      <td>-204.231750</td>\n",
       "      <td>-300.419578</td>\n",
       "      <td>-276.533853</td>\n",
       "      <td>-256.271364</td>\n",
       "      <td>-295.146438</td>\n",
       "      <td>-207.881111</td>\n",
       "      <td>-238.981276</td>\n",
       "      <td>34.542480</td>\n",
       "      <td>3</td>\n",
       "    </tr>\n",
       "    <tr>\n",
       "      <th>2</th>\n",
       "      <td>0.000729</td>\n",
       "      <td>0.000009</td>\n",
       "      <td>0.000453</td>\n",
       "      <td>0.000005</td>\n",
       "      <td>0.7</td>\n",
       "      <td>{'alpha': 0.7000000000000001}</td>\n",
       "      <td>-174.488680</td>\n",
       "      <td>-219.274328</td>\n",
       "      <td>-256.941083</td>\n",
       "      <td>-221.859760</td>\n",
       "      <td>...</td>\n",
       "      <td>-213.997349</td>\n",
       "      <td>-204.304365</td>\n",
       "      <td>-299.216296</td>\n",
       "      <td>-275.718967</td>\n",
       "      <td>-256.949528</td>\n",
       "      <td>-294.932580</td>\n",
       "      <td>-208.103445</td>\n",
       "      <td>-238.583738</td>\n",
       "      <td>34.707775</td>\n",
       "      <td>2</td>\n",
       "    </tr>\n",
       "    <tr>\n",
       "      <th>3</th>\n",
       "      <td>0.000762</td>\n",
       "      <td>0.000085</td>\n",
       "      <td>0.000468</td>\n",
       "      <td>0.000033</td>\n",
       "      <td>0.8</td>\n",
       "      <td>{'alpha': 0.8}</td>\n",
       "      <td>-173.571161</td>\n",
       "      <td>-219.217224</td>\n",
       "      <td>-257.520301</td>\n",
       "      <td>-221.638873</td>\n",
       "      <td>...</td>\n",
       "      <td>-213.269156</td>\n",
       "      <td>-204.302923</td>\n",
       "      <td>-298.717939</td>\n",
       "      <td>-275.285158</td>\n",
       "      <td>-257.223488</td>\n",
       "      <td>-294.806702</td>\n",
       "      <td>-208.203601</td>\n",
       "      <td>-238.425905</td>\n",
       "      <td>34.783528</td>\n",
       "      <td>1</td>\n",
       "    </tr>\n",
       "    <tr>\n",
       "      <th>4</th>\n",
       "      <td>0.002284</td>\n",
       "      <td>0.003609</td>\n",
       "      <td>0.001517</td>\n",
       "      <td>0.003945</td>\n",
       "      <td>0.3</td>\n",
       "      <td>{'alpha': 0.30000000000000004}</td>\n",
       "      <td>-178.727462</td>\n",
       "      <td>-219.182664</td>\n",
       "      <td>-254.286219</td>\n",
       "      <td>-224.997379</td>\n",
       "      <td>...</td>\n",
       "      <td>-217.537756</td>\n",
       "      <td>-203.991159</td>\n",
       "      <td>-302.024103</td>\n",
       "      <td>-277.226459</td>\n",
       "      <td>-255.329478</td>\n",
       "      <td>-295.271305</td>\n",
       "      <td>-207.619690</td>\n",
       "      <td>-239.525384</td>\n",
       "      <td>34.380930</td>\n",
       "      <td>4</td>\n",
       "    </tr>\n",
       "  </tbody>\n",
       "</table>\n",
       "<p>5 rows × 39 columns</p>\n",
       "</div>"
      ],
      "text/plain": [
       "   mean_fit_time  std_fit_time  mean_score_time  std_score_time  param_alpha  \\\n",
       "0       0.001299      0.000619         0.000676        0.000270          0.0   \n",
       "1       0.000883      0.000187         0.000495        0.000078          0.5   \n",
       "2       0.000729      0.000009         0.000453        0.000005          0.7   \n",
       "3       0.000762      0.000085         0.000468        0.000033          0.8   \n",
       "4       0.002284      0.003609         0.001517        0.003945          0.3   \n",
       "\n",
       "                           params  split0_test_score  split1_test_score  \\\n",
       "0                  {'alpha': 0.0}        -182.714448        -218.161724   \n",
       "1                  {'alpha': 0.5}        -176.480082        -219.313885   \n",
       "2   {'alpha': 0.7000000000000001}        -174.488680        -219.274328   \n",
       "3                  {'alpha': 0.8}        -173.571161        -219.217224   \n",
       "4  {'alpha': 0.30000000000000004}        -178.727462        -219.182664   \n",
       "\n",
       "   split2_test_score  split3_test_score  ...  split23_test_score  \\\n",
       "0        -251.155563        -230.926764  ...         -221.723998   \n",
       "1        -255.745781        -223.147072  ...         -215.613016   \n",
       "2        -256.941083        -221.859760  ...         -213.997349   \n",
       "3        -257.520301        -221.638873  ...         -213.269156   \n",
       "4        -254.286219        -224.997379  ...         -217.537756   \n",
       "\n",
       "   split24_test_score  split25_test_score  split26_test_score  \\\n",
       "0         -202.998494         -308.910929         -277.843192   \n",
       "1         -204.231750         -300.419578         -276.533853   \n",
       "2         -204.304365         -299.216296         -275.718967   \n",
       "3         -204.302923         -298.717939         -275.285158   \n",
       "4         -203.991159         -302.024103         -277.226459   \n",
       "\n",
       "   split27_test_score  split28_test_score  split29_test_score  \\\n",
       "0         -252.862523         -294.906327         -207.186270   \n",
       "1         -256.271364         -295.146438         -207.881111   \n",
       "2         -256.949528         -294.932580         -208.103445   \n",
       "3         -257.223488         -294.806702         -208.203601   \n",
       "4         -255.329478         -295.271305         -207.619690   \n",
       "\n",
       "   mean_test_score  std_test_score  rank_test_score  \n",
       "0      -241.783576       34.705256                5  \n",
       "1      -238.981276       34.542480                3  \n",
       "2      -238.583738       34.707775                2  \n",
       "3      -238.425905       34.783528                1  \n",
       "4      -239.525384       34.380930                4  \n",
       "\n",
       "[5 rows x 39 columns]"
      ]
     },
     "execution_count": 399,
     "metadata": {},
     "output_type": "execute_result"
    }
   ],
   "source": [
    "df2 = pd.DataFrame(random_search.cv_results_)\n",
    "df2"
   ]
  },
  {
   "cell_type": "code",
   "execution_count": 402,
   "metadata": {},
   "outputs": [
    {
     "data": {
      "text/plain": [
       "0.8"
      ]
     },
     "execution_count": 402,
     "metadata": {},
     "output_type": "execute_result"
    }
   ],
   "source": [
    "# Fetch the value from the key value pair in the dictionary, results\n",
    "results.best_params_.get('alpha')"
   ]
  },
  {
   "cell_type": "code",
   "execution_count": 404,
   "metadata": {},
   "outputs": [
    {
     "data": {
      "text/plain": [
       "342.1111164515264"
      ]
     },
     "execution_count": 404,
     "metadata": {},
     "output_type": "execute_result"
    }
   ],
   "source": [
    "# Create and fit the Ridge regression model to the training data with the optimal alpha\n",
    "\n",
    "ridge_model_after_randomcv = Ridge(alpha = results.best_params_.get('alpha')).fit(X_train, y_train)\n",
    "\n",
    "y_test_pred_after_randomcv = ridge_model_after_randomcv.predict(X_test)\n",
    "\n",
    "rmse_test = np.sqrt(mean_squared_error(y_test, y_test_pred_after_randomcv))\n",
    "rmse_test"
   ]
  },
  {
   "cell_type": "code",
   "execution_count": 406,
   "metadata": {},
   "outputs": [
    {
     "data": {
      "text/plain": [
       "0.3798224478702297"
      ]
     },
     "execution_count": 406,
     "metadata": {},
     "output_type": "execute_result"
    }
   ],
   "source": [
    "# Get the r2 score\n",
    "r2_score_test = r2_score(y_test,y_test_pred_after_gridcv)\n",
    "r2_score_test"
   ]
  },
  {
   "cell_type": "code",
   "execution_count": null,
   "metadata": {},
   "outputs": [],
   "source": []
  },
  {
   "cell_type": "code",
   "execution_count": null,
   "metadata": {},
   "outputs": [],
   "source": []
  },
  {
   "cell_type": "code",
   "execution_count": null,
   "metadata": {},
   "outputs": [],
   "source": []
  },
  {
   "cell_type": "code",
   "execution_count": null,
   "metadata": {},
   "outputs": [],
   "source": []
  },
  {
   "cell_type": "code",
   "execution_count": null,
   "metadata": {},
   "outputs": [],
   "source": []
  },
  {
   "cell_type": "code",
   "execution_count": null,
   "metadata": {},
   "outputs": [],
   "source": []
  }
 ],
 "metadata": {
  "colab": {
   "provenance": []
  },
  "kernelspec": {
   "display_name": "Python [conda env:base] *",
   "language": "python",
   "name": "conda-base-py"
  },
  "language_info": {
   "codemirror_mode": {
    "name": "ipython",
    "version": 3
   },
   "file_extension": ".py",
   "mimetype": "text/x-python",
   "name": "python",
   "nbconvert_exporter": "python",
   "pygments_lexer": "ipython3",
   "version": "3.12.7"
  }
 },
 "nbformat": 4,
 "nbformat_minor": 4
}
